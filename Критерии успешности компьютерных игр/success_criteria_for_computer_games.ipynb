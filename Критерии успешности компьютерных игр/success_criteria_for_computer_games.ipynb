{
 "cells": [
  {
   "cell_type": "markdown",
   "id": "dcd85967",
   "metadata": {},
   "source": [
    "# Анализ успешности компьютерной игры"
   ]
  },
  {
   "cell_type": "markdown",
   "id": "56ad87a6",
   "metadata": {},
   "source": [
    "Вы работаете в интернет магазине \"Стримчик\", который продает по всему миру компьютерные игры. Из открытых источник дотсупны исторические данные о продажах игр, оценки пользователей и экспертов, жанры и платформы (например, Xbox или PlayStation). Вам нужно выяснить определяющие успешность игры закономерности. Это позволит сделать ставку на потенциально популярный продукт и спраланировать рекламные компании.\n",
    "Перед вами данные до 2016 года. Представим, что сейчас декабрь 2016 г., и вы планируете компанию на 2017-й. Нужно отработать принцип работы с данными. Неважно прогнозируете ли вы продажи на 2017 год по данным 2016-го или же 2027-го - по данным 2026 года.\n",
    "в наборе данных попадается аббревиатура ESRB (Entertainment Software Rating Board) - это ассоциация, опреляющая возрастной рейтинг компьютерных игр. ESRB оценивает возрастной контент и присваивает ему подходящую возрастную категорию, например, \"Для взрослых\", \"Для детей младшего возраста\" или \"Для подростков\". "
   ]
  },
  {
   "cell_type": "markdown",
   "id": "61182711",
   "metadata": {},
   "source": [
    "План анализа:\n",
    "- Открываем файл с данными и изучаем общую информацию\n",
    "- Предобработка данных\n",
    "- Исследовательский анализ данных\n",
    "- Составляем портрет пользователя каждого региона\n",
    "- Проверяем гипотезы\n",
    "- Делаем общий вывод"
   ]
  },
  {
   "cell_type": "markdown",
   "id": "0d07a68d",
   "metadata": {},
   "source": [
    "## Открываем файл с данными и изучаем общую информацию "
   ]
  },
  {
   "cell_type": "code",
   "execution_count": 1,
   "id": "f51322ca",
   "metadata": {},
   "outputs": [],
   "source": [
    "import pandas as pd # Импортируем необходимые для работы библиотеки\n",
    "import numpy as np\n",
    "import matplotlib.pyplot as plt\n",
    "from scipy import stats as st\n",
    "import seaborn"
   ]
  },
  {
   "cell_type": "code",
   "execution_count": 2,
   "id": "03fb9028",
   "metadata": {},
   "outputs": [],
   "source": [
    "data = pd.read_csv('/datasets/games.csv') # записываем датайрейм из файла в переменную"
   ]
  },
  {
   "cell_type": "code",
   "execution_count": 3,
   "id": "1c792d9d",
   "metadata": {},
   "outputs": [
    {
     "name": "stdout",
     "output_type": "stream",
     "text": [
      "<class 'pandas.core.frame.DataFrame'>\n",
      "RangeIndex: 16715 entries, 0 to 16714\n",
      "Data columns (total 11 columns):\n",
      " #   Column           Non-Null Count  Dtype  \n",
      "---  ------           --------------  -----  \n",
      " 0   Name             16713 non-null  object \n",
      " 1   Platform         16715 non-null  object \n",
      " 2   Year_of_Release  16446 non-null  float64\n",
      " 3   Genre            16713 non-null  object \n",
      " 4   NA_sales         16715 non-null  float64\n",
      " 5   EU_sales         16715 non-null  float64\n",
      " 6   JP_sales         16715 non-null  float64\n",
      " 7   Other_sales      16715 non-null  float64\n",
      " 8   Critic_Score     8137 non-null   float64\n",
      " 9   User_Score       10014 non-null  object \n",
      " 10  Rating           9949 non-null   object \n",
      "dtypes: float64(6), object(5)\n",
      "memory usage: 1.4+ MB\n"
     ]
    }
   ],
   "source": [
    "data.info()"
   ]
  },
  {
   "cell_type": "markdown",
   "id": "d9e19b00",
   "metadata": {},
   "source": [
    "Проанализировав данные, можно сделать вывод: таблица состоит из 11 столбцов:\n",
    "- Name - название игры;\n",
    "- Platform - платформа;\n",
    "- Year_of_Release - год выпуска;\n",
    "- Genre - жанр игры;\n",
    "- NA-sales - продажи в Северной Америке (миллионы проданных копий);\n",
    "- EU-sales - продажи в Европе (миллионы проданных копий);\n",
    "- JP-sales - продажи в Японии (миллионы проданных копий);\n",
    "- Other-sales - продажи в других странах (миллионы проданных копий);\n",
    "- Critic_Score - оценка критиков (максимум 100);\n",
    "- User_Score - оценка пользователей (максимум 10);\n",
    "- Rating - рейтинг от ассоциации ESRB (Entertainment Software Rating Board). Эта ассоциация определяет рейтинг компьютерных игр и присваиваем им походящую возрастную категорию.\n",
    "Максимальное количество строк в таблице 16715, есть пропущенные данные в столбцах: Name, Year_of_Release, Genre, Critic_Score, User_Score,Rating. \n",
    "Есть несоотвествие в типах данных: столбец Year_of_Release имеет тип данных float, переведем данные в тип дата; столбец User_Score тип данных object переведем в тип данных float.\n",
    "Приведем назвнаия столбцов к нижнему регистру. "
   ]
  },
  {
   "cell_type": "code",
   "execution_count": 4,
   "id": "08a46940",
   "metadata": {},
   "outputs": [
    {
     "data": {
      "text/html": [
       "<div>\n",
       "<style scoped>\n",
       "    .dataframe tbody tr th:only-of-type {\n",
       "        vertical-align: middle;\n",
       "    }\n",
       "\n",
       "    .dataframe tbody tr th {\n",
       "        vertical-align: top;\n",
       "    }\n",
       "\n",
       "    .dataframe thead th {\n",
       "        text-align: right;\n",
       "    }\n",
       "</style>\n",
       "<table border=\"1\" class=\"dataframe\">\n",
       "  <thead>\n",
       "    <tr style=\"text-align: right;\">\n",
       "      <th></th>\n",
       "      <th>Name</th>\n",
       "      <th>Platform</th>\n",
       "      <th>Year_of_Release</th>\n",
       "      <th>Genre</th>\n",
       "      <th>NA_sales</th>\n",
       "      <th>EU_sales</th>\n",
       "      <th>JP_sales</th>\n",
       "      <th>Other_sales</th>\n",
       "      <th>Critic_Score</th>\n",
       "      <th>User_Score</th>\n",
       "      <th>Rating</th>\n",
       "    </tr>\n",
       "  </thead>\n",
       "  <tbody>\n",
       "    <tr>\n",
       "      <th>0</th>\n",
       "      <td>Wii Sports</td>\n",
       "      <td>Wii</td>\n",
       "      <td>2006.0</td>\n",
       "      <td>Sports</td>\n",
       "      <td>41.36</td>\n",
       "      <td>28.96</td>\n",
       "      <td>3.77</td>\n",
       "      <td>8.45</td>\n",
       "      <td>76.0</td>\n",
       "      <td>8</td>\n",
       "      <td>E</td>\n",
       "    </tr>\n",
       "    <tr>\n",
       "      <th>1</th>\n",
       "      <td>Super Mario Bros.</td>\n",
       "      <td>NES</td>\n",
       "      <td>1985.0</td>\n",
       "      <td>Platform</td>\n",
       "      <td>29.08</td>\n",
       "      <td>3.58</td>\n",
       "      <td>6.81</td>\n",
       "      <td>0.77</td>\n",
       "      <td>NaN</td>\n",
       "      <td>NaN</td>\n",
       "      <td>NaN</td>\n",
       "    </tr>\n",
       "    <tr>\n",
       "      <th>2</th>\n",
       "      <td>Mario Kart Wii</td>\n",
       "      <td>Wii</td>\n",
       "      <td>2008.0</td>\n",
       "      <td>Racing</td>\n",
       "      <td>15.68</td>\n",
       "      <td>12.76</td>\n",
       "      <td>3.79</td>\n",
       "      <td>3.29</td>\n",
       "      <td>82.0</td>\n",
       "      <td>8.3</td>\n",
       "      <td>E</td>\n",
       "    </tr>\n",
       "    <tr>\n",
       "      <th>3</th>\n",
       "      <td>Wii Sports Resort</td>\n",
       "      <td>Wii</td>\n",
       "      <td>2009.0</td>\n",
       "      <td>Sports</td>\n",
       "      <td>15.61</td>\n",
       "      <td>10.93</td>\n",
       "      <td>3.28</td>\n",
       "      <td>2.95</td>\n",
       "      <td>80.0</td>\n",
       "      <td>8</td>\n",
       "      <td>E</td>\n",
       "    </tr>\n",
       "    <tr>\n",
       "      <th>4</th>\n",
       "      <td>Pokemon Red/Pokemon Blue</td>\n",
       "      <td>GB</td>\n",
       "      <td>1996.0</td>\n",
       "      <td>Role-Playing</td>\n",
       "      <td>11.27</td>\n",
       "      <td>8.89</td>\n",
       "      <td>10.22</td>\n",
       "      <td>1.00</td>\n",
       "      <td>NaN</td>\n",
       "      <td>NaN</td>\n",
       "      <td>NaN</td>\n",
       "    </tr>\n",
       "    <tr>\n",
       "      <th>5</th>\n",
       "      <td>Tetris</td>\n",
       "      <td>GB</td>\n",
       "      <td>1989.0</td>\n",
       "      <td>Puzzle</td>\n",
       "      <td>23.20</td>\n",
       "      <td>2.26</td>\n",
       "      <td>4.22</td>\n",
       "      <td>0.58</td>\n",
       "      <td>NaN</td>\n",
       "      <td>NaN</td>\n",
       "      <td>NaN</td>\n",
       "    </tr>\n",
       "    <tr>\n",
       "      <th>6</th>\n",
       "      <td>New Super Mario Bros.</td>\n",
       "      <td>DS</td>\n",
       "      <td>2006.0</td>\n",
       "      <td>Platform</td>\n",
       "      <td>11.28</td>\n",
       "      <td>9.14</td>\n",
       "      <td>6.50</td>\n",
       "      <td>2.88</td>\n",
       "      <td>89.0</td>\n",
       "      <td>8.5</td>\n",
       "      <td>E</td>\n",
       "    </tr>\n",
       "    <tr>\n",
       "      <th>7</th>\n",
       "      <td>Wii Play</td>\n",
       "      <td>Wii</td>\n",
       "      <td>2006.0</td>\n",
       "      <td>Misc</td>\n",
       "      <td>13.96</td>\n",
       "      <td>9.18</td>\n",
       "      <td>2.93</td>\n",
       "      <td>2.84</td>\n",
       "      <td>58.0</td>\n",
       "      <td>6.6</td>\n",
       "      <td>E</td>\n",
       "    </tr>\n",
       "    <tr>\n",
       "      <th>8</th>\n",
       "      <td>New Super Mario Bros. Wii</td>\n",
       "      <td>Wii</td>\n",
       "      <td>2009.0</td>\n",
       "      <td>Platform</td>\n",
       "      <td>14.44</td>\n",
       "      <td>6.94</td>\n",
       "      <td>4.70</td>\n",
       "      <td>2.24</td>\n",
       "      <td>87.0</td>\n",
       "      <td>8.4</td>\n",
       "      <td>E</td>\n",
       "    </tr>\n",
       "    <tr>\n",
       "      <th>9</th>\n",
       "      <td>Duck Hunt</td>\n",
       "      <td>NES</td>\n",
       "      <td>1984.0</td>\n",
       "      <td>Shooter</td>\n",
       "      <td>26.93</td>\n",
       "      <td>0.63</td>\n",
       "      <td>0.28</td>\n",
       "      <td>0.47</td>\n",
       "      <td>NaN</td>\n",
       "      <td>NaN</td>\n",
       "      <td>NaN</td>\n",
       "    </tr>\n",
       "  </tbody>\n",
       "</table>\n",
       "</div>"
      ],
      "text/plain": [
       "                        Name Platform  Year_of_Release         Genre  \\\n",
       "0                 Wii Sports      Wii           2006.0        Sports   \n",
       "1          Super Mario Bros.      NES           1985.0      Platform   \n",
       "2             Mario Kart Wii      Wii           2008.0        Racing   \n",
       "3          Wii Sports Resort      Wii           2009.0        Sports   \n",
       "4   Pokemon Red/Pokemon Blue       GB           1996.0  Role-Playing   \n",
       "5                     Tetris       GB           1989.0        Puzzle   \n",
       "6      New Super Mario Bros.       DS           2006.0      Platform   \n",
       "7                   Wii Play      Wii           2006.0          Misc   \n",
       "8  New Super Mario Bros. Wii      Wii           2009.0      Platform   \n",
       "9                  Duck Hunt      NES           1984.0       Shooter   \n",
       "\n",
       "   NA_sales  EU_sales  JP_sales  Other_sales  Critic_Score User_Score Rating  \n",
       "0     41.36     28.96      3.77         8.45          76.0          8      E  \n",
       "1     29.08      3.58      6.81         0.77           NaN        NaN    NaN  \n",
       "2     15.68     12.76      3.79         3.29          82.0        8.3      E  \n",
       "3     15.61     10.93      3.28         2.95          80.0          8      E  \n",
       "4     11.27      8.89     10.22         1.00           NaN        NaN    NaN  \n",
       "5     23.20      2.26      4.22         0.58           NaN        NaN    NaN  \n",
       "6     11.28      9.14      6.50         2.88          89.0        8.5      E  \n",
       "7     13.96      9.18      2.93         2.84          58.0        6.6      E  \n",
       "8     14.44      6.94      4.70         2.24          87.0        8.4      E  \n",
       "9     26.93      0.63      0.28         0.47           NaN        NaN    NaN  "
      ]
     },
     "execution_count": 4,
     "metadata": {},
     "output_type": "execute_result"
    }
   ],
   "source": [
    "data.head(10)"
   ]
  },
  {
   "cell_type": "markdown",
   "id": "cf830e28",
   "metadata": {},
   "source": [
    "## Предобработка данных"
   ]
  },
  {
   "cell_type": "code",
   "execution_count": 5,
   "id": "186c56ec",
   "metadata": {},
   "outputs": [
    {
     "name": "stdout",
     "output_type": "stream",
     "text": [
      "Index(['Name', 'Platform', 'Year_of_Release', 'Genre', 'NA_sales', 'EU_sales',\n",
      "       'JP_sales', 'Other_sales', 'Critic_Score', 'User_Score', 'Rating'],\n",
      "      dtype='object')\n"
     ]
    }
   ],
   "source": [
    "print(data.columns) # Заправшиваем названия столбцов"
   ]
  },
  {
   "cell_type": "markdown",
   "id": "59cc0a8d",
   "metadata": {},
   "source": [
    "Для удобства работы с данными приведем все названия столбцов к нижнему регистру"
   ]
  },
  {
   "cell_type": "code",
   "execution_count": 6,
   "id": "4c0a3b40",
   "metadata": {},
   "outputs": [],
   "source": [
    "data.columns=data.columns.str.lower()"
   ]
  },
  {
   "cell_type": "code",
   "execution_count": 7,
   "id": "6691f350",
   "metadata": {},
   "outputs": [
    {
     "name": "stdout",
     "output_type": "stream",
     "text": [
      "Index(['name', 'platform', 'year_of_release', 'genre', 'na_sales', 'eu_sales',\n",
      "       'jp_sales', 'other_sales', 'critic_score', 'user_score', 'rating'],\n",
      "      dtype='object')\n"
     ]
    }
   ],
   "source": [
    "print(data.columns) # Проверяем"
   ]
  },
  {
   "cell_type": "markdown",
   "id": "f4d8ec38",
   "metadata": {},
   "source": [
    "В столбце name всего два пропуска, посмотрим на эти строки."
   ]
  },
  {
   "cell_type": "code",
   "execution_count": 8,
   "id": "d7fce4e1",
   "metadata": {},
   "outputs": [
    {
     "data": {
      "text/html": [
       "<div>\n",
       "<style scoped>\n",
       "    .dataframe tbody tr th:only-of-type {\n",
       "        vertical-align: middle;\n",
       "    }\n",
       "\n",
       "    .dataframe tbody tr th {\n",
       "        vertical-align: top;\n",
       "    }\n",
       "\n",
       "    .dataframe thead th {\n",
       "        text-align: right;\n",
       "    }\n",
       "</style>\n",
       "<table border=\"1\" class=\"dataframe\">\n",
       "  <thead>\n",
       "    <tr style=\"text-align: right;\">\n",
       "      <th></th>\n",
       "      <th>name</th>\n",
       "      <th>platform</th>\n",
       "      <th>year_of_release</th>\n",
       "      <th>genre</th>\n",
       "      <th>na_sales</th>\n",
       "      <th>eu_sales</th>\n",
       "      <th>jp_sales</th>\n",
       "      <th>other_sales</th>\n",
       "      <th>critic_score</th>\n",
       "      <th>user_score</th>\n",
       "      <th>rating</th>\n",
       "    </tr>\n",
       "  </thead>\n",
       "  <tbody>\n",
       "    <tr>\n",
       "      <th>659</th>\n",
       "      <td>NaN</td>\n",
       "      <td>GEN</td>\n",
       "      <td>1993.0</td>\n",
       "      <td>NaN</td>\n",
       "      <td>1.78</td>\n",
       "      <td>0.53</td>\n",
       "      <td>0.00</td>\n",
       "      <td>0.08</td>\n",
       "      <td>NaN</td>\n",
       "      <td>NaN</td>\n",
       "      <td>NaN</td>\n",
       "    </tr>\n",
       "    <tr>\n",
       "      <th>14244</th>\n",
       "      <td>NaN</td>\n",
       "      <td>GEN</td>\n",
       "      <td>1993.0</td>\n",
       "      <td>NaN</td>\n",
       "      <td>0.00</td>\n",
       "      <td>0.00</td>\n",
       "      <td>0.03</td>\n",
       "      <td>0.00</td>\n",
       "      <td>NaN</td>\n",
       "      <td>NaN</td>\n",
       "      <td>NaN</td>\n",
       "    </tr>\n",
       "  </tbody>\n",
       "</table>\n",
       "</div>"
      ],
      "text/plain": [
       "      name platform  year_of_release genre  na_sales  eu_sales  jp_sales  \\\n",
       "659    NaN      GEN           1993.0   NaN      1.78      0.53      0.00   \n",
       "14244  NaN      GEN           1993.0   NaN      0.00      0.00      0.03   \n",
       "\n",
       "       other_sales  critic_score user_score rating  \n",
       "659           0.08           NaN        NaN    NaN  \n",
       "14244         0.00           NaN        NaN    NaN  "
      ]
     },
     "execution_count": 8,
     "metadata": {},
     "output_type": "execute_result"
    }
   ],
   "source": [
    "data.loc[data['name'].isna()] # Смотрю пропуски в столбце name"
   ]
  },
  {
   "cell_type": "markdown",
   "id": "a19fda1d",
   "metadata": {},
   "source": [
    "Пропуски платформы Gen в 1993 году. Почти по всем колонкам пропуск. Продажи маленькие. Нет возможности эти пропуски заполнить.Есть смысл просто удалить эти строки, чтобы не засоряли таблицу."
   ]
  },
  {
   "cell_type": "code",
   "execution_count": 9,
   "id": "3bda767b",
   "metadata": {},
   "outputs": [],
   "source": [
    "data=data.dropna(subset=['name']) # Удаляю в столбце name строки с пропусками"
   ]
  },
  {
   "cell_type": "code",
   "execution_count": 10,
   "id": "3877fdcc",
   "metadata": {},
   "outputs": [
    {
     "data": {
      "text/plain": [
       "0"
      ]
     },
     "execution_count": 10,
     "metadata": {},
     "output_type": "execute_result"
    }
   ],
   "source": [
    "data['name'].isnull().sum() # Проверяем"
   ]
  },
  {
   "cell_type": "markdown",
   "id": "34667e84",
   "metadata": {},
   "source": [
    "Просмотрим пропуски в столбце year_of_release, таких пропусков не много"
   ]
  },
  {
   "cell_type": "code",
   "execution_count": 11,
   "id": "a41cd402",
   "metadata": {},
   "outputs": [],
   "source": [
    "nan_in_year=data.loc[data['year_of_release'].isna()]"
   ]
  },
  {
   "cell_type": "code",
   "execution_count": 12,
   "id": "e9b626b5",
   "metadata": {},
   "outputs": [
    {
     "name": "stdout",
     "output_type": "stream",
     "text": [
      "269\n"
     ]
    }
   ],
   "source": [
    "print(len(nan_in_year))"
   ]
  },
  {
   "cell_type": "code",
   "execution_count": 13,
   "id": "563eb514",
   "metadata": {},
   "outputs": [
    {
     "data": {
      "text/html": [
       "<div>\n",
       "<style scoped>\n",
       "    .dataframe tbody tr th:only-of-type {\n",
       "        vertical-align: middle;\n",
       "    }\n",
       "\n",
       "    .dataframe tbody tr th {\n",
       "        vertical-align: top;\n",
       "    }\n",
       "\n",
       "    .dataframe thead th {\n",
       "        text-align: right;\n",
       "    }\n",
       "</style>\n",
       "<table border=\"1\" class=\"dataframe\">\n",
       "  <thead>\n",
       "    <tr style=\"text-align: right;\">\n",
       "      <th></th>\n",
       "      <th>name</th>\n",
       "      <th>platform</th>\n",
       "      <th>year_of_release</th>\n",
       "      <th>genre</th>\n",
       "      <th>na_sales</th>\n",
       "      <th>eu_sales</th>\n",
       "      <th>jp_sales</th>\n",
       "      <th>other_sales</th>\n",
       "      <th>critic_score</th>\n",
       "      <th>user_score</th>\n",
       "      <th>rating</th>\n",
       "    </tr>\n",
       "  </thead>\n",
       "  <tbody>\n",
       "    <tr>\n",
       "      <th>183</th>\n",
       "      <td>Madden NFL 2004</td>\n",
       "      <td>PS2</td>\n",
       "      <td>NaN</td>\n",
       "      <td>Sports</td>\n",
       "      <td>4.26</td>\n",
       "      <td>0.26</td>\n",
       "      <td>0.01</td>\n",
       "      <td>0.71</td>\n",
       "      <td>94.0</td>\n",
       "      <td>8.5</td>\n",
       "      <td>E</td>\n",
       "    </tr>\n",
       "    <tr>\n",
       "      <th>377</th>\n",
       "      <td>FIFA Soccer 2004</td>\n",
       "      <td>PS2</td>\n",
       "      <td>NaN</td>\n",
       "      <td>Sports</td>\n",
       "      <td>0.59</td>\n",
       "      <td>2.36</td>\n",
       "      <td>0.04</td>\n",
       "      <td>0.51</td>\n",
       "      <td>84.0</td>\n",
       "      <td>6.4</td>\n",
       "      <td>E</td>\n",
       "    </tr>\n",
       "    <tr>\n",
       "      <th>456</th>\n",
       "      <td>LEGO Batman: The Videogame</td>\n",
       "      <td>Wii</td>\n",
       "      <td>NaN</td>\n",
       "      <td>Action</td>\n",
       "      <td>1.80</td>\n",
       "      <td>0.97</td>\n",
       "      <td>0.00</td>\n",
       "      <td>0.29</td>\n",
       "      <td>74.0</td>\n",
       "      <td>7.9</td>\n",
       "      <td>E10+</td>\n",
       "    </tr>\n",
       "    <tr>\n",
       "      <th>475</th>\n",
       "      <td>wwe Smackdown vs. Raw 2006</td>\n",
       "      <td>PS2</td>\n",
       "      <td>NaN</td>\n",
       "      <td>Fighting</td>\n",
       "      <td>1.57</td>\n",
       "      <td>1.02</td>\n",
       "      <td>0.00</td>\n",
       "      <td>0.41</td>\n",
       "      <td>NaN</td>\n",
       "      <td>NaN</td>\n",
       "      <td>NaN</td>\n",
       "    </tr>\n",
       "    <tr>\n",
       "      <th>609</th>\n",
       "      <td>Space Invaders</td>\n",
       "      <td>2600</td>\n",
       "      <td>NaN</td>\n",
       "      <td>Shooter</td>\n",
       "      <td>2.36</td>\n",
       "      <td>0.14</td>\n",
       "      <td>0.00</td>\n",
       "      <td>0.03</td>\n",
       "      <td>NaN</td>\n",
       "      <td>NaN</td>\n",
       "      <td>NaN</td>\n",
       "    </tr>\n",
       "    <tr>\n",
       "      <th>627</th>\n",
       "      <td>Rock Band</td>\n",
       "      <td>X360</td>\n",
       "      <td>NaN</td>\n",
       "      <td>Misc</td>\n",
       "      <td>1.93</td>\n",
       "      <td>0.33</td>\n",
       "      <td>0.00</td>\n",
       "      <td>0.21</td>\n",
       "      <td>92.0</td>\n",
       "      <td>8.2</td>\n",
       "      <td>T</td>\n",
       "    </tr>\n",
       "    <tr>\n",
       "      <th>657</th>\n",
       "      <td>Frogger's Adventures: Temple of the Frog</td>\n",
       "      <td>GBA</td>\n",
       "      <td>NaN</td>\n",
       "      <td>Adventure</td>\n",
       "      <td>2.15</td>\n",
       "      <td>0.18</td>\n",
       "      <td>0.00</td>\n",
       "      <td>0.07</td>\n",
       "      <td>73.0</td>\n",
       "      <td>tbd</td>\n",
       "      <td>E</td>\n",
       "    </tr>\n",
       "    <tr>\n",
       "      <th>678</th>\n",
       "      <td>LEGO Indiana Jones: The Original Adventures</td>\n",
       "      <td>Wii</td>\n",
       "      <td>NaN</td>\n",
       "      <td>Action</td>\n",
       "      <td>1.51</td>\n",
       "      <td>0.61</td>\n",
       "      <td>0.00</td>\n",
       "      <td>0.21</td>\n",
       "      <td>78.0</td>\n",
       "      <td>6.6</td>\n",
       "      <td>E10+</td>\n",
       "    </tr>\n",
       "    <tr>\n",
       "      <th>719</th>\n",
       "      <td>Call of Duty 3</td>\n",
       "      <td>Wii</td>\n",
       "      <td>NaN</td>\n",
       "      <td>Shooter</td>\n",
       "      <td>1.17</td>\n",
       "      <td>0.84</td>\n",
       "      <td>0.00</td>\n",
       "      <td>0.23</td>\n",
       "      <td>69.0</td>\n",
       "      <td>6.7</td>\n",
       "      <td>T</td>\n",
       "    </tr>\n",
       "    <tr>\n",
       "      <th>805</th>\n",
       "      <td>Rock Band</td>\n",
       "      <td>Wii</td>\n",
       "      <td>NaN</td>\n",
       "      <td>Misc</td>\n",
       "      <td>1.33</td>\n",
       "      <td>0.56</td>\n",
       "      <td>0.00</td>\n",
       "      <td>0.20</td>\n",
       "      <td>80.0</td>\n",
       "      <td>6.3</td>\n",
       "      <td>T</td>\n",
       "    </tr>\n",
       "    <tr>\n",
       "      <th>1131</th>\n",
       "      <td>Call of Duty: Black Ops</td>\n",
       "      <td>PC</td>\n",
       "      <td>NaN</td>\n",
       "      <td>Shooter</td>\n",
       "      <td>0.58</td>\n",
       "      <td>0.81</td>\n",
       "      <td>0.00</td>\n",
       "      <td>0.23</td>\n",
       "      <td>81.0</td>\n",
       "      <td>5.2</td>\n",
       "      <td>M</td>\n",
       "    </tr>\n",
       "    <tr>\n",
       "      <th>1142</th>\n",
       "      <td>Rock Band</td>\n",
       "      <td>PS3</td>\n",
       "      <td>NaN</td>\n",
       "      <td>Misc</td>\n",
       "      <td>0.99</td>\n",
       "      <td>0.41</td>\n",
       "      <td>0.00</td>\n",
       "      <td>0.22</td>\n",
       "      <td>92.0</td>\n",
       "      <td>8.4</td>\n",
       "      <td>T</td>\n",
       "    </tr>\n",
       "    <tr>\n",
       "      <th>1301</th>\n",
       "      <td>Triple Play 99</td>\n",
       "      <td>PS</td>\n",
       "      <td>NaN</td>\n",
       "      <td>Sports</td>\n",
       "      <td>0.81</td>\n",
       "      <td>0.55</td>\n",
       "      <td>0.00</td>\n",
       "      <td>0.10</td>\n",
       "      <td>NaN</td>\n",
       "      <td>NaN</td>\n",
       "      <td>NaN</td>\n",
       "    </tr>\n",
       "    <tr>\n",
       "      <th>1506</th>\n",
       "      <td>Adventure</td>\n",
       "      <td>2600</td>\n",
       "      <td>NaN</td>\n",
       "      <td>Adventure</td>\n",
       "      <td>1.21</td>\n",
       "      <td>0.08</td>\n",
       "      <td>0.00</td>\n",
       "      <td>0.01</td>\n",
       "      <td>NaN</td>\n",
       "      <td>NaN</td>\n",
       "      <td>NaN</td>\n",
       "    </tr>\n",
       "    <tr>\n",
       "      <th>1538</th>\n",
       "      <td>LEGO Batman: The Videogame</td>\n",
       "      <td>PSP</td>\n",
       "      <td>NaN</td>\n",
       "      <td>Action</td>\n",
       "      <td>0.57</td>\n",
       "      <td>0.44</td>\n",
       "      <td>0.00</td>\n",
       "      <td>0.27</td>\n",
       "      <td>73.0</td>\n",
       "      <td>7.4</td>\n",
       "      <td>E10+</td>\n",
       "    </tr>\n",
       "  </tbody>\n",
       "</table>\n",
       "</div>"
      ],
      "text/plain": [
       "                                             name platform  year_of_release  \\\n",
       "183                               Madden NFL 2004      PS2              NaN   \n",
       "377                              FIFA Soccer 2004      PS2              NaN   \n",
       "456                    LEGO Batman: The Videogame      Wii              NaN   \n",
       "475                    wwe Smackdown vs. Raw 2006      PS2              NaN   \n",
       "609                                Space Invaders     2600              NaN   \n",
       "627                                     Rock Band     X360              NaN   \n",
       "657      Frogger's Adventures: Temple of the Frog      GBA              NaN   \n",
       "678   LEGO Indiana Jones: The Original Adventures      Wii              NaN   \n",
       "719                                Call of Duty 3      Wii              NaN   \n",
       "805                                     Rock Band      Wii              NaN   \n",
       "1131                      Call of Duty: Black Ops       PC              NaN   \n",
       "1142                                    Rock Band      PS3              NaN   \n",
       "1301                               Triple Play 99       PS              NaN   \n",
       "1506                                    Adventure     2600              NaN   \n",
       "1538                   LEGO Batman: The Videogame      PSP              NaN   \n",
       "\n",
       "          genre  na_sales  eu_sales  jp_sales  other_sales  critic_score  \\\n",
       "183      Sports      4.26      0.26      0.01         0.71          94.0   \n",
       "377      Sports      0.59      2.36      0.04         0.51          84.0   \n",
       "456      Action      1.80      0.97      0.00         0.29          74.0   \n",
       "475    Fighting      1.57      1.02      0.00         0.41           NaN   \n",
       "609     Shooter      2.36      0.14      0.00         0.03           NaN   \n",
       "627        Misc      1.93      0.33      0.00         0.21          92.0   \n",
       "657   Adventure      2.15      0.18      0.00         0.07          73.0   \n",
       "678      Action      1.51      0.61      0.00         0.21          78.0   \n",
       "719     Shooter      1.17      0.84      0.00         0.23          69.0   \n",
       "805        Misc      1.33      0.56      0.00         0.20          80.0   \n",
       "1131    Shooter      0.58      0.81      0.00         0.23          81.0   \n",
       "1142       Misc      0.99      0.41      0.00         0.22          92.0   \n",
       "1301     Sports      0.81      0.55      0.00         0.10           NaN   \n",
       "1506  Adventure      1.21      0.08      0.00         0.01           NaN   \n",
       "1538     Action      0.57      0.44      0.00         0.27          73.0   \n",
       "\n",
       "     user_score rating  \n",
       "183         8.5      E  \n",
       "377         6.4      E  \n",
       "456         7.9   E10+  \n",
       "475         NaN    NaN  \n",
       "609         NaN    NaN  \n",
       "627         8.2      T  \n",
       "657         tbd      E  \n",
       "678         6.6   E10+  \n",
       "719         6.7      T  \n",
       "805         6.3      T  \n",
       "1131        5.2      M  \n",
       "1142        8.4      T  \n",
       "1301        NaN    NaN  \n",
       "1506        NaN    NaN  \n",
       "1538        7.4   E10+  "
      ]
     },
     "execution_count": 13,
     "metadata": {},
     "output_type": "execute_result"
    }
   ],
   "source": [
    "nan_in_year.head(15)"
   ]
  },
  {
   "cell_type": "markdown",
   "id": "61b33064",
   "metadata": {},
   "source": [
    "Т.к. таких пропусков немного, менее 2 % от общего числа строк, удаляем строки с пропущенными данными в этом столбце"
   ]
  },
  {
   "cell_type": "code",
   "execution_count": 14,
   "id": "f85319e9",
   "metadata": {},
   "outputs": [],
   "source": [
    "data=data.dropna(subset=['year_of_release'])"
   ]
  },
  {
   "cell_type": "code",
   "execution_count": 16,
   "id": "e3586038",
   "metadata": {},
   "outputs": [
    {
     "data": {
      "text/plain": [
       "0"
      ]
     },
     "execution_count": 16,
     "metadata": {},
     "output_type": "execute_result"
    }
   ],
   "source": [
    "data['year_of_release'].isna().sum() # Проверяем"
   ]
  },
  {
   "cell_type": "code",
   "execution_count": 17,
   "id": "ae8ba435",
   "metadata": {},
   "outputs": [],
   "source": [
    "# Т.к. год не может быть не целым то меняем тип данных в этом столбце на целый\n",
    "data['year_of_release'] = data['year_of_release'].astype('int')"
   ]
  },
  {
   "cell_type": "markdown",
   "id": "c46e06ab",
   "metadata": {},
   "source": [
    "Считаем пропуска в столбце genre"
   ]
  },
  {
   "cell_type": "code",
   "execution_count": 18,
   "id": "e643c2f3",
   "metadata": {},
   "outputs": [
    {
     "data": {
      "text/plain": [
       "0"
      ]
     },
     "execution_count": 18,
     "metadata": {},
     "output_type": "execute_result"
    }
   ],
   "source": [
    "data['genre'].isna().sum()"
   ]
  },
  {
   "cell_type": "markdown",
   "id": "cc95906c",
   "metadata": {},
   "source": [
    "В столбце в данный момент пропусков нет, соотвественно они были в строках, которые были удалены."
   ]
  },
  {
   "cell_type": "markdown",
   "id": "e83a6748",
   "metadata": {},
   "source": [
    "Смотрим последние три столбца на наличие пропусков"
   ]
  },
  {
   "cell_type": "code",
   "execution_count": 19,
   "id": "e54526e5",
   "metadata": {},
   "outputs": [
    {
     "data": {
      "text/plain": [
       "name                  0\n",
       "platform              0\n",
       "year_of_release       0\n",
       "genre                 0\n",
       "na_sales              0\n",
       "eu_sales              0\n",
       "jp_sales              0\n",
       "other_sales           0\n",
       "critic_score       8461\n",
       "user_score         6605\n",
       "rating             6676\n",
       "dtype: int64"
      ]
     },
     "metadata": {},
     "output_type": "display_data"
    }
   ],
   "source": [
    "display(data.isna().sum())"
   ]
  },
  {
   "cell_type": "markdown",
   "id": "22ca232f",
   "metadata": {},
   "source": [
    "Пропусков слишком много, для того, чтобы их можно было чем-то заменить, соотвественно заполним пропуски маркерами, которые сможет в дальнейшем при необходимости отфильтровать"
   ]
  },
  {
   "cell_type": "code",
   "execution_count": 20,
   "id": "e5cee8da",
   "metadata": {},
   "outputs": [
    {
     "data": {
      "text/plain": [
       "name               0\n",
       "platform           0\n",
       "year_of_release    0\n",
       "genre              0\n",
       "na_sales           0\n",
       "eu_sales           0\n",
       "jp_sales           0\n",
       "other_sales        0\n",
       "critic_score       0\n",
       "user_score         0\n",
       "rating             0\n",
       "dtype: int64"
      ]
     },
     "metadata": {},
     "output_type": "display_data"
    }
   ],
   "source": [
    "data['user_score'].fillna(-10, inplace=True)\n",
    "data['critic_score'].fillna(-10, inplace=True)\n",
    "data['rating'].fillna('ND', inplace=True)\n",
    "display(data.isna().sum()) # проверяем"
   ]
  },
  {
   "cell_type": "code",
   "execution_count": 28,
   "id": "1fc5520b",
   "metadata": {},
   "outputs": [
    {
     "name": "stdout",
     "output_type": "stream",
     "text": [
      "['8' -10 '8.3' '8.5' '6.6' '8.4' '8.6' '7.7' '6.3' '7.4' '8.2' '9' '7.9'\n",
      " '8.1' '8.7' '7.1' '3.4' '5.3' '4.8' '3.2' '8.9' '6.4' '7.8' '7.5' '2.6'\n",
      " '7.2' '9.2' '7' '7.3' '4.3' '7.6' '5.7' '5' '9.1' '6.5' 'tbd' '8.8' '6.9'\n",
      " '9.4' '6.8' '6.1' '6.7' '5.4' '4' '4.9' '4.5' '9.3' '6.2' '4.2' '6' '3.7'\n",
      " '4.1' '5.8' '5.6' '5.5' '4.4' '4.6' '5.9' '3.9' '3.1' '2.9' '5.2' '3.3'\n",
      " '4.7' '5.1' '3.5' '2.5' '1.9' '3' '2.7' '2.2' '2' '9.5' '2.1' '3.6' '2.8'\n",
      " '1.8' '3.8' '0' '1.6' '9.6' '2.4' '1.7' '1.1' '0.3' '1.5' '0.7' '1.2'\n",
      " '2.3' '0.5' '1.3' '0.2' '0.6' '1.4' '0.9' '1' '9.7']\n"
     ]
    }
   ],
   "source": [
    "print(data['user_score'].unique())"
   ]
  },
  {
   "cell_type": "markdown",
   "id": "3189a645",
   "metadata": {},
   "source": [
    "В данных присутствует странное значение tbd. Посмотрим в каких жанрах и в каких количествах присутствует это значение."
   ]
  },
  {
   "cell_type": "code",
   "execution_count": 29,
   "id": "1b05442c",
   "metadata": {},
   "outputs": [
    {
     "data": {
      "text/plain": [
       "-10    6605\n",
       "tbd    2376\n",
       "7.8     322\n",
       "8       285\n",
       "8.2     276\n",
       "       ... \n",
       "1.9       2\n",
       "9.6       2\n",
       "0.9       2\n",
       "0         1\n",
       "9.7       1\n",
       "Name: user_score, Length: 97, dtype: int64"
      ]
     },
     "execution_count": 29,
     "metadata": {},
     "output_type": "execute_result"
    }
   ],
   "source": [
    "data['user_score'].value_counts()"
   ]
  },
  {
   "cell_type": "code",
   "execution_count": 30,
   "id": "0817dea9",
   "metadata": {},
   "outputs": [],
   "source": [
    "tbd = data.query('user_score==\"tbd\"')\n",
    "# Сохраним в переменной все строки датасета в которых присутствует tbd"
   ]
  },
  {
   "cell_type": "code",
   "execution_count": 31,
   "id": "2d8fb7c0",
   "metadata": {},
   "outputs": [],
   "source": [
    "hist_tbd = tbd['genre'].value_counts()\n",
    "# Найдем количество таких строк в разных жанрах"
   ]
  },
  {
   "cell_type": "code",
   "execution_count": 32,
   "id": "3d95e4b8",
   "metadata": {},
   "outputs": [
    {
     "data": {
      "text/plain": [
       "<AxesSubplot:>"
      ]
     },
     "execution_count": 32,
     "metadata": {},
     "output_type": "execute_result"
    },
    {
     "data": {
      "image/png": "[encoded data removed]",
      "text/plain": [
       "<Figure size 432x288 with 1 Axes>"
      ]
     },
     "metadata": {
      "needs_background": "light"
     },
     "output_type": "display_data"
    }
   ],
   "source": [
    "hist_tbd.plot(kind='bar') # Простроим график для наглядности"
   ]
  },
  {
   "cell_type": "markdown",
   "id": "9c89f7fb",
   "metadata": {},
   "source": [
    "По графику делаем вывод, что значение tbd присутствует во всех жанрах и так как не понятно что это за значение, обработаем его как пропуск в данных, т.е. заменим на -10"
   ]
  },
  {
   "cell_type": "code",
   "execution_count": 33,
   "id": "06276277",
   "metadata": {},
   "outputs": [],
   "source": [
    "data.loc[data['user_score'] =='tbd','user_score'] = np.nan\n",
    "# Заменяем tbd на Nan"
   ]
  },
  {
   "cell_type": "markdown",
   "id": "b95dcc10",
   "metadata": {},
   "source": [
    "Заменим значение Nan на маркер -10"
   ]
  },
  {
   "cell_type": "code",
   "execution_count": 34,
   "id": "2a60f300",
   "metadata": {},
   "outputs": [],
   "source": [
    "data['user_score'].fillna(-10, inplace=True)"
   ]
  },
  {
   "cell_type": "code",
   "execution_count": 35,
   "id": "311fb23a",
   "metadata": {},
   "outputs": [],
   "source": [
    "data['user_score'] = data['user_score'].astype('float64')\n",
    "# Меняем тип данных в столбце user_score на вещественный"
   ]
  },
  {
   "cell_type": "code",
   "execution_count": 36,
   "id": "7a8b6612",
   "metadata": {},
   "outputs": [
    {
     "name": "stdout",
     "output_type": "stream",
     "text": [
      "[  8.  -10.    8.3   8.5   6.6   8.4   8.6   7.7   6.3   7.4   8.2   9.\n",
      "   7.9   8.1   8.7   7.1   3.4   5.3   4.8   3.2   8.9   6.4   7.8   7.5\n",
      "   2.6   7.2   9.2   7.    7.3   4.3   7.6   5.7   5.    9.1   6.5   8.8\n",
      "   6.9   9.4   6.8   6.1   6.7   5.4   4.    4.9   4.5   9.3   6.2   4.2\n",
      "   6.    3.7   4.1   5.8   5.6   5.5   4.4   4.6   5.9   3.9   3.1   2.9\n",
      "   5.2   3.3   4.7   5.1   3.5   2.5   1.9   3.    2.7   2.2   2.    9.5\n",
      "   2.1   3.6   2.8   1.8   3.8   0.    1.6   9.6   2.4   1.7   1.1   0.3\n",
      "   1.5   0.7   1.2   2.3   0.5   1.3   0.2   0.6   1.4   0.9   1.    9.7]\n"
     ]
    }
   ],
   "source": [
    "print(data['user_score'].unique()) # Смотрим, что получилось"
   ]
  },
  {
   "cell_type": "code",
   "execution_count": 37,
   "id": "965ccc5f",
   "metadata": {},
   "outputs": [
    {
     "data": {
      "text/plain": [
       "0"
      ]
     },
     "execution_count": 37,
     "metadata": {},
     "output_type": "execute_result"
    }
   ],
   "source": [
    "data['user_score'].isna().sum()\n",
    "# Проверяем количество пропусков"
   ]
  },
  {
   "cell_type": "markdown",
   "id": "b5522de6",
   "metadata": {},
   "source": [
    "Проверяем значения в столбце rating"
   ]
  },
  {
   "cell_type": "code",
   "execution_count": 38,
   "id": "36fffcaf",
   "metadata": {},
   "outputs": [
    {
     "data": {
      "text/plain": [
       "ND      6676\n",
       "E       3921\n",
       "T       2905\n",
       "M       1536\n",
       "E10+    1393\n",
       "EC         8\n",
       "K-A        3\n",
       "AO         1\n",
       "RP         1\n",
       "Name: rating, dtype: int64"
      ]
     },
     "execution_count": 38,
     "metadata": {},
     "output_type": "execute_result"
    }
   ],
   "source": [
    "data['rating'].value_counts()"
   ]
  },
  {
   "cell_type": "markdown",
   "id": "817675e7",
   "metadata": {},
   "source": [
    "В данном столбце могут быть следующие значения:\n",
    "    - EC (Early children) - для детей младшего возраста;\n",
    "    - E (Everyone) - для всех;\n",
    "    - E10 (Everyone 10 and old) - для всех старше 10 лет;\n",
    "    - T (Teen) - подросткам 13-19 лет8\n",
    "    - M (Mature) - от 17 лет;\n",
    "    - AO (Adults Only 18+) - от 18 лет\n",
    "    - RP (Riting Pending) - рейтинг ожидается."
   ]
  },
  {
   "cell_type": "markdown",
   "id": "0efcde46",
   "metadata": {},
   "source": [
    "Кроме объявленных в данном столбце есть еще одно значение К-А. Что это за значение не понятно, но т.к. этих значения всего три, то данные строки можно удалить."
   ]
  },
  {
   "cell_type": "code",
   "execution_count": 39,
   "id": "887d6f54",
   "metadata": {},
   "outputs": [],
   "source": [
    "data = data.query('rating!=\"K-A\"')"
   ]
  },
  {
   "cell_type": "markdown",
   "id": "ebb8bc39",
   "metadata": {},
   "source": [
    "Считаем количество значений в столбце равных NaN"
   ]
  },
  {
   "cell_type": "code",
   "execution_count": 40,
   "id": "6e6d8e1d",
   "metadata": {},
   "outputs": [
    {
     "data": {
      "text/plain": [
       "0"
      ]
     },
     "execution_count": 40,
     "metadata": {},
     "output_type": "execute_result"
    }
   ],
   "source": [
    "data['rating'].isna().sum()"
   ]
  },
  {
   "cell_type": "code",
   "execution_count": 45,
   "id": "005dc78d",
   "metadata": {},
   "outputs": [
    {
     "name": "stdout",
     "output_type": "stream",
     "text": [
      "<class 'pandas.core.frame.DataFrame'>\n",
      "Int64Index: 16441 entries, 0 to 16714\n",
      "Data columns (total 11 columns):\n",
      " #   Column           Non-Null Count  Dtype  \n",
      "---  ------           --------------  -----  \n",
      " 0   name             16441 non-null  object \n",
      " 1   platform         16441 non-null  object \n",
      " 2   year_of_release  16441 non-null  int32  \n",
      " 3   genre            16441 non-null  object \n",
      " 4   na_sales         16441 non-null  float64\n",
      " 5   eu_sales         16441 non-null  float64\n",
      " 6   jp_sales         16441 non-null  float64\n",
      " 7   other_sales      16441 non-null  float64\n",
      " 8   critic_score     16441 non-null  float64\n",
      " 9   user_score       16441 non-null  float64\n",
      " 10  rating           16441 non-null  object \n",
      "dtypes: float64(6), int32(1), object(4)\n",
      "memory usage: 1.4+ MB\n"
     ]
    }
   ],
   "source": [
    "data.info()"
   ]
  },
  {
   "cell_type": "markdown",
   "id": "d94d1f8e",
   "metadata": {},
   "source": [
    "Посчитаем суммарные продажи во сех регионах и запишем данные в отдельный столбец"
   ]
  },
  {
   "cell_type": "code",
   "execution_count": 46,
   "id": "378996e7",
   "metadata": {},
   "outputs": [],
   "source": [
    "data['all_sales'] = data['na_sales'] + data['eu_sales'] + data['jp_sales'] + data['other_sales']\n",
    "# Считаем столбец с суммарной продажей во всех регионах"
   ]
  },
  {
   "cell_type": "code",
   "execution_count": 47,
   "id": "92f7c997",
   "metadata": {},
   "outputs": [
    {
     "data": {
      "text/html": [
       "<div>\n",
       "<style scoped>\n",
       "    .dataframe tbody tr th:only-of-type {\n",
       "        vertical-align: middle;\n",
       "    }\n",
       "\n",
       "    .dataframe tbody tr th {\n",
       "        vertical-align: top;\n",
       "    }\n",
       "\n",
       "    .dataframe thead th {\n",
       "        text-align: right;\n",
       "    }\n",
       "</style>\n",
       "<table border=\"1\" class=\"dataframe\">\n",
       "  <thead>\n",
       "    <tr style=\"text-align: right;\">\n",
       "      <th></th>\n",
       "      <th>name</th>\n",
       "      <th>platform</th>\n",
       "      <th>year_of_release</th>\n",
       "      <th>genre</th>\n",
       "      <th>na_sales</th>\n",
       "      <th>eu_sales</th>\n",
       "      <th>jp_sales</th>\n",
       "      <th>other_sales</th>\n",
       "      <th>critic_score</th>\n",
       "      <th>user_score</th>\n",
       "      <th>rating</th>\n",
       "      <th>all_sales</th>\n",
       "    </tr>\n",
       "  </thead>\n",
       "  <tbody>\n",
       "    <tr>\n",
       "      <th>0</th>\n",
       "      <td>Wii Sports</td>\n",
       "      <td>Wii</td>\n",
       "      <td>2006</td>\n",
       "      <td>Sports</td>\n",
       "      <td>41.36</td>\n",
       "      <td>28.96</td>\n",
       "      <td>3.77</td>\n",
       "      <td>8.45</td>\n",
       "      <td>76.0</td>\n",
       "      <td>8.0</td>\n",
       "      <td>E</td>\n",
       "      <td>82.54</td>\n",
       "    </tr>\n",
       "    <tr>\n",
       "      <th>1</th>\n",
       "      <td>Super Mario Bros.</td>\n",
       "      <td>NES</td>\n",
       "      <td>1985</td>\n",
       "      <td>Platform</td>\n",
       "      <td>29.08</td>\n",
       "      <td>3.58</td>\n",
       "      <td>6.81</td>\n",
       "      <td>0.77</td>\n",
       "      <td>-10.0</td>\n",
       "      <td>-10.0</td>\n",
       "      <td>ND</td>\n",
       "      <td>40.24</td>\n",
       "    </tr>\n",
       "    <tr>\n",
       "      <th>2</th>\n",
       "      <td>Mario Kart Wii</td>\n",
       "      <td>Wii</td>\n",
       "      <td>2008</td>\n",
       "      <td>Racing</td>\n",
       "      <td>15.68</td>\n",
       "      <td>12.76</td>\n",
       "      <td>3.79</td>\n",
       "      <td>3.29</td>\n",
       "      <td>82.0</td>\n",
       "      <td>8.3</td>\n",
       "      <td>E</td>\n",
       "      <td>35.52</td>\n",
       "    </tr>\n",
       "    <tr>\n",
       "      <th>3</th>\n",
       "      <td>Wii Sports Resort</td>\n",
       "      <td>Wii</td>\n",
       "      <td>2009</td>\n",
       "      <td>Sports</td>\n",
       "      <td>15.61</td>\n",
       "      <td>10.93</td>\n",
       "      <td>3.28</td>\n",
       "      <td>2.95</td>\n",
       "      <td>80.0</td>\n",
       "      <td>8.0</td>\n",
       "      <td>E</td>\n",
       "      <td>32.77</td>\n",
       "    </tr>\n",
       "    <tr>\n",
       "      <th>4</th>\n",
       "      <td>Pokemon Red/Pokemon Blue</td>\n",
       "      <td>GB</td>\n",
       "      <td>1996</td>\n",
       "      <td>Role-Playing</td>\n",
       "      <td>11.27</td>\n",
       "      <td>8.89</td>\n",
       "      <td>10.22</td>\n",
       "      <td>1.00</td>\n",
       "      <td>-10.0</td>\n",
       "      <td>-10.0</td>\n",
       "      <td>ND</td>\n",
       "      <td>31.38</td>\n",
       "    </tr>\n",
       "  </tbody>\n",
       "</table>\n",
       "</div>"
      ],
      "text/plain": [
       "                       name platform  year_of_release         genre  na_sales  \\\n",
       "0                Wii Sports      Wii             2006        Sports     41.36   \n",
       "1         Super Mario Bros.      NES             1985      Platform     29.08   \n",
       "2            Mario Kart Wii      Wii             2008        Racing     15.68   \n",
       "3         Wii Sports Resort      Wii             2009        Sports     15.61   \n",
       "4  Pokemon Red/Pokemon Blue       GB             1996  Role-Playing     11.27   \n",
       "\n",
       "   eu_sales  jp_sales  other_sales  critic_score  user_score rating  all_sales  \n",
       "0     28.96      3.77         8.45          76.0         8.0      E      82.54  \n",
       "1      3.58      6.81         0.77         -10.0       -10.0     ND      40.24  \n",
       "2     12.76      3.79         3.29          82.0         8.3      E      35.52  \n",
       "3     10.93      3.28         2.95          80.0         8.0      E      32.77  \n",
       "4      8.89     10.22         1.00         -10.0       -10.0     ND      31.38  "
      ]
     },
     "metadata": {},
     "output_type": "display_data"
    }
   ],
   "source": [
    "display(data.head())"
   ]
  },
  {
   "cell_type": "markdown",
   "id": "a02f8636",
   "metadata": {},
   "source": [
    "### Вывод:\n",
    "Типы данных в столбцах приведены к тем, которые логичны по отношению к данным которые в них находятся. Часть данных пришлось удалить, так как не было никакой возможности их восстановить: было 16715 строк, стало 16441 строки. Удалено всего 2% данных. Пропуски в столбце года релиза игры были заполнены средними значениями в зависимости от платформы. Пропуски в столбцах рейтинга критиков и пользовательского рейтинга были заполнены средними значениями в зависимости от жанра. Все данные, которые невозможно восстановить были заполнены значениями заглушками ND, которые позволят посчитать продажи."
   ]
  },
  {
   "cell_type": "markdown",
   "id": "7498fd5b",
   "metadata": {},
   "source": [
    "## Исследовательский анализ данных"
   ]
  },
  {
   "cell_type": "markdown",
   "id": "0d653f14",
   "metadata": {},
   "source": [
    "Посмотрим сколько игр выпускалось в разные годы, и проанализируем важны ли для нас данные за все периоды"
   ]
  },
  {
   "cell_type": "code",
   "execution_count": 48,
   "id": "d385f9f8",
   "metadata": {},
   "outputs": [
    {
     "data": {
      "text/plain": [
       "<AxesSubplot:title={'center':'График зависимости появления игр от года релиза'}, xlabel='year_of_release'>"
      ]
     },
     "execution_count": 48,
     "metadata": {},
     "output_type": "execute_result"
    },
    {
     "data": {
      "image/png": "[encoded data removed]",
      "text/plain": [
       "<Figure size 720x432 with 1 Axes>"
      ]
     },
     "metadata": {
      "needs_background": "light"
     },
     "output_type": "display_data"
    }
   ],
   "source": [
    "data.groupby('year_of_release')['name'].count().plot(\n",
    "    x='year_of_release', style='-o', figsize=(10,6), \n",
    "    title='График зависимости появления игр от года релиза')"
   ]
  },
  {
   "cell_type": "markdown",
   "id": "1ab44b4e",
   "metadata": {},
   "source": [
    "Как видно из графика до 1995 года игр почти не выходило, поэтому данные с 1985 по 1995 гг не важны. Затем был резкий рос до 2009 года, после наблюдается такой же резкий спад. Далее данные колеблятся в предалах 600 игр в год. Сейчас мы находимся на уровне выпуска новых игр примерно 2002 года. "
   ]
  },
  {
   "cell_type": "markdown",
   "id": "c5e6c617",
   "metadata": {},
   "source": [
    "Посмотрим, как менялись продажи по платформам. Выберем платформы с наибольшими суммарными продажами и построим распределение по годам. Охарактеризуем за какой срок появляются новые и исчезают старые платформы"
   ]
  },
  {
   "cell_type": "code",
   "execution_count": 49,
   "id": "735ae331",
   "metadata": {},
   "outputs": [
    {
     "data": {
      "text/html": [
       "<div>\n",
       "<style scoped>\n",
       "    .dataframe tbody tr th:only-of-type {\n",
       "        vertical-align: middle;\n",
       "    }\n",
       "\n",
       "    .dataframe tbody tr th {\n",
       "        vertical-align: top;\n",
       "    }\n",
       "\n",
       "    .dataframe thead th {\n",
       "        text-align: right;\n",
       "    }\n",
       "</style>\n",
       "<table border=\"1\" class=\"dataframe\">\n",
       "  <thead>\n",
       "    <tr style=\"text-align: right;\">\n",
       "      <th></th>\n",
       "      <th>eu_sales</th>\n",
       "      <th>jp_sales</th>\n",
       "      <th>na_sales</th>\n",
       "      <th>other_sales</th>\n",
       "      <th>all_sales</th>\n",
       "    </tr>\n",
       "    <tr>\n",
       "      <th>platform</th>\n",
       "      <th></th>\n",
       "      <th></th>\n",
       "      <th></th>\n",
       "      <th></th>\n",
       "      <th></th>\n",
       "    </tr>\n",
       "  </thead>\n",
       "  <tbody>\n",
       "    <tr>\n",
       "      <th>2600</th>\n",
       "      <td>4.86</td>\n",
       "      <td>0.00</td>\n",
       "      <td>80.78</td>\n",
       "      <td>0.84</td>\n",
       "      <td>86.48</td>\n",
       "    </tr>\n",
       "    <tr>\n",
       "      <th>3DO</th>\n",
       "      <td>0.00</td>\n",
       "      <td>0.10</td>\n",
       "      <td>0.00</td>\n",
       "      <td>0.00</td>\n",
       "      <td>0.10</td>\n",
       "    </tr>\n",
       "    <tr>\n",
       "      <th>3DS</th>\n",
       "      <td>61.27</td>\n",
       "      <td>100.62</td>\n",
       "      <td>82.65</td>\n",
       "      <td>13.27</td>\n",
       "      <td>257.81</td>\n",
       "    </tr>\n",
       "    <tr>\n",
       "      <th>DC</th>\n",
       "      <td>1.69</td>\n",
       "      <td>8.56</td>\n",
       "      <td>5.43</td>\n",
       "      <td>0.27</td>\n",
       "      <td>15.95</td>\n",
       "    </tr>\n",
       "    <tr>\n",
       "      <th>DS</th>\n",
       "      <td>188.41</td>\n",
       "      <td>175.02</td>\n",
       "      <td>380.31</td>\n",
       "      <td>59.04</td>\n",
       "      <td>802.78</td>\n",
       "    </tr>\n",
       "    <tr>\n",
       "      <th>GB</th>\n",
       "      <td>47.51</td>\n",
       "      <td>85.12</td>\n",
       "      <td>113.64</td>\n",
       "      <td>8.16</td>\n",
       "      <td>254.43</td>\n",
       "    </tr>\n",
       "    <tr>\n",
       "      <th>GBA</th>\n",
       "      <td>74.59</td>\n",
       "      <td>46.56</td>\n",
       "      <td>184.12</td>\n",
       "      <td>7.61</td>\n",
       "      <td>312.88</td>\n",
       "    </tr>\n",
       "    <tr>\n",
       "      <th>GC</th>\n",
       "      <td>38.32</td>\n",
       "      <td>21.34</td>\n",
       "      <td>131.94</td>\n",
       "      <td>5.13</td>\n",
       "      <td>196.73</td>\n",
       "    </tr>\n",
       "    <tr>\n",
       "      <th>GEN</th>\n",
       "      <td>5.52</td>\n",
       "      <td>2.67</td>\n",
       "      <td>19.27</td>\n",
       "      <td>0.89</td>\n",
       "      <td>28.35</td>\n",
       "    </tr>\n",
       "    <tr>\n",
       "      <th>GG</th>\n",
       "      <td>0.00</td>\n",
       "      <td>0.04</td>\n",
       "      <td>0.00</td>\n",
       "      <td>0.00</td>\n",
       "      <td>0.04</td>\n",
       "    </tr>\n",
       "    <tr>\n",
       "      <th>N64</th>\n",
       "      <td>41.03</td>\n",
       "      <td>33.76</td>\n",
       "      <td>138.91</td>\n",
       "      <td>4.31</td>\n",
       "      <td>218.01</td>\n",
       "    </tr>\n",
       "    <tr>\n",
       "      <th>NES</th>\n",
       "      <td>21.15</td>\n",
       "      <td>98.65</td>\n",
       "      <td>125.94</td>\n",
       "      <td>5.31</td>\n",
       "      <td>251.05</td>\n",
       "    </tr>\n",
       "    <tr>\n",
       "      <th>NG</th>\n",
       "      <td>0.00</td>\n",
       "      <td>1.44</td>\n",
       "      <td>0.00</td>\n",
       "      <td>0.00</td>\n",
       "      <td>1.44</td>\n",
       "    </tr>\n",
       "    <tr>\n",
       "      <th>PC</th>\n",
       "      <td>140.26</td>\n",
       "      <td>0.17</td>\n",
       "      <td>91.04</td>\n",
       "      <td>21.88</td>\n",
       "      <td>253.35</td>\n",
       "    </tr>\n",
       "    <tr>\n",
       "      <th>PCFX</th>\n",
       "      <td>0.00</td>\n",
       "      <td>0.03</td>\n",
       "      <td>0.00</td>\n",
       "      <td>0.00</td>\n",
       "      <td>0.03</td>\n",
       "    </tr>\n",
       "    <tr>\n",
       "      <th>PS</th>\n",
       "      <td>212.23</td>\n",
       "      <td>138.32</td>\n",
       "      <td>334.46</td>\n",
       "      <td>40.66</td>\n",
       "      <td>725.67</td>\n",
       "    </tr>\n",
       "    <tr>\n",
       "      <th>PS2</th>\n",
       "      <td>332.63</td>\n",
       "      <td>137.54</td>\n",
       "      <td>572.92</td>\n",
       "      <td>190.47</td>\n",
       "      <td>1233.56</td>\n",
       "    </tr>\n",
       "    <tr>\n",
       "      <th>PS3</th>\n",
       "      <td>327.21</td>\n",
       "      <td>79.41</td>\n",
       "      <td>390.13</td>\n",
       "      <td>134.59</td>\n",
       "      <td>931.34</td>\n",
       "    </tr>\n",
       "    <tr>\n",
       "      <th>PS4</th>\n",
       "      <td>141.09</td>\n",
       "      <td>15.96</td>\n",
       "      <td>108.74</td>\n",
       "      <td>48.35</td>\n",
       "      <td>314.14</td>\n",
       "    </tr>\n",
       "    <tr>\n",
       "      <th>PSP</th>\n",
       "      <td>65.62</td>\n",
       "      <td>75.88</td>\n",
       "      <td>107.27</td>\n",
       "      <td>40.76</td>\n",
       "      <td>289.53</td>\n",
       "    </tr>\n",
       "    <tr>\n",
       "      <th>PSV</th>\n",
       "      <td>13.07</td>\n",
       "      <td>21.84</td>\n",
       "      <td>12.47</td>\n",
       "      <td>6.43</td>\n",
       "      <td>53.81</td>\n",
       "    </tr>\n",
       "    <tr>\n",
       "      <th>SAT</th>\n",
       "      <td>0.54</td>\n",
       "      <td>32.26</td>\n",
       "      <td>0.72</td>\n",
       "      <td>0.07</td>\n",
       "      <td>33.59</td>\n",
       "    </tr>\n",
       "    <tr>\n",
       "      <th>SCD</th>\n",
       "      <td>0.36</td>\n",
       "      <td>0.45</td>\n",
       "      <td>1.00</td>\n",
       "      <td>0.05</td>\n",
       "      <td>1.86</td>\n",
       "    </tr>\n",
       "    <tr>\n",
       "      <th>SNES</th>\n",
       "      <td>19.04</td>\n",
       "      <td>116.55</td>\n",
       "      <td>61.23</td>\n",
       "      <td>3.22</td>\n",
       "      <td>200.04</td>\n",
       "    </tr>\n",
       "    <tr>\n",
       "      <th>TG16</th>\n",
       "      <td>0.00</td>\n",
       "      <td>0.16</td>\n",
       "      <td>0.00</td>\n",
       "      <td>0.00</td>\n",
       "      <td>0.16</td>\n",
       "    </tr>\n",
       "    <tr>\n",
       "      <th>WS</th>\n",
       "      <td>0.00</td>\n",
       "      <td>1.42</td>\n",
       "      <td>0.00</td>\n",
       "      <td>0.00</td>\n",
       "      <td>1.42</td>\n",
       "    </tr>\n",
       "    <tr>\n",
       "      <th>Wii</th>\n",
       "      <td>258.32</td>\n",
       "      <td>68.28</td>\n",
       "      <td>486.87</td>\n",
       "      <td>77.71</td>\n",
       "      <td>891.18</td>\n",
       "    </tr>\n",
       "    <tr>\n",
       "      <th>WiiU</th>\n",
       "      <td>25.13</td>\n",
       "      <td>13.01</td>\n",
       "      <td>38.10</td>\n",
       "      <td>5.95</td>\n",
       "      <td>82.19</td>\n",
       "    </tr>\n",
       "    <tr>\n",
       "      <th>X360</th>\n",
       "      <td>268.32</td>\n",
       "      <td>12.30</td>\n",
       "      <td>595.74</td>\n",
       "      <td>84.88</td>\n",
       "      <td>961.24</td>\n",
       "    </tr>\n",
       "    <tr>\n",
       "      <th>XB</th>\n",
       "      <td>59.65</td>\n",
       "      <td>1.38</td>\n",
       "      <td>182.06</td>\n",
       "      <td>8.48</td>\n",
       "      <td>251.57</td>\n",
       "    </tr>\n",
       "    <tr>\n",
       "      <th>XOne</th>\n",
       "      <td>51.59</td>\n",
       "      <td>0.34</td>\n",
       "      <td>93.12</td>\n",
       "      <td>14.27</td>\n",
       "      <td>159.32</td>\n",
       "    </tr>\n",
       "  </tbody>\n",
       "</table>\n",
       "</div>"
      ],
      "text/plain": [
       "          eu_sales  jp_sales  na_sales  other_sales  all_sales\n",
       "platform                                                      \n",
       "2600          4.86      0.00     80.78         0.84      86.48\n",
       "3DO           0.00      0.10      0.00         0.00       0.10\n",
       "3DS          61.27    100.62     82.65        13.27     257.81\n",
       "DC            1.69      8.56      5.43         0.27      15.95\n",
       "DS          188.41    175.02    380.31        59.04     802.78\n",
       "GB           47.51     85.12    113.64         8.16     254.43\n",
       "GBA          74.59     46.56    184.12         7.61     312.88\n",
       "GC           38.32     21.34    131.94         5.13     196.73\n",
       "GEN           5.52      2.67     19.27         0.89      28.35\n",
       "GG            0.00      0.04      0.00         0.00       0.04\n",
       "N64          41.03     33.76    138.91         4.31     218.01\n",
       "NES          21.15     98.65    125.94         5.31     251.05\n",
       "NG            0.00      1.44      0.00         0.00       1.44\n",
       "PC          140.26      0.17     91.04        21.88     253.35\n",
       "PCFX          0.00      0.03      0.00         0.00       0.03\n",
       "PS          212.23    138.32    334.46        40.66     725.67\n",
       "PS2         332.63    137.54    572.92       190.47    1233.56\n",
       "PS3         327.21     79.41    390.13       134.59     931.34\n",
       "PS4         141.09     15.96    108.74        48.35     314.14\n",
       "PSP          65.62     75.88    107.27        40.76     289.53\n",
       "PSV          13.07     21.84     12.47         6.43      53.81\n",
       "SAT           0.54     32.26      0.72         0.07      33.59\n",
       "SCD           0.36      0.45      1.00         0.05       1.86\n",
       "SNES         19.04    116.55     61.23         3.22     200.04\n",
       "TG16          0.00      0.16      0.00         0.00       0.16\n",
       "WS            0.00      1.42      0.00         0.00       1.42\n",
       "Wii         258.32     68.28    486.87        77.71     891.18\n",
       "WiiU         25.13     13.01     38.10         5.95      82.19\n",
       "X360        268.32     12.30    595.74        84.88     961.24\n",
       "XB           59.65      1.38    182.06         8.48     251.57\n",
       "XOne         51.59      0.34     93.12        14.27     159.32"
      ]
     },
     "execution_count": 49,
     "metadata": {},
     "output_type": "execute_result"
    }
   ],
   "source": [
    "best_saler_platform = data.pivot_table(\n",
    "    index='platform', values=['na_sales', 'eu_sales', 'jp_sales', 'other_sales'],\n",
    "    aggfunc=('sum'))\n",
    "# Создаем сводную таблицу по платформам и продажам по регионам\n",
    "best_saler_platform['all_sales'] = (best_saler_platform['na_sales'] + best_saler_platform['eu_sales'] +\n",
    "    best_saler_platform['jp_sales'] + best_saler_platform['other_sales'])\n",
    "# Создае еще один столбец с общей суммой продаж по всем регионам\n",
    "best_saler_platform"
   ]
  },
  {
   "cell_type": "code",
   "execution_count": 50,
   "id": "d25766ba",
   "metadata": {},
   "outputs": [
    {
     "data": {
      "text/plain": [
       "<AxesSubplot:title={'center':'Выручка каждой платформы в зависиомости от региона и общая'}, xlabel='platform'>"
      ]
     },
     "execution_count": 50,
     "metadata": {},
     "output_type": "execute_result"
    },
    {
     "data": {
      "image/png": "[encoded data removed]",
      "text/plain": [
       "<Figure size 720x504 with 1 Axes>"
      ]
     },
     "metadata": {
      "needs_background": "light"
     },
     "output_type": "display_data"
    }
   ],
   "source": [
    "best_saler_platform.sort_values(\n",
    "    by='all_sales', ascending=False).plot(kind='bar', figsize=(10, 7), \n",
    "    title='Выручка каждой платформы в зависиомости от региона и общая')"
   ]
  },
  {
   "cell_type": "markdown",
   "id": "1ba19ad2",
   "metadata": {},
   "source": [
    "Из сводной таблицы и графика видно, что наибольшую выручку получили платформы PS2, X360m PS3, Wii, DS, PS."
   ]
  },
  {
   "cell_type": "code",
   "execution_count": 51,
   "id": "ea4e2feb",
   "metadata": {},
   "outputs": [],
   "source": [
    "data_platform = data.pivot_table(\n",
    "    index='platform', columns='year_of_release', values='all_sales', aggfunc=('sum'))\n",
    "# Сводная таблица платформ по годам"
   ]
  },
  {
   "cell_type": "code",
   "execution_count": 52,
   "id": "e29ac0fd",
   "metadata": {},
   "outputs": [
    {
     "data": {
      "text/plain": [
       "<AxesSubplot:xlabel='year_of_release', ylabel='platform'>"
      ]
     },
     "execution_count": 52,
     "metadata": {},
     "output_type": "execute_result"
    },
    {
     "data": {
      "image/png": "[encoded data removed]",
      "text/plain": [
       "<Figure size 576x504 with 2 Axes>"
      ]
     },
     "metadata": {
      "needs_background": "light"
     },
     "output_type": "display_data"
    }
   ],
   "source": [
    "plt.figure(figsize=(8,7))\n",
    "seaborn.heatmap(data_platform)"
   ]
  },
  {
   "cell_type": "markdown",
   "id": "7d568934",
   "metadata": {},
   "source": [
    "Из графика можно сделать вывод, что активными платформами на сегодняшний день являются: 3DS, PS3, PS4, X360, XOne, PSV, Wii, WiiU"
   ]
  },
  {
   "cell_type": "code",
   "execution_count": 53,
   "id": "87dcedc3",
   "metadata": {},
   "outputs": [],
   "source": [
    "list_platform = ['DS', 'PS', 'PS2', 'PS3', 'Wii', 'X360']\n",
    "# Список наиболее популярных платформ\n",
    "top_platform = data_platform.query('platform in @list_platform')\n",
    "# Срез наиболее успешных платформ"
   ]
  },
  {
   "cell_type": "code",
   "execution_count": 54,
   "id": "f4936710",
   "metadata": {},
   "outputs": [
    {
     "data": {
      "text/plain": [
       "<AxesSubplot:xlabel='year_of_release', ylabel='platform'>"
      ]
     },
     "execution_count": 54,
     "metadata": {},
     "output_type": "execute_result"
    },
    {
     "data": {
      "image/png": "[encoded data removed]",
      "text/plain": [
       "<Figure size 576x360 with 2 Axes>"
      ]
     },
     "metadata": {
      "needs_background": "light"
     },
     "output_type": "display_data"
    }
   ],
   "source": [
    "plt.figure(figsize=(8,5))\n",
    "seaborn.heatmap(top_platform)"
   ]
  },
  {
   "cell_type": "markdown",
   "id": "fb881ab1",
   "metadata": {},
   "source": [
    "По тепловой карте видно, что платформа в среднем живет 10-12 лет. Пик продаж происходит в среднем через 4-6 лет после начала продаж, т.е. в середине срока жизни платформы. Компания, выпускающая платформы PS как раз и ориентируется на этом срок и к его концу выпускает новую платформу. Интересная платформа DS, которая после выпуска в 1985 году исчезла и в 2004 году вернулась на рынок. В 2005-2006 годах появились сразу три новые платформы: вышла новая версия PS (PS3) и появились новые платформы Wii и X360. Платформа Wii практически с первого года продаж имела высокие продажи, но постепенно ее продажи начали падать и падают до сих пор."
   ]
  },
  {
   "cell_type": "code",
   "execution_count": 55,
   "id": "3e1efe27",
   "metadata": {},
   "outputs": [],
   "source": [
    "actual_data = data.query('year_of_release >= 2013')\n",
    "# делаем срез по году. Принимаем, что для анализа игр на 2017 год считаем актуальными года с 2013"
   ]
  },
  {
   "cell_type": "code",
   "execution_count": 56,
   "id": "752fc5ba",
   "metadata": {},
   "outputs": [
    {
     "data": {
      "text/plain": [
       "<AxesSubplot:title={'center':'Суммарные продажы по платформам с 2013 года'}, xlabel='platform'>"
      ]
     },
     "execution_count": 56,
     "metadata": {},
     "output_type": "execute_result"
    },
    {
     "data": {
      "image/png": "[encoded data removed]",
      "text/plain": [
       "<Figure size 720x288 with 1 Axes>"
      ]
     },
     "metadata": {
      "needs_background": "light"
     },
     "output_type": "display_data"
    }
   ],
   "source": [
    "actual_data.groupby('platform')['all_sales'].sum().sort_values(ascending=False).plot(\n",
    "    figsize=(10,4), kind=\"bar\", title='Суммарные продажы по платформам с 2013 года')"
   ]
  },
  {
   "cell_type": "code",
   "execution_count": 57,
   "id": "56a0a1ba",
   "metadata": {},
   "outputs": [],
   "source": [
    "list_platform = ['3DS', 'PS3', 'PS4', 'X360', 'XOne']\n",
    "# Список активных платформ"
   ]
  },
  {
   "cell_type": "code",
   "execution_count": 58,
   "id": "397f83ef",
   "metadata": {},
   "outputs": [],
   "source": [
    "top_platform = data_platform.query('platform in @list_platform')\n",
    "# Срез по активным платформам"
   ]
  },
  {
   "cell_type": "code",
   "execution_count": 59,
   "id": "65f56474",
   "metadata": {},
   "outputs": [
    {
     "data": {
      "text/plain": [
       "<AxesSubplot:xlabel='year_of_release', ylabel='platform'>"
      ]
     },
     "execution_count": 59,
     "metadata": {},
     "output_type": "execute_result"
    },
    {
     "data": {
      "image/png": "[encoded data removed]",
      "text/plain": [
       "<Figure size 576x360 with 2 Axes>"
      ]
     },
     "metadata": {
      "needs_background": "light"
     },
     "output_type": "display_data"
    }
   ],
   "source": [
    "plt.figure(figsize=(8, 5))\n",
    "seaborn.heatmap(top_platform)"
   ]
  },
  {
   "cell_type": "markdown",
   "id": "363fbdee",
   "metadata": {},
   "source": [
    "Выше находится график активных платформ за актуальный период. По нему видно, что актуальной платформой можно назвить платформу PS4. Продажи ее только в этом году начали падать. Это значит, что примерно через год выйдет следующая платформа этой компании. "
   ]
  },
  {
   "cell_type": "markdown",
   "id": "1cf84afc",
   "metadata": {},
   "source": [
    "Построить график \"ящик с усами\" по глобальным продажам каждой игры и разбивкой по платформам. Велика ли разница в продажах? А в средних продажах на разных платформах? описать результат"
   ]
  },
  {
   "cell_type": "code",
   "execution_count": 60,
   "id": "5340a9d1",
   "metadata": {},
   "outputs": [],
   "source": [
    "actual_data = data.query('platform in @list_platform and year_of_release >= 2013')"
   ]
  },
  {
   "cell_type": "code",
   "execution_count": 61,
   "id": "136460e4",
   "metadata": {},
   "outputs": [
    {
     "data": {
      "text/html": [
       "<div>\n",
       "<style scoped>\n",
       "    .dataframe tbody tr th:only-of-type {\n",
       "        vertical-align: middle;\n",
       "    }\n",
       "\n",
       "    .dataframe tbody tr th {\n",
       "        vertical-align: top;\n",
       "    }\n",
       "\n",
       "    .dataframe thead th {\n",
       "        text-align: right;\n",
       "    }\n",
       "</style>\n",
       "<table border=\"1\" class=\"dataframe\">\n",
       "  <thead>\n",
       "    <tr style=\"text-align: right;\">\n",
       "      <th></th>\n",
       "      <th>name</th>\n",
       "      <th>platform</th>\n",
       "      <th>year_of_release</th>\n",
       "      <th>genre</th>\n",
       "      <th>na_sales</th>\n",
       "      <th>eu_sales</th>\n",
       "      <th>jp_sales</th>\n",
       "      <th>other_sales</th>\n",
       "      <th>critic_score</th>\n",
       "      <th>user_score</th>\n",
       "      <th>rating</th>\n",
       "      <th>all_sales</th>\n",
       "    </tr>\n",
       "  </thead>\n",
       "  <tbody>\n",
       "    <tr>\n",
       "      <th>16</th>\n",
       "      <td>Grand Theft Auto V</td>\n",
       "      <td>PS3</td>\n",
       "      <td>2013</td>\n",
       "      <td>Action</td>\n",
       "      <td>7.02</td>\n",
       "      <td>9.09</td>\n",
       "      <td>0.98</td>\n",
       "      <td>3.96</td>\n",
       "      <td>97.0</td>\n",
       "      <td>8.2</td>\n",
       "      <td>M</td>\n",
       "      <td>21.05</td>\n",
       "    </tr>\n",
       "    <tr>\n",
       "      <th>23</th>\n",
       "      <td>Grand Theft Auto V</td>\n",
       "      <td>X360</td>\n",
       "      <td>2013</td>\n",
       "      <td>Action</td>\n",
       "      <td>9.66</td>\n",
       "      <td>5.14</td>\n",
       "      <td>0.06</td>\n",
       "      <td>1.41</td>\n",
       "      <td>97.0</td>\n",
       "      <td>8.1</td>\n",
       "      <td>M</td>\n",
       "      <td>16.27</td>\n",
       "    </tr>\n",
       "    <tr>\n",
       "      <th>31</th>\n",
       "      <td>Call of Duty: Black Ops 3</td>\n",
       "      <td>PS4</td>\n",
       "      <td>2015</td>\n",
       "      <td>Shooter</td>\n",
       "      <td>6.03</td>\n",
       "      <td>5.86</td>\n",
       "      <td>0.36</td>\n",
       "      <td>2.38</td>\n",
       "      <td>-10.0</td>\n",
       "      <td>-10.0</td>\n",
       "      <td>ND</td>\n",
       "      <td>14.63</td>\n",
       "    </tr>\n",
       "    <tr>\n",
       "      <th>33</th>\n",
       "      <td>Pokemon X/Pokemon Y</td>\n",
       "      <td>3DS</td>\n",
       "      <td>2013</td>\n",
       "      <td>Role-Playing</td>\n",
       "      <td>5.28</td>\n",
       "      <td>4.19</td>\n",
       "      <td>4.35</td>\n",
       "      <td>0.78</td>\n",
       "      <td>-10.0</td>\n",
       "      <td>-10.0</td>\n",
       "      <td>ND</td>\n",
       "      <td>14.60</td>\n",
       "    </tr>\n",
       "    <tr>\n",
       "      <th>42</th>\n",
       "      <td>Grand Theft Auto V</td>\n",
       "      <td>PS4</td>\n",
       "      <td>2014</td>\n",
       "      <td>Action</td>\n",
       "      <td>3.96</td>\n",
       "      <td>6.31</td>\n",
       "      <td>0.38</td>\n",
       "      <td>1.97</td>\n",
       "      <td>97.0</td>\n",
       "      <td>8.3</td>\n",
       "      <td>M</td>\n",
       "      <td>12.62</td>\n",
       "    </tr>\n",
       "  </tbody>\n",
       "</table>\n",
       "</div>"
      ],
      "text/plain": [
       "                         name platform  year_of_release         genre  \\\n",
       "16         Grand Theft Auto V      PS3             2013        Action   \n",
       "23         Grand Theft Auto V     X360             2013        Action   \n",
       "31  Call of Duty: Black Ops 3      PS4             2015       Shooter   \n",
       "33        Pokemon X/Pokemon Y      3DS             2013  Role-Playing   \n",
       "42         Grand Theft Auto V      PS4             2014        Action   \n",
       "\n",
       "    na_sales  eu_sales  jp_sales  other_sales  critic_score  user_score  \\\n",
       "16      7.02      9.09      0.98         3.96          97.0         8.2   \n",
       "23      9.66      5.14      0.06         1.41          97.0         8.1   \n",
       "31      6.03      5.86      0.36         2.38         -10.0       -10.0   \n",
       "33      5.28      4.19      4.35         0.78         -10.0       -10.0   \n",
       "42      3.96      6.31      0.38         1.97          97.0         8.3   \n",
       "\n",
       "   rating  all_sales  \n",
       "16      M      21.05  \n",
       "23      M      16.27  \n",
       "31     ND      14.63  \n",
       "33     ND      14.60  \n",
       "42      M      12.62  "
      ]
     },
     "execution_count": 61,
     "metadata": {},
     "output_type": "execute_result"
    }
   ],
   "source": [
    "actual_data.head()"
   ]
  },
  {
   "cell_type": "code",
   "execution_count": 62,
   "id": "f0f52977",
   "metadata": {},
   "outputs": [
    {
     "data": {
      "text/plain": [
       "<AxesSubplot:xlabel='platform', ylabel='all_sales'>"
      ]
     },
     "execution_count": 62,
     "metadata": {},
     "output_type": "execute_result"
    },
    {
     "data": {
      "image/png": "[encoded data removed]",
      "text/plain": [
       "<Figure size 1080x720 with 1 Axes>"
      ]
     },
     "metadata": {
      "needs_background": "light"
     },
     "output_type": "display_data"
    }
   ],
   "source": [
    "# Строим график \"Ящик с усами\"\n",
    "plt.figure(figsize=(15,10))\n",
    "plt.ylim(0,3)\n",
    "seaborn.boxplot(x='platform', y='all_sales', data=data)"
   ]
  },
  {
   "cell_type": "markdown",
   "id": "152af286",
   "metadata": {},
   "source": [
    "Межквартильный размах размах очень похож у платформ X360, PS3, PS4, PS, XOne. У них примерно одинаковая медиана около 0.28 млн. Третий квартиль заканчивается примерно 0.7 млн. Все распределения платформ скошены вправо. Можно сказать, что у всех ящиков медиана лежит левее среднего значения. У компаний, к которым пользовательский интерес ниже, имеют медиану (второй квартиль) около 0.1-0.2."
   ]
  },
  {
   "cell_type": "code",
   "execution_count": 63,
   "id": "2794094e",
   "metadata": {},
   "outputs": [
    {
     "data": {
      "text/plain": [
       "<AxesSubplot:xlabel='platform', ylabel='all_sales'>"
      ]
     },
     "execution_count": 63,
     "metadata": {},
     "output_type": "execute_result"
    },
    {
     "data": {
      "image/png": "[encoded data removed]",
      "text/plain": [
       "<Figure size 1080x720 with 1 Axes>"
      ]
     },
     "metadata": {
      "needs_background": "light"
     },
     "output_type": "display_data"
    }
   ],
   "source": [
    "plt.figure(figsize=(15,10))\n",
    "plt.ylim(0,3)\n",
    "seaborn.boxplot(x='platform', y='all_sales', data=actual_data)"
   ]
  },
  {
   "cell_type": "markdown",
   "id": "645c513b",
   "metadata": {},
   "source": [
    "Анализируя \"ящики с усами\" различных платформ можно увидеть, что они похожи, за исключением платформы 3DS. У нее третий квартиль меньше, чем у остальных. У всех остальных платформ медиана продаж почти одинаковая. Они все скошены вправо."
   ]
  },
  {
   "cell_type": "code",
   "execution_count": 64,
   "id": "5b1e96c0",
   "metadata": {},
   "outputs": [],
   "source": [
    "mean_sales = actual_data.groupby('platform')['all_sales'].mean().sort_values(ascending=False)\n",
    "# Среднее значение глобальных продаж каждой игры и разбивкой по платформам"
   ]
  },
  {
   "cell_type": "code",
   "execution_count": 65,
   "id": "34a6ff11",
   "metadata": {},
   "outputs": [],
   "source": [
    "median_sales = actual_data.groupby('platform')['all_sales'].median().sort_values(ascending=False)\n",
    "# Медианное значение глобальных продаж каждой игры и разбивкой по платформам"
   ]
  },
  {
   "cell_type": "code",
   "execution_count": 66,
   "id": "8d9ffe12",
   "metadata": {},
   "outputs": [
    {
     "data": {
      "text/plain": [
       "<AxesSubplot:title={'center':'Соотношение среднего и медианного значений продаж по каждой приставке'}, xlabel='platform'>"
      ]
     },
     "execution_count": 66,
     "metadata": {},
     "output_type": "execute_result"
    },
    {
     "data": {
      "image/png": "[encoded data removed]",
      "text/plain": [
       "<Figure size 936x432 with 1 Axes>"
      ]
     },
     "metadata": {
      "needs_background": "light"
     },
     "output_type": "display_data"
    }
   ],
   "source": [
    "ax = mean_sales.plot(y='platform', figsize=(13,6), kind='bar', label='mean', alpha=0.5)\n",
    "median_sales.plot(y='platform', grid=True, figsize=(13,6), kind='bar', label='median', \n",
    "                  ax=ax, title='Соотношение среднего и медианного значений продаж по каждой приставке')"
   ]
  },
  {
   "cell_type": "markdown",
   "id": "1e1ee70e",
   "metadata": {},
   "source": [
    "Медианные значения сильно отличаются от средних. Везде медиана ниже среднего. Медиана лежит левее среднего. По гистограмме видно, что медиана меньше среднего в 2-3 раза."
   ]
  },
  {
   "cell_type": "markdown",
   "id": "852e7abe",
   "metadata": {},
   "source": [
    "Посмостреть как влияют на продажи внутри одной популярной платформы отзывы пользователей и критиков. Построить диаграмму рассеяния и посчитать корреляцию между отзывами и продажами. Рассмотрит популярную платформу PS3 "
   ]
  },
  {
   "cell_type": "code",
   "execution_count": 67,
   "id": "cf5f2484",
   "metadata": {},
   "outputs": [
    {
     "data": {
      "text/plain": [
       "<AxesSubplot:title={'center':'Диаграмма рессеяния зависимости продаж платформы PS3 от отзывов критиков'}, xlabel='critic_score', ylabel='all_sales'>"
      ]
     },
     "execution_count": 67,
     "metadata": {},
     "output_type": "execute_result"
    },
    {
     "data": {
      "image/png": "[encoded data removed]",
      "text/plain": [
       "<Figure size 432x288 with 1 Axes>"
      ]
     },
     "metadata": {
      "needs_background": "light"
     },
     "output_type": "display_data"
    }
   ],
   "source": [
    "actual_data.query('platform==\"PS3\" and all_sales <= 1.7').sort_values(\n",
    "    by='critic_score', ascending=True).plot(kind='scatter', x='critic_score', y='all_sales',\n",
    "                                           title='Диаграмма рессеяния зависимости продаж платформы PS3 от отзывов критиков')"
   ]
  },
  {
   "cell_type": "code",
   "execution_count": 68,
   "id": "ea7c7685",
   "metadata": {},
   "outputs": [
    {
     "data": {
      "text/plain": [
       "<AxesSubplot:title={'center':'Диаграмма рессеяния зависимости продаж платформы PS3 от отзывов пользователей'}, xlabel='user_score', ylabel='all_sales'>"
      ]
     },
     "execution_count": 68,
     "metadata": {},
     "output_type": "execute_result"
    },
    {
     "data": {
      "image/png": "[encoded data removed]",
      "text/plain": [
       "<Figure size 432x288 with 1 Axes>"
      ]
     },
     "metadata": {
      "needs_background": "light"
     },
     "output_type": "display_data"
    }
   ],
   "source": [
    "actual_data.query('platform==\"PS3\" and all_sales <= 1.7').sort_values(\n",
    "    by='user_score', ascending=True).plot(kind='scatter', x='user_score', y='all_sales',\n",
    "                                           title='Диаграмма рессеяния зависимости продаж платформы PS3 от отзывов пользователей')"
   ]
  },
  {
   "cell_type": "markdown",
   "id": "99889453",
   "metadata": {},
   "source": [
    "По графикам видно, что есть зависимость между оценкой критиков и пользователей, но не большая. Чем больше балл, тем больше продажи. Положительная корреляция."
   ]
  },
  {
   "cell_type": "code",
   "execution_count": 69,
   "id": "e44f5fd5",
   "metadata": {},
   "outputs": [
    {
     "data": {
      "text/plain": [
       "0.022690943271124135"
      ]
     },
     "execution_count": 69,
     "metadata": {},
     "output_type": "execute_result"
    }
   ],
   "source": [
    "ps3_actual = actual_data.query('platform==\"PS3\" and user_score!=-10 and critic_score!=-10')\n",
    "# Корреляция Пирсона между продажами и отзывами пользователей\n",
    "ps3_actual['all_sales'].corr(ps3_actual['user_score'])"
   ]
  },
  {
   "cell_type": "code",
   "execution_count": 70,
   "id": "3f50bac8",
   "metadata": {},
   "outputs": [
    {
     "data": {
      "text/plain": [
       "0.33380663565061736"
      ]
     },
     "execution_count": 70,
     "metadata": {},
     "output_type": "execute_result"
    }
   ],
   "source": [
    "# Корреляция Пирсона между продажами и отзывами критиков\n",
    "ps3_actual['all_sales'].corr(ps3_actual['critic_score'])"
   ]
  },
  {
   "cell_type": "markdown",
   "id": "ced168f4",
   "metadata": {},
   "source": [
    "По данным корреляции можно сделать вывод, что зависимость между продажами и отзывами критиков есть, но она не велика. Корреляция положительная, следовательно, чем лучше отзыв критиков, тем выше продажи. Отзывы пользователей еще меньше влияют на продажи, чем отзывы критиков."
   ]
  },
  {
   "cell_type": "markdown",
   "id": "fae2d9ed",
   "metadata": {},
   "source": [
    "Проверим корреляцию по данным других платформ"
   ]
  },
  {
   "cell_type": "code",
   "execution_count": 71,
   "id": "cdbf9c9a",
   "metadata": {},
   "outputs": [
    {
     "name": "stdout",
     "output_type": "stream",
     "text": [
      "Корреляция по отзывам пользователей платформы 3DS= 0.27299043669424444\n",
      "Корреляция по отзывам критиков платформы 3DS= 0.3392349287853147\n",
      "-------------------------\n",
      "Корреляция по отзывам пользователей платформы PS3= 0.022690943271124135\n",
      "Корреляция по отзывам критиков платформы PS3= 0.33380663565061736\n",
      "-------------------------\n",
      "Корреляция по отзывам пользователей платформы PS4= -0.03362497596528882\n",
      "Корреляция по отзывам критиков платформы PS4= 0.4058948014583661\n",
      "-------------------------\n",
      "Корреляция по отзывам пользователей платформы X360= -0.006238179532306294\n",
      "Корреляция по отзывам критиков платформы X360= 0.3503445460228666\n",
      "-------------------------\n",
      "Корреляция по отзывам пользователей платформы XOne= -0.09400318326920862\n",
      "Корреляция по отзывам критиков платформы XOne= 0.41042203561296364\n",
      "-------------------------\n"
     ]
    }
   ],
   "source": [
    "for name_platform in list_platform:\n",
    "    name_actual = actual_data.query('platform==@name_platform and user_score!=-10 and critic_score!=-10')\n",
    "# Корреляция Пирсона между продажами и отзывами пользователей\n",
    "    print(f'Корреляция по отзывам пользователей платформы {name_platform}=',\n",
    "          name_actual['all_sales'].corr(name_actual['user_score']))\n",
    "    print(f'Корреляция по отзывам критиков платформы {name_platform}=',\n",
    "          name_actual['all_sales'].corr(name_actual['critic_score']))\n",
    "    print('-------------------------')"
   ]
  },
  {
   "cell_type": "markdown",
   "id": "89e95af4",
   "metadata": {},
   "source": [
    "По всем актуальным платформам по корреляции можно сделать вывод, что отзывы критиков по всем платформам мало влияют на продажи, корреляция не превышает 0.41. Отзывы пользователей еще меньше влияют на продажи, чем отзывы критиков, самый высокий коэффициент корреляции по платформе 3DS составляет 0.27. По трем платформам корреляция продаж от отзывов пользователей сообще отрицательная, т.е. чем выше отзыв пользователей, тем меньше продажи. Этими платформам являются PS4, X360, XOne"
   ]
  },
  {
   "cell_type": "markdown",
   "id": "36c647bf",
   "metadata": {},
   "source": [
    "Постмотрим на общее распределение игр по жанрам. Какие жанры являются сами прибыльными? Выделяются ли жанры с высокими и низмики продажами?"
   ]
  },
  {
   "cell_type": "code",
   "execution_count": 72,
   "id": "13d495e4",
   "metadata": {},
   "outputs": [],
   "source": [
    "median_sale_genre = actual_data.groupby('genre')['all_sales'].median().sort_values(ascending=False)\n",
    "count_genre = actual_data.groupby('genre')['all_sales'].count().sort_values(ascending=False)"
   ]
  },
  {
   "cell_type": "code",
   "execution_count": 73,
   "id": "6be97ca8",
   "metadata": {},
   "outputs": [
    {
     "data": {
      "text/plain": [
       "<AxesSubplot:title={'center':'Распределение по жанрам с количеством продаж'}, xlabel='genre'>"
      ]
     },
     "execution_count": 73,
     "metadata": {},
     "output_type": "execute_result"
    },
    {
     "data": {
      "image/png": "[encoded data removed]",
      "text/plain": [
       "<Figure size 720x432 with 1 Axes>"
      ]
     },
     "metadata": {
      "needs_background": "light"
     },
     "output_type": "display_data"
    }
   ],
   "source": [
    "count_genre.plot(y='genre', grid=True, figsize=(10,6), kind='bar', \n",
    "                 title='Распределение по жанрам с количеством продаж')"
   ]
  },
  {
   "cell_type": "markdown",
   "id": "3c53d00d",
   "metadata": {},
   "source": [
    "Больше всего пользователей покупают игры в жанре Action, а меньше всего игры в жанре pazzle, strategy. Разница в количестве продаж почти в 6,5 раз. Следом за Action по популярности идет жанр Role-Playing, потом Sports. "
   ]
  },
  {
   "cell_type": "code",
   "execution_count": 74,
   "id": "d404f06b",
   "metadata": {},
   "outputs": [
    {
     "data": {
      "text/plain": [
       "<AxesSubplot:title={'center':'Распределение по жанрам и глобальным медианным продажам'}, xlabel='genre'>"
      ]
     },
     "execution_count": 74,
     "metadata": {},
     "output_type": "execute_result"
    },
    {
     "data": {
      "image/png": "[encoded data removed]",
      "text/plain": [
       "<Figure size 720x432 with 1 Axes>"
      ]
     },
     "metadata": {
      "needs_background": "light"
     },
     "output_type": "display_data"
    }
   ],
   "source": [
    "median_sale_genre.plot(y='genre', grid=True, figsize=(10,6), kind='bar', alpha=0.5,\n",
    "                      title='Распределение по жанрам и глобальным медианным продажам')"
   ]
  },
  {
   "cell_type": "markdown",
   "id": "eaf1bff7",
   "metadata": {},
   "source": [
    "Что касается выручки от продаж, то самые высокие доходы имеют жанры shooter, sport, platform а самый покупаемый жанр Action по выручке занимает лишь 7 место. Меньше всего выручки приносит жанр Adventure.  "
   ]
  },
  {
   "cell_type": "markdown",
   "id": "61d1f077",
   "metadata": {},
   "source": [
    "## Составьте портрет пользователя каждого региона"
   ]
  },
  {
   "cell_type": "markdown",
   "id": "7241237f",
   "metadata": {},
   "source": [
    "Определяем для пользователя каждого региона (NA, EU, JP) самые популярные платформы (топ-5)"
   ]
  },
  {
   "cell_type": "code",
   "execution_count": 75,
   "id": "5e7558a2",
   "metadata": {},
   "outputs": [],
   "source": [
    "na_sales_platform = actual_data.pivot_table(\n",
    "    index='platform', values=['na_sales', 'all_sales'], aggfunc=('sum'))"
   ]
  },
  {
   "cell_type": "code",
   "execution_count": 76,
   "id": "a00a7490",
   "metadata": {},
   "outputs": [
    {
     "data": {
      "text/html": [
       "<div>\n",
       "<style scoped>\n",
       "    .dataframe tbody tr th:only-of-type {\n",
       "        vertical-align: middle;\n",
       "    }\n",
       "\n",
       "    .dataframe tbody tr th {\n",
       "        vertical-align: top;\n",
       "    }\n",
       "\n",
       "    .dataframe thead th {\n",
       "        text-align: right;\n",
       "    }\n",
       "</style>\n",
       "<table border=\"1\" class=\"dataframe\">\n",
       "  <thead>\n",
       "    <tr style=\"text-align: right;\">\n",
       "      <th></th>\n",
       "      <th>all_sales</th>\n",
       "      <th>na_sales</th>\n",
       "    </tr>\n",
       "    <tr>\n",
       "      <th>platform</th>\n",
       "      <th></th>\n",
       "      <th></th>\n",
       "    </tr>\n",
       "  </thead>\n",
       "  <tbody>\n",
       "    <tr>\n",
       "      <th>PS4</th>\n",
       "      <td>314.14</td>\n",
       "      <td>108.74</td>\n",
       "    </tr>\n",
       "    <tr>\n",
       "      <th>XOne</th>\n",
       "      <td>159.32</td>\n",
       "      <td>93.12</td>\n",
       "    </tr>\n",
       "    <tr>\n",
       "      <th>X360</th>\n",
       "      <td>136.80</td>\n",
       "      <td>81.66</td>\n",
       "    </tr>\n",
       "    <tr>\n",
       "      <th>PS3</th>\n",
       "      <td>181.43</td>\n",
       "      <td>63.50</td>\n",
       "    </tr>\n",
       "    <tr>\n",
       "      <th>3DS</th>\n",
       "      <td>143.25</td>\n",
       "      <td>38.20</td>\n",
       "    </tr>\n",
       "  </tbody>\n",
       "</table>\n",
       "</div>"
      ],
      "text/plain": [
       "          all_sales  na_sales\n",
       "platform                     \n",
       "PS4          314.14    108.74\n",
       "XOne         159.32     93.12\n",
       "X360         136.80     81.66\n",
       "PS3          181.43     63.50\n",
       "3DS          143.25     38.20"
      ]
     },
     "execution_count": 76,
     "metadata": {},
     "output_type": "execute_result"
    }
   ],
   "source": [
    "na_sales_platform = na_sales_platform.sort_values(by='na_sales', ascending=False).head(5)\n",
    "na_sales_platform"
   ]
  },
  {
   "cell_type": "markdown",
   "id": "887f842a",
   "metadata": {},
   "source": [
    "Самой популярной платформой в Северной Америке является платформа PS4, затем идут XOne, X360, PS3, и 3DS."
   ]
  },
  {
   "cell_type": "code",
   "execution_count": 77,
   "id": "8392a859",
   "metadata": {},
   "outputs": [],
   "source": [
    "# Считаем доли продаж\n",
    "na_sales_platform['% sales'] = na_sales_platform['na_sales']/na_sales_platform['all_sales']"
   ]
  },
  {
   "cell_type": "code",
   "execution_count": 78,
   "id": "83988718",
   "metadata": {},
   "outputs": [],
   "source": [
    "eu_sales_platform = actual_data.pivot_table(\n",
    "    index='platform', values=['eu_sales', 'all_sales'], aggfunc=('sum'))"
   ]
  },
  {
   "cell_type": "code",
   "execution_count": 79,
   "id": "e07b1378",
   "metadata": {},
   "outputs": [
    {
     "data": {
      "text/html": [
       "<div>\n",
       "<style scoped>\n",
       "    .dataframe tbody tr th:only-of-type {\n",
       "        vertical-align: middle;\n",
       "    }\n",
       "\n",
       "    .dataframe tbody tr th {\n",
       "        vertical-align: top;\n",
       "    }\n",
       "\n",
       "    .dataframe thead th {\n",
       "        text-align: right;\n",
       "    }\n",
       "</style>\n",
       "<table border=\"1\" class=\"dataframe\">\n",
       "  <thead>\n",
       "    <tr style=\"text-align: right;\">\n",
       "      <th></th>\n",
       "      <th>all_sales</th>\n",
       "      <th>eu_sales</th>\n",
       "    </tr>\n",
       "    <tr>\n",
       "      <th>platform</th>\n",
       "      <th></th>\n",
       "      <th></th>\n",
       "    </tr>\n",
       "  </thead>\n",
       "  <tbody>\n",
       "    <tr>\n",
       "      <th>PS4</th>\n",
       "      <td>314.14</td>\n",
       "      <td>141.09</td>\n",
       "    </tr>\n",
       "    <tr>\n",
       "      <th>PS3</th>\n",
       "      <td>181.43</td>\n",
       "      <td>67.81</td>\n",
       "    </tr>\n",
       "    <tr>\n",
       "      <th>XOne</th>\n",
       "      <td>159.32</td>\n",
       "      <td>51.59</td>\n",
       "    </tr>\n",
       "    <tr>\n",
       "      <th>X360</th>\n",
       "      <td>136.80</td>\n",
       "      <td>42.52</td>\n",
       "    </tr>\n",
       "    <tr>\n",
       "      <th>3DS</th>\n",
       "      <td>143.25</td>\n",
       "      <td>30.96</td>\n",
       "    </tr>\n",
       "  </tbody>\n",
       "</table>\n",
       "</div>"
      ],
      "text/plain": [
       "          all_sales  eu_sales\n",
       "platform                     \n",
       "PS4          314.14    141.09\n",
       "PS3          181.43     67.81\n",
       "XOne         159.32     51.59\n",
       "X360         136.80     42.52\n",
       "3DS          143.25     30.96"
      ]
     },
     "execution_count": 79,
     "metadata": {},
     "output_type": "execute_result"
    }
   ],
   "source": [
    "eu_sales_platform = eu_sales_platform.sort_values(by='eu_sales', ascending=False).head(5)\n",
    "eu_sales_platform"
   ]
  },
  {
   "cell_type": "markdown",
   "id": "194b2dc5",
   "metadata": {},
   "source": [
    "Самой популярной платформой в Европа является платформа PS4, затем идут PS3, XOne, X360, 3DS."
   ]
  },
  {
   "cell_type": "code",
   "execution_count": 80,
   "id": "b9b1f832",
   "metadata": {},
   "outputs": [],
   "source": [
    "# Считаем доли продаж\n",
    "eu_sales_platform['% sales'] = eu_sales_platform['eu_sales']/eu_sales_platform['all_sales']"
   ]
  },
  {
   "cell_type": "code",
   "execution_count": 81,
   "id": "85f6571d",
   "metadata": {},
   "outputs": [],
   "source": [
    "jp_sales_platform = actual_data.pivot_table(\n",
    "    index='platform', values=['jp_sales', 'all_sales'], aggfunc=('sum'))"
   ]
  },
  {
   "cell_type": "code",
   "execution_count": 82,
   "id": "343025e2",
   "metadata": {},
   "outputs": [
    {
     "data": {
      "text/html": [
       "<div>\n",
       "<style scoped>\n",
       "    .dataframe tbody tr th:only-of-type {\n",
       "        vertical-align: middle;\n",
       "    }\n",
       "\n",
       "    .dataframe tbody tr th {\n",
       "        vertical-align: top;\n",
       "    }\n",
       "\n",
       "    .dataframe thead th {\n",
       "        text-align: right;\n",
       "    }\n",
       "</style>\n",
       "<table border=\"1\" class=\"dataframe\">\n",
       "  <thead>\n",
       "    <tr style=\"text-align: right;\">\n",
       "      <th></th>\n",
       "      <th>all_sales</th>\n",
       "      <th>jp_sales</th>\n",
       "    </tr>\n",
       "    <tr>\n",
       "      <th>platform</th>\n",
       "      <th></th>\n",
       "      <th></th>\n",
       "    </tr>\n",
       "  </thead>\n",
       "  <tbody>\n",
       "    <tr>\n",
       "      <th>3DS</th>\n",
       "      <td>143.25</td>\n",
       "      <td>67.81</td>\n",
       "    </tr>\n",
       "    <tr>\n",
       "      <th>PS3</th>\n",
       "      <td>181.43</td>\n",
       "      <td>23.35</td>\n",
       "    </tr>\n",
       "    <tr>\n",
       "      <th>PS4</th>\n",
       "      <td>314.14</td>\n",
       "      <td>15.96</td>\n",
       "    </tr>\n",
       "    <tr>\n",
       "      <th>X360</th>\n",
       "      <td>136.80</td>\n",
       "      <td>0.51</td>\n",
       "    </tr>\n",
       "    <tr>\n",
       "      <th>XOne</th>\n",
       "      <td>159.32</td>\n",
       "      <td>0.34</td>\n",
       "    </tr>\n",
       "  </tbody>\n",
       "</table>\n",
       "</div>"
      ],
      "text/plain": [
       "          all_sales  jp_sales\n",
       "platform                     \n",
       "3DS          143.25     67.81\n",
       "PS3          181.43     23.35\n",
       "PS4          314.14     15.96\n",
       "X360         136.80      0.51\n",
       "XOne         159.32      0.34"
      ]
     },
     "execution_count": 82,
     "metadata": {},
     "output_type": "execute_result"
    }
   ],
   "source": [
    "jp_sales_platform = jp_sales_platform.sort_values(by='jp_sales', ascending=False).head(5)\n",
    "jp_sales_platform"
   ]
  },
  {
   "cell_type": "markdown",
   "id": "cdfe47ac",
   "metadata": {},
   "source": [
    "Самой популярной платформой в Японии является платформа 3DS, затем идут PS3, PS4, X360, XOne."
   ]
  },
  {
   "cell_type": "code",
   "execution_count": 83,
   "id": "316f81f4",
   "metadata": {},
   "outputs": [],
   "source": [
    "# Считаем доли продаж\n",
    "jp_sales_platform['% sales'] = jp_sales_platform['jp_sales']/jp_sales_platform['all_sales']"
   ]
  },
  {
   "cell_type": "markdown",
   "id": "5bab4774",
   "metadata": {},
   "source": [
    "Анализируя продажи по всем трем регионам можно выделить, что на первом месте в Америке и евроме оказалась одна и таже платформа PS4 в Японии же это платформа 3DS, которая ходится на на последнем месте в других регионах."
   ]
  },
  {
   "cell_type": "markdown",
   "id": "61532f61",
   "metadata": {},
   "source": [
    "Строим круговые диаграммы долей продаж по регионам"
   ]
  },
  {
   "cell_type": "code",
   "execution_count": 84,
   "id": "c9cc5135",
   "metadata": {},
   "outputs": [
    {
     "data": {
      "text/plain": [
       "<AxesSubplot:ylabel='% sales'>"
      ]
     },
     "execution_count": 84,
     "metadata": {},
     "output_type": "execute_result"
    },
    {
     "data": {
      "image/png": "[encoded data removed]",
      "text/plain": [
       "<Figure size 432x288 with 1 Axes>"
      ]
     },
     "metadata": {},
     "output_type": "display_data"
    }
   ],
   "source": [
    "na_sales_platform.plot(kind='pie', y='% sales')"
   ]
  },
  {
   "cell_type": "markdown",
   "id": "3a9316e0",
   "metadata": {},
   "source": [
    "В Северной Америке платформы Х360 и XOne имеют больше четверти всех продаж, около 30 % всех продаж имеют платформы PS3 и PS4, продажи остальных платформы 3DS составляют меньше 30 % "
   ]
  },
  {
   "cell_type": "code",
   "execution_count": 85,
   "id": "ca2f9440",
   "metadata": {},
   "outputs": [
    {
     "data": {
      "text/plain": [
       "<AxesSubplot:ylabel='% sales'>"
      ]
     },
     "execution_count": 85,
     "metadata": {},
     "output_type": "execute_result"
    },
    {
     "data": {
      "image/png": "[encoded data removed]",
      "text/plain": [
       "<Figure size 432x288 with 1 Axes>"
      ]
     },
     "metadata": {},
     "output_type": "display_data"
    }
   ],
   "source": [
    "eu_sales_platform.plot(kind='pie', y='% sales')"
   ]
  },
  {
   "cell_type": "markdown",
   "id": "7639ba19",
   "metadata": {},
   "source": [
    "В Европе больше четверти всех продаж составляют продажи платформы PS4, чуть меньше четверти составляют доли продаж платформы PS3, примерно по 30 % платформы XOne и X360, проджаи платформы 3DS составляют около 30 %"
   ]
  },
  {
   "cell_type": "code",
   "execution_count": 86,
   "id": "997ee827",
   "metadata": {},
   "outputs": [
    {
     "data": {
      "text/plain": [
       "<AxesSubplot:ylabel='% sales'>"
      ]
     },
     "execution_count": 86,
     "metadata": {},
     "output_type": "execute_result"
    },
    {
     "data": {
      "image/png": "[encoded data removed]",
      "text/plain": [
       "<Figure size 432x288 with 1 Axes>"
      ]
     },
     "metadata": {},
     "output_type": "display_data"
    }
   ],
   "source": [
    "jp_sales_platform.plot(kind='pie', y='% sales')"
   ]
  },
  {
   "cell_type": "markdown",
   "id": "d1e62c77",
   "metadata": {},
   "source": [
    "Самой большой популярностью в Японии пользуется платформа 3DS и доля ее продаж ставляет примерно 250 130 %. Следующими по популярности платформами является PS3 и PS4. Остальные платформы имеют очень млаенькие продажи"
   ]
  },
  {
   "cell_type": "markdown",
   "id": "7c3c3f6e",
   "metadata": {},
   "source": [
    "Найдем самые популярные жанры (Тор-5) в каждом регионе"
   ]
  },
  {
   "cell_type": "code",
   "execution_count": 87,
   "id": "7b5f64e6",
   "metadata": {},
   "outputs": [],
   "source": [
    "na_sales_genre = actual_data.pivot_table(index='genre', values=['na_sales'], aggfunc=('sum'))"
   ]
  },
  {
   "cell_type": "code",
   "execution_count": 88,
   "id": "1a737181",
   "metadata": {},
   "outputs": [
    {
     "data": {
      "text/html": [
       "<div>\n",
       "<style scoped>\n",
       "    .dataframe tbody tr th:only-of-type {\n",
       "        vertical-align: middle;\n",
       "    }\n",
       "\n",
       "    .dataframe tbody tr th {\n",
       "        vertical-align: top;\n",
       "    }\n",
       "\n",
       "    .dataframe thead th {\n",
       "        text-align: right;\n",
       "    }\n",
       "</style>\n",
       "<table border=\"1\" class=\"dataframe\">\n",
       "  <thead>\n",
       "    <tr style=\"text-align: right;\">\n",
       "      <th></th>\n",
       "      <th>na_sales</th>\n",
       "    </tr>\n",
       "    <tr>\n",
       "      <th>genre</th>\n",
       "      <th></th>\n",
       "    </tr>\n",
       "  </thead>\n",
       "  <tbody>\n",
       "    <tr>\n",
       "      <th>Action</th>\n",
       "      <td>113.72</td>\n",
       "    </tr>\n",
       "    <tr>\n",
       "      <th>Shooter</th>\n",
       "      <td>103.89</td>\n",
       "    </tr>\n",
       "    <tr>\n",
       "      <th>Sports</th>\n",
       "      <td>63.64</td>\n",
       "    </tr>\n",
       "    <tr>\n",
       "      <th>Role-Playing</th>\n",
       "      <td>42.39</td>\n",
       "    </tr>\n",
       "    <tr>\n",
       "      <th>Misc</th>\n",
       "      <td>20.46</td>\n",
       "    </tr>\n",
       "  </tbody>\n",
       "</table>\n",
       "</div>"
      ],
      "text/plain": [
       "              na_sales\n",
       "genre                 \n",
       "Action          113.72\n",
       "Shooter         103.89\n",
       "Sports           63.64\n",
       "Role-Playing     42.39\n",
       "Misc             20.46"
      ]
     },
     "execution_count": 88,
     "metadata": {},
     "output_type": "execute_result"
    }
   ],
   "source": [
    "na_sales_genre = na_sales_genre.sort_values(by='na_sales', ascending=False).head(5)\n",
    "na_sales_genre\n",
    "# Топ-5 жанров в Северной Америке"
   ]
  },
  {
   "cell_type": "markdown",
   "id": "10a5a0bd",
   "metadata": {},
   "source": [
    "Самым популярным жанром в Северной Америке является Action, далее с небольшим отставанием идут Shooter, Sports далее Role_Playing на последнем месте Misc"
   ]
  },
  {
   "cell_type": "code",
   "execution_count": 89,
   "id": "22e740b9",
   "metadata": {},
   "outputs": [],
   "source": [
    "eu_sales_genre = actual_data.pivot_table(index='genre', values=['eu_sales'], aggfunc=('sum'))"
   ]
  },
  {
   "cell_type": "code",
   "execution_count": 90,
   "id": "dca4077a",
   "metadata": {},
   "outputs": [
    {
     "data": {
      "text/html": [
       "<div>\n",
       "<style scoped>\n",
       "    .dataframe tbody tr th:only-of-type {\n",
       "        vertical-align: middle;\n",
       "    }\n",
       "\n",
       "    .dataframe tbody tr th {\n",
       "        vertical-align: top;\n",
       "    }\n",
       "\n",
       "    .dataframe thead th {\n",
       "        text-align: right;\n",
       "    }\n",
       "</style>\n",
       "<table border=\"1\" class=\"dataframe\">\n",
       "  <thead>\n",
       "    <tr style=\"text-align: right;\">\n",
       "      <th></th>\n",
       "      <th>eu_sales</th>\n",
       "    </tr>\n",
       "    <tr>\n",
       "      <th>genre</th>\n",
       "      <th></th>\n",
       "    </tr>\n",
       "  </thead>\n",
       "  <tbody>\n",
       "    <tr>\n",
       "      <th>Action</th>\n",
       "      <td>105.06</td>\n",
       "    </tr>\n",
       "    <tr>\n",
       "      <th>Shooter</th>\n",
       "      <td>79.99</td>\n",
       "    </tr>\n",
       "    <tr>\n",
       "      <th>Sports</th>\n",
       "      <td>56.38</td>\n",
       "    </tr>\n",
       "    <tr>\n",
       "      <th>Role-Playing</th>\n",
       "      <td>32.70</td>\n",
       "    </tr>\n",
       "    <tr>\n",
       "      <th>Racing</th>\n",
       "      <td>17.04</td>\n",
       "    </tr>\n",
       "  </tbody>\n",
       "</table>\n",
       "</div>"
      ],
      "text/plain": [
       "              eu_sales\n",
       "genre                 \n",
       "Action          105.06\n",
       "Shooter          79.99\n",
       "Sports           56.38\n",
       "Role-Playing     32.70\n",
       "Racing           17.04"
      ]
     },
     "execution_count": 90,
     "metadata": {},
     "output_type": "execute_result"
    }
   ],
   "source": [
    "eu_sales_genre = eu_sales_genre.sort_values(by='eu_sales', ascending=False).head(5)\n",
    "eu_sales_genre"
   ]
  },
  {
   "cell_type": "markdown",
   "id": "bef7c4a6",
   "metadata": {},
   "source": [
    "Самым популярным жанром в Европе также является Action, далее идет  Shooter, Sports, далее Role_Playing и на последнем месте Racing."
   ]
  },
  {
   "cell_type": "code",
   "execution_count": 91,
   "id": "0c850a4f",
   "metadata": {},
   "outputs": [],
   "source": [
    "jp_sales_genre = actual_data.pivot_table(index='genre', values=['jp_sales'], aggfunc=('sum'))"
   ]
  },
  {
   "cell_type": "code",
   "execution_count": 92,
   "id": "59827600",
   "metadata": {},
   "outputs": [
    {
     "data": {
      "text/html": [
       "<div>\n",
       "<style scoped>\n",
       "    .dataframe tbody tr th:only-of-type {\n",
       "        vertical-align: middle;\n",
       "    }\n",
       "\n",
       "    .dataframe tbody tr th {\n",
       "        vertical-align: top;\n",
       "    }\n",
       "\n",
       "    .dataframe thead th {\n",
       "        text-align: right;\n",
       "    }\n",
       "</style>\n",
       "<table border=\"1\" class=\"dataframe\">\n",
       "  <thead>\n",
       "    <tr style=\"text-align: right;\">\n",
       "      <th></th>\n",
       "      <th>jp_sales</th>\n",
       "    </tr>\n",
       "    <tr>\n",
       "      <th>genre</th>\n",
       "      <th></th>\n",
       "    </tr>\n",
       "  </thead>\n",
       "  <tbody>\n",
       "    <tr>\n",
       "      <th>Role-Playing</th>\n",
       "      <td>42.50</td>\n",
       "    </tr>\n",
       "    <tr>\n",
       "      <th>Action</th>\n",
       "      <td>32.82</td>\n",
       "    </tr>\n",
       "    <tr>\n",
       "      <th>Fighting</th>\n",
       "      <td>5.98</td>\n",
       "    </tr>\n",
       "    <tr>\n",
       "      <th>Shooter</th>\n",
       "      <td>5.02</td>\n",
       "    </tr>\n",
       "    <tr>\n",
       "      <th>Misc</th>\n",
       "      <td>4.95</td>\n",
       "    </tr>\n",
       "  </tbody>\n",
       "</table>\n",
       "</div>"
      ],
      "text/plain": [
       "              jp_sales\n",
       "genre                 \n",
       "Role-Playing     42.50\n",
       "Action           32.82\n",
       "Fighting          5.98\n",
       "Shooter           5.02\n",
       "Misc              4.95"
      ]
     },
     "execution_count": 92,
     "metadata": {},
     "output_type": "execute_result"
    }
   ],
   "source": [
    "jp_sales_genre = jp_sales_genre.sort_values(by='jp_sales', ascending=False).head(5)\n",
    "jp_sales_genre"
   ]
  },
  {
   "cell_type": "markdown",
   "id": "0b6a921c",
   "metadata": {},
   "source": [
    "Самым популярным жанром в Японии является Role_Playing, далее с небольшим отставанием идет Action, далее с отставанием почти в 6 раза идет Fighting, Shooter и на последнем месте Misc, на последнем месте Misc."
   ]
  },
  {
   "cell_type": "markdown",
   "id": "bbf48328",
   "metadata": {},
   "source": [
    "Круговые диаграммы жанров по различным регионам"
   ]
  },
  {
   "cell_type": "code",
   "execution_count": 93,
   "id": "235dc800",
   "metadata": {},
   "outputs": [
    {
     "data": {
      "text/plain": [
       "<AxesSubplot:ylabel='jp_sales'>"
      ]
     },
     "execution_count": 93,
     "metadata": {},
     "output_type": "execute_result"
    },
    {
     "data": {
      "image/png": "[encoded data removed]",
      "text/plain": [
       "<Figure size 432x288 with 1 Axes>"
      ]
     },
     "metadata": {},
     "output_type": "display_data"
    },
    {
     "data": {
      "image/png": "[encoded data removed]",
      "text/plain": [
       "<Figure size 432x288 with 1 Axes>"
      ]
     },
     "metadata": {},
     "output_type": "display_data"
    },
    {
     "data": {
      "image/png": "[encoded data removed]",
      "text/plain": [
       "<Figure size 432x288 with 1 Axes>"
      ]
     },
     "metadata": {},
     "output_type": "display_data"
    }
   ],
   "source": [
    "na_sales_genre.plot(kind='pie', y='na_sales')\n",
    "eu_sales_genre.plot(kind='pie', y='eu_sales')\n",
    "jp_sales_genre.plot(kind='pie', y='jp_sales')"
   ]
  },
  {
   "cell_type": "markdown",
   "id": "fc28f963",
   "metadata": {},
   "source": [
    "Как в Европе так и в Северной Америка три самых популярных жанра одинаковые: Action,  Shooter, Sport. В Японии же ситуация совершенно другая: на первом месте жанр Role-Playing, который в Европа и в Северной Америка находится на чертвертом месте. Первое и второе места Американского и Европейского рейтингов спустилось на вторую и четвертую позиции соотвественно. В Яопнии на третьем месте нахидится жанр Fighting которого вообще нет в Тор-5 европеского и американского рейтингов. "
   ]
  },
  {
   "cell_type": "markdown",
   "id": "a8101b45",
   "metadata": {},
   "source": [
    "Определим влияет ли рейтинг ESPB на продажи в отдельном регионе"
   ]
  },
  {
   "cell_type": "code",
   "execution_count": 94,
   "id": "19668b34",
   "metadata": {},
   "outputs": [],
   "source": [
    "na_sales_ESRB = actual_data.pivot_table(index='rating', values=['na_sales'], aggfunc=('sum'))"
   ]
  },
  {
   "cell_type": "code",
   "execution_count": 95,
   "id": "8b7f430b",
   "metadata": {},
   "outputs": [
    {
     "data": {
      "text/html": [
       "<div>\n",
       "<style scoped>\n",
       "    .dataframe tbody tr th:only-of-type {\n",
       "        vertical-align: middle;\n",
       "    }\n",
       "\n",
       "    .dataframe tbody tr th {\n",
       "        vertical-align: top;\n",
       "    }\n",
       "\n",
       "    .dataframe thead th {\n",
       "        text-align: right;\n",
       "    }\n",
       "</style>\n",
       "<table border=\"1\" class=\"dataframe\">\n",
       "  <thead>\n",
       "    <tr style=\"text-align: right;\">\n",
       "      <th></th>\n",
       "      <th>na_sales</th>\n",
       "    </tr>\n",
       "    <tr>\n",
       "      <th>rating</th>\n",
       "      <th></th>\n",
       "    </tr>\n",
       "  </thead>\n",
       "  <tbody>\n",
       "    <tr>\n",
       "      <th>M</th>\n",
       "      <td>156.75</td>\n",
       "    </tr>\n",
       "    <tr>\n",
       "      <th>ND</th>\n",
       "      <td>81.50</td>\n",
       "    </tr>\n",
       "    <tr>\n",
       "      <th>E</th>\n",
       "      <td>65.57</td>\n",
       "    </tr>\n",
       "    <tr>\n",
       "      <th>T</th>\n",
       "      <td>43.06</td>\n",
       "    </tr>\n",
       "    <tr>\n",
       "      <th>E10+</th>\n",
       "      <td>38.34</td>\n",
       "    </tr>\n",
       "  </tbody>\n",
       "</table>\n",
       "</div>"
      ],
      "text/plain": [
       "        na_sales\n",
       "rating          \n",
       "M         156.75\n",
       "ND         81.50\n",
       "E          65.57\n",
       "T          43.06\n",
       "E10+       38.34"
      ]
     },
     "execution_count": 95,
     "metadata": {},
     "output_type": "execute_result"
    }
   ],
   "source": [
    "na_sales_ESRB = na_sales_ESRB.sort_values(by='na_sales', ascending=False)\n",
    "na_sales_ESRB\n",
    "# Соотношение рейтинга ESRB и продаж в Северной Америке"
   ]
  },
  {
   "cell_type": "code",
   "execution_count": 96,
   "id": "6e11aadd",
   "metadata": {},
   "outputs": [],
   "source": [
    "eu_sales_ESRB = actual_data.pivot_table(index='rating', values=['eu_sales'], aggfunc=('sum'))"
   ]
  },
  {
   "cell_type": "code",
   "execution_count": 97,
   "id": "2901510f",
   "metadata": {},
   "outputs": [
    {
     "data": {
      "text/html": [
       "<div>\n",
       "<style scoped>\n",
       "    .dataframe tbody tr th:only-of-type {\n",
       "        vertical-align: middle;\n",
       "    }\n",
       "\n",
       "    .dataframe tbody tr th {\n",
       "        vertical-align: top;\n",
       "    }\n",
       "\n",
       "    .dataframe thead th {\n",
       "        text-align: right;\n",
       "    }\n",
       "</style>\n",
       "<table border=\"1\" class=\"dataframe\">\n",
       "  <thead>\n",
       "    <tr style=\"text-align: right;\">\n",
       "      <th></th>\n",
       "      <th>eu_sales</th>\n",
       "    </tr>\n",
       "    <tr>\n",
       "      <th>rating</th>\n",
       "      <th></th>\n",
       "    </tr>\n",
       "  </thead>\n",
       "  <tbody>\n",
       "    <tr>\n",
       "      <th>M</th>\n",
       "      <td>133.07</td>\n",
       "    </tr>\n",
       "    <tr>\n",
       "      <th>ND</th>\n",
       "      <td>69.84</td>\n",
       "    </tr>\n",
       "    <tr>\n",
       "      <th>E</th>\n",
       "      <td>69.06</td>\n",
       "    </tr>\n",
       "    <tr>\n",
       "      <th>T</th>\n",
       "      <td>33.63</td>\n",
       "    </tr>\n",
       "    <tr>\n",
       "      <th>E10+</th>\n",
       "      <td>28.37</td>\n",
       "    </tr>\n",
       "  </tbody>\n",
       "</table>\n",
       "</div>"
      ],
      "text/plain": [
       "        eu_sales\n",
       "rating          \n",
       "M         133.07\n",
       "ND         69.84\n",
       "E          69.06\n",
       "T          33.63\n",
       "E10+       28.37"
      ]
     },
     "execution_count": 97,
     "metadata": {},
     "output_type": "execute_result"
    }
   ],
   "source": [
    "eu_sales_ESRB = eu_sales_ESRB.sort_values(by='eu_sales', ascending=False)\n",
    "eu_sales_ESRB\n",
    "# Соотношение рейтинга ESRB и продаж в Европе"
   ]
  },
  {
   "cell_type": "code",
   "execution_count": 98,
   "id": "82fae894",
   "metadata": {},
   "outputs": [],
   "source": [
    "jp_sales_ESRB = actual_data.pivot_table(index='rating', values=['jp_sales'], aggfunc=('sum'))"
   ]
  },
  {
   "cell_type": "code",
   "execution_count": 99,
   "id": "51fd5dc6",
   "metadata": {},
   "outputs": [
    {
     "data": {
      "text/html": [
       "<div>\n",
       "<style scoped>\n",
       "    .dataframe tbody tr th:only-of-type {\n",
       "        vertical-align: middle;\n",
       "    }\n",
       "\n",
       "    .dataframe tbody tr th {\n",
       "        vertical-align: top;\n",
       "    }\n",
       "\n",
       "    .dataframe thead th {\n",
       "        text-align: right;\n",
       "    }\n",
       "</style>\n",
       "<table border=\"1\" class=\"dataframe\">\n",
       "  <thead>\n",
       "    <tr style=\"text-align: right;\">\n",
       "      <th></th>\n",
       "      <th>jp_sales</th>\n",
       "    </tr>\n",
       "    <tr>\n",
       "      <th>rating</th>\n",
       "      <th></th>\n",
       "    </tr>\n",
       "  </thead>\n",
       "  <tbody>\n",
       "    <tr>\n",
       "      <th>ND</th>\n",
       "      <td>67.73</td>\n",
       "    </tr>\n",
       "    <tr>\n",
       "      <th>T</th>\n",
       "      <td>14.91</td>\n",
       "    </tr>\n",
       "    <tr>\n",
       "      <th>M</th>\n",
       "      <td>12.45</td>\n",
       "    </tr>\n",
       "    <tr>\n",
       "      <th>E</th>\n",
       "      <td>9.56</td>\n",
       "    </tr>\n",
       "    <tr>\n",
       "      <th>E10+</th>\n",
       "      <td>3.32</td>\n",
       "    </tr>\n",
       "  </tbody>\n",
       "</table>\n",
       "</div>"
      ],
      "text/plain": [
       "        jp_sales\n",
       "rating          \n",
       "ND         67.73\n",
       "T          14.91\n",
       "M          12.45\n",
       "E           9.56\n",
       "E10+        3.32"
      ]
     },
     "execution_count": 99,
     "metadata": {},
     "output_type": "execute_result"
    }
   ],
   "source": [
    "jp_sales_ESRB = jp_sales_ESRB.sort_values(by='jp_sales', ascending=False)\n",
    "jp_sales_ESRB\n",
    "# Соотношение рейтинга ESRB и продаж в Японии"
   ]
  },
  {
   "cell_type": "markdown",
   "id": "0919bc0a",
   "metadata": {},
   "source": [
    "Строим гистограммы рейтингов по разным регионам"
   ]
  },
  {
   "cell_type": "code",
   "execution_count": 100,
   "id": "a2c23f07",
   "metadata": {},
   "outputs": [
    {
     "data": {
      "text/plain": [
       "<AxesSubplot:xlabel='rating'>"
      ]
     },
     "execution_count": 100,
     "metadata": {},
     "output_type": "execute_result"
    },
    {
     "data": {
      "image/png": "[encoded data removed]",
      "text/plain": [
       "<Figure size 432x288 with 1 Axes>"
      ]
     },
     "metadata": {
      "needs_background": "light"
     },
     "output_type": "display_data"
    },
    {
     "data": {
      "image/png": "[encoded data removed]",
      "text/plain": [
       "<Figure size 432x288 with 1 Axes>"
      ]
     },
     "metadata": {
      "needs_background": "light"
     },
     "output_type": "display_data"
    },
    {
     "data": {
      "image/png": "[encoded data removed]",
      "text/plain": [
       "<Figure size 432x288 with 1 Axes>"
      ]
     },
     "metadata": {
      "needs_background": "light"
     },
     "output_type": "display_data"
    }
   ],
   "source": [
    "# Гистограмма продаж по возрастным ограничениям для Северной Америки\n",
    "na_sales_ESRB.plot(kind='bar')\n",
    "# Гистограмма продаж по возрастным ограничениям для Европы\n",
    "eu_sales_ESRB.plot(kind='bar')\n",
    "# Гистограмма продаж по возрастным ограничениям для Японии\n",
    "jp_sales_ESRB.plot(kind='bar')"
   ]
  },
  {
   "cell_type": "markdown",
   "id": "393a202c",
   "metadata": {},
   "source": [
    "Самые популярным возрастным ограничения для европы и Америки явялется категория М (от 17 лет), на втором месте находится наш маркер ND (т.е. нет данных). На третьем месте в Европее и америке находится категория Е (без возрастных ограничений), на четвертом категория Т  (с 13 до 19 лет). В Японии на первом месте нахоидтся маркер ND, на втором - категория Т, на третем - категория М на четвертом - категория Е. Категория Е10+ находится на последнем месте во всех регионах. "
   ]
  },
  {
   "cell_type": "markdown",
   "id": "27e726e9",
   "metadata": {},
   "source": [
    "## Проверка гипотез"
   ]
  },
  {
   "cell_type": "markdown",
   "id": "d0dcd3eb",
   "metadata": {},
   "source": [
    "Проверим гипотезу: средние пользовательские рейтинги платформ Xbox One и PC одинаковые. Сформулируем нулевую гипотезу: Средние пользовательские рейтинги платформ XOne и PC равны. Альтернативная гипотеза: Средние пользовательские рейтинги платформ XOne и PC не равны."
   ]
  },
  {
   "cell_type": "code",
   "execution_count": 101,
   "id": "7ce46d77",
   "metadata": {},
   "outputs": [
    {
     "name": "stdout",
     "output_type": "stream",
     "text": [
      "0.21117175955065698 0.21688509432337671\n",
      "Равны ли дисперсии двух совокупностей? False\n"
     ]
    }
   ],
   "source": [
    "# Находим дисперсию по пользовательскому рейтингу для платформы XOne\n",
    "XOne_var = st.variation(data.query('platform == \"XOne\" and user_score!=-10')['user_score'])\n",
    "# Находим дисперсию по пользовательскому рейтингу для платформы PC\n",
    "PC_var = st.variation(data.query('platform == \"PC\" and user_score!=-10')['user_score'])\n",
    "print(XOne_var, PC_var)\n",
    "print('Равны ли дисперсии двух совокупностей?',(XOne_var * 0.05 < abs(XOne_var - PC_var)))"
   ]
  },
  {
   "cell_type": "code",
   "execution_count": 102,
   "id": "5a7d7a82",
   "metadata": {},
   "outputs": [
    {
     "name": "stdout",
     "output_type": "stream",
     "text": [
      "р-значение:  1.5090021037320667e-05\n",
      "Отвергаем нулевую гипотезу\n"
     ]
    }
   ],
   "source": [
    "alpha = 0.05\n",
    "\n",
    "results = st.ttest_ind(data.query('platform == \"XOne\" and user_score!=-10')['user_score'],\n",
    "                       data.query('platform == \"PC\" and user_score!=-10')['user_score'])\n",
    "\n",
    "print('р-значение: ', results.pvalue)\n",
    "if results.pvalue < alpha:\n",
    "    print(\"Отвергаем нулевую гипотезу\")\n",
    "else:\n",
    "    print(\"Не получилось отвергнуть нулевую гипотезу\")"
   ]
  },
  {
   "cell_type": "markdown",
   "id": "4557452a",
   "metadata": {},
   "source": [
    "**Вывод:**\n",
    "Дисперсии не равны, но они отличаются незначительно, поэтому установим equal_var=True, тест показал, что нулевая гипотеза не подтвердилась, р-значение очень маленькое, т.е. существует очень малая вероятность, что пользовательские рейтинги могут быть одинаковыми c очень малой вероятностью, практически равной нулю. Можем сделать вывод, что средние пользовательские рейтинги платформ Xbox One и PC отличаются"
   ]
  },
  {
   "cell_type": "markdown",
   "id": "6b960216",
   "metadata": {},
   "source": [
    "Проверим вторую гипотезу: Средние пользовательские рейтинги жанров Action и Sports разные. Сформулируем нулевую гипотезу: средние пользовательские рейтинги жанров Action и Sports равны. Альтернативная гипотеза: средние пользовательские рейтинги жанров Action и Sports не равны."
   ]
  },
  {
   "cell_type": "code",
   "execution_count": 103,
   "id": "477c22d9",
   "metadata": {},
   "outputs": [
    {
     "name": "stdout",
     "output_type": "stream",
     "text": [
      "Равны ли дисперсии двух совокупностей? True\n"
     ]
    }
   ],
   "source": [
    "action_var = st.variation(data.query('genre == \"Action\" and user_score!=-10')['user_score'])\n",
    "sports_var = st.variation(data.query('genre == \"Sports\" and user_score!=-10')['user_score'])\n",
    "print('Равны ли дисперсии двух совокупностей?',(((action_var * 0.05) < abs(action_var - sports_var))))"
   ]
  },
  {
   "cell_type": "code",
   "execution_count": 104,
   "id": "83224bf6",
   "metadata": {},
   "outputs": [
    {
     "name": "stdout",
     "output_type": "stream",
     "text": [
      "р-значение:  0.06480928064420527\n",
      "Не получилось отвергнуть нулевую гипотезу\n"
     ]
    }
   ],
   "source": [
    "result = st.ttest_ind(data.query('genre == \"Action\" and user_score!=-10')['user_score'],\n",
    "                      data.query('genre == \"Sports\" and user_score!=-10')['user_score'])\n",
    "print('р-значение: ', result.pvalue)\n",
    "if result.pvalue < alpha:\n",
    "    print(\"Отвергаем нулевую гипотезу\")\n",
    "else:\n",
    "    print(\"Не получилось отвергнуть нулевую гипотезу\")"
   ]
  },
  {
   "cell_type": "markdown",
   "id": "7746e542",
   "metadata": {},
   "source": [
    "**Вывод:**\n",
    "Дисперсии равны, поэтому установим equal_var=True, тест показал, что нулевая гипотеза подтвердилась, р-значение равно 6 %, т.е. существует вероятность, что средние пользовательские рейтинги жанров Action и  Sports равны. Можем сделать вывод, что средние пользовательские рейтинги жанров Action и Sports равны с вероятностью 6 %."
   ]
  },
  {
   "cell_type": "markdown",
   "id": "a2b657a3",
   "metadata": {},
   "source": [
    "## Вывод:\n",
    "1. Самое большое количество игры было выпущено в 2009 году, далее рынок пошел на спад и сейчас он немного стабилизировался на уровне 600 игр в год.\n",
    "2. Самая большая выручка получена от платформ PS2, X360, PS3, Wii, DS. Средний срок жизни платформы составляет 10-12 лет.\n",
    "3. Актуальными на сегодняшний день являеются данные с 2013 года, так как в это время многие платформы перестали продаваться и на их смену или уже пришли новые или появятся новые платформы в самое билжайшее время.\n",
    "4. В настоящее время лидерами продаж являются платформы PS4, PS3, XOne, 3DS, X360.\n",
    "5. Медианы продаж среди этих платформ почти одинаковы, за исключением платформы 3DS (у нее меньше третий квартиль), все скошены вправо.\n",
    "6. Отзывы критиков влияют на продажи, но не очень сильно. Отзывы пользоваталей практически не влияют на продажи.\n",
    "7. Самыми прибыльными жанрами являются: Shooter, Sports, Platform.\n",
    "8. Самыми популярными платформами в Америке являются: PS4, XOne, X360, в Европе: PS4, PS3, XOne, в Японии: 3DS, PS3, PS4.\n",
    "9. Самыми полуярными жанрами в Америке и Европе являются: Action, Shooter, Sports, в Японии: Role-Playing, Action, Fighting.\n",
    "10. На первом месте в Америке и Авропе находятся игры для детей от 17 лет, на втором месте находится маркер  который  был установлен, так как не было данных \"ND\", на третьем месте - игры без возрастных ограничений. В Японии на первом месте находится маркер \"ND\", на втором месте - игры для детей от 13 до 19 лет, на третьем месте - игры для детей от 17 лет.\n",
    "11. Была отвергнута гипотеза, что пользовательские рейтинги платформ XOne и PC одинаковы.\n",
    "12. Была принята гипотеза, что средние пользовательские рейтинги жанров Action и Sports одинаковые."
   ]
  }
 ],
 "metadata": {
  "ExecuteTimeLog": [
   {
    "duration": 1710,
    "start_time": "2022-04-17T18:10:31.569Z"
   },
   {
    "duration": 165,
    "start_time": "2022-04-17T18:10:33.281Z"
   },
   {
    "duration": 4,
    "start_time": "2022-04-17T18:10:47.734Z"
   },
   {
    "duration": 21,
    "start_time": "2022-04-17T18:10:48.486Z"
   },
   {
    "duration": 4,
    "start_time": "2022-04-17T18:12:10.772Z"
   },
   {
    "duration": 19,
    "start_time": "2022-04-17T18:12:11.349Z"
   },
   {
    "duration": 49,
    "start_time": "2022-04-17T18:12:50.755Z"
   },
   {
    "duration": 21,
    "start_time": "2022-04-17T18:13:07.608Z"
   },
   {
    "duration": 29,
    "start_time": "2022-04-17T18:13:41.204Z"
   },
   {
    "duration": 6,
    "start_time": "2022-04-17T18:13:53.529Z"
   },
   {
    "duration": 5,
    "start_time": "2022-04-17T18:21:49.995Z"
   },
   {
    "duration": 5,
    "start_time": "2022-04-17T18:21:50.785Z"
   },
   {
    "duration": 21,
    "start_time": "2022-04-17T18:21:52.151Z"
   },
   {
    "duration": 15,
    "start_time": "2022-04-17T18:21:56.002Z"
   },
   {
    "duration": 8,
    "start_time": "2022-04-17T18:21:57.183Z"
   },
   {
    "duration": 6,
    "start_time": "2022-04-17T18:22:06.873Z"
   },
   {
    "duration": 4,
    "start_time": "2022-04-17T18:22:08.029Z"
   },
   {
    "duration": 26,
    "start_time": "2022-04-17T18:22:10.457Z"
   },
   {
    "duration": 4,
    "start_time": "2022-04-17T18:41:24.116Z"
   },
   {
    "duration": 48,
    "start_time": "2022-04-17T18:41:24.471Z"
   },
   {
    "duration": 21,
    "start_time": "2022-04-17T18:41:24.907Z"
   },
   {
    "duration": 25,
    "start_time": "2022-04-17T18:41:28.953Z"
   },
   {
    "duration": 4,
    "start_time": "2022-04-17T18:41:36.400Z"
   },
   {
    "duration": 4,
    "start_time": "2022-04-17T18:41:38.887Z"
   },
   {
    "duration": 4,
    "start_time": "2022-04-17T18:41:39.338Z"
   },
   {
    "duration": 20,
    "start_time": "2022-04-17T18:41:41.766Z"
   },
   {
    "duration": 10,
    "start_time": "2022-04-17T18:41:44.103Z"
   },
   {
    "duration": 9,
    "start_time": "2022-04-17T18:41:44.687Z"
   },
   {
    "duration": 5,
    "start_time": "2022-04-17T18:41:48.321Z"
   },
   {
    "duration": 4,
    "start_time": "2022-04-17T18:41:49.287Z"
   },
   {
    "duration": 7,
    "start_time": "2022-04-17T18:42:13.289Z"
   },
   {
    "duration": 5,
    "start_time": "2022-04-17T18:47:59.444Z"
   },
   {
    "duration": 47,
    "start_time": "2022-04-17T18:47:59.950Z"
   },
   {
    "duration": 21,
    "start_time": "2022-04-17T18:48:00.566Z"
   },
   {
    "duration": 24,
    "start_time": "2022-04-17T18:48:01.710Z"
   },
   {
    "duration": 5,
    "start_time": "2022-04-17T18:48:02.876Z"
   },
   {
    "duration": 4,
    "start_time": "2022-04-17T18:48:03.826Z"
   },
   {
    "duration": 5,
    "start_time": "2022-04-17T18:48:04.367Z"
   },
   {
    "duration": 27,
    "start_time": "2022-04-17T18:48:05.735Z"
   },
   {
    "duration": 13,
    "start_time": "2022-04-17T18:48:07.886Z"
   },
   {
    "duration": 11,
    "start_time": "2022-04-17T18:48:07.919Z"
   },
   {
    "duration": 4,
    "start_time": "2022-04-17T18:48:11.688Z"
   },
   {
    "duration": 5,
    "start_time": "2022-04-17T18:48:12.670Z"
   },
   {
    "duration": 40,
    "start_time": "2022-04-17T18:48:14.588Z"
   },
   {
    "duration": 8,
    "start_time": "2022-04-17T18:48:17.847Z"
   },
   {
    "duration": 5,
    "start_time": "2022-04-17T18:48:20.522Z"
   },
   {
    "duration": 7,
    "start_time": "2022-04-17T18:48:21.015Z"
   },
   {
    "duration": 5,
    "start_time": "2022-04-17T18:48:28.419Z"
   },
   {
    "duration": 7,
    "start_time": "2022-04-17T18:48:31.667Z"
   },
   {
    "duration": 32,
    "start_time": "2022-04-17T18:48:43.465Z"
   },
   {
    "duration": 45,
    "start_time": "2022-04-17T18:48:59.826Z"
   },
   {
    "duration": 654,
    "start_time": "2022-04-17T18:49:03.671Z"
   },
   {
    "duration": 4,
    "start_time": "2022-04-17T19:39:22.397Z"
   },
   {
    "duration": 50,
    "start_time": "2022-04-17T19:39:23.356Z"
   },
   {
    "duration": 20,
    "start_time": "2022-04-17T19:39:24.121Z"
   },
   {
    "duration": 25,
    "start_time": "2022-04-17T19:39:25.188Z"
   },
   {
    "duration": 5,
    "start_time": "2022-04-17T19:39:25.898Z"
   },
   {
    "duration": 4,
    "start_time": "2022-04-17T19:39:26.264Z"
   },
   {
    "duration": 6,
    "start_time": "2022-04-17T19:39:26.465Z"
   },
   {
    "duration": 20,
    "start_time": "2022-04-17T19:39:26.832Z"
   },
   {
    "duration": 12,
    "start_time": "2022-04-17T19:39:27.258Z"
   },
   {
    "duration": 8,
    "start_time": "2022-04-17T19:39:27.483Z"
   },
   {
    "duration": 5,
    "start_time": "2022-04-17T19:39:28.388Z"
   },
   {
    "duration": 4,
    "start_time": "2022-04-17T19:39:28.618Z"
   },
   {
    "duration": 28,
    "start_time": "2022-04-17T19:39:28.816Z"
   },
   {
    "duration": 7,
    "start_time": "2022-04-17T19:39:31.194Z"
   },
   {
    "duration": 5,
    "start_time": "2022-04-17T19:39:32.054Z"
   },
   {
    "duration": 6,
    "start_time": "2022-04-17T19:39:33.195Z"
   },
   {
    "duration": 5,
    "start_time": "2022-04-17T19:39:34.896Z"
   },
   {
    "duration": 7,
    "start_time": "2022-04-17T19:39:37.072Z"
   },
   {
    "duration": 22,
    "start_time": "2022-04-17T19:39:39.455Z"
   },
   {
    "duration": 42,
    "start_time": "2022-04-17T19:39:41.534Z"
   },
   {
    "duration": 603,
    "start_time": "2022-04-17T19:39:43.899Z"
   },
   {
    "duration": 10,
    "start_time": "2022-04-17T19:39:47.802Z"
   },
   {
    "duration": 4,
    "start_time": "2022-04-17T19:39:49.555Z"
   },
   {
    "duration": 28,
    "start_time": "2022-04-17T19:39:50.221Z"
   },
   {
    "duration": 13,
    "start_time": "2022-04-17T19:39:57.427Z"
   },
   {
    "duration": 12,
    "start_time": "2022-04-17T19:39:57.859Z"
   },
   {
    "duration": 33,
    "start_time": "2022-04-17T19:40:02.934Z"
   },
   {
    "duration": 8,
    "start_time": "2022-04-17T19:40:34.604Z"
   },
   {
    "duration": 7,
    "start_time": "2022-04-17T19:40:37.600Z"
   },
   {
    "duration": 5,
    "start_time": "2022-04-17T19:40:41.364Z"
   },
   {
    "duration": 8,
    "start_time": "2022-04-17T19:40:41.772Z"
   },
   {
    "duration": 6,
    "start_time": "2022-04-17T19:40:42.241Z"
   },
   {
    "duration": 232,
    "start_time": "2022-04-17T19:40:42.963Z"
   },
   {
    "duration": 8,
    "start_time": "2022-04-17T19:40:47.466Z"
   },
   {
    "duration": 8,
    "start_time": "2022-04-17T19:41:35.414Z"
   },
   {
    "duration": 5,
    "start_time": "2022-04-17T19:41:56.654Z"
   },
   {
    "duration": 47,
    "start_time": "2022-04-17T19:41:57.124Z"
   },
   {
    "duration": 22,
    "start_time": "2022-04-17T19:41:57.334Z"
   },
   {
    "duration": 24,
    "start_time": "2022-04-17T19:41:57.667Z"
   },
   {
    "duration": 5,
    "start_time": "2022-04-17T19:41:58.344Z"
   },
   {
    "duration": 5,
    "start_time": "2022-04-17T19:41:58.664Z"
   },
   {
    "duration": 5,
    "start_time": "2022-04-17T19:41:58.831Z"
   },
   {
    "duration": 21,
    "start_time": "2022-04-17T19:41:59.183Z"
   },
   {
    "duration": 11,
    "start_time": "2022-04-17T19:41:59.533Z"
   },
   {
    "duration": 9,
    "start_time": "2022-04-17T19:41:59.695Z"
   },
   {
    "duration": 6,
    "start_time": "2022-04-17T19:42:00.029Z"
   },
   {
    "duration": 5,
    "start_time": "2022-04-17T19:42:00.248Z"
   },
   {
    "duration": 32,
    "start_time": "2022-04-17T19:42:00.448Z"
   },
   {
    "duration": 7,
    "start_time": "2022-04-17T19:42:00.899Z"
   },
   {
    "duration": 5,
    "start_time": "2022-04-17T19:42:01.633Z"
   },
   {
    "duration": 7,
    "start_time": "2022-04-17T19:42:01.924Z"
   },
   {
    "duration": 5,
    "start_time": "2022-04-17T19:42:02.272Z"
   },
   {
    "duration": 7,
    "start_time": "2022-04-17T19:42:02.765Z"
   },
   {
    "duration": 22,
    "start_time": "2022-04-17T19:42:03.612Z"
   },
   {
    "duration": 43,
    "start_time": "2022-04-17T19:42:06.140Z"
   },
   {
    "duration": 558,
    "start_time": "2022-04-17T19:42:06.566Z"
   },
   {
    "duration": 9,
    "start_time": "2022-04-17T19:42:08.404Z"
   },
   {
    "duration": 4,
    "start_time": "2022-04-17T19:42:10.141Z"
   },
   {
    "duration": 29,
    "start_time": "2022-04-17T19:42:10.472Z"
   },
   {
    "duration": 13,
    "start_time": "2022-04-17T19:42:13.289Z"
   },
   {
    "duration": 13,
    "start_time": "2022-04-17T19:42:14.174Z"
   },
   {
    "duration": 34,
    "start_time": "2022-04-17T19:42:18.160Z"
   },
   {
    "duration": 7,
    "start_time": "2022-04-17T19:42:21.639Z"
   },
   {
    "duration": 6,
    "start_time": "2022-04-17T19:42:24.287Z"
   },
   {
    "duration": 3,
    "start_time": "2022-04-17T19:42:33.771Z"
   },
   {
    "duration": 8,
    "start_time": "2022-04-17T19:42:34.241Z"
   },
   {
    "duration": 5,
    "start_time": "2022-04-17T19:42:35.189Z"
   },
   {
    "duration": 238,
    "start_time": "2022-04-17T19:42:36.753Z"
   },
   {
    "duration": 10,
    "start_time": "2022-04-17T19:42:41.819Z"
   },
   {
    "duration": 7,
    "start_time": "2022-04-17T19:42:46.792Z"
   },
   {
    "duration": 7,
    "start_time": "2022-04-17T19:46:12.604Z"
   },
   {
    "duration": 8,
    "start_time": "2022-04-17T19:46:19.539Z"
   },
   {
    "duration": 5,
    "start_time": "2022-04-17T19:46:20.761Z"
   },
   {
    "duration": 6,
    "start_time": "2022-04-17T19:52:49.038Z"
   },
   {
    "duration": 9,
    "start_time": "2022-04-17T19:52:49.536Z"
   },
   {
    "duration": 7,
    "start_time": "2022-04-17T19:52:51.853Z"
   },
   {
    "duration": 177,
    "start_time": "2022-04-17T20:28:54.518Z"
   },
   {
    "duration": 4,
    "start_time": "2022-04-17T20:35:39.788Z"
   },
   {
    "duration": 14,
    "start_time": "2022-04-17T20:35:46.600Z"
   },
   {
    "duration": 9,
    "start_time": "2022-04-17T20:35:56.351Z"
   },
   {
    "duration": 11,
    "start_time": "2022-04-17T20:35:57.761Z"
   },
   {
    "duration": 9,
    "start_time": "2022-04-17T20:35:58.706Z"
   },
   {
    "duration": 12,
    "start_time": "2022-04-17T20:36:00.160Z"
   },
   {
    "duration": 4,
    "start_time": "2022-04-17T20:36:00.832Z"
   },
   {
    "duration": 27445,
    "start_time": "2022-04-17T20:36:01.706Z"
   },
   {
    "duration": 44493,
    "start_time": "2022-04-17T20:36:31.000Z"
   },
   {
    "duration": 5,
    "start_time": "2022-04-17T20:37:16.973Z"
   },
   {
    "duration": 44545,
    "start_time": "2022-04-17T20:37:19.507Z"
   },
   {
    "duration": 6,
    "start_time": "2022-04-17T20:41:25.059Z"
   },
   {
    "duration": 6,
    "start_time": "2022-04-17T20:41:30.962Z"
   },
   {
    "duration": 1532,
    "start_time": "2022-04-17T20:41:53.825Z"
   },
   {
    "duration": 49,
    "start_time": "2022-04-17T20:41:55.359Z"
   },
   {
    "duration": 20,
    "start_time": "2022-04-17T20:41:55.410Z"
   },
   {
    "duration": 44,
    "start_time": "2022-04-17T20:41:55.432Z"
   },
   {
    "duration": 4,
    "start_time": "2022-04-17T20:41:55.479Z"
   },
   {
    "duration": 6,
    "start_time": "2022-04-17T20:41:55.485Z"
   },
   {
    "duration": 10,
    "start_time": "2022-04-17T20:41:55.493Z"
   },
   {
    "duration": 63,
    "start_time": "2022-04-17T20:41:55.506Z"
   },
   {
    "duration": 16,
    "start_time": "2022-04-17T20:41:55.572Z"
   },
   {
    "duration": 8,
    "start_time": "2022-04-17T20:41:55.591Z"
   },
   {
    "duration": 6,
    "start_time": "2022-04-17T20:41:55.601Z"
   },
   {
    "duration": 44,
    "start_time": "2022-04-17T20:41:55.609Z"
   },
   {
    "duration": 30,
    "start_time": "2022-04-17T20:41:55.656Z"
   },
   {
    "duration": 7,
    "start_time": "2022-04-17T20:41:55.692Z"
   },
   {
    "duration": 10,
    "start_time": "2022-04-17T20:41:55.701Z"
   },
   {
    "duration": 9,
    "start_time": "2022-04-17T20:41:55.714Z"
   },
   {
    "duration": 7,
    "start_time": "2022-04-17T20:41:55.752Z"
   },
   {
    "duration": 10,
    "start_time": "2022-04-17T20:41:55.761Z"
   },
   {
    "duration": 21,
    "start_time": "2022-04-17T20:41:55.773Z"
   },
   {
    "duration": 85,
    "start_time": "2022-04-17T20:41:55.796Z"
   },
   {
    "duration": 612,
    "start_time": "2022-04-17T20:41:55.883Z"
   },
   {
    "duration": 10,
    "start_time": "2022-04-17T20:41:56.497Z"
   },
   {
    "duration": 5,
    "start_time": "2022-04-17T20:41:56.509Z"
   },
   {
    "duration": 53,
    "start_time": "2022-04-17T20:41:56.517Z"
   },
   {
    "duration": 13,
    "start_time": "2022-04-17T20:41:56.573Z"
   },
   {
    "duration": 11,
    "start_time": "2022-04-17T20:41:56.588Z"
   },
   {
    "duration": 60,
    "start_time": "2022-04-17T20:41:56.601Z"
   },
   {
    "duration": 6,
    "start_time": "2022-04-17T20:41:56.664Z"
   },
   {
    "duration": 8,
    "start_time": "2022-04-17T20:41:56.673Z"
   },
   {
    "duration": 7,
    "start_time": "2022-04-17T20:41:56.683Z"
   },
   {
    "duration": 11,
    "start_time": "2022-04-17T20:41:56.692Z"
   },
   {
    "duration": 5,
    "start_time": "2022-04-17T20:41:56.705Z"
   },
   {
    "duration": 266,
    "start_time": "2022-04-17T20:41:56.713Z"
   },
   {
    "duration": 9,
    "start_time": "2022-04-17T20:41:56.981Z"
   },
   {
    "duration": 10,
    "start_time": "2022-04-17T20:41:56.992Z"
   },
   {
    "duration": 9,
    "start_time": "2022-04-17T20:41:57.005Z"
   },
   {
    "duration": 36,
    "start_time": "2022-04-17T20:41:57.017Z"
   },
   {
    "duration": 8,
    "start_time": "2022-04-17T20:41:57.056Z"
   },
   {
    "duration": 11,
    "start_time": "2022-04-17T20:41:57.066Z"
   },
   {
    "duration": 6,
    "start_time": "2022-04-17T20:41:57.080Z"
   },
   {
    "duration": 54,
    "start_time": "2022-04-17T20:41:57.099Z"
   },
   {
    "duration": 11,
    "start_time": "2022-04-17T20:41:57.155Z"
   },
   {
    "duration": 10,
    "start_time": "2022-04-17T20:41:57.168Z"
   },
   {
    "duration": 11,
    "start_time": "2022-04-17T20:41:57.181Z"
   },
   {
    "duration": 9,
    "start_time": "2022-04-17T20:41:57.194Z"
   },
   {
    "duration": 44647,
    "start_time": "2022-04-17T20:41:57.205Z"
   },
   {
    "duration": 7,
    "start_time": "2022-04-17T20:42:41.855Z"
   },
   {
    "duration": 8,
    "start_time": "2022-04-17T20:42:41.863Z"
   },
   {
    "duration": 10,
    "start_time": "2022-04-17T20:42:41.873Z"
   },
   {
    "duration": 11,
    "start_time": "2022-04-17T20:42:41.885Z"
   },
   {
    "duration": 57,
    "start_time": "2022-04-17T20:42:41.898Z"
   },
   {
    "duration": 7,
    "start_time": "2022-04-17T20:42:41.957Z"
   },
   {
    "duration": 21,
    "start_time": "2022-04-17T20:42:41.966Z"
   },
   {
    "duration": 287,
    "start_time": "2022-04-17T20:42:41.989Z"
   },
   {
    "duration": 35,
    "start_time": "2022-04-17T20:42:42.279Z"
   },
   {
    "duration": 580,
    "start_time": "2022-04-17T20:42:42.317Z"
   },
   {
    "duration": 19,
    "start_time": "2022-04-17T20:42:42.899Z"
   },
   {
    "duration": 934,
    "start_time": "2022-04-17T20:42:42.920Z"
   },
   {
    "duration": 11,
    "start_time": "2022-04-17T20:42:43.856Z"
   },
   {
    "duration": 810,
    "start_time": "2022-04-17T20:42:43.870Z"
   },
   {
    "duration": 11,
    "start_time": "2022-04-17T20:42:44.683Z"
   },
   {
    "duration": 487,
    "start_time": "2022-04-17T20:42:44.697Z"
   },
   {
    "duration": 4,
    "start_time": "2022-04-17T20:42:45.187Z"
   },
   {
    "duration": 15,
    "start_time": "2022-04-17T20:42:45.193Z"
   },
   {
    "duration": 819,
    "start_time": "2022-04-17T20:42:45.210Z"
   },
   {
    "duration": 21,
    "start_time": "2022-04-17T20:42:46.031Z"
   },
   {
    "duration": 29,
    "start_time": "2022-04-17T20:42:46.055Z"
   },
   {
    "duration": 913,
    "start_time": "2022-04-17T20:42:46.086Z"
   },
   {
    "duration": 506,
    "start_time": "2022-04-17T20:42:47.002Z"
   },
   {
    "duration": 7,
    "start_time": "2022-04-17T20:42:47.511Z"
   },
   {
    "duration": 12,
    "start_time": "2022-04-17T20:42:47.520Z"
   },
   {
    "duration": 313,
    "start_time": "2022-04-17T20:42:47.534Z"
   },
   {
    "duration": 284,
    "start_time": "2022-04-17T20:42:47.849Z"
   },
   {
    "duration": 267,
    "start_time": "2022-04-17T20:42:48.136Z"
   },
   {
    "duration": 11,
    "start_time": "2022-04-17T20:42:48.405Z"
   },
   {
    "duration": 8,
    "start_time": "2022-04-17T20:42:48.418Z"
   },
   {
    "duration": 8,
    "start_time": "2022-04-17T20:42:48.452Z"
   },
   {
    "duration": 312,
    "start_time": "2022-04-17T20:42:48.462Z"
   },
   {
    "duration": 330,
    "start_time": "2022-04-17T20:42:48.776Z"
   },
   {
    "duration": 15,
    "start_time": "2022-04-17T20:42:49.108Z"
   },
   {
    "duration": 33,
    "start_time": "2022-04-17T20:42:49.125Z"
   },
   {
    "duration": 6,
    "start_time": "2022-04-17T20:42:49.161Z"
   },
   {
    "duration": 16,
    "start_time": "2022-04-17T20:42:49.170Z"
   },
   {
    "duration": 12,
    "start_time": "2022-04-17T20:42:49.188Z"
   },
   {
    "duration": 7,
    "start_time": "2022-04-17T20:42:49.203Z"
   },
   {
    "duration": 54,
    "start_time": "2022-04-17T20:42:49.213Z"
   },
   {
    "duration": 13,
    "start_time": "2022-04-17T20:42:49.269Z"
   },
   {
    "duration": 13,
    "start_time": "2022-04-17T20:42:49.284Z"
   },
   {
    "duration": 256,
    "start_time": "2022-04-17T20:42:49.299Z"
   },
   {
    "duration": 346,
    "start_time": "2022-04-17T20:42:49.557Z"
   },
   {
    "duration": 257,
    "start_time": "2022-04-17T20:42:49.905Z"
   },
   {
    "duration": 13,
    "start_time": "2022-04-17T20:42:50.165Z"
   },
   {
    "duration": 32,
    "start_time": "2022-04-17T20:42:50.180Z"
   },
   {
    "duration": 38,
    "start_time": "2022-04-17T20:42:50.214Z"
   },
   {
    "duration": 22,
    "start_time": "2022-04-17T20:42:50.254Z"
   },
   {
    "duration": 41,
    "start_time": "2022-04-17T20:42:50.279Z"
   },
   {
    "duration": 32,
    "start_time": "2022-04-17T20:42:50.322Z"
   },
   {
    "duration": 745,
    "start_time": "2022-04-17T20:42:50.356Z"
   },
   {
    "duration": 14,
    "start_time": "2022-04-17T20:42:51.103Z"
   },
   {
    "duration": 45,
    "start_time": "2022-04-17T20:42:51.119Z"
   },
   {
    "duration": 37,
    "start_time": "2022-04-17T20:42:51.166Z"
   },
   {
    "duration": 37,
    "start_time": "2022-04-17T20:42:51.205Z"
   },
   {
    "duration": 53,
    "start_time": "2022-04-17T20:42:51.244Z"
   },
   {
    "duration": 24,
    "start_time": "2022-04-17T20:42:51.300Z"
   },
   {
    "duration": 651,
    "start_time": "2022-04-17T20:42:51.326Z"
   },
   {
    "duration": 15,
    "start_time": "2022-04-17T20:42:51.979Z"
   },
   {
    "duration": 51,
    "start_time": "2022-04-17T20:42:51.996Z"
   },
   {
    "duration": 27,
    "start_time": "2022-04-17T20:42:52.050Z"
   },
   {
    "duration": 22,
    "start_time": "2022-04-17T20:42:52.079Z"
   },
   {
    "duration": 1533,
    "start_time": "2022-04-17T20:43:36.331Z"
   },
   {
    "duration": 1440,
    "start_time": "2022-04-17T20:43:49.166Z"
   },
   {
    "duration": 0,
    "start_time": "2022-04-17T20:43:50.608Z"
   },
   {
    "duration": 1554,
    "start_time": "2022-04-17T20:44:04.925Z"
   },
   {
    "duration": 49,
    "start_time": "2022-04-17T20:44:06.481Z"
   },
   {
    "duration": 29,
    "start_time": "2022-04-17T20:44:06.532Z"
   },
   {
    "duration": 28,
    "start_time": "2022-04-17T20:44:06.564Z"
   },
   {
    "duration": 3,
    "start_time": "2022-04-17T20:44:06.595Z"
   },
   {
    "duration": 11,
    "start_time": "2022-04-17T20:44:06.601Z"
   },
   {
    "duration": 41,
    "start_time": "2022-04-17T20:44:06.614Z"
   },
   {
    "duration": 25,
    "start_time": "2022-04-17T20:44:06.657Z"
   },
   {
    "duration": 17,
    "start_time": "2022-04-17T20:44:06.684Z"
   },
   {
    "duration": 7,
    "start_time": "2022-04-17T20:44:06.705Z"
   },
   {
    "duration": 38,
    "start_time": "2022-04-17T20:44:06.715Z"
   },
   {
    "duration": 9,
    "start_time": "2022-04-17T20:44:06.756Z"
   },
   {
    "duration": 29,
    "start_time": "2022-04-17T20:44:06.767Z"
   },
   {
    "duration": 11,
    "start_time": "2022-04-17T20:44:06.798Z"
   },
   {
    "duration": 7,
    "start_time": "2022-04-17T20:44:06.811Z"
   },
   {
    "duration": 33,
    "start_time": "2022-04-17T20:44:06.820Z"
   },
   {
    "duration": 8,
    "start_time": "2022-04-17T20:44:06.855Z"
   },
   {
    "duration": 8,
    "start_time": "2022-04-17T20:44:06.865Z"
   },
   {
    "duration": 28,
    "start_time": "2022-04-17T20:44:06.876Z"
   },
   {
    "duration": 80,
    "start_time": "2022-04-17T20:44:06.906Z"
   },
   {
    "duration": 635,
    "start_time": "2022-04-17T20:44:06.988Z"
   },
   {
    "duration": 12,
    "start_time": "2022-04-17T20:44:07.625Z"
   },
   {
    "duration": 4,
    "start_time": "2022-04-17T20:44:07.652Z"
   },
   {
    "duration": 29,
    "start_time": "2022-04-17T20:44:07.659Z"
   },
   {
    "duration": 14,
    "start_time": "2022-04-17T20:44:07.690Z"
   },
   {
    "duration": 46,
    "start_time": "2022-04-17T20:44:07.707Z"
   },
   {
    "duration": 31,
    "start_time": "2022-04-17T20:44:07.756Z"
   },
   {
    "duration": 7,
    "start_time": "2022-04-17T20:44:07.794Z"
   },
   {
    "duration": 9,
    "start_time": "2022-04-17T20:44:07.803Z"
   },
   {
    "duration": 36,
    "start_time": "2022-04-17T20:44:07.816Z"
   },
   {
    "duration": 10,
    "start_time": "2022-04-17T20:44:07.855Z"
   },
   {
    "duration": 6,
    "start_time": "2022-04-17T20:44:07.867Z"
   },
   {
    "duration": 258,
    "start_time": "2022-04-17T20:44:07.875Z"
   },
   {
    "duration": 18,
    "start_time": "2022-04-17T20:44:08.136Z"
   },
   {
    "duration": 8,
    "start_time": "2022-04-17T20:44:08.157Z"
   },
   {
    "duration": 7,
    "start_time": "2022-04-17T20:44:08.167Z"
   },
   {
    "duration": 4,
    "start_time": "2022-04-17T20:44:08.177Z"
   },
   {
    "duration": 11,
    "start_time": "2022-04-17T20:44:08.183Z"
   },
   {
    "duration": 14,
    "start_time": "2022-04-17T20:44:08.196Z"
   },
   {
    "duration": 7,
    "start_time": "2022-04-17T20:44:08.252Z"
   },
   {
    "duration": 15,
    "start_time": "2022-04-17T20:44:08.261Z"
   },
   {
    "duration": 12,
    "start_time": "2022-04-17T20:44:08.278Z"
   },
   {
    "duration": 9,
    "start_time": "2022-04-17T20:44:08.292Z"
   },
   {
    "duration": 54,
    "start_time": "2022-04-17T20:44:08.303Z"
   },
   {
    "duration": 6,
    "start_time": "2022-04-17T20:44:08.360Z"
   },
   {
    "duration": 55851,
    "start_time": "2022-04-17T20:44:08.369Z"
   },
   {
    "duration": 8,
    "start_time": "2022-04-17T20:45:04.223Z"
   },
   {
    "duration": 22,
    "start_time": "2022-04-17T20:45:04.234Z"
   },
   {
    "duration": 15,
    "start_time": "2022-04-17T20:45:04.259Z"
   },
   {
    "duration": 12,
    "start_time": "2022-04-17T20:45:04.277Z"
   },
   {
    "duration": 20,
    "start_time": "2022-04-17T20:45:04.292Z"
   },
   {
    "duration": 39,
    "start_time": "2022-04-17T20:45:04.315Z"
   },
   {
    "duration": 25,
    "start_time": "2022-04-17T20:45:04.356Z"
   },
   {
    "duration": 287,
    "start_time": "2022-04-17T20:45:04.383Z"
   },
   {
    "duration": 32,
    "start_time": "2022-04-17T20:45:04.672Z"
   },
   {
    "duration": 934,
    "start_time": "2022-04-17T20:45:04.706Z"
   },
   {
    "duration": 19,
    "start_time": "2022-04-17T20:45:05.652Z"
   },
   {
    "duration": 818,
    "start_time": "2022-04-17T20:45:05.674Z"
   },
   {
    "duration": 10,
    "start_time": "2022-04-17T20:45:06.495Z"
   },
   {
    "duration": 744,
    "start_time": "2022-04-17T20:45:06.508Z"
   },
   {
    "duration": 11,
    "start_time": "2022-04-17T20:45:07.255Z"
   },
   {
    "duration": 603,
    "start_time": "2022-04-17T20:45:07.269Z"
   },
   {
    "duration": 4,
    "start_time": "2022-04-17T20:45:07.875Z"
   },
   {
    "duration": 9,
    "start_time": "2022-04-17T20:45:07.882Z"
   },
   {
    "duration": 628,
    "start_time": "2022-04-17T20:45:07.893Z"
   },
   {
    "duration": 10,
    "start_time": "2022-04-17T20:45:08.523Z"
   },
   {
    "duration": 41,
    "start_time": "2022-04-17T20:45:08.536Z"
   },
   {
    "duration": 854,
    "start_time": "2022-04-17T20:45:08.580Z"
   },
   {
    "duration": 418,
    "start_time": "2022-04-17T20:45:09.437Z"
   },
   {
    "duration": 6,
    "start_time": "2022-04-17T20:45:09.857Z"
   },
   {
    "duration": 11,
    "start_time": "2022-04-17T20:45:09.866Z"
   },
   {
    "duration": 314,
    "start_time": "2022-04-17T20:45:09.880Z"
   },
   {
    "duration": 280,
    "start_time": "2022-04-17T20:45:10.196Z"
   },
   {
    "duration": 256,
    "start_time": "2022-04-17T20:45:10.478Z"
   },
   {
    "duration": 21,
    "start_time": "2022-04-17T20:45:10.736Z"
   },
   {
    "duration": 12,
    "start_time": "2022-04-17T20:45:10.759Z"
   },
   {
    "duration": 11,
    "start_time": "2022-04-17T20:45:10.773Z"
   },
   {
    "duration": 313,
    "start_time": "2022-04-17T20:45:10.786Z"
   },
   {
    "duration": 454,
    "start_time": "2022-04-17T20:45:11.102Z"
   },
   {
    "duration": 18,
    "start_time": "2022-04-17T20:45:11.559Z"
   },
   {
    "duration": 14,
    "start_time": "2022-04-17T20:45:11.580Z"
   },
   {
    "duration": 5,
    "start_time": "2022-04-17T20:45:11.604Z"
   },
   {
    "duration": 50,
    "start_time": "2022-04-17T20:45:11.611Z"
   },
   {
    "duration": 11,
    "start_time": "2022-04-17T20:45:11.664Z"
   },
   {
    "duration": 8,
    "start_time": "2022-04-17T20:45:11.677Z"
   },
   {
    "duration": 25,
    "start_time": "2022-04-17T20:45:11.688Z"
   },
   {
    "duration": 13,
    "start_time": "2022-04-17T20:45:11.716Z"
   },
   {
    "duration": 6,
    "start_time": "2022-04-17T20:45:11.753Z"
   },
   {
    "duration": 252,
    "start_time": "2022-04-17T20:45:11.762Z"
   },
   {
    "duration": 476,
    "start_time": "2022-04-17T20:45:12.017Z"
   },
   {
    "duration": 412,
    "start_time": "2022-04-17T20:45:12.496Z"
   },
   {
    "duration": 20,
    "start_time": "2022-04-17T20:45:12.911Z"
   },
   {
    "duration": 32,
    "start_time": "2022-04-17T20:45:12.934Z"
   },
   {
    "duration": 22,
    "start_time": "2022-04-17T20:45:12.968Z"
   },
   {
    "duration": 15,
    "start_time": "2022-04-17T20:45:12.992Z"
   },
   {
    "duration": 53,
    "start_time": "2022-04-17T20:45:13.010Z"
   },
   {
    "duration": 14,
    "start_time": "2022-04-17T20:45:13.066Z"
   },
   {
    "duration": 1212,
    "start_time": "2022-04-17T20:45:13.084Z"
   },
   {
    "duration": 19,
    "start_time": "2022-04-17T20:45:14.299Z"
   },
   {
    "duration": 30,
    "start_time": "2022-04-17T20:45:14.321Z"
   },
   {
    "duration": 13,
    "start_time": "2022-04-17T20:45:14.354Z"
   },
   {
    "duration": 11,
    "start_time": "2022-04-17T20:45:14.369Z"
   },
   {
    "duration": 17,
    "start_time": "2022-04-17T20:45:14.383Z"
   },
   {
    "duration": 10,
    "start_time": "2022-04-17T20:45:14.403Z"
   },
   {
    "duration": 666,
    "start_time": "2022-04-17T20:45:14.415Z"
   },
   {
    "duration": 14,
    "start_time": "2022-04-17T20:45:15.083Z"
   },
   {
    "duration": 17,
    "start_time": "2022-04-17T20:45:15.099Z"
   },
   {
    "duration": 49,
    "start_time": "2022-04-17T20:45:15.119Z"
   },
   {
    "duration": 20,
    "start_time": "2022-04-17T20:45:15.171Z"
   },
   {
    "duration": 85,
    "start_time": "2022-04-17T21:57:55.049Z"
   },
   {
    "duration": 1237,
    "start_time": "2022-04-18T06:59:01.494Z"
   },
   {
    "duration": 40,
    "start_time": "2022-04-18T06:59:04.631Z"
   },
   {
    "duration": 14,
    "start_time": "2022-04-18T06:59:06.941Z"
   },
   {
    "duration": 17,
    "start_time": "2022-04-18T06:59:10.557Z"
   },
   {
    "duration": 3,
    "start_time": "2022-04-18T06:59:13.954Z"
   },
   {
    "duration": 3,
    "start_time": "2022-04-18T06:59:16.144Z"
   },
   {
    "duration": 3,
    "start_time": "2022-04-18T06:59:17.963Z"
   },
   {
    "duration": 13,
    "start_time": "2022-04-18T06:59:20.943Z"
   },
   {
    "duration": 9,
    "start_time": "2022-04-18T06:59:25.241Z"
   },
   {
    "duration": 6,
    "start_time": "2022-04-18T06:59:27.520Z"
   },
   {
    "duration": 3,
    "start_time": "2022-04-18T06:59:34.750Z"
   },
   {
    "duration": 3,
    "start_time": "2022-04-18T06:59:37.013Z"
   },
   {
    "duration": 90,
    "start_time": "2022-04-18T07:02:05.170Z"
   },
   {
    "duration": 7,
    "start_time": "2022-04-18T07:02:17.697Z"
   },
   {
    "duration": 4,
    "start_time": "2022-04-18T07:02:37.970Z"
   },
   {
    "duration": 4,
    "start_time": "2022-04-18T07:02:42.648Z"
   },
   {
    "duration": 5,
    "start_time": "2022-04-18T07:02:58.606Z"
   },
   {
    "duration": 13,
    "start_time": "2022-04-18T07:03:01.567Z"
   },
   {
    "duration": 30,
    "start_time": "2022-04-18T07:03:16.294Z"
   },
   {
    "duration": 425,
    "start_time": "2022-04-18T07:03:20.235Z"
   },
   {
    "duration": 6,
    "start_time": "2022-04-18T07:03:23.997Z"
   },
   {
    "duration": 5,
    "start_time": "2022-04-18T07:03:27.793Z"
   },
   {
    "duration": 16,
    "start_time": "2022-04-18T07:03:31.286Z"
   },
   {
    "duration": 7,
    "start_time": "2022-04-18T07:03:40.799Z"
   },
   {
    "duration": 4,
    "start_time": "2022-04-18T07:03:44.326Z"
   },
   {
    "duration": 15,
    "start_time": "2022-04-18T07:03:47.566Z"
   },
   {
    "duration": 8,
    "start_time": "2022-04-18T07:03:56.402Z"
   },
   {
    "duration": 8,
    "start_time": "2022-04-18T07:04:01.690Z"
   },
   {
    "duration": 22,
    "start_time": "2022-04-18T07:04:10.488Z"
   },
   {
    "duration": 20,
    "start_time": "2022-04-18T07:23:35.339Z"
   },
   {
    "duration": 4,
    "start_time": "2022-04-18T07:26:30.072Z"
   },
   {
    "duration": 6,
    "start_time": "2022-04-18T07:26:42.577Z"
   },
   {
    "duration": 17,
    "start_time": "2022-04-18T07:26:58.148Z"
   },
   {
    "duration": 7,
    "start_time": "2022-04-18T07:35:27.952Z"
   },
   {
    "duration": 4,
    "start_time": "2022-04-18T07:35:33.160Z"
   },
   {
    "duration": 16,
    "start_time": "2022-04-18T07:35:36.927Z"
   },
   {
    "duration": 9,
    "start_time": "2022-04-18T07:35:41.934Z"
   },
   {
    "duration": 9,
    "start_time": "2022-04-18T07:35:45.013Z"
   },
   {
    "duration": 3,
    "start_time": "2022-04-18T07:36:20.050Z"
   },
   {
    "duration": 40,
    "start_time": "2022-04-18T07:36:21.662Z"
   },
   {
    "duration": 13,
    "start_time": "2022-04-18T07:36:23.003Z"
   },
   {
    "duration": 14,
    "start_time": "2022-04-18T07:36:25.864Z"
   },
   {
    "duration": 3,
    "start_time": "2022-04-18T07:36:29.504Z"
   },
   {
    "duration": 3,
    "start_time": "2022-04-18T07:36:31.670Z"
   },
   {
    "duration": 3,
    "start_time": "2022-04-18T07:36:33.047Z"
   },
   {
    "duration": 12,
    "start_time": "2022-04-18T07:36:34.593Z"
   },
   {
    "duration": 8,
    "start_time": "2022-04-18T07:36:38.275Z"
   },
   {
    "duration": 5,
    "start_time": "2022-04-18T07:36:39.519Z"
   },
   {
    "duration": 4,
    "start_time": "2022-04-18T07:36:40.875Z"
   },
   {
    "duration": 3,
    "start_time": "2022-04-18T07:36:42.048Z"
   },
   {
    "duration": 14,
    "start_time": "2022-04-18T07:36:45.704Z"
   },
   {
    "duration": 7,
    "start_time": "2022-04-18T07:36:58.701Z"
   },
   {
    "duration": 4,
    "start_time": "2022-04-18T07:37:02.130Z"
   },
   {
    "duration": 4,
    "start_time": "2022-04-18T07:37:07.402Z"
   },
   {
    "duration": 5,
    "start_time": "2022-04-18T07:37:14.876Z"
   },
   {
    "duration": 13,
    "start_time": "2022-04-18T07:37:20.168Z"
   },
   {
    "duration": 25,
    "start_time": "2022-04-18T07:37:23.085Z"
   },
   {
    "duration": 367,
    "start_time": "2022-04-18T07:37:25.843Z"
   },
   {
    "duration": 8,
    "start_time": "2022-04-18T07:37:29.717Z"
   },
   {
    "duration": 4,
    "start_time": "2022-04-18T07:37:34.119Z"
   },
   {
    "duration": 18,
    "start_time": "2022-04-18T07:37:36.474Z"
   },
   {
    "duration": 4,
    "start_time": "2022-04-18T07:37:39.166Z"
   },
   {
    "duration": 16,
    "start_time": "2022-04-18T07:37:41.495Z"
   },
   {
    "duration": 3,
    "start_time": "2022-04-18T07:37:50.933Z"
   },
   {
    "duration": 31,
    "start_time": "2022-04-18T07:37:53.233Z"
   },
   {
    "duration": 12,
    "start_time": "2022-04-18T07:37:55.402Z"
   },
   {
    "duration": 14,
    "start_time": "2022-04-18T07:37:59.168Z"
   },
   {
    "duration": 3,
    "start_time": "2022-04-18T07:38:02.303Z"
   },
   {
    "duration": 3,
    "start_time": "2022-04-18T07:38:05.758Z"
   },
   {
    "duration": 3,
    "start_time": "2022-04-18T07:38:08.312Z"
   },
   {
    "duration": 13,
    "start_time": "2022-04-18T07:38:10.739Z"
   },
   {
    "duration": 8,
    "start_time": "2022-04-18T07:38:15.094Z"
   },
   {
    "duration": 5,
    "start_time": "2022-04-18T07:38:17.218Z"
   },
   {
    "duration": 4,
    "start_time": "2022-04-18T07:38:20.039Z"
   },
   {
    "duration": 3,
    "start_time": "2022-04-18T07:38:22.823Z"
   },
   {
    "duration": 15,
    "start_time": "2022-04-18T07:38:25.521Z"
   },
   {
    "duration": 7,
    "start_time": "2022-04-18T07:38:32.204Z"
   },
   {
    "duration": 5,
    "start_time": "2022-04-18T07:38:36.871Z"
   },
   {
    "duration": 4,
    "start_time": "2022-04-18T07:38:39.489Z"
   },
   {
    "duration": 5,
    "start_time": "2022-04-18T07:38:42.666Z"
   },
   {
    "duration": 14,
    "start_time": "2022-04-18T07:38:46.021Z"
   },
   {
    "duration": 351,
    "start_time": "2022-04-18T07:38:52.698Z"
   },
   {
    "duration": 6,
    "start_time": "2022-04-18T07:38:56.570Z"
   },
   {
    "duration": 3,
    "start_time": "2022-04-18T07:39:01.241Z"
   },
   {
    "duration": 19,
    "start_time": "2022-04-18T07:39:03.936Z"
   },
   {
    "duration": 8,
    "start_time": "2022-04-18T07:39:27.110Z"
   },
   {
    "duration": 9,
    "start_time": "2022-04-18T07:39:29.710Z"
   },
   {
    "duration": 13,
    "start_time": "2022-04-18T07:40:32.930Z"
   },
   {
    "duration": 10,
    "start_time": "2022-04-18T07:44:52.407Z"
   },
   {
    "duration": 10,
    "start_time": "2022-04-18T07:46:52.057Z"
   },
   {
    "duration": 11,
    "start_time": "2022-04-18T07:48:42.374Z"
   },
   {
    "duration": 6,
    "start_time": "2022-04-18T07:49:21.227Z"
   },
   {
    "duration": 5,
    "start_time": "2022-04-18T07:52:20.574Z"
   },
   {
    "duration": 12,
    "start_time": "2022-04-18T07:52:31.074Z"
   },
   {
    "duration": 4,
    "start_time": "2022-04-18T09:06:35.344Z"
   },
   {
    "duration": 13,
    "start_time": "2022-04-18T09:06:49.359Z"
   },
   {
    "duration": 5,
    "start_time": "2022-04-18T09:08:37.527Z"
   },
   {
    "duration": 11,
    "start_time": "2022-04-18T09:08:50.634Z"
   },
   {
    "duration": 10,
    "start_time": "2022-04-18T09:09:01.145Z"
   },
   {
    "duration": 7,
    "start_time": "2022-04-18T09:09:56.799Z"
   },
   {
    "duration": 72,
    "start_time": "2022-04-18T16:25:47.202Z"
   },
   {
    "duration": 1986,
    "start_time": "2022-04-18T16:50:56.978Z"
   },
   {
    "duration": 148,
    "start_time": "2022-04-18T16:50:58.967Z"
   },
   {
    "duration": 0,
    "start_time": "2022-04-18T16:50:59.122Z"
   },
   {
    "duration": 0,
    "start_time": "2022-04-18T16:50:59.124Z"
   },
   {
    "duration": 0,
    "start_time": "2022-04-18T16:50:59.126Z"
   },
   {
    "duration": 0,
    "start_time": "2022-04-18T16:50:59.128Z"
   },
   {
    "duration": 0,
    "start_time": "2022-04-18T16:50:59.129Z"
   },
   {
    "duration": 0,
    "start_time": "2022-04-18T16:50:59.131Z"
   },
   {
    "duration": 0,
    "start_time": "2022-04-18T16:50:59.132Z"
   },
   {
    "duration": 0,
    "start_time": "2022-04-18T16:50:59.134Z"
   },
   {
    "duration": 0,
    "start_time": "2022-04-18T16:50:59.153Z"
   },
   {
    "duration": 0,
    "start_time": "2022-04-18T16:50:59.155Z"
   },
   {
    "duration": 0,
    "start_time": "2022-04-18T16:50:59.156Z"
   },
   {
    "duration": 0,
    "start_time": "2022-04-18T16:50:59.159Z"
   },
   {
    "duration": 0,
    "start_time": "2022-04-18T16:50:59.160Z"
   },
   {
    "duration": 0,
    "start_time": "2022-04-18T16:50:59.162Z"
   },
   {
    "duration": 0,
    "start_time": "2022-04-18T16:50:59.163Z"
   },
   {
    "duration": 0,
    "start_time": "2022-04-18T16:50:59.164Z"
   },
   {
    "duration": 0,
    "start_time": "2022-04-18T16:50:59.166Z"
   },
   {
    "duration": 0,
    "start_time": "2022-04-18T16:50:59.168Z"
   },
   {
    "duration": 0,
    "start_time": "2022-04-18T16:50:59.169Z"
   },
   {
    "duration": 0,
    "start_time": "2022-04-18T16:50:59.171Z"
   },
   {
    "duration": 0,
    "start_time": "2022-04-18T16:50:59.172Z"
   },
   {
    "duration": 0,
    "start_time": "2022-04-18T16:50:59.174Z"
   },
   {
    "duration": 0,
    "start_time": "2022-04-18T16:50:59.177Z"
   },
   {
    "duration": 0,
    "start_time": "2022-04-18T16:50:59.178Z"
   },
   {
    "duration": 0,
    "start_time": "2022-04-18T16:50:59.180Z"
   },
   {
    "duration": 0,
    "start_time": "2022-04-18T16:50:59.182Z"
   },
   {
    "duration": 0,
    "start_time": "2022-04-18T16:50:59.183Z"
   },
   {
    "duration": 0,
    "start_time": "2022-04-18T16:50:59.185Z"
   },
   {
    "duration": 0,
    "start_time": "2022-04-18T16:50:59.186Z"
   },
   {
    "duration": 0,
    "start_time": "2022-04-18T16:50:59.188Z"
   },
   {
    "duration": 0,
    "start_time": "2022-04-18T16:50:59.252Z"
   },
   {
    "duration": 0,
    "start_time": "2022-04-18T16:50:59.254Z"
   },
   {
    "duration": 0,
    "start_time": "2022-04-18T16:50:59.255Z"
   },
   {
    "duration": 0,
    "start_time": "2022-04-18T16:50:59.257Z"
   },
   {
    "duration": 0,
    "start_time": "2022-04-18T16:50:59.258Z"
   },
   {
    "duration": 0,
    "start_time": "2022-04-18T16:50:59.259Z"
   },
   {
    "duration": 0,
    "start_time": "2022-04-18T16:50:59.260Z"
   },
   {
    "duration": 0,
    "start_time": "2022-04-18T16:50:59.262Z"
   },
   {
    "duration": 0,
    "start_time": "2022-04-18T16:50:59.264Z"
   },
   {
    "duration": 0,
    "start_time": "2022-04-18T16:50:59.265Z"
   },
   {
    "duration": 0,
    "start_time": "2022-04-18T16:50:59.267Z"
   },
   {
    "duration": 0,
    "start_time": "2022-04-18T16:50:59.268Z"
   },
   {
    "duration": 0,
    "start_time": "2022-04-18T16:50:59.270Z"
   },
   {
    "duration": 0,
    "start_time": "2022-04-18T16:50:59.272Z"
   },
   {
    "duration": 0,
    "start_time": "2022-04-18T16:50:59.273Z"
   },
   {
    "duration": 0,
    "start_time": "2022-04-18T16:50:59.275Z"
   },
   {
    "duration": 0,
    "start_time": "2022-04-18T16:50:59.276Z"
   },
   {
    "duration": 0,
    "start_time": "2022-04-18T16:50:59.278Z"
   },
   {
    "duration": 0,
    "start_time": "2022-04-18T16:50:59.281Z"
   },
   {
    "duration": 0,
    "start_time": "2022-04-18T16:50:59.283Z"
   },
   {
    "duration": 0,
    "start_time": "2022-04-18T16:50:59.284Z"
   },
   {
    "duration": 0,
    "start_time": "2022-04-18T16:50:59.286Z"
   },
   {
    "duration": 0,
    "start_time": "2022-04-18T16:50:59.288Z"
   },
   {
    "duration": 0,
    "start_time": "2022-04-18T16:50:59.290Z"
   },
   {
    "duration": 0,
    "start_time": "2022-04-18T16:50:59.352Z"
   },
   {
    "duration": 0,
    "start_time": "2022-04-18T16:50:59.353Z"
   },
   {
    "duration": 0,
    "start_time": "2022-04-18T16:50:59.355Z"
   },
   {
    "duration": 0,
    "start_time": "2022-04-18T16:50:59.356Z"
   },
   {
    "duration": 0,
    "start_time": "2022-04-18T16:50:59.358Z"
   },
   {
    "duration": 0,
    "start_time": "2022-04-18T16:50:59.359Z"
   },
   {
    "duration": 0,
    "start_time": "2022-04-18T16:50:59.361Z"
   },
   {
    "duration": 0,
    "start_time": "2022-04-18T16:50:59.363Z"
   },
   {
    "duration": 0,
    "start_time": "2022-04-18T16:50:59.364Z"
   },
   {
    "duration": 0,
    "start_time": "2022-04-18T16:50:59.365Z"
   },
   {
    "duration": 0,
    "start_time": "2022-04-18T16:50:59.367Z"
   },
   {
    "duration": 0,
    "start_time": "2022-04-18T16:50:59.368Z"
   },
   {
    "duration": 0,
    "start_time": "2022-04-18T16:50:59.370Z"
   },
   {
    "duration": 0,
    "start_time": "2022-04-18T16:50:59.372Z"
   },
   {
    "duration": 0,
    "start_time": "2022-04-18T16:50:59.373Z"
   },
   {
    "duration": 0,
    "start_time": "2022-04-18T16:50:59.375Z"
   },
   {
    "duration": 0,
    "start_time": "2022-04-18T16:50:59.376Z"
   },
   {
    "duration": 0,
    "start_time": "2022-04-18T16:50:59.378Z"
   },
   {
    "duration": 0,
    "start_time": "2022-04-18T16:50:59.379Z"
   },
   {
    "duration": 0,
    "start_time": "2022-04-18T16:50:59.381Z"
   },
   {
    "duration": 0,
    "start_time": "2022-04-18T16:50:59.383Z"
   },
   {
    "duration": 0,
    "start_time": "2022-04-18T16:50:59.384Z"
   },
   {
    "duration": 0,
    "start_time": "2022-04-18T16:50:59.386Z"
   },
   {
    "duration": 0,
    "start_time": "2022-04-18T16:50:59.387Z"
   },
   {
    "duration": 0,
    "start_time": "2022-04-18T16:50:59.452Z"
   },
   {
    "duration": 0,
    "start_time": "2022-04-18T16:50:59.454Z"
   },
   {
    "duration": 0,
    "start_time": "2022-04-18T16:50:59.456Z"
   },
   {
    "duration": 0,
    "start_time": "2022-04-18T16:50:59.457Z"
   },
   {
    "duration": 0,
    "start_time": "2022-04-18T16:50:59.459Z"
   },
   {
    "duration": 0,
    "start_time": "2022-04-18T16:50:59.460Z"
   },
   {
    "duration": 0,
    "start_time": "2022-04-18T16:50:59.461Z"
   },
   {
    "duration": 0,
    "start_time": "2022-04-18T16:50:59.463Z"
   },
   {
    "duration": 0,
    "start_time": "2022-04-18T16:50:59.465Z"
   },
   {
    "duration": 0,
    "start_time": "2022-04-18T16:50:59.466Z"
   },
   {
    "duration": 0,
    "start_time": "2022-04-18T16:50:59.468Z"
   },
   {
    "duration": 0,
    "start_time": "2022-04-18T16:50:59.470Z"
   },
   {
    "duration": 0,
    "start_time": "2022-04-18T16:50:59.472Z"
   },
   {
    "duration": 0,
    "start_time": "2022-04-18T16:50:59.473Z"
   },
   {
    "duration": 0,
    "start_time": "2022-04-18T16:50:59.475Z"
   },
   {
    "duration": 0,
    "start_time": "2022-04-18T16:50:59.477Z"
   },
   {
    "duration": 0,
    "start_time": "2022-04-18T16:50:59.479Z"
   },
   {
    "duration": 0,
    "start_time": "2022-04-18T16:50:59.480Z"
   },
   {
    "duration": 0,
    "start_time": "2022-04-18T16:50:59.482Z"
   },
   {
    "duration": 0,
    "start_time": "2022-04-18T16:50:59.484Z"
   },
   {
    "duration": 0,
    "start_time": "2022-04-18T16:50:59.485Z"
   },
   {
    "duration": 0,
    "start_time": "2022-04-18T16:50:59.487Z"
   },
   {
    "duration": 0,
    "start_time": "2022-04-18T16:50:59.553Z"
   },
   {
    "duration": 161,
    "start_time": "2022-04-18T16:51:22.410Z"
   },
   {
    "duration": 4,
    "start_time": "2022-04-18T16:51:53.659Z"
   },
   {
    "duration": 4,
    "start_time": "2022-04-18T16:51:56.976Z"
   },
   {
    "duration": 50,
    "start_time": "2022-04-18T16:51:57.360Z"
   },
   {
    "duration": 3,
    "start_time": "2022-04-18T16:52:15.640Z"
   },
   {
    "duration": 50,
    "start_time": "2022-04-18T16:52:15.648Z"
   },
   {
    "duration": 22,
    "start_time": "2022-04-18T16:52:15.700Z"
   },
   {
    "duration": 53,
    "start_time": "2022-04-18T16:52:15.724Z"
   },
   {
    "duration": 5,
    "start_time": "2022-04-18T16:52:15.779Z"
   },
   {
    "duration": 14,
    "start_time": "2022-04-18T16:52:15.786Z"
   },
   {
    "duration": 8,
    "start_time": "2022-04-18T16:52:15.802Z"
   },
   {
    "duration": 20,
    "start_time": "2022-04-18T16:52:15.851Z"
   },
   {
    "duration": 18,
    "start_time": "2022-04-18T16:52:15.873Z"
   },
   {
    "duration": 7,
    "start_time": "2022-04-18T16:52:15.893Z"
   },
   {
    "duration": 5,
    "start_time": "2022-04-18T16:52:15.904Z"
   },
   {
    "duration": 47,
    "start_time": "2022-04-18T16:52:15.911Z"
   },
   {
    "duration": 31,
    "start_time": "2022-04-18T16:52:15.960Z"
   },
   {
    "duration": 16,
    "start_time": "2022-04-18T16:52:15.992Z"
   },
   {
    "duration": 12,
    "start_time": "2022-04-18T16:52:16.010Z"
   },
   {
    "duration": 12,
    "start_time": "2022-04-18T16:52:16.024Z"
   },
   {
    "duration": 5,
    "start_time": "2022-04-18T16:52:16.052Z"
   },
   {
    "duration": 10,
    "start_time": "2022-04-18T16:52:16.059Z"
   },
   {
    "duration": 16,
    "start_time": "2022-04-18T16:52:16.072Z"
   },
   {
    "duration": 18,
    "start_time": "2022-04-18T16:52:16.091Z"
   },
   {
    "duration": 41,
    "start_time": "2022-04-18T16:52:16.112Z"
   },
   {
    "duration": 7,
    "start_time": "2022-04-18T16:52:16.155Z"
   },
   {
    "duration": 6,
    "start_time": "2022-04-18T16:52:16.164Z"
   },
   {
    "duration": 7,
    "start_time": "2022-04-18T16:52:16.172Z"
   },
   {
    "duration": 10,
    "start_time": "2022-04-18T16:52:16.181Z"
   },
   {
    "duration": 6,
    "start_time": "2022-04-18T16:52:16.193Z"
   },
   {
    "duration": 12,
    "start_time": "2022-04-18T16:52:16.201Z"
   },
   {
    "duration": 39,
    "start_time": "2022-04-18T16:52:16.215Z"
   },
   {
    "duration": 9,
    "start_time": "2022-04-18T16:52:16.261Z"
   },
   {
    "duration": 11,
    "start_time": "2022-04-18T16:52:16.272Z"
   },
   {
    "duration": 7,
    "start_time": "2022-04-18T16:52:16.285Z"
   },
   {
    "duration": 277,
    "start_time": "2022-04-18T16:52:16.294Z"
   },
   {
    "duration": 7,
    "start_time": "2022-04-18T16:52:16.574Z"
   },
   {
    "duration": 18,
    "start_time": "2022-04-18T16:52:16.582Z"
   },
   {
    "duration": 19,
    "start_time": "2022-04-18T16:52:16.602Z"
   },
   {
    "duration": 12,
    "start_time": "2022-04-18T16:52:16.623Z"
   },
   {
    "duration": 17,
    "start_time": "2022-04-18T16:52:16.636Z"
   },
   {
    "duration": 14,
    "start_time": "2022-04-18T16:52:16.655Z"
   },
   {
    "duration": 13,
    "start_time": "2022-04-18T16:52:16.671Z"
   },
   {
    "duration": 7,
    "start_time": "2022-04-18T16:52:16.686Z"
   },
   {
    "duration": 7,
    "start_time": "2022-04-18T16:52:16.695Z"
   },
   {
    "duration": 8,
    "start_time": "2022-04-18T16:52:16.704Z"
   },
   {
    "duration": 38,
    "start_time": "2022-04-18T16:52:16.714Z"
   },
   {
    "duration": 3,
    "start_time": "2022-04-18T16:52:16.754Z"
   },
   {
    "duration": 25,
    "start_time": "2022-04-18T16:52:16.759Z"
   },
   {
    "duration": 6,
    "start_time": "2022-04-18T16:52:16.786Z"
   },
   {
    "duration": 25,
    "start_time": "2022-04-18T16:52:16.794Z"
   },
   {
    "duration": 293,
    "start_time": "2022-04-18T16:52:16.821Z"
   },
   {
    "duration": 56,
    "start_time": "2022-04-18T16:52:17.116Z"
   },
   {
    "duration": 823,
    "start_time": "2022-04-18T16:52:17.174Z"
   },
   {
    "duration": 22,
    "start_time": "2022-04-18T16:52:17.999Z"
   },
   {
    "duration": 1167,
    "start_time": "2022-04-18T16:52:18.023Z"
   },
   {
    "duration": 8,
    "start_time": "2022-04-18T16:52:19.192Z"
   },
   {
    "duration": 566,
    "start_time": "2022-04-18T16:52:19.204Z"
   },
   {
    "duration": 10,
    "start_time": "2022-04-18T16:52:19.773Z"
   },
   {
    "duration": 302,
    "start_time": "2022-04-18T16:52:19.785Z"
   },
   {
    "duration": 4,
    "start_time": "2022-04-18T16:52:20.089Z"
   },
   {
    "duration": 10,
    "start_time": "2022-04-18T16:52:20.096Z"
   },
   {
    "duration": 580,
    "start_time": "2022-04-18T16:52:20.108Z"
   },
   {
    "duration": 9,
    "start_time": "2022-04-18T16:52:20.690Z"
   },
   {
    "duration": 27,
    "start_time": "2022-04-18T16:52:20.702Z"
   },
   {
    "duration": 893,
    "start_time": "2022-04-18T16:52:20.731Z"
   },
   {
    "duration": 367,
    "start_time": "2022-04-18T16:52:21.626Z"
   },
   {
    "duration": 6,
    "start_time": "2022-04-18T16:52:21.995Z"
   },
   {
    "duration": 18,
    "start_time": "2022-04-18T16:52:22.003Z"
   },
   {
    "duration": 308,
    "start_time": "2022-04-18T16:52:22.023Z"
   },
   {
    "duration": 243,
    "start_time": "2022-04-18T16:52:22.333Z"
   },
   {
    "duration": 381,
    "start_time": "2022-04-18T16:52:22.578Z"
   },
   {
    "duration": 13,
    "start_time": "2022-04-18T16:52:22.961Z"
   },
   {
    "duration": 13,
    "start_time": "2022-04-18T16:52:22.976Z"
   },
   {
    "duration": 16,
    "start_time": "2022-04-18T16:52:22.991Z"
   },
   {
    "duration": 319,
    "start_time": "2022-04-18T16:52:23.009Z"
   },
   {
    "duration": 315,
    "start_time": "2022-04-18T16:52:23.330Z"
   },
   {
    "duration": 14,
    "start_time": "2022-04-18T16:52:23.647Z"
   },
   {
    "duration": 15,
    "start_time": "2022-04-18T16:52:23.664Z"
   },
   {
    "duration": 6,
    "start_time": "2022-04-18T16:52:23.681Z"
   },
   {
    "duration": 16,
    "start_time": "2022-04-18T16:52:23.689Z"
   },
   {
    "duration": 11,
    "start_time": "2022-04-18T16:52:23.707Z"
   },
   {
    "duration": 37,
    "start_time": "2022-04-18T16:52:23.720Z"
   },
   {
    "duration": 18,
    "start_time": "2022-04-18T16:52:23.759Z"
   },
   {
    "duration": 13,
    "start_time": "2022-04-18T16:52:23.780Z"
   },
   {
    "duration": 8,
    "start_time": "2022-04-18T16:52:23.795Z"
   },
   {
    "duration": 279,
    "start_time": "2022-04-18T16:52:23.811Z"
   },
   {
    "duration": 250,
    "start_time": "2022-04-18T16:52:24.092Z"
   },
   {
    "duration": 248,
    "start_time": "2022-04-18T16:52:24.352Z"
   },
   {
    "duration": 13,
    "start_time": "2022-04-18T16:52:24.603Z"
   },
   {
    "duration": 15,
    "start_time": "2022-04-18T16:52:24.618Z"
   },
   {
    "duration": 26,
    "start_time": "2022-04-18T16:52:24.635Z"
   },
   {
    "duration": 12,
    "start_time": "2022-04-18T16:52:24.664Z"
   },
   {
    "duration": 13,
    "start_time": "2022-04-18T16:52:24.678Z"
   },
   {
    "duration": 11,
    "start_time": "2022-04-18T16:52:24.693Z"
   },
   {
    "duration": 897,
    "start_time": "2022-04-18T16:52:24.706Z"
   },
   {
    "duration": 13,
    "start_time": "2022-04-18T16:52:25.605Z"
   },
   {
    "duration": 30,
    "start_time": "2022-04-18T16:52:25.621Z"
   },
   {
    "duration": 16,
    "start_time": "2022-04-18T16:52:25.654Z"
   },
   {
    "duration": 21,
    "start_time": "2022-04-18T16:52:25.673Z"
   },
   {
    "duration": 41,
    "start_time": "2022-04-18T16:52:25.696Z"
   },
   {
    "duration": 17,
    "start_time": "2022-04-18T16:52:25.740Z"
   },
   {
    "duration": 613,
    "start_time": "2022-04-18T16:52:25.759Z"
   },
   {
    "duration": 16,
    "start_time": "2022-04-18T16:52:26.374Z"
   },
   {
    "duration": 18,
    "start_time": "2022-04-18T16:52:26.392Z"
   },
   {
    "duration": 42,
    "start_time": "2022-04-18T16:52:26.412Z"
   },
   {
    "duration": 13,
    "start_time": "2022-04-18T16:52:26.457Z"
   },
   {
    "duration": 106,
    "start_time": "2022-04-18T17:20:19.176Z"
   },
   {
    "duration": 1781,
    "start_time": "2022-04-19T03:43:07.554Z"
   },
   {
    "duration": 52,
    "start_time": "2022-04-19T03:43:13.191Z"
   },
   {
    "duration": 21,
    "start_time": "2022-04-19T03:43:15.601Z"
   },
   {
    "duration": 29,
    "start_time": "2022-04-19T03:43:19.265Z"
   },
   {
    "duration": 6,
    "start_time": "2022-04-19T03:43:22.685Z"
   },
   {
    "duration": 5,
    "start_time": "2022-04-19T03:43:24.997Z"
   },
   {
    "duration": 6,
    "start_time": "2022-04-19T03:43:27.167Z"
   },
   {
    "duration": 21,
    "start_time": "2022-04-19T03:43:29.483Z"
   },
   {
    "duration": 14,
    "start_time": "2022-04-19T03:43:32.524Z"
   },
   {
    "duration": 8,
    "start_time": "2022-04-19T03:43:34.701Z"
   },
   {
    "duration": 6,
    "start_time": "2022-04-19T03:43:36.704Z"
   },
   {
    "duration": 6,
    "start_time": "2022-04-19T03:43:38.832Z"
   },
   {
    "duration": 7,
    "start_time": "2022-04-19T03:43:43.149Z"
   },
   {
    "duration": 156,
    "start_time": "2022-04-19T03:43:45.213Z"
   },
   {
    "duration": 119,
    "start_time": "2022-04-19T07:20:02.978Z"
   }
  ],
  "kernelspec": {
   "display_name": "Python 3 (ipykernel)",
   "language": "python",
   "name": "python3"
  },
  "language_info": {
   "codemirror_mode": {
    "name": "ipython",
    "version": 3
   },
   "file_extension": ".py",
   "mimetype": "text/x-python",
   "name": "python",
   "nbconvert_exporter": "python",
   "pygments_lexer": "ipython3",
   "version": "3.8.6"
  },
  "toc": {
   "base_numbering": 1,
   "nav_menu": {},
   "number_sections": true,
   "sideBar": true,
   "skip_h1_title": true,
   "title_cell": "Table of Contents",
   "title_sidebar": "Contents",
   "toc_cell": false,
   "toc_position": {},
   "toc_section_display": true,
   "toc_window_display": false
  }
 },
 "nbformat": 4,
 "nbformat_minor": 5
}
