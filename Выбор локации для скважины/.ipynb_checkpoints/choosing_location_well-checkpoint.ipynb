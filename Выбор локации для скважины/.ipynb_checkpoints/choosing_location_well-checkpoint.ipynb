{
 "cells": [
  {
   "cell_type": "markdown",
   "metadata": {},
   "source": [
    "# Выбор локации для скважины"
   ]
  },
  {
   "cell_type": "markdown",
   "metadata": {},
   "source": [
    "Допустим, вы работаете в добывающей компании «ГлавРосГосНефть». Нужно решить, где бурить новую скважину.\n",
    "\n",
    "Вам предоставлены пробы нефти в трёх регионах: в каждом 10 000 месторождений, где измерили качество нефти и объём её запасов. Постройте модель машинного обучения, которая поможет определить регион, где добыча принесёт наибольшую прибыль. Проанализируйте возможную прибыль и риски техникой *Bootstrap.*\n",
    "\n",
    "Шаги для выбора локации:\n",
    "\n",
    "- В избранном регионе ищут месторождения, для каждого определяют значения признаков;\n",
    "- Строят модель и оценивают объём запасов;\n",
    "- Выбирают месторождения с самым высокими оценками значений. Количество месторождений зависит от бюджета компании и стоимости разработки одной скважины;\n",
    "- Прибыль равна суммарной прибыли отобранных месторождений."
   ]
  },
  {
   "cell_type": "markdown",
   "metadata": {},
   "source": [
    "## Загрузка и подготовка данных"
   ]
  },
  {
   "cell_type": "markdown",
   "metadata": {},
   "source": [
    "Импортируем необходимые библиотеки"
   ]
  },
  {
   "cell_type": "code",
   "execution_count": 1,
   "metadata": {},
   "outputs": [],
   "source": [
    "from sklearn.linear_model import LinearRegression\n",
    "from sklearn.metrics import mean_squared_error\n",
    "from sklearn.preprocessing import StandardScaler\n",
    "from sklearn.model_selection import train_test_split\n",
    "\n",
    "import matplotlib.pyplot as plt\n",
    "import numpy as np\n",
    "import pandas as pd\n",
    "import warnings\n",
    "\n",
    "warnings.filterwarnings('ignore')"
   ]
  },
  {
   "cell_type": "markdown",
   "metadata": {},
   "source": [
    "Загружаем данные"
   ]
  },
  {
   "cell_type": "code",
   "execution_count": 2,
   "metadata": {},
   "outputs": [],
   "source": [
    "geo_data_0 = pd.read_csv('/datasets/geo_data_0.csv')\n",
    "geo_data_1 = pd.read_csv('/datasets/geo_data_1.csv')\n",
    "geo_data_2 = pd.read_csv('/datasets/geo_data_2.csv')"
   ]
  },
  {
   "cell_type": "markdown",
   "metadata": {},
   "source": [
    "Посмотрим на загруженные данные, и т.е. необходимо открыть и посмотреть три файла создадим функцию для просмотра данных"
   ]
  },
  {
   "cell_type": "code",
   "execution_count": 3,
   "metadata": {},
   "outputs": [],
   "source": [
    "def views(data):\n",
    "    display(data.head())\n",
    "    print(data.info())\n",
    "    display(data.describe())\n",
    "    print('Количество дубликатов', data.duplicated().sum())"
   ]
  },
  {
   "cell_type": "code",
   "execution_count": 4,
   "metadata": {},
   "outputs": [
    {
     "data": {
      "text/html": [
       "<div>\n",
       "<style scoped>\n",
       "    .dataframe tbody tr th:only-of-type {\n",
       "        vertical-align: middle;\n",
       "    }\n",
       "\n",
       "    .dataframe tbody tr th {\n",
       "        vertical-align: top;\n",
       "    }\n",
       "\n",
       "    .dataframe thead th {\n",
       "        text-align: right;\n",
       "    }\n",
       "</style>\n",
       "<table border=\"1\" class=\"dataframe\">\n",
       "  <thead>\n",
       "    <tr style=\"text-align: right;\">\n",
       "      <th></th>\n",
       "      <th>id</th>\n",
       "      <th>f0</th>\n",
       "      <th>f1</th>\n",
       "      <th>f2</th>\n",
       "      <th>product</th>\n",
       "    </tr>\n",
       "  </thead>\n",
       "  <tbody>\n",
       "    <tr>\n",
       "      <th>0</th>\n",
       "      <td>txEyH</td>\n",
       "      <td>0.705745</td>\n",
       "      <td>-0.497823</td>\n",
       "      <td>1.221170</td>\n",
       "      <td>105.280062</td>\n",
       "    </tr>\n",
       "    <tr>\n",
       "      <th>1</th>\n",
       "      <td>2acmU</td>\n",
       "      <td>1.334711</td>\n",
       "      <td>-0.340164</td>\n",
       "      <td>4.365080</td>\n",
       "      <td>73.037750</td>\n",
       "    </tr>\n",
       "    <tr>\n",
       "      <th>2</th>\n",
       "      <td>409Wp</td>\n",
       "      <td>1.022732</td>\n",
       "      <td>0.151990</td>\n",
       "      <td>1.419926</td>\n",
       "      <td>85.265647</td>\n",
       "    </tr>\n",
       "    <tr>\n",
       "      <th>3</th>\n",
       "      <td>iJLyR</td>\n",
       "      <td>-0.032172</td>\n",
       "      <td>0.139033</td>\n",
       "      <td>2.978566</td>\n",
       "      <td>168.620776</td>\n",
       "    </tr>\n",
       "    <tr>\n",
       "      <th>4</th>\n",
       "      <td>Xdl7t</td>\n",
       "      <td>1.988431</td>\n",
       "      <td>0.155413</td>\n",
       "      <td>4.751769</td>\n",
       "      <td>154.036647</td>\n",
       "    </tr>\n",
       "  </tbody>\n",
       "</table>\n",
       "</div>"
      ],
      "text/plain": [
       "      id        f0        f1        f2     product\n",
       "0  txEyH  0.705745 -0.497823  1.221170  105.280062\n",
       "1  2acmU  1.334711 -0.340164  4.365080   73.037750\n",
       "2  409Wp  1.022732  0.151990  1.419926   85.265647\n",
       "3  iJLyR -0.032172  0.139033  2.978566  168.620776\n",
       "4  Xdl7t  1.988431  0.155413  4.751769  154.036647"
      ]
     },
     "metadata": {},
     "output_type": "display_data"
    },
    {
     "name": "stdout",
     "output_type": "stream",
     "text": [
      "<class 'pandas.core.frame.DataFrame'>\n",
      "RangeIndex: 100000 entries, 0 to 99999\n",
      "Data columns (total 5 columns):\n",
      " #   Column   Non-Null Count   Dtype  \n",
      "---  ------   --------------   -----  \n",
      " 0   id       100000 non-null  object \n",
      " 1   f0       100000 non-null  float64\n",
      " 2   f1       100000 non-null  float64\n",
      " 3   f2       100000 non-null  float64\n",
      " 4   product  100000 non-null  float64\n",
      "dtypes: float64(4), object(1)\n",
      "memory usage: 3.8+ MB\n",
      "None\n"
     ]
    },
    {
     "data": {
      "text/html": [
       "<div>\n",
       "<style scoped>\n",
       "    .dataframe tbody tr th:only-of-type {\n",
       "        vertical-align: middle;\n",
       "    }\n",
       "\n",
       "    .dataframe tbody tr th {\n",
       "        vertical-align: top;\n",
       "    }\n",
       "\n",
       "    .dataframe thead th {\n",
       "        text-align: right;\n",
       "    }\n",
       "</style>\n",
       "<table border=\"1\" class=\"dataframe\">\n",
       "  <thead>\n",
       "    <tr style=\"text-align: right;\">\n",
       "      <th></th>\n",
       "      <th>f0</th>\n",
       "      <th>f1</th>\n",
       "      <th>f2</th>\n",
       "      <th>product</th>\n",
       "    </tr>\n",
       "  </thead>\n",
       "  <tbody>\n",
       "    <tr>\n",
       "      <th>count</th>\n",
       "      <td>100000.000000</td>\n",
       "      <td>100000.000000</td>\n",
       "      <td>100000.000000</td>\n",
       "      <td>100000.000000</td>\n",
       "    </tr>\n",
       "    <tr>\n",
       "      <th>mean</th>\n",
       "      <td>0.500419</td>\n",
       "      <td>0.250143</td>\n",
       "      <td>2.502647</td>\n",
       "      <td>92.500000</td>\n",
       "    </tr>\n",
       "    <tr>\n",
       "      <th>std</th>\n",
       "      <td>0.871832</td>\n",
       "      <td>0.504433</td>\n",
       "      <td>3.248248</td>\n",
       "      <td>44.288691</td>\n",
       "    </tr>\n",
       "    <tr>\n",
       "      <th>min</th>\n",
       "      <td>-1.408605</td>\n",
       "      <td>-0.848218</td>\n",
       "      <td>-12.088328</td>\n",
       "      <td>0.000000</td>\n",
       "    </tr>\n",
       "    <tr>\n",
       "      <th>25%</th>\n",
       "      <td>-0.072580</td>\n",
       "      <td>-0.200881</td>\n",
       "      <td>0.287748</td>\n",
       "      <td>56.497507</td>\n",
       "    </tr>\n",
       "    <tr>\n",
       "      <th>50%</th>\n",
       "      <td>0.502360</td>\n",
       "      <td>0.250252</td>\n",
       "      <td>2.515969</td>\n",
       "      <td>91.849972</td>\n",
       "    </tr>\n",
       "    <tr>\n",
       "      <th>75%</th>\n",
       "      <td>1.073581</td>\n",
       "      <td>0.700646</td>\n",
       "      <td>4.715088</td>\n",
       "      <td>128.564089</td>\n",
       "    </tr>\n",
       "    <tr>\n",
       "      <th>max</th>\n",
       "      <td>2.362331</td>\n",
       "      <td>1.343769</td>\n",
       "      <td>16.003790</td>\n",
       "      <td>185.364347</td>\n",
       "    </tr>\n",
       "  </tbody>\n",
       "</table>\n",
       "</div>"
      ],
      "text/plain": [
       "                  f0             f1             f2        product\n",
       "count  100000.000000  100000.000000  100000.000000  100000.000000\n",
       "mean        0.500419       0.250143       2.502647      92.500000\n",
       "std         0.871832       0.504433       3.248248      44.288691\n",
       "min        -1.408605      -0.848218     -12.088328       0.000000\n",
       "25%        -0.072580      -0.200881       0.287748      56.497507\n",
       "50%         0.502360       0.250252       2.515969      91.849972\n",
       "75%         1.073581       0.700646       4.715088     128.564089\n",
       "max         2.362331       1.343769      16.003790     185.364347"
      ]
     },
     "metadata": {},
     "output_type": "display_data"
    },
    {
     "name": "stdout",
     "output_type": "stream",
     "text": [
      "Количество дубликатов 0\n"
     ]
    }
   ],
   "source": [
    "# Регион 0\n",
    "views(geo_data_0)"
   ]
  },
  {
   "cell_type": "code",
   "execution_count": 5,
   "metadata": {},
   "outputs": [
    {
     "data": {
      "text/html": [
       "<div>\n",
       "<style scoped>\n",
       "    .dataframe tbody tr th:only-of-type {\n",
       "        vertical-align: middle;\n",
       "    }\n",
       "\n",
       "    .dataframe tbody tr th {\n",
       "        vertical-align: top;\n",
       "    }\n",
       "\n",
       "    .dataframe thead th {\n",
       "        text-align: right;\n",
       "    }\n",
       "</style>\n",
       "<table border=\"1\" class=\"dataframe\">\n",
       "  <thead>\n",
       "    <tr style=\"text-align: right;\">\n",
       "      <th></th>\n",
       "      <th>id</th>\n",
       "      <th>f0</th>\n",
       "      <th>f1</th>\n",
       "      <th>f2</th>\n",
       "      <th>product</th>\n",
       "    </tr>\n",
       "  </thead>\n",
       "  <tbody>\n",
       "    <tr>\n",
       "      <th>0</th>\n",
       "      <td>kBEdx</td>\n",
       "      <td>-15.001348</td>\n",
       "      <td>-8.276000</td>\n",
       "      <td>-0.005876</td>\n",
       "      <td>3.179103</td>\n",
       "    </tr>\n",
       "    <tr>\n",
       "      <th>1</th>\n",
       "      <td>62mP7</td>\n",
       "      <td>14.272088</td>\n",
       "      <td>-3.475083</td>\n",
       "      <td>0.999183</td>\n",
       "      <td>26.953261</td>\n",
       "    </tr>\n",
       "    <tr>\n",
       "      <th>2</th>\n",
       "      <td>vyE1P</td>\n",
       "      <td>6.263187</td>\n",
       "      <td>-5.948386</td>\n",
       "      <td>5.001160</td>\n",
       "      <td>134.766305</td>\n",
       "    </tr>\n",
       "    <tr>\n",
       "      <th>3</th>\n",
       "      <td>KcrkZ</td>\n",
       "      <td>-13.081196</td>\n",
       "      <td>-11.506057</td>\n",
       "      <td>4.999415</td>\n",
       "      <td>137.945408</td>\n",
       "    </tr>\n",
       "    <tr>\n",
       "      <th>4</th>\n",
       "      <td>AHL4O</td>\n",
       "      <td>12.702195</td>\n",
       "      <td>-8.147433</td>\n",
       "      <td>5.004363</td>\n",
       "      <td>134.766305</td>\n",
       "    </tr>\n",
       "  </tbody>\n",
       "</table>\n",
       "</div>"
      ],
      "text/plain": [
       "      id         f0         f1        f2     product\n",
       "0  kBEdx -15.001348  -8.276000 -0.005876    3.179103\n",
       "1  62mP7  14.272088  -3.475083  0.999183   26.953261\n",
       "2  vyE1P   6.263187  -5.948386  5.001160  134.766305\n",
       "3  KcrkZ -13.081196 -11.506057  4.999415  137.945408\n",
       "4  AHL4O  12.702195  -8.147433  5.004363  134.766305"
      ]
     },
     "metadata": {},
     "output_type": "display_data"
    },
    {
     "name": "stdout",
     "output_type": "stream",
     "text": [
      "<class 'pandas.core.frame.DataFrame'>\n",
      "RangeIndex: 100000 entries, 0 to 99999\n",
      "Data columns (total 5 columns):\n",
      " #   Column   Non-Null Count   Dtype  \n",
      "---  ------   --------------   -----  \n",
      " 0   id       100000 non-null  object \n",
      " 1   f0       100000 non-null  float64\n",
      " 2   f1       100000 non-null  float64\n",
      " 3   f2       100000 non-null  float64\n",
      " 4   product  100000 non-null  float64\n",
      "dtypes: float64(4), object(1)\n",
      "memory usage: 3.8+ MB\n",
      "None\n"
     ]
    },
    {
     "data": {
      "text/html": [
       "<div>\n",
       "<style scoped>\n",
       "    .dataframe tbody tr th:only-of-type {\n",
       "        vertical-align: middle;\n",
       "    }\n",
       "\n",
       "    .dataframe tbody tr th {\n",
       "        vertical-align: top;\n",
       "    }\n",
       "\n",
       "    .dataframe thead th {\n",
       "        text-align: right;\n",
       "    }\n",
       "</style>\n",
       "<table border=\"1\" class=\"dataframe\">\n",
       "  <thead>\n",
       "    <tr style=\"text-align: right;\">\n",
       "      <th></th>\n",
       "      <th>f0</th>\n",
       "      <th>f1</th>\n",
       "      <th>f2</th>\n",
       "      <th>product</th>\n",
       "    </tr>\n",
       "  </thead>\n",
       "  <tbody>\n",
       "    <tr>\n",
       "      <th>count</th>\n",
       "      <td>100000.000000</td>\n",
       "      <td>100000.000000</td>\n",
       "      <td>100000.000000</td>\n",
       "      <td>100000.000000</td>\n",
       "    </tr>\n",
       "    <tr>\n",
       "      <th>mean</th>\n",
       "      <td>1.141296</td>\n",
       "      <td>-4.796579</td>\n",
       "      <td>2.494541</td>\n",
       "      <td>68.825000</td>\n",
       "    </tr>\n",
       "    <tr>\n",
       "      <th>std</th>\n",
       "      <td>8.965932</td>\n",
       "      <td>5.119872</td>\n",
       "      <td>1.703572</td>\n",
       "      <td>45.944423</td>\n",
       "    </tr>\n",
       "    <tr>\n",
       "      <th>min</th>\n",
       "      <td>-31.609576</td>\n",
       "      <td>-26.358598</td>\n",
       "      <td>-0.018144</td>\n",
       "      <td>0.000000</td>\n",
       "    </tr>\n",
       "    <tr>\n",
       "      <th>25%</th>\n",
       "      <td>-6.298551</td>\n",
       "      <td>-8.267985</td>\n",
       "      <td>1.000021</td>\n",
       "      <td>26.953261</td>\n",
       "    </tr>\n",
       "    <tr>\n",
       "      <th>50%</th>\n",
       "      <td>1.153055</td>\n",
       "      <td>-4.813172</td>\n",
       "      <td>2.011479</td>\n",
       "      <td>57.085625</td>\n",
       "    </tr>\n",
       "    <tr>\n",
       "      <th>75%</th>\n",
       "      <td>8.621015</td>\n",
       "      <td>-1.332816</td>\n",
       "      <td>3.999904</td>\n",
       "      <td>107.813044</td>\n",
       "    </tr>\n",
       "    <tr>\n",
       "      <th>max</th>\n",
       "      <td>29.421755</td>\n",
       "      <td>18.734063</td>\n",
       "      <td>5.019721</td>\n",
       "      <td>137.945408</td>\n",
       "    </tr>\n",
       "  </tbody>\n",
       "</table>\n",
       "</div>"
      ],
      "text/plain": [
       "                  f0             f1             f2        product\n",
       "count  100000.000000  100000.000000  100000.000000  100000.000000\n",
       "mean        1.141296      -4.796579       2.494541      68.825000\n",
       "std         8.965932       5.119872       1.703572      45.944423\n",
       "min       -31.609576     -26.358598      -0.018144       0.000000\n",
       "25%        -6.298551      -8.267985       1.000021      26.953261\n",
       "50%         1.153055      -4.813172       2.011479      57.085625\n",
       "75%         8.621015      -1.332816       3.999904     107.813044\n",
       "max        29.421755      18.734063       5.019721     137.945408"
      ]
     },
     "metadata": {},
     "output_type": "display_data"
    },
    {
     "name": "stdout",
     "output_type": "stream",
     "text": [
      "Количество дубликатов 0\n"
     ]
    }
   ],
   "source": [
    "# Регион 1\n",
    "views(geo_data_1)"
   ]
  },
  {
   "cell_type": "code",
   "execution_count": 6,
   "metadata": {},
   "outputs": [
    {
     "data": {
      "text/html": [
       "<div>\n",
       "<style scoped>\n",
       "    .dataframe tbody tr th:only-of-type {\n",
       "        vertical-align: middle;\n",
       "    }\n",
       "\n",
       "    .dataframe tbody tr th {\n",
       "        vertical-align: top;\n",
       "    }\n",
       "\n",
       "    .dataframe thead th {\n",
       "        text-align: right;\n",
       "    }\n",
       "</style>\n",
       "<table border=\"1\" class=\"dataframe\">\n",
       "  <thead>\n",
       "    <tr style=\"text-align: right;\">\n",
       "      <th></th>\n",
       "      <th>id</th>\n",
       "      <th>f0</th>\n",
       "      <th>f1</th>\n",
       "      <th>f2</th>\n",
       "      <th>product</th>\n",
       "    </tr>\n",
       "  </thead>\n",
       "  <tbody>\n",
       "    <tr>\n",
       "      <th>0</th>\n",
       "      <td>fwXo0</td>\n",
       "      <td>-1.146987</td>\n",
       "      <td>0.963328</td>\n",
       "      <td>-0.828965</td>\n",
       "      <td>27.758673</td>\n",
       "    </tr>\n",
       "    <tr>\n",
       "      <th>1</th>\n",
       "      <td>WJtFt</td>\n",
       "      <td>0.262778</td>\n",
       "      <td>0.269839</td>\n",
       "      <td>-2.530187</td>\n",
       "      <td>56.069697</td>\n",
       "    </tr>\n",
       "    <tr>\n",
       "      <th>2</th>\n",
       "      <td>ovLUW</td>\n",
       "      <td>0.194587</td>\n",
       "      <td>0.289035</td>\n",
       "      <td>-5.586433</td>\n",
       "      <td>62.871910</td>\n",
       "    </tr>\n",
       "    <tr>\n",
       "      <th>3</th>\n",
       "      <td>q6cA6</td>\n",
       "      <td>2.236060</td>\n",
       "      <td>-0.553760</td>\n",
       "      <td>0.930038</td>\n",
       "      <td>114.572842</td>\n",
       "    </tr>\n",
       "    <tr>\n",
       "      <th>4</th>\n",
       "      <td>WPMUX</td>\n",
       "      <td>-0.515993</td>\n",
       "      <td>1.716266</td>\n",
       "      <td>5.899011</td>\n",
       "      <td>149.600746</td>\n",
       "    </tr>\n",
       "  </tbody>\n",
       "</table>\n",
       "</div>"
      ],
      "text/plain": [
       "      id        f0        f1        f2     product\n",
       "0  fwXo0 -1.146987  0.963328 -0.828965   27.758673\n",
       "1  WJtFt  0.262778  0.269839 -2.530187   56.069697\n",
       "2  ovLUW  0.194587  0.289035 -5.586433   62.871910\n",
       "3  q6cA6  2.236060 -0.553760  0.930038  114.572842\n",
       "4  WPMUX -0.515993  1.716266  5.899011  149.600746"
      ]
     },
     "metadata": {},
     "output_type": "display_data"
    },
    {
     "name": "stdout",
     "output_type": "stream",
     "text": [
      "<class 'pandas.core.frame.DataFrame'>\n",
      "RangeIndex: 100000 entries, 0 to 99999\n",
      "Data columns (total 5 columns):\n",
      " #   Column   Non-Null Count   Dtype  \n",
      "---  ------   --------------   -----  \n",
      " 0   id       100000 non-null  object \n",
      " 1   f0       100000 non-null  float64\n",
      " 2   f1       100000 non-null  float64\n",
      " 3   f2       100000 non-null  float64\n",
      " 4   product  100000 non-null  float64\n",
      "dtypes: float64(4), object(1)\n",
      "memory usage: 3.8+ MB\n",
      "None\n"
     ]
    },
    {
     "data": {
      "text/html": [
       "<div>\n",
       "<style scoped>\n",
       "    .dataframe tbody tr th:only-of-type {\n",
       "        vertical-align: middle;\n",
       "    }\n",
       "\n",
       "    .dataframe tbody tr th {\n",
       "        vertical-align: top;\n",
       "    }\n",
       "\n",
       "    .dataframe thead th {\n",
       "        text-align: right;\n",
       "    }\n",
       "</style>\n",
       "<table border=\"1\" class=\"dataframe\">\n",
       "  <thead>\n",
       "    <tr style=\"text-align: right;\">\n",
       "      <th></th>\n",
       "      <th>f0</th>\n",
       "      <th>f1</th>\n",
       "      <th>f2</th>\n",
       "      <th>product</th>\n",
       "    </tr>\n",
       "  </thead>\n",
       "  <tbody>\n",
       "    <tr>\n",
       "      <th>count</th>\n",
       "      <td>100000.000000</td>\n",
       "      <td>100000.000000</td>\n",
       "      <td>100000.000000</td>\n",
       "      <td>100000.000000</td>\n",
       "    </tr>\n",
       "    <tr>\n",
       "      <th>mean</th>\n",
       "      <td>0.002023</td>\n",
       "      <td>-0.002081</td>\n",
       "      <td>2.495128</td>\n",
       "      <td>95.000000</td>\n",
       "    </tr>\n",
       "    <tr>\n",
       "      <th>std</th>\n",
       "      <td>1.732045</td>\n",
       "      <td>1.730417</td>\n",
       "      <td>3.473445</td>\n",
       "      <td>44.749921</td>\n",
       "    </tr>\n",
       "    <tr>\n",
       "      <th>min</th>\n",
       "      <td>-8.760004</td>\n",
       "      <td>-7.084020</td>\n",
       "      <td>-11.970335</td>\n",
       "      <td>0.000000</td>\n",
       "    </tr>\n",
       "    <tr>\n",
       "      <th>25%</th>\n",
       "      <td>-1.162288</td>\n",
       "      <td>-1.174820</td>\n",
       "      <td>0.130359</td>\n",
       "      <td>59.450441</td>\n",
       "    </tr>\n",
       "    <tr>\n",
       "      <th>50%</th>\n",
       "      <td>0.009424</td>\n",
       "      <td>-0.009482</td>\n",
       "      <td>2.484236</td>\n",
       "      <td>94.925613</td>\n",
       "    </tr>\n",
       "    <tr>\n",
       "      <th>75%</th>\n",
       "      <td>1.158535</td>\n",
       "      <td>1.163678</td>\n",
       "      <td>4.858794</td>\n",
       "      <td>130.595027</td>\n",
       "    </tr>\n",
       "    <tr>\n",
       "      <th>max</th>\n",
       "      <td>7.238262</td>\n",
       "      <td>7.844801</td>\n",
       "      <td>16.739402</td>\n",
       "      <td>190.029838</td>\n",
       "    </tr>\n",
       "  </tbody>\n",
       "</table>\n",
       "</div>"
      ],
      "text/plain": [
       "                  f0             f1             f2        product\n",
       "count  100000.000000  100000.000000  100000.000000  100000.000000\n",
       "mean        0.002023      -0.002081       2.495128      95.000000\n",
       "std         1.732045       1.730417       3.473445      44.749921\n",
       "min        -8.760004      -7.084020     -11.970335       0.000000\n",
       "25%        -1.162288      -1.174820       0.130359      59.450441\n",
       "50%         0.009424      -0.009482       2.484236      94.925613\n",
       "75%         1.158535       1.163678       4.858794     130.595027\n",
       "max         7.238262       7.844801      16.739402     190.029838"
      ]
     },
     "metadata": {},
     "output_type": "display_data"
    },
    {
     "name": "stdout",
     "output_type": "stream",
     "text": [
      "Количество дубликатов 0\n"
     ]
    }
   ],
   "source": [
    "# Регион 2\n",
    "views(geo_data_2)"
   ]
  },
  {
   "cell_type": "markdown",
   "metadata": {},
   "source": [
    "Все датасеты состоят из столбцов:\n",
    "- id - уникальный идентификатор скважины;\n",
    "- f0, f1, f2 - три признака точек (значимые признаки);\n",
    "- product - объем запасов в скважине (тыс. баррелей)."
   ]
  },
  {
   "cell_type": "markdown",
   "metadata": {},
   "source": [
    "**Вывод:**\n",
    "- дубликатов нет;\n",
    "- пропусков в данных нет;\n",
    "- id - не несет никакой информации для предсказания, можно удалить;\n",
    "- есть нулевый значения в столбце product, необходимо проанализировать."
   ]
  },
  {
   "cell_type": "code",
   "execution_count": 4,
   "metadata": {},
   "outputs": [],
   "source": [
    "# Удаляем столбцы id\n",
    "geo_data_0 = geo_data_0.drop(['id'], axis=1)\n",
    "geo_data_1 = geo_data_1.drop(['id'], axis=1)\n",
    "geo_data_2 = geo_data_2.drop(['id'], axis=1)"
   ]
  },
  {
   "cell_type": "code",
   "execution_count": 5,
   "metadata": {},
   "outputs": [
    {
     "name": "stdout",
     "output_type": "stream",
     "text": [
      "<class 'pandas.core.frame.DataFrame'>\n",
      "RangeIndex: 100000 entries, 0 to 99999\n",
      "Data columns (total 4 columns):\n",
      " #   Column   Non-Null Count   Dtype  \n",
      "---  ------   --------------   -----  \n",
      " 0   f0       100000 non-null  float64\n",
      " 1   f1       100000 non-null  float64\n",
      " 2   f2       100000 non-null  float64\n",
      " 3   product  100000 non-null  float64\n",
      "dtypes: float64(4)\n",
      "memory usage: 3.1 MB\n",
      "None\n",
      "<class 'pandas.core.frame.DataFrame'>\n",
      "RangeIndex: 100000 entries, 0 to 99999\n",
      "Data columns (total 4 columns):\n",
      " #   Column   Non-Null Count   Dtype  \n",
      "---  ------   --------------   -----  \n",
      " 0   f0       100000 non-null  float64\n",
      " 1   f1       100000 non-null  float64\n",
      " 2   f2       100000 non-null  float64\n",
      " 3   product  100000 non-null  float64\n",
      "dtypes: float64(4)\n",
      "memory usage: 3.1 MB\n",
      "None\n",
      "<class 'pandas.core.frame.DataFrame'>\n",
      "RangeIndex: 100000 entries, 0 to 99999\n",
      "Data columns (total 4 columns):\n",
      " #   Column   Non-Null Count   Dtype  \n",
      "---  ------   --------------   -----  \n",
      " 0   f0       100000 non-null  float64\n",
      " 1   f1       100000 non-null  float64\n",
      " 2   f2       100000 non-null  float64\n",
      " 3   product  100000 non-null  float64\n",
      "dtypes: float64(4)\n",
      "memory usage: 3.1 MB\n",
      "None\n"
     ]
    }
   ],
   "source": [
    "# Проверяем\n",
    "print(geo_data_0.info())\n",
    "print(geo_data_1.info())\n",
    "print(geo_data_2.info())"
   ]
  },
  {
   "cell_type": "code",
   "execution_count": 6,
   "metadata": {},
   "outputs": [
    {
     "name": "stdout",
     "output_type": "stream",
     "text": [
      "1\n",
      "8235\n",
      "1\n"
     ]
    }
   ],
   "source": [
    "# проверяем количество нулевых значений в каждом датасете в столбце product\n",
    "print(geo_data_0[geo_data_0['product'] == 0]['product'].count())\n",
    "print(geo_data_1[geo_data_1['product'] == 0]['product'].count())\n",
    "print(geo_data_2[geo_data_2['product'] == 0]['product'].count())"
   ]
  },
  {
   "cell_type": "code",
   "execution_count": 7,
   "metadata": {},
   "outputs": [
    {
     "name": "stdout",
     "output_type": "stream",
     "text": [
      "100000\n",
      "12\n",
      "100000\n"
     ]
    }
   ],
   "source": [
    "# Проверяем количество уникальных значений в столбцах\n",
    "print(len(geo_data_0['product'].unique()))\n",
    "print(len(geo_data_1['product'].unique()))\n",
    "print(len(geo_data_2['product'].unique()))"
   ]
  },
  {
   "cell_type": "markdown",
   "metadata": {},
   "source": [
    "**Вывод:** если в в датасетах geo_data_0 и geo_data_2 присутствуют только по одному нулевому значению, то в датасете geo_data_1 наблюдается 8235 нулевых значений. Если в датасетах geo_data_0 и geo_data_2 наблюдается большое количество уникальных значений (по 100000), в датасете geo_data_1 имеется всего 12 уникальных значений. Такое впечатление, что в нем пытались провести категоризацию данных по этому столбцу."
   ]
  },
  {
   "cell_type": "code",
   "execution_count": 8,
   "metadata": {},
   "outputs": [
    {
     "data": {
      "text/plain": [
       "53.906522     8472\n",
       "26.953261     8468\n",
       "84.038886     8431\n",
       "57.085625     8390\n",
       "3.179103      8337\n",
       "80.859783     8320\n",
       "30.132364     8306\n",
       "134.766305    8304\n",
       "110.992147    8303\n",
       "0.000000      8235\n",
       "137.945408    8233\n",
       "107.813044    8201\n",
       "Name: product, dtype: int64"
      ]
     },
     "execution_count": 8,
     "metadata": {},
     "output_type": "execute_result"
    }
   ],
   "source": [
    "# Просматриваем количество различных встречающихся в столбце значений\n",
    "geo_data_1['product'].value_counts()"
   ]
  },
  {
   "cell_type": "code",
   "execution_count": 9,
   "metadata": {},
   "outputs": [
    {
     "data": {
      "image/png": "[encoded data removed]",
      "text/plain": [
       "<Figure size 864x648 with 1 Axes>"
      ]
     },
     "metadata": {
      "needs_background": "light"
     },
     "output_type": "display_data"
    }
   ],
   "source": [
    "# Построим графики объема запасов в скважинах\n",
    "plt.figure(figsize=[12,9])\n",
    "plt.hist(geo_data_1['product'], bins=12)\n",
    "plt.title('Гистограмма распределения объема запасов по скважинам')\n",
    "plt.show()"
   ]
  },
  {
   "cell_type": "markdown",
   "metadata": {},
   "source": [
    "**Вывод:** Большое количество нулевых значений, практически равное распрелеление и малая вариативность данных. Нулевые значения в данном случае нельзя заменить не на среднее, не на медиану. Т.к. наблюдается большое количество нулевых значений (8235), удалить эти данные тоже нельзя."
   ]
  },
  {
   "cell_type": "markdown",
   "metadata": {},
   "source": [
    "## Обучение и проверка модели"
   ]
  },
  {
   "cell_type": "markdown",
   "metadata": {},
   "source": [
    "Для обучения модели подходит только линейная регрессия.\n",
    "Напишем функцию, которая делит датасет на признаки и целевой признак, разбивает данные на обучающую и валидационную выборки, рассчитывает средний запас предсказанного сырья и RMSE модели. "
   ]
  },
  {
   "cell_type": "code",
   "execution_count": 10,
   "metadata": {},
   "outputs": [],
   "source": [
    "def region_prediction(data):\n",
    "    # Разделяем на features и target\n",
    "    features = data.drop(['product'], axis=1)\n",
    "    target = data['product']\n",
    "    # Разбиваем на обучающую и валидационную выборки\n",
    "    features_train, features_valid, target_train, target_valid = train_test_split(features, target, test_size=0.25, random_state=12345)\n",
    "    # Стандартизируем численные признаки\n",
    "    scaler = StandardScaler()\n",
    "    features_train = scaler.fit_transform(features_train)\n",
    "    features_valid = scaler.transform(features_valid)\n",
    "    # задаем модель, обучаем ее находим по ней метрики\n",
    "    model = LinearRegression(normalize=False)\n",
    "    model.fit(features_train, target_train)\n",
    "    predictions = model.predict(features_valid)\n",
    "    predictions = pd.Series(predictions)\n",
    "    rmse = np.sqrt(mean_squared_error(target_valid, predictions))\n",
    "    avg_stock = data['product'].mean()\n",
    "    avg_stock_pred = predictions.mean()\n",
    "    return predictions, rmse, avg_stock, avg_stock_pred, target_valid.reset_index(drop=True)"
   ]
  },
  {
   "cell_type": "code",
   "execution_count": 11,
   "metadata": {},
   "outputs": [
    {
     "name": "stdout",
     "output_type": "stream",
     "text": [
      "RMSE модели в регионе 0 = 37.579\n",
      "Средний запас нефти региона 0 = 92.593 баррелей\n"
     ]
    }
   ],
   "source": [
    "# Запускаем функцию и находим метрики для региона 0\n",
    "pred_0, rmse_0, avg_stock_0, avg_stock_pred_0, target_valid_0 = region_prediction(geo_data_0)\n",
    "print('RMSE модели в регионе 0 = {:.3f}'.format(rmse_0))\n",
    "print('Средний запас нефти региона 0 = {:.3f} баррелей'.format(avg_stock_pred_0))"
   ]
  },
  {
   "cell_type": "code",
   "execution_count": 12,
   "metadata": {},
   "outputs": [
    {
     "name": "stdout",
     "output_type": "stream",
     "text": [
      "RMSE модели в регионе 1 = 0.893\n",
      "Средний запас нефти региона 1 = 68.729 баррелей\n"
     ]
    }
   ],
   "source": [
    "# Запускаем функцию и находим метрики для региона 1\n",
    "pred_1, rmse_1, avg_stock_1, avg_stock_pred_1, target_valid_1 = region_prediction(geo_data_1)\n",
    "print('RMSE модели в регионе 1 = {:.3f}'.format(rmse_1))\n",
    "print('Средний запас нефти региона 1 = {:.3f} баррелей'.format(avg_stock_pred_1))"
   ]
  },
  {
   "cell_type": "code",
   "execution_count": 13,
   "metadata": {},
   "outputs": [
    {
     "name": "stdout",
     "output_type": "stream",
     "text": [
      "RMSE модели в регионе 2 = 40.030\n",
      "Средний запас нефти региона 2 = 94.965 баррелей\n"
     ]
    }
   ],
   "source": [
    "# Запускаем функцию и находим метрики для региона 2\n",
    "pred_2, rmse_2, avg_stock_2, avg_stock_pred_2, target_valid_2 = region_prediction(geo_data_2)\n",
    "print('RMSE модели в регионе 2 = {:.3f}'.format(rmse_2))\n",
    "print('Средний запас нефти региона 2 = {:.3f} баррелей'.format(avg_stock_pred_2))"
   ]
  },
  {
   "cell_type": "markdown",
   "metadata": {},
   "source": [
    "**Вывод:** Лучшие показатели RMSE модели в регионе 1 (RMSE=0.893), этот регион более предсказуем. Возмоно это следствие того, что данные отредактированы. \n",
    "Средний запас предсказанного сырья в этом регионе 68,729 баррелей, что меньше, чем в двух других регионах (92.953 и 94.965). В тих регионах высокие показатели RMSE, что говорит о том, что модель работае хуже, это дает более непредсказуемые результаты (37.597 и 40.030)"
   ]
  },
  {
   "cell_type": "markdown",
   "metadata": {},
   "source": [
    "## Подготовка к расчёту прибыли"
   ]
  },
  {
   "cell_type": "code",
   "execution_count": 14,
   "metadata": {},
   "outputs": [],
   "source": [
    "# Создадим значения в переменые для расчета прибыли\n",
    "BUDGET = 10000000000\n",
    "POINTS = 500\n",
    "BEST_POINTS = 200\n",
    "RISK_LOSS = 0.025\n",
    "REVENUE_PER_UNIT = 450000"
   ]
  },
  {
   "cell_type": "code",
   "execution_count": 15,
   "metadata": {},
   "outputs": [
    {
     "name": "stdout",
     "output_type": "stream",
     "text": [
      "Бюджет бурения одного месторождения =  50000000.0 руб\n"
     ]
    }
   ],
   "source": [
    "# разбуривание одного месторождения\n",
    "drilling_deposit = BUDGET / BEST_POINTS\n",
    "print('Бюджет бурения одного месторождения = ', drilling_deposit, 'руб')"
   ]
  },
  {
   "cell_type": "code",
   "execution_count": 16,
   "metadata": {},
   "outputs": [
    {
     "name": "stdout",
     "output_type": "stream",
     "text": [
      "Объем сырья для безубыточной разработки новой скважины = 111.111 баррелей\n"
     ]
    }
   ],
   "source": [
    "print('Объем сырья для безубыточной разработки новой скважины = {:.3f} баррелей'.format(drilling_deposit / REVENUE_PER_UNIT))"
   ]
  },
  {
   "cell_type": "code",
   "execution_count": 17,
   "metadata": {},
   "outputs": [
    {
     "name": "stdout",
     "output_type": "stream",
     "text": [
      "Средний запас сырья региона 0 = 92.500 баррелей\n",
      "Средний запас сырья региона 1 = 68.825 баррелей\n",
      "Средний запас сырья региона 2 = 95.000 баррелей\n"
     ]
    }
   ],
   "source": [
    "print('Средний запас сырья региона 0 = {:.3f} баррелей'.format(avg_stock_0))\n",
    "print('Средний запас сырья региона 1 = {:.3f} баррелей'.format(avg_stock_1))\n",
    "print('Средний запас сырья региона 2 = {:.3f} баррелей'.format(avg_stock_2))"
   ]
  },
  {
   "cell_type": "markdown",
   "metadata": {},
   "source": [
    "**Вывод:**\n",
    "- средний запас сырья в скважине меньше, чем необходимый объем сырья для безубыточности;\n",
    "- необходимо для безубыточной разработки новой скважины 111.111 баррелей;\n",
    "- необходимо разрабатывать только перспективные скважины."
   ]
  },
  {
   "cell_type": "markdown",
   "metadata": {},
   "source": [
    "## Расчёт прибыли и рисков "
   ]
  },
  {
   "cell_type": "code",
   "execution_count": 18,
   "metadata": {},
   "outputs": [],
   "source": [
    "# Функция для расчета прибыли по выбранным скважинам и предсказаниям модели\n",
    "def profit(prediction, target):\n",
    "    data = pd.concat([prediction, target], axis=1)\n",
    "    data.columns = ['prediction', 'target']\n",
    "    data = data.sort_values(by = 'prediction', ascending = False)[:BEST_POINTS]\n",
    "    return data['target'].sum() * REVENUE_PER_UNIT - BUDGET"
   ]
  },
  {
   "cell_type": "code",
   "execution_count": 19,
   "metadata": {},
   "outputs": [
    {
     "name": "stdout",
     "output_type": "stream",
     "text": [
      "Прибыль от полученного объема сырья региона 0 = 332.0826043139851 млн. руб.\n"
     ]
    }
   ],
   "source": [
    "revenue_0 = profit(pred_0, target_valid_0)\n",
    "print('Прибыль от полученного объема сырья региона 0 = {} млн. руб.'.format(revenue_0 / 10e6))"
   ]
  },
  {
   "cell_type": "code",
   "execution_count": 20,
   "metadata": {},
   "outputs": [
    {
     "name": "stdout",
     "output_type": "stream",
     "text": [
      "Прибыль от полученного объема сырья региона 1 = 241.5086696681511 млн. руб.\n"
     ]
    }
   ],
   "source": [
    "revenue_1 = profit(pred_1, target_valid_1)\n",
    "print('Прибыль от полученного объема сырья региона 1 = {} млн. руб.'.format(revenue_1 / 10e6))"
   ]
  },
  {
   "cell_type": "code",
   "execution_count": 21,
   "metadata": {},
   "outputs": [
    {
     "name": "stdout",
     "output_type": "stream",
     "text": [
      "Прибыль от полученного объема сырья региона 2 = 271.03499635998327 млн. руб.\n"
     ]
    }
   ],
   "source": [
    "revenue_2 = profit(pred_2, target_valid_2)\n",
    "print('Прибыль от полученного объема сырья региона 2 = {} млн. руб.'.format(revenue_2 / 10e6))"
   ]
  },
  {
   "cell_type": "code",
   "execution_count": 22,
   "metadata": {},
   "outputs": [],
   "source": [
    "# Функция для расчета прибыли и присков с применением Bootstrap\n",
    "def revenue_bootstrap(prediction, target):\n",
    "    state = np.random.RandomState(12345)\n",
    "    values = []\n",
    "    for i in range(1000):\n",
    "        target_subsample = target.sample(n=POINTS, replace=True, random_state=state)\n",
    "        pred_subsample = prediction[target_subsample.index]\n",
    "        values.append(profit(pred_subsample, target_subsample))\n",
    "    values = pd.Series(values)\n",
    "    mean = np.mean(values) / 10e6\n",
    "    lower = values.quantile(0.025) / 10e6\n",
    "    upper = values.quantile(0.975) / 10e6\n",
    "    risk_of_loss = (values < 0).sum() / values.count()\n",
    "    return mean, lower, upper, risk_of_loss"
   ]
  },
  {
   "cell_type": "code",
   "execution_count": 23,
   "metadata": {},
   "outputs": [
    {
     "name": "stdout",
     "output_type": "stream",
     "text": [
      "Средняя прибыль региона 0 = 39.62 млн.руб.\n",
      "95% доверительный интервал региона 0 от -11.12 до 90.98 млн.руб.\n",
      "Процент риска для региона 0 = 6.9%\n"
     ]
    }
   ],
   "source": [
    "# Запускаем функцию для региона 0\n",
    "mean_0, lower_0, upper_0, risk_of_loss_0 = revenue_bootstrap(pred_0, target_valid_0)\n",
    "print('Средняя прибыль региона 0 = {:.2f} млн.руб.'.format(mean_0))\n",
    "print('95% доверительный интервал региона 0 от {:.2f} до {:.2f} млн.руб.'.format(lower_0, upper_0))\n",
    "print('Процент риска для региона 0 = {:.1%}'.format(risk_of_loss_0))"
   ]
  },
  {
   "cell_type": "code",
   "execution_count": 24,
   "metadata": {},
   "outputs": [
    {
     "name": "stdout",
     "output_type": "stream",
     "text": [
      "Средняя прибыль региона 1 = 45.60 млн.руб.\n",
      "95% доверительный интервал региона 1 от 3.38 до 85.23 млн.руб.\n",
      "Процент риска для региона 1 = 1.5%\n"
     ]
    }
   ],
   "source": [
    "# Запускаем функцию для региона 1\n",
    "mean_1, lower_1, upper_1, risk_of_loss_1 = revenue_bootstrap(pred_1, target_valid_1)\n",
    "print('Средняя прибыль региона 1 = {:.2f} млн.руб.'.format(mean_1))\n",
    "print('95% доверительный интервал региона 1 от {:.2f} до {:.2f} млн.руб.'.format(lower_1, upper_1))\n",
    "print('Процент риска для региона 1 = {:.1%}'.format(risk_of_loss_1))"
   ]
  },
  {
   "cell_type": "code",
   "execution_count": 25,
   "metadata": {},
   "outputs": [
    {
     "name": "stdout",
     "output_type": "stream",
     "text": [
      "Средняя прибыль региона 2 = 40.44 млн.руб.\n",
      "95% доверительный интервал региона 2 от -16.34 до 95.04 млн.руб.\n",
      "Процент риска для региона 2 = 7.6%\n"
     ]
    }
   ],
   "source": [
    "# Запускаем функцию для региона 0\n",
    "mean_2, lower_2, upper_2, risk_of_loss_2 = revenue_bootstrap(pred_2, target_valid_2)\n",
    "print('Средняя прибыль региона 2 = {:.2f} млн.руб.'.format(mean_2))\n",
    "print('95% доверительный интервал региона 2 от {:.2f} до {:.2f} млн.руб.'.format(lower_2, upper_2))\n",
    "print('Процент риска для региона 2 = {:.1%}'.format(risk_of_loss_2))"
   ]
  },
  {
   "cell_type": "markdown",
   "metadata": {},
   "source": [
    "**Вывод:** \n",
    "Изучены данные всех трех регионов, обучена модель линейной регрессии, т.к. она является достаточно предсказуемой и сделан расчет прибыли и рисков для каждого региона.\n",
    "Наиболее песпективным явялется регион 1, т.е. добача нефти в этом региона является наименее рискованной и предполагает получение наибольшей прибыли (в отличие от других регионов прибыло вообще не уходит в минус.\n",
    "Остальные регионы имеют вероятность убытков больше 2,5 %, что не соотвествует условию задачи."
   ]
  }
 ],
 "metadata": {
  "ExecuteTimeLog": [
   {
    "duration": 1605,
    "start_time": "2022-05-13T07:48:27.689Z"
   },
   {
    "duration": 687,
    "start_time": "2022-05-13T07:50:16.676Z"
   },
   {
    "duration": 4,
    "start_time": "2022-05-13T07:55:40.031Z"
   },
   {
    "duration": 101,
    "start_time": "2022-05-13T07:56:26.315Z"
   },
   {
    "duration": 114,
    "start_time": "2022-05-13T07:56:33.502Z"
   },
   {
    "duration": 86,
    "start_time": "2022-05-13T09:18:55.119Z"
   },
   {
    "duration": 112,
    "start_time": "2022-05-13T09:20:02.092Z"
   },
   {
    "duration": 18,
    "start_time": "2022-05-13T09:28:56.720Z"
   },
   {
    "duration": 23,
    "start_time": "2022-05-13T09:32:10.593Z"
   },
   {
    "duration": 12,
    "start_time": "2022-05-13T09:36:10.189Z"
   },
   {
    "duration": 14,
    "start_time": "2022-05-13T09:38:21.905Z"
   },
   {
    "duration": 7,
    "start_time": "2022-05-13T09:41:35.133Z"
   },
   {
    "duration": 3,
    "start_time": "2022-05-13T09:45:41.473Z"
   },
   {
    "duration": 13,
    "start_time": "2022-05-13T09:46:37.809Z"
   },
   {
    "duration": 3,
    "start_time": "2022-05-13T09:46:55.175Z"
   },
   {
    "duration": 493,
    "start_time": "2022-05-13T09:46:57.238Z"
   },
   {
    "duration": 166,
    "start_time": "2022-05-13T09:55:07.043Z"
   },
   {
    "duration": 5,
    "start_time": "2022-05-13T11:13:14.389Z"
   },
   {
    "duration": 199,
    "start_time": "2022-05-13T11:16:13.703Z"
   },
   {
    "duration": 5,
    "start_time": "2022-05-13T11:16:42.593Z"
   },
   {
    "duration": 30,
    "start_time": "2022-05-13T11:16:44.940Z"
   },
   {
    "duration": 36,
    "start_time": "2022-05-13T11:19:16.457Z"
   },
   {
    "duration": 33,
    "start_time": "2022-05-13T11:20:02.085Z"
   },
   {
    "duration": 67,
    "start_time": "2022-05-13T11:20:43.721Z"
   },
   {
    "duration": 3,
    "start_time": "2022-05-13T11:38:40.420Z"
   },
   {
    "duration": 4,
    "start_time": "2022-05-13T11:38:42.303Z"
   },
   {
    "duration": 4,
    "start_time": "2022-05-13T11:42:02.326Z"
   },
   {
    "duration": 4,
    "start_time": "2022-05-13T11:44:17.211Z"
   },
   {
    "duration": 10,
    "start_time": "2022-05-14T04:10:47.312Z"
   },
   {
    "duration": 44,
    "start_time": "2022-05-14T04:13:21.340Z"
   },
   {
    "duration": 1856,
    "start_time": "2022-05-14T04:13:35.315Z"
   },
   {
    "duration": 394,
    "start_time": "2022-05-14T04:13:37.424Z"
   },
   {
    "duration": 4,
    "start_time": "2022-05-14T04:13:38.602Z"
   },
   {
    "duration": 20,
    "start_time": "2022-05-14T04:13:45.253Z"
   },
   {
    "duration": 13,
    "start_time": "2022-05-14T04:13:52.267Z"
   },
   {
    "duration": 15,
    "start_time": "2022-05-14T04:13:54.200Z"
   },
   {
    "duration": 9,
    "start_time": "2022-05-14T04:13:56.280Z"
   },
   {
    "duration": 189,
    "start_time": "2022-05-14T04:13:58.076Z"
   },
   {
    "duration": 5,
    "start_time": "2022-05-14T04:14:01.949Z"
   },
   {
    "duration": 91,
    "start_time": "2022-05-14T04:14:03.351Z"
   },
   {
    "duration": 60,
    "start_time": "2022-05-14T04:14:05.474Z"
   },
   {
    "duration": 37,
    "start_time": "2022-05-14T04:14:06.610Z"
   },
   {
    "duration": 3,
    "start_time": "2022-05-14T04:14:09.523Z"
   },
   {
    "duration": 4,
    "start_time": "2022-05-14T04:14:10.993Z"
   },
   {
    "duration": 4,
    "start_time": "2022-05-14T04:14:13.326Z"
   },
   {
    "duration": 4,
    "start_time": "2022-05-14T04:14:14.753Z"
   },
   {
    "duration": 4,
    "start_time": "2022-05-14T04:14:17.323Z"
   },
   {
    "duration": 9,
    "start_time": "2022-05-14T04:14:20.584Z"
   },
   {
    "duration": 10,
    "start_time": "2022-05-14T04:15:03.787Z"
   },
   {
    "duration": 9,
    "start_time": "2022-05-14T04:15:16.627Z"
   },
   {
    "duration": 9,
    "start_time": "2022-05-14T04:15:36.914Z"
   },
   {
    "duration": 5,
    "start_time": "2022-05-14T04:57:37.420Z"
   },
   {
    "duration": 5,
    "start_time": "2022-05-14T04:58:31.175Z"
   },
   {
    "duration": 1715,
    "start_time": "2022-05-14T05:05:02.438Z"
   },
   {
    "duration": 5,
    "start_time": "2022-05-14T05:05:12.364Z"
   },
   {
    "duration": 1657,
    "start_time": "2022-05-14T05:05:15.582Z"
   },
   {
    "duration": 1592,
    "start_time": "2022-05-14T05:05:47.487Z"
   },
   {
    "duration": 1602,
    "start_time": "2022-05-14T05:06:02.773Z"
   },
   {
    "duration": 1614,
    "start_time": "2022-05-14T05:06:15.134Z"
   },
   {
    "duration": 1591,
    "start_time": "2022-05-14T05:06:27.151Z"
   },
   {
    "duration": 1582,
    "start_time": "2022-05-14T05:07:24.786Z"
   },
   {
    "duration": 1563,
    "start_time": "2022-05-14T05:08:27.075Z"
   },
   {
    "duration": 1493,
    "start_time": "2022-05-14T19:21:53.937Z"
   },
   {
    "duration": 336,
    "start_time": "2022-05-14T19:21:55.432Z"
   },
   {
    "duration": 4,
    "start_time": "2022-05-14T19:21:55.770Z"
   },
   {
    "duration": 114,
    "start_time": "2022-05-14T19:21:55.776Z"
   },
   {
    "duration": 99,
    "start_time": "2022-05-14T19:21:55.891Z"
   },
   {
    "duration": 116,
    "start_time": "2022-05-14T19:21:55.991Z"
   },
   {
    "duration": 54,
    "start_time": "2022-05-14T19:21:56.109Z"
   },
   {
    "duration": 0,
    "start_time": "2022-05-14T19:21:56.165Z"
   },
   {
    "duration": 0,
    "start_time": "2022-05-14T19:21:56.167Z"
   },
   {
    "duration": 0,
    "start_time": "2022-05-14T19:21:56.168Z"
   },
   {
    "duration": 0,
    "start_time": "2022-05-14T19:21:56.169Z"
   },
   {
    "duration": 0,
    "start_time": "2022-05-14T19:21:56.170Z"
   },
   {
    "duration": 0,
    "start_time": "2022-05-14T19:21:56.171Z"
   },
   {
    "duration": 0,
    "start_time": "2022-05-14T19:21:56.172Z"
   },
   {
    "duration": 0,
    "start_time": "2022-05-14T19:21:56.173Z"
   },
   {
    "duration": 0,
    "start_time": "2022-05-14T19:21:56.174Z"
   },
   {
    "duration": 0,
    "start_time": "2022-05-14T19:21:56.175Z"
   },
   {
    "duration": 0,
    "start_time": "2022-05-14T19:21:56.176Z"
   },
   {
    "duration": 0,
    "start_time": "2022-05-14T19:21:56.177Z"
   },
   {
    "duration": 0,
    "start_time": "2022-05-14T19:21:56.179Z"
   },
   {
    "duration": 0,
    "start_time": "2022-05-14T19:21:56.179Z"
   },
   {
    "duration": 0,
    "start_time": "2022-05-14T19:21:56.180Z"
   },
   {
    "duration": 0,
    "start_time": "2022-05-14T19:21:56.181Z"
   },
   {
    "duration": 0,
    "start_time": "2022-05-14T19:21:56.182Z"
   },
   {
    "duration": 0,
    "start_time": "2022-05-14T19:21:56.184Z"
   },
   {
    "duration": 0,
    "start_time": "2022-05-14T19:21:56.185Z"
   },
   {
    "duration": 0,
    "start_time": "2022-05-14T19:21:56.186Z"
   },
   {
    "duration": 0,
    "start_time": "2022-05-14T19:21:56.187Z"
   },
   {
    "duration": 0,
    "start_time": "2022-05-14T19:21:56.187Z"
   },
   {
    "duration": 1464,
    "start_time": "2022-05-14T19:24:06.119Z"
   },
   {
    "duration": 359,
    "start_time": "2022-05-14T19:24:07.585Z"
   },
   {
    "duration": 5,
    "start_time": "2022-05-14T19:24:07.945Z"
   },
   {
    "duration": 112,
    "start_time": "2022-05-14T19:24:07.953Z"
   },
   {
    "duration": 115,
    "start_time": "2022-05-14T19:24:08.067Z"
   },
   {
    "duration": 124,
    "start_time": "2022-05-14T19:24:08.184Z"
   },
   {
    "duration": 17,
    "start_time": "2022-05-14T19:24:08.310Z"
   },
   {
    "duration": 32,
    "start_time": "2022-05-14T19:24:08.329Z"
   },
   {
    "duration": 10,
    "start_time": "2022-05-14T19:24:08.362Z"
   },
   {
    "duration": 35,
    "start_time": "2022-05-14T19:24:08.375Z"
   },
   {
    "duration": 7,
    "start_time": "2022-05-14T19:24:08.411Z"
   },
   {
    "duration": 206,
    "start_time": "2022-05-14T19:24:08.419Z"
   },
   {
    "duration": 4,
    "start_time": "2022-05-14T19:24:08.627Z"
   },
   {
    "duration": 77,
    "start_time": "2022-05-14T19:24:08.633Z"
   },
   {
    "duration": 194,
    "start_time": "2022-05-14T19:24:08.713Z"
   },
   {
    "duration": 129,
    "start_time": "2022-05-14T19:24:08.910Z"
   },
   {
    "duration": 6,
    "start_time": "2022-05-14T19:24:09.109Z"
   },
   {
    "duration": 3,
    "start_time": "2022-05-14T19:24:09.207Z"
   },
   {
    "duration": 7,
    "start_time": "2022-05-14T19:24:09.212Z"
   },
   {
    "duration": 7,
    "start_time": "2022-05-14T19:24:09.221Z"
   },
   {
    "duration": 4,
    "start_time": "2022-05-14T19:24:09.230Z"
   },
   {
    "duration": 11,
    "start_time": "2022-05-14T19:24:09.235Z"
   },
   {
    "duration": 8,
    "start_time": "2022-05-14T19:24:09.248Z"
   },
   {
    "duration": 8,
    "start_time": "2022-05-14T19:24:09.257Z"
   },
   {
    "duration": 41,
    "start_time": "2022-05-14T19:24:09.267Z"
   },
   {
    "duration": 1675,
    "start_time": "2022-05-14T19:24:09.310Z"
   },
   {
    "duration": 1611,
    "start_time": "2022-05-14T19:24:10.986Z"
   },
   {
    "duration": 1647,
    "start_time": "2022-05-14T19:24:12.600Z"
   },
   {
    "duration": 1932,
    "start_time": "2022-05-16T04:27:44.093Z"
   },
   {
    "duration": 382,
    "start_time": "2022-05-16T04:27:46.760Z"
   },
   {
    "duration": 5,
    "start_time": "2022-05-16T04:27:49.186Z"
   },
   {
    "duration": 19,
    "start_time": "2022-05-16T04:27:54.735Z"
   },
   {
    "duration": 33,
    "start_time": "2022-05-16T04:27:57.903Z"
   },
   {
    "duration": 15,
    "start_time": "2022-05-16T04:28:00.741Z"
   },
   {
    "duration": 19,
    "start_time": "2022-05-16T04:28:02.438Z"
   },
   {
    "duration": 11,
    "start_time": "2022-05-16T04:28:06.036Z"
   },
   {
    "duration": 304,
    "start_time": "2022-05-16T04:28:09.022Z"
   },
   {
    "duration": 8,
    "start_time": "2022-05-16T04:28:13.765Z"
   },
   {
    "duration": 122,
    "start_time": "2022-05-16T04:28:15.831Z"
   },
   {
    "duration": 111,
    "start_time": "2022-05-16T04:28:17.941Z"
   },
   {
    "duration": 102,
    "start_time": "2022-05-16T04:28:19.450Z"
   },
   {
    "duration": 4,
    "start_time": "2022-05-16T04:28:24.743Z"
   },
   {
    "duration": 4,
    "start_time": "2022-05-16T04:28:27.647Z"
   },
   {
    "duration": 5,
    "start_time": "2022-05-16T04:28:29.190Z"
   },
   {
    "duration": 5,
    "start_time": "2022-05-16T04:28:30.596Z"
   },
   {
    "duration": 5,
    "start_time": "2022-05-16T04:29:00.621Z"
   },
   {
    "duration": 12,
    "start_time": "2022-05-16T04:29:07.446Z"
   },
   {
    "duration": 11,
    "start_time": "2022-05-16T04:29:10.423Z"
   },
   {
    "duration": 11,
    "start_time": "2022-05-16T04:29:12.413Z"
   },
   {
    "duration": 5,
    "start_time": "2022-05-16T04:29:59.072Z"
   },
   {
    "duration": 2394,
    "start_time": "2022-05-16T04:30:11.369Z"
   },
   {
    "duration": 2367,
    "start_time": "2022-05-16T04:30:13.765Z"
   },
   {
    "duration": 2352,
    "start_time": "2022-05-16T04:30:16.134Z"
   }
  ],
  "kernelspec": {
   "display_name": "Python 3 (ipykernel)",
   "language": "python",
   "name": "python3"
  },
  "language_info": {
   "codemirror_mode": {
    "name": "ipython",
    "version": 3
   },
   "file_extension": ".py",
   "mimetype": "text/x-python",
   "name": "python",
   "nbconvert_exporter": "python",
   "pygments_lexer": "ipython3",
   "version": "3.8.6"
  },
  "toc": {
   "base_numbering": 1,
   "nav_menu": {},
   "number_sections": true,
   "sideBar": true,
   "skip_h1_title": true,
   "title_cell": "Table of Contents",
   "title_sidebar": "Contents",
   "toc_cell": false,
   "toc_position": {},
   "toc_section_display": true,
   "toc_window_display": false
  }
 },
 "nbformat": 4,
 "nbformat_minor": 2
}
