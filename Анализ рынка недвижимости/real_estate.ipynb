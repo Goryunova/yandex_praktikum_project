{
 "cells": [
  {
   "cell_type": "markdown",
   "metadata": {
    "toc": true
   },
   "source": [
    "<h1>Содержание<span class=\"tocSkip\"></span></h1>\n",
    "<div class=\"toc\"><ul class=\"toc-item\"><li><span><a href=\"#Изучение-данных-из-файла\" data-toc-modified-id=\"Изучение-данных-из-файла-1\"><span class=\"toc-item-num\">1&nbsp;&nbsp;</span>Изучение данных из файла</a></span><ul class=\"toc-item\"><li><span><a href=\"#Вывод\" data-toc-modified-id=\"Вывод-1.1\"><span class=\"toc-item-num\">1.1&nbsp;&nbsp;</span>Вывод</a></span></li></ul></li><li><span><a href=\"#Предобработка-данных\" data-toc-modified-id=\"Предобработка-данных-2\"><span class=\"toc-item-num\">2&nbsp;&nbsp;</span>Предобработка данных</a></span><ul class=\"toc-item\"><li><span><a href=\"#Вывод:\" data-toc-modified-id=\"Вывод:-2.1\"><span class=\"toc-item-num\">2.1&nbsp;&nbsp;</span>Вывод:</a></span></li></ul></li><li><span><a href=\"#Расчёты-и-добавление-результатов-в-таблицу\" data-toc-modified-id=\"Расчёты-и-добавление-результатов-в-таблицу-3\"><span class=\"toc-item-num\">3&nbsp;&nbsp;</span>Расчёты и добавление результатов в таблицу</a></span><ul class=\"toc-item\"><li><span><a href=\"#Вывод:\" data-toc-modified-id=\"Вывод:-3.1\"><span class=\"toc-item-num\">3.1&nbsp;&nbsp;</span>Вывод:</a></span></li></ul></li><li><span><a href=\"#Исследовательский-анализ-данных\" data-toc-modified-id=\"Исследовательский-анализ-данных-4\"><span class=\"toc-item-num\">4&nbsp;&nbsp;</span>Исследовательский анализ данных</a></span></li><li><span><a href=\"#Общий-вывод\" data-toc-modified-id=\"Общий-вывод-5\"><span class=\"toc-item-num\">5&nbsp;&nbsp;</span>Общий вывод</a></span></li><li><span><a href=\"#Чек-лист-готовности-проекта\" data-toc-modified-id=\"Чек-лист-готовности-проекта-6\"><span class=\"toc-item-num\">6&nbsp;&nbsp;</span>Чек-лист готовности проекта</a></span></li></ul></div>"
   ]
  },
  {
   "cell_type": "markdown",
   "metadata": {},
   "source": [
    "# Исследование объявлений о продаже квартир\n",
    "\n",
    "В моем распоряжении данные сервиса Яндекc Недвижимость — архив объявлений о продаже квартир в Санкт-Петербурге и соседних населённых пунктах за несколько лет. Нужно определять рыночную стоимость объектов недвижимости. Это позволит построить автоматизированную систему: она отследит аномалии и мошенническую деятельность. \n",
    "\n",
    "По каждой квартире на продажу доступны два вида данных. Первые вписаны пользователем, вторые получены автоматически на основе картографических данных. Например, расстояние до центра, аэропорта, ближайшего парка и водоёма. "
   ]
  },
  {
   "cell_type": "markdown",
   "metadata": {},
   "source": [
    "## Изучение данных из файла"
   ]
  },
  {
   "cell_type": "code",
   "execution_count": 1,
   "metadata": {},
   "outputs": [],
   "source": [
    "import pandas as pd"
   ]
  },
  {
   "cell_type": "code",
   "execution_count": 2,
   "metadata": {},
   "outputs": [
    {
     "data": {
      "text/html": [
       "<div>\n",
       "<style scoped>\n",
       "    .dataframe tbody tr th:only-of-type {\n",
       "        vertical-align: middle;\n",
       "    }\n",
       "\n",
       "    .dataframe tbody tr th {\n",
       "        vertical-align: top;\n",
       "    }\n",
       "\n",
       "    .dataframe thead th {\n",
       "        text-align: right;\n",
       "    }\n",
       "</style>\n",
       "<table border=\"1\" class=\"dataframe\">\n",
       "  <thead>\n",
       "    <tr style=\"text-align: right;\">\n",
       "      <th></th>\n",
       "      <th>total_images</th>\n",
       "      <th>last_price</th>\n",
       "      <th>total_area</th>\n",
       "      <th>first_day_exposition</th>\n",
       "      <th>rooms</th>\n",
       "      <th>ceiling_height</th>\n",
       "      <th>floors_total</th>\n",
       "      <th>living_area</th>\n",
       "      <th>floor</th>\n",
       "      <th>is_apartment</th>\n",
       "      <th>studio</th>\n",
       "      <th>open_plan</th>\n",
       "      <th>kitchen_area</th>\n",
       "      <th>balcony</th>\n",
       "      <th>locality_name</th>\n",
       "      <th>airports_nearest</th>\n",
       "      <th>cityCenters_nearest</th>\n",
       "      <th>parks_around3000</th>\n",
       "      <th>parks_nearest</th>\n",
       "      <th>ponds_around3000</th>\n",
       "      <th>ponds_nearest</th>\n",
       "      <th>days_exposition</th>\n",
       "    </tr>\n",
       "  </thead>\n",
       "  <tbody>\n",
       "    <tr>\n",
       "      <th>0</th>\n",
       "      <td>20</td>\n",
       "      <td>13000000.0</td>\n",
       "      <td>108.0</td>\n",
       "      <td>2019-03-07T00:00:00</td>\n",
       "      <td>3</td>\n",
       "      <td>2.70</td>\n",
       "      <td>16.0</td>\n",
       "      <td>51.0</td>\n",
       "      <td>8</td>\n",
       "      <td>NaN</td>\n",
       "      <td>False</td>\n",
       "      <td>False</td>\n",
       "      <td>25.0</td>\n",
       "      <td>NaN</td>\n",
       "      <td>Санкт-Петербург</td>\n",
       "      <td>18863.0</td>\n",
       "      <td>16028.0</td>\n",
       "      <td>1.0</td>\n",
       "      <td>482.0</td>\n",
       "      <td>2.0</td>\n",
       "      <td>755.0</td>\n",
       "      <td>NaN</td>\n",
       "    </tr>\n",
       "    <tr>\n",
       "      <th>1</th>\n",
       "      <td>7</td>\n",
       "      <td>3350000.0</td>\n",
       "      <td>40.4</td>\n",
       "      <td>2018-12-04T00:00:00</td>\n",
       "      <td>1</td>\n",
       "      <td>NaN</td>\n",
       "      <td>11.0</td>\n",
       "      <td>18.6</td>\n",
       "      <td>1</td>\n",
       "      <td>NaN</td>\n",
       "      <td>False</td>\n",
       "      <td>False</td>\n",
       "      <td>11.0</td>\n",
       "      <td>2.0</td>\n",
       "      <td>посёлок Шушары</td>\n",
       "      <td>12817.0</td>\n",
       "      <td>18603.0</td>\n",
       "      <td>0.0</td>\n",
       "      <td>NaN</td>\n",
       "      <td>0.0</td>\n",
       "      <td>NaN</td>\n",
       "      <td>81.0</td>\n",
       "    </tr>\n",
       "    <tr>\n",
       "      <th>2</th>\n",
       "      <td>10</td>\n",
       "      <td>5196000.0</td>\n",
       "      <td>56.0</td>\n",
       "      <td>2015-08-20T00:00:00</td>\n",
       "      <td>2</td>\n",
       "      <td>NaN</td>\n",
       "      <td>5.0</td>\n",
       "      <td>34.3</td>\n",
       "      <td>4</td>\n",
       "      <td>NaN</td>\n",
       "      <td>False</td>\n",
       "      <td>False</td>\n",
       "      <td>8.3</td>\n",
       "      <td>0.0</td>\n",
       "      <td>Санкт-Петербург</td>\n",
       "      <td>21741.0</td>\n",
       "      <td>13933.0</td>\n",
       "      <td>1.0</td>\n",
       "      <td>90.0</td>\n",
       "      <td>2.0</td>\n",
       "      <td>574.0</td>\n",
       "      <td>558.0</td>\n",
       "    </tr>\n",
       "    <tr>\n",
       "      <th>3</th>\n",
       "      <td>0</td>\n",
       "      <td>64900000.0</td>\n",
       "      <td>159.0</td>\n",
       "      <td>2015-07-24T00:00:00</td>\n",
       "      <td>3</td>\n",
       "      <td>NaN</td>\n",
       "      <td>14.0</td>\n",
       "      <td>NaN</td>\n",
       "      <td>9</td>\n",
       "      <td>NaN</td>\n",
       "      <td>False</td>\n",
       "      <td>False</td>\n",
       "      <td>NaN</td>\n",
       "      <td>0.0</td>\n",
       "      <td>Санкт-Петербург</td>\n",
       "      <td>28098.0</td>\n",
       "      <td>6800.0</td>\n",
       "      <td>2.0</td>\n",
       "      <td>84.0</td>\n",
       "      <td>3.0</td>\n",
       "      <td>234.0</td>\n",
       "      <td>424.0</td>\n",
       "    </tr>\n",
       "    <tr>\n",
       "      <th>4</th>\n",
       "      <td>2</td>\n",
       "      <td>10000000.0</td>\n",
       "      <td>100.0</td>\n",
       "      <td>2018-06-19T00:00:00</td>\n",
       "      <td>2</td>\n",
       "      <td>3.03</td>\n",
       "      <td>14.0</td>\n",
       "      <td>32.0</td>\n",
       "      <td>13</td>\n",
       "      <td>NaN</td>\n",
       "      <td>False</td>\n",
       "      <td>False</td>\n",
       "      <td>41.0</td>\n",
       "      <td>NaN</td>\n",
       "      <td>Санкт-Петербург</td>\n",
       "      <td>31856.0</td>\n",
       "      <td>8098.0</td>\n",
       "      <td>2.0</td>\n",
       "      <td>112.0</td>\n",
       "      <td>1.0</td>\n",
       "      <td>48.0</td>\n",
       "      <td>121.0</td>\n",
       "    </tr>\n",
       "  </tbody>\n",
       "</table>\n",
       "</div>"
      ],
      "text/plain": [
       "   total_images  last_price  total_area first_day_exposition  rooms  \\\n",
       "0            20  13000000.0       108.0  2019-03-07T00:00:00      3   \n",
       "1             7   3350000.0        40.4  2018-12-04T00:00:00      1   \n",
       "2            10   5196000.0        56.0  2015-08-20T00:00:00      2   \n",
       "3             0  64900000.0       159.0  2015-07-24T00:00:00      3   \n",
       "4             2  10000000.0       100.0  2018-06-19T00:00:00      2   \n",
       "\n",
       "   ceiling_height  floors_total  living_area  floor is_apartment  studio  \\\n",
       "0            2.70          16.0         51.0      8          NaN   False   \n",
       "1             NaN          11.0         18.6      1          NaN   False   \n",
       "2             NaN           5.0         34.3      4          NaN   False   \n",
       "3             NaN          14.0          NaN      9          NaN   False   \n",
       "4            3.03          14.0         32.0     13          NaN   False   \n",
       "\n",
       "   open_plan  kitchen_area  balcony    locality_name  airports_nearest  \\\n",
       "0      False          25.0      NaN  Санкт-Петербург           18863.0   \n",
       "1      False          11.0      2.0   посёлок Шушары           12817.0   \n",
       "2      False           8.3      0.0  Санкт-Петербург           21741.0   \n",
       "3      False           NaN      0.0  Санкт-Петербург           28098.0   \n",
       "4      False          41.0      NaN  Санкт-Петербург           31856.0   \n",
       "\n",
       "   cityCenters_nearest  parks_around3000  parks_nearest  ponds_around3000  \\\n",
       "0              16028.0               1.0          482.0               2.0   \n",
       "1              18603.0               0.0            NaN               0.0   \n",
       "2              13933.0               1.0           90.0               2.0   \n",
       "3               6800.0               2.0           84.0               3.0   \n",
       "4               8098.0               2.0          112.0               1.0   \n",
       "\n",
       "   ponds_nearest  days_exposition  \n",
       "0          755.0              NaN  \n",
       "1            NaN             81.0  \n",
       "2          574.0            558.0  \n",
       "3          234.0            424.0  \n",
       "4           48.0            121.0  "
      ]
     },
     "execution_count": 2,
     "metadata": {},
     "output_type": "execute_result"
    }
   ],
   "source": [
    "data = pd.read_csv('/datasets/real_estate_data.csv', sep='\\t')\n",
    "pd.set_option('display.max_columns', 50) # Показываем все столбцы\n",
    "data.head()"
   ]
  },
  {
   "cell_type": "code",
   "execution_count": 3,
   "metadata": {},
   "outputs": [
    {
     "name": "stdout",
     "output_type": "stream",
     "text": [
      "<class 'pandas.core.frame.DataFrame'>\n",
      "RangeIndex: 23699 entries, 0 to 23698\n",
      "Data columns (total 22 columns):\n",
      " #   Column                Non-Null Count  Dtype  \n",
      "---  ------                --------------  -----  \n",
      " 0   total_images          23699 non-null  int64  \n",
      " 1   last_price            23699 non-null  float64\n",
      " 2   total_area            23699 non-null  float64\n",
      " 3   first_day_exposition  23699 non-null  object \n",
      " 4   rooms                 23699 non-null  int64  \n",
      " 5   ceiling_height        14504 non-null  float64\n",
      " 6   floors_total          23613 non-null  float64\n",
      " 7   living_area           21796 non-null  float64\n",
      " 8   floor                 23699 non-null  int64  \n",
      " 9   is_apartment          2775 non-null   object \n",
      " 10  studio                23699 non-null  bool   \n",
      " 11  open_plan             23699 non-null  bool   \n",
      " 12  kitchen_area          21421 non-null  float64\n",
      " 13  balcony               12180 non-null  float64\n",
      " 14  locality_name         23650 non-null  object \n",
      " 15  airports_nearest      18157 non-null  float64\n",
      " 16  cityCenters_nearest   18180 non-null  float64\n",
      " 17  parks_around3000      18181 non-null  float64\n",
      " 18  parks_nearest         8079 non-null   float64\n",
      " 19  ponds_around3000      18181 non-null  float64\n",
      " 20  ponds_nearest         9110 non-null   float64\n",
      " 21  days_exposition       20518 non-null  float64\n",
      "dtypes: bool(2), float64(14), int64(3), object(3)\n",
      "memory usage: 3.7+ MB\n"
     ]
    }
   ],
   "source": [
    "data.info()"
   ]
  },
  {
   "cell_type": "code",
   "execution_count": 4,
   "metadata": {},
   "outputs": [
    {
     "data": {
      "text/html": [
       "<div>\n",
       "<style scoped>\n",
       "    .dataframe tbody tr th:only-of-type {\n",
       "        vertical-align: middle;\n",
       "    }\n",
       "\n",
       "    .dataframe tbody tr th {\n",
       "        vertical-align: top;\n",
       "    }\n",
       "\n",
       "    .dataframe thead th {\n",
       "        text-align: right;\n",
       "    }\n",
       "</style>\n",
       "<table border=\"1\" class=\"dataframe\">\n",
       "  <thead>\n",
       "    <tr style=\"text-align: right;\">\n",
       "      <th></th>\n",
       "      <th>total_images</th>\n",
       "      <th>last_price</th>\n",
       "      <th>total_area</th>\n",
       "      <th>rooms</th>\n",
       "      <th>ceiling_height</th>\n",
       "      <th>floors_total</th>\n",
       "      <th>living_area</th>\n",
       "      <th>floor</th>\n",
       "      <th>kitchen_area</th>\n",
       "      <th>balcony</th>\n",
       "      <th>airports_nearest</th>\n",
       "      <th>cityCenters_nearest</th>\n",
       "      <th>parks_around3000</th>\n",
       "      <th>parks_nearest</th>\n",
       "      <th>ponds_around3000</th>\n",
       "      <th>ponds_nearest</th>\n",
       "      <th>days_exposition</th>\n",
       "    </tr>\n",
       "  </thead>\n",
       "  <tbody>\n",
       "    <tr>\n",
       "      <th>count</th>\n",
       "      <td>23699.000000</td>\n",
       "      <td>2.369900e+04</td>\n",
       "      <td>23699.000000</td>\n",
       "      <td>23699.000000</td>\n",
       "      <td>14504.000000</td>\n",
       "      <td>23613.000000</td>\n",
       "      <td>21796.000000</td>\n",
       "      <td>23699.000000</td>\n",
       "      <td>21421.000000</td>\n",
       "      <td>12180.000000</td>\n",
       "      <td>18157.000000</td>\n",
       "      <td>18180.000000</td>\n",
       "      <td>18181.000000</td>\n",
       "      <td>8079.000000</td>\n",
       "      <td>18181.000000</td>\n",
       "      <td>9110.000000</td>\n",
       "      <td>20518.000000</td>\n",
       "    </tr>\n",
       "    <tr>\n",
       "      <th>mean</th>\n",
       "      <td>9.858475</td>\n",
       "      <td>6.541549e+06</td>\n",
       "      <td>60.348651</td>\n",
       "      <td>2.070636</td>\n",
       "      <td>2.771499</td>\n",
       "      <td>10.673824</td>\n",
       "      <td>34.457852</td>\n",
       "      <td>5.892358</td>\n",
       "      <td>10.569807</td>\n",
       "      <td>1.150082</td>\n",
       "      <td>28793.672193</td>\n",
       "      <td>14191.277833</td>\n",
       "      <td>0.611408</td>\n",
       "      <td>490.804555</td>\n",
       "      <td>0.770255</td>\n",
       "      <td>517.980900</td>\n",
       "      <td>180.888634</td>\n",
       "    </tr>\n",
       "    <tr>\n",
       "      <th>std</th>\n",
       "      <td>5.682529</td>\n",
       "      <td>1.088701e+07</td>\n",
       "      <td>35.654083</td>\n",
       "      <td>1.078405</td>\n",
       "      <td>1.261056</td>\n",
       "      <td>6.597173</td>\n",
       "      <td>22.030445</td>\n",
       "      <td>4.885249</td>\n",
       "      <td>5.905438</td>\n",
       "      <td>1.071300</td>\n",
       "      <td>12630.880622</td>\n",
       "      <td>8608.386210</td>\n",
       "      <td>0.802074</td>\n",
       "      <td>342.317995</td>\n",
       "      <td>0.938346</td>\n",
       "      <td>277.720643</td>\n",
       "      <td>219.727988</td>\n",
       "    </tr>\n",
       "    <tr>\n",
       "      <th>min</th>\n",
       "      <td>0.000000</td>\n",
       "      <td>1.219000e+04</td>\n",
       "      <td>12.000000</td>\n",
       "      <td>0.000000</td>\n",
       "      <td>1.000000</td>\n",
       "      <td>1.000000</td>\n",
       "      <td>2.000000</td>\n",
       "      <td>1.000000</td>\n",
       "      <td>1.300000</td>\n",
       "      <td>0.000000</td>\n",
       "      <td>0.000000</td>\n",
       "      <td>181.000000</td>\n",
       "      <td>0.000000</td>\n",
       "      <td>1.000000</td>\n",
       "      <td>0.000000</td>\n",
       "      <td>13.000000</td>\n",
       "      <td>1.000000</td>\n",
       "    </tr>\n",
       "    <tr>\n",
       "      <th>25%</th>\n",
       "      <td>6.000000</td>\n",
       "      <td>3.400000e+06</td>\n",
       "      <td>40.000000</td>\n",
       "      <td>1.000000</td>\n",
       "      <td>2.520000</td>\n",
       "      <td>5.000000</td>\n",
       "      <td>18.600000</td>\n",
       "      <td>2.000000</td>\n",
       "      <td>7.000000</td>\n",
       "      <td>0.000000</td>\n",
       "      <td>18585.000000</td>\n",
       "      <td>9238.000000</td>\n",
       "      <td>0.000000</td>\n",
       "      <td>288.000000</td>\n",
       "      <td>0.000000</td>\n",
       "      <td>294.000000</td>\n",
       "      <td>45.000000</td>\n",
       "    </tr>\n",
       "    <tr>\n",
       "      <th>50%</th>\n",
       "      <td>9.000000</td>\n",
       "      <td>4.650000e+06</td>\n",
       "      <td>52.000000</td>\n",
       "      <td>2.000000</td>\n",
       "      <td>2.650000</td>\n",
       "      <td>9.000000</td>\n",
       "      <td>30.000000</td>\n",
       "      <td>4.000000</td>\n",
       "      <td>9.100000</td>\n",
       "      <td>1.000000</td>\n",
       "      <td>26726.000000</td>\n",
       "      <td>13098.500000</td>\n",
       "      <td>0.000000</td>\n",
       "      <td>455.000000</td>\n",
       "      <td>1.000000</td>\n",
       "      <td>502.000000</td>\n",
       "      <td>95.000000</td>\n",
       "    </tr>\n",
       "    <tr>\n",
       "      <th>75%</th>\n",
       "      <td>14.000000</td>\n",
       "      <td>6.800000e+06</td>\n",
       "      <td>69.900000</td>\n",
       "      <td>3.000000</td>\n",
       "      <td>2.800000</td>\n",
       "      <td>16.000000</td>\n",
       "      <td>42.300000</td>\n",
       "      <td>8.000000</td>\n",
       "      <td>12.000000</td>\n",
       "      <td>2.000000</td>\n",
       "      <td>37273.000000</td>\n",
       "      <td>16293.000000</td>\n",
       "      <td>1.000000</td>\n",
       "      <td>612.000000</td>\n",
       "      <td>1.000000</td>\n",
       "      <td>729.000000</td>\n",
       "      <td>232.000000</td>\n",
       "    </tr>\n",
       "    <tr>\n",
       "      <th>max</th>\n",
       "      <td>50.000000</td>\n",
       "      <td>7.630000e+08</td>\n",
       "      <td>900.000000</td>\n",
       "      <td>19.000000</td>\n",
       "      <td>100.000000</td>\n",
       "      <td>60.000000</td>\n",
       "      <td>409.700000</td>\n",
       "      <td>33.000000</td>\n",
       "      <td>112.000000</td>\n",
       "      <td>5.000000</td>\n",
       "      <td>84869.000000</td>\n",
       "      <td>65968.000000</td>\n",
       "      <td>3.000000</td>\n",
       "      <td>3190.000000</td>\n",
       "      <td>3.000000</td>\n",
       "      <td>1344.000000</td>\n",
       "      <td>1580.000000</td>\n",
       "    </tr>\n",
       "  </tbody>\n",
       "</table>\n",
       "</div>"
      ],
      "text/plain": [
       "       total_images    last_price    total_area         rooms  ceiling_height  \\\n",
       "count  23699.000000  2.369900e+04  23699.000000  23699.000000    14504.000000   \n",
       "mean       9.858475  6.541549e+06     60.348651      2.070636        2.771499   \n",
       "std        5.682529  1.088701e+07     35.654083      1.078405        1.261056   \n",
       "min        0.000000  1.219000e+04     12.000000      0.000000        1.000000   \n",
       "25%        6.000000  3.400000e+06     40.000000      1.000000        2.520000   \n",
       "50%        9.000000  4.650000e+06     52.000000      2.000000        2.650000   \n",
       "75%       14.000000  6.800000e+06     69.900000      3.000000        2.800000   \n",
       "max       50.000000  7.630000e+08    900.000000     19.000000      100.000000   \n",
       "\n",
       "       floors_total   living_area         floor  kitchen_area       balcony  \\\n",
       "count  23613.000000  21796.000000  23699.000000  21421.000000  12180.000000   \n",
       "mean      10.673824     34.457852      5.892358     10.569807      1.150082   \n",
       "std        6.597173     22.030445      4.885249      5.905438      1.071300   \n",
       "min        1.000000      2.000000      1.000000      1.300000      0.000000   \n",
       "25%        5.000000     18.600000      2.000000      7.000000      0.000000   \n",
       "50%        9.000000     30.000000      4.000000      9.100000      1.000000   \n",
       "75%       16.000000     42.300000      8.000000     12.000000      2.000000   \n",
       "max       60.000000    409.700000     33.000000    112.000000      5.000000   \n",
       "\n",
       "       airports_nearest  cityCenters_nearest  parks_around3000  parks_nearest  \\\n",
       "count      18157.000000         18180.000000      18181.000000    8079.000000   \n",
       "mean       28793.672193         14191.277833          0.611408     490.804555   \n",
       "std        12630.880622          8608.386210          0.802074     342.317995   \n",
       "min            0.000000           181.000000          0.000000       1.000000   \n",
       "25%        18585.000000          9238.000000          0.000000     288.000000   \n",
       "50%        26726.000000         13098.500000          0.000000     455.000000   \n",
       "75%        37273.000000         16293.000000          1.000000     612.000000   \n",
       "max        84869.000000         65968.000000          3.000000    3190.000000   \n",
       "\n",
       "       ponds_around3000  ponds_nearest  days_exposition  \n",
       "count      18181.000000    9110.000000     20518.000000  \n",
       "mean           0.770255     517.980900       180.888634  \n",
       "std            0.938346     277.720643       219.727988  \n",
       "min            0.000000      13.000000         1.000000  \n",
       "25%            0.000000     294.000000        45.000000  \n",
       "50%            1.000000     502.000000        95.000000  \n",
       "75%            1.000000     729.000000       232.000000  \n",
       "max            3.000000    1344.000000      1580.000000  "
      ]
     },
     "execution_count": 4,
     "metadata": {},
     "output_type": "execute_result"
    }
   ],
   "source": [
    "data.describe()"
   ]
  },
  {
   "cell_type": "code",
   "execution_count": 5,
   "metadata": {},
   "outputs": [
    {
     "data": {
      "text/plain": [
       "total_images            0.000000\n",
       "last_price              0.000000\n",
       "total_area              0.000000\n",
       "first_day_exposition    0.000000\n",
       "rooms                   0.000000\n",
       "ceiling_height          0.387991\n",
       "floors_total            0.003629\n",
       "living_area             0.080299\n",
       "floor                   0.000000\n",
       "is_apartment            0.882906\n",
       "studio                  0.000000\n",
       "open_plan               0.000000\n",
       "kitchen_area            0.096122\n",
       "balcony                 0.486054\n",
       "locality_name           0.002068\n",
       "airports_nearest        0.233850\n",
       "cityCenters_nearest     0.232879\n",
       "parks_around3000        0.232837\n",
       "parks_nearest           0.659100\n",
       "ponds_around3000        0.232837\n",
       "ponds_nearest           0.615596\n",
       "days_exposition         0.134225\n",
       "dtype: float64"
      ]
     },
     "execution_count": 5,
     "metadata": {},
     "output_type": "execute_result"
    }
   ],
   "source": [
    "data.isna().mean()"
   ]
  },
  {
   "cell_type": "markdown",
   "metadata": {},
   "source": [
    "### Вывод"
   ]
  },
  {
   "cell_type": "markdown",
   "metadata": {},
   "source": [
    "- данные состоят из 22 столбцов: total_images — число фотографий квартиры в объявлении; last_price — цена на момент снятия с публикации; total_area — площадь квартиры в квадратных метрах (м²); first_day_exposition — дата публикации; rooms — число комнат; ceiling_height — высота потолков (м); floors_total — всего этажей в доме; living_area — жилая площадь в квадратных метрах(м²); floor — этаж; is_apartment — апартаменты (булев тип); studio — квартира-студия (булев тип); open_plan — свободная планировка (булев тип); kitchen_area — площадь кухни в квадратных метрах (м²); balcony — число балконов; locality_name — название населённого пункта; airports_nearest — расстояние до ближайшего аэропорта в метрах (м); cityCenters_nearest — расстояние до центра города (м); parks_around3000 — число парков в радиусе 3 км; parks_nearest — расстояние до ближайшего парка (м); ponds_around3000 — число водоёмов в радиусе 3 км ponds_nearest — расстояние до ближайшего водоёма (м); days_exposition — сколько дней было размещено объявление (от публикации до снятия);\n",
    "- всего строк 23699;\n",
    "- при выгрузке csv файла в Data Frame данные склеились в одну строку. Было произведено разделение с помощью задания разделителя sep='\\t'\n",
    "- в данных есть пропущенные значения в столбцах:\n",
    "\n",
    "ceiling_height, floors_total, living_area, is_apartment, kitchen_area, balcony, locality_name, airports_nearest, cityCenters_nearest, parks_around3000, parks_nearest, \n",
    "ponds_around3000, ponds_nearest, days_exposition\n",
    "- присутствуют столбцы, в которых необходимо поменять тип данных: balcony — число балконов ->int; days_exposition — сколько дней было размещено объявление (от публикации до снятия) -> int; first_day_exposition — дата публикации -> date; floors_total — всего этажей в доме ->int; is_apartment — апартаменты (булев тип) -> bool; parks_around3000 — число парков в радиусе 3 км ->int; ponds_around3000 — число водоёмов в радиусе 3 км ->int."
   ]
  },
  {
   "cell_type": "markdown",
   "metadata": {},
   "source": [
    "## Предобработка данных"
   ]
  },
  {
   "cell_type": "markdown",
   "metadata": {},
   "source": [
    "В столбце locality_name не хватает всего 49 значений, поэтому удаляем строки в которых в этом столбце стоит значение NaN"
   ]
  },
  {
   "cell_type": "code",
   "execution_count": 6,
   "metadata": {},
   "outputs": [
    {
     "data": {
      "text/plain": [
       "0"
      ]
     },
     "execution_count": 6,
     "metadata": {},
     "output_type": "execute_result"
    }
   ],
   "source": [
    "data.dropna(subset=['locality_name'], inplace=True)\n",
    "data['locality_name'].isna().sum()"
   ]
  },
  {
   "cell_type": "markdown",
   "metadata": {},
   "source": [
    "Проверяем столбец ceiling_height на отсутствие значений"
   ]
  },
  {
   "cell_type": "code",
   "execution_count": 7,
   "metadata": {},
   "outputs": [
    {
     "data": {
      "text/plain": [
       "9160"
      ]
     },
     "execution_count": 7,
     "metadata": {},
     "output_type": "execute_result"
    }
   ],
   "source": [
    "data['ceiling_height'].isna().sum()"
   ]
  },
  {
   "cell_type": "markdown",
   "metadata": {},
   "source": [
    "Находим медиану по данному столбцу, т.к. она устойчива к выборосам, заполняем пропуски в значениях и проверяем результат"
   ]
  },
  {
   "cell_type": "code",
   "execution_count": 8,
   "metadata": {},
   "outputs": [
    {
     "data": {
      "text/plain": [
       "0"
      ]
     },
     "execution_count": 8,
     "metadata": {},
     "output_type": "execute_result"
    }
   ],
   "source": [
    "data['ceiling_height'] = data['ceiling_height'].astype('float64') # изменяем тип данных на вещественный\n",
    "median_height = data['ceiling_height'].median()\n",
    "data['ceiling_height'].fillna(median_height, inplace=True)\n",
    "data['ceiling_height'].isna().sum()"
   ]
  },
  {
   "cell_type": "markdown",
   "metadata": {},
   "source": [
    "Для столбцов living_area и last_price меняем тип данных на вещественный. Создадим новый столбец в котором посчитаем стоимость одного квадратного метра площади."
   ]
  },
  {
   "cell_type": "code",
   "execution_count": 9,
   "metadata": {},
   "outputs": [
    {
     "data": {
      "text/html": [
       "<div>\n",
       "<style scoped>\n",
       "    .dataframe tbody tr th:only-of-type {\n",
       "        vertical-align: middle;\n",
       "    }\n",
       "\n",
       "    .dataframe tbody tr th {\n",
       "        vertical-align: top;\n",
       "    }\n",
       "\n",
       "    .dataframe thead th {\n",
       "        text-align: right;\n",
       "    }\n",
       "</style>\n",
       "<table border=\"1\" class=\"dataframe\">\n",
       "  <thead>\n",
       "    <tr style=\"text-align: right;\">\n",
       "      <th></th>\n",
       "      <th>total_images</th>\n",
       "      <th>last_price</th>\n",
       "      <th>total_area</th>\n",
       "      <th>first_day_exposition</th>\n",
       "      <th>rooms</th>\n",
       "      <th>ceiling_height</th>\n",
       "      <th>floors_total</th>\n",
       "      <th>living_area</th>\n",
       "      <th>floor</th>\n",
       "      <th>is_apartment</th>\n",
       "      <th>studio</th>\n",
       "      <th>open_plan</th>\n",
       "      <th>kitchen_area</th>\n",
       "      <th>balcony</th>\n",
       "      <th>locality_name</th>\n",
       "      <th>airports_nearest</th>\n",
       "      <th>cityCenters_nearest</th>\n",
       "      <th>parks_around3000</th>\n",
       "      <th>parks_nearest</th>\n",
       "      <th>ponds_around3000</th>\n",
       "      <th>ponds_nearest</th>\n",
       "      <th>days_exposition</th>\n",
       "      <th>price_for_m2</th>\n",
       "    </tr>\n",
       "  </thead>\n",
       "  <tbody>\n",
       "    <tr>\n",
       "      <th>0</th>\n",
       "      <td>20</td>\n",
       "      <td>13000000.0</td>\n",
       "      <td>108.0</td>\n",
       "      <td>2019-03-07T00:00:00</td>\n",
       "      <td>3</td>\n",
       "      <td>2.70</td>\n",
       "      <td>16.0</td>\n",
       "      <td>51.0</td>\n",
       "      <td>8</td>\n",
       "      <td>NaN</td>\n",
       "      <td>False</td>\n",
       "      <td>False</td>\n",
       "      <td>25.0</td>\n",
       "      <td>NaN</td>\n",
       "      <td>Санкт-Петербург</td>\n",
       "      <td>18863.0</td>\n",
       "      <td>16028.0</td>\n",
       "      <td>1.0</td>\n",
       "      <td>482.0</td>\n",
       "      <td>2.0</td>\n",
       "      <td>755.0</td>\n",
       "      <td>NaN</td>\n",
       "      <td>254901.960784</td>\n",
       "    </tr>\n",
       "    <tr>\n",
       "      <th>1</th>\n",
       "      <td>7</td>\n",
       "      <td>3350000.0</td>\n",
       "      <td>40.4</td>\n",
       "      <td>2018-12-04T00:00:00</td>\n",
       "      <td>1</td>\n",
       "      <td>2.65</td>\n",
       "      <td>11.0</td>\n",
       "      <td>18.6</td>\n",
       "      <td>1</td>\n",
       "      <td>NaN</td>\n",
       "      <td>False</td>\n",
       "      <td>False</td>\n",
       "      <td>11.0</td>\n",
       "      <td>2.0</td>\n",
       "      <td>посёлок Шушары</td>\n",
       "      <td>12817.0</td>\n",
       "      <td>18603.0</td>\n",
       "      <td>0.0</td>\n",
       "      <td>NaN</td>\n",
       "      <td>0.0</td>\n",
       "      <td>NaN</td>\n",
       "      <td>81.0</td>\n",
       "      <td>180107.526882</td>\n",
       "    </tr>\n",
       "    <tr>\n",
       "      <th>2</th>\n",
       "      <td>10</td>\n",
       "      <td>5196000.0</td>\n",
       "      <td>56.0</td>\n",
       "      <td>2015-08-20T00:00:00</td>\n",
       "      <td>2</td>\n",
       "      <td>2.65</td>\n",
       "      <td>5.0</td>\n",
       "      <td>34.3</td>\n",
       "      <td>4</td>\n",
       "      <td>NaN</td>\n",
       "      <td>False</td>\n",
       "      <td>False</td>\n",
       "      <td>8.3</td>\n",
       "      <td>0.0</td>\n",
       "      <td>Санкт-Петербург</td>\n",
       "      <td>21741.0</td>\n",
       "      <td>13933.0</td>\n",
       "      <td>1.0</td>\n",
       "      <td>90.0</td>\n",
       "      <td>2.0</td>\n",
       "      <td>574.0</td>\n",
       "      <td>558.0</td>\n",
       "      <td>151486.880466</td>\n",
       "    </tr>\n",
       "    <tr>\n",
       "      <th>3</th>\n",
       "      <td>0</td>\n",
       "      <td>64900000.0</td>\n",
       "      <td>159.0</td>\n",
       "      <td>2015-07-24T00:00:00</td>\n",
       "      <td>3</td>\n",
       "      <td>2.65</td>\n",
       "      <td>14.0</td>\n",
       "      <td>NaN</td>\n",
       "      <td>9</td>\n",
       "      <td>NaN</td>\n",
       "      <td>False</td>\n",
       "      <td>False</td>\n",
       "      <td>NaN</td>\n",
       "      <td>0.0</td>\n",
       "      <td>Санкт-Петербург</td>\n",
       "      <td>28098.0</td>\n",
       "      <td>6800.0</td>\n",
       "      <td>2.0</td>\n",
       "      <td>84.0</td>\n",
       "      <td>3.0</td>\n",
       "      <td>234.0</td>\n",
       "      <td>424.0</td>\n",
       "      <td>NaN</td>\n",
       "    </tr>\n",
       "    <tr>\n",
       "      <th>4</th>\n",
       "      <td>2</td>\n",
       "      <td>10000000.0</td>\n",
       "      <td>100.0</td>\n",
       "      <td>2018-06-19T00:00:00</td>\n",
       "      <td>2</td>\n",
       "      <td>3.03</td>\n",
       "      <td>14.0</td>\n",
       "      <td>32.0</td>\n",
       "      <td>13</td>\n",
       "      <td>NaN</td>\n",
       "      <td>False</td>\n",
       "      <td>False</td>\n",
       "      <td>41.0</td>\n",
       "      <td>NaN</td>\n",
       "      <td>Санкт-Петербург</td>\n",
       "      <td>31856.0</td>\n",
       "      <td>8098.0</td>\n",
       "      <td>2.0</td>\n",
       "      <td>112.0</td>\n",
       "      <td>1.0</td>\n",
       "      <td>48.0</td>\n",
       "      <td>121.0</td>\n",
       "      <td>312500.000000</td>\n",
       "    </tr>\n",
       "  </tbody>\n",
       "</table>\n",
       "</div>"
      ],
      "text/plain": [
       "   total_images  last_price  total_area first_day_exposition  rooms  \\\n",
       "0            20  13000000.0       108.0  2019-03-07T00:00:00      3   \n",
       "1             7   3350000.0        40.4  2018-12-04T00:00:00      1   \n",
       "2            10   5196000.0        56.0  2015-08-20T00:00:00      2   \n",
       "3             0  64900000.0       159.0  2015-07-24T00:00:00      3   \n",
       "4             2  10000000.0       100.0  2018-06-19T00:00:00      2   \n",
       "\n",
       "   ceiling_height  floors_total  living_area  floor is_apartment  studio  \\\n",
       "0            2.70          16.0         51.0      8          NaN   False   \n",
       "1            2.65          11.0         18.6      1          NaN   False   \n",
       "2            2.65           5.0         34.3      4          NaN   False   \n",
       "3            2.65          14.0          NaN      9          NaN   False   \n",
       "4            3.03          14.0         32.0     13          NaN   False   \n",
       "\n",
       "   open_plan  kitchen_area  balcony    locality_name  airports_nearest  \\\n",
       "0      False          25.0      NaN  Санкт-Петербург           18863.0   \n",
       "1      False          11.0      2.0   посёлок Шушары           12817.0   \n",
       "2      False           8.3      0.0  Санкт-Петербург           21741.0   \n",
       "3      False           NaN      0.0  Санкт-Петербург           28098.0   \n",
       "4      False          41.0      NaN  Санкт-Петербург           31856.0   \n",
       "\n",
       "   cityCenters_nearest  parks_around3000  parks_nearest  ponds_around3000  \\\n",
       "0              16028.0               1.0          482.0               2.0   \n",
       "1              18603.0               0.0            NaN               0.0   \n",
       "2              13933.0               1.0           90.0               2.0   \n",
       "3               6800.0               2.0           84.0               3.0   \n",
       "4               8098.0               2.0          112.0               1.0   \n",
       "\n",
       "   ponds_nearest  days_exposition   price_for_m2  \n",
       "0          755.0              NaN  254901.960784  \n",
       "1            NaN             81.0  180107.526882  \n",
       "2          574.0            558.0  151486.880466  \n",
       "3          234.0            424.0            NaN  \n",
       "4           48.0            121.0  312500.000000  "
      ]
     },
     "execution_count": 9,
     "metadata": {},
     "output_type": "execute_result"
    }
   ],
   "source": [
    "data['living_area'] = data['living_area'].astype('float64')\n",
    "data['last_price'] = data['last_price'].astype('float64')\n",
    "data['price_for_m2'] = data['last_price']/data['living_area']\n",
    "data.head()"
   ]
  },
  {
   "cell_type": "markdown",
   "metadata": {},
   "source": [
    "Сгруппируем данные по столбцу locality_name и найдем среднее по цене за 1 квадратынй метр."
   ]
  },
  {
   "cell_type": "code",
   "execution_count": 10,
   "metadata": {},
   "outputs": [
    {
     "data": {
      "text/plain": [
       "locality_name\n",
       "деревня Малая Романовка    14808.362369\n",
       "деревня Старополье         14851.485149\n",
       "деревня Выскатка           18856.907895\n",
       "поселок Тёсово-4           20833.333333\n",
       "поселок Совхозный          22600.000000\n",
       "                               ...     \n",
       "поселок Севастьяново                NaN\n",
       "поселок станции Лужайка             NaN\n",
       "посёлок Левашово                    NaN\n",
       "посёлок Петро-Славянка              NaN\n",
       "посёлок Плоское                     NaN\n",
       "Name: price_for_m2, Length: 364, dtype: float64"
      ]
     },
     "execution_count": 10,
     "metadata": {},
     "output_type": "execute_result"
    }
   ],
   "source": [
    "grouped_price = data.groupby('locality_name')['price_for_m2'].transform('mean')\n",
    "nan = data.groupby('locality_name')['price_for_m2'].mean()\n",
    "nan.sort_values()"
   ]
  },
  {
   "cell_type": "markdown",
   "metadata": {},
   "source": [
    "Посчитаем количество пропусков значений в столбце price_for_m2"
   ]
  },
  {
   "cell_type": "code",
   "execution_count": 11,
   "metadata": {},
   "outputs": [
    {
     "data": {
      "text/plain": [
       "17"
      ]
     },
     "execution_count": 11,
     "metadata": {},
     "output_type": "execute_result"
    }
   ],
   "source": [
    "grouped_price.isna().sum()"
   ]
  },
  {
   "cell_type": "markdown",
   "metadata": {},
   "source": [
    "Заполняем пропуски медианным значением стоимости одного квадратного метра в зависимости от района и удаляем пропуски если они еще остались, т.к. восстановить данные если их нет, мы уже сможем"
   ]
  },
  {
   "cell_type": "code",
   "execution_count": 12,
   "metadata": {},
   "outputs": [
    {
     "data": {
      "text/plain": [
       "0"
      ]
     },
     "execution_count": 12,
     "metadata": {},
     "output_type": "execute_result"
    }
   ],
   "source": [
    "data['price_for_m2'].fillna(grouped_price, inplace=True)\n",
    "data.dropna(subset=['price_for_m2'], inplace=True)\n",
    "data['price_for_m2'].isna().sum()"
   ]
  },
  {
   "cell_type": "markdown",
   "metadata": {},
   "source": [
    "Проверяем столбец living_area на пропущенные значения и заполняем пропуски площади поделив цену квадратного метра на стоимость одного квадратного метра"
   ]
  },
  {
   "cell_type": "code",
   "execution_count": 13,
   "metadata": {},
   "outputs": [
    {
     "data": {
      "text/plain": [
       "1881"
      ]
     },
     "execution_count": 13,
     "metadata": {},
     "output_type": "execute_result"
    }
   ],
   "source": [
    "data['living_area'].isna().sum()\n"
   ]
  },
  {
   "cell_type": "code",
   "execution_count": 14,
   "metadata": {},
   "outputs": [
    {
     "data": {
      "text/plain": [
       "0"
      ]
     },
     "execution_count": 14,
     "metadata": {},
     "output_type": "execute_result"
    }
   ],
   "source": [
    "data['living_area'].fillna(data['last_price']/data['price_for_m2'], inplace=True)\n",
    "data['living_area'].isna().sum()"
   ]
  },
  {
   "cell_type": "markdown",
   "metadata": {},
   "source": [
    "Проверяем столбец balcony на отсутствие значений и если значением отсутствует заполним столбце значением 0, т.к. в таком случае скорее всего имеется в виду, что балконов просто нет. Заменяем тип данных столбца на int64 и проверяем на пропущенные значения."
   ]
  },
  {
   "cell_type": "code",
   "execution_count": 15,
   "metadata": {},
   "outputs": [],
   "source": [
    "data['balcony'] = data['balcony'].fillna(0)\n",
    "data['balcony'] = data['balcony'].astype('int64')"
   ]
  },
  {
   "cell_type": "code",
   "execution_count": 16,
   "metadata": {},
   "outputs": [
    {
     "data": {
      "text/plain": [
       "0"
      ]
     },
     "execution_count": 16,
     "metadata": {},
     "output_type": "execute_result"
    }
   ],
   "source": [
    "data['balcony'].isna().sum()"
   ]
  },
  {
   "cell_type": "markdown",
   "metadata": {},
   "source": [
    "Проверяем столбец is_apartment на отсутствие значений, переводим тип столбца в bool и заменяем пропущенные значения на 0, т.е. не аппартаменты."
   ]
  },
  {
   "cell_type": "code",
   "execution_count": 17,
   "metadata": {},
   "outputs": [
    {
     "data": {
      "text/plain": [
       "20874"
      ]
     },
     "execution_count": 17,
     "metadata": {},
     "output_type": "execute_result"
    }
   ],
   "source": [
    "data['is_apartment'].isna().sum()"
   ]
  },
  {
   "cell_type": "code",
   "execution_count": 18,
   "metadata": {},
   "outputs": [
    {
     "data": {
      "text/plain": [
       "0"
      ]
     },
     "execution_count": 18,
     "metadata": {},
     "output_type": "execute_result"
    }
   ],
   "source": [
    "data['is_apartment'] = data['is_apartment'].astype('bool')\n",
    "data['is_apartment'] = data['is_apartment'].fillna(0)\n",
    "data['is_apartment'].isna().sum()"
   ]
  },
  {
   "cell_type": "markdown",
   "metadata": {},
   "source": [
    "Переводим тип столбца airport_nearest в тип float64, находим количество пропущеных значений. Для заполнения пропусков находим среднее значение для данного столбца по району и заполняем пропущенные данные"
   ]
  },
  {
   "cell_type": "code",
   "execution_count": 19,
   "metadata": {},
   "outputs": [
    {
     "data": {
      "text/plain": [
       "5519"
      ]
     },
     "execution_count": 19,
     "metadata": {},
     "output_type": "execute_result"
    }
   ],
   "source": [
    "data['airports_nearest'] = data['airports_nearest'].astype('float64')\n",
    "grouped_airport_nearest = data.groupby('locality_name')['airports_nearest'].transform('mean')\n",
    "data['airports_nearest'].isna().sum()"
   ]
  },
  {
   "cell_type": "code",
   "execution_count": 20,
   "metadata": {},
   "outputs": [
    {
     "data": {
      "text/plain": [
       "5371"
      ]
     },
     "execution_count": 20,
     "metadata": {},
     "output_type": "execute_result"
    }
   ],
   "source": [
    "data['airports_nearest'].fillna(grouped_airport_nearest, inplace=True)\n",
    "data['airports_nearest'].isna().sum()"
   ]
  },
  {
   "cell_type": "markdown",
   "metadata": {},
   "source": [
    "В столбце cityCenter_nearest меняем тип данных, находим среднее значение по данному столбцу для каждого района и подставляем вместо пропусков найденные значения. "
   ]
  },
  {
   "cell_type": "code",
   "execution_count": 21,
   "metadata": {},
   "outputs": [
    {
     "data": {
      "text/plain": [
       "0"
      ]
     },
     "execution_count": 21,
     "metadata": {},
     "output_type": "execute_result"
    }
   ],
   "source": [
    "data['cityCenters_nearest'] = data['cityCenters_nearest'].astype('float64')\n",
    "data['cityCenters_nearest'].fillna(data.groupby('locality_name')['cityCenters_nearest'].transform('mean'), inplace=True)\n",
    "data['cityCenters_nearest'] = data['cityCenters_nearest'].fillna(data['cityCenters_nearest'].mean())\n",
    "data['cityCenters_nearest'].isna().sum()"
   ]
  },
  {
   "cell_type": "markdown",
   "metadata": {},
   "source": [
    "В столбце parks_around3000 меняем тип данных на float64, находит среднее по столбцу и заполняем пропуски средними значениями (средние значения могут иметь дробную часть) и обратно переводим в тип данных int64."
   ]
  },
  {
   "cell_type": "code",
   "execution_count": 22,
   "metadata": {},
   "outputs": [
    {
     "data": {
      "text/plain": [
       "0"
      ]
     },
     "execution_count": 22,
     "metadata": {},
     "output_type": "execute_result"
    }
   ],
   "source": [
    "data['parks_around3000'] = data['parks_around3000'].astype('float64')\n",
    "data['parks_around3000'] = data['parks_around3000'].fillna(data['parks_around3000'].mean())\n",
    "data['parks_around3000'] = data['parks_around3000'].astype('int64')\n",
    "data['parks_around3000'].isna().sum()"
   ]
  },
  {
   "cell_type": "markdown",
   "metadata": {},
   "source": [
    "В столбце parks_nearest меняем тип данных на float64, находит среднее по столбцу и заполняем пропуски средними значениями."
   ]
  },
  {
   "cell_type": "code",
   "execution_count": 23,
   "metadata": {},
   "outputs": [
    {
     "data": {
      "text/plain": [
       "0"
      ]
     },
     "execution_count": 23,
     "metadata": {},
     "output_type": "execute_result"
    }
   ],
   "source": [
    "data['parks_nearest'] = data['parks_nearest'].astype('float64')\n",
    "data['parks_nearest'] = data['parks_nearest'].fillna(data['parks_nearest'].mean())\n",
    "data['parks_nearest'].isna().sum()"
   ]
  },
  {
   "cell_type": "markdown",
   "metadata": {},
   "source": [
    "В столбце ponds_around3000 меняем тип данных на float64, находит среднее по столбцу и заполняем пропуски средними значениями, меняем тип данных обратно на  int64."
   ]
  },
  {
   "cell_type": "code",
   "execution_count": 24,
   "metadata": {},
   "outputs": [
    {
     "data": {
      "text/plain": [
       "0"
      ]
     },
     "execution_count": 24,
     "metadata": {},
     "output_type": "execute_result"
    }
   ],
   "source": [
    "data['ponds_around3000'] = data['ponds_around3000'].astype('float64')\n",
    "data['ponds_around3000'] = data['ponds_around3000'].fillna(data['ponds_around3000'].mean())\n",
    "data['ponds_around3000'] = data['ponds_around3000'].astype('int64')\n",
    "data['ponds_around3000'].isna().sum()"
   ]
  },
  {
   "cell_type": "markdown",
   "metadata": {},
   "source": [
    "В столбце ponds_nearest меняем тип данных на float64, находит среднее по столбцу и заполняем пропуски средними значениями."
   ]
  },
  {
   "cell_type": "code",
   "execution_count": 25,
   "metadata": {},
   "outputs": [
    {
     "data": {
      "text/plain": [
       "0"
      ]
     },
     "execution_count": 25,
     "metadata": {},
     "output_type": "execute_result"
    }
   ],
   "source": [
    "data['ponds_nearest'] = data['ponds_nearest'].astype('float64')\n",
    "data['ponds_nearest'] = data['ponds_nearest'].fillna(data['ponds_nearest'].mean())\n",
    "data['ponds_nearest'].isna().sum()"
   ]
  },
  {
   "cell_type": "markdown",
   "metadata": {},
   "source": [
    "В столбце floors_total меняем тип данных на float64, находит среднее по столбцу, заполняем пропуски средними значениями и возвращаем тип данных int64."
   ]
  },
  {
   "cell_type": "code",
   "execution_count": 26,
   "metadata": {},
   "outputs": [
    {
     "data": {
      "text/plain": [
       "0"
      ]
     },
     "execution_count": 26,
     "metadata": {},
     "output_type": "execute_result"
    }
   ],
   "source": [
    "data['floors_total'] = data['floors_total'].astype('float64')\n",
    "data['floors_total'] = data['floors_total'].fillna(data['floors_total'].mean())\n",
    "data['floors_total'] = data['floors_total'].astype('int64')\n",
    "data['floors_total'].isna().sum()"
   ]
  },
  {
   "cell_type": "markdown",
   "metadata": {},
   "source": [
    "В столбце days_exposition меняем тип данных на float64, находит медиану по столбцу, заполняем пропуски медианными значениями и возвращаем тип данных int64."
   ]
  },
  {
   "cell_type": "code",
   "execution_count": 27,
   "metadata": {},
   "outputs": [
    {
     "data": {
      "text/plain": [
       "0"
      ]
     },
     "execution_count": 27,
     "metadata": {},
     "output_type": "execute_result"
    }
   ],
   "source": [
    "data['days_exposition'] = data['days_exposition'].astype('float64')\n",
    "data['days_exposition'] = data['days_exposition'].fillna(data['days_exposition'].median())\n",
    "data['days_exposition'] = data['days_exposition'].astype('int64')\n",
    "data['days_exposition'].isna().sum()"
   ]
  },
  {
   "cell_type": "markdown",
   "metadata": {},
   "source": [
    "В столбце kitchen_area меняем тип данных на float64, находит медиану по столбцу, заполняем пропуски медианными значениями."
   ]
  },
  {
   "cell_type": "code",
   "execution_count": 28,
   "metadata": {},
   "outputs": [
    {
     "data": {
      "text/plain": [
       "0"
      ]
     },
     "execution_count": 28,
     "metadata": {},
     "output_type": "execute_result"
    }
   ],
   "source": [
    "data['kitchen_area'] = data['kitchen_area'].astype('float64')\n",
    "data['kitchen_area'] = data['kitchen_area'].fillna(data['kitchen_area'].median())\n",
    "data['kitchen_area'].isna().sum()"
   ]
  },
  {
   "cell_type": "markdown",
   "metadata": {},
   "source": [
    "В столбце total_area меняем тип данных на float64."
   ]
  },
  {
   "cell_type": "code",
   "execution_count": 29,
   "metadata": {},
   "outputs": [],
   "source": [
    "data['total_area'] = data['total_area'].astype('float64')"
   ]
  },
  {
   "cell_type": "markdown",
   "metadata": {},
   "source": [
    "Меняем тип данных в столбце last_price на int64, так как в этом столбце находятся большие числа и у всех в дробной части стоит 0."
   ]
  },
  {
   "cell_type": "code",
   "execution_count": 30,
   "metadata": {},
   "outputs": [],
   "source": [
    "data['last_price'] = data['last_price'].astype('int64')"
   ]
  },
  {
   "cell_type": "markdown",
   "metadata": {},
   "source": [
    "Просматриваем, что в итоге получилось"
   ]
  },
  {
   "cell_type": "code",
   "execution_count": 31,
   "metadata": {},
   "outputs": [
    {
     "name": "stdout",
     "output_type": "stream",
     "text": [
      "<class 'pandas.core.frame.DataFrame'>\n",
      "Int64Index: 23633 entries, 0 to 23698\n",
      "Data columns (total 23 columns):\n",
      " #   Column                Non-Null Count  Dtype  \n",
      "---  ------                --------------  -----  \n",
      " 0   total_images          23633 non-null  int64  \n",
      " 1   last_price            23633 non-null  int64  \n",
      " 2   total_area            23633 non-null  float64\n",
      " 3   first_day_exposition  23633 non-null  object \n",
      " 4   rooms                 23633 non-null  int64  \n",
      " 5   ceiling_height        23633 non-null  float64\n",
      " 6   floors_total          23633 non-null  int64  \n",
      " 7   living_area           23633 non-null  float64\n",
      " 8   floor                 23633 non-null  int64  \n",
      " 9   is_apartment          23633 non-null  bool   \n",
      " 10  studio                23633 non-null  bool   \n",
      " 11  open_plan             23633 non-null  bool   \n",
      " 12  kitchen_area          23633 non-null  float64\n",
      " 13  balcony               23633 non-null  int64  \n",
      " 14  locality_name         23633 non-null  object \n",
      " 15  airports_nearest      18262 non-null  float64\n",
      " 16  cityCenters_nearest   23633 non-null  float64\n",
      " 17  parks_around3000      23633 non-null  int64  \n",
      " 18  parks_nearest         23633 non-null  float64\n",
      " 19  ponds_around3000      23633 non-null  int64  \n",
      " 20  ponds_nearest         23633 non-null  float64\n",
      " 21  days_exposition       23633 non-null  int64  \n",
      " 22  price_for_m2          23633 non-null  float64\n",
      "dtypes: bool(3), float64(9), int64(9), object(2)\n",
      "memory usage: 3.9+ MB\n"
     ]
    }
   ],
   "source": [
    "data.info()"
   ]
  },
  {
   "cell_type": "markdown",
   "metadata": {},
   "source": [
    "### Вывод:"
   ]
  },
  {
   "cell_type": "markdown",
   "metadata": {},
   "source": [
    "Все пропуски заполнены. В таблице осталось 23633 строки из 23699. Всего удалили 151 строку. Все типы данных исправлены."
   ]
  },
  {
   "cell_type": "markdown",
   "metadata": {},
   "source": [
    "## Расчёты и добавление результатов в таблицу"
   ]
  },
  {
   "cell_type": "markdown",
   "metadata": {},
   "source": [
    "Разделим все квартиры на квартиры на первом этаже, квартиры на последнем этаже и квартиры на других этажах для этого напишем функцию и результаты ее работы занесем в созданный столбец таблицы"
   ]
  },
  {
   "cell_type": "code",
   "execution_count": 32,
   "metadata": {},
   "outputs": [],
   "source": [
    "def floor_group(row):\n",
    "    what_floor=row['floor']\n",
    "    total_floor=row['floors_total']\n",
    "    if what_floor==1:\n",
    "        return 'Первый этаж'\n",
    "    if what_floor==total_floor:\n",
    "        return 'Последний этаж'\n",
    "    return 'Другой этаж'"
   ]
  },
  {
   "cell_type": "code",
   "execution_count": 33,
   "metadata": {},
   "outputs": [],
   "source": [
    "floor_position = data.apply(floor_group, axis=1)"
   ]
  },
  {
   "cell_type": "code",
   "execution_count": 34,
   "metadata": {},
   "outputs": [],
   "source": [
    "data['floor_position'] = floor_position # Создаем новый столбец"
   ]
  },
  {
   "cell_type": "markdown",
   "metadata": {},
   "source": [
    "В столбце first_day_exposition оставляем только дату (время нам не нужно, тем более что оно везде 00:00:00)"
   ]
  },
  {
   "cell_type": "code",
   "execution_count": 35,
   "metadata": {},
   "outputs": [
    {
     "data": {
      "text/html": [
       "<div>\n",
       "<style scoped>\n",
       "    .dataframe tbody tr th:only-of-type {\n",
       "        vertical-align: middle;\n",
       "    }\n",
       "\n",
       "    .dataframe tbody tr th {\n",
       "        vertical-align: top;\n",
       "    }\n",
       "\n",
       "    .dataframe thead th {\n",
       "        text-align: right;\n",
       "    }\n",
       "</style>\n",
       "<table border=\"1\" class=\"dataframe\">\n",
       "  <thead>\n",
       "    <tr style=\"text-align: right;\">\n",
       "      <th></th>\n",
       "      <th>total_images</th>\n",
       "      <th>last_price</th>\n",
       "      <th>total_area</th>\n",
       "      <th>first_day_exposition</th>\n",
       "      <th>rooms</th>\n",
       "      <th>ceiling_height</th>\n",
       "      <th>floors_total</th>\n",
       "      <th>living_area</th>\n",
       "      <th>floor</th>\n",
       "      <th>is_apartment</th>\n",
       "      <th>studio</th>\n",
       "      <th>open_plan</th>\n",
       "      <th>kitchen_area</th>\n",
       "      <th>balcony</th>\n",
       "      <th>locality_name</th>\n",
       "      <th>airports_nearest</th>\n",
       "      <th>cityCenters_nearest</th>\n",
       "      <th>parks_around3000</th>\n",
       "      <th>parks_nearest</th>\n",
       "      <th>ponds_around3000</th>\n",
       "      <th>ponds_nearest</th>\n",
       "      <th>days_exposition</th>\n",
       "      <th>price_for_m2</th>\n",
       "      <th>floor_position</th>\n",
       "    </tr>\n",
       "  </thead>\n",
       "  <tbody>\n",
       "    <tr>\n",
       "      <th>0</th>\n",
       "      <td>20</td>\n",
       "      <td>13000000</td>\n",
       "      <td>108.0</td>\n",
       "      <td>2019-03-07</td>\n",
       "      <td>3</td>\n",
       "      <td>2.70</td>\n",
       "      <td>16</td>\n",
       "      <td>51.000000</td>\n",
       "      <td>8</td>\n",
       "      <td>True</td>\n",
       "      <td>False</td>\n",
       "      <td>False</td>\n",
       "      <td>25.0</td>\n",
       "      <td>0</td>\n",
       "      <td>Санкт-Петербург</td>\n",
       "      <td>18863.0</td>\n",
       "      <td>16028.0</td>\n",
       "      <td>1</td>\n",
       "      <td>482.000000</td>\n",
       "      <td>2</td>\n",
       "      <td>755.000000</td>\n",
       "      <td>95</td>\n",
       "      <td>254901.960784</td>\n",
       "      <td>Другой этаж</td>\n",
       "    </tr>\n",
       "    <tr>\n",
       "      <th>1</th>\n",
       "      <td>7</td>\n",
       "      <td>3350000</td>\n",
       "      <td>40.4</td>\n",
       "      <td>2018-12-04</td>\n",
       "      <td>1</td>\n",
       "      <td>2.65</td>\n",
       "      <td>11</td>\n",
       "      <td>18.600000</td>\n",
       "      <td>1</td>\n",
       "      <td>True</td>\n",
       "      <td>False</td>\n",
       "      <td>False</td>\n",
       "      <td>11.0</td>\n",
       "      <td>2</td>\n",
       "      <td>посёлок Шушары</td>\n",
       "      <td>12817.0</td>\n",
       "      <td>18603.0</td>\n",
       "      <td>0</td>\n",
       "      <td>490.830729</td>\n",
       "      <td>0</td>\n",
       "      <td>518.043923</td>\n",
       "      <td>81</td>\n",
       "      <td>180107.526882</td>\n",
       "      <td>Первый этаж</td>\n",
       "    </tr>\n",
       "    <tr>\n",
       "      <th>2</th>\n",
       "      <td>10</td>\n",
       "      <td>5196000</td>\n",
       "      <td>56.0</td>\n",
       "      <td>2015-08-20</td>\n",
       "      <td>2</td>\n",
       "      <td>2.65</td>\n",
       "      <td>5</td>\n",
       "      <td>34.300000</td>\n",
       "      <td>4</td>\n",
       "      <td>True</td>\n",
       "      <td>False</td>\n",
       "      <td>False</td>\n",
       "      <td>8.3</td>\n",
       "      <td>0</td>\n",
       "      <td>Санкт-Петербург</td>\n",
       "      <td>21741.0</td>\n",
       "      <td>13933.0</td>\n",
       "      <td>1</td>\n",
       "      <td>90.000000</td>\n",
       "      <td>2</td>\n",
       "      <td>574.000000</td>\n",
       "      <td>558</td>\n",
       "      <td>151486.880466</td>\n",
       "      <td>Другой этаж</td>\n",
       "    </tr>\n",
       "    <tr>\n",
       "      <th>3</th>\n",
       "      <td>0</td>\n",
       "      <td>64900000</td>\n",
       "      <td>159.0</td>\n",
       "      <td>2015-07-24</td>\n",
       "      <td>3</td>\n",
       "      <td>2.65</td>\n",
       "      <td>14</td>\n",
       "      <td>301.795172</td>\n",
       "      <td>9</td>\n",
       "      <td>True</td>\n",
       "      <td>False</td>\n",
       "      <td>False</td>\n",
       "      <td>9.1</td>\n",
       "      <td>0</td>\n",
       "      <td>Санкт-Петербург</td>\n",
       "      <td>28098.0</td>\n",
       "      <td>6800.0</td>\n",
       "      <td>2</td>\n",
       "      <td>84.000000</td>\n",
       "      <td>3</td>\n",
       "      <td>234.000000</td>\n",
       "      <td>424</td>\n",
       "      <td>215046.515335</td>\n",
       "      <td>Другой этаж</td>\n",
       "    </tr>\n",
       "    <tr>\n",
       "      <th>4</th>\n",
       "      <td>2</td>\n",
       "      <td>10000000</td>\n",
       "      <td>100.0</td>\n",
       "      <td>2018-06-19</td>\n",
       "      <td>2</td>\n",
       "      <td>3.03</td>\n",
       "      <td>14</td>\n",
       "      <td>32.000000</td>\n",
       "      <td>13</td>\n",
       "      <td>True</td>\n",
       "      <td>False</td>\n",
       "      <td>False</td>\n",
       "      <td>41.0</td>\n",
       "      <td>0</td>\n",
       "      <td>Санкт-Петербург</td>\n",
       "      <td>31856.0</td>\n",
       "      <td>8098.0</td>\n",
       "      <td>2</td>\n",
       "      <td>112.000000</td>\n",
       "      <td>1</td>\n",
       "      <td>48.000000</td>\n",
       "      <td>121</td>\n",
       "      <td>312500.000000</td>\n",
       "      <td>Другой этаж</td>\n",
       "    </tr>\n",
       "  </tbody>\n",
       "</table>\n",
       "</div>"
      ],
      "text/plain": [
       "   total_images  last_price  total_area first_day_exposition  rooms  \\\n",
       "0            20    13000000       108.0           2019-03-07      3   \n",
       "1             7     3350000        40.4           2018-12-04      1   \n",
       "2            10     5196000        56.0           2015-08-20      2   \n",
       "3             0    64900000       159.0           2015-07-24      3   \n",
       "4             2    10000000       100.0           2018-06-19      2   \n",
       "\n",
       "   ceiling_height  floors_total  living_area  floor  is_apartment  studio  \\\n",
       "0            2.70            16    51.000000      8          True   False   \n",
       "1            2.65            11    18.600000      1          True   False   \n",
       "2            2.65             5    34.300000      4          True   False   \n",
       "3            2.65            14   301.795172      9          True   False   \n",
       "4            3.03            14    32.000000     13          True   False   \n",
       "\n",
       "   open_plan  kitchen_area  balcony    locality_name  airports_nearest  \\\n",
       "0      False          25.0        0  Санкт-Петербург           18863.0   \n",
       "1      False          11.0        2   посёлок Шушары           12817.0   \n",
       "2      False           8.3        0  Санкт-Петербург           21741.0   \n",
       "3      False           9.1        0  Санкт-Петербург           28098.0   \n",
       "4      False          41.0        0  Санкт-Петербург           31856.0   \n",
       "\n",
       "   cityCenters_nearest  parks_around3000  parks_nearest  ponds_around3000  \\\n",
       "0              16028.0                 1     482.000000                 2   \n",
       "1              18603.0                 0     490.830729                 0   \n",
       "2              13933.0                 1      90.000000                 2   \n",
       "3               6800.0                 2      84.000000                 3   \n",
       "4               8098.0                 2     112.000000                 1   \n",
       "\n",
       "   ponds_nearest  days_exposition   price_for_m2 floor_position  \n",
       "0     755.000000               95  254901.960784    Другой этаж  \n",
       "1     518.043923               81  180107.526882    Первый этаж  \n",
       "2     574.000000              558  151486.880466    Другой этаж  \n",
       "3     234.000000              424  215046.515335    Другой этаж  \n",
       "4      48.000000              121  312500.000000    Другой этаж  "
      ]
     },
     "execution_count": 35,
     "metadata": {},
     "output_type": "execute_result"
    }
   ],
   "source": [
    "data['first_day_exposition'] = pd.to_datetime(data['first_day_exposition'], format='%Y.%m.%dT%H:%M:%S')\n",
    "data['first_day_exposition'] = data['first_day_exposition'].dt.round('1D') # округляем до даты\n",
    "data.head()"
   ]
  },
  {
   "cell_type": "markdown",
   "metadata": {},
   "source": [
    "Создадим отдельные столбцы с днем недели, месяцем и годом"
   ]
  },
  {
   "cell_type": "code",
   "execution_count": 36,
   "metadata": {},
   "outputs": [
    {
     "data": {
      "text/html": [
       "<div>\n",
       "<style scoped>\n",
       "    .dataframe tbody tr th:only-of-type {\n",
       "        vertical-align: middle;\n",
       "    }\n",
       "\n",
       "    .dataframe tbody tr th {\n",
       "        vertical-align: top;\n",
       "    }\n",
       "\n",
       "    .dataframe thead th {\n",
       "        text-align: right;\n",
       "    }\n",
       "</style>\n",
       "<table border=\"1\" class=\"dataframe\">\n",
       "  <thead>\n",
       "    <tr style=\"text-align: right;\">\n",
       "      <th></th>\n",
       "      <th>total_images</th>\n",
       "      <th>last_price</th>\n",
       "      <th>total_area</th>\n",
       "      <th>first_day_exposition</th>\n",
       "      <th>rooms</th>\n",
       "      <th>ceiling_height</th>\n",
       "      <th>floors_total</th>\n",
       "      <th>living_area</th>\n",
       "      <th>floor</th>\n",
       "      <th>is_apartment</th>\n",
       "      <th>studio</th>\n",
       "      <th>open_plan</th>\n",
       "      <th>kitchen_area</th>\n",
       "      <th>balcony</th>\n",
       "      <th>locality_name</th>\n",
       "      <th>airports_nearest</th>\n",
       "      <th>cityCenters_nearest</th>\n",
       "      <th>parks_around3000</th>\n",
       "      <th>parks_nearest</th>\n",
       "      <th>ponds_around3000</th>\n",
       "      <th>ponds_nearest</th>\n",
       "      <th>days_exposition</th>\n",
       "      <th>price_for_m2</th>\n",
       "      <th>floor_position</th>\n",
       "      <th>week_day</th>\n",
       "      <th>month</th>\n",
       "      <th>year</th>\n",
       "    </tr>\n",
       "  </thead>\n",
       "  <tbody>\n",
       "    <tr>\n",
       "      <th>0</th>\n",
       "      <td>20</td>\n",
       "      <td>13000000</td>\n",
       "      <td>108.0</td>\n",
       "      <td>2019-03-07</td>\n",
       "      <td>3</td>\n",
       "      <td>2.70</td>\n",
       "      <td>16</td>\n",
       "      <td>51.000000</td>\n",
       "      <td>8</td>\n",
       "      <td>True</td>\n",
       "      <td>False</td>\n",
       "      <td>False</td>\n",
       "      <td>25.0</td>\n",
       "      <td>0</td>\n",
       "      <td>Санкт-Петербург</td>\n",
       "      <td>18863.0</td>\n",
       "      <td>16028.0</td>\n",
       "      <td>1</td>\n",
       "      <td>482.000000</td>\n",
       "      <td>2</td>\n",
       "      <td>755.000000</td>\n",
       "      <td>95</td>\n",
       "      <td>254901.960784</td>\n",
       "      <td>Другой этаж</td>\n",
       "      <td>3</td>\n",
       "      <td>3</td>\n",
       "      <td>2019</td>\n",
       "    </tr>\n",
       "    <tr>\n",
       "      <th>1</th>\n",
       "      <td>7</td>\n",
       "      <td>3350000</td>\n",
       "      <td>40.4</td>\n",
       "      <td>2018-12-04</td>\n",
       "      <td>1</td>\n",
       "      <td>2.65</td>\n",
       "      <td>11</td>\n",
       "      <td>18.600000</td>\n",
       "      <td>1</td>\n",
       "      <td>True</td>\n",
       "      <td>False</td>\n",
       "      <td>False</td>\n",
       "      <td>11.0</td>\n",
       "      <td>2</td>\n",
       "      <td>посёлок Шушары</td>\n",
       "      <td>12817.0</td>\n",
       "      <td>18603.0</td>\n",
       "      <td>0</td>\n",
       "      <td>490.830729</td>\n",
       "      <td>0</td>\n",
       "      <td>518.043923</td>\n",
       "      <td>81</td>\n",
       "      <td>180107.526882</td>\n",
       "      <td>Первый этаж</td>\n",
       "      <td>1</td>\n",
       "      <td>12</td>\n",
       "      <td>2018</td>\n",
       "    </tr>\n",
       "    <tr>\n",
       "      <th>2</th>\n",
       "      <td>10</td>\n",
       "      <td>5196000</td>\n",
       "      <td>56.0</td>\n",
       "      <td>2015-08-20</td>\n",
       "      <td>2</td>\n",
       "      <td>2.65</td>\n",
       "      <td>5</td>\n",
       "      <td>34.300000</td>\n",
       "      <td>4</td>\n",
       "      <td>True</td>\n",
       "      <td>False</td>\n",
       "      <td>False</td>\n",
       "      <td>8.3</td>\n",
       "      <td>0</td>\n",
       "      <td>Санкт-Петербург</td>\n",
       "      <td>21741.0</td>\n",
       "      <td>13933.0</td>\n",
       "      <td>1</td>\n",
       "      <td>90.000000</td>\n",
       "      <td>2</td>\n",
       "      <td>574.000000</td>\n",
       "      <td>558</td>\n",
       "      <td>151486.880466</td>\n",
       "      <td>Другой этаж</td>\n",
       "      <td>3</td>\n",
       "      <td>8</td>\n",
       "      <td>2015</td>\n",
       "    </tr>\n",
       "    <tr>\n",
       "      <th>3</th>\n",
       "      <td>0</td>\n",
       "      <td>64900000</td>\n",
       "      <td>159.0</td>\n",
       "      <td>2015-07-24</td>\n",
       "      <td>3</td>\n",
       "      <td>2.65</td>\n",
       "      <td>14</td>\n",
       "      <td>301.795172</td>\n",
       "      <td>9</td>\n",
       "      <td>True</td>\n",
       "      <td>False</td>\n",
       "      <td>False</td>\n",
       "      <td>9.1</td>\n",
       "      <td>0</td>\n",
       "      <td>Санкт-Петербург</td>\n",
       "      <td>28098.0</td>\n",
       "      <td>6800.0</td>\n",
       "      <td>2</td>\n",
       "      <td>84.000000</td>\n",
       "      <td>3</td>\n",
       "      <td>234.000000</td>\n",
       "      <td>424</td>\n",
       "      <td>215046.515335</td>\n",
       "      <td>Другой этаж</td>\n",
       "      <td>4</td>\n",
       "      <td>7</td>\n",
       "      <td>2015</td>\n",
       "    </tr>\n",
       "    <tr>\n",
       "      <th>4</th>\n",
       "      <td>2</td>\n",
       "      <td>10000000</td>\n",
       "      <td>100.0</td>\n",
       "      <td>2018-06-19</td>\n",
       "      <td>2</td>\n",
       "      <td>3.03</td>\n",
       "      <td>14</td>\n",
       "      <td>32.000000</td>\n",
       "      <td>13</td>\n",
       "      <td>True</td>\n",
       "      <td>False</td>\n",
       "      <td>False</td>\n",
       "      <td>41.0</td>\n",
       "      <td>0</td>\n",
       "      <td>Санкт-Петербург</td>\n",
       "      <td>31856.0</td>\n",
       "      <td>8098.0</td>\n",
       "      <td>2</td>\n",
       "      <td>112.000000</td>\n",
       "      <td>1</td>\n",
       "      <td>48.000000</td>\n",
       "      <td>121</td>\n",
       "      <td>312500.000000</td>\n",
       "      <td>Другой этаж</td>\n",
       "      <td>1</td>\n",
       "      <td>6</td>\n",
       "      <td>2018</td>\n",
       "    </tr>\n",
       "  </tbody>\n",
       "</table>\n",
       "</div>"
      ],
      "text/plain": [
       "   total_images  last_price  total_area first_day_exposition  rooms  \\\n",
       "0            20    13000000       108.0           2019-03-07      3   \n",
       "1             7     3350000        40.4           2018-12-04      1   \n",
       "2            10     5196000        56.0           2015-08-20      2   \n",
       "3             0    64900000       159.0           2015-07-24      3   \n",
       "4             2    10000000       100.0           2018-06-19      2   \n",
       "\n",
       "   ceiling_height  floors_total  living_area  floor  is_apartment  studio  \\\n",
       "0            2.70            16    51.000000      8          True   False   \n",
       "1            2.65            11    18.600000      1          True   False   \n",
       "2            2.65             5    34.300000      4          True   False   \n",
       "3            2.65            14   301.795172      9          True   False   \n",
       "4            3.03            14    32.000000     13          True   False   \n",
       "\n",
       "   open_plan  kitchen_area  balcony    locality_name  airports_nearest  \\\n",
       "0      False          25.0        0  Санкт-Петербург           18863.0   \n",
       "1      False          11.0        2   посёлок Шушары           12817.0   \n",
       "2      False           8.3        0  Санкт-Петербург           21741.0   \n",
       "3      False           9.1        0  Санкт-Петербург           28098.0   \n",
       "4      False          41.0        0  Санкт-Петербург           31856.0   \n",
       "\n",
       "   cityCenters_nearest  parks_around3000  parks_nearest  ponds_around3000  \\\n",
       "0              16028.0                 1     482.000000                 2   \n",
       "1              18603.0                 0     490.830729                 0   \n",
       "2              13933.0                 1      90.000000                 2   \n",
       "3               6800.0                 2      84.000000                 3   \n",
       "4               8098.0                 2     112.000000                 1   \n",
       "\n",
       "   ponds_nearest  days_exposition   price_for_m2 floor_position  week_day  \\\n",
       "0     755.000000               95  254901.960784    Другой этаж         3   \n",
       "1     518.043923               81  180107.526882    Первый этаж         1   \n",
       "2     574.000000              558  151486.880466    Другой этаж         3   \n",
       "3     234.000000              424  215046.515335    Другой этаж         4   \n",
       "4      48.000000              121  312500.000000    Другой этаж         1   \n",
       "\n",
       "   month  year  \n",
       "0      3  2019  \n",
       "1     12  2018  \n",
       "2      8  2015  \n",
       "3      7  2015  \n",
       "4      6  2018  "
      ]
     },
     "execution_count": 36,
     "metadata": {},
     "output_type": "execute_result"
    }
   ],
   "source": [
    "data['week_day'] = data['first_day_exposition'].dt.weekday # Столбец с днем недели\n",
    "data['month'] = data['first_day_exposition'].dt.month # Столбец с месяцем\n",
    "data['year'] = data['first_day_exposition'].dt.year # Столбец с годом\n",
    "data.head()"
   ]
  },
  {
   "cell_type": "markdown",
   "metadata": {},
   "source": [
    "Посчитаем соотношение жилой площади к общей площади квартиры. Посчитаем отношение площади курхни к общей площади квартиры. Добавим оба это отношение в качестве новых столбцов в датасет."
   ]
  },
  {
   "cell_type": "code",
   "execution_count": 37,
   "metadata": {},
   "outputs": [],
   "source": [
    "data['living_area/total_area'] = data['living_area'] / data['total_area']"
   ]
  },
  {
   "cell_type": "code",
   "execution_count": 38,
   "metadata": {},
   "outputs": [
    {
     "data": {
      "text/html": [
       "<div>\n",
       "<style scoped>\n",
       "    .dataframe tbody tr th:only-of-type {\n",
       "        vertical-align: middle;\n",
       "    }\n",
       "\n",
       "    .dataframe tbody tr th {\n",
       "        vertical-align: top;\n",
       "    }\n",
       "\n",
       "    .dataframe thead th {\n",
       "        text-align: right;\n",
       "    }\n",
       "</style>\n",
       "<table border=\"1\" class=\"dataframe\">\n",
       "  <thead>\n",
       "    <tr style=\"text-align: right;\">\n",
       "      <th></th>\n",
       "      <th>total_images</th>\n",
       "      <th>last_price</th>\n",
       "      <th>total_area</th>\n",
       "      <th>first_day_exposition</th>\n",
       "      <th>rooms</th>\n",
       "      <th>ceiling_height</th>\n",
       "      <th>floors_total</th>\n",
       "      <th>living_area</th>\n",
       "      <th>floor</th>\n",
       "      <th>is_apartment</th>\n",
       "      <th>studio</th>\n",
       "      <th>open_plan</th>\n",
       "      <th>kitchen_area</th>\n",
       "      <th>balcony</th>\n",
       "      <th>locality_name</th>\n",
       "      <th>airports_nearest</th>\n",
       "      <th>cityCenters_nearest</th>\n",
       "      <th>parks_around3000</th>\n",
       "      <th>parks_nearest</th>\n",
       "      <th>ponds_around3000</th>\n",
       "      <th>ponds_nearest</th>\n",
       "      <th>days_exposition</th>\n",
       "      <th>price_for_m2</th>\n",
       "      <th>floor_position</th>\n",
       "      <th>week_day</th>\n",
       "      <th>month</th>\n",
       "      <th>year</th>\n",
       "      <th>living_area/total_area</th>\n",
       "      <th>kitchen_area/total_area</th>\n",
       "    </tr>\n",
       "  </thead>\n",
       "  <tbody>\n",
       "    <tr>\n",
       "      <th>0</th>\n",
       "      <td>20</td>\n",
       "      <td>13000000</td>\n",
       "      <td>108.0</td>\n",
       "      <td>2019-03-07</td>\n",
       "      <td>3</td>\n",
       "      <td>2.70</td>\n",
       "      <td>16</td>\n",
       "      <td>51.000000</td>\n",
       "      <td>8</td>\n",
       "      <td>True</td>\n",
       "      <td>False</td>\n",
       "      <td>False</td>\n",
       "      <td>25.0</td>\n",
       "      <td>0</td>\n",
       "      <td>Санкт-Петербург</td>\n",
       "      <td>18863.0</td>\n",
       "      <td>16028.0</td>\n",
       "      <td>1</td>\n",
       "      <td>482.000000</td>\n",
       "      <td>2</td>\n",
       "      <td>755.000000</td>\n",
       "      <td>95</td>\n",
       "      <td>254901.960784</td>\n",
       "      <td>Другой этаж</td>\n",
       "      <td>3</td>\n",
       "      <td>3</td>\n",
       "      <td>2019</td>\n",
       "      <td>0.472222</td>\n",
       "      <td>0.231481</td>\n",
       "    </tr>\n",
       "    <tr>\n",
       "      <th>1</th>\n",
       "      <td>7</td>\n",
       "      <td>3350000</td>\n",
       "      <td>40.4</td>\n",
       "      <td>2018-12-04</td>\n",
       "      <td>1</td>\n",
       "      <td>2.65</td>\n",
       "      <td>11</td>\n",
       "      <td>18.600000</td>\n",
       "      <td>1</td>\n",
       "      <td>True</td>\n",
       "      <td>False</td>\n",
       "      <td>False</td>\n",
       "      <td>11.0</td>\n",
       "      <td>2</td>\n",
       "      <td>посёлок Шушары</td>\n",
       "      <td>12817.0</td>\n",
       "      <td>18603.0</td>\n",
       "      <td>0</td>\n",
       "      <td>490.830729</td>\n",
       "      <td>0</td>\n",
       "      <td>518.043923</td>\n",
       "      <td>81</td>\n",
       "      <td>180107.526882</td>\n",
       "      <td>Первый этаж</td>\n",
       "      <td>1</td>\n",
       "      <td>12</td>\n",
       "      <td>2018</td>\n",
       "      <td>0.460396</td>\n",
       "      <td>0.272277</td>\n",
       "    </tr>\n",
       "    <tr>\n",
       "      <th>2</th>\n",
       "      <td>10</td>\n",
       "      <td>5196000</td>\n",
       "      <td>56.0</td>\n",
       "      <td>2015-08-20</td>\n",
       "      <td>2</td>\n",
       "      <td>2.65</td>\n",
       "      <td>5</td>\n",
       "      <td>34.300000</td>\n",
       "      <td>4</td>\n",
       "      <td>True</td>\n",
       "      <td>False</td>\n",
       "      <td>False</td>\n",
       "      <td>8.3</td>\n",
       "      <td>0</td>\n",
       "      <td>Санкт-Петербург</td>\n",
       "      <td>21741.0</td>\n",
       "      <td>13933.0</td>\n",
       "      <td>1</td>\n",
       "      <td>90.000000</td>\n",
       "      <td>2</td>\n",
       "      <td>574.000000</td>\n",
       "      <td>558</td>\n",
       "      <td>151486.880466</td>\n",
       "      <td>Другой этаж</td>\n",
       "      <td>3</td>\n",
       "      <td>8</td>\n",
       "      <td>2015</td>\n",
       "      <td>0.612500</td>\n",
       "      <td>0.148214</td>\n",
       "    </tr>\n",
       "    <tr>\n",
       "      <th>3</th>\n",
       "      <td>0</td>\n",
       "      <td>64900000</td>\n",
       "      <td>159.0</td>\n",
       "      <td>2015-07-24</td>\n",
       "      <td>3</td>\n",
       "      <td>2.65</td>\n",
       "      <td>14</td>\n",
       "      <td>301.795172</td>\n",
       "      <td>9</td>\n",
       "      <td>True</td>\n",
       "      <td>False</td>\n",
       "      <td>False</td>\n",
       "      <td>9.1</td>\n",
       "      <td>0</td>\n",
       "      <td>Санкт-Петербург</td>\n",
       "      <td>28098.0</td>\n",
       "      <td>6800.0</td>\n",
       "      <td>2</td>\n",
       "      <td>84.000000</td>\n",
       "      <td>3</td>\n",
       "      <td>234.000000</td>\n",
       "      <td>424</td>\n",
       "      <td>215046.515335</td>\n",
       "      <td>Другой этаж</td>\n",
       "      <td>4</td>\n",
       "      <td>7</td>\n",
       "      <td>2015</td>\n",
       "      <td>1.898083</td>\n",
       "      <td>0.057233</td>\n",
       "    </tr>\n",
       "    <tr>\n",
       "      <th>4</th>\n",
       "      <td>2</td>\n",
       "      <td>10000000</td>\n",
       "      <td>100.0</td>\n",
       "      <td>2018-06-19</td>\n",
       "      <td>2</td>\n",
       "      <td>3.03</td>\n",
       "      <td>14</td>\n",
       "      <td>32.000000</td>\n",
       "      <td>13</td>\n",
       "      <td>True</td>\n",
       "      <td>False</td>\n",
       "      <td>False</td>\n",
       "      <td>41.0</td>\n",
       "      <td>0</td>\n",
       "      <td>Санкт-Петербург</td>\n",
       "      <td>31856.0</td>\n",
       "      <td>8098.0</td>\n",
       "      <td>2</td>\n",
       "      <td>112.000000</td>\n",
       "      <td>1</td>\n",
       "      <td>48.000000</td>\n",
       "      <td>121</td>\n",
       "      <td>312500.000000</td>\n",
       "      <td>Другой этаж</td>\n",
       "      <td>1</td>\n",
       "      <td>6</td>\n",
       "      <td>2018</td>\n",
       "      <td>0.320000</td>\n",
       "      <td>0.410000</td>\n",
       "    </tr>\n",
       "  </tbody>\n",
       "</table>\n",
       "</div>"
      ],
      "text/plain": [
       "   total_images  last_price  total_area first_day_exposition  rooms  \\\n",
       "0            20    13000000       108.0           2019-03-07      3   \n",
       "1             7     3350000        40.4           2018-12-04      1   \n",
       "2            10     5196000        56.0           2015-08-20      2   \n",
       "3             0    64900000       159.0           2015-07-24      3   \n",
       "4             2    10000000       100.0           2018-06-19      2   \n",
       "\n",
       "   ceiling_height  floors_total  living_area  floor  is_apartment  studio  \\\n",
       "0            2.70            16    51.000000      8          True   False   \n",
       "1            2.65            11    18.600000      1          True   False   \n",
       "2            2.65             5    34.300000      4          True   False   \n",
       "3            2.65            14   301.795172      9          True   False   \n",
       "4            3.03            14    32.000000     13          True   False   \n",
       "\n",
       "   open_plan  kitchen_area  balcony    locality_name  airports_nearest  \\\n",
       "0      False          25.0        0  Санкт-Петербург           18863.0   \n",
       "1      False          11.0        2   посёлок Шушары           12817.0   \n",
       "2      False           8.3        0  Санкт-Петербург           21741.0   \n",
       "3      False           9.1        0  Санкт-Петербург           28098.0   \n",
       "4      False          41.0        0  Санкт-Петербург           31856.0   \n",
       "\n",
       "   cityCenters_nearest  parks_around3000  parks_nearest  ponds_around3000  \\\n",
       "0              16028.0                 1     482.000000                 2   \n",
       "1              18603.0                 0     490.830729                 0   \n",
       "2              13933.0                 1      90.000000                 2   \n",
       "3               6800.0                 2      84.000000                 3   \n",
       "4               8098.0                 2     112.000000                 1   \n",
       "\n",
       "   ponds_nearest  days_exposition   price_for_m2 floor_position  week_day  \\\n",
       "0     755.000000               95  254901.960784    Другой этаж         3   \n",
       "1     518.043923               81  180107.526882    Первый этаж         1   \n",
       "2     574.000000              558  151486.880466    Другой этаж         3   \n",
       "3     234.000000              424  215046.515335    Другой этаж         4   \n",
       "4      48.000000              121  312500.000000    Другой этаж         1   \n",
       "\n",
       "   month  year  living_area/total_area  kitchen_area/total_area  \n",
       "0      3  2019                0.472222                 0.231481  \n",
       "1     12  2018                0.460396                 0.272277  \n",
       "2      8  2015                0.612500                 0.148214  \n",
       "3      7  2015                1.898083                 0.057233  \n",
       "4      6  2018                0.320000                 0.410000  "
      ]
     },
     "execution_count": 38,
     "metadata": {},
     "output_type": "execute_result"
    }
   ],
   "source": [
    "data['kitchen_area/total_area'] = data['kitchen_area'] / data['total_area']\n",
    "data.head()"
   ]
  },
  {
   "cell_type": "markdown",
   "metadata": {},
   "source": [
    "### Вывод:"
   ]
  },
  {
   "cell_type": "markdown",
   "metadata": {},
   "source": [
    "Мы добавили в датасет все данные, которые нам необходимы для ответа на вопросы исследования."
   ]
  },
  {
   "cell_type": "markdown",
   "metadata": {},
   "source": [
    "## Исследовательский анализ данных"
   ]
  },
  {
   "cell_type": "code",
   "execution_count": 39,
   "metadata": {},
   "outputs": [],
   "source": [
    "import matplotlib.pyplot as plt # Импорт библиотеки для построения графиков"
   ]
  },
  {
   "cell_type": "code",
   "execution_count": 40,
   "metadata": {},
   "outputs": [
    {
     "data": {
      "text/plain": [
       "<AxesSubplot:>"
      ]
     },
     "execution_count": 40,
     "metadata": {},
     "output_type": "execute_result"
    },
    {
     "data": {
      "image/png": "[encoded data removed]",
      "text/plain": [
       "<Figure size 432x288 with 1 Axes>"
      ]
     },
     "metadata": {
      "needs_background": "light"
     },
     "output_type": "display_data"
    }
   ],
   "source": [
    "data['last_price'].hist(bins=100, range=(0, 30000000))"
   ]
  },
  {
   "cell_type": "markdown",
   "metadata": {},
   "source": [
    "Из гистограммы видно, что наиболшее количество квартир продается за 3-4 млн. руб."
   ]
  },
  {
   "cell_type": "code",
   "execution_count": 41,
   "metadata": {},
   "outputs": [
    {
     "data": {
      "text/plain": [
       "<AxesSubplot:>"
      ]
     },
     "execution_count": 41,
     "metadata": {},
     "output_type": "execute_result"
    },
    {
     "data": {
      "image/png": "[encoded data removed]",
      "text/plain": [
       "<Figure size 432x288 with 1 Axes>"
      ]
     },
     "metadata": {
      "needs_background": "light"
     },
     "output_type": "display_data"
    }
   ],
   "source": [
    "data['total_area'].hist(bins=100, range=(0, 400))"
   ]
  },
  {
   "cell_type": "markdown",
   "metadata": {},
   "source": [
    "Из гистограммы видно, что больше всего продается квартир площадью 45-49 кв.м."
   ]
  },
  {
   "cell_type": "code",
   "execution_count": 42,
   "metadata": {},
   "outputs": [
    {
     "data": {
      "text/plain": [
       "<AxesSubplot:>"
      ]
     },
     "execution_count": 42,
     "metadata": {},
     "output_type": "execute_result"
    },
    {
     "data": {
      "image/png": "[encoded data removed]",
      "text/plain": [
       "<Figure size 432x288 with 1 Axes>"
      ]
     },
     "metadata": {
      "needs_background": "light"
     },
     "output_type": "display_data"
    }
   ],
   "source": [
    "data['rooms'].hist(bins=50, range=(0, 7))"
   ]
  },
  {
   "cell_type": "markdown",
   "metadata": {},
   "source": [
    "Из гистограммы видно, что больше всего продается однокомнатных и двухкомнатных квартир."
   ]
  },
  {
   "cell_type": "code",
   "execution_count": 43,
   "metadata": {},
   "outputs": [
    {
     "data": {
      "text/plain": [
       "<AxesSubplot:>"
      ]
     },
     "execution_count": 43,
     "metadata": {},
     "output_type": "execute_result"
    },
    {
     "data": {
      "image/png": "[encoded data removed]",
      "text/plain": [
       "<Figure size 432x288 with 1 Axes>"
      ]
     },
     "metadata": {
      "needs_background": "light"
     },
     "output_type": "display_data"
    }
   ],
   "source": [
    "data['ceiling_height'].hist(bins=100, range=(2.3, 4))"
   ]
  },
  {
   "cell_type": "markdown",
   "metadata": {},
   "source": [
    "Из гистограммы видно, что больше всего продается квартир с высотой потолков 2.6 м."
   ]
  },
  {
   "cell_type": "code",
   "execution_count": 44,
   "metadata": {},
   "outputs": [
    {
     "data": {
      "text/plain": [
       "<AxesSubplot:>"
      ]
     },
     "execution_count": 44,
     "metadata": {},
     "output_type": "execute_result"
    },
    {
     "data": {
      "image/png": "[encoded data removed]",
      "text/plain": [
       "<Figure size 432x288 with 1 Axes>"
      ]
     },
     "metadata": {
      "needs_background": "light"
     },
     "output_type": "display_data"
    }
   ],
   "source": [
    "data['days_exposition'].hist(bins=30, range=(0, 500))"
   ]
  },
  {
   "cell_type": "markdown",
   "metadata": {},
   "source": [
    "Из гистограммы видно, что больше всего продаж квартир состоялось на 95 деньс момента выставления объявления."
   ]
  },
  {
   "cell_type": "code",
   "execution_count": 45,
   "metadata": {},
   "outputs": [
    {
     "data": {
      "text/plain": [
       "count    23633.000000\n",
       "mean       169.237930\n",
       "std        206.516127\n",
       "min          1.000000\n",
       "25%         45.000000\n",
       "50%         95.000000\n",
       "75%        198.000000\n",
       "max       1580.000000\n",
       "Name: days_exposition, dtype: float64"
      ]
     },
     "execution_count": 45,
     "metadata": {},
     "output_type": "execute_result"
    }
   ],
   "source": [
    "data['days_exposition'].describe() # исследуем датасет по столбцу  days_exposition"
   ]
  },
  {
   "cell_type": "code",
   "execution_count": 46,
   "metadata": {},
   "outputs": [
    {
     "data": {
      "image/png": "[encoded data removed]",
      "text/plain": [
       "<Figure size 432x288 with 1 Axes>"
      ]
     },
     "metadata": {
      "needs_background": "light"
     },
     "output_type": "display_data"
    }
   ],
   "source": [
    "plt.ylim(0, 500)\n",
    "data.boxplot(column='days_exposition')\n",
    "plt.show()"
   ]
  },
  {
   "cell_type": "markdown",
   "metadata": {},
   "source": [
    "Исследуя гистограмму продаж и диаграмму размаха можно видеть, что среднее время продажи квартиры 95 дней. Большая часть значений лежит за диапазоном 420 дней (1.5 межквартильного размаха, добавленного к третьему квартилю). Это выглядит правдоподобно. Самыми быстрыми продажами, можно зазвать продажи в один день. Самой долгой продажей )(если не брать во внимание выбросы, которые лежат за 1.5 межквартильного размаха) - 427 дней."
   ]
  },
  {
   "cell_type": "code",
   "execution_count": 47,
   "metadata": {},
   "outputs": [
    {
     "data": {
      "image/png": "[encoded data removed]",
      "text/plain": [
       "<Figure size 432x288 with 1 Axes>"
      ]
     },
     "metadata": {
      "needs_background": "light"
     },
     "output_type": "display_data"
    }
   ],
   "source": [
    "plt.ylim(0, 1700)\n",
    "data.boxplot(column='days_exposition')\n",
    "plt.show()"
   ]
  },
  {
   "cell_type": "markdown",
   "metadata": {},
   "source": [
    "Данная диаграмма демонстрирует диаграмму размаха со всеми выбросами. "
   ]
  },
  {
   "cell_type": "code",
   "execution_count": 48,
   "metadata": {},
   "outputs": [
    {
     "data": {
      "text/html": [
       "<div>\n",
       "<style scoped>\n",
       "    .dataframe tbody tr th:only-of-type {\n",
       "        vertical-align: middle;\n",
       "    }\n",
       "\n",
       "    .dataframe tbody tr th {\n",
       "        vertical-align: top;\n",
       "    }\n",
       "\n",
       "    .dataframe thead th {\n",
       "        text-align: right;\n",
       "    }\n",
       "</style>\n",
       "<table border=\"1\" class=\"dataframe\">\n",
       "  <thead>\n",
       "    <tr style=\"text-align: right;\">\n",
       "      <th></th>\n",
       "      <th>total_images</th>\n",
       "      <th>last_price</th>\n",
       "      <th>total_area</th>\n",
       "      <th>first_day_exposition</th>\n",
       "      <th>rooms</th>\n",
       "      <th>ceiling_height</th>\n",
       "      <th>floors_total</th>\n",
       "      <th>living_area</th>\n",
       "      <th>floor</th>\n",
       "      <th>is_apartment</th>\n",
       "      <th>studio</th>\n",
       "      <th>open_plan</th>\n",
       "      <th>kitchen_area</th>\n",
       "      <th>balcony</th>\n",
       "      <th>locality_name</th>\n",
       "      <th>airports_nearest</th>\n",
       "      <th>cityCenters_nearest</th>\n",
       "      <th>parks_around3000</th>\n",
       "      <th>parks_nearest</th>\n",
       "      <th>ponds_around3000</th>\n",
       "      <th>ponds_nearest</th>\n",
       "      <th>days_exposition</th>\n",
       "      <th>price_for_m2</th>\n",
       "      <th>floor_position</th>\n",
       "      <th>week_day</th>\n",
       "      <th>month</th>\n",
       "      <th>year</th>\n",
       "      <th>living_area/total_area</th>\n",
       "      <th>kitchen_area/total_area</th>\n",
       "    </tr>\n",
       "  </thead>\n",
       "  <tbody>\n",
       "    <tr>\n",
       "      <th>18843</th>\n",
       "      <td>11</td>\n",
       "      <td>3500000</td>\n",
       "      <td>48.20</td>\n",
       "      <td>2014-12-15</td>\n",
       "      <td>2</td>\n",
       "      <td>2.50</td>\n",
       "      <td>5</td>\n",
       "      <td>27.40</td>\n",
       "      <td>2</td>\n",
       "      <td>True</td>\n",
       "      <td>False</td>\n",
       "      <td>False</td>\n",
       "      <td>7.70</td>\n",
       "      <td>3</td>\n",
       "      <td>деревня Новое Девяткино</td>\n",
       "      <td>NaN</td>\n",
       "      <td>14234.907335</td>\n",
       "      <td>0</td>\n",
       "      <td>490.830729</td>\n",
       "      <td>0</td>\n",
       "      <td>518.043923</td>\n",
       "      <td>1580</td>\n",
       "      <td>127737.226277</td>\n",
       "      <td>Другой этаж</td>\n",
       "      <td>0</td>\n",
       "      <td>12</td>\n",
       "      <td>2014</td>\n",
       "      <td>0.568465</td>\n",
       "      <td>0.159751</td>\n",
       "    </tr>\n",
       "    <tr>\n",
       "      <th>1109</th>\n",
       "      <td>1</td>\n",
       "      <td>34878556</td>\n",
       "      <td>95.80</td>\n",
       "      <td>2014-12-09</td>\n",
       "      <td>2</td>\n",
       "      <td>2.65</td>\n",
       "      <td>6</td>\n",
       "      <td>58.30</td>\n",
       "      <td>5</td>\n",
       "      <td>True</td>\n",
       "      <td>False</td>\n",
       "      <td>False</td>\n",
       "      <td>20.00</td>\n",
       "      <td>1</td>\n",
       "      <td>Санкт-Петербург</td>\n",
       "      <td>21860.0</td>\n",
       "      <td>318.000000</td>\n",
       "      <td>2</td>\n",
       "      <td>160.000000</td>\n",
       "      <td>3</td>\n",
       "      <td>569.000000</td>\n",
       "      <td>1572</td>\n",
       "      <td>598259.965695</td>\n",
       "      <td>Другой этаж</td>\n",
       "      <td>1</td>\n",
       "      <td>12</td>\n",
       "      <td>2014</td>\n",
       "      <td>0.608559</td>\n",
       "      <td>0.208768</td>\n",
       "    </tr>\n",
       "    <tr>\n",
       "      <th>9553</th>\n",
       "      <td>11</td>\n",
       "      <td>10600000</td>\n",
       "      <td>80.00</td>\n",
       "      <td>2014-12-09</td>\n",
       "      <td>3</td>\n",
       "      <td>2.85</td>\n",
       "      <td>17</td>\n",
       "      <td>44.00</td>\n",
       "      <td>9</td>\n",
       "      <td>True</td>\n",
       "      <td>False</td>\n",
       "      <td>False</td>\n",
       "      <td>15.00</td>\n",
       "      <td>0</td>\n",
       "      <td>Санкт-Петербург</td>\n",
       "      <td>17101.0</td>\n",
       "      <td>17110.000000</td>\n",
       "      <td>0</td>\n",
       "      <td>490.830729</td>\n",
       "      <td>0</td>\n",
       "      <td>518.043923</td>\n",
       "      <td>1553</td>\n",
       "      <td>240909.090909</td>\n",
       "      <td>Другой этаж</td>\n",
       "      <td>1</td>\n",
       "      <td>12</td>\n",
       "      <td>2014</td>\n",
       "      <td>0.550000</td>\n",
       "      <td>0.187500</td>\n",
       "    </tr>\n",
       "    <tr>\n",
       "      <th>1885</th>\n",
       "      <td>2</td>\n",
       "      <td>13300000</td>\n",
       "      <td>79.60</td>\n",
       "      <td>2014-12-09</td>\n",
       "      <td>2</td>\n",
       "      <td>3.00</td>\n",
       "      <td>8</td>\n",
       "      <td>42.70</td>\n",
       "      <td>7</td>\n",
       "      <td>True</td>\n",
       "      <td>False</td>\n",
       "      <td>False</td>\n",
       "      <td>18.00</td>\n",
       "      <td>0</td>\n",
       "      <td>Санкт-Петербург</td>\n",
       "      <td>39393.0</td>\n",
       "      <td>11096.000000</td>\n",
       "      <td>1</td>\n",
       "      <td>537.000000</td>\n",
       "      <td>0</td>\n",
       "      <td>518.043923</td>\n",
       "      <td>1513</td>\n",
       "      <td>311475.409836</td>\n",
       "      <td>Другой этаж</td>\n",
       "      <td>1</td>\n",
       "      <td>12</td>\n",
       "      <td>2014</td>\n",
       "      <td>0.536432</td>\n",
       "      <td>0.226131</td>\n",
       "    </tr>\n",
       "    <tr>\n",
       "      <th>6691</th>\n",
       "      <td>3</td>\n",
       "      <td>4400000</td>\n",
       "      <td>42.98</td>\n",
       "      <td>2014-12-12</td>\n",
       "      <td>1</td>\n",
       "      <td>2.65</td>\n",
       "      <td>5</td>\n",
       "      <td>18.72</td>\n",
       "      <td>1</td>\n",
       "      <td>True</td>\n",
       "      <td>False</td>\n",
       "      <td>False</td>\n",
       "      <td>11.31</td>\n",
       "      <td>0</td>\n",
       "      <td>Пушкин</td>\n",
       "      <td>19715.0</td>\n",
       "      <td>30358.000000</td>\n",
       "      <td>1</td>\n",
       "      <td>439.000000</td>\n",
       "      <td>3</td>\n",
       "      <td>232.000000</td>\n",
       "      <td>1512</td>\n",
       "      <td>235042.735043</td>\n",
       "      <td>Первый этаж</td>\n",
       "      <td>4</td>\n",
       "      <td>12</td>\n",
       "      <td>2014</td>\n",
       "      <td>0.435551</td>\n",
       "      <td>0.263146</td>\n",
       "    </tr>\n",
       "  </tbody>\n",
       "</table>\n",
       "</div>"
      ],
      "text/plain": [
       "       total_images  last_price  total_area first_day_exposition  rooms  \\\n",
       "18843            11     3500000       48.20           2014-12-15      2   \n",
       "1109              1    34878556       95.80           2014-12-09      2   \n",
       "9553             11    10600000       80.00           2014-12-09      3   \n",
       "1885              2    13300000       79.60           2014-12-09      2   \n",
       "6691              3     4400000       42.98           2014-12-12      1   \n",
       "\n",
       "       ceiling_height  floors_total  living_area  floor  is_apartment  studio  \\\n",
       "18843            2.50             5        27.40      2          True   False   \n",
       "1109             2.65             6        58.30      5          True   False   \n",
       "9553             2.85            17        44.00      9          True   False   \n",
       "1885             3.00             8        42.70      7          True   False   \n",
       "6691             2.65             5        18.72      1          True   False   \n",
       "\n",
       "       open_plan  kitchen_area  balcony            locality_name  \\\n",
       "18843      False          7.70        3  деревня Новое Девяткино   \n",
       "1109       False         20.00        1          Санкт-Петербург   \n",
       "9553       False         15.00        0          Санкт-Петербург   \n",
       "1885       False         18.00        0          Санкт-Петербург   \n",
       "6691       False         11.31        0                   Пушкин   \n",
       "\n",
       "       airports_nearest  cityCenters_nearest  parks_around3000  parks_nearest  \\\n",
       "18843               NaN         14234.907335                 0     490.830729   \n",
       "1109            21860.0           318.000000                 2     160.000000   \n",
       "9553            17101.0         17110.000000                 0     490.830729   \n",
       "1885            39393.0         11096.000000                 1     537.000000   \n",
       "6691            19715.0         30358.000000                 1     439.000000   \n",
       "\n",
       "       ponds_around3000  ponds_nearest  days_exposition   price_for_m2  \\\n",
       "18843                 0     518.043923             1580  127737.226277   \n",
       "1109                  3     569.000000             1572  598259.965695   \n",
       "9553                  0     518.043923             1553  240909.090909   \n",
       "1885                  0     518.043923             1513  311475.409836   \n",
       "6691                  3     232.000000             1512  235042.735043   \n",
       "\n",
       "      floor_position  week_day  month  year  living_area/total_area  \\\n",
       "18843    Другой этаж         0     12  2014                0.568465   \n",
       "1109     Другой этаж         1     12  2014                0.608559   \n",
       "9553     Другой этаж         1     12  2014                0.550000   \n",
       "1885     Другой этаж         1     12  2014                0.536432   \n",
       "6691     Первый этаж         4     12  2014                0.435551   \n",
       "\n",
       "       kitchen_area/total_area  \n",
       "18843                 0.159751  \n",
       "1109                  0.208768  \n",
       "9553                  0.187500  \n",
       "1885                  0.226131  \n",
       "6691                  0.263146  "
      ]
     },
     "execution_count": 48,
     "metadata": {},
     "output_type": "execute_result"
    }
   ],
   "source": [
    "data.sort_values(by='days_exposition', ascending=False).head() \n",
    "# Отсортировали таблицу по столбцу days_exposition в порядке убывания"
   ]
  },
  {
   "cell_type": "code",
   "execution_count": 49,
   "metadata": {},
   "outputs": [
    {
     "data": {
      "text/plain": [
       "<AxesSubplot:>"
      ]
     },
     "execution_count": 49,
     "metadata": {},
     "output_type": "execute_result"
    },
    {
     "data": {
      "image/png": "[encoded data removed]",
      "text/plain": [
       "<Figure size 432x288 with 1 Axes>"
      ]
     },
     "metadata": {
      "needs_background": "light"
     },
     "output_type": "display_data"
    }
   ],
   "source": [
    "# Уберем выбросы находящиеся за 1.5 межквартильного интервала\n",
    "current_days_exposition_data = data.query('days_exposition<420')\n",
    "current_days_exposition_data['days_exposition'].hist(bins=100, range=(0, 500))"
   ]
  },
  {
   "cell_type": "markdown",
   "metadata": {},
   "source": [
    "Убрала выбросы находящиеся за 1.5 межквартальным интервалом, добавленного к Q3. Всего наблюдается 4 пика. Самый большой пик- 95 дней, есть еще пики 50 дней, 70 дней и 10 дней. Не могу сказать, что это артифакты, т.к. реально это возможно. Большая часть выбросов лежит за диапазоном 420 дней и они стремяться к 0. Принаю решение от них избавиться."
   ]
  },
  {
   "cell_type": "code",
   "execution_count": 50,
   "metadata": {},
   "outputs": [
    {
     "data": {
      "text/plain": [
       "count    2.121500e+04\n",
       "mean     6.377967e+06\n",
       "std      1.078410e+07\n",
       "min      1.219000e+04\n",
       "25%      3.400000e+06\n",
       "50%      4.600000e+06\n",
       "75%      6.650000e+06\n",
       "max      7.630000e+08\n",
       "Name: last_price, dtype: float64"
      ]
     },
     "execution_count": 50,
     "metadata": {},
     "output_type": "execute_result"
    }
   ],
   "source": [
    "current_days_exposition_data['last_price'].describe()"
   ]
  },
  {
   "cell_type": "code",
   "execution_count": 51,
   "metadata": {},
   "outputs": [
    {
     "data": {
      "image/png": "[encoded data removed]",
      "text/plain": [
       "<Figure size 432x288 with 1 Axes>"
      ]
     },
     "metadata": {
      "needs_background": "light"
     },
     "output_type": "display_data"
    }
   ],
   "source": [
    "plt.ylim(100000, 15000000)\n",
    "current_days_exposition_data.boxplot(column='last_price')\n",
    "plt.show()"
   ]
  },
  {
   "cell_type": "markdown",
   "metadata": {},
   "source": [
    "На диаграмме размаха видно, что в выбросы попадают квартиры стоимостью больше 11 млн. руб. "
   ]
  },
  {
   "cell_type": "code",
   "execution_count": 52,
   "metadata": {},
   "outputs": [
    {
     "data": {
      "text/html": [
       "<div>\n",
       "<style scoped>\n",
       "    .dataframe tbody tr th:only-of-type {\n",
       "        vertical-align: middle;\n",
       "    }\n",
       "\n",
       "    .dataframe tbody tr th {\n",
       "        vertical-align: top;\n",
       "    }\n",
       "\n",
       "    .dataframe thead th {\n",
       "        text-align: right;\n",
       "    }\n",
       "</style>\n",
       "<table border=\"1\" class=\"dataframe\">\n",
       "  <thead>\n",
       "    <tr style=\"text-align: right;\">\n",
       "      <th></th>\n",
       "      <th>total_images</th>\n",
       "      <th>last_price</th>\n",
       "      <th>total_area</th>\n",
       "      <th>first_day_exposition</th>\n",
       "      <th>rooms</th>\n",
       "      <th>ceiling_height</th>\n",
       "      <th>floors_total</th>\n",
       "      <th>living_area</th>\n",
       "      <th>floor</th>\n",
       "      <th>is_apartment</th>\n",
       "      <th>studio</th>\n",
       "      <th>open_plan</th>\n",
       "      <th>kitchen_area</th>\n",
       "      <th>balcony</th>\n",
       "      <th>locality_name</th>\n",
       "      <th>airports_nearest</th>\n",
       "      <th>cityCenters_nearest</th>\n",
       "      <th>parks_around3000</th>\n",
       "      <th>parks_nearest</th>\n",
       "      <th>ponds_around3000</th>\n",
       "      <th>ponds_nearest</th>\n",
       "      <th>days_exposition</th>\n",
       "      <th>price_for_m2</th>\n",
       "      <th>floor_position</th>\n",
       "      <th>week_day</th>\n",
       "      <th>month</th>\n",
       "      <th>year</th>\n",
       "      <th>living_area/total_area</th>\n",
       "      <th>kitchen_area/total_area</th>\n",
       "    </tr>\n",
       "  </thead>\n",
       "  <tbody>\n",
       "    <tr>\n",
       "      <th>8793</th>\n",
       "      <td>7</td>\n",
       "      <td>12190</td>\n",
       "      <td>109.0</td>\n",
       "      <td>2019-03-20</td>\n",
       "      <td>2</td>\n",
       "      <td>2.75</td>\n",
       "      <td>25</td>\n",
       "      <td>32.000000</td>\n",
       "      <td>25</td>\n",
       "      <td>True</td>\n",
       "      <td>False</td>\n",
       "      <td>False</td>\n",
       "      <td>40.5</td>\n",
       "      <td>0</td>\n",
       "      <td>Санкт-Петербург</td>\n",
       "      <td>36421.0</td>\n",
       "      <td>9176.000000</td>\n",
       "      <td>1</td>\n",
       "      <td>805.000000</td>\n",
       "      <td>0</td>\n",
       "      <td>518.043923</td>\n",
       "      <td>8</td>\n",
       "      <td>380.937500</td>\n",
       "      <td>Последний этаж</td>\n",
       "      <td>2</td>\n",
       "      <td>3</td>\n",
       "      <td>2019</td>\n",
       "      <td>0.293578</td>\n",
       "      <td>0.371560</td>\n",
       "    </tr>\n",
       "    <tr>\n",
       "      <th>17456</th>\n",
       "      <td>7</td>\n",
       "      <td>430000</td>\n",
       "      <td>30.4</td>\n",
       "      <td>2019-04-22</td>\n",
       "      <td>1</td>\n",
       "      <td>2.65</td>\n",
       "      <td>2</td>\n",
       "      <td>16.000000</td>\n",
       "      <td>1</td>\n",
       "      <td>True</td>\n",
       "      <td>False</td>\n",
       "      <td>False</td>\n",
       "      <td>6.0</td>\n",
       "      <td>0</td>\n",
       "      <td>Сланцы</td>\n",
       "      <td>NaN</td>\n",
       "      <td>14234.907335</td>\n",
       "      <td>0</td>\n",
       "      <td>490.830729</td>\n",
       "      <td>0</td>\n",
       "      <td>518.043923</td>\n",
       "      <td>95</td>\n",
       "      <td>26875.000000</td>\n",
       "      <td>Первый этаж</td>\n",
       "      <td>0</td>\n",
       "      <td>4</td>\n",
       "      <td>2019</td>\n",
       "      <td>0.526316</td>\n",
       "      <td>0.197368</td>\n",
       "    </tr>\n",
       "    <tr>\n",
       "      <th>14911</th>\n",
       "      <td>5</td>\n",
       "      <td>430000</td>\n",
       "      <td>54.0</td>\n",
       "      <td>2018-06-26</td>\n",
       "      <td>2</td>\n",
       "      <td>2.65</td>\n",
       "      <td>3</td>\n",
       "      <td>17.916667</td>\n",
       "      <td>3</td>\n",
       "      <td>True</td>\n",
       "      <td>False</td>\n",
       "      <td>False</td>\n",
       "      <td>9.1</td>\n",
       "      <td>0</td>\n",
       "      <td>посёлок станции Свирь</td>\n",
       "      <td>NaN</td>\n",
       "      <td>14234.907335</td>\n",
       "      <td>0</td>\n",
       "      <td>490.830729</td>\n",
       "      <td>0</td>\n",
       "      <td>518.043923</td>\n",
       "      <td>44</td>\n",
       "      <td>24000.000000</td>\n",
       "      <td>Последний этаж</td>\n",
       "      <td>1</td>\n",
       "      <td>6</td>\n",
       "      <td>2018</td>\n",
       "      <td>0.331790</td>\n",
       "      <td>0.168519</td>\n",
       "    </tr>\n",
       "    <tr>\n",
       "      <th>16274</th>\n",
       "      <td>18</td>\n",
       "      <td>440000</td>\n",
       "      <td>40.0</td>\n",
       "      <td>2018-07-10</td>\n",
       "      <td>1</td>\n",
       "      <td>2.65</td>\n",
       "      <td>5</td>\n",
       "      <td>29.626667</td>\n",
       "      <td>1</td>\n",
       "      <td>True</td>\n",
       "      <td>False</td>\n",
       "      <td>False</td>\n",
       "      <td>9.1</td>\n",
       "      <td>0</td>\n",
       "      <td>деревня Старополье</td>\n",
       "      <td>NaN</td>\n",
       "      <td>14234.907335</td>\n",
       "      <td>0</td>\n",
       "      <td>490.830729</td>\n",
       "      <td>0</td>\n",
       "      <td>518.043923</td>\n",
       "      <td>45</td>\n",
       "      <td>14851.485149</td>\n",
       "      <td>Первый этаж</td>\n",
       "      <td>1</td>\n",
       "      <td>7</td>\n",
       "      <td>2018</td>\n",
       "      <td>0.740667</td>\n",
       "      <td>0.227500</td>\n",
       "    </tr>\n",
       "    <tr>\n",
       "      <th>5698</th>\n",
       "      <td>7</td>\n",
       "      <td>450000</td>\n",
       "      <td>42.0</td>\n",
       "      <td>2017-07-31</td>\n",
       "      <td>2</td>\n",
       "      <td>2.65</td>\n",
       "      <td>1</td>\n",
       "      <td>23.000000</td>\n",
       "      <td>1</td>\n",
       "      <td>True</td>\n",
       "      <td>False</td>\n",
       "      <td>False</td>\n",
       "      <td>5.8</td>\n",
       "      <td>0</td>\n",
       "      <td>городской посёлок Будогощь</td>\n",
       "      <td>NaN</td>\n",
       "      <td>14234.907335</td>\n",
       "      <td>0</td>\n",
       "      <td>490.830729</td>\n",
       "      <td>0</td>\n",
       "      <td>518.043923</td>\n",
       "      <td>233</td>\n",
       "      <td>19565.217391</td>\n",
       "      <td>Первый этаж</td>\n",
       "      <td>0</td>\n",
       "      <td>7</td>\n",
       "      <td>2017</td>\n",
       "      <td>0.547619</td>\n",
       "      <td>0.138095</td>\n",
       "    </tr>\n",
       "    <tr>\n",
       "      <th>...</th>\n",
       "      <td>...</td>\n",
       "      <td>...</td>\n",
       "      <td>...</td>\n",
       "      <td>...</td>\n",
       "      <td>...</td>\n",
       "      <td>...</td>\n",
       "      <td>...</td>\n",
       "      <td>...</td>\n",
       "      <td>...</td>\n",
       "      <td>...</td>\n",
       "      <td>...</td>\n",
       "      <td>...</td>\n",
       "      <td>...</td>\n",
       "      <td>...</td>\n",
       "      <td>...</td>\n",
       "      <td>...</td>\n",
       "      <td>...</td>\n",
       "      <td>...</td>\n",
       "      <td>...</td>\n",
       "      <td>...</td>\n",
       "      <td>...</td>\n",
       "      <td>...</td>\n",
       "      <td>...</td>\n",
       "      <td>...</td>\n",
       "      <td>...</td>\n",
       "      <td>...</td>\n",
       "      <td>...</td>\n",
       "      <td>...</td>\n",
       "      <td>...</td>\n",
       "    </tr>\n",
       "    <tr>\n",
       "      <th>13646</th>\n",
       "      <td>8</td>\n",
       "      <td>770000</td>\n",
       "      <td>45.0</td>\n",
       "      <td>2018-03-28</td>\n",
       "      <td>2</td>\n",
       "      <td>2.50</td>\n",
       "      <td>5</td>\n",
       "      <td>29.000000</td>\n",
       "      <td>2</td>\n",
       "      <td>True</td>\n",
       "      <td>False</td>\n",
       "      <td>False</td>\n",
       "      <td>7.0</td>\n",
       "      <td>0</td>\n",
       "      <td>Сланцы</td>\n",
       "      <td>NaN</td>\n",
       "      <td>14234.907335</td>\n",
       "      <td>0</td>\n",
       "      <td>490.830729</td>\n",
       "      <td>0</td>\n",
       "      <td>518.043923</td>\n",
       "      <td>211</td>\n",
       "      <td>26551.724138</td>\n",
       "      <td>Другой этаж</td>\n",
       "      <td>2</td>\n",
       "      <td>3</td>\n",
       "      <td>2018</td>\n",
       "      <td>0.644444</td>\n",
       "      <td>0.155556</td>\n",
       "    </tr>\n",
       "    <tr>\n",
       "      <th>18985</th>\n",
       "      <td>20</td>\n",
       "      <td>770000</td>\n",
       "      <td>32.0</td>\n",
       "      <td>2018-07-05</td>\n",
       "      <td>1</td>\n",
       "      <td>2.65</td>\n",
       "      <td>2</td>\n",
       "      <td>18.000000</td>\n",
       "      <td>2</td>\n",
       "      <td>True</td>\n",
       "      <td>False</td>\n",
       "      <td>False</td>\n",
       "      <td>8.0</td>\n",
       "      <td>0</td>\n",
       "      <td>Сланцы</td>\n",
       "      <td>NaN</td>\n",
       "      <td>14234.907335</td>\n",
       "      <td>0</td>\n",
       "      <td>490.830729</td>\n",
       "      <td>0</td>\n",
       "      <td>518.043923</td>\n",
       "      <td>54</td>\n",
       "      <td>42777.777778</td>\n",
       "      <td>Последний этаж</td>\n",
       "      <td>3</td>\n",
       "      <td>7</td>\n",
       "      <td>2018</td>\n",
       "      <td>0.562500</td>\n",
       "      <td>0.250000</td>\n",
       "    </tr>\n",
       "    <tr>\n",
       "      <th>2209</th>\n",
       "      <td>12</td>\n",
       "      <td>770000</td>\n",
       "      <td>33.0</td>\n",
       "      <td>2016-06-29</td>\n",
       "      <td>1</td>\n",
       "      <td>2.50</td>\n",
       "      <td>5</td>\n",
       "      <td>17.000000</td>\n",
       "      <td>5</td>\n",
       "      <td>False</td>\n",
       "      <td>False</td>\n",
       "      <td>False</td>\n",
       "      <td>6.5</td>\n",
       "      <td>1</td>\n",
       "      <td>Сланцы</td>\n",
       "      <td>NaN</td>\n",
       "      <td>14234.907335</td>\n",
       "      <td>0</td>\n",
       "      <td>490.830729</td>\n",
       "      <td>0</td>\n",
       "      <td>518.043923</td>\n",
       "      <td>45</td>\n",
       "      <td>45294.117647</td>\n",
       "      <td>Последний этаж</td>\n",
       "      <td>2</td>\n",
       "      <td>6</td>\n",
       "      <td>2016</td>\n",
       "      <td>0.515152</td>\n",
       "      <td>0.196970</td>\n",
       "    </tr>\n",
       "    <tr>\n",
       "      <th>7442</th>\n",
       "      <td>7</td>\n",
       "      <td>777000</td>\n",
       "      <td>44.0</td>\n",
       "      <td>2019-01-01</td>\n",
       "      <td>2</td>\n",
       "      <td>2.50</td>\n",
       "      <td>2</td>\n",
       "      <td>30.000000</td>\n",
       "      <td>2</td>\n",
       "      <td>True</td>\n",
       "      <td>False</td>\n",
       "      <td>False</td>\n",
       "      <td>8.0</td>\n",
       "      <td>1</td>\n",
       "      <td>деревня Ялгино</td>\n",
       "      <td>NaN</td>\n",
       "      <td>14234.907335</td>\n",
       "      <td>0</td>\n",
       "      <td>490.830729</td>\n",
       "      <td>0</td>\n",
       "      <td>518.043923</td>\n",
       "      <td>45</td>\n",
       "      <td>25900.000000</td>\n",
       "      <td>Последний этаж</td>\n",
       "      <td>1</td>\n",
       "      <td>1</td>\n",
       "      <td>2019</td>\n",
       "      <td>0.681818</td>\n",
       "      <td>0.181818</td>\n",
       "    </tr>\n",
       "    <tr>\n",
       "      <th>7077</th>\n",
       "      <td>6</td>\n",
       "      <td>780000</td>\n",
       "      <td>47.4</td>\n",
       "      <td>2019-04-05</td>\n",
       "      <td>2</td>\n",
       "      <td>2.50</td>\n",
       "      <td>5</td>\n",
       "      <td>32.500000</td>\n",
       "      <td>3</td>\n",
       "      <td>True</td>\n",
       "      <td>False</td>\n",
       "      <td>False</td>\n",
       "      <td>6.0</td>\n",
       "      <td>1</td>\n",
       "      <td>Сланцы</td>\n",
       "      <td>NaN</td>\n",
       "      <td>14234.907335</td>\n",
       "      <td>0</td>\n",
       "      <td>490.830729</td>\n",
       "      <td>0</td>\n",
       "      <td>518.043923</td>\n",
       "      <td>95</td>\n",
       "      <td>24000.000000</td>\n",
       "      <td>Другой этаж</td>\n",
       "      <td>4</td>\n",
       "      <td>4</td>\n",
       "      <td>2019</td>\n",
       "      <td>0.685654</td>\n",
       "      <td>0.126582</td>\n",
       "    </tr>\n",
       "  </tbody>\n",
       "</table>\n",
       "<p>100 rows × 29 columns</p>\n",
       "</div>"
      ],
      "text/plain": [
       "       total_images  last_price  total_area first_day_exposition  rooms  \\\n",
       "8793              7       12190       109.0           2019-03-20      2   \n",
       "17456             7      430000        30.4           2019-04-22      1   \n",
       "14911             5      430000        54.0           2018-06-26      2   \n",
       "16274            18      440000        40.0           2018-07-10      1   \n",
       "5698              7      450000        42.0           2017-07-31      2   \n",
       "...             ...         ...         ...                  ...    ...   \n",
       "13646             8      770000        45.0           2018-03-28      2   \n",
       "18985            20      770000        32.0           2018-07-05      1   \n",
       "2209             12      770000        33.0           2016-06-29      1   \n",
       "7442              7      777000        44.0           2019-01-01      2   \n",
       "7077              6      780000        47.4           2019-04-05      2   \n",
       "\n",
       "       ceiling_height  floors_total  living_area  floor  is_apartment  studio  \\\n",
       "8793             2.75            25    32.000000     25          True   False   \n",
       "17456            2.65             2    16.000000      1          True   False   \n",
       "14911            2.65             3    17.916667      3          True   False   \n",
       "16274            2.65             5    29.626667      1          True   False   \n",
       "5698             2.65             1    23.000000      1          True   False   \n",
       "...               ...           ...          ...    ...           ...     ...   \n",
       "13646            2.50             5    29.000000      2          True   False   \n",
       "18985            2.65             2    18.000000      2          True   False   \n",
       "2209             2.50             5    17.000000      5         False   False   \n",
       "7442             2.50             2    30.000000      2          True   False   \n",
       "7077             2.50             5    32.500000      3          True   False   \n",
       "\n",
       "       open_plan  kitchen_area  balcony               locality_name  \\\n",
       "8793       False          40.5        0             Санкт-Петербург   \n",
       "17456      False           6.0        0                      Сланцы   \n",
       "14911      False           9.1        0       посёлок станции Свирь   \n",
       "16274      False           9.1        0          деревня Старополье   \n",
       "5698       False           5.8        0  городской посёлок Будогощь   \n",
       "...          ...           ...      ...                         ...   \n",
       "13646      False           7.0        0                      Сланцы   \n",
       "18985      False           8.0        0                      Сланцы   \n",
       "2209       False           6.5        1                      Сланцы   \n",
       "7442       False           8.0        1              деревня Ялгино   \n",
       "7077       False           6.0        1                      Сланцы   \n",
       "\n",
       "       airports_nearest  cityCenters_nearest  parks_around3000  parks_nearest  \\\n",
       "8793            36421.0          9176.000000                 1     805.000000   \n",
       "17456               NaN         14234.907335                 0     490.830729   \n",
       "14911               NaN         14234.907335                 0     490.830729   \n",
       "16274               NaN         14234.907335                 0     490.830729   \n",
       "5698                NaN         14234.907335                 0     490.830729   \n",
       "...                 ...                  ...               ...            ...   \n",
       "13646               NaN         14234.907335                 0     490.830729   \n",
       "18985               NaN         14234.907335                 0     490.830729   \n",
       "2209                NaN         14234.907335                 0     490.830729   \n",
       "7442                NaN         14234.907335                 0     490.830729   \n",
       "7077                NaN         14234.907335                 0     490.830729   \n",
       "\n",
       "       ponds_around3000  ponds_nearest  days_exposition  price_for_m2  \\\n",
       "8793                  0     518.043923                8    380.937500   \n",
       "17456                 0     518.043923               95  26875.000000   \n",
       "14911                 0     518.043923               44  24000.000000   \n",
       "16274                 0     518.043923               45  14851.485149   \n",
       "5698                  0     518.043923              233  19565.217391   \n",
       "...                 ...            ...              ...           ...   \n",
       "13646                 0     518.043923              211  26551.724138   \n",
       "18985                 0     518.043923               54  42777.777778   \n",
       "2209                  0     518.043923               45  45294.117647   \n",
       "7442                  0     518.043923               45  25900.000000   \n",
       "7077                  0     518.043923               95  24000.000000   \n",
       "\n",
       "       floor_position  week_day  month  year  living_area/total_area  \\\n",
       "8793   Последний этаж         2      3  2019                0.293578   \n",
       "17456     Первый этаж         0      4  2019                0.526316   \n",
       "14911  Последний этаж         1      6  2018                0.331790   \n",
       "16274     Первый этаж         1      7  2018                0.740667   \n",
       "5698      Первый этаж         0      7  2017                0.547619   \n",
       "...               ...       ...    ...   ...                     ...   \n",
       "13646     Другой этаж         2      3  2018                0.644444   \n",
       "18985  Последний этаж         3      7  2018                0.562500   \n",
       "2209   Последний этаж         2      6  2016                0.515152   \n",
       "7442   Последний этаж         1      1  2019                0.681818   \n",
       "7077      Другой этаж         4      4  2019                0.685654   \n",
       "\n",
       "       kitchen_area/total_area  \n",
       "8793                  0.371560  \n",
       "17456                 0.197368  \n",
       "14911                 0.168519  \n",
       "16274                 0.227500  \n",
       "5698                  0.138095  \n",
       "...                        ...  \n",
       "13646                 0.155556  \n",
       "18985                 0.250000  \n",
       "2209                  0.196970  \n",
       "7442                  0.181818  \n",
       "7077                  0.126582  \n",
       "\n",
       "[100 rows x 29 columns]"
      ]
     },
     "execution_count": 52,
     "metadata": {},
     "output_type": "execute_result"
    }
   ],
   "source": [
    "current_days_exposition_data.sort_values(by='last_price', ascending=True).head(100)"
   ]
  },
  {
   "cell_type": "markdown",
   "metadata": {},
   "source": [
    "Смотрю самую дорогую квартиру. Данные правдивые. Такие квартиры существуют. Так как их единицы, то думаю, что можно убрать значения начиная с 1.5 межквартального интервала + Q3 = 11 * 10^6, правее все стремится к нулю. Также кажутся неправильными значения меньшие 1500000 за квартиру. Тоже уберу."
   ]
  },
  {
   "cell_type": "code",
   "execution_count": 53,
   "metadata": {},
   "outputs": [],
   "source": [
    "current_days_exposition_data = current_days_exposition_data.query('1500000<last_price<11*10**6')"
   ]
  },
  {
   "cell_type": "code",
   "execution_count": 54,
   "metadata": {},
   "outputs": [
    {
     "data": {
      "text/plain": [
       "<AxesSubplot:xlabel='last_price'>"
      ]
     },
     "execution_count": 54,
     "metadata": {},
     "output_type": "execute_result"
    },
    {
     "data": {
      "image/png": "[encoded data removed]",
      "text/plain": [
       "<Figure size 2160x360 with 1 Axes>"
      ]
     },
     "metadata": {
      "needs_background": "light"
     },
     "output_type": "display_data"
    }
   ],
   "source": [
    "(current_days_exposition_data\n",
    "    .sort_values(by='last_price',ascending=True)\n",
    "    .plot(x='last_price',y='total_area',grid=True, style='o-',figsize=(30,5))\n",
    ")"
   ]
  },
  {
   "cell_type": "code",
   "execution_count": 55,
   "metadata": {},
   "outputs": [
    {
     "data": {
      "text/plain": [
       "0.686790421756692"
      ]
     },
     "execution_count": 55,
     "metadata": {},
     "output_type": "execute_result"
    }
   ],
   "source": [
    "current_days_exposition_data['last_price'].corr(current_days_exposition_data['total_area'])"
   ]
  },
  {
   "cell_type": "markdown",
   "metadata": {},
   "source": [
    "При увеличении прощади, увеличиватеся стоимость квартиры. Стоимость квартиры коррелирует с площадью на коэффициент Пирсона 0.68. Значит эти величины сильно зависят друг от друга. Положительная корреляция."
   ]
  },
  {
   "cell_type": "code",
   "execution_count": 56,
   "metadata": {},
   "outputs": [
    {
     "data": {
      "text/plain": [
       "<AxesSubplot:xlabel='rooms'>"
      ]
     },
     "execution_count": 56,
     "metadata": {},
     "output_type": "execute_result"
    },
    {
     "data": {
      "image/png": "[encoded data removed]",
      "text/plain": [
       "<Figure size 1080x576 with 1 Axes>"
      ]
     },
     "metadata": {
      "needs_background": "light"
     },
     "output_type": "display_data"
    }
   ],
   "source": [
    "(current_days_exposition_data\n",
    "     .groupby('rooms')['last_price'].median()\n",
    "    # .sort_values(by='rooms',ascending=True)\n",
    "     .plot(x='rooms',y='last_price',style='o-',grid=True,figsize=(15,8),alpha=1)\n",
    ")"
   ]
  },
  {
   "cell_type": "markdown",
   "metadata": {},
   "source": [
    "Из этого графика следует, что при увеличении количества комнат, увеличивается стоимость. Начиная с 7 комнат, цена становится рниже, так как мало данных и значения медианной цены могут вносить свою корректировку."
   ]
  },
  {
   "cell_type": "code",
   "execution_count": 57,
   "metadata": {},
   "outputs": [
    {
     "data": {
      "text/plain": [
       "0.4498929902274054"
      ]
     },
     "execution_count": 57,
     "metadata": {},
     "output_type": "execute_result"
    }
   ],
   "source": [
    "current_days_exposition_data['last_price'].corr(current_days_exposition_data[\"rooms\"])"
   ]
  },
  {
   "cell_type": "markdown",
   "metadata": {},
   "source": [
    "Коэффициент Пирсона равен 0.45, следовательно имеется пложительная корреляция цены и количества комнат."
   ]
  },
  {
   "cell_type": "code",
   "execution_count": 58,
   "metadata": {},
   "outputs": [
    {
     "data": {
      "text/plain": [
       "<AxesSubplot:xlabel='floor_position'>"
      ]
     },
     "execution_count": 58,
     "metadata": {},
     "output_type": "execute_result"
    },
    {
     "data": {
      "image/png": "[encoded data removed]",
      "text/plain": [
       "<Figure size 432x288 with 1 Axes>"
      ]
     },
     "metadata": {
      "needs_background": "light"
     },
     "output_type": "display_data"
    }
   ],
   "source": [
    "(current_days_exposition_data\n",
    "    .groupby('floor_position')['last_price'].median()\n",
    "    .plot(x='floor_position',y='last_price',kind='bar')\n",
    ")"
   ]
  },
  {
   "cell_type": "markdown",
   "metadata": {},
   "source": [
    "Из гистограммы видно, что цена не сильно зависит от этажа, хотя цена за первый этаж немного ниже."
   ]
  },
  {
   "cell_type": "code",
   "execution_count": 59,
   "metadata": {},
   "outputs": [
    {
     "data": {
      "text/plain": [
       "<AxesSubplot:xlabel='cityCenters_nearest'>"
      ]
     },
     "execution_count": 59,
     "metadata": {},
     "output_type": "execute_result"
    },
    {
     "data": {
      "image/png": "[encoded data removed]",
      "text/plain": [
       "<Figure size 432x288 with 1 Axes>"
      ]
     },
     "metadata": {
      "needs_background": "light"
     },
     "output_type": "display_data"
    }
   ],
   "source": [
    "(current_days_exposition_data\n",
    "     .sort_values(by='cityCenters_nearest',ascending=True)\n",
    "     .plot(x='cityCenters_nearest',y='last_price',style='o',alpha=0.3)\n",
    ")"
   ]
  },
  {
   "cell_type": "code",
   "execution_count": 60,
   "metadata": {},
   "outputs": [
    {
     "data": {
      "text/plain": [
       "-0.2578511233575464"
      ]
     },
     "execution_count": 60,
     "metadata": {},
     "output_type": "execute_result"
    }
   ],
   "source": [
    "current_days_exposition_data['cityCenters_nearest'].corr(current_days_exposition_data['last_price'])"
   ]
  },
  {
   "cell_type": "markdown",
   "metadata": {},
   "source": [
    "Очень большой разброс, но можно увидеть плотности, которые показывают, что при увеличении расстояния, стоимость уменьшается не сильно. Об этом говорит и отрицательный коэффициент Пирсона = -0.26."
   ]
  },
  {
   "cell_type": "code",
   "execution_count": 61,
   "metadata": {},
   "outputs": [
    {
     "data": {
      "text/plain": [
       "<AxesSubplot:xlabel='week_day'>"
      ]
     },
     "execution_count": 61,
     "metadata": {},
     "output_type": "execute_result"
    },
    {
     "data": {
      "image/png": "[encoded data removed]",
      "text/plain": [
       "<Figure size 432x288 with 1 Axes>"
      ]
     },
     "metadata": {
      "needs_background": "light"
     },
     "output_type": "display_data"
    }
   ],
   "source": [
    "(current_days_exposition_data\n",
    "     .groupby('week_day')['last_price'].count()\n",
    "     .plot(x='week_day',y='last_price',kind='bar')\n",
    ")"
   ]
  },
  {
   "cell_type": "markdown",
   "metadata": {},
   "source": [
    "Из гистограммы видно, чо чаще всего продажы наступают во вторник, четверг и пятницу. В выходные меньше всего, т.к. это выходные."
   ]
  },
  {
   "cell_type": "code",
   "execution_count": 62,
   "metadata": {},
   "outputs": [
    {
     "data": {
      "text/plain": [
       "<AxesSubplot:xlabel='month'>"
      ]
     },
     "execution_count": 62,
     "metadata": {},
     "output_type": "execute_result"
    },
    {
     "data": {
      "image/png": "[encoded data removed]",
      "text/plain": [
       "<Figure size 432x288 with 1 Axes>"
      ]
     },
     "metadata": {
      "needs_background": "light"
     },
     "output_type": "display_data"
    }
   ],
   "source": [
    "(current_days_exposition_data\n",
    "     .groupby('month')['last_price'].count()\n",
    "     .plot(x='month',y='last_price',kind='bar')\n",
    ")"
   ]
  },
  {
   "cell_type": "markdown",
   "metadata": {},
   "source": [
    "Из гистограммы видно, продажи меньше всего происходят перед и после новогодних праздников: в декабре и январе. В этом время много выходных и люди тратят деньги на подраки и отдых. В мае низние продажи, тоже видимо из-за майских праздников."
   ]
  },
  {
   "cell_type": "code",
   "execution_count": 63,
   "metadata": {},
   "outputs": [
    {
     "data": {
      "text/plain": [
       "<AxesSubplot:xlabel='year'>"
      ]
     },
     "execution_count": 63,
     "metadata": {},
     "output_type": "execute_result"
    },
    {
     "data": {
      "image/png": "[encoded data removed]",
      "text/plain": [
       "<Figure size 432x288 with 1 Axes>"
      ]
     },
     "metadata": {
      "needs_background": "light"
     },
     "output_type": "display_data"
    }
   ],
   "source": [
    "(current_days_exposition_data\n",
    "     .groupby('year')['last_price'].count()\n",
    "     .plot(x='year',y='last_price',kind='bar')\n",
    ")"
   ]
  },
  {
   "cell_type": "markdown",
   "metadata": {},
   "source": [
    "Больше всего продаж квартир было в 2017 и 2018 годах, видимо в это время у людей были деньги покупать недвижимость."
   ]
  },
  {
   "cell_type": "code",
   "execution_count": 64,
   "metadata": {},
   "outputs": [
    {
     "data": {
      "text/html": [
       "<div>\n",
       "<style scoped>\n",
       "    .dataframe tbody tr th:only-of-type {\n",
       "        vertical-align: middle;\n",
       "    }\n",
       "\n",
       "    .dataframe tbody tr th {\n",
       "        vertical-align: top;\n",
       "    }\n",
       "\n",
       "    .dataframe thead th {\n",
       "        text-align: right;\n",
       "    }\n",
       "</style>\n",
       "<table border=\"1\" class=\"dataframe\">\n",
       "  <thead>\n",
       "    <tr style=\"text-align: right;\">\n",
       "      <th></th>\n",
       "      <th>count</th>\n",
       "      <th>median</th>\n",
       "    </tr>\n",
       "    <tr>\n",
       "      <th>locality_name</th>\n",
       "      <th></th>\n",
       "      <th></th>\n",
       "    </tr>\n",
       "  </thead>\n",
       "  <tbody>\n",
       "    <tr>\n",
       "      <th>Санкт-Петербург</th>\n",
       "      <td>12174</td>\n",
       "      <td>187910.624401</td>\n",
       "    </tr>\n",
       "    <tr>\n",
       "      <th>посёлок Мурино</th>\n",
       "      <td>479</td>\n",
       "      <td>177389.637355</td>\n",
       "    </tr>\n",
       "    <tr>\n",
       "      <th>посёлок Шушары</th>\n",
       "      <td>404</td>\n",
       "      <td>150424.203462</td>\n",
       "    </tr>\n",
       "    <tr>\n",
       "      <th>Всеволожск</th>\n",
       "      <td>347</td>\n",
       "      <td>128571.428571</td>\n",
       "    </tr>\n",
       "    <tr>\n",
       "      <th>Колпино</th>\n",
       "      <td>314</td>\n",
       "      <td>126794.871795</td>\n",
       "    </tr>\n",
       "    <tr>\n",
       "      <th>Пушкин</th>\n",
       "      <td>305</td>\n",
       "      <td>183510.638298</td>\n",
       "    </tr>\n",
       "    <tr>\n",
       "      <th>посёлок Парголово</th>\n",
       "      <td>299</td>\n",
       "      <td>200718.185634</td>\n",
       "    </tr>\n",
       "    <tr>\n",
       "      <th>Гатчина</th>\n",
       "      <td>266</td>\n",
       "      <td>119500.000000</td>\n",
       "    </tr>\n",
       "    <tr>\n",
       "      <th>деревня Кудрово</th>\n",
       "      <td>262</td>\n",
       "      <td>188187.004886</td>\n",
       "    </tr>\n",
       "    <tr>\n",
       "      <th>Выборг</th>\n",
       "      <td>200</td>\n",
       "      <td>98981.559196</td>\n",
       "    </tr>\n",
       "  </tbody>\n",
       "</table>\n",
       "</div>"
      ],
      "text/plain": [
       "                   count         median\n",
       "locality_name                          \n",
       "Санкт-Петербург    12174  187910.624401\n",
       "посёлок Мурино       479  177389.637355\n",
       "посёлок Шушары       404  150424.203462\n",
       "Всеволожск           347  128571.428571\n",
       "Колпино              314  126794.871795\n",
       "Пушкин               305  183510.638298\n",
       "посёлок Парголово    299  200718.185634\n",
       "Гатчина              266  119500.000000\n",
       "деревня Кудрово      262  188187.004886\n",
       "Выборг               200   98981.559196"
      ]
     },
     "execution_count": 64,
     "metadata": {},
     "output_type": "execute_result"
    }
   ],
   "source": [
    "raiting_of_location=current_days_exposition_data.pivot_table(index='locality_name',values='price_for_m2',aggfunc=('count','median'))\n",
    "raiting_of_location.sort_values(by='count',ascending=False).head(10)"
   ]
  },
  {
   "cell_type": "markdown",
   "metadata": {},
   "source": [
    "Топ 10 районов с самым большим количеством объявлений и средней стоимостью 1 кв.м. В Санкт-Петербурге больше всего объявлений и самая большая стоимость 1 кв.м. В Выборге меньше всего объявлений и самая низкая стоимость 1 кв.м."
   ]
  },
  {
   "cell_type": "markdown",
   "metadata": {},
   "source": [
    "Добавляем в основную таблицу столбцец с расстоянием до центра в км. Считаем стоимость 1 кв.м. для всех объектов и записываем в таблицу"
   ]
  },
  {
   "cell_type": "code",
   "execution_count": 65,
   "metadata": {},
   "outputs": [],
   "source": [
    "current_days_exposition_data['cityCenters_nearest_in_km']=current_days_exposition_data['cityCenters_nearest']/1000"
   ]
  },
  {
   "cell_type": "code",
   "execution_count": 66,
   "metadata": {},
   "outputs": [],
   "source": [
    "current_days_exposition_data['cost_of_km']=current_days_exposition_data['last_price']/current_days_exposition_data['cityCenters_nearest_in_km']"
   ]
  },
  {
   "cell_type": "markdown",
   "metadata": {},
   "source": [
    "Делаем срез по району г.Санкт-Петербург"
   ]
  },
  {
   "cell_type": "code",
   "execution_count": 67,
   "metadata": {},
   "outputs": [
    {
     "data": {
      "text/html": [
       "<div>\n",
       "<style scoped>\n",
       "    .dataframe tbody tr th:only-of-type {\n",
       "        vertical-align: middle;\n",
       "    }\n",
       "\n",
       "    .dataframe tbody tr th {\n",
       "        vertical-align: top;\n",
       "    }\n",
       "\n",
       "    .dataframe thead th {\n",
       "        text-align: right;\n",
       "    }\n",
       "</style>\n",
       "<table border=\"1\" class=\"dataframe\">\n",
       "  <thead>\n",
       "    <tr style=\"text-align: right;\">\n",
       "      <th></th>\n",
       "      <th>total_images</th>\n",
       "      <th>last_price</th>\n",
       "      <th>total_area</th>\n",
       "      <th>first_day_exposition</th>\n",
       "      <th>rooms</th>\n",
       "      <th>ceiling_height</th>\n",
       "      <th>floors_total</th>\n",
       "      <th>living_area</th>\n",
       "      <th>floor</th>\n",
       "      <th>is_apartment</th>\n",
       "      <th>studio</th>\n",
       "      <th>open_plan</th>\n",
       "      <th>kitchen_area</th>\n",
       "      <th>balcony</th>\n",
       "      <th>locality_name</th>\n",
       "      <th>airports_nearest</th>\n",
       "      <th>cityCenters_nearest</th>\n",
       "      <th>parks_around3000</th>\n",
       "      <th>parks_nearest</th>\n",
       "      <th>ponds_around3000</th>\n",
       "      <th>ponds_nearest</th>\n",
       "      <th>days_exposition</th>\n",
       "      <th>price_for_m2</th>\n",
       "      <th>floor_position</th>\n",
       "      <th>week_day</th>\n",
       "      <th>month</th>\n",
       "      <th>year</th>\n",
       "      <th>living_area/total_area</th>\n",
       "      <th>kitchen_area/total_area</th>\n",
       "      <th>cityCenters_nearest_in_km</th>\n",
       "      <th>cost_of_km</th>\n",
       "    </tr>\n",
       "  </thead>\n",
       "  <tbody>\n",
       "    <tr>\n",
       "      <th>4</th>\n",
       "      <td>2</td>\n",
       "      <td>10000000</td>\n",
       "      <td>100.0</td>\n",
       "      <td>2018-06-19</td>\n",
       "      <td>2</td>\n",
       "      <td>3.03</td>\n",
       "      <td>14</td>\n",
       "      <td>32.00000</td>\n",
       "      <td>13</td>\n",
       "      <td>True</td>\n",
       "      <td>False</td>\n",
       "      <td>False</td>\n",
       "      <td>41.0</td>\n",
       "      <td>0</td>\n",
       "      <td>Санкт-Петербург</td>\n",
       "      <td>31856.0</td>\n",
       "      <td>8098.0</td>\n",
       "      <td>2</td>\n",
       "      <td>112.000000</td>\n",
       "      <td>1</td>\n",
       "      <td>48.000000</td>\n",
       "      <td>121</td>\n",
       "      <td>312500.000000</td>\n",
       "      <td>Другой этаж</td>\n",
       "      <td>1</td>\n",
       "      <td>6</td>\n",
       "      <td>2018</td>\n",
       "      <td>0.320000</td>\n",
       "      <td>0.410000</td>\n",
       "      <td>8.098</td>\n",
       "      <td>1.234873e+06</td>\n",
       "    </tr>\n",
       "    <tr>\n",
       "      <th>7</th>\n",
       "      <td>5</td>\n",
       "      <td>7915000</td>\n",
       "      <td>71.6</td>\n",
       "      <td>2019-04-18</td>\n",
       "      <td>2</td>\n",
       "      <td>2.65</td>\n",
       "      <td>24</td>\n",
       "      <td>36.80599</td>\n",
       "      <td>22</td>\n",
       "      <td>True</td>\n",
       "      <td>False</td>\n",
       "      <td>False</td>\n",
       "      <td>18.9</td>\n",
       "      <td>2</td>\n",
       "      <td>Санкт-Петербург</td>\n",
       "      <td>23982.0</td>\n",
       "      <td>11634.0</td>\n",
       "      <td>0</td>\n",
       "      <td>490.830729</td>\n",
       "      <td>0</td>\n",
       "      <td>518.043923</td>\n",
       "      <td>95</td>\n",
       "      <td>215046.515335</td>\n",
       "      <td>Другой этаж</td>\n",
       "      <td>3</td>\n",
       "      <td>4</td>\n",
       "      <td>2019</td>\n",
       "      <td>0.514050</td>\n",
       "      <td>0.263966</td>\n",
       "      <td>11.634</td>\n",
       "      <td>6.803335e+05</td>\n",
       "    </tr>\n",
       "    <tr>\n",
       "      <th>9</th>\n",
       "      <td>18</td>\n",
       "      <td>5400000</td>\n",
       "      <td>61.0</td>\n",
       "      <td>2017-02-26</td>\n",
       "      <td>3</td>\n",
       "      <td>2.50</td>\n",
       "      <td>9</td>\n",
       "      <td>43.60000</td>\n",
       "      <td>7</td>\n",
       "      <td>True</td>\n",
       "      <td>False</td>\n",
       "      <td>False</td>\n",
       "      <td>6.5</td>\n",
       "      <td>2</td>\n",
       "      <td>Санкт-Петербург</td>\n",
       "      <td>50898.0</td>\n",
       "      <td>15008.0</td>\n",
       "      <td>0</td>\n",
       "      <td>490.830729</td>\n",
       "      <td>0</td>\n",
       "      <td>518.043923</td>\n",
       "      <td>289</td>\n",
       "      <td>123853.211009</td>\n",
       "      <td>Другой этаж</td>\n",
       "      <td>6</td>\n",
       "      <td>2</td>\n",
       "      <td>2017</td>\n",
       "      <td>0.714754</td>\n",
       "      <td>0.106557</td>\n",
       "      <td>15.008</td>\n",
       "      <td>3.598081e+05</td>\n",
       "    </tr>\n",
       "    <tr>\n",
       "      <th>10</th>\n",
       "      <td>5</td>\n",
       "      <td>5050000</td>\n",
       "      <td>39.6</td>\n",
       "      <td>2017-11-16</td>\n",
       "      <td>1</td>\n",
       "      <td>2.67</td>\n",
       "      <td>12</td>\n",
       "      <td>20.30000</td>\n",
       "      <td>3</td>\n",
       "      <td>True</td>\n",
       "      <td>False</td>\n",
       "      <td>False</td>\n",
       "      <td>8.5</td>\n",
       "      <td>0</td>\n",
       "      <td>Санкт-Петербург</td>\n",
       "      <td>38357.0</td>\n",
       "      <td>13878.0</td>\n",
       "      <td>1</td>\n",
       "      <td>310.000000</td>\n",
       "      <td>2</td>\n",
       "      <td>553.000000</td>\n",
       "      <td>137</td>\n",
       "      <td>248768.472906</td>\n",
       "      <td>Другой этаж</td>\n",
       "      <td>3</td>\n",
       "      <td>11</td>\n",
       "      <td>2017</td>\n",
       "      <td>0.512626</td>\n",
       "      <td>0.214646</td>\n",
       "      <td>13.878</td>\n",
       "      <td>3.638853e+05</td>\n",
       "    </tr>\n",
       "    <tr>\n",
       "      <th>15</th>\n",
       "      <td>16</td>\n",
       "      <td>4650000</td>\n",
       "      <td>39.0</td>\n",
       "      <td>2017-11-18</td>\n",
       "      <td>1</td>\n",
       "      <td>2.65</td>\n",
       "      <td>14</td>\n",
       "      <td>20.50000</td>\n",
       "      <td>5</td>\n",
       "      <td>True</td>\n",
       "      <td>False</td>\n",
       "      <td>False</td>\n",
       "      <td>7.6</td>\n",
       "      <td>1</td>\n",
       "      <td>Санкт-Петербург</td>\n",
       "      <td>12900.0</td>\n",
       "      <td>14259.0</td>\n",
       "      <td>1</td>\n",
       "      <td>590.000000</td>\n",
       "      <td>1</td>\n",
       "      <td>296.000000</td>\n",
       "      <td>19</td>\n",
       "      <td>226829.268293</td>\n",
       "      <td>Другой этаж</td>\n",
       "      <td>5</td>\n",
       "      <td>11</td>\n",
       "      <td>2017</td>\n",
       "      <td>0.525641</td>\n",
       "      <td>0.194872</td>\n",
       "      <td>14.259</td>\n",
       "      <td>3.261098e+05</td>\n",
       "    </tr>\n",
       "  </tbody>\n",
       "</table>\n",
       "</div>"
      ],
      "text/plain": [
       "    total_images  last_price  total_area first_day_exposition  rooms  \\\n",
       "4              2    10000000       100.0           2018-06-19      2   \n",
       "7              5     7915000        71.6           2019-04-18      2   \n",
       "9             18     5400000        61.0           2017-02-26      3   \n",
       "10             5     5050000        39.6           2017-11-16      1   \n",
       "15            16     4650000        39.0           2017-11-18      1   \n",
       "\n",
       "    ceiling_height  floors_total  living_area  floor  is_apartment  studio  \\\n",
       "4             3.03            14     32.00000     13          True   False   \n",
       "7             2.65            24     36.80599     22          True   False   \n",
       "9             2.50             9     43.60000      7          True   False   \n",
       "10            2.67            12     20.30000      3          True   False   \n",
       "15            2.65            14     20.50000      5          True   False   \n",
       "\n",
       "    open_plan  kitchen_area  balcony    locality_name  airports_nearest  \\\n",
       "4       False          41.0        0  Санкт-Петербург           31856.0   \n",
       "7       False          18.9        2  Санкт-Петербург           23982.0   \n",
       "9       False           6.5        2  Санкт-Петербург           50898.0   \n",
       "10      False           8.5        0  Санкт-Петербург           38357.0   \n",
       "15      False           7.6        1  Санкт-Петербург           12900.0   \n",
       "\n",
       "    cityCenters_nearest  parks_around3000  parks_nearest  ponds_around3000  \\\n",
       "4                8098.0                 2     112.000000                 1   \n",
       "7               11634.0                 0     490.830729                 0   \n",
       "9               15008.0                 0     490.830729                 0   \n",
       "10              13878.0                 1     310.000000                 2   \n",
       "15              14259.0                 1     590.000000                 1   \n",
       "\n",
       "    ponds_nearest  days_exposition   price_for_m2 floor_position  week_day  \\\n",
       "4       48.000000              121  312500.000000    Другой этаж         1   \n",
       "7      518.043923               95  215046.515335    Другой этаж         3   \n",
       "9      518.043923              289  123853.211009    Другой этаж         6   \n",
       "10     553.000000              137  248768.472906    Другой этаж         3   \n",
       "15     296.000000               19  226829.268293    Другой этаж         5   \n",
       "\n",
       "    month  year  living_area/total_area  kitchen_area/total_area  \\\n",
       "4       6  2018                0.320000                 0.410000   \n",
       "7       4  2019                0.514050                 0.263966   \n",
       "9       2  2017                0.714754                 0.106557   \n",
       "10     11  2017                0.512626                 0.214646   \n",
       "15     11  2017                0.525641                 0.194872   \n",
       "\n",
       "    cityCenters_nearest_in_km    cost_of_km  \n",
       "4                       8.098  1.234873e+06  \n",
       "7                      11.634  6.803335e+05  \n",
       "9                      15.008  3.598081e+05  \n",
       "10                     13.878  3.638853e+05  \n",
       "15                     14.259  3.261098e+05  "
      ]
     },
     "execution_count": 67,
     "metadata": {},
     "output_type": "execute_result"
    }
   ],
   "source": [
    "spb_region=current_days_exposition_data.query('locality_name==\"Санкт-Петербург\"')\n",
    "spb_region.head()"
   ]
  },
  {
   "cell_type": "code",
   "execution_count": 68,
   "metadata": {},
   "outputs": [
    {
     "data": {
      "text/plain": [
       "<AxesSubplot:xlabel='cityCenters_nearest_in_km'>"
      ]
     },
     "execution_count": 68,
     "metadata": {},
     "output_type": "execute_result"
    },
    {
     "data": {
      "image/png": "[encoded data removed]",
      "text/plain": [
       "<Figure size 1080x360 with 1 Axes>"
      ]
     },
     "metadata": {
      "needs_background": "light"
     },
     "output_type": "display_data"
    }
   ],
   "source": [
    "(spb_region\n",
    "     .sort_values(by='cityCenters_nearest_in_km',ascending=True)\n",
    "     .plot(x='cityCenters_nearest_in_km',y='cost_of_km', style='-',figsize=(15,5))\n",
    ")"
   ]
  },
  {
   "cell_type": "markdown",
   "metadata": {},
   "source": [
    "Из графика видно, что в отдалении от центра Санкт-Петербурга на расстояние 5 км цена почти перестает меняться и идет плотной линией."
   ]
  },
  {
   "cell_type": "markdown",
   "metadata": {},
   "source": [
    "Рассмотрим подробнее квартиры, которые находятся от центра на расстоянии не более 5 км."
   ]
  },
  {
   "cell_type": "code",
   "execution_count": 69,
   "metadata": {},
   "outputs": [],
   "source": [
    "spb_region=spb_region.query('cityCenters_nearest_in_km<5')"
   ]
  },
  {
   "cell_type": "code",
   "execution_count": 70,
   "metadata": {},
   "outputs": [
    {
     "data": {
      "text/plain": [
       "1005"
      ]
     },
     "execution_count": 70,
     "metadata": {},
     "output_type": "execute_result"
    }
   ],
   "source": [
    "len(spb_region)"
   ]
  },
  {
   "cell_type": "markdown",
   "metadata": {},
   "source": [
    "Квартиры в центре"
   ]
  },
  {
   "cell_type": "code",
   "execution_count": 71,
   "metadata": {},
   "outputs": [
    {
     "data": {
      "text/html": [
       "<div>\n",
       "<style scoped>\n",
       "    .dataframe tbody tr th:only-of-type {\n",
       "        vertical-align: middle;\n",
       "    }\n",
       "\n",
       "    .dataframe tbody tr th {\n",
       "        vertical-align: top;\n",
       "    }\n",
       "\n",
       "    .dataframe thead th {\n",
       "        text-align: right;\n",
       "    }\n",
       "</style>\n",
       "<table border=\"1\" class=\"dataframe\">\n",
       "  <thead>\n",
       "    <tr style=\"text-align: right;\">\n",
       "      <th></th>\n",
       "      <th>total_images</th>\n",
       "      <th>last_price</th>\n",
       "      <th>total_area</th>\n",
       "      <th>first_day_exposition</th>\n",
       "      <th>rooms</th>\n",
       "      <th>ceiling_height</th>\n",
       "      <th>floors_total</th>\n",
       "      <th>living_area</th>\n",
       "      <th>floor</th>\n",
       "      <th>is_apartment</th>\n",
       "      <th>studio</th>\n",
       "      <th>open_plan</th>\n",
       "      <th>kitchen_area</th>\n",
       "      <th>balcony</th>\n",
       "      <th>locality_name</th>\n",
       "      <th>airports_nearest</th>\n",
       "      <th>cityCenters_nearest</th>\n",
       "      <th>parks_around3000</th>\n",
       "      <th>parks_nearest</th>\n",
       "      <th>ponds_around3000</th>\n",
       "      <th>ponds_nearest</th>\n",
       "      <th>days_exposition</th>\n",
       "      <th>price_for_m2</th>\n",
       "      <th>floor_position</th>\n",
       "      <th>week_day</th>\n",
       "      <th>month</th>\n",
       "      <th>year</th>\n",
       "      <th>living_area/total_area</th>\n",
       "      <th>kitchen_area/total_area</th>\n",
       "      <th>cityCenters_nearest_in_km</th>\n",
       "      <th>cost_of_km</th>\n",
       "    </tr>\n",
       "  </thead>\n",
       "  <tbody>\n",
       "    <tr>\n",
       "      <th>8614</th>\n",
       "      <td>7</td>\n",
       "      <td>10990000</td>\n",
       "      <td>100.0</td>\n",
       "      <td>2015-12-16</td>\n",
       "      <td>3</td>\n",
       "      <td>3.90</td>\n",
       "      <td>5</td>\n",
       "      <td>37.800000</td>\n",
       "      <td>3</td>\n",
       "      <td>True</td>\n",
       "      <td>False</td>\n",
       "      <td>False</td>\n",
       "      <td>11.6</td>\n",
       "      <td>0</td>\n",
       "      <td>Санкт-Петербург</td>\n",
       "      <td>21818.0</td>\n",
       "      <td>215.0</td>\n",
       "      <td>3</td>\n",
       "      <td>229.0</td>\n",
       "      <td>2</td>\n",
       "      <td>511.0</td>\n",
       "      <td>265</td>\n",
       "      <td>290740.740741</td>\n",
       "      <td>Другой этаж</td>\n",
       "      <td>2</td>\n",
       "      <td>12</td>\n",
       "      <td>2015</td>\n",
       "      <td>0.378000</td>\n",
       "      <td>0.116000</td>\n",
       "      <td>0.215</td>\n",
       "      <td>5.111628e+07</td>\n",
       "    </tr>\n",
       "    <tr>\n",
       "      <th>1934</th>\n",
       "      <td>18</td>\n",
       "      <td>9590000</td>\n",
       "      <td>108.0</td>\n",
       "      <td>2017-05-23</td>\n",
       "      <td>2</td>\n",
       "      <td>3.30</td>\n",
       "      <td>5</td>\n",
       "      <td>59.000000</td>\n",
       "      <td>2</td>\n",
       "      <td>False</td>\n",
       "      <td>False</td>\n",
       "      <td>False</td>\n",
       "      <td>11.0</td>\n",
       "      <td>0</td>\n",
       "      <td>Санкт-Петербург</td>\n",
       "      <td>21908.0</td>\n",
       "      <td>287.0</td>\n",
       "      <td>3</td>\n",
       "      <td>359.0</td>\n",
       "      <td>3</td>\n",
       "      <td>290.0</td>\n",
       "      <td>69</td>\n",
       "      <td>162542.372881</td>\n",
       "      <td>Другой этаж</td>\n",
       "      <td>1</td>\n",
       "      <td>5</td>\n",
       "      <td>2017</td>\n",
       "      <td>0.546296</td>\n",
       "      <td>0.101852</td>\n",
       "      <td>0.287</td>\n",
       "      <td>3.341463e+07</td>\n",
       "    </tr>\n",
       "    <tr>\n",
       "      <th>1182</th>\n",
       "      <td>1</td>\n",
       "      <td>5800000</td>\n",
       "      <td>33.6</td>\n",
       "      <td>2016-03-10</td>\n",
       "      <td>1</td>\n",
       "      <td>3.70</td>\n",
       "      <td>7</td>\n",
       "      <td>22.800000</td>\n",
       "      <td>4</td>\n",
       "      <td>False</td>\n",
       "      <td>False</td>\n",
       "      <td>False</td>\n",
       "      <td>6.6</td>\n",
       "      <td>0</td>\n",
       "      <td>Санкт-Петербург</td>\n",
       "      <td>21632.0</td>\n",
       "      <td>208.0</td>\n",
       "      <td>3</td>\n",
       "      <td>304.0</td>\n",
       "      <td>3</td>\n",
       "      <td>503.0</td>\n",
       "      <td>167</td>\n",
       "      <td>254385.964912</td>\n",
       "      <td>Другой этаж</td>\n",
       "      <td>3</td>\n",
       "      <td>3</td>\n",
       "      <td>2016</td>\n",
       "      <td>0.678571</td>\n",
       "      <td>0.196429</td>\n",
       "      <td>0.208</td>\n",
       "      <td>2.788462e+07</td>\n",
       "    </tr>\n",
       "    <tr>\n",
       "      <th>22036</th>\n",
       "      <td>3</td>\n",
       "      <td>7200000</td>\n",
       "      <td>72.0</td>\n",
       "      <td>2017-12-21</td>\n",
       "      <td>2</td>\n",
       "      <td>3.07</td>\n",
       "      <td>3</td>\n",
       "      <td>44.900000</td>\n",
       "      <td>2</td>\n",
       "      <td>True</td>\n",
       "      <td>False</td>\n",
       "      <td>False</td>\n",
       "      <td>12.3</td>\n",
       "      <td>0</td>\n",
       "      <td>Санкт-Петербург</td>\n",
       "      <td>21875.0</td>\n",
       "      <td>329.0</td>\n",
       "      <td>3</td>\n",
       "      <td>426.0</td>\n",
       "      <td>3</td>\n",
       "      <td>273.0</td>\n",
       "      <td>89</td>\n",
       "      <td>160356.347439</td>\n",
       "      <td>Другой этаж</td>\n",
       "      <td>3</td>\n",
       "      <td>12</td>\n",
       "      <td>2017</td>\n",
       "      <td>0.623611</td>\n",
       "      <td>0.170833</td>\n",
       "      <td>0.329</td>\n",
       "      <td>2.188450e+07</td>\n",
       "    </tr>\n",
       "    <tr>\n",
       "      <th>9488</th>\n",
       "      <td>3</td>\n",
       "      <td>8000000</td>\n",
       "      <td>106.0</td>\n",
       "      <td>2018-07-26</td>\n",
       "      <td>3</td>\n",
       "      <td>3.40</td>\n",
       "      <td>4</td>\n",
       "      <td>37.201254</td>\n",
       "      <td>1</td>\n",
       "      <td>True</td>\n",
       "      <td>False</td>\n",
       "      <td>False</td>\n",
       "      <td>9.1</td>\n",
       "      <td>0</td>\n",
       "      <td>Санкт-Петербург</td>\n",
       "      <td>21653.0</td>\n",
       "      <td>410.0</td>\n",
       "      <td>3</td>\n",
       "      <td>591.0</td>\n",
       "      <td>2</td>\n",
       "      <td>38.0</td>\n",
       "      <td>60</td>\n",
       "      <td>215046.515335</td>\n",
       "      <td>Первый этаж</td>\n",
       "      <td>3</td>\n",
       "      <td>7</td>\n",
       "      <td>2018</td>\n",
       "      <td>0.350955</td>\n",
       "      <td>0.085849</td>\n",
       "      <td>0.410</td>\n",
       "      <td>1.951220e+07</td>\n",
       "    </tr>\n",
       "  </tbody>\n",
       "</table>\n",
       "</div>"
      ],
      "text/plain": [
       "       total_images  last_price  total_area first_day_exposition  rooms  \\\n",
       "8614              7    10990000       100.0           2015-12-16      3   \n",
       "1934             18     9590000       108.0           2017-05-23      2   \n",
       "1182              1     5800000        33.6           2016-03-10      1   \n",
       "22036             3     7200000        72.0           2017-12-21      2   \n",
       "9488              3     8000000       106.0           2018-07-26      3   \n",
       "\n",
       "       ceiling_height  floors_total  living_area  floor  is_apartment  studio  \\\n",
       "8614             3.90             5    37.800000      3          True   False   \n",
       "1934             3.30             5    59.000000      2         False   False   \n",
       "1182             3.70             7    22.800000      4         False   False   \n",
       "22036            3.07             3    44.900000      2          True   False   \n",
       "9488             3.40             4    37.201254      1          True   False   \n",
       "\n",
       "       open_plan  kitchen_area  balcony    locality_name  airports_nearest  \\\n",
       "8614       False          11.6        0  Санкт-Петербург           21818.0   \n",
       "1934       False          11.0        0  Санкт-Петербург           21908.0   \n",
       "1182       False           6.6        0  Санкт-Петербург           21632.0   \n",
       "22036      False          12.3        0  Санкт-Петербург           21875.0   \n",
       "9488       False           9.1        0  Санкт-Петербург           21653.0   \n",
       "\n",
       "       cityCenters_nearest  parks_around3000  parks_nearest  ponds_around3000  \\\n",
       "8614                 215.0                 3          229.0                 2   \n",
       "1934                 287.0                 3          359.0                 3   \n",
       "1182                 208.0                 3          304.0                 3   \n",
       "22036                329.0                 3          426.0                 3   \n",
       "9488                 410.0                 3          591.0                 2   \n",
       "\n",
       "       ponds_nearest  days_exposition   price_for_m2 floor_position  week_day  \\\n",
       "8614           511.0              265  290740.740741    Другой этаж         2   \n",
       "1934           290.0               69  162542.372881    Другой этаж         1   \n",
       "1182           503.0              167  254385.964912    Другой этаж         3   \n",
       "22036          273.0               89  160356.347439    Другой этаж         3   \n",
       "9488            38.0               60  215046.515335    Первый этаж         3   \n",
       "\n",
       "       month  year  living_area/total_area  kitchen_area/total_area  \\\n",
       "8614      12  2015                0.378000                 0.116000   \n",
       "1934       5  2017                0.546296                 0.101852   \n",
       "1182       3  2016                0.678571                 0.196429   \n",
       "22036     12  2017                0.623611                 0.170833   \n",
       "9488       7  2018                0.350955                 0.085849   \n",
       "\n",
       "       cityCenters_nearest_in_km    cost_of_km  \n",
       "8614                       0.215  5.111628e+07  \n",
       "1934                       0.287  3.341463e+07  \n",
       "1182                       0.208  2.788462e+07  \n",
       "22036                      0.329  2.188450e+07  \n",
       "9488                       0.410  1.951220e+07  "
      ]
     },
     "execution_count": 71,
     "metadata": {},
     "output_type": "execute_result"
    }
   ],
   "source": [
    "spb_region.sort_values(by='cost_of_km',ascending=False).head()"
   ]
  },
  {
   "cell_type": "markdown",
   "metadata": {},
   "source": [
    "Выбираем кваритры с самой высокой стоимостью за 1 кв.м. в центре Санкт-Петербурга"
   ]
  },
  {
   "cell_type": "code",
   "execution_count": 72,
   "metadata": {},
   "outputs": [
    {
     "data": {
      "text/html": [
       "<div>\n",
       "<style scoped>\n",
       "    .dataframe tbody tr th:only-of-type {\n",
       "        vertical-align: middle;\n",
       "    }\n",
       "\n",
       "    .dataframe tbody tr th {\n",
       "        vertical-align: top;\n",
       "    }\n",
       "\n",
       "    .dataframe thead th {\n",
       "        text-align: right;\n",
       "    }\n",
       "</style>\n",
       "<table border=\"1\" class=\"dataframe\">\n",
       "  <thead>\n",
       "    <tr style=\"text-align: right;\">\n",
       "      <th></th>\n",
       "      <th>total_images</th>\n",
       "      <th>last_price</th>\n",
       "      <th>total_area</th>\n",
       "      <th>first_day_exposition</th>\n",
       "      <th>rooms</th>\n",
       "      <th>ceiling_height</th>\n",
       "      <th>floors_total</th>\n",
       "      <th>living_area</th>\n",
       "      <th>floor</th>\n",
       "      <th>is_apartment</th>\n",
       "      <th>studio</th>\n",
       "      <th>open_plan</th>\n",
       "      <th>kitchen_area</th>\n",
       "      <th>balcony</th>\n",
       "      <th>locality_name</th>\n",
       "      <th>airports_nearest</th>\n",
       "      <th>cityCenters_nearest</th>\n",
       "      <th>parks_around3000</th>\n",
       "      <th>parks_nearest</th>\n",
       "      <th>ponds_around3000</th>\n",
       "      <th>ponds_nearest</th>\n",
       "      <th>days_exposition</th>\n",
       "      <th>price_for_m2</th>\n",
       "      <th>floor_position</th>\n",
       "      <th>week_day</th>\n",
       "      <th>month</th>\n",
       "      <th>year</th>\n",
       "      <th>living_area/total_area</th>\n",
       "      <th>kitchen_area/total_area</th>\n",
       "      <th>cityCenters_nearest_in_km</th>\n",
       "      <th>cost_of_km</th>\n",
       "    </tr>\n",
       "  </thead>\n",
       "  <tbody>\n",
       "    <tr>\n",
       "      <th>24</th>\n",
       "      <td>8</td>\n",
       "      <td>6500000</td>\n",
       "      <td>97.2</td>\n",
       "      <td>2015-10-31</td>\n",
       "      <td>2</td>\n",
       "      <td>2.65</td>\n",
       "      <td>3</td>\n",
       "      <td>46.5</td>\n",
       "      <td>1</td>\n",
       "      <td>True</td>\n",
       "      <td>False</td>\n",
       "      <td>False</td>\n",
       "      <td>19.6</td>\n",
       "      <td>0</td>\n",
       "      <td>Санкт-Петербург</td>\n",
       "      <td>20052.0</td>\n",
       "      <td>2336.0</td>\n",
       "      <td>3</td>\n",
       "      <td>411.000000</td>\n",
       "      <td>3</td>\n",
       "      <td>124.000000</td>\n",
       "      <td>265</td>\n",
       "      <td>139784.946237</td>\n",
       "      <td>Первый этаж</td>\n",
       "      <td>5</td>\n",
       "      <td>10</td>\n",
       "      <td>2015</td>\n",
       "      <td>0.478395</td>\n",
       "      <td>0.201646</td>\n",
       "      <td>2.336</td>\n",
       "      <td>2.782534e+06</td>\n",
       "    </tr>\n",
       "    <tr>\n",
       "      <th>99</th>\n",
       "      <td>32</td>\n",
       "      <td>9600000</td>\n",
       "      <td>90.0</td>\n",
       "      <td>2017-09-26</td>\n",
       "      <td>4</td>\n",
       "      <td>2.65</td>\n",
       "      <td>5</td>\n",
       "      <td>67.0</td>\n",
       "      <td>2</td>\n",
       "      <td>True</td>\n",
       "      <td>False</td>\n",
       "      <td>False</td>\n",
       "      <td>8.0</td>\n",
       "      <td>0</td>\n",
       "      <td>Санкт-Петербург</td>\n",
       "      <td>23277.0</td>\n",
       "      <td>2818.0</td>\n",
       "      <td>0</td>\n",
       "      <td>490.830729</td>\n",
       "      <td>0</td>\n",
       "      <td>518.043923</td>\n",
       "      <td>104</td>\n",
       "      <td>143283.582090</td>\n",
       "      <td>Другой этаж</td>\n",
       "      <td>1</td>\n",
       "      <td>9</td>\n",
       "      <td>2017</td>\n",
       "      <td>0.744444</td>\n",
       "      <td>0.088889</td>\n",
       "      <td>2.818</td>\n",
       "      <td>3.406671e+06</td>\n",
       "    </tr>\n",
       "    <tr>\n",
       "      <th>136</th>\n",
       "      <td>16</td>\n",
       "      <td>6500000</td>\n",
       "      <td>51.8</td>\n",
       "      <td>2018-08-01</td>\n",
       "      <td>2</td>\n",
       "      <td>3.45</td>\n",
       "      <td>6</td>\n",
       "      <td>25.6</td>\n",
       "      <td>2</td>\n",
       "      <td>True</td>\n",
       "      <td>False</td>\n",
       "      <td>False</td>\n",
       "      <td>7.3</td>\n",
       "      <td>1</td>\n",
       "      <td>Санкт-Петербург</td>\n",
       "      <td>20502.0</td>\n",
       "      <td>3618.0</td>\n",
       "      <td>2</td>\n",
       "      <td>533.000000</td>\n",
       "      <td>1</td>\n",
       "      <td>812.000000</td>\n",
       "      <td>163</td>\n",
       "      <td>253906.250000</td>\n",
       "      <td>Другой этаж</td>\n",
       "      <td>2</td>\n",
       "      <td>8</td>\n",
       "      <td>2018</td>\n",
       "      <td>0.494208</td>\n",
       "      <td>0.140927</td>\n",
       "      <td>3.618</td>\n",
       "      <td>1.796573e+06</td>\n",
       "    </tr>\n",
       "    <tr>\n",
       "      <th>138</th>\n",
       "      <td>8</td>\n",
       "      <td>4800000</td>\n",
       "      <td>40.0</td>\n",
       "      <td>2017-11-18</td>\n",
       "      <td>2</td>\n",
       "      <td>2.65</td>\n",
       "      <td>3</td>\n",
       "      <td>29.0</td>\n",
       "      <td>2</td>\n",
       "      <td>True</td>\n",
       "      <td>False</td>\n",
       "      <td>False</td>\n",
       "      <td>6.0</td>\n",
       "      <td>0</td>\n",
       "      <td>Санкт-Петербург</td>\n",
       "      <td>23371.0</td>\n",
       "      <td>2913.0</td>\n",
       "      <td>0</td>\n",
       "      <td>490.830729</td>\n",
       "      <td>2</td>\n",
       "      <td>729.000000</td>\n",
       "      <td>80</td>\n",
       "      <td>165517.241379</td>\n",
       "      <td>Другой этаж</td>\n",
       "      <td>5</td>\n",
       "      <td>11</td>\n",
       "      <td>2017</td>\n",
       "      <td>0.725000</td>\n",
       "      <td>0.150000</td>\n",
       "      <td>2.913</td>\n",
       "      <td>1.647786e+06</td>\n",
       "    </tr>\n",
       "    <tr>\n",
       "      <th>154</th>\n",
       "      <td>1</td>\n",
       "      <td>8200000</td>\n",
       "      <td>80.0</td>\n",
       "      <td>2018-11-06</td>\n",
       "      <td>3</td>\n",
       "      <td>4.15</td>\n",
       "      <td>3</td>\n",
       "      <td>44.2</td>\n",
       "      <td>2</td>\n",
       "      <td>True</td>\n",
       "      <td>False</td>\n",
       "      <td>False</td>\n",
       "      <td>12.2</td>\n",
       "      <td>0</td>\n",
       "      <td>Санкт-Петербург</td>\n",
       "      <td>20562.0</td>\n",
       "      <td>3167.0</td>\n",
       "      <td>2</td>\n",
       "      <td>344.000000</td>\n",
       "      <td>1</td>\n",
       "      <td>838.000000</td>\n",
       "      <td>38</td>\n",
       "      <td>185520.361991</td>\n",
       "      <td>Другой этаж</td>\n",
       "      <td>1</td>\n",
       "      <td>11</td>\n",
       "      <td>2018</td>\n",
       "      <td>0.552500</td>\n",
       "      <td>0.152500</td>\n",
       "      <td>3.167</td>\n",
       "      <td>2.589201e+06</td>\n",
       "    </tr>\n",
       "  </tbody>\n",
       "</table>\n",
       "</div>"
      ],
      "text/plain": [
       "     total_images  last_price  total_area first_day_exposition  rooms  \\\n",
       "24              8     6500000        97.2           2015-10-31      2   \n",
       "99             32     9600000        90.0           2017-09-26      4   \n",
       "136            16     6500000        51.8           2018-08-01      2   \n",
       "138             8     4800000        40.0           2017-11-18      2   \n",
       "154             1     8200000        80.0           2018-11-06      3   \n",
       "\n",
       "     ceiling_height  floors_total  living_area  floor  is_apartment  studio  \\\n",
       "24             2.65             3         46.5      1          True   False   \n",
       "99             2.65             5         67.0      2          True   False   \n",
       "136            3.45             6         25.6      2          True   False   \n",
       "138            2.65             3         29.0      2          True   False   \n",
       "154            4.15             3         44.2      2          True   False   \n",
       "\n",
       "     open_plan  kitchen_area  balcony    locality_name  airports_nearest  \\\n",
       "24       False          19.6        0  Санкт-Петербург           20052.0   \n",
       "99       False           8.0        0  Санкт-Петербург           23277.0   \n",
       "136      False           7.3        1  Санкт-Петербург           20502.0   \n",
       "138      False           6.0        0  Санкт-Петербург           23371.0   \n",
       "154      False          12.2        0  Санкт-Петербург           20562.0   \n",
       "\n",
       "     cityCenters_nearest  parks_around3000  parks_nearest  ponds_around3000  \\\n",
       "24                2336.0                 3     411.000000                 3   \n",
       "99                2818.0                 0     490.830729                 0   \n",
       "136               3618.0                 2     533.000000                 1   \n",
       "138               2913.0                 0     490.830729                 2   \n",
       "154               3167.0                 2     344.000000                 1   \n",
       "\n",
       "     ponds_nearest  days_exposition   price_for_m2 floor_position  week_day  \\\n",
       "24      124.000000              265  139784.946237    Первый этаж         5   \n",
       "99      518.043923              104  143283.582090    Другой этаж         1   \n",
       "136     812.000000              163  253906.250000    Другой этаж         2   \n",
       "138     729.000000               80  165517.241379    Другой этаж         5   \n",
       "154     838.000000               38  185520.361991    Другой этаж         1   \n",
       "\n",
       "     month  year  living_area/total_area  kitchen_area/total_area  \\\n",
       "24      10  2015                0.478395                 0.201646   \n",
       "99       9  2017                0.744444                 0.088889   \n",
       "136      8  2018                0.494208                 0.140927   \n",
       "138     11  2017                0.725000                 0.150000   \n",
       "154     11  2018                0.552500                 0.152500   \n",
       "\n",
       "     cityCenters_nearest_in_km    cost_of_km  \n",
       "24                       2.336  2.782534e+06  \n",
       "99                       2.818  3.406671e+06  \n",
       "136                      3.618  1.796573e+06  \n",
       "138                      2.913  1.647786e+06  \n",
       "154                      3.167  2.589201e+06  "
      ]
     },
     "execution_count": 72,
     "metadata": {},
     "output_type": "execute_result"
    }
   ],
   "source": [
    "top=current_days_exposition_data.query('cityCenters_nearest_in_km<5 and locality_name==\"Санкт-Петербург\"')\n",
    "top.head()"
   ]
  },
  {
   "cell_type": "markdown",
   "metadata": {},
   "source": [
    "Изучим такие квартиры."
   ]
  },
  {
   "cell_type": "code",
   "execution_count": 73,
   "metadata": {},
   "outputs": [
    {
     "data": {
      "text/plain": [
       "<AxesSubplot:>"
      ]
     },
     "execution_count": 73,
     "metadata": {},
     "output_type": "execute_result"
    },
    {
     "data": {
      "image/png": "[encoded data removed]",
      "text/plain": [
       "<Figure size 432x288 with 1 Axes>"
      ]
     },
     "metadata": {
      "needs_background": "light"
     },
     "output_type": "display_data"
    }
   ],
   "source": [
    "top['last_price'].hist(bins=30)"
   ]
  },
  {
   "cell_type": "markdown",
   "metadata": {},
   "source": [
    "В центре Санкт-Петербурга больше всего квартир за 7 млн. руб."
   ]
  },
  {
   "cell_type": "code",
   "execution_count": 74,
   "metadata": {},
   "outputs": [
    {
     "data": {
      "text/plain": [
       "<AxesSubplot:>"
      ]
     },
     "execution_count": 74,
     "metadata": {},
     "output_type": "execute_result"
    },
    {
     "data": {
      "image/png": "[encoded data removed]",
      "text/plain": [
       "<Figure size 432x288 with 1 Axes>"
      ]
     },
     "metadata": {
      "needs_background": "light"
     },
     "output_type": "display_data"
    }
   ],
   "source": [
    "top['total_area'].hist(bins=30)"
   ]
  },
  {
   "cell_type": "markdown",
   "metadata": {},
   "source": [
    "В центре Санкт-Петербугра большей всего квартир общей площадью около 60 кв.м."
   ]
  },
  {
   "cell_type": "code",
   "execution_count": 75,
   "metadata": {},
   "outputs": [
    {
     "data": {
      "text/plain": [
       "<AxesSubplot:>"
      ]
     },
     "execution_count": 75,
     "metadata": {},
     "output_type": "execute_result"
    },
    {
     "data": {
      "image/png": "[encoded data removed]",
      "text/plain": [
       "<Figure size 432x288 with 1 Axes>"
      ]
     },
     "metadata": {
      "needs_background": "light"
     },
     "output_type": "display_data"
    }
   ],
   "source": [
    "top['rooms'].hist(bins=30)"
   ]
  },
  {
   "cell_type": "markdown",
   "metadata": {},
   "source": [
    "В центре Санкт-Петербурга больше всего продается 2 комнатных квартир."
   ]
  },
  {
   "cell_type": "code",
   "execution_count": 76,
   "metadata": {},
   "outputs": [
    {
     "data": {
      "text/plain": [
       "<AxesSubplot:>"
      ]
     },
     "execution_count": 76,
     "metadata": {},
     "output_type": "execute_result"
    },
    {
     "data": {
      "image/png": "[encoded data removed]",
      "text/plain": [
       "<Figure size 432x288 with 1 Axes>"
      ]
     },
     "metadata": {
      "needs_background": "light"
     },
     "output_type": "display_data"
    }
   ],
   "source": [
    "top['ceiling_height'].hist(bins=30,range=(2,5))"
   ]
  },
  {
   "cell_type": "markdown",
   "metadata": {},
   "source": [
    "В центре Санкт-Петербурга больше всего продается квартир с высотой потолка 2,6 м."
   ]
  },
  {
   "cell_type": "code",
   "execution_count": 77,
   "metadata": {},
   "outputs": [
    {
     "data": {
      "image/png": "[encoded data removed]",
      "text/plain": [
       "<Figure size 1080x576 with 1 Axes>"
      ]
     },
     "metadata": {
      "needs_background": "light"
     },
     "output_type": "display_data"
    }
   ],
   "source": [
    "(top\n",
    "     .sort_values(by='last_price',ascending=True)\n",
    "     .groupby('rooms')['last_price'].median()\n",
    "     .plot(x='rooms',y='last_price',style='o-',grid=True,figsize=(15,8),legend=True)\n",
    ")\n",
    "\n",
    "\n",
    "(current_days_exposition_data\n",
    "     .groupby('rooms')['last_price'].median()\n",
    "     .plot(x='rooms',y='last_price',style='o-',grid=True,figsize=(15,8),legend=True)\n",
    ")\n",
    "plt.show()"
   ]
  },
  {
   "cell_type": "markdown",
   "metadata": {},
   "source": [
    "На графике видно, что с увеличением комнат увеличивается стоимость. График квартир в центре сдвинут вверх отностительно графика всех квартир имеющихся в базе, т.к. в центре квартиры дороже. Самые дорогие 5 комнатные квартиры."
   ]
  },
  {
   "cell_type": "code",
   "execution_count": 78,
   "metadata": {},
   "outputs": [
    {
     "data": {
      "image/png": "[encoded data removed]",
      "text/plain": [
       "<Figure size 432x288 with 1 Axes>"
      ]
     },
     "metadata": {
      "needs_background": "light"
     },
     "output_type": "display_data"
    }
   ],
   "source": [
    "(top\n",
    "    .groupby('floor_position')['last_price'].median()\n",
    "    .plot(x='floor_position',y='last_price',style='o-',legend=True)\n",
    ")\n",
    "\n",
    "\n",
    "(current_days_exposition_data\n",
    "    .groupby('floor_position')['last_price'].median()\n",
    "    .plot(x='floor_position',y='last_price',style='o-',legend=True)\n",
    ")\n",
    "\n",
    "plt.show()"
   ]
  },
  {
   "cell_type": "markdown",
   "metadata": {},
   "source": [
    "Из графика следует, что квартиры на последнем этаже покупают охотнее, чем квартиры на первом этаже. На первом этаже кваритры покупают реже всего. В центре Санкт-Петербурга квартиры дороже, чем в других районах."
   ]
  },
  {
   "cell_type": "code",
   "execution_count": 79,
   "metadata": {},
   "outputs": [
    {
     "data": {
      "image/png": "[encoded data removed]",
      "text/plain": [
       "<Figure size 432x288 with 1 Axes>"
      ]
     },
     "metadata": {
      "needs_background": "light"
     },
     "output_type": "display_data"
    },
    {
     "data": {
      "image/png": "[encoded data removed]",
      "text/plain": [
       "<Figure size 432x288 with 1 Axes>"
      ]
     },
     "metadata": {
      "needs_background": "light"
     },
     "output_type": "display_data"
    }
   ],
   "source": [
    "(top\n",
    "     .sort_values(by='cityCenters_nearest',ascending=True)\n",
    "     .plot(x='cityCenters_nearest',y='last_price',style='o',alpha=0.3)\n",
    ")\n",
    "\n",
    "(current_days_exposition_data\n",
    "     .sort_values(by='cityCenters_nearest',ascending=True)\n",
    "     .plot(x='cityCenters_nearest',y='last_price',style='o',alpha=0.3)\n",
    ")\n",
    "\n",
    "plt.show()"
   ]
  },
  {
   "cell_type": "markdown",
   "metadata": {},
   "source": [
    "Из анализа диаграмм следует, что больше всего продается квартир на расстоянии 4-5 км от центра и стоят они от 6 до 8 млн. руб."
   ]
  },
  {
   "cell_type": "code",
   "execution_count": 80,
   "metadata": {},
   "outputs": [
    {
     "data": {
      "image/png": "[encoded data removed]",
      "text/plain": [
       "<Figure size 432x288 with 1 Axes>"
      ]
     },
     "metadata": {
      "needs_background": "light"
     },
     "output_type": "display_data"
    }
   ],
   "source": [
    "(top\n",
    "     .groupby('week_day')['last_price'].count()\n",
    "     .plot(x='week_day',y='last_price',style='o',legend=True)\n",
    ")\n",
    "\n",
    "(current_days_exposition_data\n",
    "     .groupby('week_day')['last_price'].count()\n",
    "     .plot(x='week_day',y='last_price',style='o',legend=True)\n",
    ")\n",
    "\n",
    "plt.show()"
   ]
  },
  {
   "cell_type": "markdown",
   "metadata": {},
   "source": [
    "В рабочие дни квартиры продаются примерно одинаково, в выходные продается сильно меньше квартир."
   ]
  },
  {
   "cell_type": "code",
   "execution_count": 81,
   "metadata": {},
   "outputs": [
    {
     "data": {
      "image/png": "[encoded data removed]",
      "text/plain": [
       "<Figure size 432x288 with 1 Axes>"
      ]
     },
     "metadata": {
      "needs_background": "light"
     },
     "output_type": "display_data"
    }
   ],
   "source": [
    "(top\n",
    "     .groupby('month')['last_price'].count()\n",
    "     .plot(x='month',y='last_price',style='-',legend=True)\n",
    ")\n",
    "(current_days_exposition_data\n",
    "     .groupby('month')['last_price'].count()\n",
    "     .plot(x='month',y='last_price',style='-',legend=True)\n",
    ")\n",
    "\n",
    "plt.show()"
   ]
  },
  {
   "cell_type": "markdown",
   "metadata": {},
   "source": [
    "В течение года квартиры продаются примерно одинаково."
   ]
  },
  {
   "cell_type": "code",
   "execution_count": 82,
   "metadata": {},
   "outputs": [
    {
     "data": {
      "image/png": "[encoded data removed]",
      "text/plain": [
       "<Figure size 432x288 with 1 Axes>"
      ]
     },
     "metadata": {
      "needs_background": "light"
     },
     "output_type": "display_data"
    }
   ],
   "source": [
    "(top\n",
    "     .groupby('year')['last_price'].count()\n",
    "     .plot(x='year',y='last_price',style='-',legend=True)\n",
    ")\n",
    "(current_days_exposition_data\n",
    "     .groupby('year')['last_price'].count()\n",
    "     .plot(x='year',y='last_price',style='-',legend=True)\n",
    ")\n",
    "\n",
    "plt.show()"
   ]
  },
  {
   "cell_type": "markdown",
   "metadata": {},
   "source": [
    "На основании графика можно сазать, что квартиры в центре Санкт-Петербурга продаются примерно в одинаковом количестве каждый год, таких сильных колебания как на общем графике по всем районам не наблюдается."
   ]
  },
  {
   "cell_type": "markdown",
   "metadata": {},
   "source": [
    "## Общий вывод"
   ]
  },
  {
   "cell_type": "markdown",
   "metadata": {},
   "source": [
    "Если обобщить все данные, то можно сделать вывод, что больше всего квартир продается в будние дни, причем это 1-3 комнатные квартиры, на любом этаже кроме первого, с высотой потолка 2,6 м за 4-5 млн. рублей. Цена квадратного метра недвижимости зависит от этажа, района, высоты потолка и от количества комнат. Корреляция эти параметров в центре похожа и на все квартиры в целом по региону. "
   ]
  }
 ],
 "metadata": {
  "ExecuteTimeLog": [
   {
    "duration": 721,
    "start_time": "2022-03-12T06:10:53.092Z"
   },
   {
    "duration": 83,
    "start_time": "2022-03-12T06:13:41.691Z"
   },
   {
    "duration": 356,
    "start_time": "2022-03-12T06:14:24.879Z"
   },
   {
    "duration": 1814,
    "start_time": "2022-03-12T06:14:39.804Z"
   },
   {
    "duration": 468,
    "start_time": "2022-03-12T06:15:02.927Z"
   },
   {
    "duration": 82,
    "start_time": "2022-03-12T06:15:34.570Z"
   },
   {
    "duration": 106,
    "start_time": "2022-03-12T06:17:20.244Z"
   },
   {
    "duration": 15,
    "start_time": "2022-03-12T06:24:50.221Z"
   },
   {
    "duration": 16,
    "start_time": "2022-03-12T06:55:25.747Z"
   },
   {
    "duration": 6,
    "start_time": "2022-03-12T06:57:14.393Z"
   },
   {
    "duration": 6,
    "start_time": "2022-03-12T06:58:43.750Z"
   },
   {
    "duration": 8,
    "start_time": "2022-03-12T06:59:10.219Z"
   },
   {
    "duration": 273,
    "start_time": "2022-03-12T07:03:14.593Z"
   },
   {
    "duration": 10,
    "start_time": "2022-03-12T07:03:26.384Z"
   },
   {
    "duration": 8,
    "start_time": "2022-03-12T07:06:01.460Z"
   },
   {
    "duration": 5,
    "start_time": "2022-03-12T07:10:12.665Z"
   },
   {
    "duration": 37,
    "start_time": "2022-03-12T07:12:14.690Z"
   },
   {
    "duration": 24,
    "start_time": "2022-03-12T07:15:48.705Z"
   },
   {
    "duration": 6,
    "start_time": "2022-03-12T07:17:15.955Z"
   },
   {
    "duration": 15,
    "start_time": "2022-03-12T07:21:44.769Z"
   },
   {
    "duration": 285,
    "start_time": "2022-03-12T07:23:46.923Z"
   },
   {
    "duration": 270,
    "start_time": "2022-03-12T07:23:56.115Z"
   },
   {
    "duration": 754,
    "start_time": "2022-03-12T07:25:20.825Z"
   },
   {
    "duration": 117,
    "start_time": "2022-03-12T07:25:23.087Z"
   },
   {
    "duration": 16,
    "start_time": "2022-03-12T07:25:28.388Z"
   },
   {
    "duration": 16,
    "start_time": "2022-03-12T07:25:43.019Z"
   },
   {
    "duration": 7,
    "start_time": "2022-03-12T07:25:44.781Z"
   },
   {
    "duration": 10,
    "start_time": "2022-03-12T07:25:49.234Z"
   },
   {
    "duration": 39,
    "start_time": "2022-03-12T07:25:51.991Z"
   },
   {
    "duration": 24,
    "start_time": "2022-03-12T07:25:54.692Z"
   },
   {
    "duration": 6,
    "start_time": "2022-03-12T07:25:57.666Z"
   },
   {
    "duration": 347,
    "start_time": "2022-03-12T07:25:58.952Z"
   },
   {
    "duration": 16,
    "start_time": "2022-03-12T07:28:45.545Z"
   },
   {
    "duration": 10,
    "start_time": "2022-03-12T07:32:30.028Z"
   },
   {
    "duration": 7,
    "start_time": "2022-03-12T07:33:01.084Z"
   },
   {
    "duration": 8,
    "start_time": "2022-03-12T07:33:03.135Z"
   },
   {
    "duration": 8,
    "start_time": "2022-03-12T07:36:39.344Z"
   },
   {
    "duration": 260,
    "start_time": "2022-03-12T07:37:34.770Z"
   },
   {
    "duration": 86,
    "start_time": "2022-03-12T07:37:45.892Z"
   },
   {
    "duration": 261,
    "start_time": "2022-03-12T07:37:51.414Z"
   },
   {
    "duration": 6,
    "start_time": "2022-03-12T07:37:58.771Z"
   },
   {
    "duration": 7,
    "start_time": "2022-03-12T07:46:44.392Z"
   },
   {
    "duration": 10,
    "start_time": "2022-03-12T07:48:35.710Z"
   },
   {
    "duration": 7690,
    "start_time": "2022-03-12T07:53:08.679Z"
   },
   {
    "duration": 7042,
    "start_time": "2022-03-12T07:53:57.795Z"
   },
   {
    "duration": 599,
    "start_time": "2022-03-21T20:34:54.897Z"
   },
   {
    "duration": 145,
    "start_time": "2022-03-21T20:34:55.498Z"
   },
   {
    "duration": 36,
    "start_time": "2022-03-21T20:34:55.646Z"
   },
   {
    "duration": 17,
    "start_time": "2022-03-21T20:34:55.685Z"
   },
   {
    "duration": 7,
    "start_time": "2022-03-21T20:34:55.704Z"
   },
   {
    "duration": 11,
    "start_time": "2022-03-21T20:34:55.714Z"
   },
   {
    "duration": 78,
    "start_time": "2022-03-21T20:34:55.729Z"
   },
   {
    "duration": 22,
    "start_time": "2022-03-21T20:34:55.810Z"
   },
   {
    "duration": 6,
    "start_time": "2022-03-21T20:34:55.835Z"
   },
   {
    "duration": 20,
    "start_time": "2022-03-21T20:34:55.873Z"
   },
   {
    "duration": 6,
    "start_time": "2022-03-21T20:34:55.896Z"
   },
   {
    "duration": 16,
    "start_time": "2022-03-21T20:34:55.904Z"
   },
   {
    "duration": 7,
    "start_time": "2022-03-21T20:34:55.923Z"
   },
   {
    "duration": 43,
    "start_time": "2022-03-21T20:34:55.933Z"
   },
   {
    "duration": 8,
    "start_time": "2022-03-21T20:34:55.978Z"
   },
   {
    "duration": 11,
    "start_time": "2022-03-21T20:34:55.989Z"
   },
   {
    "duration": 15,
    "start_time": "2022-03-21T20:34:56.003Z"
   },
   {
    "duration": 56,
    "start_time": "2022-03-21T20:34:56.020Z"
   },
   {
    "duration": 16,
    "start_time": "2022-03-21T20:34:56.078Z"
   },
   {
    "duration": 12,
    "start_time": "2022-03-21T20:34:56.096Z"
   },
   {
    "duration": 9,
    "start_time": "2022-03-21T20:34:56.110Z"
   },
   {
    "duration": 52,
    "start_time": "2022-03-21T20:34:56.121Z"
   },
   {
    "duration": 9,
    "start_time": "2022-03-21T20:34:56.176Z"
   },
   {
    "duration": 11,
    "start_time": "2022-03-21T20:34:56.192Z"
   },
   {
    "duration": 10,
    "start_time": "2022-03-21T20:34:56.205Z"
   },
   {
    "duration": 8,
    "start_time": "2022-03-21T20:34:56.218Z"
   },
   {
    "duration": 5,
    "start_time": "2022-03-21T20:34:56.273Z"
   },
   {
    "duration": 24,
    "start_time": "2022-03-21T20:34:56.281Z"
   },
   {
    "duration": 5,
    "start_time": "2022-03-21T20:34:56.307Z"
   },
   {
    "duration": 409,
    "start_time": "2022-03-21T20:34:56.314Z"
   },
   {
    "duration": 4,
    "start_time": "2022-03-21T20:34:56.726Z"
   },
   {
    "duration": 57,
    "start_time": "2022-03-21T20:34:56.732Z"
   },
   {
    "duration": 43,
    "start_time": "2022-03-21T20:34:56.791Z"
   },
   {
    "duration": 6,
    "start_time": "2022-03-21T20:34:56.836Z"
   },
   {
    "duration": 61,
    "start_time": "2022-03-21T20:34:56.844Z"
   },
   {
    "duration": 125,
    "start_time": "2022-03-21T20:34:56.907Z"
   },
   {
    "duration": 0,
    "start_time": "2022-03-21T20:34:57.036Z"
   },
   {
    "duration": 0,
    "start_time": "2022-03-21T20:34:57.037Z"
   },
   {
    "duration": 0,
    "start_time": "2022-03-21T20:34:57.039Z"
   },
   {
    "duration": 0,
    "start_time": "2022-03-21T20:34:57.040Z"
   },
   {
    "duration": 0,
    "start_time": "2022-03-21T20:34:57.042Z"
   },
   {
    "duration": 0,
    "start_time": "2022-03-21T20:34:57.043Z"
   },
   {
    "duration": 0,
    "start_time": "2022-03-21T20:34:57.045Z"
   },
   {
    "duration": 0,
    "start_time": "2022-03-21T20:34:57.047Z"
   },
   {
    "duration": 0,
    "start_time": "2022-03-21T20:34:57.050Z"
   },
   {
    "duration": 1,
    "start_time": "2022-03-21T20:34:57.051Z"
   },
   {
    "duration": 0,
    "start_time": "2022-03-21T20:34:57.053Z"
   },
   {
    "duration": 0,
    "start_time": "2022-03-21T20:34:57.055Z"
   },
   {
    "duration": 0,
    "start_time": "2022-03-21T20:34:57.056Z"
   },
   {
    "duration": 0,
    "start_time": "2022-03-21T20:34:57.057Z"
   },
   {
    "duration": 0,
    "start_time": "2022-03-21T20:34:57.059Z"
   },
   {
    "duration": 0,
    "start_time": "2022-03-21T20:34:57.060Z"
   },
   {
    "duration": 0,
    "start_time": "2022-03-21T20:34:57.062Z"
   },
   {
    "duration": 0,
    "start_time": "2022-03-21T20:34:57.063Z"
   },
   {
    "duration": 0,
    "start_time": "2022-03-21T20:34:57.065Z"
   },
   {
    "duration": 0,
    "start_time": "2022-03-21T20:34:57.066Z"
   },
   {
    "duration": 0,
    "start_time": "2022-03-21T20:34:57.068Z"
   },
   {
    "duration": 0,
    "start_time": "2022-03-21T20:34:57.069Z"
   },
   {
    "duration": 0,
    "start_time": "2022-03-21T20:34:57.071Z"
   },
   {
    "duration": 0,
    "start_time": "2022-03-21T20:34:57.074Z"
   },
   {
    "duration": 0,
    "start_time": "2022-03-21T20:34:57.075Z"
   },
   {
    "duration": 0,
    "start_time": "2022-03-21T20:34:57.077Z"
   },
   {
    "duration": 0,
    "start_time": "2022-03-21T20:34:57.078Z"
   },
   {
    "duration": 0,
    "start_time": "2022-03-21T20:34:57.080Z"
   },
   {
    "duration": 0,
    "start_time": "2022-03-21T20:34:57.081Z"
   },
   {
    "duration": 0,
    "start_time": "2022-03-21T20:34:57.083Z"
   },
   {
    "duration": 0,
    "start_time": "2022-03-21T20:34:57.084Z"
   },
   {
    "duration": 0,
    "start_time": "2022-03-21T20:34:57.086Z"
   },
   {
    "duration": 0,
    "start_time": "2022-03-21T20:34:57.087Z"
   },
   {
    "duration": 0,
    "start_time": "2022-03-21T20:34:57.088Z"
   },
   {
    "duration": 0,
    "start_time": "2022-03-21T20:34:57.090Z"
   },
   {
    "duration": 0,
    "start_time": "2022-03-21T20:34:57.091Z"
   },
   {
    "duration": 0,
    "start_time": "2022-03-21T20:34:57.093Z"
   },
   {
    "duration": 0,
    "start_time": "2022-03-21T20:34:57.094Z"
   },
   {
    "duration": 0,
    "start_time": "2022-03-21T20:34:57.096Z"
   },
   {
    "duration": 0,
    "start_time": "2022-03-21T20:34:57.097Z"
   },
   {
    "duration": 0,
    "start_time": "2022-03-21T20:34:57.099Z"
   },
   {
    "duration": 0,
    "start_time": "2022-03-21T20:34:57.100Z"
   },
   {
    "duration": 0,
    "start_time": "2022-03-21T20:34:57.101Z"
   },
   {
    "duration": 0,
    "start_time": "2022-03-21T20:34:57.103Z"
   },
   {
    "duration": 0,
    "start_time": "2022-03-21T20:34:57.105Z"
   },
   {
    "duration": 437,
    "start_time": "2022-03-21T20:35:06.527Z"
   },
   {
    "duration": 450,
    "start_time": "2022-03-21T20:35:06.967Z"
   },
   {
    "duration": 441,
    "start_time": "2022-03-21T20:35:07.421Z"
   },
   {
    "duration": 398,
    "start_time": "2022-03-21T20:35:07.865Z"
   },
   {
    "duration": 452,
    "start_time": "2022-03-21T20:35:08.271Z"
   },
   {
    "duration": 267,
    "start_time": "2022-03-21T20:35:08.726Z"
   },
   {
    "duration": 15,
    "start_time": "2022-03-21T20:35:08.996Z"
   },
   {
    "duration": 198,
    "start_time": "2022-03-21T20:35:09.013Z"
   },
   {
    "duration": 201,
    "start_time": "2022-03-21T20:35:09.278Z"
   },
   {
    "duration": 48,
    "start_time": "2022-03-21T20:35:09.607Z"
   },
   {
    "duration": 441,
    "start_time": "2022-03-21T20:35:09.773Z"
   },
   {
    "duration": 13,
    "start_time": "2022-03-21T20:35:10.217Z"
   },
   {
    "duration": 189,
    "start_time": "2022-03-21T20:35:10.289Z"
   },
   {
    "duration": 67,
    "start_time": "2022-03-21T20:35:10.638Z"
   },
   {
    "duration": 21,
    "start_time": "2022-03-21T20:35:10.970Z"
   },
   {
    "duration": 485,
    "start_time": "2022-03-21T20:35:11.141Z"
   },
   {
    "duration": 8,
    "start_time": "2022-03-21T20:35:11.630Z"
   },
   {
    "duration": 360,
    "start_time": "2022-03-21T20:35:11.658Z"
   },
   {
    "duration": 10,
    "start_time": "2022-03-21T20:35:12.021Z"
   },
   {
    "duration": 294,
    "start_time": "2022-03-21T20:35:12.351Z"
   },
   {
    "duration": 8,
    "start_time": "2022-03-21T20:35:12.648Z"
   },
   {
    "duration": 431,
    "start_time": "2022-03-21T20:35:12.867Z"
   },
   {
    "duration": 9,
    "start_time": "2022-03-21T20:35:13.301Z"
   },
   {
    "duration": 229,
    "start_time": "2022-03-21T20:35:13.348Z"
   },
   {
    "duration": 248,
    "start_time": "2022-03-21T20:35:13.690Z"
   },
   {
    "duration": 203,
    "start_time": "2022-03-21T20:35:14.032Z"
   },
   {
    "duration": 37,
    "start_time": "2022-03-21T20:35:14.366Z"
   },
   {
    "duration": 6,
    "start_time": "2022-03-21T20:35:14.868Z"
   },
   {
    "duration": 5,
    "start_time": "2022-03-21T20:35:15.039Z"
   },
   {
    "duration": 50,
    "start_time": "2022-03-21T20:35:15.363Z"
   },
   {
    "duration": 294,
    "start_time": "2022-03-21T20:35:15.531Z"
   },
   {
    "duration": 10,
    "start_time": "2022-03-21T20:35:16.017Z"
   },
   {
    "duration": 4,
    "start_time": "2022-03-21T20:35:16.187Z"
   },
   {
    "duration": 39,
    "start_time": "2022-03-21T20:35:16.532Z"
   },
   {
    "duration": 46,
    "start_time": "2022-03-21T20:35:16.855Z"
   },
   {
    "duration": 250,
    "start_time": "2022-03-21T20:35:17.201Z"
   },
   {
    "duration": 277,
    "start_time": "2022-03-21T20:35:17.576Z"
   },
   {
    "duration": 267,
    "start_time": "2022-03-21T20:35:17.899Z"
   },
   {
    "duration": 286,
    "start_time": "2022-03-21T20:35:18.260Z"
   },
   {
    "duration": 382,
    "start_time": "2022-03-21T20:35:18.606Z"
   },
   {
    "duration": 350,
    "start_time": "2022-03-21T20:35:18.991Z"
   },
   {
    "duration": 656,
    "start_time": "2022-03-21T20:35:19.344Z"
   },
   {
    "duration": 264,
    "start_time": "2022-03-21T20:35:20.003Z"
   },
   {
    "duration": 232,
    "start_time": "2022-03-21T20:35:20.298Z"
   },
   {
    "duration": 311,
    "start_time": "2022-03-21T20:35:20.696Z"
   },
   {
    "duration": 1585,
    "start_time": "2022-03-21T20:41:17.865Z"
   },
   {
    "duration": 11,
    "start_time": "2022-03-21T20:41:32.576Z"
   },
   {
    "duration": 124,
    "start_time": "2022-03-21T20:59:46.120Z"
   },
   {
    "duration": 19,
    "start_time": "2022-03-21T21:00:05.086Z"
   },
   {
    "duration": 414,
    "start_time": "2022-03-22T05:40:00.476Z"
   },
   {
    "duration": 121,
    "start_time": "2022-03-22T05:40:08.865Z"
   },
   {
    "duration": 65,
    "start_time": "2022-03-22T05:40:12.883Z"
   },
   {
    "duration": 9,
    "start_time": "2022-03-22T05:40:45.921Z"
   },
   {
    "duration": 5,
    "start_time": "2022-03-22T05:44:16.037Z"
   },
   {
    "duration": 15,
    "start_time": "2022-03-22T05:44:21.002Z"
   },
   {
    "duration": 536,
    "start_time": "2022-03-22T19:27:41.083Z"
   },
   {
    "duration": 143,
    "start_time": "2022-03-22T19:27:41.622Z"
   },
   {
    "duration": 31,
    "start_time": "2022-03-22T19:27:41.767Z"
   },
   {
    "duration": 113,
    "start_time": "2022-03-22T19:27:41.800Z"
   },
   {
    "duration": 13,
    "start_time": "2022-03-22T19:27:41.916Z"
   },
   {
    "duration": 17,
    "start_time": "2022-03-22T19:27:41.931Z"
   },
   {
    "duration": 36,
    "start_time": "2022-03-22T19:27:41.950Z"
   },
   {
    "duration": 10,
    "start_time": "2022-03-22T19:27:41.990Z"
   },
   {
    "duration": 36,
    "start_time": "2022-03-22T19:27:42.002Z"
   },
   {
    "duration": 52,
    "start_time": "2022-03-22T19:27:42.040Z"
   },
   {
    "duration": 6,
    "start_time": "2022-03-22T19:27:42.094Z"
   },
   {
    "duration": 23,
    "start_time": "2022-03-22T19:27:42.102Z"
   },
   {
    "duration": 6,
    "start_time": "2022-03-22T19:27:42.128Z"
   },
   {
    "duration": 48,
    "start_time": "2022-03-22T19:27:42.139Z"
   },
   {
    "duration": 9,
    "start_time": "2022-03-22T19:27:42.189Z"
   },
   {
    "duration": 7,
    "start_time": "2022-03-22T19:27:42.201Z"
   },
   {
    "duration": 12,
    "start_time": "2022-03-22T19:27:42.211Z"
   },
   {
    "duration": 12,
    "start_time": "2022-03-22T19:27:42.225Z"
   },
   {
    "duration": 54,
    "start_time": "2022-03-22T19:27:42.239Z"
   },
   {
    "duration": 18,
    "start_time": "2022-03-22T19:27:42.296Z"
   },
   {
    "duration": 16,
    "start_time": "2022-03-22T19:27:42.316Z"
   },
   {
    "duration": 11,
    "start_time": "2022-03-22T19:27:42.334Z"
   },
   {
    "duration": 38,
    "start_time": "2022-03-22T19:27:42.347Z"
   },
   {
    "duration": 11,
    "start_time": "2022-03-22T19:27:42.387Z"
   },
   {
    "duration": 8,
    "start_time": "2022-03-22T19:27:42.400Z"
   },
   {
    "duration": 11,
    "start_time": "2022-03-22T19:27:42.410Z"
   },
   {
    "duration": 11,
    "start_time": "2022-03-22T19:27:42.423Z"
   },
   {
    "duration": 9,
    "start_time": "2022-03-22T19:27:42.484Z"
   },
   {
    "duration": 5,
    "start_time": "2022-03-22T19:27:42.495Z"
   },
   {
    "duration": 9,
    "start_time": "2022-03-22T19:27:42.501Z"
   },
   {
    "duration": 23,
    "start_time": "2022-03-22T19:27:42.513Z"
   },
   {
    "duration": 4,
    "start_time": "2022-03-22T19:27:42.538Z"
   },
   {
    "duration": 416,
    "start_time": "2022-03-22T19:27:42.544Z"
   },
   {
    "duration": 4,
    "start_time": "2022-03-22T19:27:42.962Z"
   },
   {
    "duration": 53,
    "start_time": "2022-03-22T19:27:42.969Z"
   },
   {
    "duration": 61,
    "start_time": "2022-03-22T19:27:43.024Z"
   },
   {
    "duration": 5,
    "start_time": "2022-03-22T19:27:43.088Z"
   },
   {
    "duration": 57,
    "start_time": "2022-03-22T19:27:43.095Z"
   },
   {
    "duration": 343,
    "start_time": "2022-03-22T19:27:43.154Z"
   },
   {
    "duration": 540,
    "start_time": "2022-03-22T19:27:43.500Z"
   },
   {
    "duration": 405,
    "start_time": "2022-03-22T19:27:44.047Z"
   },
   {
    "duration": 491,
    "start_time": "2022-03-22T19:27:44.455Z"
   },
   {
    "duration": 414,
    "start_time": "2022-03-22T19:27:44.949Z"
   },
   {
    "duration": 254,
    "start_time": "2022-03-22T19:27:45.366Z"
   },
   {
    "duration": 12,
    "start_time": "2022-03-22T19:27:45.622Z"
   },
   {
    "duration": 193,
    "start_time": "2022-03-22T19:27:45.636Z"
   },
   {
    "duration": 217,
    "start_time": "2022-03-22T19:27:45.831Z"
   },
   {
    "duration": 61,
    "start_time": "2022-03-22T19:27:46.051Z"
   },
   {
    "duration": 421,
    "start_time": "2022-03-22T19:27:46.114Z"
   },
   {
    "duration": 11,
    "start_time": "2022-03-22T19:27:46.537Z"
   },
   {
    "duration": 210,
    "start_time": "2022-03-22T19:27:46.550Z"
   },
   {
    "duration": 71,
    "start_time": "2022-03-22T19:27:46.762Z"
   },
   {
    "duration": 15,
    "start_time": "2022-03-22T19:27:46.836Z"
   },
   {
    "duration": 467,
    "start_time": "2022-03-22T19:27:46.853Z"
   },
   {
    "duration": 7,
    "start_time": "2022-03-22T19:27:47.322Z"
   },
   {
    "duration": 320,
    "start_time": "2022-03-22T19:27:47.331Z"
   },
   {
    "duration": 8,
    "start_time": "2022-03-22T19:27:47.653Z"
   },
   {
    "duration": 284,
    "start_time": "2022-03-22T19:27:47.663Z"
   },
   {
    "duration": 378,
    "start_time": "2022-03-22T19:27:47.950Z"
   },
   {
    "duration": 7,
    "start_time": "2022-03-22T19:27:48.331Z"
   },
   {
    "duration": 227,
    "start_time": "2022-03-22T19:27:48.340Z"
   },
   {
    "duration": 361,
    "start_time": "2022-03-22T19:27:48.570Z"
   },
   {
    "duration": 223,
    "start_time": "2022-03-22T19:27:48.934Z"
   },
   {
    "duration": 43,
    "start_time": "2022-03-22T19:27:49.159Z"
   },
   {
    "duration": 7,
    "start_time": "2022-03-22T19:27:49.204Z"
   },
   {
    "duration": 11,
    "start_time": "2022-03-22T19:27:49.213Z"
   },
   {
    "duration": 66,
    "start_time": "2022-03-22T19:27:49.226Z"
   },
   {
    "duration": 306,
    "start_time": "2022-03-22T19:27:49.295Z"
   },
   {
    "duration": 13,
    "start_time": "2022-03-22T19:27:49.604Z"
   },
   {
    "duration": 9,
    "start_time": "2022-03-22T19:27:49.619Z"
   },
   {
    "duration": 71,
    "start_time": "2022-03-22T19:27:49.630Z"
   },
   {
    "duration": 44,
    "start_time": "2022-03-22T19:27:49.703Z"
   },
   {
    "duration": 289,
    "start_time": "2022-03-22T19:27:49.749Z"
   },
   {
    "duration": 262,
    "start_time": "2022-03-22T19:27:50.040Z"
   },
   {
    "duration": 298,
    "start_time": "2022-03-22T19:27:50.305Z"
   },
   {
    "duration": 300,
    "start_time": "2022-03-22T19:27:50.605Z"
   },
   {
    "duration": 489,
    "start_time": "2022-03-22T19:27:50.908Z"
   },
   {
    "duration": 359,
    "start_time": "2022-03-22T19:27:51.399Z"
   },
   {
    "duration": 604,
    "start_time": "2022-03-22T19:27:51.760Z"
   },
   {
    "duration": 262,
    "start_time": "2022-03-22T19:27:52.366Z"
   },
   {
    "duration": 345,
    "start_time": "2022-03-22T19:27:52.630Z"
   },
   {
    "duration": 277,
    "start_time": "2022-03-22T19:27:52.977Z"
   }
  ],
  "kernelspec": {
   "display_name": "Python 3 (ipykernel)",
   "language": "python",
   "name": "python3"
  },
  "language_info": {
   "codemirror_mode": {
    "name": "ipython",
    "version": 3
   },
   "file_extension": ".py",
   "mimetype": "text/x-python",
   "name": "python",
   "nbconvert_exporter": "python",
   "pygments_lexer": "ipython3",
   "version": "3.8.6"
  },
  "toc": {
   "base_numbering": 1,
   "nav_menu": {},
   "number_sections": true,
   "sideBar": true,
   "skip_h1_title": true,
   "title_cell": "Содержание",
   "title_sidebar": "Contents",
   "toc_cell": true,
   "toc_position": {},
   "toc_section_display": true,
   "toc_window_display": true
  }
 },
 "nbformat": 4,
 "nbformat_minor": 4
}
