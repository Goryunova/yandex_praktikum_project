{
 "cells": [
  {
   "cell_type": "markdown",
   "id": "0329860d",
   "metadata": {},
   "source": [
    "# Определение перспективного тарифа для оператора сотовой связи"
   ]
  },
  {
   "cell_type": "markdown",
   "id": "e58780a5",
   "metadata": {},
   "source": [
    "Клиентам предлагают два тарифных плана: \"Смарт\" и \"Ультра\". Чтобы скорректировать рекламный бюджет, коммерческий департамент хочет понять, какой тариф приносит больше денег.Предстоит выполнить предварительный анализ тарифов на небольшой выборке клиентов. В распоряжении имеются данные 500 пользователей \"Мегалайн\": кто они, откуда, каким тарифом пользуются, сколько каждый совершил звонков и отправил сообщений за 2018 год. Нужно проанализировать поведение клиентов и сделать вывод - какой тариф лучше."
   ]
  },
  {
   "cell_type": "markdown",
   "id": "a0b94ba2",
   "metadata": {},
   "source": [
    "План анализа:\n",
    "- загрузить таблицы;\n",
    "- провести анализ всех таблиц (что за данные, какие типы имеют данные, сколько столбцов и строк). Определить проблемы с данными;\n",
    "- провести предобработку данных;\n",
    "- поменять типы данных;\n",
    "- согласно условиям оператора округлить все звонки и интернет до целых в большую сторону;\n",
    "- добавить столбец с месяцем, когда производился звонок, соединение с интернетом или отправлялось СМС-сообщение;\n",
    "- создаем новую таблицу, в которой будут суммы минут звонков по месяцам, Интернет-трафик, СМС;\n",
    "- находим прибыль компании по каждому тарифу по месяцам;\n",
    "- формируем таблицы с тарифами;\n",
    "- считаем дисперсию, стандартное отклонение, среднее по каждому показателю;\n",
    "- строим график зависимости двух тарифов по всем показателям;\n",
    "- анализуем графики;\n",
    "- проверяем гипотезу: \"средняя выручка пользователей тарифов \"Ультра\" и \"Смарт\" различается\";\n",
    "- проверяем гипотезу: \"средняя выручка пользователей из Москвы отличается от выручки пользователей из других регионов\";\n",
    "- делаем итоговый вывод."
   ]
  },
  {
   "cell_type": "markdown",
   "id": "e346cdcf",
   "metadata": {},
   "source": [
    "## Открытие файлов и изучение общей информации"
   ]
  },
  {
   "cell_type": "code",
   "execution_count": 1,
   "id": "ca443f7d",
   "metadata": {},
   "outputs": [],
   "source": [
    "import pandas as pd\n",
    "import numpy as np\n",
    "from scipy import stats as st\n",
    "import matplotlib.pyplot as plt\n",
    "import seaborn as sbn"
   ]
  },
  {
   "cell_type": "markdown",
   "id": "480258b6",
   "metadata": {},
   "source": [
    "Считываем в переменные таблицы"
   ]
  },
  {
   "cell_type": "code",
   "execution_count": 2,
   "id": "f8dd9861",
   "metadata": {},
   "outputs": [
    {
     "name": "stdout",
     "output_type": "stream",
     "text": [
      "<class 'pandas.core.frame.DataFrame'>\n",
      "RangeIndex: 202607 entries, 0 to 202606\n",
      "Data columns (total 4 columns):\n",
      " #   Column     Non-Null Count   Dtype  \n",
      "---  ------     --------------   -----  \n",
      " 0   id         202607 non-null  object \n",
      " 1   call_date  202607 non-null  object \n",
      " 2   duration   202607 non-null  float64\n",
      " 3   user_id    202607 non-null  int64  \n",
      "dtypes: float64(1), int64(1), object(2)\n",
      "memory usage: 6.2+ MB\n"
     ]
    }
   ],
   "source": [
    "data_calls = pd.read_csv('/datasets/calls.csv') # таблица calls\n",
    "data_calls.info()"
   ]
  },
  {
   "cell_type": "markdown",
   "id": "b016c4c6",
   "metadata": {},
   "source": [
    "Таблица calls (информация о звонках) состоит за 4 столбцов и 202607 строк, пропущенных значений нет. Таблица состоит из следующих столбцов:\n",
    "- id - уникальный номер звонка;\n",
    "- call_data - дата звонка;\n",
    "- duration - длительность звонка в минутах;\n",
    "- user_id - идентификатор пользователя, сделавшего звонок."
   ]
  },
  {
   "cell_type": "code",
   "execution_count": 3,
   "id": "2e1b08f4",
   "metadata": {},
   "outputs": [
    {
     "data": {
      "text/html": [
       "<div>\n",
       "<style scoped>\n",
       "    .dataframe tbody tr th:only-of-type {\n",
       "        vertical-align: middle;\n",
       "    }\n",
       "\n",
       "    .dataframe tbody tr th {\n",
       "        vertical-align: top;\n",
       "    }\n",
       "\n",
       "    .dataframe thead th {\n",
       "        text-align: right;\n",
       "    }\n",
       "</style>\n",
       "<table border=\"1\" class=\"dataframe\">\n",
       "  <thead>\n",
       "    <tr style=\"text-align: right;\">\n",
       "      <th></th>\n",
       "      <th>id</th>\n",
       "      <th>call_date</th>\n",
       "      <th>duration</th>\n",
       "      <th>user_id</th>\n",
       "    </tr>\n",
       "  </thead>\n",
       "  <tbody>\n",
       "    <tr>\n",
       "      <th>0</th>\n",
       "      <td>1000_0</td>\n",
       "      <td>2018-07-25</td>\n",
       "      <td>0.00</td>\n",
       "      <td>1000</td>\n",
       "    </tr>\n",
       "    <tr>\n",
       "      <th>1</th>\n",
       "      <td>1000_1</td>\n",
       "      <td>2018-08-17</td>\n",
       "      <td>0.00</td>\n",
       "      <td>1000</td>\n",
       "    </tr>\n",
       "    <tr>\n",
       "      <th>2</th>\n",
       "      <td>1000_2</td>\n",
       "      <td>2018-06-11</td>\n",
       "      <td>2.85</td>\n",
       "      <td>1000</td>\n",
       "    </tr>\n",
       "    <tr>\n",
       "      <th>3</th>\n",
       "      <td>1000_3</td>\n",
       "      <td>2018-09-21</td>\n",
       "      <td>13.80</td>\n",
       "      <td>1000</td>\n",
       "    </tr>\n",
       "    <tr>\n",
       "      <th>4</th>\n",
       "      <td>1000_4</td>\n",
       "      <td>2018-12-15</td>\n",
       "      <td>5.18</td>\n",
       "      <td>1000</td>\n",
       "    </tr>\n",
       "  </tbody>\n",
       "</table>\n",
       "</div>"
      ],
      "text/plain": [
       "       id   call_date  duration  user_id\n",
       "0  1000_0  2018-07-25      0.00     1000\n",
       "1  1000_1  2018-08-17      0.00     1000\n",
       "2  1000_2  2018-06-11      2.85     1000\n",
       "3  1000_3  2018-09-21     13.80     1000\n",
       "4  1000_4  2018-12-15      5.18     1000"
      ]
     },
     "execution_count": 3,
     "metadata": {},
     "output_type": "execute_result"
    }
   ],
   "source": [
    " data_calls.head() # Просмотриваем таблицу"
   ]
  },
  {
   "cell_type": "code",
   "execution_count": 4,
   "id": "af093931",
   "metadata": {},
   "outputs": [
    {
     "name": "stdout",
     "output_type": "stream",
     "text": [
      "<class 'pandas.core.frame.DataFrame'>\n",
      "Int64Index: 149396 entries, 0 to 149395\n",
      "Data columns (total 4 columns):\n",
      " #   Column        Non-Null Count   Dtype  \n",
      "---  ------        --------------   -----  \n",
      " 0   id            149396 non-null  object \n",
      " 1   mb_used       149396 non-null  float64\n",
      " 2   session_date  149396 non-null  object \n",
      " 3   user_id       149396 non-null  int64  \n",
      "dtypes: float64(1), int64(1), object(2)\n",
      "memory usage: 5.7+ MB\n"
     ]
    }
   ],
   "source": [
    "data_internet = pd.read_csv('/datasets/internet.csv', index_col=0) # таблица internet\n",
    "data_internet.info()"
   ]
  },
  {
   "cell_type": "markdown",
   "id": "f186006c",
   "metadata": {},
   "source": [
    "Таблица internet (информация об интернет-сессиях) состоит за 4 столбцов и 149396 сторок. Пропущенных значений нет. Таблица состоит из следующих столбцов:\n",
    "- id - уникальный номер сессии;\n",
    "- md_user - объем потраченного за сессию интернет-трафика (в мегабайтах);\n",
    "- session_date - дата интернет-сессии;\n",
    "- user_id - идентификатор пользователя."
   ]
  },
  {
   "cell_type": "code",
   "execution_count": 5,
   "id": "b886344d",
   "metadata": {},
   "outputs": [
    {
     "data": {
      "text/html": [
       "<div>\n",
       "<style scoped>\n",
       "    .dataframe tbody tr th:only-of-type {\n",
       "        vertical-align: middle;\n",
       "    }\n",
       "\n",
       "    .dataframe tbody tr th {\n",
       "        vertical-align: top;\n",
       "    }\n",
       "\n",
       "    .dataframe thead th {\n",
       "        text-align: right;\n",
       "    }\n",
       "</style>\n",
       "<table border=\"1\" class=\"dataframe\">\n",
       "  <thead>\n",
       "    <tr style=\"text-align: right;\">\n",
       "      <th></th>\n",
       "      <th>id</th>\n",
       "      <th>mb_used</th>\n",
       "      <th>session_date</th>\n",
       "      <th>user_id</th>\n",
       "    </tr>\n",
       "  </thead>\n",
       "  <tbody>\n",
       "    <tr>\n",
       "      <th>0</th>\n",
       "      <td>1000_0</td>\n",
       "      <td>112.95</td>\n",
       "      <td>2018-11-25</td>\n",
       "      <td>1000</td>\n",
       "    </tr>\n",
       "    <tr>\n",
       "      <th>1</th>\n",
       "      <td>1000_1</td>\n",
       "      <td>1052.81</td>\n",
       "      <td>2018-09-07</td>\n",
       "      <td>1000</td>\n",
       "    </tr>\n",
       "    <tr>\n",
       "      <th>2</th>\n",
       "      <td>1000_2</td>\n",
       "      <td>1197.26</td>\n",
       "      <td>2018-06-25</td>\n",
       "      <td>1000</td>\n",
       "    </tr>\n",
       "    <tr>\n",
       "      <th>3</th>\n",
       "      <td>1000_3</td>\n",
       "      <td>550.27</td>\n",
       "      <td>2018-08-22</td>\n",
       "      <td>1000</td>\n",
       "    </tr>\n",
       "    <tr>\n",
       "      <th>4</th>\n",
       "      <td>1000_4</td>\n",
       "      <td>302.56</td>\n",
       "      <td>2018-09-24</td>\n",
       "      <td>1000</td>\n",
       "    </tr>\n",
       "  </tbody>\n",
       "</table>\n",
       "</div>"
      ],
      "text/plain": [
       "       id  mb_used session_date  user_id\n",
       "0  1000_0   112.95   2018-11-25     1000\n",
       "1  1000_1  1052.81   2018-09-07     1000\n",
       "2  1000_2  1197.26   2018-06-25     1000\n",
       "3  1000_3   550.27   2018-08-22     1000\n",
       "4  1000_4   302.56   2018-09-24     1000"
      ]
     },
     "execution_count": 5,
     "metadata": {},
     "output_type": "execute_result"
    }
   ],
   "source": [
    " data_internet.head() # Просмотриваем таблицу"
   ]
  },
  {
   "cell_type": "code",
   "execution_count": 6,
   "id": "504f5e84",
   "metadata": {},
   "outputs": [
    {
     "name": "stdout",
     "output_type": "stream",
     "text": [
      "<class 'pandas.core.frame.DataFrame'>\n",
      "RangeIndex: 123036 entries, 0 to 123035\n",
      "Data columns (total 3 columns):\n",
      " #   Column        Non-Null Count   Dtype \n",
      "---  ------        --------------   ----- \n",
      " 0   id            123036 non-null  object\n",
      " 1   message_date  123036 non-null  object\n",
      " 2   user_id       123036 non-null  int64 \n",
      "dtypes: int64(1), object(2)\n",
      "memory usage: 2.8+ MB\n"
     ]
    }
   ],
   "source": [
    "data_messages = pd.read_csv('/datasets/messages.csv') # таблица messages\n",
    "data_messages.info()"
   ]
  },
  {
   "cell_type": "markdown",
   "id": "bb1853fe",
   "metadata": {},
   "source": [
    "Таблица messages (информация о сообщениях) состоит за 3 столбцов и 123036 сторок. Пропущенных значений нет. Таблица состоит из следующих столбцов:\n",
    "- id - уникальный номер сообщения;\n",
    "- message_date - дата сообщения;\n",
    "- user_id - идентификатор пользователя, отправившего сообщение."
   ]
  },
  {
   "cell_type": "code",
   "execution_count": 7,
   "id": "a0ea693d",
   "metadata": {},
   "outputs": [
    {
     "data": {
      "text/html": [
       "<div>\n",
       "<style scoped>\n",
       "    .dataframe tbody tr th:only-of-type {\n",
       "        vertical-align: middle;\n",
       "    }\n",
       "\n",
       "    .dataframe tbody tr th {\n",
       "        vertical-align: top;\n",
       "    }\n",
       "\n",
       "    .dataframe thead th {\n",
       "        text-align: right;\n",
       "    }\n",
       "</style>\n",
       "<table border=\"1\" class=\"dataframe\">\n",
       "  <thead>\n",
       "    <tr style=\"text-align: right;\">\n",
       "      <th></th>\n",
       "      <th>id</th>\n",
       "      <th>message_date</th>\n",
       "      <th>user_id</th>\n",
       "    </tr>\n",
       "  </thead>\n",
       "  <tbody>\n",
       "    <tr>\n",
       "      <th>0</th>\n",
       "      <td>1000_0</td>\n",
       "      <td>2018-06-27</td>\n",
       "      <td>1000</td>\n",
       "    </tr>\n",
       "    <tr>\n",
       "      <th>1</th>\n",
       "      <td>1000_1</td>\n",
       "      <td>2018-10-08</td>\n",
       "      <td>1000</td>\n",
       "    </tr>\n",
       "    <tr>\n",
       "      <th>2</th>\n",
       "      <td>1000_2</td>\n",
       "      <td>2018-08-04</td>\n",
       "      <td>1000</td>\n",
       "    </tr>\n",
       "    <tr>\n",
       "      <th>3</th>\n",
       "      <td>1000_3</td>\n",
       "      <td>2018-06-16</td>\n",
       "      <td>1000</td>\n",
       "    </tr>\n",
       "    <tr>\n",
       "      <th>4</th>\n",
       "      <td>1000_4</td>\n",
       "      <td>2018-12-05</td>\n",
       "      <td>1000</td>\n",
       "    </tr>\n",
       "  </tbody>\n",
       "</table>\n",
       "</div>"
      ],
      "text/plain": [
       "       id message_date  user_id\n",
       "0  1000_0   2018-06-27     1000\n",
       "1  1000_1   2018-10-08     1000\n",
       "2  1000_2   2018-08-04     1000\n",
       "3  1000_3   2018-06-16     1000\n",
       "4  1000_4   2018-12-05     1000"
      ]
     },
     "execution_count": 7,
     "metadata": {},
     "output_type": "execute_result"
    }
   ],
   "source": [
    "data_messages.head() # Просматриваем таблицу"
   ]
  },
  {
   "cell_type": "code",
   "execution_count": 8,
   "id": "3dc9f347",
   "metadata": {},
   "outputs": [
    {
     "name": "stdout",
     "output_type": "stream",
     "text": [
      "<class 'pandas.core.frame.DataFrame'>\n",
      "RangeIndex: 2 entries, 0 to 1\n",
      "Data columns (total 8 columns):\n",
      " #   Column                 Non-Null Count  Dtype \n",
      "---  ------                 --------------  ----- \n",
      " 0   messages_included      2 non-null      int64 \n",
      " 1   mb_per_month_included  2 non-null      int64 \n",
      " 2   minutes_included       2 non-null      int64 \n",
      " 3   rub_monthly_fee        2 non-null      int64 \n",
      " 4   rub_per_gb             2 non-null      int64 \n",
      " 5   rub_per_message        2 non-null      int64 \n",
      " 6   rub_per_minute         2 non-null      int64 \n",
      " 7   tariff_name            2 non-null      object\n",
      "dtypes: int64(7), object(1)\n",
      "memory usage: 256.0+ bytes\n"
     ]
    }
   ],
   "source": [
    "data_tariffs = pd.read_csv('/datasets/tariffs.csv') # таблица tariffs\n",
    "data_tariffs.info()"
   ]
  },
  {
   "cell_type": "markdown",
   "id": "cb7ef2f8",
   "metadata": {},
   "source": [
    "Таблица tariffs (информация о тарифах) состоит за 8 столбцов и 2 сторок. Пропущенных значений нет. Таблица состоит из следующих столбцов:\n",
    "- messages_included - количество сообщений в месяц включенных в абонентскую плату;\n",
    "- mb_per_month_included - объем интернет-трафика, включенного в абонентскую плату (в мегабайтах;\n",
    "- minutes_included - количество минут разговора в месяц, включенных в абонентскую плату;\n",
    "- rub_monthly_free - ежемесячная абонентская плата в рублях;\n",
    "- rub_per_gb - стоимость дополнительного гигабайта интернет трафика сверх тарифного пакета (1 гигабайт = 1024 мегабайт);\n",
    "- rub_per_message - стоимость отправки сообщения сверх траифного пакета;\n",
    "- rub_per_minute - стоимость минуты разговора сверх тарифного пакета (например, если в тарифе 100 минут разговора в месяц, то с 101 минуты будет взиматься плата);\n",
    "- tariff_name - название тарифа."
   ]
  },
  {
   "cell_type": "code",
   "execution_count": 9,
   "id": "041840f2",
   "metadata": {},
   "outputs": [
    {
     "data": {
      "text/html": [
       "<div>\n",
       "<style scoped>\n",
       "    .dataframe tbody tr th:only-of-type {\n",
       "        vertical-align: middle;\n",
       "    }\n",
       "\n",
       "    .dataframe tbody tr th {\n",
       "        vertical-align: top;\n",
       "    }\n",
       "\n",
       "    .dataframe thead th {\n",
       "        text-align: right;\n",
       "    }\n",
       "</style>\n",
       "<table border=\"1\" class=\"dataframe\">\n",
       "  <thead>\n",
       "    <tr style=\"text-align: right;\">\n",
       "      <th></th>\n",
       "      <th>messages_included</th>\n",
       "      <th>mb_per_month_included</th>\n",
       "      <th>minutes_included</th>\n",
       "      <th>rub_monthly_fee</th>\n",
       "      <th>rub_per_gb</th>\n",
       "      <th>rub_per_message</th>\n",
       "      <th>rub_per_minute</th>\n",
       "      <th>tariff_name</th>\n",
       "    </tr>\n",
       "  </thead>\n",
       "  <tbody>\n",
       "    <tr>\n",
       "      <th>0</th>\n",
       "      <td>50</td>\n",
       "      <td>15360</td>\n",
       "      <td>500</td>\n",
       "      <td>550</td>\n",
       "      <td>200</td>\n",
       "      <td>3</td>\n",
       "      <td>3</td>\n",
       "      <td>smart</td>\n",
       "    </tr>\n",
       "    <tr>\n",
       "      <th>1</th>\n",
       "      <td>1000</td>\n",
       "      <td>30720</td>\n",
       "      <td>3000</td>\n",
       "      <td>1950</td>\n",
       "      <td>150</td>\n",
       "      <td>1</td>\n",
       "      <td>1</td>\n",
       "      <td>ultra</td>\n",
       "    </tr>\n",
       "  </tbody>\n",
       "</table>\n",
       "</div>"
      ],
      "text/plain": [
       "   messages_included  mb_per_month_included  minutes_included  \\\n",
       "0                 50                  15360               500   \n",
       "1               1000                  30720              3000   \n",
       "\n",
       "   rub_monthly_fee  rub_per_gb  rub_per_message  rub_per_minute tariff_name  \n",
       "0              550         200                3               3       smart  \n",
       "1             1950         150                1               1       ultra  "
      ]
     },
     "execution_count": 9,
     "metadata": {},
     "output_type": "execute_result"
    }
   ],
   "source": [
    "data_tariffs.head() # Просмотриваем таблицу"
   ]
  },
  {
   "cell_type": "code",
   "execution_count": 10,
   "id": "33c8efa2",
   "metadata": {},
   "outputs": [
    {
     "name": "stdout",
     "output_type": "stream",
     "text": [
      "<class 'pandas.core.frame.DataFrame'>\n",
      "RangeIndex: 500 entries, 0 to 499\n",
      "Data columns (total 8 columns):\n",
      " #   Column      Non-Null Count  Dtype \n",
      "---  ------      --------------  ----- \n",
      " 0   user_id     500 non-null    int64 \n",
      " 1   age         500 non-null    int64 \n",
      " 2   churn_date  38 non-null     object\n",
      " 3   city        500 non-null    object\n",
      " 4   first_name  500 non-null    object\n",
      " 5   last_name   500 non-null    object\n",
      " 6   reg_date    500 non-null    object\n",
      " 7   tariff      500 non-null    object\n",
      "dtypes: int64(2), object(6)\n",
      "memory usage: 31.4+ KB\n"
     ]
    }
   ],
   "source": [
    "data_users = pd.read_csv('/datasets/users.csv') # таблица users\n",
    "data_users.info()"
   ]
  },
  {
   "cell_type": "markdown",
   "id": "509a551e",
   "metadata": {},
   "source": [
    "Таблица users (информация о пользователях) состоит за 8 столбцов и 500 сторок. Есть пропущенные значения - столбец churn_date. Это столбец с датой прекращения пользования тарифом и по условию в этом столбце занчение пропущено, если тариф еще действовал на момент выгрузки данных. Таблица состоит из следующих столбцов:\n",
    "- user_id - уникальный идентификатор пользователя;\n",
    "- first_name - имя пользователя;\n",
    "- last_name - фамилия пользователя;\n",
    "- age - возраст пользователя (годы);\n",
    "- reg_date - дата подключения тарифа (день, месяц, год);\n",
    "- churn_date - дата прекращения пользования тарифом (если значение пропущено, то тариф еще действовал на момент выгрузки данных);\n",
    "- city - город проживания пользователя;\n",
    "- tariff - название тарифного плана."
   ]
  },
  {
   "cell_type": "code",
   "execution_count": 11,
   "id": "2048c810",
   "metadata": {},
   "outputs": [
    {
     "data": {
      "text/html": [
       "<div>\n",
       "<style scoped>\n",
       "    .dataframe tbody tr th:only-of-type {\n",
       "        vertical-align: middle;\n",
       "    }\n",
       "\n",
       "    .dataframe tbody tr th {\n",
       "        vertical-align: top;\n",
       "    }\n",
       "\n",
       "    .dataframe thead th {\n",
       "        text-align: right;\n",
       "    }\n",
       "</style>\n",
       "<table border=\"1\" class=\"dataframe\">\n",
       "  <thead>\n",
       "    <tr style=\"text-align: right;\">\n",
       "      <th></th>\n",
       "      <th>user_id</th>\n",
       "      <th>age</th>\n",
       "      <th>churn_date</th>\n",
       "      <th>city</th>\n",
       "      <th>first_name</th>\n",
       "      <th>last_name</th>\n",
       "      <th>reg_date</th>\n",
       "      <th>tariff</th>\n",
       "    </tr>\n",
       "  </thead>\n",
       "  <tbody>\n",
       "    <tr>\n",
       "      <th>0</th>\n",
       "      <td>1000</td>\n",
       "      <td>52</td>\n",
       "      <td>NaN</td>\n",
       "      <td>Краснодар</td>\n",
       "      <td>Рафаил</td>\n",
       "      <td>Верещагин</td>\n",
       "      <td>2018-05-25</td>\n",
       "      <td>ultra</td>\n",
       "    </tr>\n",
       "    <tr>\n",
       "      <th>1</th>\n",
       "      <td>1001</td>\n",
       "      <td>41</td>\n",
       "      <td>NaN</td>\n",
       "      <td>Москва</td>\n",
       "      <td>Иван</td>\n",
       "      <td>Ежов</td>\n",
       "      <td>2018-11-01</td>\n",
       "      <td>smart</td>\n",
       "    </tr>\n",
       "    <tr>\n",
       "      <th>2</th>\n",
       "      <td>1002</td>\n",
       "      <td>59</td>\n",
       "      <td>NaN</td>\n",
       "      <td>Стерлитамак</td>\n",
       "      <td>Евгений</td>\n",
       "      <td>Абрамович</td>\n",
       "      <td>2018-06-17</td>\n",
       "      <td>smart</td>\n",
       "    </tr>\n",
       "    <tr>\n",
       "      <th>3</th>\n",
       "      <td>1003</td>\n",
       "      <td>23</td>\n",
       "      <td>NaN</td>\n",
       "      <td>Москва</td>\n",
       "      <td>Белла</td>\n",
       "      <td>Белякова</td>\n",
       "      <td>2018-08-17</td>\n",
       "      <td>ultra</td>\n",
       "    </tr>\n",
       "    <tr>\n",
       "      <th>4</th>\n",
       "      <td>1004</td>\n",
       "      <td>68</td>\n",
       "      <td>NaN</td>\n",
       "      <td>Новокузнецк</td>\n",
       "      <td>Татьяна</td>\n",
       "      <td>Авдеенко</td>\n",
       "      <td>2018-05-14</td>\n",
       "      <td>ultra</td>\n",
       "    </tr>\n",
       "  </tbody>\n",
       "</table>\n",
       "</div>"
      ],
      "text/plain": [
       "   user_id  age churn_date         city first_name  last_name    reg_date  \\\n",
       "0     1000   52        NaN    Краснодар     Рафаил  Верещагин  2018-05-25   \n",
       "1     1001   41        NaN       Москва       Иван       Ежов  2018-11-01   \n",
       "2     1002   59        NaN  Стерлитамак    Евгений  Абрамович  2018-06-17   \n",
       "3     1003   23        NaN       Москва      Белла   Белякова  2018-08-17   \n",
       "4     1004   68        NaN  Новокузнецк    Татьяна   Авдеенко  2018-05-14   \n",
       "\n",
       "  tariff  \n",
       "0  ultra  \n",
       "1  smart  \n",
       "2  smart  \n",
       "3  ultra  \n",
       "4  ultra  "
      ]
     },
     "execution_count": 11,
     "metadata": {},
     "output_type": "execute_result"
    }
   ],
   "source": [
    "data_users.head() # Просмотриваем таблицу"
   ]
  },
  {
   "cell_type": "markdown",
   "id": "612423e8",
   "metadata": {},
   "source": [
    "Проверяем на дубликаты в столбце user_id"
   ]
  },
  {
   "cell_type": "code",
   "execution_count": 12,
   "id": "26c6b1fe",
   "metadata": {},
   "outputs": [
    {
     "data": {
      "text/plain": [
       "0"
      ]
     },
     "execution_count": 12,
     "metadata": {},
     "output_type": "execute_result"
    }
   ],
   "source": [
    "data_users['user_id'].duplicated().sum()"
   ]
  },
  {
   "cell_type": "markdown",
   "id": "956b5df4",
   "metadata": {},
   "source": [
    "### Вывод:\n",
    "Есть проблемы в данных. Во всех таблицах надо менять типы данных в датах. Вещенный тип в количестве звонков, потреблении интернет-трафика, количество отправленных смс-сообщений, необходимо перевести в целый тип. Присутствуют пропуски в таблице churn_date и есть смысл их просто поменять на значение 0 (значит смены оператора не было). В соотвествии с трабованиями оператора необходимо округлить длительность звонков и потребление интерента до целого всегда в большую сторону."
   ]
  },
  {
   "cell_type": "markdown",
   "id": "3e81d7c5",
   "metadata": {},
   "source": [
    "## Подготовка данных"
   ]
  },
  {
   "cell_type": "markdown",
   "id": "fa0b3634",
   "metadata": {},
   "source": [
    "Во всех столбцах, в которых по условию находятся даты, меняем тип данных на date_time"
   ]
  },
  {
   "cell_type": "code",
   "execution_count": 13,
   "id": "a9e22690",
   "metadata": {},
   "outputs": [],
   "source": [
    "data_calls['call_date'] = pd.to_datetime(data_calls['call_date'], format='%Y-%m-%d')\n",
    "data_internet['session_date'] = pd.to_datetime(data_internet['session_date'], format='%Y-%m-%d')\n",
    "data_users['churn_date'] = pd.to_datetime(data_users['churn_date'], format='%Y-%m-%d')\n",
    "data_users['reg_date'] = pd.to_datetime(data_users['reg_date'], format='%Y-%m-%d')\n",
    "data_messages['message_date'] = pd.to_datetime(data_messages['message_date'], format='%Y-%m-%d')"
   ]
  },
  {
   "cell_type": "code",
   "execution_count": 14,
   "id": "73f2be0e",
   "metadata": {},
   "outputs": [
    {
     "data": {
      "text/plain": [
       "2"
      ]
     },
     "execution_count": 14,
     "metadata": {},
     "output_type": "execute_result"
    }
   ],
   "source": [
    "# Код ревьюера\n",
    "\n",
    "round(int(2.01) + 0.45)"
   ]
  },
  {
   "cell_type": "code",
   "execution_count": 15,
   "id": "e101d55d",
   "metadata": {},
   "outputs": [
    {
     "data": {
      "text/plain": [
       "0.00      19598\n",
       "335.91        9\n",
       "447.30        9\n",
       "197.56        9\n",
       "199.11        8\n",
       "          ...  \n",
       "182.69        1\n",
       "726.03        1\n",
       "315.12        1\n",
       "898.99        1\n",
       "677.66        1\n",
       "Name: mb_used, Length: 70003, dtype: int64"
      ]
     },
     "execution_count": 15,
     "metadata": {},
     "output_type": "execute_result"
    }
   ],
   "source": [
    "data_internet['mb_used'].value_counts() # Проверяем получилось или нет"
   ]
  },
  {
   "cell_type": "code",
   "execution_count": 16,
   "id": "326b6bf2",
   "metadata": {},
   "outputs": [],
   "source": [
    "data_calls = data_calls.query('duration > 0') # Избавляемся от 0, т.к. это недозвоны."
   ]
  },
  {
   "cell_type": "code",
   "execution_count": 17,
   "id": "a1b1fb02",
   "metadata": {},
   "outputs": [],
   "source": [
    "data_calls['duration'] = data_calls['duration'].apply(np.ceil) # Все значения округляем до большего целого"
   ]
  },
  {
   "cell_type": "code",
   "execution_count": 18,
   "id": "85e1006a",
   "metadata": {},
   "outputs": [
    {
     "data": {
      "text/plain": [
       "7.0     11510\n",
       "6.0     11457\n",
       "5.0     11411\n",
       "8.0     11272\n",
       "9.0     10973\n",
       "4.0     10918\n",
       "3.0     10362\n",
       "10.0    10186\n",
       "11.0     9385\n",
       "2.0      9194\n",
       "12.0     8448\n",
       "1.0      8402\n",
       "13.0     7486\n",
       "14.0     6554\n",
       "15.0     5505\n",
       "16.0     4551\n",
       "17.0     3671\n",
       "18.0     2984\n",
       "19.0     2411\n",
       "20.0     1806\n",
       "21.0     1304\n",
       "22.0      975\n",
       "23.0      720\n",
       "24.0      468\n",
       "25.0      363\n",
       "26.0      257\n",
       "27.0      151\n",
       "28.0      104\n",
       "29.0       56\n",
       "30.0       39\n",
       "31.0       30\n",
       "32.0       17\n",
       "33.0       10\n",
       "35.0        5\n",
       "34.0        3\n",
       "36.0        2\n",
       "38.0        2\n",
       "37.0        2\n",
       "Name: duration, dtype: int64"
      ]
     },
     "execution_count": 18,
     "metadata": {},
     "output_type": "execute_result"
    }
   ],
   "source": [
    "data_calls['duration'].value_counts() # Проверяем получилось или нет"
   ]
  },
  {
   "cell_type": "code",
   "execution_count": 19,
   "id": "1c284fac",
   "metadata": {},
   "outputs": [
    {
     "data": {
      "text/plain": [
       "<AxesSubplot:>"
      ]
     },
     "execution_count": 19,
     "metadata": {},
     "output_type": "execute_result"
    },
    {
     "data": {
      "image/png": "[encoded data removed]",
      "text/plain": [
       "<Figure size 432x288 with 1 Axes>"
      ]
     },
     "metadata": {
      "needs_background": "light"
     },
     "output_type": "display_data"
    }
   ],
   "source": [
    "data_calls['duration'].hist(bins=30) # Строим гистограмму всех звонков"
   ]
  },
  {
   "cell_type": "markdown",
   "id": "dd8451e0",
   "metadata": {},
   "source": [
    "По гистограмме видно, что больше всего звонков длительностью около 1 минуты, 6 минут и 11 минут."
   ]
  },
  {
   "cell_type": "markdown",
   "id": "a4dbc821",
   "metadata": {},
   "source": [
    "Создаем в датасет звонков отдельный столбце с месяцем звонка, который нам необходим для группировки. <font color='blue'>Также выделим и год, для того, чтобы все данные точно за одни 2018 год </font>"
   ]
  },
  {
   "cell_type": "code",
   "execution_count": 20,
   "id": "22aac620",
   "metadata": {},
   "outputs": [],
   "source": [
    "data_calls['month'] = data_calls['call_date'].dt.month"
   ]
  },
  {
   "cell_type": "code",
   "execution_count": 21,
   "id": "d2912127",
   "metadata": {},
   "outputs": [],
   "source": [
    "data_calls['year'] = data_calls['call_date'].dt.year"
   ]
  },
  {
   "cell_type": "code",
   "execution_count": 22,
   "id": "d4569694",
   "metadata": {},
   "outputs": [
    {
     "data": {
      "text/plain": [
       "2018    162994\n",
       "Name: year, dtype: int64"
      ]
     },
     "execution_count": 22,
     "metadata": {},
     "output_type": "execute_result"
    }
   ],
   "source": [
    "data_calls['year'].value_counts()"
   ]
  },
  {
   "cell_type": "markdown",
   "id": "89e74336",
   "metadata": {},
   "source": [
    "<font color='blue'> Все в порядке, все данные относятся к одному году, удаляем ненужный столбец</font>"
   ]
  },
  {
   "cell_type": "code",
   "execution_count": 23,
   "id": "788ce26b",
   "metadata": {},
   "outputs": [
    {
     "data": {
      "text/html": [
       "<div>\n",
       "<style scoped>\n",
       "    .dataframe tbody tr th:only-of-type {\n",
       "        vertical-align: middle;\n",
       "    }\n",
       "\n",
       "    .dataframe tbody tr th {\n",
       "        vertical-align: top;\n",
       "    }\n",
       "\n",
       "    .dataframe thead th {\n",
       "        text-align: right;\n",
       "    }\n",
       "</style>\n",
       "<table border=\"1\" class=\"dataframe\">\n",
       "  <thead>\n",
       "    <tr style=\"text-align: right;\">\n",
       "      <th></th>\n",
       "      <th>id</th>\n",
       "      <th>call_date</th>\n",
       "      <th>duration</th>\n",
       "      <th>user_id</th>\n",
       "      <th>month</th>\n",
       "    </tr>\n",
       "  </thead>\n",
       "  <tbody>\n",
       "    <tr>\n",
       "      <th>2</th>\n",
       "      <td>1000_2</td>\n",
       "      <td>2018-06-11</td>\n",
       "      <td>3.0</td>\n",
       "      <td>1000</td>\n",
       "      <td>6</td>\n",
       "    </tr>\n",
       "    <tr>\n",
       "      <th>3</th>\n",
       "      <td>1000_3</td>\n",
       "      <td>2018-09-21</td>\n",
       "      <td>14.0</td>\n",
       "      <td>1000</td>\n",
       "      <td>9</td>\n",
       "    </tr>\n",
       "    <tr>\n",
       "      <th>4</th>\n",
       "      <td>1000_4</td>\n",
       "      <td>2018-12-15</td>\n",
       "      <td>6.0</td>\n",
       "      <td>1000</td>\n",
       "      <td>12</td>\n",
       "    </tr>\n",
       "    <tr>\n",
       "      <th>7</th>\n",
       "      <td>1000_7</td>\n",
       "      <td>2018-08-22</td>\n",
       "      <td>19.0</td>\n",
       "      <td>1000</td>\n",
       "      <td>8</td>\n",
       "    </tr>\n",
       "    <tr>\n",
       "      <th>8</th>\n",
       "      <td>1000_8</td>\n",
       "      <td>2018-09-15</td>\n",
       "      <td>19.0</td>\n",
       "      <td>1000</td>\n",
       "      <td>9</td>\n",
       "    </tr>\n",
       "  </tbody>\n",
       "</table>\n",
       "</div>"
      ],
      "text/plain": [
       "       id  call_date  duration  user_id  month\n",
       "2  1000_2 2018-06-11       3.0     1000      6\n",
       "3  1000_3 2018-09-21      14.0     1000      9\n",
       "4  1000_4 2018-12-15       6.0     1000     12\n",
       "7  1000_7 2018-08-22      19.0     1000      8\n",
       "8  1000_8 2018-09-15      19.0     1000      9"
      ]
     },
     "execution_count": 23,
     "metadata": {},
     "output_type": "execute_result"
    }
   ],
   "source": [
    "del data_calls['year']\n",
    "data_calls.head() # Проверяем"
   ]
  },
  {
   "cell_type": "markdown",
   "id": "5ad254fc",
   "metadata": {},
   "source": [
    "Создадим сводную таблицу по месяцам и звонкам"
   ]
  },
  {
   "cell_type": "code",
   "execution_count": 24,
   "id": "44b786f9",
   "metadata": {},
   "outputs": [
    {
     "data": {
      "text/html": [
       "<div>\n",
       "<style scoped>\n",
       "    .dataframe tbody tr th:only-of-type {\n",
       "        vertical-align: middle;\n",
       "    }\n",
       "\n",
       "    .dataframe tbody tr th {\n",
       "        vertical-align: top;\n",
       "    }\n",
       "\n",
       "    .dataframe thead th {\n",
       "        text-align: right;\n",
       "    }\n",
       "</style>\n",
       "<table border=\"1\" class=\"dataframe\">\n",
       "  <thead>\n",
       "    <tr style=\"text-align: right;\">\n",
       "      <th></th>\n",
       "      <th></th>\n",
       "      <th>duration</th>\n",
       "    </tr>\n",
       "    <tr>\n",
       "      <th>month</th>\n",
       "      <th>user_id</th>\n",
       "      <th></th>\n",
       "    </tr>\n",
       "  </thead>\n",
       "  <tbody>\n",
       "    <tr>\n",
       "      <th rowspan=\"5\" valign=\"top\">1</th>\n",
       "      <th>1005</th>\n",
       "      <td>95.0</td>\n",
       "    </tr>\n",
       "    <tr>\n",
       "      <th>1032</th>\n",
       "      <td>380.0</td>\n",
       "    </tr>\n",
       "    <tr>\n",
       "      <th>1045</th>\n",
       "      <td>9.0</td>\n",
       "    </tr>\n",
       "    <tr>\n",
       "      <th>1055</th>\n",
       "      <td>551.0</td>\n",
       "    </tr>\n",
       "    <tr>\n",
       "      <th>1071</th>\n",
       "      <td>194.0</td>\n",
       "    </tr>\n",
       "    <tr>\n",
       "      <th>...</th>\n",
       "      <th>...</th>\n",
       "      <td>...</td>\n",
       "    </tr>\n",
       "    <tr>\n",
       "      <th rowspan=\"5\" valign=\"top\">12</th>\n",
       "      <th>1494</th>\n",
       "      <td>418.0</td>\n",
       "    </tr>\n",
       "    <tr>\n",
       "      <th>1495</th>\n",
       "      <td>1031.0</td>\n",
       "    </tr>\n",
       "    <tr>\n",
       "      <th>1496</th>\n",
       "      <td>518.0</td>\n",
       "    </tr>\n",
       "    <tr>\n",
       "      <th>1497</th>\n",
       "      <td>545.0</td>\n",
       "    </tr>\n",
       "    <tr>\n",
       "      <th>1499</th>\n",
       "      <td>492.0</td>\n",
       "    </tr>\n",
       "  </tbody>\n",
       "</table>\n",
       "<p>3168 rows × 1 columns</p>\n",
       "</div>"
      ],
      "text/plain": [
       "               duration\n",
       "month user_id          \n",
       "1     1005         95.0\n",
       "      1032        380.0\n",
       "      1045          9.0\n",
       "      1055        551.0\n",
       "      1071        194.0\n",
       "...                 ...\n",
       "12    1494        418.0\n",
       "      1495       1031.0\n",
       "      1496        518.0\n",
       "      1497        545.0\n",
       "      1499        492.0\n",
       "\n",
       "[3168 rows x 1 columns]"
      ]
     },
     "execution_count": 24,
     "metadata": {},
     "output_type": "execute_result"
    }
   ],
   "source": [
    "group_calls = data_calls.pivot_table(index=['month', 'user_id'], values='duration', aggfunc=('sum'))\n",
    "group_calls"
   ]
  },
  {
   "cell_type": "markdown",
   "id": "78be7af8",
   "metadata": {},
   "source": [
    "Создаем в датасет сообщений отдельный столбце с месяцем в котором было отправлено сообщение, который нам необходим для группировки."
   ]
  },
  {
   "cell_type": "code",
   "execution_count": 25,
   "id": "da2bd881",
   "metadata": {},
   "outputs": [],
   "source": [
    "data_messages['month'] = data_messages['message_date'].dt.month"
   ]
  },
  {
   "cell_type": "markdown",
   "id": "03718c07",
   "metadata": {},
   "source": [
    "Создадим сводную таблицу по месяцам и отправленным сообщениям"
   ]
  },
  {
   "cell_type": "code",
   "execution_count": 26,
   "id": "c0df7d42",
   "metadata": {},
   "outputs": [
    {
     "data": {
      "text/html": [
       "<div>\n",
       "<style scoped>\n",
       "    .dataframe tbody tr th:only-of-type {\n",
       "        vertical-align: middle;\n",
       "    }\n",
       "\n",
       "    .dataframe tbody tr th {\n",
       "        vertical-align: top;\n",
       "    }\n",
       "\n",
       "    .dataframe thead th {\n",
       "        text-align: right;\n",
       "    }\n",
       "</style>\n",
       "<table border=\"1\" class=\"dataframe\">\n",
       "  <thead>\n",
       "    <tr style=\"text-align: right;\">\n",
       "      <th></th>\n",
       "      <th></th>\n",
       "      <th>message_date</th>\n",
       "    </tr>\n",
       "    <tr>\n",
       "      <th>month</th>\n",
       "      <th>user_id</th>\n",
       "      <th></th>\n",
       "    </tr>\n",
       "  </thead>\n",
       "  <tbody>\n",
       "    <tr>\n",
       "      <th rowspan=\"5\" valign=\"top\">1</th>\n",
       "      <th>1005</th>\n",
       "      <td>7</td>\n",
       "    </tr>\n",
       "    <tr>\n",
       "      <th>1032</th>\n",
       "      <td>38</td>\n",
       "    </tr>\n",
       "    <tr>\n",
       "      <th>1045</th>\n",
       "      <td>5</td>\n",
       "    </tr>\n",
       "    <tr>\n",
       "      <th>1055</th>\n",
       "      <td>30</td>\n",
       "    </tr>\n",
       "    <tr>\n",
       "      <th>1071</th>\n",
       "      <td>16</td>\n",
       "    </tr>\n",
       "    <tr>\n",
       "      <th>...</th>\n",
       "      <th>...</th>\n",
       "      <td>...</td>\n",
       "    </tr>\n",
       "    <tr>\n",
       "      <th rowspan=\"5\" valign=\"top\">12</th>\n",
       "      <th>1493</th>\n",
       "      <td>78</td>\n",
       "    </tr>\n",
       "    <tr>\n",
       "      <th>1495</th>\n",
       "      <td>84</td>\n",
       "    </tr>\n",
       "    <tr>\n",
       "      <th>1496</th>\n",
       "      <td>51</td>\n",
       "    </tr>\n",
       "    <tr>\n",
       "      <th>1497</th>\n",
       "      <td>17</td>\n",
       "    </tr>\n",
       "    <tr>\n",
       "      <th>1499</th>\n",
       "      <td>66</td>\n",
       "    </tr>\n",
       "  </tbody>\n",
       "</table>\n",
       "<p>2717 rows × 1 columns</p>\n",
       "</div>"
      ],
      "text/plain": [
       "               message_date\n",
       "month user_id              \n",
       "1     1005                7\n",
       "      1032               38\n",
       "      1045                5\n",
       "      1055               30\n",
       "      1071               16\n",
       "...                     ...\n",
       "12    1493               78\n",
       "      1495               84\n",
       "      1496               51\n",
       "      1497               17\n",
       "      1499               66\n",
       "\n",
       "[2717 rows x 1 columns]"
      ]
     },
     "execution_count": 26,
     "metadata": {},
     "output_type": "execute_result"
    }
   ],
   "source": [
    "group_messages = data_messages.pivot_table(index=['month', 'user_id'], values='message_date', aggfunc=('count'))\n",
    "group_messages"
   ]
  },
  {
   "cell_type": "markdown",
   "id": "c4207e22",
   "metadata": {},
   "source": [
    "Объединяем две сводные таблицы звонков и сообщений"
   ]
  },
  {
   "cell_type": "code",
   "execution_count": 27,
   "id": "c7a40961",
   "metadata": {},
   "outputs": [
    {
     "data": {
      "text/html": [
       "<div>\n",
       "<style scoped>\n",
       "    .dataframe tbody tr th:only-of-type {\n",
       "        vertical-align: middle;\n",
       "    }\n",
       "\n",
       "    .dataframe tbody tr th {\n",
       "        vertical-align: top;\n",
       "    }\n",
       "\n",
       "    .dataframe thead th {\n",
       "        text-align: right;\n",
       "    }\n",
       "</style>\n",
       "<table border=\"1\" class=\"dataframe\">\n",
       "  <thead>\n",
       "    <tr style=\"text-align: right;\">\n",
       "      <th></th>\n",
       "      <th></th>\n",
       "      <th>message_date</th>\n",
       "      <th>duration</th>\n",
       "    </tr>\n",
       "    <tr>\n",
       "      <th>user_id</th>\n",
       "      <th>month</th>\n",
       "      <th></th>\n",
       "      <th></th>\n",
       "    </tr>\n",
       "  </thead>\n",
       "  <tbody>\n",
       "    <tr>\n",
       "      <th>1005</th>\n",
       "      <th>1</th>\n",
       "      <td>7.0</td>\n",
       "      <td>95.0</td>\n",
       "    </tr>\n",
       "    <tr>\n",
       "      <th>1032</th>\n",
       "      <th>1</th>\n",
       "      <td>38.0</td>\n",
       "      <td>380.0</td>\n",
       "    </tr>\n",
       "    <tr>\n",
       "      <th>1045</th>\n",
       "      <th>1</th>\n",
       "      <td>5.0</td>\n",
       "      <td>9.0</td>\n",
       "    </tr>\n",
       "    <tr>\n",
       "      <th>1055</th>\n",
       "      <th>1</th>\n",
       "      <td>30.0</td>\n",
       "      <td>551.0</td>\n",
       "    </tr>\n",
       "    <tr>\n",
       "      <th>1071</th>\n",
       "      <th>1</th>\n",
       "      <td>16.0</td>\n",
       "      <td>194.0</td>\n",
       "    </tr>\n",
       "    <tr>\n",
       "      <th>...</th>\n",
       "      <th>...</th>\n",
       "      <td>...</td>\n",
       "      <td>...</td>\n",
       "    </tr>\n",
       "    <tr>\n",
       "      <th>1462</th>\n",
       "      <th>12</th>\n",
       "      <td>NaN</td>\n",
       "      <td>878.0</td>\n",
       "    </tr>\n",
       "    <tr>\n",
       "      <th>1466</th>\n",
       "      <th>12</th>\n",
       "      <td>NaN</td>\n",
       "      <td>659.0</td>\n",
       "    </tr>\n",
       "    <tr>\n",
       "      <th>1469</th>\n",
       "      <th>12</th>\n",
       "      <td>NaN</td>\n",
       "      <td>635.0</td>\n",
       "    </tr>\n",
       "    <tr>\n",
       "      <th>1479</th>\n",
       "      <th>12</th>\n",
       "      <td>NaN</td>\n",
       "      <td>576.0</td>\n",
       "    </tr>\n",
       "    <tr>\n",
       "      <th>1494</th>\n",
       "      <th>12</th>\n",
       "      <td>NaN</td>\n",
       "      <td>418.0</td>\n",
       "    </tr>\n",
       "  </tbody>\n",
       "</table>\n",
       "<p>3212 rows × 2 columns</p>\n",
       "</div>"
      ],
      "text/plain": [
       "               message_date  duration\n",
       "user_id month                        \n",
       "1005    1               7.0      95.0\n",
       "1032    1              38.0     380.0\n",
       "1045    1               5.0       9.0\n",
       "1055    1              30.0     551.0\n",
       "1071    1              16.0     194.0\n",
       "...                     ...       ...\n",
       "1462    12              NaN     878.0\n",
       "1466    12              NaN     659.0\n",
       "1469    12              NaN     635.0\n",
       "1479    12              NaN     576.0\n",
       "1494    12              NaN     418.0\n",
       "\n",
       "[3212 rows x 2 columns]"
      ]
     },
     "execution_count": 27,
     "metadata": {},
     "output_type": "execute_result"
    }
   ],
   "source": [
    "group_messages_calls = group_messages.merge(group_calls, on=['user_id', 'month'], how='outer')\n",
    "group_messages_calls"
   ]
  },
  {
   "cell_type": "markdown",
   "id": "6923a3c7",
   "metadata": {},
   "source": [
    "Создаем в датасет интернета отдельный столбце с месяцем в котором было потрацен трафик, который нам необходим для группировки."
   ]
  },
  {
   "cell_type": "code",
   "execution_count": 28,
   "id": "a3db8ef8",
   "metadata": {},
   "outputs": [],
   "source": [
    "data_internet['month'] = data_internet['session_date'].dt.month"
   ]
  },
  {
   "cell_type": "markdown",
   "id": "ffce7820",
   "metadata": {},
   "source": [
    "Создаем сводную таблицу использования интернет-трафика по месяцам"
   ]
  },
  {
   "cell_type": "code",
   "execution_count": 29,
   "id": "f26f8320",
   "metadata": {},
   "outputs": [
    {
     "data": {
      "text/html": [
       "<div>\n",
       "<style scoped>\n",
       "    .dataframe tbody tr th:only-of-type {\n",
       "        vertical-align: middle;\n",
       "    }\n",
       "\n",
       "    .dataframe tbody tr th {\n",
       "        vertical-align: top;\n",
       "    }\n",
       "\n",
       "    .dataframe thead th {\n",
       "        text-align: right;\n",
       "    }\n",
       "</style>\n",
       "<table border=\"1\" class=\"dataframe\">\n",
       "  <thead>\n",
       "    <tr style=\"text-align: right;\">\n",
       "      <th></th>\n",
       "      <th></th>\n",
       "      <th>mb_used</th>\n",
       "    </tr>\n",
       "    <tr>\n",
       "      <th>month</th>\n",
       "      <th>user_id</th>\n",
       "      <th></th>\n",
       "    </tr>\n",
       "  </thead>\n",
       "  <tbody>\n",
       "    <tr>\n",
       "      <th rowspan=\"5\" valign=\"top\">1</th>\n",
       "      <th>1005</th>\n",
       "      <td>2727.97</td>\n",
       "    </tr>\n",
       "    <tr>\n",
       "      <th>1032</th>\n",
       "      <td>24127.69</td>\n",
       "    </tr>\n",
       "    <tr>\n",
       "      <th>1045</th>\n",
       "      <td>2346.71</td>\n",
       "    </tr>\n",
       "    <tr>\n",
       "      <th>1055</th>\n",
       "      <td>17090.88</td>\n",
       "    </tr>\n",
       "    <tr>\n",
       "      <th>1071</th>\n",
       "      <td>15604.34</td>\n",
       "    </tr>\n",
       "    <tr>\n",
       "      <th>...</th>\n",
       "      <th>...</th>\n",
       "      <td>...</td>\n",
       "    </tr>\n",
       "    <tr>\n",
       "      <th rowspan=\"5\" valign=\"top\">12</th>\n",
       "      <th>1494</th>\n",
       "      <td>17621.21</td>\n",
       "    </tr>\n",
       "    <tr>\n",
       "      <th>1495</th>\n",
       "      <td>23426.76</td>\n",
       "    </tr>\n",
       "    <tr>\n",
       "      <th>1496</th>\n",
       "      <td>20736.15</td>\n",
       "    </tr>\n",
       "    <tr>\n",
       "      <th>1497</th>\n",
       "      <td>19918.60</td>\n",
       "    </tr>\n",
       "    <tr>\n",
       "      <th>1499</th>\n",
       "      <td>13055.58</td>\n",
       "    </tr>\n",
       "  </tbody>\n",
       "</table>\n",
       "<p>3203 rows × 1 columns</p>\n",
       "</div>"
      ],
      "text/plain": [
       "                mb_used\n",
       "month user_id          \n",
       "1     1005      2727.97\n",
       "      1032     24127.69\n",
       "      1045      2346.71\n",
       "      1055     17090.88\n",
       "      1071     15604.34\n",
       "...                 ...\n",
       "12    1494     17621.21\n",
       "      1495     23426.76\n",
       "      1496     20736.15\n",
       "      1497     19918.60\n",
       "      1499     13055.58\n",
       "\n",
       "[3203 rows x 1 columns]"
      ]
     },
     "execution_count": 29,
     "metadata": {},
     "output_type": "execute_result"
    }
   ],
   "source": [
    "group_internet = data_internet.pivot_table(index=['month', 'user_id'], values='mb_used', aggfunc=('sum'))\n",
    "group_internet"
   ]
  },
  {
   "cell_type": "markdown",
   "id": "8d981031",
   "metadata": {},
   "source": [
    "Объединяем сводные таблицы звонков-сообщений и интернета"
   ]
  },
  {
   "cell_type": "code",
   "execution_count": 30,
   "id": "85d31ac9",
   "metadata": {},
   "outputs": [
    {
     "data": {
      "text/html": [
       "<div>\n",
       "<style scoped>\n",
       "    .dataframe tbody tr th:only-of-type {\n",
       "        vertical-align: middle;\n",
       "    }\n",
       "\n",
       "    .dataframe tbody tr th {\n",
       "        vertical-align: top;\n",
       "    }\n",
       "\n",
       "    .dataframe thead th {\n",
       "        text-align: right;\n",
       "    }\n",
       "</style>\n",
       "<table border=\"1\" class=\"dataframe\">\n",
       "  <thead>\n",
       "    <tr style=\"text-align: right;\">\n",
       "      <th></th>\n",
       "      <th></th>\n",
       "      <th>message_date</th>\n",
       "      <th>duration</th>\n",
       "      <th>mb_used</th>\n",
       "    </tr>\n",
       "    <tr>\n",
       "      <th>user_id</th>\n",
       "      <th>month</th>\n",
       "      <th></th>\n",
       "      <th></th>\n",
       "      <th></th>\n",
       "    </tr>\n",
       "  </thead>\n",
       "  <tbody>\n",
       "    <tr>\n",
       "      <th>1005</th>\n",
       "      <th>1</th>\n",
       "      <td>7.0</td>\n",
       "      <td>95.0</td>\n",
       "      <td>2727.97</td>\n",
       "    </tr>\n",
       "    <tr>\n",
       "      <th>1032</th>\n",
       "      <th>1</th>\n",
       "      <td>38.0</td>\n",
       "      <td>380.0</td>\n",
       "      <td>24127.69</td>\n",
       "    </tr>\n",
       "    <tr>\n",
       "      <th>1045</th>\n",
       "      <th>1</th>\n",
       "      <td>5.0</td>\n",
       "      <td>9.0</td>\n",
       "      <td>2346.71</td>\n",
       "    </tr>\n",
       "    <tr>\n",
       "      <th>1055</th>\n",
       "      <th>1</th>\n",
       "      <td>30.0</td>\n",
       "      <td>551.0</td>\n",
       "      <td>17090.88</td>\n",
       "    </tr>\n",
       "    <tr>\n",
       "      <th>1071</th>\n",
       "      <th>1</th>\n",
       "      <td>16.0</td>\n",
       "      <td>194.0</td>\n",
       "      <td>15604.34</td>\n",
       "    </tr>\n",
       "    <tr>\n",
       "      <th>...</th>\n",
       "      <th>...</th>\n",
       "      <td>...</td>\n",
       "      <td>...</td>\n",
       "      <td>...</td>\n",
       "    </tr>\n",
       "    <tr>\n",
       "      <th>1469</th>\n",
       "      <th>12</th>\n",
       "      <td>NaN</td>\n",
       "      <td>635.0</td>\n",
       "      <td>27762.83</td>\n",
       "    </tr>\n",
       "    <tr>\n",
       "      <th>1479</th>\n",
       "      <th>12</th>\n",
       "      <td>NaN</td>\n",
       "      <td>576.0</td>\n",
       "      <td>23425.98</td>\n",
       "    </tr>\n",
       "    <tr>\n",
       "      <th>1494</th>\n",
       "      <th>12</th>\n",
       "      <td>NaN</td>\n",
       "      <td>418.0</td>\n",
       "      <td>17621.21</td>\n",
       "    </tr>\n",
       "    <tr>\n",
       "      <th>1240</th>\n",
       "      <th>2</th>\n",
       "      <td>NaN</td>\n",
       "      <td>NaN</td>\n",
       "      <td>959.51</td>\n",
       "    </tr>\n",
       "    <tr>\n",
       "      <th>1476</th>\n",
       "      <th>4</th>\n",
       "      <td>NaN</td>\n",
       "      <td>NaN</td>\n",
       "      <td>530.78</td>\n",
       "    </tr>\n",
       "  </tbody>\n",
       "</table>\n",
       "<p>3214 rows × 3 columns</p>\n",
       "</div>"
      ],
      "text/plain": [
       "               message_date  duration   mb_used\n",
       "user_id month                                  \n",
       "1005    1               7.0      95.0   2727.97\n",
       "1032    1              38.0     380.0  24127.69\n",
       "1045    1               5.0       9.0   2346.71\n",
       "1055    1              30.0     551.0  17090.88\n",
       "1071    1              16.0     194.0  15604.34\n",
       "...                     ...       ...       ...\n",
       "1469    12              NaN     635.0  27762.83\n",
       "1479    12              NaN     576.0  23425.98\n",
       "1494    12              NaN     418.0  17621.21\n",
       "1240    2               NaN       NaN    959.51\n",
       "1476    4               NaN       NaN    530.78\n",
       "\n",
       "[3214 rows x 3 columns]"
      ]
     },
     "execution_count": 30,
     "metadata": {},
     "output_type": "execute_result"
    }
   ],
   "source": [
    "group_all = group_messages_calls.merge(group_internet, on=['user_id', 'month'], how='outer')\n",
    "group_all"
   ]
  },
  {
   "cell_type": "markdown",
   "id": "aa7313c5",
   "metadata": {},
   "source": [
    "Cоздаем в датасет информации о пользователях отдельный столбце с месяцем в котором пользователь зарегистраровался на данном тарифе, который нам необходим для группировки."
   ]
  },
  {
   "cell_type": "code",
   "execution_count": 31,
   "id": "007c8c0b",
   "metadata": {},
   "outputs": [],
   "source": [
    "data_users['month'] = data_users['reg_date'].dt.month"
   ]
  },
  {
   "cell_type": "markdown",
   "id": "01d4ffce",
   "metadata": {},
   "source": [
    "Объединяем таблицы звонки-сообщения-интернет с таблицей информации о пользователях"
   ]
  },
  {
   "cell_type": "code",
   "execution_count": 32,
   "id": "e2f0ea2c",
   "metadata": {},
   "outputs": [
    {
     "data": {
      "text/html": [
       "<div>\n",
       "<style scoped>\n",
       "    .dataframe tbody tr th:only-of-type {\n",
       "        vertical-align: middle;\n",
       "    }\n",
       "\n",
       "    .dataframe tbody tr th {\n",
       "        vertical-align: top;\n",
       "    }\n",
       "\n",
       "    .dataframe thead th {\n",
       "        text-align: right;\n",
       "    }\n",
       "</style>\n",
       "<table border=\"1\" class=\"dataframe\">\n",
       "  <thead>\n",
       "    <tr style=\"text-align: right;\">\n",
       "      <th></th>\n",
       "      <th>user_id</th>\n",
       "      <th>message_date</th>\n",
       "      <th>duration</th>\n",
       "      <th>mb_used</th>\n",
       "      <th>age</th>\n",
       "      <th>churn_date</th>\n",
       "      <th>city</th>\n",
       "      <th>first_name</th>\n",
       "      <th>last_name</th>\n",
       "      <th>reg_date</th>\n",
       "      <th>tariff</th>\n",
       "      <th>month</th>\n",
       "    </tr>\n",
       "  </thead>\n",
       "  <tbody>\n",
       "    <tr>\n",
       "      <th>0</th>\n",
       "      <td>1005</td>\n",
       "      <td>7.0</td>\n",
       "      <td>95.0</td>\n",
       "      <td>2727.97</td>\n",
       "      <td>67</td>\n",
       "      <td>NaT</td>\n",
       "      <td>Набережные Челны</td>\n",
       "      <td>Афанасий</td>\n",
       "      <td>Горлов</td>\n",
       "      <td>2018-01-25</td>\n",
       "      <td>smart</td>\n",
       "      <td>1</td>\n",
       "    </tr>\n",
       "    <tr>\n",
       "      <th>1</th>\n",
       "      <td>1005</td>\n",
       "      <td>38.0</td>\n",
       "      <td>456.0</td>\n",
       "      <td>7383.93</td>\n",
       "      <td>67</td>\n",
       "      <td>NaT</td>\n",
       "      <td>Набережные Челны</td>\n",
       "      <td>Афанасий</td>\n",
       "      <td>Горлов</td>\n",
       "      <td>2018-01-25</td>\n",
       "      <td>smart</td>\n",
       "      <td>1</td>\n",
       "    </tr>\n",
       "    <tr>\n",
       "      <th>2</th>\n",
       "      <td>1005</td>\n",
       "      <td>56.0</td>\n",
       "      <td>606.0</td>\n",
       "      <td>11104.25</td>\n",
       "      <td>67</td>\n",
       "      <td>NaT</td>\n",
       "      <td>Набережные Челны</td>\n",
       "      <td>Афанасий</td>\n",
       "      <td>Горлов</td>\n",
       "      <td>2018-01-25</td>\n",
       "      <td>smart</td>\n",
       "      <td>1</td>\n",
       "    </tr>\n",
       "    <tr>\n",
       "      <th>3</th>\n",
       "      <td>1005</td>\n",
       "      <td>41.0</td>\n",
       "      <td>712.0</td>\n",
       "      <td>9351.72</td>\n",
       "      <td>67</td>\n",
       "      <td>NaT</td>\n",
       "      <td>Набережные Челны</td>\n",
       "      <td>Афанасий</td>\n",
       "      <td>Горлов</td>\n",
       "      <td>2018-01-25</td>\n",
       "      <td>smart</td>\n",
       "      <td>1</td>\n",
       "    </tr>\n",
       "    <tr>\n",
       "      <th>4</th>\n",
       "      <td>1005</td>\n",
       "      <td>42.0</td>\n",
       "      <td>595.0</td>\n",
       "      <td>7865.53</td>\n",
       "      <td>67</td>\n",
       "      <td>NaT</td>\n",
       "      <td>Набережные Челны</td>\n",
       "      <td>Афанасий</td>\n",
       "      <td>Горлов</td>\n",
       "      <td>2018-01-25</td>\n",
       "      <td>smart</td>\n",
       "      <td>1</td>\n",
       "    </tr>\n",
       "    <tr>\n",
       "      <th>...</th>\n",
       "      <td>...</td>\n",
       "      <td>...</td>\n",
       "      <td>...</td>\n",
       "      <td>...</td>\n",
       "      <td>...</td>\n",
       "      <td>...</td>\n",
       "      <td>...</td>\n",
       "      <td>...</td>\n",
       "      <td>...</td>\n",
       "      <td>...</td>\n",
       "      <td>...</td>\n",
       "      <td>...</td>\n",
       "    </tr>\n",
       "    <tr>\n",
       "      <th>3209</th>\n",
       "      <td>1095</td>\n",
       "      <td>NaN</td>\n",
       "      <td>540.0</td>\n",
       "      <td>18406.98</td>\n",
       "      <td>70</td>\n",
       "      <td>NaT</td>\n",
       "      <td>Новосибирск</td>\n",
       "      <td>Марианна</td>\n",
       "      <td>Кабанова</td>\n",
       "      <td>2018-12-23</td>\n",
       "      <td>smart</td>\n",
       "      <td>12</td>\n",
       "    </tr>\n",
       "    <tr>\n",
       "      <th>3210</th>\n",
       "      <td>1117</td>\n",
       "      <td>NaN</td>\n",
       "      <td>282.0</td>\n",
       "      <td>11990.25</td>\n",
       "      <td>42</td>\n",
       "      <td>NaT</td>\n",
       "      <td>Тюмень</td>\n",
       "      <td>Дана</td>\n",
       "      <td>Меркулова</td>\n",
       "      <td>2018-12-10</td>\n",
       "      <td>smart</td>\n",
       "      <td>12</td>\n",
       "    </tr>\n",
       "    <tr>\n",
       "      <th>3211</th>\n",
       "      <td>1129</td>\n",
       "      <td>NaN</td>\n",
       "      <td>452.0</td>\n",
       "      <td>16446.17</td>\n",
       "      <td>48</td>\n",
       "      <td>NaT</td>\n",
       "      <td>Курган</td>\n",
       "      <td>Анвар</td>\n",
       "      <td>Морозов</td>\n",
       "      <td>2018-12-17</td>\n",
       "      <td>smart</td>\n",
       "      <td>12</td>\n",
       "    </tr>\n",
       "    <tr>\n",
       "      <th>3212</th>\n",
       "      <td>1297</td>\n",
       "      <td>NaN</td>\n",
       "      <td>404.0</td>\n",
       "      <td>18981.87</td>\n",
       "      <td>66</td>\n",
       "      <td>NaT</td>\n",
       "      <td>Иркутск</td>\n",
       "      <td>Радим</td>\n",
       "      <td>Абрамцев</td>\n",
       "      <td>2018-12-04</td>\n",
       "      <td>smart</td>\n",
       "      <td>12</td>\n",
       "    </tr>\n",
       "    <tr>\n",
       "      <th>3213</th>\n",
       "      <td>1397</td>\n",
       "      <td>NaN</td>\n",
       "      <td>232.0</td>\n",
       "      <td>23528.08</td>\n",
       "      <td>47</td>\n",
       "      <td>NaT</td>\n",
       "      <td>Воронеж</td>\n",
       "      <td>Инна</td>\n",
       "      <td>Чистякова</td>\n",
       "      <td>2018-12-22</td>\n",
       "      <td>ultra</td>\n",
       "      <td>12</td>\n",
       "    </tr>\n",
       "  </tbody>\n",
       "</table>\n",
       "<p>3214 rows × 12 columns</p>\n",
       "</div>"
      ],
      "text/plain": [
       "      user_id  message_date  duration   mb_used  age churn_date  \\\n",
       "0        1005           7.0      95.0   2727.97   67        NaT   \n",
       "1        1005          38.0     456.0   7383.93   67        NaT   \n",
       "2        1005          56.0     606.0  11104.25   67        NaT   \n",
       "3        1005          41.0     712.0   9351.72   67        NaT   \n",
       "4        1005          42.0     595.0   7865.53   67        NaT   \n",
       "...       ...           ...       ...       ...  ...        ...   \n",
       "3209     1095           NaN     540.0  18406.98   70        NaT   \n",
       "3210     1117           NaN     282.0  11990.25   42        NaT   \n",
       "3211     1129           NaN     452.0  16446.17   48        NaT   \n",
       "3212     1297           NaN     404.0  18981.87   66        NaT   \n",
       "3213     1397           NaN     232.0  23528.08   47        NaT   \n",
       "\n",
       "                  city first_name  last_name   reg_date tariff  month  \n",
       "0     Набережные Челны   Афанасий     Горлов 2018-01-25  smart      1  \n",
       "1     Набережные Челны   Афанасий     Горлов 2018-01-25  smart      1  \n",
       "2     Набережные Челны   Афанасий     Горлов 2018-01-25  smart      1  \n",
       "3     Набережные Челны   Афанасий     Горлов 2018-01-25  smart      1  \n",
       "4     Набережные Челны   Афанасий     Горлов 2018-01-25  smart      1  \n",
       "...                ...        ...        ...        ...    ...    ...  \n",
       "3209       Новосибирск   Марианна   Кабанова 2018-12-23  smart     12  \n",
       "3210            Тюмень       Дана  Меркулова 2018-12-10  smart     12  \n",
       "3211            Курган      Анвар    Морозов 2018-12-17  smart     12  \n",
       "3212           Иркутск      Радим   Абрамцев 2018-12-04  smart     12  \n",
       "3213           Воронеж       Инна  Чистякова 2018-12-22  ultra     12  \n",
       "\n",
       "[3214 rows x 12 columns]"
      ]
     },
     "execution_count": 32,
     "metadata": {},
     "output_type": "execute_result"
    }
   ],
   "source": [
    "group_all = group_all.merge(data_users, on=['user_id'], how='inner')\n",
    "group_all"
   ]
  },
  {
   "cell_type": "code",
   "execution_count": 33,
   "id": "ae9cb91b",
   "metadata": {},
   "outputs": [],
   "source": [
    "group_all = group_all.fillna(0).sort_values(by='user_id') # меняем NaN на 0"
   ]
  },
  {
   "cell_type": "markdown",
   "id": "7bd80999",
   "metadata": {},
   "source": [
    "и удаляем ненужные столбцы"
   ]
  },
  {
   "cell_type": "code",
   "execution_count": 34,
   "id": "ccd61b43",
   "metadata": {},
   "outputs": [],
   "source": [
    "del group_all['churn_date']\n",
    "del group_all['age']\n",
    "del group_all['first_name']\n",
    "del group_all['last_name']\n",
    "del group_all['reg_date']"
   ]
  },
  {
   "cell_type": "markdown",
   "id": "6ae44a58",
   "metadata": {},
   "source": [
    "В результате, получилась таблица с которой будем работать."
   ]
  },
  {
   "cell_type": "code",
   "execution_count": 35,
   "id": "13baa220",
   "metadata": {},
   "outputs": [
    {
     "data": {
      "text/html": [
       "<div>\n",
       "<style scoped>\n",
       "    .dataframe tbody tr th:only-of-type {\n",
       "        vertical-align: middle;\n",
       "    }\n",
       "\n",
       "    .dataframe tbody tr th {\n",
       "        vertical-align: top;\n",
       "    }\n",
       "\n",
       "    .dataframe thead th {\n",
       "        text-align: right;\n",
       "    }\n",
       "</style>\n",
       "<table border=\"1\" class=\"dataframe\">\n",
       "  <thead>\n",
       "    <tr style=\"text-align: right;\">\n",
       "      <th></th>\n",
       "      <th>user_id</th>\n",
       "      <th>message_date</th>\n",
       "      <th>duration</th>\n",
       "      <th>mb_used</th>\n",
       "      <th>city</th>\n",
       "      <th>tariff</th>\n",
       "      <th>month</th>\n",
       "    </tr>\n",
       "  </thead>\n",
       "  <tbody>\n",
       "    <tr>\n",
       "      <th>1417</th>\n",
       "      <td>1000</td>\n",
       "      <td>57.0</td>\n",
       "      <td>466.0</td>\n",
       "      <td>14568.91</td>\n",
       "      <td>Краснодар</td>\n",
       "      <td>ultra</td>\n",
       "      <td>5</td>\n",
       "    </tr>\n",
       "    <tr>\n",
       "      <th>1420</th>\n",
       "      <td>1000</td>\n",
       "      <td>70.0</td>\n",
       "      <td>333.0</td>\n",
       "      <td>9817.61</td>\n",
       "      <td>Краснодар</td>\n",
       "      <td>ultra</td>\n",
       "      <td>5</td>\n",
       "    </tr>\n",
       "    <tr>\n",
       "      <th>1419</th>\n",
       "      <td>1000</td>\n",
       "      <td>58.0</td>\n",
       "      <td>338.0</td>\n",
       "      <td>14756.47</td>\n",
       "      <td>Краснодар</td>\n",
       "      <td>ultra</td>\n",
       "      <td>5</td>\n",
       "    </tr>\n",
       "    <tr>\n",
       "      <th>1418</th>\n",
       "      <td>1000</td>\n",
       "      <td>73.0</td>\n",
       "      <td>350.0</td>\n",
       "      <td>14702.49</td>\n",
       "      <td>Краснодар</td>\n",
       "      <td>ultra</td>\n",
       "      <td>5</td>\n",
       "    </tr>\n",
       "    <tr>\n",
       "      <th>1416</th>\n",
       "      <td>1000</td>\n",
       "      <td>81.0</td>\n",
       "      <td>408.0</td>\n",
       "      <td>14055.93</td>\n",
       "      <td>Краснодар</td>\n",
       "      <td>ultra</td>\n",
       "      <td>5</td>\n",
       "    </tr>\n",
       "  </tbody>\n",
       "</table>\n",
       "</div>"
      ],
      "text/plain": [
       "      user_id  message_date  duration   mb_used       city tariff  month\n",
       "1417     1000          57.0     466.0  14568.91  Краснодар  ultra      5\n",
       "1420     1000          70.0     333.0   9817.61  Краснодар  ultra      5\n",
       "1419     1000          58.0     338.0  14756.47  Краснодар  ultra      5\n",
       "1418     1000          73.0     350.0  14702.49  Краснодар  ultra      5\n",
       "1416     1000          81.0     408.0  14055.93  Краснодар  ultra      5"
      ]
     },
     "execution_count": 35,
     "metadata": {},
     "output_type": "execute_result"
    }
   ],
   "source": [
    "group_all.head()"
   ]
  },
  {
   "cell_type": "markdown",
   "id": "1052c378",
   "metadata": {},
   "source": [
    "Подсчитываем для каждого пользователя помесячную выручку"
   ]
  },
  {
   "cell_type": "code",
   "execution_count": 36,
   "id": "2670bdb9",
   "metadata": {},
   "outputs": [],
   "source": [
    "def how_money(row):\n",
    "    import math\n",
    "    messages = row['message_date']\n",
    "    calls = row['duration']\n",
    "    internet = row['mb_used']\n",
    "    tariff = row['tariff']\n",
    "    \n",
    "    if (tariff=='smart'):\n",
    "        i = 0\n",
    "    else:\n",
    "        i = 1\n",
    "    ostatok_call = data_tariffs['minutes_included'][i] - calls\n",
    "    if ostatok_call < 0:\n",
    "        call_money = -ostatok_call * data_tariffs['rub_per_minute'][i]\n",
    "    else:\n",
    "        call_money = 0\n",
    "    ostatok_internet = data_tariffs['mb_per_month_included'][i] - internet\n",
    "    if ostatok_internet < 0:\n",
    "        internet_money = math.ceil(-ostatok_internet / 1024) * data_tariffs['rub_per_gb'][i]\n",
    "    else:\n",
    "        internet_money = 0\n",
    "    ostatok_messages = data_tariffs['messages_included'][i] - messages\n",
    "    if ostatok_messages < 0:\n",
    "        messages_money = -ostatok_messages * data_tariffs['rub_per_message'][i]\n",
    "    else:\n",
    "        messages_money = 0\n",
    "    \n",
    "    money = call_money + internet_money + messages_money + data_tariffs['rub_monthly_fee'][i]\n",
    "    return money"
   ]
  },
  {
   "cell_type": "markdown",
   "id": "e796fe17",
   "metadata": {},
   "source": [
    "В функции расчитали сумму которую каждый клиент каждый месяц платит за услуги компании, теперь сохраним эти значения в отдельном столбце датасета group_all"
   ]
  },
  {
   "cell_type": "code",
   "execution_count": 37,
   "id": "1402806a",
   "metadata": {},
   "outputs": [
    {
     "data": {
      "text/html": [
       "<div>\n",
       "<style scoped>\n",
       "    .dataframe tbody tr th:only-of-type {\n",
       "        vertical-align: middle;\n",
       "    }\n",
       "\n",
       "    .dataframe tbody tr th {\n",
       "        vertical-align: top;\n",
       "    }\n",
       "\n",
       "    .dataframe thead th {\n",
       "        text-align: right;\n",
       "    }\n",
       "</style>\n",
       "<table border=\"1\" class=\"dataframe\">\n",
       "  <thead>\n",
       "    <tr style=\"text-align: right;\">\n",
       "      <th></th>\n",
       "      <th>user_id</th>\n",
       "      <th>message_date</th>\n",
       "      <th>duration</th>\n",
       "      <th>mb_used</th>\n",
       "      <th>city</th>\n",
       "      <th>tariff</th>\n",
       "      <th>month</th>\n",
       "      <th>money</th>\n",
       "    </tr>\n",
       "  </thead>\n",
       "  <tbody>\n",
       "    <tr>\n",
       "      <th>1417</th>\n",
       "      <td>1000</td>\n",
       "      <td>57.0</td>\n",
       "      <td>466.0</td>\n",
       "      <td>14568.91</td>\n",
       "      <td>Краснодар</td>\n",
       "      <td>ultra</td>\n",
       "      <td>5</td>\n",
       "      <td>1950.0</td>\n",
       "    </tr>\n",
       "    <tr>\n",
       "      <th>1420</th>\n",
       "      <td>1000</td>\n",
       "      <td>70.0</td>\n",
       "      <td>333.0</td>\n",
       "      <td>9817.61</td>\n",
       "      <td>Краснодар</td>\n",
       "      <td>ultra</td>\n",
       "      <td>5</td>\n",
       "      <td>1950.0</td>\n",
       "    </tr>\n",
       "    <tr>\n",
       "      <th>1419</th>\n",
       "      <td>1000</td>\n",
       "      <td>58.0</td>\n",
       "      <td>338.0</td>\n",
       "      <td>14756.47</td>\n",
       "      <td>Краснодар</td>\n",
       "      <td>ultra</td>\n",
       "      <td>5</td>\n",
       "      <td>1950.0</td>\n",
       "    </tr>\n",
       "    <tr>\n",
       "      <th>1418</th>\n",
       "      <td>1000</td>\n",
       "      <td>73.0</td>\n",
       "      <td>350.0</td>\n",
       "      <td>14702.49</td>\n",
       "      <td>Краснодар</td>\n",
       "      <td>ultra</td>\n",
       "      <td>5</td>\n",
       "      <td>1950.0</td>\n",
       "    </tr>\n",
       "    <tr>\n",
       "      <th>1416</th>\n",
       "      <td>1000</td>\n",
       "      <td>81.0</td>\n",
       "      <td>408.0</td>\n",
       "      <td>14055.93</td>\n",
       "      <td>Краснодар</td>\n",
       "      <td>ultra</td>\n",
       "      <td>5</td>\n",
       "      <td>1950.0</td>\n",
       "    </tr>\n",
       "  </tbody>\n",
       "</table>\n",
       "</div>"
      ],
      "text/plain": [
       "      user_id  message_date  duration   mb_used       city tariff  month  \\\n",
       "1417     1000          57.0     466.0  14568.91  Краснодар  ultra      5   \n",
       "1420     1000          70.0     333.0   9817.61  Краснодар  ultra      5   \n",
       "1419     1000          58.0     338.0  14756.47  Краснодар  ultra      5   \n",
       "1418     1000          73.0     350.0  14702.49  Краснодар  ultra      5   \n",
       "1416     1000          81.0     408.0  14055.93  Краснодар  ultra      5   \n",
       "\n",
       "       money  \n",
       "1417  1950.0  \n",
       "1420  1950.0  \n",
       "1419  1950.0  \n",
       "1418  1950.0  \n",
       "1416  1950.0  "
      ]
     },
     "execution_count": 37,
     "metadata": {},
     "output_type": "execute_result"
    }
   ],
   "source": [
    "group_all['money'] = group_all.apply(how_money, axis=1)\n",
    "group_all.head()"
   ]
  },
  {
   "cell_type": "markdown",
   "id": "9549050f",
   "metadata": {},
   "source": [
    "Строим гистограмму по рассчитанному столбцу"
   ]
  },
  {
   "cell_type": "code",
   "execution_count": 38,
   "id": "06e04346",
   "metadata": {},
   "outputs": [
    {
     "data": {
      "text/plain": [
       "<AxesSubplot:>"
      ]
     },
     "execution_count": 38,
     "metadata": {},
     "output_type": "execute_result"
    },
    {
     "data": {
      "image/png": "[encoded data removed]",
      "text/plain": [
       "<Figure size 432x288 with 1 Axes>"
      ]
     },
     "metadata": {
      "needs_background": "light"
     },
     "output_type": "display_data"
    }
   ],
   "source": [
    "group_all['money'].hist(bins=50)"
   ]
  },
  {
   "cell_type": "markdown",
   "id": "10f219af",
   "metadata": {},
   "source": [
    "Рассчитываем выручку оператора по каждому тарифу"
   ]
  },
  {
   "cell_type": "code",
   "execution_count": 39,
   "id": "3415c9e4",
   "metadata": {},
   "outputs": [
    {
     "data": {
      "text/plain": [
       "tariff\n",
       "smart    2875351.0\n",
       "ultra    2039100.0\n",
       "Name: money, dtype: float64"
      ]
     },
     "execution_count": 39,
     "metadata": {},
     "output_type": "execute_result"
    }
   ],
   "source": [
    "group_all.groupby('tariff')['money'].sum()"
   ]
  },
  {
   "cell_type": "markdown",
   "id": "a6153f14",
   "metadata": {},
   "source": [
    "Определяем выручку компании сверх тарифа, для тарифа Ультра"
   ]
  },
  {
   "cell_type": "code",
   "execution_count": 40,
   "id": "54e6b81d",
   "metadata": {},
   "outputs": [
    {
     "data": {
      "text/html": [
       "<div>\n",
       "<style scoped>\n",
       "    .dataframe tbody tr th:only-of-type {\n",
       "        vertical-align: middle;\n",
       "    }\n",
       "\n",
       "    .dataframe tbody tr th {\n",
       "        vertical-align: top;\n",
       "    }\n",
       "\n",
       "    .dataframe thead th {\n",
       "        text-align: right;\n",
       "    }\n",
       "</style>\n",
       "<table border=\"1\" class=\"dataframe\">\n",
       "  <thead>\n",
       "    <tr style=\"text-align: right;\">\n",
       "      <th></th>\n",
       "      <th>user_id</th>\n",
       "      <th>message_date</th>\n",
       "      <th>duration</th>\n",
       "      <th>mb_used</th>\n",
       "      <th>city</th>\n",
       "      <th>tariff</th>\n",
       "      <th>month</th>\n",
       "      <th>money</th>\n",
       "    </tr>\n",
       "  </thead>\n",
       "  <tbody>\n",
       "    <tr>\n",
       "      <th>3181</th>\n",
       "      <td>1024</td>\n",
       "      <td>0.0</td>\n",
       "      <td>949.0</td>\n",
       "      <td>35948.13</td>\n",
       "      <td>Санкт-Петербург</td>\n",
       "      <td>ultra</td>\n",
       "      <td>10</td>\n",
       "      <td>2850.0</td>\n",
       "    </tr>\n",
       "    <tr>\n",
       "      <th>3180</th>\n",
       "      <td>1024</td>\n",
       "      <td>0.0</td>\n",
       "      <td>1146.0</td>\n",
       "      <td>43107.47</td>\n",
       "      <td>Санкт-Петербург</td>\n",
       "      <td>ultra</td>\n",
       "      <td>10</td>\n",
       "      <td>3900.0</td>\n",
       "    </tr>\n",
       "    <tr>\n",
       "      <th>1733</th>\n",
       "      <td>1050</td>\n",
       "      <td>52.0</td>\n",
       "      <td>209.0</td>\n",
       "      <td>35177.91</td>\n",
       "      <td>Тюмень</td>\n",
       "      <td>ultra</td>\n",
       "      <td>6</td>\n",
       "      <td>2700.0</td>\n",
       "    </tr>\n",
       "    <tr>\n",
       "      <th>2649</th>\n",
       "      <td>1060</td>\n",
       "      <td>52.0</td>\n",
       "      <td>1233.0</td>\n",
       "      <td>43931.36</td>\n",
       "      <td>Калуга</td>\n",
       "      <td>ultra</td>\n",
       "      <td>11</td>\n",
       "      <td>3900.0</td>\n",
       "    </tr>\n",
       "    <tr>\n",
       "      <th>2418</th>\n",
       "      <td>1124</td>\n",
       "      <td>121.0</td>\n",
       "      <td>1225.0</td>\n",
       "      <td>49745.69</td>\n",
       "      <td>Махачкала</td>\n",
       "      <td>ultra</td>\n",
       "      <td>9</td>\n",
       "      <td>4800.0</td>\n",
       "    </tr>\n",
       "    <tr>\n",
       "      <th>...</th>\n",
       "      <td>...</td>\n",
       "      <td>...</td>\n",
       "      <td>...</td>\n",
       "      <td>...</td>\n",
       "      <td>...</td>\n",
       "      <td>...</td>\n",
       "      <td>...</td>\n",
       "      <td>...</td>\n",
       "    </tr>\n",
       "    <tr>\n",
       "      <th>3115</th>\n",
       "      <td>1469</td>\n",
       "      <td>0.0</td>\n",
       "      <td>763.0</td>\n",
       "      <td>33702.02</td>\n",
       "      <td>Сочи</td>\n",
       "      <td>ultra</td>\n",
       "      <td>7</td>\n",
       "      <td>2400.0</td>\n",
       "    </tr>\n",
       "    <tr>\n",
       "      <th>2703</th>\n",
       "      <td>1474</td>\n",
       "      <td>105.0</td>\n",
       "      <td>1345.0</td>\n",
       "      <td>42320.87</td>\n",
       "      <td>Набережные Челны</td>\n",
       "      <td>ultra</td>\n",
       "      <td>11</td>\n",
       "      <td>3750.0</td>\n",
       "    </tr>\n",
       "    <tr>\n",
       "      <th>2707</th>\n",
       "      <td>1493</td>\n",
       "      <td>78.0</td>\n",
       "      <td>571.0</td>\n",
       "      <td>42735.18</td>\n",
       "      <td>Красноярск</td>\n",
       "      <td>ultra</td>\n",
       "      <td>11</td>\n",
       "      <td>3750.0</td>\n",
       "    </tr>\n",
       "    <tr>\n",
       "      <th>2403</th>\n",
       "      <td>1495</td>\n",
       "      <td>79.0</td>\n",
       "      <td>954.0</td>\n",
       "      <td>38939.11</td>\n",
       "      <td>Иркутск</td>\n",
       "      <td>ultra</td>\n",
       "      <td>8</td>\n",
       "      <td>3300.0</td>\n",
       "    </tr>\n",
       "    <tr>\n",
       "      <th>2401</th>\n",
       "      <td>1495</td>\n",
       "      <td>82.0</td>\n",
       "      <td>813.0</td>\n",
       "      <td>33067.62</td>\n",
       "      <td>Иркутск</td>\n",
       "      <td>ultra</td>\n",
       "      <td>8</td>\n",
       "      <td>2400.0</td>\n",
       "    </tr>\n",
       "  </tbody>\n",
       "</table>\n",
       "<p>134 rows × 8 columns</p>\n",
       "</div>"
      ],
      "text/plain": [
       "      user_id  message_date  duration   mb_used              city tariff  \\\n",
       "3181     1024           0.0     949.0  35948.13   Санкт-Петербург  ultra   \n",
       "3180     1024           0.0    1146.0  43107.47   Санкт-Петербург  ultra   \n",
       "1733     1050          52.0     209.0  35177.91            Тюмень  ultra   \n",
       "2649     1060          52.0    1233.0  43931.36            Калуга  ultra   \n",
       "2418     1124         121.0    1225.0  49745.69         Махачкала  ultra   \n",
       "...       ...           ...       ...       ...               ...    ...   \n",
       "3115     1469           0.0     763.0  33702.02              Сочи  ultra   \n",
       "2703     1474         105.0    1345.0  42320.87  Набережные Челны  ultra   \n",
       "2707     1493          78.0     571.0  42735.18        Красноярск  ultra   \n",
       "2403     1495          79.0     954.0  38939.11           Иркутск  ultra   \n",
       "2401     1495          82.0     813.0  33067.62           Иркутск  ultra   \n",
       "\n",
       "      month   money  \n",
       "3181     10  2850.0  \n",
       "3180     10  3900.0  \n",
       "1733      6  2700.0  \n",
       "2649     11  3900.0  \n",
       "2418      9  4800.0  \n",
       "...     ...     ...  \n",
       "3115      7  2400.0  \n",
       "2703     11  3750.0  \n",
       "2707     11  3750.0  \n",
       "2403      8  3300.0  \n",
       "2401      8  2400.0  \n",
       "\n",
       "[134 rows x 8 columns]"
      ]
     },
     "execution_count": 40,
     "metadata": {},
     "output_type": "execute_result"
    }
   ],
   "source": [
    "group_all.query('tariff == \"ultra\" and money > 1950')"
   ]
  },
  {
   "cell_type": "markdown",
   "id": "cf7dc721",
   "metadata": {},
   "source": [
    "Определяем выручку компании сверх тарифа, для тарифа Смарт"
   ]
  },
  {
   "cell_type": "code",
   "execution_count": 41,
   "id": "b188c476",
   "metadata": {},
   "outputs": [
    {
     "data": {
      "text/html": [
       "<div>\n",
       "<style scoped>\n",
       "    .dataframe tbody tr th:only-of-type {\n",
       "        vertical-align: middle;\n",
       "    }\n",
       "\n",
       "    .dataframe tbody tr th {\n",
       "        vertical-align: top;\n",
       "    }\n",
       "\n",
       "    .dataframe thead th {\n",
       "        text-align: right;\n",
       "    }\n",
       "</style>\n",
       "<table border=\"1\" class=\"dataframe\">\n",
       "  <thead>\n",
       "    <tr style=\"text-align: right;\">\n",
       "      <th></th>\n",
       "      <th>user_id</th>\n",
       "      <th>message_date</th>\n",
       "      <th>duration</th>\n",
       "      <th>mb_used</th>\n",
       "      <th>city</th>\n",
       "      <th>tariff</th>\n",
       "      <th>month</th>\n",
       "      <th>money</th>\n",
       "    </tr>\n",
       "  </thead>\n",
       "  <tbody>\n",
       "    <tr>\n",
       "      <th>3197</th>\n",
       "      <td>1001</td>\n",
       "      <td>0.0</td>\n",
       "      <td>430.0</td>\n",
       "      <td>18429.34</td>\n",
       "      <td>Москва</td>\n",
       "      <td>smart</td>\n",
       "      <td>11</td>\n",
       "      <td>1150.0</td>\n",
       "    </tr>\n",
       "    <tr>\n",
       "      <th>1723</th>\n",
       "      <td>1002</td>\n",
       "      <td>16.0</td>\n",
       "      <td>243.0</td>\n",
       "      <td>18587.28</td>\n",
       "      <td>Стерлитамак</td>\n",
       "      <td>smart</td>\n",
       "      <td>6</td>\n",
       "      <td>1350.0</td>\n",
       "    </tr>\n",
       "    <tr>\n",
       "      <th>1724</th>\n",
       "      <td>1002</td>\n",
       "      <td>12.0</td>\n",
       "      <td>236.0</td>\n",
       "      <td>18113.73</td>\n",
       "      <td>Стерлитамак</td>\n",
       "      <td>smart</td>\n",
       "      <td>6</td>\n",
       "      <td>1150.0</td>\n",
       "    </tr>\n",
       "    <tr>\n",
       "      <th>1721</th>\n",
       "      <td>1002</td>\n",
       "      <td>4.0</td>\n",
       "      <td>206.0</td>\n",
       "      <td>16691.08</td>\n",
       "      <td>Стерлитамак</td>\n",
       "      <td>smart</td>\n",
       "      <td>6</td>\n",
       "      <td>950.0</td>\n",
       "    </tr>\n",
       "    <tr>\n",
       "      <th>1720</th>\n",
       "      <td>1002</td>\n",
       "      <td>13.0</td>\n",
       "      <td>289.0</td>\n",
       "      <td>20319.26</td>\n",
       "      <td>Стерлитамак</td>\n",
       "      <td>smart</td>\n",
       "      <td>6</td>\n",
       "      <td>1550.0</td>\n",
       "    </tr>\n",
       "    <tr>\n",
       "      <th>...</th>\n",
       "      <td>...</td>\n",
       "      <td>...</td>\n",
       "      <td>...</td>\n",
       "      <td>...</td>\n",
       "      <td>...</td>\n",
       "      <td>...</td>\n",
       "      <td>...</td>\n",
       "      <td>...</td>\n",
       "    </tr>\n",
       "    <tr>\n",
       "      <th>2184</th>\n",
       "      <td>1498</td>\n",
       "      <td>62.0</td>\n",
       "      <td>400.0</td>\n",
       "      <td>24235.21</td>\n",
       "      <td>Владикавказ</td>\n",
       "      <td>smart</td>\n",
       "      <td>7</td>\n",
       "      <td>2386.0</td>\n",
       "    </tr>\n",
       "    <tr>\n",
       "      <th>2186</th>\n",
       "      <td>1498</td>\n",
       "      <td>42.0</td>\n",
       "      <td>247.0</td>\n",
       "      <td>20579.36</td>\n",
       "      <td>Владикавказ</td>\n",
       "      <td>smart</td>\n",
       "      <td>7</td>\n",
       "      <td>1750.0</td>\n",
       "    </tr>\n",
       "    <tr>\n",
       "      <th>2519</th>\n",
       "      <td>1499</td>\n",
       "      <td>66.0</td>\n",
       "      <td>492.0</td>\n",
       "      <td>13055.58</td>\n",
       "      <td>Пермь</td>\n",
       "      <td>smart</td>\n",
       "      <td>9</td>\n",
       "      <td>598.0</td>\n",
       "    </tr>\n",
       "    <tr>\n",
       "      <th>2518</th>\n",
       "      <td>1499</td>\n",
       "      <td>59.0</td>\n",
       "      <td>612.0</td>\n",
       "      <td>17963.31</td>\n",
       "      <td>Пермь</td>\n",
       "      <td>smart</td>\n",
       "      <td>9</td>\n",
       "      <td>1513.0</td>\n",
       "    </tr>\n",
       "    <tr>\n",
       "      <th>2517</th>\n",
       "      <td>1499</td>\n",
       "      <td>48.0</td>\n",
       "      <td>449.0</td>\n",
       "      <td>17788.51</td>\n",
       "      <td>Пермь</td>\n",
       "      <td>smart</td>\n",
       "      <td>9</td>\n",
       "      <td>1150.0</td>\n",
       "    </tr>\n",
       "  </tbody>\n",
       "</table>\n",
       "<p>1662 rows × 8 columns</p>\n",
       "</div>"
      ],
      "text/plain": [
       "      user_id  message_date  duration   mb_used         city tariff  month  \\\n",
       "3197     1001           0.0     430.0  18429.34       Москва  smart     11   \n",
       "1723     1002          16.0     243.0  18587.28  Стерлитамак  smart      6   \n",
       "1724     1002          12.0     236.0  18113.73  Стерлитамак  smart      6   \n",
       "1721     1002           4.0     206.0  16691.08  Стерлитамак  smart      6   \n",
       "1720     1002          13.0     289.0  20319.26  Стерлитамак  smart      6   \n",
       "...       ...           ...       ...       ...          ...    ...    ...   \n",
       "2184     1498          62.0     400.0  24235.21  Владикавказ  smart      7   \n",
       "2186     1498          42.0     247.0  20579.36  Владикавказ  smart      7   \n",
       "2519     1499          66.0     492.0  13055.58        Пермь  smart      9   \n",
       "2518     1499          59.0     612.0  17963.31        Пермь  smart      9   \n",
       "2517     1499          48.0     449.0  17788.51        Пермь  smart      9   \n",
       "\n",
       "       money  \n",
       "3197  1150.0  \n",
       "1723  1350.0  \n",
       "1724  1150.0  \n",
       "1721   950.0  \n",
       "1720  1550.0  \n",
       "...      ...  \n",
       "2184  2386.0  \n",
       "2186  1750.0  \n",
       "2519   598.0  \n",
       "2518  1513.0  \n",
       "2517  1150.0  \n",
       "\n",
       "[1662 rows x 8 columns]"
      ]
     },
     "execution_count": 41,
     "metadata": {},
     "output_type": "execute_result"
    }
   ],
   "source": [
    "group_all.query('tariff == \"smart\" and money > 550')"
   ]
  },
  {
   "cell_type": "markdown",
   "id": "341344d9",
   "metadata": {},
   "source": [
    "Из графика и сгруппированной таблицы по тарифам видно, что самый прибыльны тариф Смарт. За рамки же ежемесячного платежа польше всего уходит пользователей Смарт"
   ]
  },
  {
   "cell_type": "markdown",
   "id": "9db8823d",
   "metadata": {},
   "source": [
    "## Анализируем данные"
   ]
  },
  {
   "cell_type": "code",
   "execution_count": 42,
   "id": "b8178fe4",
   "metadata": {},
   "outputs": [],
   "source": [
    "count_durations = group_all.pivot_table(index='month', values='duration', aggfunc=('count'))"
   ]
  },
  {
   "cell_type": "markdown",
   "id": "83d3609e",
   "metadata": {},
   "source": [
    "Подсчет количества звонков, интернета и сообщений по месяцам по отдельности для каждого тарифа"
   ]
  },
  {
   "cell_type": "code",
   "execution_count": 43,
   "id": "84363598",
   "metadata": {},
   "outputs": [
    {
     "data": {
      "text/html": [
       "<div>\n",
       "<style scoped>\n",
       "    .dataframe tbody tr th:only-of-type {\n",
       "        vertical-align: middle;\n",
       "    }\n",
       "\n",
       "    .dataframe tbody tr th {\n",
       "        vertical-align: top;\n",
       "    }\n",
       "\n",
       "    .dataframe thead th {\n",
       "        text-align: right;\n",
       "    }\n",
       "</style>\n",
       "<table border=\"1\" class=\"dataframe\">\n",
       "  <thead>\n",
       "    <tr style=\"text-align: right;\">\n",
       "      <th></th>\n",
       "      <th>duration</th>\n",
       "      <th>mb_used</th>\n",
       "      <th>message_date</th>\n",
       "    </tr>\n",
       "    <tr>\n",
       "      <th>month</th>\n",
       "      <th></th>\n",
       "      <th></th>\n",
       "      <th></th>\n",
       "    </tr>\n",
       "  </thead>\n",
       "  <tbody>\n",
       "    <tr>\n",
       "      <th>1</th>\n",
       "      <td>65091.0</td>\n",
       "      <td>2222726.02</td>\n",
       "      <td>4872.0</td>\n",
       "    </tr>\n",
       "    <tr>\n",
       "      <th>2</th>\n",
       "      <td>70763.0</td>\n",
       "      <td>3286411.65</td>\n",
       "      <td>6283.0</td>\n",
       "    </tr>\n",
       "    <tr>\n",
       "      <th>3</th>\n",
       "      <td>79139.0</td>\n",
       "      <td>1864085.43</td>\n",
       "      <td>3110.0</td>\n",
       "    </tr>\n",
       "    <tr>\n",
       "      <th>4</th>\n",
       "      <td>94163.0</td>\n",
       "      <td>3414670.94</td>\n",
       "      <td>6615.0</td>\n",
       "    </tr>\n",
       "    <tr>\n",
       "      <th>5</th>\n",
       "      <td>35370.0</td>\n",
       "      <td>1878128.37</td>\n",
       "      <td>6406.0</td>\n",
       "    </tr>\n",
       "    <tr>\n",
       "      <th>6</th>\n",
       "      <td>52854.0</td>\n",
       "      <td>2443050.61</td>\n",
       "      <td>6682.0</td>\n",
       "    </tr>\n",
       "    <tr>\n",
       "      <th>7</th>\n",
       "      <td>24428.0</td>\n",
       "      <td>786968.58</td>\n",
       "      <td>2549.0</td>\n",
       "    </tr>\n",
       "    <tr>\n",
       "      <th>8</th>\n",
       "      <td>41674.0</td>\n",
       "      <td>1221169.13</td>\n",
       "      <td>5683.0</td>\n",
       "    </tr>\n",
       "    <tr>\n",
       "      <th>9</th>\n",
       "      <td>21125.0</td>\n",
       "      <td>592889.35</td>\n",
       "      <td>2204.0</td>\n",
       "    </tr>\n",
       "    <tr>\n",
       "      <th>10</th>\n",
       "      <td>13161.0</td>\n",
       "      <td>742378.54</td>\n",
       "      <td>1911.0</td>\n",
       "    </tr>\n",
       "    <tr>\n",
       "      <th>11</th>\n",
       "      <td>16104.0</td>\n",
       "      <td>555672.47</td>\n",
       "      <td>1834.0</td>\n",
       "    </tr>\n",
       "    <tr>\n",
       "      <th>12</th>\n",
       "      <td>4852.0</td>\n",
       "      <td>168622.04</td>\n",
       "      <td>474.0</td>\n",
       "    </tr>\n",
       "  </tbody>\n",
       "</table>\n",
       "</div>"
      ],
      "text/plain": [
       "       duration     mb_used  message_date\n",
       "month                                    \n",
       "1       65091.0  2222726.02        4872.0\n",
       "2       70763.0  3286411.65        6283.0\n",
       "3       79139.0  1864085.43        3110.0\n",
       "4       94163.0  3414670.94        6615.0\n",
       "5       35370.0  1878128.37        6406.0\n",
       "6       52854.0  2443050.61        6682.0\n",
       "7       24428.0   786968.58        2549.0\n",
       "8       41674.0  1221169.13        5683.0\n",
       "9       21125.0   592889.35        2204.0\n",
       "10      13161.0   742378.54        1911.0\n",
       "11      16104.0   555672.47        1834.0\n",
       "12       4852.0   168622.04         474.0"
      ]
     },
     "execution_count": 43,
     "metadata": {},
     "output_type": "execute_result"
    }
   ],
   "source": [
    "tariff_ultra=(group_all.query('tariff==\"ultra\"').pivot_table(index='month', values=('duration', 'message_date', 'mb_used'), aggfunc=('sum')))\n",
    "tariff_ultra"
   ]
  },
  {
   "cell_type": "code",
   "execution_count": 44,
   "id": "28c7e055",
   "metadata": {},
   "outputs": [
    {
     "data": {
      "text/html": [
       "<div>\n",
       "<style scoped>\n",
       "    .dataframe tbody tr th:only-of-type {\n",
       "        vertical-align: middle;\n",
       "    }\n",
       "\n",
       "    .dataframe tbody tr th {\n",
       "        vertical-align: top;\n",
       "    }\n",
       "\n",
       "    .dataframe thead th {\n",
       "        text-align: right;\n",
       "    }\n",
       "</style>\n",
       "<table border=\"1\" class=\"dataframe\">\n",
       "  <thead>\n",
       "    <tr style=\"text-align: right;\">\n",
       "      <th></th>\n",
       "      <th>duration</th>\n",
       "      <th>mb_used</th>\n",
       "      <th>message_date</th>\n",
       "    </tr>\n",
       "    <tr>\n",
       "      <th>month</th>\n",
       "      <th></th>\n",
       "      <th></th>\n",
       "      <th></th>\n",
       "    </tr>\n",
       "  </thead>\n",
       "  <tbody>\n",
       "    <tr>\n",
       "      <th>1</th>\n",
       "      <td>158985.0</td>\n",
       "      <td>6397001.20</td>\n",
       "      <td>13777.0</td>\n",
       "    </tr>\n",
       "    <tr>\n",
       "      <th>2</th>\n",
       "      <td>103485.0</td>\n",
       "      <td>3890862.27</td>\n",
       "      <td>9082.0</td>\n",
       "    </tr>\n",
       "    <tr>\n",
       "      <th>3</th>\n",
       "      <td>87927.0</td>\n",
       "      <td>3266125.08</td>\n",
       "      <td>7015.0</td>\n",
       "    </tr>\n",
       "    <tr>\n",
       "      <th>4</th>\n",
       "      <td>138343.0</td>\n",
       "      <td>5035698.12</td>\n",
       "      <td>11380.0</td>\n",
       "    </tr>\n",
       "    <tr>\n",
       "      <th>5</th>\n",
       "      <td>95698.0</td>\n",
       "      <td>4066030.17</td>\n",
       "      <td>7831.0</td>\n",
       "    </tr>\n",
       "    <tr>\n",
       "      <th>6</th>\n",
       "      <td>61535.0</td>\n",
       "      <td>2699591.74</td>\n",
       "      <td>4321.0</td>\n",
       "    </tr>\n",
       "    <tr>\n",
       "      <th>7</th>\n",
       "      <td>96162.0</td>\n",
       "      <td>3443409.07</td>\n",
       "      <td>7190.0</td>\n",
       "    </tr>\n",
       "    <tr>\n",
       "      <th>8</th>\n",
       "      <td>67073.0</td>\n",
       "      <td>2789072.83</td>\n",
       "      <td>4782.0</td>\n",
       "    </tr>\n",
       "    <tr>\n",
       "      <th>9</th>\n",
       "      <td>42352.0</td>\n",
       "      <td>1670080.34</td>\n",
       "      <td>3566.0</td>\n",
       "    </tr>\n",
       "    <tr>\n",
       "      <th>10</th>\n",
       "      <td>46073.0</td>\n",
       "      <td>1580503.56</td>\n",
       "      <td>2961.0</td>\n",
       "    </tr>\n",
       "    <tr>\n",
       "      <th>11</th>\n",
       "      <td>21929.0</td>\n",
       "      <td>827756.61</td>\n",
       "      <td>1681.0</td>\n",
       "    </tr>\n",
       "    <tr>\n",
       "      <th>12</th>\n",
       "      <td>12015.0</td>\n",
       "      <td>462363.61</td>\n",
       "      <td>827.0</td>\n",
       "    </tr>\n",
       "  </tbody>\n",
       "</table>\n",
       "</div>"
      ],
      "text/plain": [
       "       duration     mb_used  message_date\n",
       "month                                    \n",
       "1      158985.0  6397001.20       13777.0\n",
       "2      103485.0  3890862.27        9082.0\n",
       "3       87927.0  3266125.08        7015.0\n",
       "4      138343.0  5035698.12       11380.0\n",
       "5       95698.0  4066030.17        7831.0\n",
       "6       61535.0  2699591.74        4321.0\n",
       "7       96162.0  3443409.07        7190.0\n",
       "8       67073.0  2789072.83        4782.0\n",
       "9       42352.0  1670080.34        3566.0\n",
       "10      46073.0  1580503.56        2961.0\n",
       "11      21929.0   827756.61        1681.0\n",
       "12      12015.0   462363.61         827.0"
      ]
     },
     "execution_count": 44,
     "metadata": {},
     "output_type": "execute_result"
    }
   ],
   "source": [
    "tariff_smart=(group_all\n",
    "              .query('tariff==\"smart\"')\n",
    "              .pivot_table(index='month', values=('duration', 'message_date', 'mb_used'), aggfunc=('sum')))\n",
    "tariff_smart"
   ]
  },
  {
   "cell_type": "markdown",
   "id": "73f1bae9",
   "metadata": {},
   "source": [
    "Строим график количества потраченного интернета по месяцам по двум тарифам."
   ]
  },
  {
   "cell_type": "code",
   "execution_count": 45,
   "id": "f2a266eb",
   "metadata": {},
   "outputs": [
    {
     "data": {
      "text/plain": [
       "<AxesSubplot:xlabel='month'>"
      ]
     },
     "execution_count": 45,
     "metadata": {},
     "output_type": "execute_result"
    },
    {
     "data": {
      "image/png": "[encoded data removed]",
      "text/plain": [
       "<Figure size 936x432 with 1 Axes>"
      ]
     },
     "metadata": {
      "needs_background": "light"
     },
     "output_type": "display_data"
    }
   ],
   "source": [
    "ax = tariff_ultra.plot(y='mb_used', figsize=(13,6), style='o-', kind='bar', label='ultra')\n",
    "tariff_smart.plot(\n",
    "    y='mb_used', grid=True, figsize=(13,6), style='o-', kind='bar', label='smart',\n",
    "    alpha=0.5, ax=ax)"
   ]
  },
  {
   "cell_type": "markdown",
   "id": "e8c89997",
   "metadata": {},
   "source": [
    "На освании графика можно сделать вывод, что тариф Смарт лидирует по количеству потраченного интернета, и наибольший пик приходится на январь"
   ]
  },
  {
   "cell_type": "markdown",
   "id": "164dfa88",
   "metadata": {},
   "source": [
    "Построим график количества минут разговора по месяцам по двум тарифам"
   ]
  },
  {
   "cell_type": "code",
   "execution_count": 46,
   "id": "22b16c21",
   "metadata": {},
   "outputs": [
    {
     "data": {
      "text/plain": [
       "<AxesSubplot:xlabel='month'>"
      ]
     },
     "execution_count": 46,
     "metadata": {},
     "output_type": "execute_result"
    },
    {
     "data": {
      "image/png": "[encoded data removed]",
      "text/plain": [
       "<Figure size 936x432 with 1 Axes>"
      ]
     },
     "metadata": {
      "needs_background": "light"
     },
     "output_type": "display_data"
    }
   ],
   "source": [
    "ax = tariff_ultra.plot(\n",
    "    y='duration', figsize=(13,6), style='o-', kind='bar', label='ultra')\n",
    "tariff_smart.plot(\n",
    "    y='duration', grid=True, figsize=(13,6), style='o-', kind='bar', label='smart',\n",
    "    alpha=0.5, ax=ax)"
   ]
  },
  {
   "cell_type": "markdown",
   "id": "ec051578",
   "metadata": {},
   "source": [
    "На основании графика можно сделать вывод, что тариф Смарт лидируется и здесь."
   ]
  },
  {
   "cell_type": "markdown",
   "id": "8d03f6b3",
   "metadata": {},
   "source": [
    "Построим график для двух тарифов по количеству сообщений по месяцам"
   ]
  },
  {
   "cell_type": "code",
   "execution_count": 47,
   "id": "9e3e3ae9",
   "metadata": {},
   "outputs": [
    {
     "data": {
      "text/plain": [
       "<AxesSubplot:xlabel='month'>"
      ]
     },
     "execution_count": 47,
     "metadata": {},
     "output_type": "execute_result"
    },
    {
     "data": {
      "image/png": "[encoded data removed]",
      "text/plain": [
       "<Figure size 936x432 with 1 Axes>"
      ]
     },
     "metadata": {
      "needs_background": "light"
     },
     "output_type": "display_data"
    }
   ],
   "source": [
    "ax = tariff_ultra.plot(\n",
    "    y='message_date', grid=True, figsize=(13,6), style='o-', kind='bar', label='ultra')\n",
    "tariff_smart.plot(\n",
    "    y='message_date', grid=True, figsize=(13,6), style='o-', kind='bar', label='smart',\n",
    "    alpha=0.5, ax=ax)"
   ]
  },
  {
   "cell_type": "markdown",
   "id": "552cc047",
   "metadata": {},
   "source": [
    "На основании графика можно сделать вывод, что в сообщениях ситуация почти такая же как и в интернете и звонках, но здесь кое-где сообщений или примерно столько же или чуть больше, чем в тарифе Смарт."
   ]
  },
  {
   "cell_type": "markdown",
   "id": "dca86034",
   "metadata": {},
   "source": [
    "Находим срез по месяцам для тарифа Ультра и рассчитываем средние значения по звонкам, сообщением и интернету. Строим график по среднему времени разговора."
   ]
  },
  {
   "cell_type": "code",
   "execution_count": 48,
   "id": "b2fbb9d9",
   "metadata": {},
   "outputs": [
    {
     "data": {
      "text/html": [
       "<div>\n",
       "<style scoped>\n",
       "    .dataframe tbody tr th:only-of-type {\n",
       "        vertical-align: middle;\n",
       "    }\n",
       "\n",
       "    .dataframe tbody tr th {\n",
       "        vertical-align: top;\n",
       "    }\n",
       "\n",
       "    .dataframe thead th {\n",
       "        text-align: right;\n",
       "    }\n",
       "</style>\n",
       "<table border=\"1\" class=\"dataframe\">\n",
       "  <thead>\n",
       "    <tr style=\"text-align: right;\">\n",
       "      <th></th>\n",
       "      <th>mean_duration</th>\n",
       "      <th>mean_mb_used</th>\n",
       "      <th>mean_message</th>\n",
       "    </tr>\n",
       "    <tr>\n",
       "      <th>month</th>\n",
       "      <th></th>\n",
       "      <th></th>\n",
       "      <th></th>\n",
       "    </tr>\n",
       "  </thead>\n",
       "  <tbody>\n",
       "    <tr>\n",
       "      <th>1</th>\n",
       "      <td>625.875000</td>\n",
       "      <td>21372.365577</td>\n",
       "      <td>46.846154</td>\n",
       "    </tr>\n",
       "    <tr>\n",
       "      <th>2</th>\n",
       "      <td>445.050314</td>\n",
       "      <td>20669.255660</td>\n",
       "      <td>39.515723</td>\n",
       "    </tr>\n",
       "    <tr>\n",
       "      <th>3</th>\n",
       "      <td>608.761538</td>\n",
       "      <td>14339.118692</td>\n",
       "      <td>23.923077</td>\n",
       "    </tr>\n",
       "    <tr>\n",
       "      <th>4</th>\n",
       "      <td>581.253086</td>\n",
       "      <td>21078.215679</td>\n",
       "      <td>40.833333</td>\n",
       "    </tr>\n",
       "    <tr>\n",
       "      <th>5</th>\n",
       "      <td>376.276596</td>\n",
       "      <td>19980.089043</td>\n",
       "      <td>68.148936</td>\n",
       "    </tr>\n",
       "    <tr>\n",
       "      <th>6</th>\n",
       "      <td>459.600000</td>\n",
       "      <td>21243.918348</td>\n",
       "      <td>58.104348</td>\n",
       "    </tr>\n",
       "    <tr>\n",
       "      <th>7</th>\n",
       "      <td>595.804878</td>\n",
       "      <td>19194.355610</td>\n",
       "      <td>62.170732</td>\n",
       "    </tr>\n",
       "    <tr>\n",
       "      <th>8</th>\n",
       "      <td>534.282051</td>\n",
       "      <td>15656.014487</td>\n",
       "      <td>72.858974</td>\n",
       "    </tr>\n",
       "    <tr>\n",
       "      <th>9</th>\n",
       "      <td>603.571429</td>\n",
       "      <td>16939.695714</td>\n",
       "      <td>62.971429</td>\n",
       "    </tr>\n",
       "    <tr>\n",
       "      <th>10</th>\n",
       "      <td>438.700000</td>\n",
       "      <td>24745.951333</td>\n",
       "      <td>63.700000</td>\n",
       "    </tr>\n",
       "    <tr>\n",
       "      <th>11</th>\n",
       "      <td>536.800000</td>\n",
       "      <td>18522.415667</td>\n",
       "      <td>61.133333</td>\n",
       "    </tr>\n",
       "    <tr>\n",
       "      <th>12</th>\n",
       "      <td>693.142857</td>\n",
       "      <td>24088.862857</td>\n",
       "      <td>67.714286</td>\n",
       "    </tr>\n",
       "  </tbody>\n",
       "</table>\n",
       "</div>"
      ],
      "text/plain": [
       "       mean_duration  mean_mb_used  mean_message\n",
       "month                                           \n",
       "1         625.875000  21372.365577     46.846154\n",
       "2         445.050314  20669.255660     39.515723\n",
       "3         608.761538  14339.118692     23.923077\n",
       "4         581.253086  21078.215679     40.833333\n",
       "5         376.276596  19980.089043     68.148936\n",
       "6         459.600000  21243.918348     58.104348\n",
       "7         595.804878  19194.355610     62.170732\n",
       "8         534.282051  15656.014487     72.858974\n",
       "9         603.571429  16939.695714     62.971429\n",
       "10        438.700000  24745.951333     63.700000\n",
       "11        536.800000  18522.415667     61.133333\n",
       "12        693.142857  24088.862857     67.714286"
      ]
     },
     "execution_count": 48,
     "metadata": {},
     "output_type": "execute_result"
    }
   ],
   "source": [
    "mean_ultra=(group_all\n",
    "           .query('tariff==\"ultra\"')\n",
    "           .pivot_table(index='month', values=('duration', 'message_date', 'mb_used'),\n",
    "           aggfunc=('mean')))\n",
    "mean_ultra.set_axis(['mean_duration', 'mean_mb_used', 'mean_message'], axis='columns', inplace=True)\n",
    "mean_ultra"
   ]
  },
  {
   "cell_type": "code",
   "execution_count": 49,
   "id": "ffb814b1",
   "metadata": {},
   "outputs": [
    {
     "data": {
      "text/plain": [
       "<AxesSubplot:xlabel='month'>"
      ]
     },
     "execution_count": 49,
     "metadata": {},
     "output_type": "execute_result"
    },
    {
     "data": {
      "image/png": "[encoded data removed]",
      "text/plain": [
       "<Figure size 936x432 with 1 Axes>"
      ]
     },
     "metadata": {
      "needs_background": "light"
     },
     "output_type": "display_data"
    }
   ],
   "source": [
    "mean_ultra.plot(y='mean_duration', grid=True, figsize=(13,6), style='o-', kind='bar',\n",
    "                label='Среднее значением минут разговора по каждому месяцу')"
   ]
  },
  {
   "cell_type": "markdown",
   "id": "4af12dbd",
   "metadata": {},
   "source": [
    "Считаем среднее время разговоров пользователей тарифа Ультра за каждый месяц"
   ]
  },
  {
   "cell_type": "code",
   "execution_count": 50,
   "id": "0c699ab4",
   "metadata": {},
   "outputs": [],
   "source": [
    "mean_ultra['mean_minute_for_person'] = tariff_ultra['duration']/len(group_all.query('tariff==\"ultra\"'))"
   ]
  },
  {
   "cell_type": "markdown",
   "id": "2dac548c",
   "metadata": {},
   "source": [
    "Считаем среднее, дисперсию и среднее квадратическое отклонение отдельно для каждого тарифа"
   ]
  },
  {
   "cell_type": "code",
   "execution_count": 51,
   "id": "879771da",
   "metadata": {},
   "outputs": [
    {
     "data": {
      "text/html": [
       "<div>\n",
       "<style scoped>\n",
       "    .dataframe tbody tr th:only-of-type {\n",
       "        vertical-align: middle;\n",
       "    }\n",
       "\n",
       "    .dataframe tbody tr th {\n",
       "        vertical-align: top;\n",
       "    }\n",
       "\n",
       "    .dataframe thead tr th {\n",
       "        text-align: left;\n",
       "    }\n",
       "\n",
       "    .dataframe thead tr:last-of-type th {\n",
       "        text-align: right;\n",
       "    }\n",
       "</style>\n",
       "<table border=\"1\" class=\"dataframe\">\n",
       "  <thead>\n",
       "    <tr>\n",
       "      <th></th>\n",
       "      <th colspan=\"4\" halign=\"left\">mean</th>\n",
       "      <th colspan=\"4\" halign=\"left\">var</th>\n",
       "      <th colspan=\"4\" halign=\"left\">std</th>\n",
       "    </tr>\n",
       "    <tr>\n",
       "      <th></th>\n",
       "      <th>duration</th>\n",
       "      <th>mb_used</th>\n",
       "      <th>message_date</th>\n",
       "      <th>money</th>\n",
       "      <th>duration</th>\n",
       "      <th>mb_used</th>\n",
       "      <th>message_date</th>\n",
       "      <th>money</th>\n",
       "      <th>duration</th>\n",
       "      <th>mb_used</th>\n",
       "      <th>message_date</th>\n",
       "      <th>money</th>\n",
       "    </tr>\n",
       "    <tr>\n",
       "      <th>tariff</th>\n",
       "      <th></th>\n",
       "      <th></th>\n",
       "      <th></th>\n",
       "      <th></th>\n",
       "      <th></th>\n",
       "      <th></th>\n",
       "      <th></th>\n",
       "      <th></th>\n",
       "      <th></th>\n",
       "      <th></th>\n",
       "      <th></th>\n",
       "      <th></th>\n",
       "    </tr>\n",
       "  </thead>\n",
       "  <tbody>\n",
       "    <tr>\n",
       "      <th>smart</th>\n",
       "      <td>417.934948</td>\n",
       "      <td>16208.386990</td>\n",
       "      <td>33.384029</td>\n",
       "      <td>1289.973531</td>\n",
       "      <td>36219.315784</td>\n",
       "      <td>3.446250e+07</td>\n",
       "      <td>796.812958</td>\n",
       "      <td>669785.708006</td>\n",
       "      <td>190.313730</td>\n",
       "      <td>5870.476681</td>\n",
       "      <td>28.227876</td>\n",
       "      <td>818.404367</td>\n",
       "    </tr>\n",
       "    <tr>\n",
       "      <th>ultra</th>\n",
       "      <td>526.623350</td>\n",
       "      <td>19468.805208</td>\n",
       "      <td>49.363452</td>\n",
       "      <td>2070.152284</td>\n",
       "      <td>100873.633397</td>\n",
       "      <td>1.017510e+08</td>\n",
       "      <td>2285.266143</td>\n",
       "      <td>141516.745079</td>\n",
       "      <td>317.606098</td>\n",
       "      <td>10087.170752</td>\n",
       "      <td>47.804457</td>\n",
       "      <td>376.187114</td>\n",
       "    </tr>\n",
       "  </tbody>\n",
       "</table>\n",
       "</div>"
      ],
      "text/plain": [
       "              mean                                                    var  \\\n",
       "          duration       mb_used message_date        money       duration   \n",
       "tariff                                                                      \n",
       "smart   417.934948  16208.386990    33.384029  1289.973531   36219.315784   \n",
       "ultra   526.623350  19468.805208    49.363452  2070.152284  100873.633397   \n",
       "\n",
       "                                                         std                \\\n",
       "             mb_used message_date          money    duration       mb_used   \n",
       "tariff                                                                       \n",
       "smart   3.446250e+07   796.812958  669785.708006  190.313730   5870.476681   \n",
       "ultra   1.017510e+08  2285.266143  141516.745079  317.606098  10087.170752   \n",
       "\n",
       "                                 \n",
       "       message_date       money  \n",
       "tariff                           \n",
       "smart     28.227876  818.404367  \n",
       "ultra     47.804457  376.187114  "
      ]
     },
     "execution_count": 51,
     "metadata": {},
     "output_type": "execute_result"
    }
   ],
   "source": [
    "group_all.pivot_table(index = 'tariff', values = ['duration',\n",
    "                                                  'message_date',\n",
    "                                                  'mb_used','money'], aggfunc = ['mean', 'var', 'std'])"
   ]
  },
  {
   "cell_type": "code",
   "execution_count": 52,
   "id": "25f2e860",
   "metadata": {},
   "outputs": [
    {
     "data": {
      "text/html": [
       "<div>\n",
       "<style scoped>\n",
       "    .dataframe tbody tr th:only-of-type {\n",
       "        vertical-align: middle;\n",
       "    }\n",
       "\n",
       "    .dataframe tbody tr th {\n",
       "        vertical-align: top;\n",
       "    }\n",
       "\n",
       "    .dataframe thead th {\n",
       "        text-align: right;\n",
       "    }\n",
       "</style>\n",
       "<table border=\"1\" class=\"dataframe\">\n",
       "  <thead>\n",
       "    <tr style=\"text-align: right;\">\n",
       "      <th></th>\n",
       "      <th>user_id</th>\n",
       "      <th>message_date</th>\n",
       "      <th>duration</th>\n",
       "      <th>mb_used</th>\n",
       "      <th>city</th>\n",
       "      <th>tariff</th>\n",
       "      <th>month</th>\n",
       "      <th>money</th>\n",
       "    </tr>\n",
       "  </thead>\n",
       "  <tbody>\n",
       "    <tr>\n",
       "      <th>1417</th>\n",
       "      <td>1000</td>\n",
       "      <td>57.0</td>\n",
       "      <td>466.0</td>\n",
       "      <td>14568.91</td>\n",
       "      <td>Краснодар</td>\n",
       "      <td>ultra</td>\n",
       "      <td>5</td>\n",
       "      <td>1950.0</td>\n",
       "    </tr>\n",
       "    <tr>\n",
       "      <th>1420</th>\n",
       "      <td>1000</td>\n",
       "      <td>70.0</td>\n",
       "      <td>333.0</td>\n",
       "      <td>9817.61</td>\n",
       "      <td>Краснодар</td>\n",
       "      <td>ultra</td>\n",
       "      <td>5</td>\n",
       "      <td>1950.0</td>\n",
       "    </tr>\n",
       "    <tr>\n",
       "      <th>1419</th>\n",
       "      <td>1000</td>\n",
       "      <td>58.0</td>\n",
       "      <td>338.0</td>\n",
       "      <td>14756.47</td>\n",
       "      <td>Краснодар</td>\n",
       "      <td>ultra</td>\n",
       "      <td>5</td>\n",
       "      <td>1950.0</td>\n",
       "    </tr>\n",
       "    <tr>\n",
       "      <th>1418</th>\n",
       "      <td>1000</td>\n",
       "      <td>73.0</td>\n",
       "      <td>350.0</td>\n",
       "      <td>14702.49</td>\n",
       "      <td>Краснодар</td>\n",
       "      <td>ultra</td>\n",
       "      <td>5</td>\n",
       "      <td>1950.0</td>\n",
       "    </tr>\n",
       "    <tr>\n",
       "      <th>1416</th>\n",
       "      <td>1000</td>\n",
       "      <td>81.0</td>\n",
       "      <td>408.0</td>\n",
       "      <td>14055.93</td>\n",
       "      <td>Краснодар</td>\n",
       "      <td>ultra</td>\n",
       "      <td>5</td>\n",
       "      <td>1950.0</td>\n",
       "    </tr>\n",
       "  </tbody>\n",
       "</table>\n",
       "</div>"
      ],
      "text/plain": [
       "      user_id  message_date  duration   mb_used       city tariff  month  \\\n",
       "1417     1000          57.0     466.0  14568.91  Краснодар  ultra      5   \n",
       "1420     1000          70.0     333.0   9817.61  Краснодар  ultra      5   \n",
       "1419     1000          58.0     338.0  14756.47  Краснодар  ultra      5   \n",
       "1418     1000          73.0     350.0  14702.49  Краснодар  ultra      5   \n",
       "1416     1000          81.0     408.0  14055.93  Краснодар  ultra      5   \n",
       "\n",
       "       money  \n",
       "1417  1950.0  \n",
       "1420  1950.0  \n",
       "1419  1950.0  \n",
       "1418  1950.0  \n",
       "1416  1950.0  "
      ]
     },
     "execution_count": 52,
     "metadata": {},
     "output_type": "execute_result"
    }
   ],
   "source": [
    "ultra_person_calls = group_all.query('tariff==\"ultra\"')\n",
    "ultra_person_calls.head()"
   ]
  },
  {
   "cell_type": "code",
   "execution_count": 67,
   "id": "7225f545",
   "metadata": {},
   "outputs": [],
   "source": [
    "mean_smart = (group_all\n",
    "             .query('tariff == \"smart\"')\n",
    "             .pivot_table(index='month', values=('duration', 'message_date', 'mb_used'), aggfunc=('mean')))\n",
    "# Находим средние значения mean_duration, mean_mb_used, mean_message для тарифа Смарт"
   ]
  },
  {
   "cell_type": "code",
   "execution_count": 68,
   "id": "ac1c11a2",
   "metadata": {},
   "outputs": [
    {
     "data": {
      "text/html": [
       "<div>\n",
       "<style scoped>\n",
       "    .dataframe tbody tr th:only-of-type {\n",
       "        vertical-align: middle;\n",
       "    }\n",
       "\n",
       "    .dataframe tbody tr th {\n",
       "        vertical-align: top;\n",
       "    }\n",
       "\n",
       "    .dataframe thead th {\n",
       "        text-align: right;\n",
       "    }\n",
       "</style>\n",
       "<table border=\"1\" class=\"dataframe\">\n",
       "  <thead>\n",
       "    <tr style=\"text-align: right;\">\n",
       "      <th></th>\n",
       "      <th>mean_duration</th>\n",
       "      <th>meam_mb_used</th>\n",
       "      <th>mean_message</th>\n",
       "    </tr>\n",
       "    <tr>\n",
       "      <th>month</th>\n",
       "      <th></th>\n",
       "      <th></th>\n",
       "      <th></th>\n",
       "    </tr>\n",
       "  </thead>\n",
       "  <tbody>\n",
       "    <tr>\n",
       "      <th>1</th>\n",
       "      <td>393.527228</td>\n",
       "      <td>15834.161386</td>\n",
       "      <td>34.101485</td>\n",
       "    </tr>\n",
       "    <tr>\n",
       "      <th>2</th>\n",
       "      <td>399.555985</td>\n",
       "      <td>15022.634247</td>\n",
       "      <td>35.065637</td>\n",
       "    </tr>\n",
       "    <tr>\n",
       "      <th>3</th>\n",
       "      <td>462.773684</td>\n",
       "      <td>17190.132000</td>\n",
       "      <td>36.921053</td>\n",
       "    </tr>\n",
       "    <tr>\n",
       "      <th>4</th>\n",
       "      <td>443.407051</td>\n",
       "      <td>16140.058077</td>\n",
       "      <td>36.474359</td>\n",
       "    </tr>\n",
       "    <tr>\n",
       "      <th>5</th>\n",
       "      <td>416.078261</td>\n",
       "      <td>17678.392043</td>\n",
       "      <td>34.047826</td>\n",
       "    </tr>\n",
       "    <tr>\n",
       "      <th>6</th>\n",
       "      <td>387.012579</td>\n",
       "      <td>16978.564403</td>\n",
       "      <td>27.176101</td>\n",
       "    </tr>\n",
       "    <tr>\n",
       "      <th>7</th>\n",
       "      <td>441.110092</td>\n",
       "      <td>15795.454450</td>\n",
       "      <td>32.981651</td>\n",
       "    </tr>\n",
       "    <tr>\n",
       "      <th>8</th>\n",
       "      <td>396.881657</td>\n",
       "      <td>16503.389527</td>\n",
       "      <td>28.295858</td>\n",
       "    </tr>\n",
       "    <tr>\n",
       "      <th>9</th>\n",
       "      <td>411.184466</td>\n",
       "      <td>16214.372233</td>\n",
       "      <td>34.621359</td>\n",
       "    </tr>\n",
       "    <tr>\n",
       "      <th>10</th>\n",
       "      <td>443.009615</td>\n",
       "      <td>15197.149615</td>\n",
       "      <td>28.471154</td>\n",
       "    </tr>\n",
       "    <tr>\n",
       "      <th>11</th>\n",
       "      <td>406.092593</td>\n",
       "      <td>15328.826111</td>\n",
       "      <td>31.129630</td>\n",
       "    </tr>\n",
       "    <tr>\n",
       "      <th>12</th>\n",
       "      <td>445.000000</td>\n",
       "      <td>17124.578148</td>\n",
       "      <td>30.629630</td>\n",
       "    </tr>\n",
       "  </tbody>\n",
       "</table>\n",
       "</div>"
      ],
      "text/plain": [
       "       mean_duration  meam_mb_used  mean_message\n",
       "month                                           \n",
       "1         393.527228  15834.161386     34.101485\n",
       "2         399.555985  15022.634247     35.065637\n",
       "3         462.773684  17190.132000     36.921053\n",
       "4         443.407051  16140.058077     36.474359\n",
       "5         416.078261  17678.392043     34.047826\n",
       "6         387.012579  16978.564403     27.176101\n",
       "7         441.110092  15795.454450     32.981651\n",
       "8         396.881657  16503.389527     28.295858\n",
       "9         411.184466  16214.372233     34.621359\n",
       "10        443.009615  15197.149615     28.471154\n",
       "11        406.092593  15328.826111     31.129630\n",
       "12        445.000000  17124.578148     30.629630"
      ]
     },
     "execution_count": 68,
     "metadata": {},
     "output_type": "execute_result"
    }
   ],
   "source": [
    "mean_smart.set_axis(['mean_duration', 'meam_mb_used', 'mean_message'], axis='columns', inplace=True)\n",
    "mean_smart"
   ]
  },
  {
   "cell_type": "code",
   "execution_count": 69,
   "id": "adfd0386",
   "metadata": {},
   "outputs": [
    {
     "data": {
      "text/plain": [
       "<AxesSubplot:xlabel='month'>"
      ]
     },
     "execution_count": 69,
     "metadata": {},
     "output_type": "execute_result"
    },
    {
     "data": {
      "image/png": "[encoded data removed]",
      "text/plain": [
       "<Figure size 936x432 with 1 Axes>"
      ]
     },
     "metadata": {
      "needs_background": "light"
     },
     "output_type": "display_data"
    }
   ],
   "source": [
    "mean_smart.plot(y='mean_duration', grid=True, figsize=(13,6), style='o-', kind='bar', \n",
    "                label='Среднее значение минут разговора для всех пользователей тарифа Смарт')\n",
    "# Строим график среднего значения по месяцам минут разговора для всех пользователей "
   ]
  },
  {
   "cell_type": "code",
   "execution_count": 70,
   "id": "359b05ef",
   "metadata": {},
   "outputs": [],
   "source": [
    "mean_smart['mean_minute_for_person'] = tariff_smart['duration']/len(group_all.query('tariff==\"smart\"'))\n",
    "# Среднее время разговорв для каждого месяца в тарифе Сматр"
   ]
  },
  {
   "cell_type": "code",
   "execution_count": 71,
   "id": "8da88438",
   "metadata": {},
   "outputs": [
    {
     "data": {
      "text/html": [
       "<div>\n",
       "<style scoped>\n",
       "    .dataframe tbody tr th:only-of-type {\n",
       "        vertical-align: middle;\n",
       "    }\n",
       "\n",
       "    .dataframe tbody tr th {\n",
       "        vertical-align: top;\n",
       "    }\n",
       "\n",
       "    .dataframe thead th {\n",
       "        text-align: right;\n",
       "    }\n",
       "</style>\n",
       "<table border=\"1\" class=\"dataframe\">\n",
       "  <thead>\n",
       "    <tr style=\"text-align: right;\">\n",
       "      <th></th>\n",
       "      <th>user_id</th>\n",
       "      <th>message_date</th>\n",
       "      <th>duration</th>\n",
       "      <th>mb_used</th>\n",
       "      <th>city</th>\n",
       "      <th>tariff</th>\n",
       "      <th>month</th>\n",
       "      <th>money</th>\n",
       "    </tr>\n",
       "  </thead>\n",
       "  <tbody>\n",
       "    <tr>\n",
       "      <th>3197</th>\n",
       "      <td>1001</td>\n",
       "      <td>0.0</td>\n",
       "      <td>430.0</td>\n",
       "      <td>18429.34</td>\n",
       "      <td>Москва</td>\n",
       "      <td>smart</td>\n",
       "      <td>11</td>\n",
       "      <td>1150.0</td>\n",
       "    </tr>\n",
       "    <tr>\n",
       "      <th>3198</th>\n",
       "      <td>1001</td>\n",
       "      <td>0.0</td>\n",
       "      <td>414.0</td>\n",
       "      <td>14036.66</td>\n",
       "      <td>Москва</td>\n",
       "      <td>smart</td>\n",
       "      <td>11</td>\n",
       "      <td>550.0</td>\n",
       "    </tr>\n",
       "    <tr>\n",
       "      <th>1723</th>\n",
       "      <td>1002</td>\n",
       "      <td>16.0</td>\n",
       "      <td>243.0</td>\n",
       "      <td>18587.28</td>\n",
       "      <td>Стерлитамак</td>\n",
       "      <td>smart</td>\n",
       "      <td>6</td>\n",
       "      <td>1350.0</td>\n",
       "    </tr>\n",
       "    <tr>\n",
       "      <th>1724</th>\n",
       "      <td>1002</td>\n",
       "      <td>12.0</td>\n",
       "      <td>236.0</td>\n",
       "      <td>18113.73</td>\n",
       "      <td>Стерлитамак</td>\n",
       "      <td>smart</td>\n",
       "      <td>6</td>\n",
       "      <td>1150.0</td>\n",
       "    </tr>\n",
       "    <tr>\n",
       "      <th>1721</th>\n",
       "      <td>1002</td>\n",
       "      <td>4.0</td>\n",
       "      <td>206.0</td>\n",
       "      <td>16691.08</td>\n",
       "      <td>Стерлитамак</td>\n",
       "      <td>smart</td>\n",
       "      <td>6</td>\n",
       "      <td>950.0</td>\n",
       "    </tr>\n",
       "  </tbody>\n",
       "</table>\n",
       "</div>"
      ],
      "text/plain": [
       "      user_id  message_date  duration   mb_used         city tariff  month  \\\n",
       "3197     1001           0.0     430.0  18429.34       Москва  smart     11   \n",
       "3198     1001           0.0     414.0  14036.66       Москва  smart     11   \n",
       "1723     1002          16.0     243.0  18587.28  Стерлитамак  smart      6   \n",
       "1724     1002          12.0     236.0  18113.73  Стерлитамак  smart      6   \n",
       "1721     1002           4.0     206.0  16691.08  Стерлитамак  smart      6   \n",
       "\n",
       "       money  \n",
       "3197  1150.0  \n",
       "3198   550.0  \n",
       "1723  1350.0  \n",
       "1724  1150.0  \n",
       "1721   950.0  "
      ]
     },
     "execution_count": 71,
     "metadata": {},
     "output_type": "execute_result"
    }
   ],
   "source": [
    "smart_person_calls = group_all.query('tariff==\"smart\"')\n",
    "# сохраняем в переменную всех пользователей тарифа Смарт для построения графиков\n",
    "smart_person_calls.head()"
   ]
  },
  {
   "cell_type": "markdown",
   "id": "83a41661",
   "metadata": {},
   "source": [
    "Построим графики по датафреймам ultra_person_calls и smart_person_calls, в которых собраны все пользователи тарифов Смарт и Ультра.\n",
    "Гистограмма распределения длительности звонков пользователей тарифов."
   ]
  },
  {
   "cell_type": "code",
   "execution_count": 82,
   "id": "3e6cc421",
   "metadata": {},
   "outputs": [
    {
     "data": {
      "text/plain": [
       "<matplotlib.legend.Legend at 0x7f3066cfe850>"
      ]
     },
     "execution_count": 82,
     "metadata": {},
     "output_type": "execute_result"
    },
    {
     "data": {
      "image/png": "[encoded data removed]",
      "text/plain": [
       "<Figure size 432x288 with 1 Axes>"
      ]
     },
     "metadata": {
      "needs_background": "light"
     },
     "output_type": "display_data"
    }
   ],
   "source": [
    "ultra_person_calls['duration'].hist(bins=30, density=True, label='ultra', alpha=0.6, color='c')\n",
    "smart_person_calls['duration'].hist(bins=30, density=True, label='smart', alpha=0.6, color='r')\n",
    "plt.legend()"
   ]
  },
  {
   "cell_type": "markdown",
   "id": "a5af7523",
   "metadata": {},
   "source": [
    "На основании гитограммы можно сделать вывод, что больше всего пользователей тарифа Ультра разговаривают до 10 минут, пользователи тарифа Смарт разговаривают около 400 минут."
   ]
  },
  {
   "cell_type": "markdown",
   "id": "a76df78c",
   "metadata": {},
   "source": [
    "Построим гистограммы распределения количества отправленных смс пользователей тарифов Смарт и Ультра"
   ]
  },
  {
   "cell_type": "code",
   "execution_count": 86,
   "id": "5d4d987f",
   "metadata": {},
   "outputs": [
    {
     "data": {
      "text/plain": [
       "<matplotlib.legend.Legend at 0x7f30664fec70>"
      ]
     },
     "execution_count": 86,
     "metadata": {},
     "output_type": "execute_result"
    },
    {
     "data": {
      "image/png": "[encoded data removed]",
      "text/plain": [
       "<Figure size 432x288 with 1 Axes>"
      ]
     },
     "metadata": {
      "needs_background": "light"
     },
     "output_type": "display_data"
    }
   ],
   "source": [
    "# Гистограмма для тарифа Ультра\n",
    "ultra_person_calls['message_date'].hist(bins=30, density=True, label='ultra', alpha=0.6, color='c')\n",
    "smart_person_calls['message_date'].hist(bins=30, density=True, label='smart', alpha=0.6, color='r')\n",
    "plt.legend()"
   ]
  },
  {
   "cell_type": "markdown",
   "id": "be89dd14",
   "metadata": {},
   "source": [
    "По гистограмме можно сделать вывод, что больше всего пользователей тарифов Ультра и Смарт отправляют около 10 смс"
   ]
  },
  {
   "cell_type": "code",
   "execution_count": 88,
   "id": "9cc71bc6",
   "metadata": {},
   "outputs": [
    {
     "data": {
      "text/plain": [
       "<matplotlib.legend.Legend at 0x7f3066394fa0>"
      ]
     },
     "execution_count": 88,
     "metadata": {},
     "output_type": "execute_result"
    },
    {
     "data": {
      "image/png": "[encoded data removed]",
      "text/plain": [
       "<Figure size 432x288 with 1 Axes>"
      ]
     },
     "metadata": {
      "needs_background": "light"
     },
     "output_type": "display_data"
    }
   ],
   "source": [
    "# Гистограмма для тарифа Ультра\n",
    "ultra_person_calls['mb_used'].hist(bins=30, density=True, label='ultra', alpha=0.6, color='c')\n",
    "smart_person_calls['mb_used'].hist(bins=30, density=True, label='smart', alpha=0.6, color='r')\n",
    "plt.legend()"
   ]
  },
  {
   "cell_type": "markdown",
   "id": "4bbfc5f3",
   "metadata": {},
   "source": [
    "По гистограмме можно сделать вывод, что больше всего пользователей тарифа Ультра использует около 20000 мб, а тарифа Смарт около 15000 мб."
   ]
  },
  {
   "cell_type": "markdown",
   "id": "505d59a3",
   "metadata": {},
   "source": [
    "**Вывод:** На гистограммах можно заметить что, у тарифа Ультра гистограммы скошены вправо, а в тарифе Смарт гистограммы скошены влево. Кроме этого можно заметить, что пользователи тарифа Ультра не тратят весь базовый пакет минут и количества смс, в отличие от пользователей тарифа Смарт."
   ]
  },
  {
   "cell_type": "markdown",
   "id": "234da9d8",
   "metadata": {},
   "source": [
    "## Проверка гипотез"
   ]
  },
  {
   "cell_type": "markdown",
   "id": "e80077d6",
   "metadata": {},
   "source": [
    "Проверка гипотезы: средняя выручка пользователей тарифов \"Ультра\" и \"Смарт\" различается.\n",
    "Для проверки данной гипотезы сформулируем нулевоую гипотезу: Средняя выручка пользователей тарифов \"Ультра\" и \"Смарт\" равны. Соответственно альтернативная гипотеза: Среднее значение выручки пользователей тарифа \"Ультра\" не равна средней выручке пользователей тарифа \"Смарт\""
   ]
  },
  {
   "cell_type": "code",
   "execution_count": 92,
   "id": "bb205ae9",
   "metadata": {},
   "outputs": [],
   "source": [
    "alpha=0.05 # Критический уровень статистической значимости\n",
    "ultra_all = group_all.query('tariff==\"ultra\"')\n",
    "smart_all = group_all.query('tariff==\"smart\"')"
   ]
  },
  {
   "cell_type": "markdown",
   "id": "3ca4d7c7",
   "metadata": {},
   "source": [
    "Считаю доверительный 95% интервал для прибыли тарифа Ультра"
   ]
  },
  {
   "cell_type": "code",
   "execution_count": 95,
   "id": "0e800395",
   "metadata": {},
   "outputs": [
    {
     "data": {
      "text/plain": [
       "(2046.6306002888466, 2093.673968239072)"
      ]
     },
     "execution_count": 95,
     "metadata": {},
     "output_type": "execute_result"
    }
   ],
   "source": [
    "st.t.interval(0.95, len(ultra_all['money'])-1, loc=np.mean(ultra_all['money']), scale=st.sem(ultra_all['money']))"
   ]
  },
  {
   "cell_type": "markdown",
   "id": "a993ad90",
   "metadata": {},
   "source": [
    "Считаю доверительный 95% интервал для прибыли тарифа Смарт"
   ]
  },
  {
   "cell_type": "code",
   "execution_count": 98,
   "id": "84120b00",
   "metadata": {},
   "outputs": [
    {
     "data": {
      "text/plain": [
       "(1255.979944176798, 1323.9671172857413)"
      ]
     },
     "execution_count": 98,
     "metadata": {},
     "output_type": "execute_result"
    }
   ],
   "source": [
    "st.t.interval(0.95, len(smart_all['money'])-1, loc=np.mean(smart_all['money']), scale=st.sem(smart_all['money']))"
   ]
  },
  {
   "cell_type": "code",
   "execution_count": 99,
   "id": "1bc6a3cb",
   "metadata": {},
   "outputs": [
    {
     "data": {
      "text/plain": [
       "669785.7080064242"
      ]
     },
     "execution_count": 99,
     "metadata": {},
     "output_type": "execute_result"
    }
   ],
   "source": [
    "smart_all['money'].var() # Дисперсия выручки тарифа Смарт"
   ]
  },
  {
   "cell_type": "code",
   "execution_count": 100,
   "id": "2b4a323f",
   "metadata": {},
   "outputs": [
    {
     "data": {
      "text/plain": [
       "141516.74507861826"
      ]
     },
     "execution_count": 100,
     "metadata": {},
     "output_type": "execute_result"
    }
   ],
   "source": [
    "ultra_all['money'].var() # Дисперсия выручки тарифа Ультра"
   ]
  },
  {
   "cell_type": "markdown",
   "id": "02c9513e",
   "metadata": {},
   "source": [
    "Значения дисперсии сильно отличаются, поэтому в функции st.ttest_ind буду использовать параметр equal_var=False"
   ]
  },
  {
   "cell_type": "code",
   "execution_count": 101,
   "id": "13a2e205",
   "metadata": {},
   "outputs": [],
   "source": [
    "result = st.ttest_ind(smart_all['money'], ultra_all['money'], equal_var=False)"
   ]
  },
  {
   "cell_type": "markdown",
   "id": "0ca3520f",
   "metadata": {},
   "source": [
    "Проверяем гипотезу о равенстве двух средних генаральных совокупностей"
   ]
  },
  {
   "cell_type": "code",
   "execution_count": 102,
   "id": "8975be42",
   "metadata": {},
   "outputs": [
    {
     "name": "stdout",
     "output_type": "stream",
     "text": [
      "p-значение= 4.2606313931076085e-250\n",
      "Отвергаем нулевую гипотезу\n"
     ]
    }
   ],
   "source": [
    "print('p-значение=', result.pvalue)\n",
    "if (result.pvalue < alpha):\n",
    "    print('Отвергаем нулевую гипотезу')\n",
    "else:\n",
    "    print('Не получилось отвергнуть нулевую гипотезу')"
   ]
  },
  {
   "cell_type": "markdown",
   "id": "823f33e9",
   "metadata": {},
   "source": [
    "Нулевая гипотеза отвергнута, значит значения выручки тарифа Ультра и Смарт различаются. Полученное значение p-value говорит о том, что вероятность получить такое или большее различие случайно очень мала. Это явно слишком маленькая вероятность, чтобы делать вывод о значимом различии между средними выручками двух тарифов."
   ]
  },
  {
   "cell_type": "markdown",
   "id": "70bcb22c",
   "metadata": {},
   "source": [
    "Проверяем гипотезу: средняя выручка пользователей из Москвы отличается от выручки пользователей из других регионов. Формулируем нулевую гипотезу: средняя выручка пользователей из Москвы не отличается от выручки пользователей из других регионов"
   ]
  },
  {
   "cell_type": "code",
   "execution_count": 103,
   "id": "2bbe4446",
   "metadata": {},
   "outputs": [],
   "source": [
    "moscow_all = group_all.query('city==\"Москва\"') # Пользователи Москвы"
   ]
  },
  {
   "cell_type": "code",
   "execution_count": 104,
   "id": "78c45ee2",
   "metadata": {},
   "outputs": [],
   "source": [
    "other_all = group_all.query('city != \"Москва\"') # Пользователи других городов "
   ]
  },
  {
   "cell_type": "code",
   "execution_count": 105,
   "id": "a7d1d97d",
   "metadata": {},
   "outputs": [],
   "source": [
    "alpha = 0.05 # задаем уровень статистической значимости"
   ]
  },
  {
   "cell_type": "code",
   "execution_count": 106,
   "id": "b15a5371",
   "metadata": {},
   "outputs": [
    {
     "data": {
      "text/plain": [
       "565636.4670118858"
      ]
     },
     "execution_count": 106,
     "metadata": {},
     "output_type": "execute_result"
    }
   ],
   "source": [
    "moscow_all['money'].var() # Рассчитваем дисперсию выручки жителей Москвы"
   ]
  },
  {
   "cell_type": "code",
   "execution_count": 107,
   "id": "dac40cda",
   "metadata": {},
   "outputs": [
    {
     "data": {
      "text/plain": [
       "1546.7135842880523"
      ]
     },
     "execution_count": 107,
     "metadata": {},
     "output_type": "execute_result"
    }
   ],
   "source": [
    "moscow_all['money'].mean() # Рассчитываем среднее значение выручки жителей Москвы"
   ]
  },
  {
   "cell_type": "code",
   "execution_count": 108,
   "id": "f1d9e031",
   "metadata": {},
   "outputs": [
    {
     "data": {
      "text/plain": [
       "654137.6285218114"
      ]
     },
     "execution_count": 108,
     "metadata": {},
     "output_type": "execute_result"
    }
   ],
   "source": [
    "other_all['money'].var() # Рассчитываем дисперсию выручки жителей других городов"
   ]
  },
  {
   "cell_type": "code",
   "execution_count": 109,
   "id": "ea1b6137",
   "metadata": {},
   "outputs": [
    {
     "data": {
      "text/plain": [
       "1524.9362274298885"
      ]
     },
     "execution_count": 109,
     "metadata": {},
     "output_type": "execute_result"
    }
   ],
   "source": [
    "other_all['money'].mean() # Рассчитываем среднее значение выручки жителей других городов"
   ]
  },
  {
   "cell_type": "code",
   "execution_count": 110,
   "id": "4f478528",
   "metadata": {},
   "outputs": [],
   "source": [
    "result = st.ttest_ind(moscow_all['money'], other_all['money'])"
   ]
  },
  {
   "cell_type": "code",
   "execution_count": 111,
   "id": "f5eb473c",
   "metadata": {},
   "outputs": [
    {
     "data": {
      "text/plain": [
       "0.5440152911670224"
      ]
     },
     "execution_count": 111,
     "metadata": {},
     "output_type": "execute_result"
    }
   ],
   "source": [
    "result.pvalue"
   ]
  },
  {
   "cell_type": "code",
   "execution_count": 112,
   "id": "9ada56a9",
   "metadata": {},
   "outputs": [
    {
     "name": "stdout",
     "output_type": "stream",
     "text": [
      "Гипотезу отвергнуть не удалось\n"
     ]
    }
   ],
   "source": [
    "if (result.pvalue < alpha):\n",
    "    print('Отвергаем гипотезу')\n",
    "else:\n",
    "    print('Гипотезу отвергнуть не удалось')"
   ]
  },
  {
   "cell_type": "markdown",
   "id": "0c64f416",
   "metadata": {},
   "source": [
    "Полученное значение p-value говорит о том, что вероятность получить такое или большее различие случайно почти 54 %, хотя средние значения прибыли от жителей Москвы и других городов и различаются. Это явно слишком большая вероятность, чтобы делать вывод о значимом различии между выручками."
   ]
  },
  {
   "cell_type": "markdown",
   "id": "52e69b33",
   "metadata": {},
   "source": [
    "## Вывод:\n",
    "Самым популярным тарифом явялется смарт и при этом он является самым прибыльным для компании. Доверительный интервал для тарифа Ультра прибыли составляет 1255-1323 руб, а доверительный интервал для тарифа Смарт 2046-2099 руб.\n",
    "\n",
    "Рекламный бюджет выгоднее всего перераспределить в пользу тарифа Смарт, несмотря на то, что его абонентам приходится покупать дополнительные минуты и смс\n",
    "\n",
    "В процессе работы, было выявлено, что в целом данные приходят без артефактов и достаточно чистые, за исключением столбца churn_date таблицы users. \n",
    "\n",
    "Так же исследовав предоставленные данные, были проверены гипотезы. Данные помогли нам опровергнуть гипотезу о том, что средняя выручка пользователей разных тарифов равна, а так же с большой вероятностью сказать, что средняя выручка пользователей из Москвы равна выручке пользователей из других регионов."
   ]
  }
 ],
 "metadata": {
  "ExecuteTimeLog": [
   {
    "duration": 7,
    "start_time": "2022-04-05T22:18:52.964Z"
   },
   {
    "duration": 7,
    "start_time": "2022-04-05T22:18:57.337Z"
   },
   {
    "duration": 138,
    "start_time": "2022-04-05T22:20:32.767Z"
   },
   {
    "duration": 136,
    "start_time": "2022-04-05T22:25:49.961Z"
   },
   {
    "duration": 38,
    "start_time": "2022-04-05T22:41:54.968Z"
   },
   {
    "duration": 1123,
    "start_time": "2022-04-05T22:42:01.302Z"
   },
   {
    "duration": 143,
    "start_time": "2022-04-05T22:42:02.429Z"
   },
   {
    "duration": 9,
    "start_time": "2022-04-05T22:42:02.574Z"
   },
   {
    "duration": 142,
    "start_time": "2022-04-05T22:42:02.584Z"
   },
   {
    "duration": 8,
    "start_time": "2022-04-05T22:42:02.729Z"
   },
   {
    "duration": 103,
    "start_time": "2022-04-05T22:42:02.738Z"
   },
   {
    "duration": 6,
    "start_time": "2022-04-05T22:42:02.843Z"
   },
   {
    "duration": 28,
    "start_time": "2022-04-05T22:42:02.850Z"
   },
   {
    "duration": 7,
    "start_time": "2022-04-05T22:42:02.880Z"
   },
   {
    "duration": 31,
    "start_time": "2022-04-05T22:42:02.889Z"
   },
   {
    "duration": 8,
    "start_time": "2022-04-05T22:42:02.921Z"
   },
   {
    "duration": 74,
    "start_time": "2022-04-05T22:42:02.930Z"
   },
   {
    "duration": 6,
    "start_time": "2022-04-05T22:42:03.005Z"
   },
   {
    "duration": 17,
    "start_time": "2022-04-05T22:42:03.013Z"
   },
   {
    "duration": 19,
    "start_time": "2022-04-05T22:42:03.031Z"
   },
   {
    "duration": 19,
    "start_time": "2022-04-05T22:42:03.052Z"
   },
   {
    "duration": 4,
    "start_time": "2022-04-05T22:42:03.072Z"
   },
   {
    "duration": 27,
    "start_time": "2022-04-05T22:42:03.077Z"
   },
   {
    "duration": 136,
    "start_time": "2022-04-05T22:42:03.105Z"
   },
   {
    "duration": 17,
    "start_time": "2022-04-05T22:42:03.242Z"
   },
   {
    "duration": 30,
    "start_time": "2022-04-05T22:42:03.261Z"
   },
   {
    "duration": 13,
    "start_time": "2022-04-05T22:42:03.292Z"
   },
   {
    "duration": 40,
    "start_time": "2022-04-05T22:42:03.306Z"
   },
   {
    "duration": 16,
    "start_time": "2022-04-05T22:42:03.347Z"
   },
   {
    "duration": 15,
    "start_time": "2022-04-05T22:42:03.364Z"
   },
   {
    "duration": 54,
    "start_time": "2022-04-05T22:42:03.381Z"
   },
   {
    "duration": 17,
    "start_time": "2022-04-05T22:42:03.436Z"
   },
   {
    "duration": 3,
    "start_time": "2022-04-05T22:42:03.457Z"
   },
   {
    "duration": 27,
    "start_time": "2022-04-05T22:42:03.461Z"
   },
   {
    "duration": 9,
    "start_time": "2022-04-05T22:42:03.490Z"
   },
   {
    "duration": 15,
    "start_time": "2022-04-05T22:42:03.500Z"
   },
   {
    "duration": 9,
    "start_time": "2022-04-05T22:42:03.529Z"
   },
   {
    "duration": 11,
    "start_time": "2022-04-05T22:42:03.540Z"
   },
   {
    "duration": 35,
    "start_time": "2022-04-05T22:42:03.552Z"
   },
   {
    "duration": 152,
    "start_time": "2022-04-05T22:42:03.588Z"
   },
   {
    "duration": 5,
    "start_time": "2022-04-05T22:42:03.741Z"
   },
   {
    "duration": 18,
    "start_time": "2022-04-05T22:42:03.748Z"
   },
   {
    "duration": 31,
    "start_time": "2022-04-05T22:42:03.767Z"
   },
   {
    "duration": 15,
    "start_time": "2022-04-05T22:42:03.800Z"
   },
   {
    "duration": 17,
    "start_time": "2022-04-05T22:42:03.816Z"
   },
   {
    "duration": 22,
    "start_time": "2022-04-05T22:42:03.834Z"
   },
   {
    "duration": 180,
    "start_time": "2022-04-05T22:42:03.857Z"
   },
   {
    "duration": 180,
    "start_time": "2022-04-05T22:42:04.039Z"
   },
   {
    "duration": 191,
    "start_time": "2022-04-05T22:42:04.226Z"
   },
   {
    "duration": 17,
    "start_time": "2022-04-05T22:42:04.419Z"
   },
   {
    "duration": 168,
    "start_time": "2022-04-05T22:42:04.437Z"
   },
   {
    "duration": 5,
    "start_time": "2022-04-05T22:42:04.606Z"
   },
   {
    "duration": 18,
    "start_time": "2022-04-05T22:42:04.613Z"
   },
   {
    "duration": 10,
    "start_time": "2022-04-05T22:42:04.632Z"
   },
   {
    "duration": 10,
    "start_time": "2022-04-05T22:42:04.643Z"
   },
   {
    "duration": 9,
    "start_time": "2022-04-05T22:42:04.654Z"
   },
   {
    "duration": 5,
    "start_time": "2022-04-05T22:42:04.664Z"
   },
   {
    "duration": 7,
    "start_time": "2022-04-05T22:42:04.670Z"
   },
   {
    "duration": 6,
    "start_time": "2022-04-05T22:42:04.679Z"
   },
   {
    "duration": 9,
    "start_time": "2022-04-05T22:42:04.686Z"
   },
   {
    "duration": 7,
    "start_time": "2022-04-05T22:42:04.697Z"
   },
   {
    "duration": 7,
    "start_time": "2022-04-05T22:42:04.706Z"
   },
   {
    "duration": 6,
    "start_time": "2022-04-05T22:42:04.730Z"
   },
   {
    "duration": 17,
    "start_time": "2022-04-05T22:42:04.737Z"
   },
   {
    "duration": 11,
    "start_time": "2022-04-05T22:42:04.755Z"
   },
   {
    "duration": 7,
    "start_time": "2022-04-05T22:42:04.768Z"
   },
   {
    "duration": 17,
    "start_time": "2022-04-05T22:42:04.776Z"
   },
   {
    "duration": 11,
    "start_time": "2022-04-05T22:42:04.794Z"
   },
   {
    "duration": 9,
    "start_time": "2022-04-05T22:42:04.806Z"
   },
   {
    "duration": 161,
    "start_time": "2022-04-05T22:42:04.816Z"
   },
   {
    "duration": 5,
    "start_time": "2022-04-05T22:42:04.978Z"
   },
   {
    "duration": 13,
    "start_time": "2022-04-05T22:42:04.985Z"
   },
   {
    "duration": 31,
    "start_time": "2022-04-05T22:42:05.000Z"
   },
   {
    "duration": 5,
    "start_time": "2022-04-05T22:42:05.032Z"
   },
   {
    "duration": 10,
    "start_time": "2022-04-05T22:42:05.038Z"
   },
   {
    "duration": 7,
    "start_time": "2022-04-05T22:42:05.050Z"
   },
   {
    "duration": 7,
    "start_time": "2022-04-05T22:42:05.058Z"
   },
   {
    "duration": 11,
    "start_time": "2022-04-05T22:42:05.066Z"
   },
   {
    "duration": 11,
    "start_time": "2022-04-05T22:42:05.078Z"
   },
   {
    "duration": 5,
    "start_time": "2022-04-05T22:42:05.090Z"
   },
   {
    "duration": 9,
    "start_time": "2022-04-05T22:42:05.097Z"
   },
   {
    "duration": 27,
    "start_time": "2022-04-05T22:42:05.107Z"
   },
   {
    "duration": 150,
    "start_time": "2022-04-05T22:42:05.136Z"
   },
   {
    "duration": 258,
    "start_time": "2022-04-05T22:42:05.288Z"
   },
   {
    "duration": 149,
    "start_time": "2022-04-05T22:42:05.548Z"
   },
   {
    "duration": 147,
    "start_time": "2022-04-05T22:42:05.699Z"
   },
   {
    "duration": 161,
    "start_time": "2022-04-05T22:42:05.851Z"
   },
   {
    "duration": 143,
    "start_time": "2022-04-05T22:42:06.013Z"
   },
   {
    "duration": 167,
    "start_time": "2022-04-05T22:42:06.158Z"
   },
   {
    "duration": 421,
    "start_time": "2022-04-05T22:42:06.329Z"
   },
   {
    "duration": 412,
    "start_time": "2022-04-05T22:42:06.751Z"
   },
   {
    "duration": 6,
    "start_time": "2022-04-05T22:42:07.164Z"
   },
   {
    "duration": 7,
    "start_time": "2022-04-05T22:42:07.172Z"
   },
   {
    "duration": 7,
    "start_time": "2022-04-05T22:42:07.181Z"
   },
   {
    "duration": 10,
    "start_time": "2022-04-05T22:42:07.189Z"
   },
   {
    "duration": 4,
    "start_time": "2022-04-05T22:42:07.201Z"
   },
   {
    "duration": 4,
    "start_time": "2022-04-05T22:42:07.207Z"
   },
   {
    "duration": 6,
    "start_time": "2022-04-05T22:42:07.213Z"
   },
   {
    "duration": 6,
    "start_time": "2022-04-05T22:42:07.220Z"
   },
   {
    "duration": 12,
    "start_time": "2022-04-05T22:42:07.228Z"
   },
   {
    "duration": 4,
    "start_time": "2022-04-05T22:42:07.241Z"
   },
   {
    "duration": 5,
    "start_time": "2022-04-05T22:42:07.246Z"
   },
   {
    "duration": 8,
    "start_time": "2022-04-05T22:42:07.253Z"
   },
   {
    "duration": 5,
    "start_time": "2022-04-05T22:42:07.263Z"
   },
   {
    "duration": 4,
    "start_time": "2022-04-05T22:42:07.270Z"
   },
   {
    "duration": 6,
    "start_time": "2022-04-05T22:42:07.275Z"
   },
   {
    "duration": 4,
    "start_time": "2022-04-05T22:42:07.282Z"
   },
   {
    "duration": 118,
    "start_time": "2022-04-05T22:42:07.287Z"
   },
   {
    "duration": 25,
    "start_time": "2022-04-05T22:42:07.407Z"
   },
   {
    "duration": 4,
    "start_time": "2022-04-05T22:42:07.433Z"
   },
   {
    "duration": 13,
    "start_time": "2022-04-05T22:42:07.438Z"
   },
   {
    "duration": 5,
    "start_time": "2022-04-05T22:42:07.452Z"
   },
   {
    "duration": 41,
    "start_time": "2022-04-06T04:44:53.609Z"
   },
   {
    "duration": 6,
    "start_time": "2022-04-06T04:45:17.258Z"
   },
   {
    "duration": 1273,
    "start_time": "2022-04-06T04:45:26.805Z"
   },
   {
    "duration": 175,
    "start_time": "2022-04-06T04:45:29.153Z"
   },
   {
    "duration": 11,
    "start_time": "2022-04-06T04:45:33.236Z"
   },
   {
    "duration": 154,
    "start_time": "2022-04-06T04:45:35.836Z"
   },
   {
    "duration": 100,
    "start_time": "2022-04-06T04:46:23.695Z"
   },
   {
    "duration": 7,
    "start_time": "2022-04-06T04:46:27.719Z"
   },
   {
    "duration": 22,
    "start_time": "2022-04-06T04:46:30.425Z"
   },
   {
    "duration": 8,
    "start_time": "2022-04-06T04:46:36.245Z"
   },
   {
    "duration": 33,
    "start_time": "2022-04-06T04:46:39.180Z"
   },
   {
    "duration": 9,
    "start_time": "2022-04-06T04:46:48.273Z"
   },
   {
    "duration": 54,
    "start_time": "2022-04-06T04:54:17.816Z"
   },
   {
    "duration": 7,
    "start_time": "2022-04-06T04:54:30.392Z"
   },
   {
    "duration": 9,
    "start_time": "2022-04-06T04:54:41.492Z"
   },
   {
    "duration": 8,
    "start_time": "2022-04-06T04:54:44.443Z"
   },
   {
    "duration": 4,
    "start_time": "2022-04-06T04:54:51.679Z"
   },
   {
    "duration": 182,
    "start_time": "2022-04-06T04:54:58.183Z"
   },
   {
    "duration": 70,
    "start_time": "2022-04-06T04:59:10.585Z"
   },
   {
    "duration": 15,
    "start_time": "2022-04-06T04:59:16.890Z"
   },
   {
    "duration": 18,
    "start_time": "2022-04-06T04:59:19.485Z"
   },
   {
    "duration": 8,
    "start_time": "2022-04-06T04:59:22.199Z"
   },
   {
    "duration": 3,
    "start_time": "2022-04-06T05:00:09.805Z"
   },
   {
    "duration": 10,
    "start_time": "2022-04-06T05:00:26.494Z"
   },
   {
    "duration": 3,
    "start_time": "2022-04-06T07:42:56.373Z"
   },
   {
    "duration": 9,
    "start_time": "2022-04-06T07:43:02.484Z"
   },
   {
    "duration": 17,
    "start_time": "2022-04-06T07:47:00.252Z"
   },
   {
    "duration": 6,
    "start_time": "2022-04-06T07:47:46.345Z"
   },
   {
    "duration": 194,
    "start_time": "2022-04-06T07:49:11.194Z"
   },
   {
    "duration": 3,
    "start_time": "2022-04-06T07:51:52.977Z"
   },
   {
    "duration": 3146,
    "start_time": "2022-04-06T07:52:22.759Z"
   },
   {
    "duration": 17,
    "start_time": "2022-04-06T07:53:19.222Z"
   },
   {
    "duration": 6,
    "start_time": "2022-04-06T07:53:21.638Z"
   },
   {
    "duration": 8,
    "start_time": "2022-04-06T07:53:24.029Z"
   },
   {
    "duration": 19,
    "start_time": "2022-04-06T07:53:31.038Z"
   },
   {
    "duration": 3093,
    "start_time": "2022-04-06T07:53:33.375Z"
   },
   {
    "duration": 17,
    "start_time": "2022-04-06T07:53:53.396Z"
   },
   {
    "duration": 17,
    "start_time": "2022-04-06T07:53:56.138Z"
   },
   {
    "duration": 6,
    "start_time": "2022-04-06T07:53:58.380Z"
   },
   {
    "duration": 9,
    "start_time": "2022-04-06T07:54:02.220Z"
   },
   {
    "duration": 1141,
    "start_time": "2022-04-06T07:56:33.472Z"
   },
   {
    "duration": 168,
    "start_time": "2022-04-06T07:56:37.049Z"
   },
   {
    "duration": 12,
    "start_time": "2022-04-06T07:56:39.641Z"
   },
   {
    "duration": 149,
    "start_time": "2022-04-06T07:56:42.161Z"
   },
   {
    "duration": 8,
    "start_time": "2022-04-06T07:56:46.841Z"
   },
   {
    "duration": 97,
    "start_time": "2022-04-06T07:56:48.677Z"
   },
   {
    "duration": 7,
    "start_time": "2022-04-06T07:56:51.309Z"
   },
   {
    "duration": 23,
    "start_time": "2022-04-06T07:57:01.446Z"
   },
   {
    "duration": 9,
    "start_time": "2022-04-06T07:57:05.158Z"
   },
   {
    "duration": 77,
    "start_time": "2022-04-06T07:57:06.609Z"
   },
   {
    "duration": 16,
    "start_time": "2022-04-06T07:57:09.158Z"
   },
   {
    "duration": 6,
    "start_time": "2022-04-06T07:57:10.481Z"
   },
   {
    "duration": 121,
    "start_time": "2022-04-06T07:57:13.241Z"
   },
   {
    "duration": 21,
    "start_time": "2022-04-06T07:57:17.003Z"
   },
   {
    "duration": 19,
    "start_time": "2022-04-06T07:57:18.550Z"
   },
   {
    "duration": 5,
    "start_time": "2022-04-06T07:57:20.133Z"
   },
   {
    "duration": 12,
    "start_time": "2022-04-06T07:57:23.253Z"
   },
   {
    "duration": 228,
    "start_time": "2022-04-06T07:57:26.044Z"
   },
   {
    "duration": 22,
    "start_time": "2022-04-06T07:57:29.271Z"
   },
   {
    "duration": 24,
    "start_time": "2022-04-06T07:57:30.824Z"
   },
   {
    "duration": 8,
    "start_time": "2022-04-06T07:57:32.040Z"
   },
   {
    "duration": 12,
    "start_time": "2022-04-06T07:57:33.995Z"
   },
   {
    "duration": 36,
    "start_time": "2022-04-06T07:57:39.081Z"
   },
   {
    "duration": 14,
    "start_time": "2022-04-06T07:57:42.826Z"
   },
   {
    "duration": 39,
    "start_time": "2022-04-06T07:57:45.063Z"
   },
   {
    "duration": 21,
    "start_time": "2022-04-06T07:57:47.357Z"
   },
   {
    "duration": 18,
    "start_time": "2022-04-06T07:57:50.245Z"
   },
   {
    "duration": 31,
    "start_time": "2022-04-06T07:57:51.577Z"
   },
   {
    "duration": 19,
    "start_time": "2022-04-06T07:57:54.175Z"
   },
   {
    "duration": 4,
    "start_time": "2022-04-06T07:57:56.485Z"
   },
   {
    "duration": 25,
    "start_time": "2022-04-06T07:57:59.934Z"
   },
   {
    "duration": 32,
    "start_time": "2022-04-06T07:59:54.979Z"
   },
   {
    "duration": 5,
    "start_time": "2022-04-06T07:59:57.529Z"
   },
   {
    "duration": 10,
    "start_time": "2022-04-06T08:00:03.108Z"
   },
   {
    "duration": 5,
    "start_time": "2022-04-06T10:02:42.596Z"
   },
   {
    "duration": 141,
    "start_time": "2022-04-06T10:03:53.647Z"
   },
   {
    "duration": 142,
    "start_time": "2022-04-06T10:03:56.762Z"
   },
   {
    "duration": 7,
    "start_time": "2022-04-06T10:03:59.564Z"
   },
   {
    "duration": 18,
    "start_time": "2022-04-06T10:04:01.544Z"
   },
   {
    "duration": 9,
    "start_time": "2022-04-06T10:04:04.307Z"
   },
   {
    "duration": 17,
    "start_time": "2022-04-06T10:08:08.710Z"
   },
   {
    "duration": 1172,
    "start_time": "2022-04-06T10:19:05.327Z"
   },
   {
    "duration": 160,
    "start_time": "2022-04-06T10:19:06.501Z"
   },
   {
    "duration": 10,
    "start_time": "2022-04-06T10:19:06.663Z"
   },
   {
    "duration": 146,
    "start_time": "2022-04-06T10:19:06.682Z"
   },
   {
    "duration": 8,
    "start_time": "2022-04-06T10:19:06.830Z"
   },
   {
    "duration": 96,
    "start_time": "2022-04-06T10:19:06.840Z"
   },
   {
    "duration": 7,
    "start_time": "2022-04-06T10:19:06.938Z"
   },
   {
    "duration": 24,
    "start_time": "2022-04-06T10:19:06.946Z"
   },
   {
    "duration": 11,
    "start_time": "2022-04-06T10:19:06.972Z"
   },
   {
    "duration": 46,
    "start_time": "2022-04-06T10:19:06.985Z"
   },
   {
    "duration": 9,
    "start_time": "2022-04-06T10:19:07.033Z"
   },
   {
    "duration": 6,
    "start_time": "2022-04-06T10:19:07.043Z"
   },
   {
    "duration": 70,
    "start_time": "2022-04-06T10:19:07.050Z"
   },
   {
    "duration": 3,
    "start_time": "2022-04-06T10:19:07.122Z"
   },
   {
    "duration": 16,
    "start_time": "2022-04-06T10:19:07.127Z"
   },
   {
    "duration": 16,
    "start_time": "2022-04-06T10:19:07.144Z"
   },
   {
    "duration": 4,
    "start_time": "2022-04-06T10:19:07.180Z"
   },
   {
    "duration": 12,
    "start_time": "2022-04-06T10:19:07.185Z"
   },
   {
    "duration": 151,
    "start_time": "2022-04-06T10:19:07.198Z"
   },
   {
    "duration": 17,
    "start_time": "2022-04-06T10:19:07.351Z"
   },
   {
    "duration": 24,
    "start_time": "2022-04-06T10:19:07.370Z"
   },
   {
    "duration": 5,
    "start_time": "2022-04-06T10:19:07.396Z"
   },
   {
    "duration": 10,
    "start_time": "2022-04-06T10:19:07.402Z"
   },
   {
    "duration": 35,
    "start_time": "2022-04-06T10:19:07.413Z"
   },
   {
    "duration": 33,
    "start_time": "2022-04-06T10:19:07.450Z"
   },
   {
    "duration": 24,
    "start_time": "2022-04-06T10:19:07.484Z"
   },
   {
    "duration": 15,
    "start_time": "2022-04-06T10:19:07.510Z"
   },
   {
    "duration": 15,
    "start_time": "2022-04-06T10:19:07.529Z"
   },
   {
    "duration": 53,
    "start_time": "2022-04-06T10:19:07.546Z"
   },
   {
    "duration": 17,
    "start_time": "2022-04-06T10:19:07.601Z"
   },
   {
    "duration": 3,
    "start_time": "2022-04-06T10:19:07.619Z"
   },
   {
    "duration": 25,
    "start_time": "2022-04-06T10:19:07.624Z"
   },
   {
    "duration": 49,
    "start_time": "2022-04-06T10:19:07.650Z"
   },
   {
    "duration": 5,
    "start_time": "2022-04-06T10:19:07.700Z"
   },
   {
    "duration": 11,
    "start_time": "2022-04-06T10:19:07.706Z"
   },
   {
    "duration": 5,
    "start_time": "2022-04-06T10:19:07.718Z"
   },
   {
    "duration": 159,
    "start_time": "2022-04-06T10:19:07.724Z"
   },
   {
    "duration": 150,
    "start_time": "2022-04-06T10:19:07.885Z"
   },
   {
    "duration": 6,
    "start_time": "2022-04-06T10:19:08.037Z"
   },
   {
    "duration": 20,
    "start_time": "2022-04-06T10:19:08.045Z"
   },
   {
    "duration": 26,
    "start_time": "2022-04-06T10:19:08.066Z"
   },
   {
    "duration": 7,
    "start_time": "2022-04-06T10:19:08.093Z"
   },
   {
    "duration": 15,
    "start_time": "2022-04-06T10:19:08.102Z"
   },
   {
    "duration": 15,
    "start_time": "2022-04-06T10:19:08.119Z"
   },
   {
    "duration": 219,
    "start_time": "2022-04-06T10:19:08.136Z"
   },
   {
    "duration": 210,
    "start_time": "2022-04-06T10:19:08.357Z"
   },
   {
    "duration": 204,
    "start_time": "2022-04-06T10:19:08.569Z"
   },
   {
    "duration": 21,
    "start_time": "2022-04-06T10:19:08.775Z"
   },
   {
    "duration": 173,
    "start_time": "2022-04-06T10:19:08.797Z"
   },
   {
    "duration": 10,
    "start_time": "2022-04-06T10:19:08.972Z"
   },
   {
    "duration": 15,
    "start_time": "2022-04-06T10:19:08.984Z"
   },
   {
    "duration": 9,
    "start_time": "2022-04-06T10:19:09.000Z"
   },
   {
    "duration": 10,
    "start_time": "2022-04-06T10:19:09.011Z"
   },
   {
    "duration": 8,
    "start_time": "2022-04-06T10:19:09.023Z"
   },
   {
    "duration": 5,
    "start_time": "2022-04-06T10:19:09.032Z"
   },
   {
    "duration": 5,
    "start_time": "2022-04-06T10:19:09.039Z"
   },
   {
    "duration": 5,
    "start_time": "2022-04-06T10:19:09.046Z"
   },
   {
    "duration": 8,
    "start_time": "2022-04-06T10:19:09.052Z"
   },
   {
    "duration": 22,
    "start_time": "2022-04-06T10:19:09.062Z"
   },
   {
    "duration": 8,
    "start_time": "2022-04-06T10:19:09.086Z"
   },
   {
    "duration": 8,
    "start_time": "2022-04-06T10:19:09.095Z"
   },
   {
    "duration": 12,
    "start_time": "2022-04-06T10:19:09.104Z"
   },
   {
    "duration": 9,
    "start_time": "2022-04-06T10:19:09.117Z"
   },
   {
    "duration": 8,
    "start_time": "2022-04-06T10:19:09.127Z"
   },
   {
    "duration": 16,
    "start_time": "2022-04-06T10:19:09.137Z"
   },
   {
    "duration": 27,
    "start_time": "2022-04-06T10:19:09.154Z"
   },
   {
    "duration": 7,
    "start_time": "2022-04-06T10:19:09.182Z"
   },
   {
    "duration": 163,
    "start_time": "2022-04-06T10:19:09.190Z"
   },
   {
    "duration": 6,
    "start_time": "2022-04-06T10:19:09.354Z"
   },
   {
    "duration": 23,
    "start_time": "2022-04-06T10:19:09.362Z"
   },
   {
    "duration": 17,
    "start_time": "2022-04-06T10:19:09.387Z"
   },
   {
    "duration": 6,
    "start_time": "2022-04-06T10:19:09.406Z"
   },
   {
    "duration": 6,
    "start_time": "2022-04-06T10:19:09.413Z"
   },
   {
    "duration": 7,
    "start_time": "2022-04-06T10:19:09.420Z"
   },
   {
    "duration": 7,
    "start_time": "2022-04-06T10:19:09.428Z"
   },
   {
    "duration": 98,
    "start_time": "2022-04-06T10:19:09.436Z"
   },
   {
    "duration": 10,
    "start_time": "2022-04-06T10:19:09.536Z"
   },
   {
    "duration": 9,
    "start_time": "2022-04-06T10:19:09.548Z"
   },
   {
    "duration": 14,
    "start_time": "2022-04-06T10:19:09.558Z"
   },
   {
    "duration": 19,
    "start_time": "2022-04-06T10:19:09.573Z"
   },
   {
    "duration": 157,
    "start_time": "2022-04-06T10:19:09.594Z"
   },
   {
    "duration": 244,
    "start_time": "2022-04-06T10:19:09.758Z"
   },
   {
    "duration": 183,
    "start_time": "2022-04-06T10:19:10.004Z"
   },
   {
    "duration": 179,
    "start_time": "2022-04-06T10:19:10.188Z"
   },
   {
    "duration": 184,
    "start_time": "2022-04-06T10:19:10.368Z"
   },
   {
    "duration": 241,
    "start_time": "2022-04-06T10:19:10.554Z"
   },
   {
    "duration": 184,
    "start_time": "2022-04-06T10:19:10.797Z"
   },
   {
    "duration": 440,
    "start_time": "2022-04-06T10:19:10.982Z"
   },
   {
    "duration": 605,
    "start_time": "2022-04-06T10:19:11.424Z"
   },
   {
    "duration": 7,
    "start_time": "2022-04-06T10:19:12.031Z"
   },
   {
    "duration": 6,
    "start_time": "2022-04-06T10:19:12.040Z"
   },
   {
    "duration": 6,
    "start_time": "2022-04-06T10:19:12.048Z"
   },
   {
    "duration": 7,
    "start_time": "2022-04-06T10:19:12.056Z"
   },
   {
    "duration": 4,
    "start_time": "2022-04-06T10:19:12.065Z"
   },
   {
    "duration": 9,
    "start_time": "2022-04-06T10:19:12.071Z"
   },
   {
    "duration": 6,
    "start_time": "2022-04-06T10:19:12.082Z"
   },
   {
    "duration": 7,
    "start_time": "2022-04-06T10:19:12.089Z"
   },
   {
    "duration": 6,
    "start_time": "2022-04-06T10:19:12.098Z"
   },
   {
    "duration": 4,
    "start_time": "2022-04-06T10:19:12.105Z"
   },
   {
    "duration": 5,
    "start_time": "2022-04-06T10:19:12.111Z"
   },
   {
    "duration": 6,
    "start_time": "2022-04-06T10:19:12.118Z"
   },
   {
    "duration": 8,
    "start_time": "2022-04-06T10:19:12.125Z"
   },
   {
    "duration": 4,
    "start_time": "2022-04-06T10:19:12.135Z"
   },
   {
    "duration": 40,
    "start_time": "2022-04-06T10:19:12.141Z"
   },
   {
    "duration": 5,
    "start_time": "2022-04-06T10:19:12.183Z"
   },
   {
    "duration": 8,
    "start_time": "2022-04-06T10:19:12.189Z"
   },
   {
    "duration": 6,
    "start_time": "2022-04-06T10:19:12.198Z"
   },
   {
    "duration": 6,
    "start_time": "2022-04-06T10:19:12.205Z"
   },
   {
    "duration": 7,
    "start_time": "2022-04-06T10:19:12.212Z"
   },
   {
    "duration": 6,
    "start_time": "2022-04-06T10:19:12.220Z"
   },
   {
    "duration": 3,
    "start_time": "2022-04-06T11:05:55.541Z"
   },
   {
    "duration": 5,
    "start_time": "2022-04-06T11:06:34.829Z"
   },
   {
    "duration": 4,
    "start_time": "2022-04-06T11:09:07.670Z"
   },
   {
    "duration": 5,
    "start_time": "2022-04-06T11:12:47.597Z"
   },
   {
    "duration": 93,
    "start_time": "2022-04-06T11:13:46.209Z"
   },
   {
    "duration": 5,
    "start_time": "2022-04-06T11:14:00.397Z"
   },
   {
    "duration": 3099,
    "start_time": "2022-04-06T11:16:01.913Z"
   },
   {
    "duration": 4,
    "start_time": "2022-04-06T11:16:18.927Z"
   },
   {
    "duration": 4,
    "start_time": "2022-04-06T11:17:22.598Z"
   },
   {
    "duration": 4,
    "start_time": "2022-04-06T11:18:09.965Z"
   },
   {
    "duration": 5,
    "start_time": "2022-04-06T11:18:49.095Z"
   },
   {
    "duration": 30,
    "start_time": "2022-04-06T11:27:01.002Z"
   },
   {
    "duration": 12,
    "start_time": "2022-04-06T11:35:16.739Z"
   },
   {
    "duration": 221,
    "start_time": "2022-04-06T11:36:33.362Z"
   },
   {
    "duration": 213,
    "start_time": "2022-04-06T11:38:43.969Z"
   },
   {
    "duration": 268,
    "start_time": "2022-04-06T11:39:08.484Z"
   },
   {
    "duration": 200,
    "start_time": "2022-04-06T11:39:48.047Z"
   },
   {
    "duration": 191,
    "start_time": "2022-04-06T11:47:50.620Z"
   },
   {
    "duration": 314,
    "start_time": "2022-04-06T13:17:53.298Z"
   },
   {
    "duration": 4,
    "start_time": "2022-04-06T13:28:59.928Z"
   },
   {
    "duration": 1344,
    "start_time": "2022-04-06T13:35:59.760Z"
   },
   {
    "duration": 181,
    "start_time": "2022-04-06T13:36:01.106Z"
   },
   {
    "duration": 11,
    "start_time": "2022-04-06T13:36:01.293Z"
   },
   {
    "duration": 157,
    "start_time": "2022-04-06T13:36:01.306Z"
   },
   {
    "duration": 7,
    "start_time": "2022-04-06T13:36:01.465Z"
   },
   {
    "duration": 110,
    "start_time": "2022-04-06T13:36:01.489Z"
   },
   {
    "duration": 8,
    "start_time": "2022-04-06T13:36:01.601Z"
   },
   {
    "duration": 38,
    "start_time": "2022-04-06T13:36:01.610Z"
   },
   {
    "duration": 7,
    "start_time": "2022-04-06T13:36:01.650Z"
   },
   {
    "duration": 59,
    "start_time": "2022-04-06T13:36:01.660Z"
   },
   {
    "duration": 11,
    "start_time": "2022-04-06T13:36:01.721Z"
   },
   {
    "duration": 12,
    "start_time": "2022-04-06T13:36:01.734Z"
   },
   {
    "duration": 82,
    "start_time": "2022-04-06T13:36:01.747Z"
   },
   {
    "duration": 5,
    "start_time": "2022-04-06T13:36:01.831Z"
   },
   {
    "duration": 23,
    "start_time": "2022-04-06T13:36:01.838Z"
   },
   {
    "duration": 42,
    "start_time": "2022-04-06T13:36:01.863Z"
   },
   {
    "duration": 4,
    "start_time": "2022-04-06T13:36:01.906Z"
   },
   {
    "duration": 14,
    "start_time": "2022-04-06T13:36:01.912Z"
   },
   {
    "duration": 170,
    "start_time": "2022-04-06T13:36:01.928Z"
   },
   {
    "duration": 17,
    "start_time": "2022-04-06T13:36:02.099Z"
   },
   {
    "duration": 17,
    "start_time": "2022-04-06T13:36:02.118Z"
   },
   {
    "duration": 6,
    "start_time": "2022-04-06T13:36:02.136Z"
   },
   {
    "duration": 11,
    "start_time": "2022-04-06T13:36:02.143Z"
   },
   {
    "duration": 58,
    "start_time": "2022-04-06T13:36:02.155Z"
   },
   {
    "duration": 14,
    "start_time": "2022-04-06T13:36:02.215Z"
   },
   {
    "duration": 24,
    "start_time": "2022-04-06T13:36:02.230Z"
   },
   {
    "duration": 42,
    "start_time": "2022-04-06T13:36:02.256Z"
   },
   {
    "duration": 17,
    "start_time": "2022-04-06T13:36:02.303Z"
   },
   {
    "duration": 33,
    "start_time": "2022-04-06T13:36:02.322Z"
   },
   {
    "duration": 48,
    "start_time": "2022-04-06T13:36:02.357Z"
   },
   {
    "duration": 4,
    "start_time": "2022-04-06T13:36:02.407Z"
   },
   {
    "duration": 28,
    "start_time": "2022-04-06T13:36:02.412Z"
   },
   {
    "duration": 50,
    "start_time": "2022-04-06T13:36:02.442Z"
   },
   {
    "duration": 5,
    "start_time": "2022-04-06T13:36:02.494Z"
   },
   {
    "duration": 15,
    "start_time": "2022-04-06T13:36:02.501Z"
   },
   {
    "duration": 9,
    "start_time": "2022-04-06T13:36:02.517Z"
   },
   {
    "duration": 167,
    "start_time": "2022-04-06T13:36:02.527Z"
   },
   {
    "duration": 156,
    "start_time": "2022-04-06T13:36:02.696Z"
   },
   {
    "duration": 7,
    "start_time": "2022-04-06T13:36:02.854Z"
   },
   {
    "duration": 33,
    "start_time": "2022-04-06T13:36:02.863Z"
   },
   {
    "duration": 18,
    "start_time": "2022-04-06T13:36:02.898Z"
   },
   {
    "duration": 7,
    "start_time": "2022-04-06T13:36:02.918Z"
   },
   {
    "duration": 19,
    "start_time": "2022-04-06T13:36:02.926Z"
   },
   {
    "duration": 49,
    "start_time": "2022-04-06T13:36:02.947Z"
   },
   {
    "duration": 198,
    "start_time": "2022-04-06T13:36:02.998Z"
   },
   {
    "duration": 210,
    "start_time": "2022-04-06T13:36:03.198Z"
   },
   {
    "duration": 205,
    "start_time": "2022-04-06T13:36:03.410Z"
   },
   {
    "duration": 17,
    "start_time": "2022-04-06T13:36:03.616Z"
   },
   {
    "duration": 196,
    "start_time": "2022-04-06T13:36:03.634Z"
   },
   {
    "duration": 6,
    "start_time": "2022-04-06T13:36:03.831Z"
   },
   {
    "duration": 32,
    "start_time": "2022-04-06T13:36:03.839Z"
   },
   {
    "duration": 22,
    "start_time": "2022-04-06T13:36:03.873Z"
   },
   {
    "duration": 3,
    "start_time": "2022-04-06T13:36:03.896Z"
   },
   {
    "duration": 8,
    "start_time": "2022-04-06T13:36:03.901Z"
   },
   {
    "duration": 6,
    "start_time": "2022-04-06T13:36:03.911Z"
   },
   {
    "duration": 5,
    "start_time": "2022-04-06T13:36:03.918Z"
   },
   {
    "duration": 5,
    "start_time": "2022-04-06T13:36:03.924Z"
   },
   {
    "duration": 6,
    "start_time": "2022-04-06T13:36:03.931Z"
   },
   {
    "duration": 5,
    "start_time": "2022-04-06T13:36:03.938Z"
   },
   {
    "duration": 8,
    "start_time": "2022-04-06T13:36:03.945Z"
   },
   {
    "duration": 7,
    "start_time": "2022-04-06T13:36:03.954Z"
   },
   {
    "duration": 11,
    "start_time": "2022-04-06T13:36:03.963Z"
   },
   {
    "duration": 23,
    "start_time": "2022-04-06T13:36:03.975Z"
   },
   {
    "duration": 10,
    "start_time": "2022-04-06T13:36:03.999Z"
   },
   {
    "duration": 11,
    "start_time": "2022-04-06T13:36:04.010Z"
   },
   {
    "duration": 9,
    "start_time": "2022-04-06T13:36:04.023Z"
   },
   {
    "duration": 17,
    "start_time": "2022-04-06T13:36:04.033Z"
   },
   {
    "duration": 8,
    "start_time": "2022-04-06T13:36:04.051Z"
   },
   {
    "duration": 163,
    "start_time": "2022-04-06T13:36:04.060Z"
   },
   {
    "duration": 5,
    "start_time": "2022-04-06T13:36:04.225Z"
   },
   {
    "duration": 15,
    "start_time": "2022-04-06T13:36:04.232Z"
   },
   {
    "duration": 2,
    "start_time": "2022-04-06T13:36:04.249Z"
   },
   {
    "duration": 14,
    "start_time": "2022-04-06T13:36:04.252Z"
   },
   {
    "duration": 32,
    "start_time": "2022-04-06T13:36:04.267Z"
   },
   {
    "duration": 7,
    "start_time": "2022-04-06T13:36:04.301Z"
   },
   {
    "duration": 14,
    "start_time": "2022-04-06T13:36:04.309Z"
   },
   {
    "duration": 15,
    "start_time": "2022-04-06T13:36:04.325Z"
   },
   {
    "duration": 19,
    "start_time": "2022-04-06T13:36:04.342Z"
   },
   {
    "duration": 43,
    "start_time": "2022-04-06T13:36:04.363Z"
   },
   {
    "duration": 27,
    "start_time": "2022-04-06T13:36:04.407Z"
   },
   {
    "duration": 28,
    "start_time": "2022-04-06T13:36:04.436Z"
   },
   {
    "duration": 293,
    "start_time": "2022-04-06T13:36:04.470Z"
   },
   {
    "duration": 344,
    "start_time": "2022-04-06T13:36:04.765Z"
   },
   {
    "duration": 3,
    "start_time": "2022-04-06T13:36:05.111Z"
   },
   {
    "duration": 7,
    "start_time": "2022-04-06T13:36:05.116Z"
   },
   {
    "duration": 229,
    "start_time": "2022-04-06T13:36:05.125Z"
   },
   {
    "duration": 3,
    "start_time": "2022-04-06T13:36:05.356Z"
   },
   {
    "duration": 228,
    "start_time": "2022-04-06T13:36:05.361Z"
   },
   {
    "duration": 5,
    "start_time": "2022-04-06T13:36:05.590Z"
   },
   {
    "duration": 0,
    "start_time": "2022-04-06T13:36:05.597Z"
   },
   {
    "duration": 0,
    "start_time": "2022-04-06T13:36:05.598Z"
   },
   {
    "duration": 0,
    "start_time": "2022-04-06T13:36:05.599Z"
   },
   {
    "duration": 0,
    "start_time": "2022-04-06T13:36:05.600Z"
   },
   {
    "duration": 0,
    "start_time": "2022-04-06T13:36:05.601Z"
   },
   {
    "duration": 0,
    "start_time": "2022-04-06T13:36:05.602Z"
   },
   {
    "duration": 0,
    "start_time": "2022-04-06T13:36:05.603Z"
   },
   {
    "duration": 0,
    "start_time": "2022-04-06T13:36:05.604Z"
   },
   {
    "duration": 0,
    "start_time": "2022-04-06T13:36:05.605Z"
   },
   {
    "duration": 0,
    "start_time": "2022-04-06T13:36:05.606Z"
   },
   {
    "duration": 0,
    "start_time": "2022-04-06T13:36:05.607Z"
   },
   {
    "duration": 0,
    "start_time": "2022-04-06T13:36:05.608Z"
   },
   {
    "duration": 0,
    "start_time": "2022-04-06T13:36:05.609Z"
   },
   {
    "duration": 0,
    "start_time": "2022-04-06T13:36:05.610Z"
   },
   {
    "duration": 0,
    "start_time": "2022-04-06T13:36:05.611Z"
   },
   {
    "duration": 0,
    "start_time": "2022-04-06T13:36:05.612Z"
   },
   {
    "duration": 0,
    "start_time": "2022-04-06T13:36:05.612Z"
   },
   {
    "duration": 0,
    "start_time": "2022-04-06T13:36:05.613Z"
   },
   {
    "duration": 0,
    "start_time": "2022-04-06T13:36:05.614Z"
   },
   {
    "duration": 0,
    "start_time": "2022-04-06T13:36:05.615Z"
   },
   {
    "duration": 0,
    "start_time": "2022-04-06T13:36:05.616Z"
   },
   {
    "duration": 0,
    "start_time": "2022-04-06T13:36:05.617Z"
   },
   {
    "duration": 0,
    "start_time": "2022-04-06T13:36:05.618Z"
   },
   {
    "duration": 7,
    "start_time": "2022-04-06T13:38:10.216Z"
   },
   {
    "duration": 6,
    "start_time": "2022-04-06T13:38:20.142Z"
   },
   {
    "duration": 4,
    "start_time": "2022-04-06T13:38:43.703Z"
   },
   {
    "duration": 6,
    "start_time": "2022-04-06T13:39:04.994Z"
   },
   {
    "duration": 4,
    "start_time": "2022-04-06T13:39:08.367Z"
   },
   {
    "duration": 4,
    "start_time": "2022-04-06T13:39:10.370Z"
   },
   {
    "duration": 3,
    "start_time": "2022-04-06T13:39:18.577Z"
   },
   {
    "duration": 3,
    "start_time": "2022-04-06T13:39:20.637Z"
   },
   {
    "duration": 5,
    "start_time": "2022-04-06T13:39:32.368Z"
   },
   {
    "duration": 7,
    "start_time": "2022-04-06T13:39:34.367Z"
   },
   {
    "duration": 2,
    "start_time": "2022-04-06T13:39:37.705Z"
   },
   {
    "duration": 4,
    "start_time": "2022-04-06T13:39:39.755Z"
   },
   {
    "duration": 4,
    "start_time": "2022-04-06T13:39:41.926Z"
   },
   {
    "duration": 5,
    "start_time": "2022-04-06T13:39:43.894Z"
   },
   {
    "duration": 4,
    "start_time": "2022-04-06T13:39:45.975Z"
   },
   {
    "duration": 3,
    "start_time": "2022-04-06T13:39:48.190Z"
   },
   {
    "duration": 4,
    "start_time": "2022-04-06T13:39:55.143Z"
   },
   {
    "duration": 4,
    "start_time": "2022-04-06T13:39:58.679Z"
   },
   {
    "duration": 2,
    "start_time": "2022-04-06T13:43:53.633Z"
   },
   {
    "duration": 1186,
    "start_time": "2022-04-06T14:02:42.251Z"
   },
   {
    "duration": 179,
    "start_time": "2022-04-06T14:02:43.439Z"
   },
   {
    "duration": 11,
    "start_time": "2022-04-06T14:02:43.620Z"
   },
   {
    "duration": 159,
    "start_time": "2022-04-06T14:02:43.633Z"
   },
   {
    "duration": 8,
    "start_time": "2022-04-06T14:02:43.794Z"
   },
   {
    "duration": 106,
    "start_time": "2022-04-06T14:02:43.803Z"
   },
   {
    "duration": 7,
    "start_time": "2022-04-06T14:02:43.910Z"
   },
   {
    "duration": 24,
    "start_time": "2022-04-06T14:02:43.918Z"
   },
   {
    "duration": 7,
    "start_time": "2022-04-06T14:02:43.943Z"
   },
   {
    "duration": 73,
    "start_time": "2022-04-06T14:02:43.952Z"
   },
   {
    "duration": 9,
    "start_time": "2022-04-06T14:02:44.027Z"
   },
   {
    "duration": 6,
    "start_time": "2022-04-06T14:02:44.037Z"
   },
   {
    "duration": 74,
    "start_time": "2022-04-06T14:02:44.044Z"
   },
   {
    "duration": 3,
    "start_time": "2022-04-06T14:02:44.120Z"
   },
   {
    "duration": 15,
    "start_time": "2022-04-06T14:02:44.125Z"
   },
   {
    "duration": 15,
    "start_time": "2022-04-06T14:02:44.141Z"
   },
   {
    "duration": 3,
    "start_time": "2022-04-06T14:02:44.158Z"
   },
   {
    "duration": 31,
    "start_time": "2022-04-06T14:02:44.162Z"
   },
   {
    "duration": 148,
    "start_time": "2022-04-06T14:02:44.195Z"
   },
   {
    "duration": 17,
    "start_time": "2022-04-06T14:02:44.344Z"
   },
   {
    "duration": 30,
    "start_time": "2022-04-06T14:02:44.362Z"
   },
   {
    "duration": 7,
    "start_time": "2022-04-06T14:02:44.394Z"
   },
   {
    "duration": 9,
    "start_time": "2022-04-06T14:02:44.402Z"
   },
   {
    "duration": 32,
    "start_time": "2022-04-06T14:02:44.413Z"
   },
   {
    "duration": 42,
    "start_time": "2022-04-06T14:02:44.447Z"
   },
   {
    "duration": 26,
    "start_time": "2022-04-06T14:02:44.490Z"
   },
   {
    "duration": 17,
    "start_time": "2022-04-06T14:02:44.517Z"
   },
   {
    "duration": 16,
    "start_time": "2022-04-06T14:02:44.539Z"
   },
   {
    "duration": 53,
    "start_time": "2022-04-06T14:02:44.556Z"
   },
   {
    "duration": 17,
    "start_time": "2022-04-06T14:02:44.612Z"
   },
   {
    "duration": 4,
    "start_time": "2022-04-06T14:02:44.630Z"
   },
   {
    "duration": 23,
    "start_time": "2022-04-06T14:02:44.636Z"
   },
   {
    "duration": 33,
    "start_time": "2022-04-06T14:02:44.684Z"
   },
   {
    "duration": 6,
    "start_time": "2022-04-06T14:02:44.718Z"
   },
   {
    "duration": 10,
    "start_time": "2022-04-06T14:02:44.725Z"
   },
   {
    "duration": 5,
    "start_time": "2022-04-06T14:02:44.736Z"
   },
   {
    "duration": 172,
    "start_time": "2022-04-06T14:02:44.743Z"
   },
   {
    "duration": 149,
    "start_time": "2022-04-06T14:02:44.917Z"
   },
   {
    "duration": 17,
    "start_time": "2022-04-06T14:02:45.068Z"
   },
   {
    "duration": 27,
    "start_time": "2022-04-06T14:02:45.087Z"
   },
   {
    "duration": 15,
    "start_time": "2022-04-06T14:02:45.116Z"
   },
   {
    "duration": 11,
    "start_time": "2022-04-06T14:02:45.133Z"
   },
   {
    "duration": 14,
    "start_time": "2022-04-06T14:02:45.145Z"
   },
   {
    "duration": 28,
    "start_time": "2022-04-06T14:02:45.161Z"
   },
   {
    "duration": 193,
    "start_time": "2022-04-06T14:02:45.190Z"
   },
   {
    "duration": 225,
    "start_time": "2022-04-06T14:02:45.385Z"
   },
   {
    "duration": 209,
    "start_time": "2022-04-06T14:02:45.612Z"
   },
   {
    "duration": 17,
    "start_time": "2022-04-06T14:02:45.822Z"
   },
   {
    "duration": 197,
    "start_time": "2022-04-06T14:02:45.840Z"
   },
   {
    "duration": 7,
    "start_time": "2022-04-06T14:02:46.039Z"
   },
   {
    "duration": 47,
    "start_time": "2022-04-06T14:02:46.047Z"
   },
   {
    "duration": 12,
    "start_time": "2022-04-06T14:02:46.096Z"
   },
   {
    "duration": 4,
    "start_time": "2022-04-06T14:02:46.110Z"
   },
   {
    "duration": 5,
    "start_time": "2022-04-06T14:02:46.115Z"
   },
   {
    "duration": 7,
    "start_time": "2022-04-06T14:02:46.121Z"
   },
   {
    "duration": 7,
    "start_time": "2022-04-06T14:02:46.129Z"
   },
   {
    "duration": 7,
    "start_time": "2022-04-06T14:02:46.138Z"
   },
   {
    "duration": 6,
    "start_time": "2022-04-06T14:02:46.146Z"
   },
   {
    "duration": 4,
    "start_time": "2022-04-06T14:02:46.153Z"
   },
   {
    "duration": 4,
    "start_time": "2022-04-06T14:02:46.159Z"
   },
   {
    "duration": 20,
    "start_time": "2022-04-06T14:02:46.165Z"
   },
   {
    "duration": 13,
    "start_time": "2022-04-06T14:02:46.187Z"
   },
   {
    "duration": 5,
    "start_time": "2022-04-06T14:02:46.202Z"
   },
   {
    "duration": 5,
    "start_time": "2022-04-06T14:02:46.208Z"
   },
   {
    "duration": 6,
    "start_time": "2022-04-06T14:02:46.214Z"
   },
   {
    "duration": 9,
    "start_time": "2022-04-06T14:02:46.221Z"
   },
   {
    "duration": 12,
    "start_time": "2022-04-06T14:02:46.231Z"
   },
   {
    "duration": 7,
    "start_time": "2022-04-06T14:02:46.245Z"
   },
   {
    "duration": 176,
    "start_time": "2022-04-06T14:02:46.254Z"
   },
   {
    "duration": 7,
    "start_time": "2022-04-06T14:02:46.432Z"
   },
   {
    "duration": 13,
    "start_time": "2022-04-06T14:02:46.441Z"
   },
   {
    "duration": 3,
    "start_time": "2022-04-06T14:02:46.456Z"
   },
   {
    "duration": 22,
    "start_time": "2022-04-06T14:02:46.461Z"
   },
   {
    "duration": 22,
    "start_time": "2022-04-06T14:02:46.484Z"
   },
   {
    "duration": 4,
    "start_time": "2022-04-06T14:02:46.508Z"
   },
   {
    "duration": 6,
    "start_time": "2022-04-06T14:02:46.513Z"
   },
   {
    "duration": 5,
    "start_time": "2022-04-06T14:02:46.520Z"
   },
   {
    "duration": 5,
    "start_time": "2022-04-06T14:02:46.526Z"
   },
   {
    "duration": 5,
    "start_time": "2022-04-06T14:02:46.532Z"
   },
   {
    "duration": 5,
    "start_time": "2022-04-06T14:02:46.538Z"
   },
   {
    "duration": 4,
    "start_time": "2022-04-06T14:02:46.544Z"
   },
   {
    "duration": 286,
    "start_time": "2022-04-06T14:02:46.554Z"
   },
   {
    "duration": 229,
    "start_time": "2022-04-06T14:02:46.841Z"
   },
   {
    "duration": 13,
    "start_time": "2022-04-06T14:02:47.072Z"
   },
   {
    "duration": 3,
    "start_time": "2022-04-06T14:02:47.086Z"
   },
   {
    "duration": 256,
    "start_time": "2022-04-06T14:02:47.090Z"
   },
   {
    "duration": 3,
    "start_time": "2022-04-06T14:02:47.348Z"
   },
   {
    "duration": 228,
    "start_time": "2022-04-06T14:02:47.353Z"
   },
   {
    "duration": 2,
    "start_time": "2022-04-06T14:02:47.583Z"
   },
   {
    "duration": 13,
    "start_time": "2022-04-06T14:02:47.587Z"
   },
   {
    "duration": 6,
    "start_time": "2022-04-06T14:02:47.601Z"
   },
   {
    "duration": 10,
    "start_time": "2022-04-06T14:02:47.608Z"
   },
   {
    "duration": 6,
    "start_time": "2022-04-06T14:02:47.619Z"
   },
   {
    "duration": 4,
    "start_time": "2022-04-06T14:02:47.627Z"
   },
   {
    "duration": 7,
    "start_time": "2022-04-06T14:02:47.633Z"
   },
   {
    "duration": 4,
    "start_time": "2022-04-06T14:02:47.642Z"
   },
   {
    "duration": 5,
    "start_time": "2022-04-06T14:02:47.648Z"
   },
   {
    "duration": 9,
    "start_time": "2022-04-06T14:02:47.654Z"
   },
   {
    "duration": 9,
    "start_time": "2022-04-06T14:02:47.681Z"
   },
   {
    "duration": 13,
    "start_time": "2022-04-06T14:02:47.692Z"
   },
   {
    "duration": 7,
    "start_time": "2022-04-06T14:02:47.707Z"
   },
   {
    "duration": 12,
    "start_time": "2022-04-06T14:02:47.715Z"
   },
   {
    "duration": 7,
    "start_time": "2022-04-06T14:02:47.728Z"
   },
   {
    "duration": 6,
    "start_time": "2022-04-06T14:02:47.737Z"
   },
   {
    "duration": 4,
    "start_time": "2022-04-06T14:02:47.745Z"
   },
   {
    "duration": 6,
    "start_time": "2022-04-06T14:02:47.751Z"
   },
   {
    "duration": 29,
    "start_time": "2022-04-06T14:02:47.759Z"
   },
   {
    "duration": 19,
    "start_time": "2022-04-06T14:02:47.790Z"
   },
   {
    "duration": 8,
    "start_time": "2022-04-06T14:02:47.811Z"
   },
   {
    "duration": 6,
    "start_time": "2022-04-06T14:02:47.821Z"
   },
   {
    "duration": 6,
    "start_time": "2022-04-06T14:02:47.828Z"
   },
   {
    "duration": 5,
    "start_time": "2022-04-06T14:02:47.835Z"
   }
  ],
  "kernelspec": {
   "display_name": "Python 3 (ipykernel)",
   "language": "python",
   "name": "python3"
  },
  "language_info": {
   "codemirror_mode": {
    "name": "ipython",
    "version": 3
   },
   "file_extension": ".py",
   "mimetype": "text/x-python",
   "name": "python",
   "nbconvert_exporter": "python",
   "pygments_lexer": "ipython3",
   "version": "3.8.6"
  },
  "toc": {
   "base_numbering": 1,
   "nav_menu": {},
   "number_sections": true,
   "sideBar": true,
   "skip_h1_title": true,
   "title_cell": "Table of Contents",
   "title_sidebar": "Contents",
   "toc_cell": false,
   "toc_position": {},
   "toc_section_display": true,
   "toc_window_display": false
  }
 },
 "nbformat": 4,
 "nbformat_minor": 5
}
