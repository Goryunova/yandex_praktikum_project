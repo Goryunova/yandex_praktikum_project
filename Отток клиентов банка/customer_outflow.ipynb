{
 "cells": [
  {
   "cell_type": "markdown",
   "metadata": {
    "toc": true
   },
   "source": [
    "<h1>Содержание<span class=\"tocSkip\"></span></h1>\n",
    "<div class=\"toc\"><ul class=\"toc-item\"><li><span><a href=\"#Подготовка-данных\" data-toc-modified-id=\"Подготовка-данных-1\"><span class=\"toc-item-num\">1&nbsp;&nbsp;</span>Подготовка данных</a></span></li><li><span><a href=\"#Исследование-задачи\" data-toc-modified-id=\"Исследование-задачи-2\"><span class=\"toc-item-num\">2&nbsp;&nbsp;</span>Исследование задачи</a></span><ul class=\"toc-item\"><li><span><a href=\"#Модель-решающее-дерево\" data-toc-modified-id=\"Модель-решающее-дерево-2.1\"><span class=\"toc-item-num\">2.1&nbsp;&nbsp;</span>Модель решающее дерево</a></span></li><li><span><a href=\"#Модель-случайный-лес\" data-toc-modified-id=\"Модель-случайный-лес-2.2\"><span class=\"toc-item-num\">2.2&nbsp;&nbsp;</span>Модель случайный лес</a></span></li><li><span><a href=\"#Модель-логистическая-регрессия\" data-toc-modified-id=\"Модель-логистическая-регрессия-2.3\"><span class=\"toc-item-num\">2.3&nbsp;&nbsp;</span>Модель логистическая регрессия</a></span></li></ul></li><li><span><a href=\"#Борьба-с-дисбалансом\" data-toc-modified-id=\"Борьба-с-дисбалансом-3\"><span class=\"toc-item-num\">3&nbsp;&nbsp;</span>Борьба с дисбалансом</a></span></li><li><span><a href=\"#Тестирование-модели\" data-toc-modified-id=\"Тестирование-модели-4\"><span class=\"toc-item-num\">4&nbsp;&nbsp;</span>Тестирование модели</a></span></li><li><span><a href=\"#Чек-лист-готовности-проекта\" data-toc-modified-id=\"Чек-лист-готовности-проекта-5\"><span class=\"toc-item-num\">5&nbsp;&nbsp;</span>Чек-лист готовности проекта</a></span></li></ul></div>"
   ]
  },
  {
   "cell_type": "markdown",
   "metadata": {},
   "source": [
    "# Отток клиентов"
   ]
  },
  {
   "cell_type": "markdown",
   "metadata": {},
   "source": [
    "Из «Бета-Банка» стали уходить клиенты. Каждый месяц. Немного, но заметно. Банковские маркетологи посчитали: сохранять текущих клиентов дешевле, чем привлекать новых.\n",
    "\n",
    "Нужно спрогнозировать, уйдёт клиент из банка в ближайшее время или нет. Вам предоставлены исторические данные о поведении клиентов и расторжении договоров с банком. \n",
    "\n",
    "Постройте модель с предельно большим значением *F1*-меры. Чтобы сдать проект успешно, нужно довести метрику до 0.59. Проверьте *F1*-меру на тестовой выборке самостоятельно.\n",
    "\n",
    "Дополнительно измеряйте *AUC-ROC*, сравнивайте её значение с *F1*-мерой.\n",
    "\n",
    "Источник данных: [https://www.kaggle.com/barelydedicated/bank-customer-churn-modeling](https://www.kaggle.com/barelydedicated/bank-customer-churn-modeling)"
   ]
  },
  {
   "cell_type": "markdown",
   "metadata": {},
   "source": [
    "## Подготовка данных"
   ]
  },
  {
   "cell_type": "code",
   "execution_count": 1,
   "metadata": {},
   "outputs": [],
   "source": [
    "import pandas as pd\n",
    "import numpy as np\n",
    "\n",
    "from sklearn.metrics import accuracy_score, precision_score, recall_score\n",
    "from sklearn.metrics import roc_auc_score, roc_curve, f1_score\n",
    "import matplotlib.pyplot as plt\n",
    "from sklearn.linear_model import LogisticRegression\n",
    "from sklearn.ensemble import RandomForestClassifier\n",
    "from sklearn.tree import DecisionTreeClassifier\n",
    "from sklearn.model_selection import train_test_split\n",
    "from tqdm import tqdm\n",
    "from sklearn.utils import shuffle\n",
    "from sklearn.preprocessing import StandardScaler\n",
    "from sklearn.model_selection import GridSearchCV\n",
    "\n",
    "from warnings import simplefilter\n",
    "simplefilter(action='ignore', category=FutureWarning)"
   ]
  },
  {
   "cell_type": "markdown",
   "metadata": {},
   "source": [
    "Загружаем данные и просматриваем таблицу"
   ]
  },
  {
   "cell_type": "code",
   "execution_count": 2,
   "metadata": {},
   "outputs": [],
   "source": [
    "data = pd.read_csv('/datasets/Churn.csv')"
   ]
  },
  {
   "cell_type": "code",
   "execution_count": 3,
   "metadata": {},
   "outputs": [
    {
     "data": {
      "text/html": [
       "<div>\n",
       "<style scoped>\n",
       "    .dataframe tbody tr th:only-of-type {\n",
       "        vertical-align: middle;\n",
       "    }\n",
       "\n",
       "    .dataframe tbody tr th {\n",
       "        vertical-align: top;\n",
       "    }\n",
       "\n",
       "    .dataframe thead th {\n",
       "        text-align: right;\n",
       "    }\n",
       "</style>\n",
       "<table border=\"1\" class=\"dataframe\">\n",
       "  <thead>\n",
       "    <tr style=\"text-align: right;\">\n",
       "      <th></th>\n",
       "      <th>RowNumber</th>\n",
       "      <th>CustomerId</th>\n",
       "      <th>Surname</th>\n",
       "      <th>CreditScore</th>\n",
       "      <th>Geography</th>\n",
       "      <th>Gender</th>\n",
       "      <th>Age</th>\n",
       "      <th>Tenure</th>\n",
       "      <th>Balance</th>\n",
       "      <th>NumOfProducts</th>\n",
       "      <th>HasCrCard</th>\n",
       "      <th>IsActiveMember</th>\n",
       "      <th>EstimatedSalary</th>\n",
       "      <th>Exited</th>\n",
       "    </tr>\n",
       "  </thead>\n",
       "  <tbody>\n",
       "    <tr>\n",
       "      <th>0</th>\n",
       "      <td>1</td>\n",
       "      <td>15634602</td>\n",
       "      <td>Hargrave</td>\n",
       "      <td>619</td>\n",
       "      <td>France</td>\n",
       "      <td>Female</td>\n",
       "      <td>42</td>\n",
       "      <td>2.0</td>\n",
       "      <td>0.00</td>\n",
       "      <td>1</td>\n",
       "      <td>1</td>\n",
       "      <td>1</td>\n",
       "      <td>101348.88</td>\n",
       "      <td>1</td>\n",
       "    </tr>\n",
       "    <tr>\n",
       "      <th>1</th>\n",
       "      <td>2</td>\n",
       "      <td>15647311</td>\n",
       "      <td>Hill</td>\n",
       "      <td>608</td>\n",
       "      <td>Spain</td>\n",
       "      <td>Female</td>\n",
       "      <td>41</td>\n",
       "      <td>1.0</td>\n",
       "      <td>83807.86</td>\n",
       "      <td>1</td>\n",
       "      <td>0</td>\n",
       "      <td>1</td>\n",
       "      <td>112542.58</td>\n",
       "      <td>0</td>\n",
       "    </tr>\n",
       "    <tr>\n",
       "      <th>2</th>\n",
       "      <td>3</td>\n",
       "      <td>15619304</td>\n",
       "      <td>Onio</td>\n",
       "      <td>502</td>\n",
       "      <td>France</td>\n",
       "      <td>Female</td>\n",
       "      <td>42</td>\n",
       "      <td>8.0</td>\n",
       "      <td>159660.80</td>\n",
       "      <td>3</td>\n",
       "      <td>1</td>\n",
       "      <td>0</td>\n",
       "      <td>113931.57</td>\n",
       "      <td>1</td>\n",
       "    </tr>\n",
       "    <tr>\n",
       "      <th>3</th>\n",
       "      <td>4</td>\n",
       "      <td>15701354</td>\n",
       "      <td>Boni</td>\n",
       "      <td>699</td>\n",
       "      <td>France</td>\n",
       "      <td>Female</td>\n",
       "      <td>39</td>\n",
       "      <td>1.0</td>\n",
       "      <td>0.00</td>\n",
       "      <td>2</td>\n",
       "      <td>0</td>\n",
       "      <td>0</td>\n",
       "      <td>93826.63</td>\n",
       "      <td>0</td>\n",
       "    </tr>\n",
       "    <tr>\n",
       "      <th>4</th>\n",
       "      <td>5</td>\n",
       "      <td>15737888</td>\n",
       "      <td>Mitchell</td>\n",
       "      <td>850</td>\n",
       "      <td>Spain</td>\n",
       "      <td>Female</td>\n",
       "      <td>43</td>\n",
       "      <td>2.0</td>\n",
       "      <td>125510.82</td>\n",
       "      <td>1</td>\n",
       "      <td>1</td>\n",
       "      <td>1</td>\n",
       "      <td>79084.10</td>\n",
       "      <td>0</td>\n",
       "    </tr>\n",
       "  </tbody>\n",
       "</table>\n",
       "</div>"
      ],
      "text/plain": [
       "   RowNumber  CustomerId   Surname  CreditScore Geography  Gender  Age  \\\n",
       "0          1    15634602  Hargrave          619    France  Female   42   \n",
       "1          2    15647311      Hill          608     Spain  Female   41   \n",
       "2          3    15619304      Onio          502    France  Female   42   \n",
       "3          4    15701354      Boni          699    France  Female   39   \n",
       "4          5    15737888  Mitchell          850     Spain  Female   43   \n",
       "\n",
       "   Tenure    Balance  NumOfProducts  HasCrCard  IsActiveMember  \\\n",
       "0     2.0       0.00              1          1               1   \n",
       "1     1.0   83807.86              1          0               1   \n",
       "2     8.0  159660.80              3          1               0   \n",
       "3     1.0       0.00              2          0               0   \n",
       "4     2.0  125510.82              1          1               1   \n",
       "\n",
       "   EstimatedSalary  Exited  \n",
       "0        101348.88       1  \n",
       "1        112542.58       0  \n",
       "2        113931.57       1  \n",
       "3         93826.63       0  \n",
       "4         79084.10       0  "
      ]
     },
     "execution_count": 3,
     "metadata": {},
     "output_type": "execute_result"
    }
   ],
   "source": [
    "data.head()"
   ]
  },
  {
   "cell_type": "code",
   "execution_count": 4,
   "metadata": {},
   "outputs": [
    {
     "name": "stdout",
     "output_type": "stream",
     "text": [
      "<class 'pandas.core.frame.DataFrame'>\n",
      "RangeIndex: 10000 entries, 0 to 9999\n",
      "Data columns (total 14 columns):\n",
      " #   Column           Non-Null Count  Dtype  \n",
      "---  ------           --------------  -----  \n",
      " 0   RowNumber        10000 non-null  int64  \n",
      " 1   CustomerId       10000 non-null  int64  \n",
      " 2   Surname          10000 non-null  object \n",
      " 3   CreditScore      10000 non-null  int64  \n",
      " 4   Geography        10000 non-null  object \n",
      " 5   Gender           10000 non-null  object \n",
      " 6   Age              10000 non-null  int64  \n",
      " 7   Tenure           9091 non-null   float64\n",
      " 8   Balance          10000 non-null  float64\n",
      " 9   NumOfProducts    10000 non-null  int64  \n",
      " 10  HasCrCard        10000 non-null  int64  \n",
      " 11  IsActiveMember   10000 non-null  int64  \n",
      " 12  EstimatedSalary  10000 non-null  float64\n",
      " 13  Exited           10000 non-null  int64  \n",
      "dtypes: float64(3), int64(8), object(3)\n",
      "memory usage: 1.1+ MB\n"
     ]
    }
   ],
   "source": [
    "data.info()"
   ]
  },
  {
   "cell_type": "code",
   "execution_count": 5,
   "metadata": {},
   "outputs": [
    {
     "data": {
      "text/html": [
       "<div>\n",
       "<style scoped>\n",
       "    .dataframe tbody tr th:only-of-type {\n",
       "        vertical-align: middle;\n",
       "    }\n",
       "\n",
       "    .dataframe tbody tr th {\n",
       "        vertical-align: top;\n",
       "    }\n",
       "\n",
       "    .dataframe thead th {\n",
       "        text-align: right;\n",
       "    }\n",
       "</style>\n",
       "<table border=\"1\" class=\"dataframe\">\n",
       "  <thead>\n",
       "    <tr style=\"text-align: right;\">\n",
       "      <th></th>\n",
       "      <th>RowNumber</th>\n",
       "      <th>CustomerId</th>\n",
       "      <th>CreditScore</th>\n",
       "      <th>Age</th>\n",
       "      <th>Tenure</th>\n",
       "      <th>Balance</th>\n",
       "      <th>NumOfProducts</th>\n",
       "      <th>HasCrCard</th>\n",
       "      <th>IsActiveMember</th>\n",
       "      <th>EstimatedSalary</th>\n",
       "      <th>Exited</th>\n",
       "    </tr>\n",
       "  </thead>\n",
       "  <tbody>\n",
       "    <tr>\n",
       "      <th>count</th>\n",
       "      <td>10000.00000</td>\n",
       "      <td>1.000000e+04</td>\n",
       "      <td>10000.000000</td>\n",
       "      <td>10000.000000</td>\n",
       "      <td>9091.000000</td>\n",
       "      <td>10000.000000</td>\n",
       "      <td>10000.000000</td>\n",
       "      <td>10000.00000</td>\n",
       "      <td>10000.000000</td>\n",
       "      <td>10000.000000</td>\n",
       "      <td>10000.000000</td>\n",
       "    </tr>\n",
       "    <tr>\n",
       "      <th>mean</th>\n",
       "      <td>5000.50000</td>\n",
       "      <td>1.569094e+07</td>\n",
       "      <td>650.528800</td>\n",
       "      <td>38.921800</td>\n",
       "      <td>4.997690</td>\n",
       "      <td>76485.889288</td>\n",
       "      <td>1.530200</td>\n",
       "      <td>0.70550</td>\n",
       "      <td>0.515100</td>\n",
       "      <td>100090.239881</td>\n",
       "      <td>0.203700</td>\n",
       "    </tr>\n",
       "    <tr>\n",
       "      <th>std</th>\n",
       "      <td>2886.89568</td>\n",
       "      <td>7.193619e+04</td>\n",
       "      <td>96.653299</td>\n",
       "      <td>10.487806</td>\n",
       "      <td>2.894723</td>\n",
       "      <td>62397.405202</td>\n",
       "      <td>0.581654</td>\n",
       "      <td>0.45584</td>\n",
       "      <td>0.499797</td>\n",
       "      <td>57510.492818</td>\n",
       "      <td>0.402769</td>\n",
       "    </tr>\n",
       "    <tr>\n",
       "      <th>min</th>\n",
       "      <td>1.00000</td>\n",
       "      <td>1.556570e+07</td>\n",
       "      <td>350.000000</td>\n",
       "      <td>18.000000</td>\n",
       "      <td>0.000000</td>\n",
       "      <td>0.000000</td>\n",
       "      <td>1.000000</td>\n",
       "      <td>0.00000</td>\n",
       "      <td>0.000000</td>\n",
       "      <td>11.580000</td>\n",
       "      <td>0.000000</td>\n",
       "    </tr>\n",
       "    <tr>\n",
       "      <th>25%</th>\n",
       "      <td>2500.75000</td>\n",
       "      <td>1.562853e+07</td>\n",
       "      <td>584.000000</td>\n",
       "      <td>32.000000</td>\n",
       "      <td>2.000000</td>\n",
       "      <td>0.000000</td>\n",
       "      <td>1.000000</td>\n",
       "      <td>0.00000</td>\n",
       "      <td>0.000000</td>\n",
       "      <td>51002.110000</td>\n",
       "      <td>0.000000</td>\n",
       "    </tr>\n",
       "    <tr>\n",
       "      <th>50%</th>\n",
       "      <td>5000.50000</td>\n",
       "      <td>1.569074e+07</td>\n",
       "      <td>652.000000</td>\n",
       "      <td>37.000000</td>\n",
       "      <td>5.000000</td>\n",
       "      <td>97198.540000</td>\n",
       "      <td>1.000000</td>\n",
       "      <td>1.00000</td>\n",
       "      <td>1.000000</td>\n",
       "      <td>100193.915000</td>\n",
       "      <td>0.000000</td>\n",
       "    </tr>\n",
       "    <tr>\n",
       "      <th>75%</th>\n",
       "      <td>7500.25000</td>\n",
       "      <td>1.575323e+07</td>\n",
       "      <td>718.000000</td>\n",
       "      <td>44.000000</td>\n",
       "      <td>7.000000</td>\n",
       "      <td>127644.240000</td>\n",
       "      <td>2.000000</td>\n",
       "      <td>1.00000</td>\n",
       "      <td>1.000000</td>\n",
       "      <td>149388.247500</td>\n",
       "      <td>0.000000</td>\n",
       "    </tr>\n",
       "    <tr>\n",
       "      <th>max</th>\n",
       "      <td>10000.00000</td>\n",
       "      <td>1.581569e+07</td>\n",
       "      <td>850.000000</td>\n",
       "      <td>92.000000</td>\n",
       "      <td>10.000000</td>\n",
       "      <td>250898.090000</td>\n",
       "      <td>4.000000</td>\n",
       "      <td>1.00000</td>\n",
       "      <td>1.000000</td>\n",
       "      <td>199992.480000</td>\n",
       "      <td>1.000000</td>\n",
       "    </tr>\n",
       "  </tbody>\n",
       "</table>\n",
       "</div>"
      ],
      "text/plain": [
       "         RowNumber    CustomerId   CreditScore           Age       Tenure  \\\n",
       "count  10000.00000  1.000000e+04  10000.000000  10000.000000  9091.000000   \n",
       "mean    5000.50000  1.569094e+07    650.528800     38.921800     4.997690   \n",
       "std     2886.89568  7.193619e+04     96.653299     10.487806     2.894723   \n",
       "min        1.00000  1.556570e+07    350.000000     18.000000     0.000000   \n",
       "25%     2500.75000  1.562853e+07    584.000000     32.000000     2.000000   \n",
       "50%     5000.50000  1.569074e+07    652.000000     37.000000     5.000000   \n",
       "75%     7500.25000  1.575323e+07    718.000000     44.000000     7.000000   \n",
       "max    10000.00000  1.581569e+07    850.000000     92.000000    10.000000   \n",
       "\n",
       "             Balance  NumOfProducts    HasCrCard  IsActiveMember  \\\n",
       "count   10000.000000   10000.000000  10000.00000    10000.000000   \n",
       "mean    76485.889288       1.530200      0.70550        0.515100   \n",
       "std     62397.405202       0.581654      0.45584        0.499797   \n",
       "min         0.000000       1.000000      0.00000        0.000000   \n",
       "25%         0.000000       1.000000      0.00000        0.000000   \n",
       "50%     97198.540000       1.000000      1.00000        1.000000   \n",
       "75%    127644.240000       2.000000      1.00000        1.000000   \n",
       "max    250898.090000       4.000000      1.00000        1.000000   \n",
       "\n",
       "       EstimatedSalary        Exited  \n",
       "count     10000.000000  10000.000000  \n",
       "mean     100090.239881      0.203700  \n",
       "std       57510.492818      0.402769  \n",
       "min          11.580000      0.000000  \n",
       "25%       51002.110000      0.000000  \n",
       "50%      100193.915000      0.000000  \n",
       "75%      149388.247500      0.000000  \n",
       "max      199992.480000      1.000000  "
      ]
     },
     "execution_count": 5,
     "metadata": {},
     "output_type": "execute_result"
    }
   ],
   "source": [
    "data.describe()"
   ]
  },
  {
   "cell_type": "markdown",
   "metadata": {},
   "source": [
    "В данном датасете 13 признаков, целевой признак Exited - факт ухода клиентов (int64).\n",
    "Признаки:\n",
    "- RowNumber - индекс строки в данных (int64)\n",
    "- Customerld - уникальный идентификатор клиента (int64)\n",
    "- Surname - фамилия (object)\n",
    "- CreditScore - кредитный рейтинг (int64)\n",
    "- Geography - страна проживания (object)\n",
    "- Gender - пол (object)\n",
    "- Age - возраст (int64)\n",
    "- Tenure - сколько лет человек является клиентом банка (float64)\n",
    "- Balance - баланс на счете (float64)\n",
    "- NumOfProducts - количество продуктов банка используемых клиентом (int64)\n",
    "- HasCrCard - наличие кредитной карты (int64)\n",
    "- IsActiveMember - активность клиента (int64)\n",
    "- EstimatedSalary - предполагаемая зарплата (float64)"
   ]
  },
  {
   "cell_type": "markdown",
   "metadata": {},
   "source": [
    "**Выводы:**\n",
    "RowNumber - столбец практически дублирует индекс, можно удалить.\n",
    "CustomerId - уникальный id нам не нужет, тоже удаляем.\n",
    "Surname - для целей исследования фамилия не несет полезной информации, тоже удаляем.\n",
    "Geography, Gender - преобразуем методом One hot encoder.\n",
    "Tenure - не все ячейки в столбце заполнены, скорее всего это новые клиенты, заменяем пропуски нулями.\n",
    "CreditScore, Age, Tenure, Balance, NumOfProducts, EstimatedSalary - масштабируем"
   ]
  },
  {
   "cell_type": "code",
   "execution_count": 6,
   "metadata": {},
   "outputs": [],
   "source": [
    "# Удалим лишние столбцы\n",
    "data = data.drop(['RowNumber', 'CustomerId', 'Surname'], axis=1)"
   ]
  },
  {
   "cell_type": "code",
   "execution_count": 7,
   "metadata": {},
   "outputs": [],
   "source": [
    "# Заполняем пропуски нулями и изменяем тип на целый\n",
    "data['Tenure'] = data['Tenure'].fillna(0).astype('int')"
   ]
  },
  {
   "cell_type": "code",
   "execution_count": 8,
   "metadata": {},
   "outputs": [
    {
     "data": {
      "text/html": [
       "<div>\n",
       "<style scoped>\n",
       "    .dataframe tbody tr th:only-of-type {\n",
       "        vertical-align: middle;\n",
       "    }\n",
       "\n",
       "    .dataframe tbody tr th {\n",
       "        vertical-align: top;\n",
       "    }\n",
       "\n",
       "    .dataframe thead th {\n",
       "        text-align: right;\n",
       "    }\n",
       "</style>\n",
       "<table border=\"1\" class=\"dataframe\">\n",
       "  <thead>\n",
       "    <tr style=\"text-align: right;\">\n",
       "      <th></th>\n",
       "      <th>CreditScore</th>\n",
       "      <th>Age</th>\n",
       "      <th>Tenure</th>\n",
       "      <th>Balance</th>\n",
       "      <th>NumOfProducts</th>\n",
       "      <th>HasCrCard</th>\n",
       "      <th>IsActiveMember</th>\n",
       "      <th>EstimatedSalary</th>\n",
       "      <th>Exited</th>\n",
       "      <th>Geography_Germany</th>\n",
       "      <th>Geography_Spain</th>\n",
       "      <th>Gender_Male</th>\n",
       "    </tr>\n",
       "  </thead>\n",
       "  <tbody>\n",
       "    <tr>\n",
       "      <th>0</th>\n",
       "      <td>619</td>\n",
       "      <td>42</td>\n",
       "      <td>2</td>\n",
       "      <td>0.00</td>\n",
       "      <td>1</td>\n",
       "      <td>1</td>\n",
       "      <td>1</td>\n",
       "      <td>101348.88</td>\n",
       "      <td>1</td>\n",
       "      <td>0</td>\n",
       "      <td>0</td>\n",
       "      <td>0</td>\n",
       "    </tr>\n",
       "    <tr>\n",
       "      <th>1</th>\n",
       "      <td>608</td>\n",
       "      <td>41</td>\n",
       "      <td>1</td>\n",
       "      <td>83807.86</td>\n",
       "      <td>1</td>\n",
       "      <td>0</td>\n",
       "      <td>1</td>\n",
       "      <td>112542.58</td>\n",
       "      <td>0</td>\n",
       "      <td>0</td>\n",
       "      <td>1</td>\n",
       "      <td>0</td>\n",
       "    </tr>\n",
       "    <tr>\n",
       "      <th>2</th>\n",
       "      <td>502</td>\n",
       "      <td>42</td>\n",
       "      <td>8</td>\n",
       "      <td>159660.80</td>\n",
       "      <td>3</td>\n",
       "      <td>1</td>\n",
       "      <td>0</td>\n",
       "      <td>113931.57</td>\n",
       "      <td>1</td>\n",
       "      <td>0</td>\n",
       "      <td>0</td>\n",
       "      <td>0</td>\n",
       "    </tr>\n",
       "    <tr>\n",
       "      <th>3</th>\n",
       "      <td>699</td>\n",
       "      <td>39</td>\n",
       "      <td>1</td>\n",
       "      <td>0.00</td>\n",
       "      <td>2</td>\n",
       "      <td>0</td>\n",
       "      <td>0</td>\n",
       "      <td>93826.63</td>\n",
       "      <td>0</td>\n",
       "      <td>0</td>\n",
       "      <td>0</td>\n",
       "      <td>0</td>\n",
       "    </tr>\n",
       "    <tr>\n",
       "      <th>4</th>\n",
       "      <td>850</td>\n",
       "      <td>43</td>\n",
       "      <td>2</td>\n",
       "      <td>125510.82</td>\n",
       "      <td>1</td>\n",
       "      <td>1</td>\n",
       "      <td>1</td>\n",
       "      <td>79084.10</td>\n",
       "      <td>0</td>\n",
       "      <td>0</td>\n",
       "      <td>1</td>\n",
       "      <td>0</td>\n",
       "    </tr>\n",
       "  </tbody>\n",
       "</table>\n",
       "</div>"
      ],
      "text/plain": [
       "   CreditScore  Age  Tenure    Balance  NumOfProducts  HasCrCard  \\\n",
       "0          619   42       2       0.00              1          1   \n",
       "1          608   41       1   83807.86              1          0   \n",
       "2          502   42       8  159660.80              3          1   \n",
       "3          699   39       1       0.00              2          0   \n",
       "4          850   43       2  125510.82              1          1   \n",
       "\n",
       "   IsActiveMember  EstimatedSalary  Exited  Geography_Germany  \\\n",
       "0               1        101348.88       1                  0   \n",
       "1               1        112542.58       0                  0   \n",
       "2               0        113931.57       1                  0   \n",
       "3               0         93826.63       0                  0   \n",
       "4               1         79084.10       0                  0   \n",
       "\n",
       "   Geography_Spain  Gender_Male  \n",
       "0                0            0  \n",
       "1                1            0  \n",
       "2                0            0  \n",
       "3                0            0  \n",
       "4                1            0  "
      ]
     },
     "execution_count": 8,
     "metadata": {},
     "output_type": "execute_result"
    }
   ],
   "source": [
    "# Избавляемся от категориальных признаков\n",
    "data = pd.get_dummies(data, drop_first=True)\n",
    "data.head()"
   ]
  },
  {
   "cell_type": "markdown",
   "metadata": {},
   "source": [
    "Формируем выборки"
   ]
  },
  {
   "cell_type": "code",
   "execution_count": 9,
   "metadata": {},
   "outputs": [],
   "source": [
    "# Разбиваем на параметры и целевой признак\n",
    "features = data.drop(['Exited'], axis=1)\n",
    "target = data['Exited']"
   ]
  },
  {
   "cell_type": "code",
   "execution_count": 10,
   "metadata": {},
   "outputs": [
    {
     "name": "stdout",
     "output_type": "stream",
     "text": [
      "(6000, 11) (2000, 11) (2000, 11)\n",
      "(6000,) (2000,) (2000,)\n"
     ]
    }
   ],
   "source": [
    "# Разбиваем данные на тестовую, тренировочную и валидационную выборки\n",
    "features_train, features_valid, target_train, target_valid = train_test_split(\n",
    "    features, target, test_size=0.4, random_state=12345)\n",
    "features_valid, features_test, target_valid, target_test = train_test_split(\n",
    "    features_valid, target_valid, test_size=0.5, random_state=12345)\n",
    "print(features_train.shape, features_valid.shape, features_test.shape)\n",
    "print(target_train.shape, target_valid.shape, target_test.shape)"
   ]
  },
  {
   "cell_type": "code",
   "execution_count": 11,
   "metadata": {},
   "outputs": [
    {
     "name": "stderr",
     "output_type": "stream",
     "text": [
      "/tmp/ipykernel_37/733102098.py:5: SettingWithCopyWarning: \n",
      "A value is trying to be set on a copy of a slice from a DataFrame.\n",
      "Try using .loc[row_indexer,col_indexer] = value instead\n",
      "\n",
      "See the caveats in the documentation: https://pandas.pydata.org/pandas-docs/stable/user_guide/indexing.html#returning-a-view-versus-a-copy\n",
      "  features_train[numeric] = scaler.transform(features_train[numeric])\n",
      "/opt/conda/lib/python3.9/site-packages/pandas/core/indexing.py:1738: SettingWithCopyWarning: \n",
      "A value is trying to be set on a copy of a slice from a DataFrame.\n",
      "Try using .loc[row_indexer,col_indexer] = value instead\n",
      "\n",
      "See the caveats in the documentation: https://pandas.pydata.org/pandas-docs/stable/user_guide/indexing.html#returning-a-view-versus-a-copy\n",
      "  self._setitem_single_column(loc, value[:, i].tolist(), pi)\n"
     ]
    },
    {
     "data": {
      "text/html": [
       "<div>\n",
       "<style scoped>\n",
       "    .dataframe tbody tr th:only-of-type {\n",
       "        vertical-align: middle;\n",
       "    }\n",
       "\n",
       "    .dataframe tbody tr th {\n",
       "        vertical-align: top;\n",
       "    }\n",
       "\n",
       "    .dataframe thead th {\n",
       "        text-align: right;\n",
       "    }\n",
       "</style>\n",
       "<table border=\"1\" class=\"dataframe\">\n",
       "  <thead>\n",
       "    <tr style=\"text-align: right;\">\n",
       "      <th></th>\n",
       "      <th>CreditScore</th>\n",
       "      <th>Age</th>\n",
       "      <th>Tenure</th>\n",
       "      <th>Balance</th>\n",
       "      <th>NumOfProducts</th>\n",
       "      <th>HasCrCard</th>\n",
       "      <th>IsActiveMember</th>\n",
       "      <th>EstimatedSalary</th>\n",
       "      <th>Geography_Germany</th>\n",
       "      <th>Geography_Spain</th>\n",
       "      <th>Gender_Male</th>\n",
       "    </tr>\n",
       "  </thead>\n",
       "  <tbody>\n",
       "    <tr>\n",
       "      <th>7479</th>\n",
       "      <td>-0.886751</td>\n",
       "      <td>-0.373192</td>\n",
       "      <td>1.104696</td>\n",
       "      <td>1.232271</td>\n",
       "      <td>-0.891560</td>\n",
       "      <td>1</td>\n",
       "      <td>0</td>\n",
       "      <td>-0.187705</td>\n",
       "      <td>0</td>\n",
       "      <td>1</td>\n",
       "      <td>1</td>\n",
       "    </tr>\n",
       "    <tr>\n",
       "      <th>3411</th>\n",
       "      <td>0.608663</td>\n",
       "      <td>-0.183385</td>\n",
       "      <td>1.104696</td>\n",
       "      <td>0.600563</td>\n",
       "      <td>-0.891560</td>\n",
       "      <td>0</td>\n",
       "      <td>0</td>\n",
       "      <td>-0.333945</td>\n",
       "      <td>0</td>\n",
       "      <td>0</td>\n",
       "      <td>0</td>\n",
       "    </tr>\n",
       "    <tr>\n",
       "      <th>6027</th>\n",
       "      <td>2.052152</td>\n",
       "      <td>0.480939</td>\n",
       "      <td>-0.503694</td>\n",
       "      <td>1.027098</td>\n",
       "      <td>0.830152</td>\n",
       "      <td>0</td>\n",
       "      <td>1</td>\n",
       "      <td>1.503095</td>\n",
       "      <td>1</td>\n",
       "      <td>0</td>\n",
       "      <td>1</td>\n",
       "    </tr>\n",
       "    <tr>\n",
       "      <th>1247</th>\n",
       "      <td>-1.457915</td>\n",
       "      <td>-1.417129</td>\n",
       "      <td>0.461340</td>\n",
       "      <td>-1.233163</td>\n",
       "      <td>0.830152</td>\n",
       "      <td>1</td>\n",
       "      <td>0</td>\n",
       "      <td>-1.071061</td>\n",
       "      <td>0</td>\n",
       "      <td>0</td>\n",
       "      <td>1</td>\n",
       "    </tr>\n",
       "    <tr>\n",
       "      <th>3716</th>\n",
       "      <td>0.130961</td>\n",
       "      <td>-1.132419</td>\n",
       "      <td>-0.825373</td>\n",
       "      <td>1.140475</td>\n",
       "      <td>-0.891560</td>\n",
       "      <td>0</td>\n",
       "      <td>0</td>\n",
       "      <td>1.524268</td>\n",
       "      <td>1</td>\n",
       "      <td>0</td>\n",
       "      <td>0</td>\n",
       "    </tr>\n",
       "  </tbody>\n",
       "</table>\n",
       "</div>"
      ],
      "text/plain": [
       "      CreditScore       Age    Tenure   Balance  NumOfProducts  HasCrCard  \\\n",
       "7479    -0.886751 -0.373192  1.104696  1.232271      -0.891560          1   \n",
       "3411     0.608663 -0.183385  1.104696  0.600563      -0.891560          0   \n",
       "6027     2.052152  0.480939 -0.503694  1.027098       0.830152          0   \n",
       "1247    -1.457915 -1.417129  0.461340 -1.233163       0.830152          1   \n",
       "3716     0.130961 -1.132419 -0.825373  1.140475      -0.891560          0   \n",
       "\n",
       "      IsActiveMember  EstimatedSalary  Geography_Germany  Geography_Spain  \\\n",
       "7479               0        -0.187705                  0                1   \n",
       "3411               0        -0.333945                  0                0   \n",
       "6027               1         1.503095                  1                0   \n",
       "1247               0        -1.071061                  0                0   \n",
       "3716               0         1.524268                  1                0   \n",
       "\n",
       "      Gender_Male  \n",
       "7479            1  \n",
       "3411            0  \n",
       "6027            1  \n",
       "1247            1  \n",
       "3716            0  "
      ]
     },
     "execution_count": 11,
     "metadata": {},
     "output_type": "execute_result"
    }
   ],
   "source": [
    "# Масштабируем численные признаки выборок для выравнивания весов\n",
    "numeric = ['CreditScore', 'Age', 'Tenure', 'Balance', 'NumOfProducts', 'EstimatedSalary']\n",
    "scaler = StandardScaler()\n",
    "scaler.fit(features_train[numeric])\n",
    "features_train[numeric] = scaler.transform(features_train[numeric])\n",
    "features_valid[numeric] = scaler.transform(features_valid[numeric])\n",
    "features_test[numeric] = scaler.transform(features_test[numeric])\n",
    "features_train.head()"
   ]
  },
  {
   "cell_type": "markdown",
   "metadata": {},
   "source": [
    "## Исследование задачи"
   ]
  },
  {
   "cell_type": "code",
   "execution_count": 12,
   "metadata": {},
   "outputs": [
    {
     "data": {
      "text/plain": [
       "<AxesSubplot:title={'center':'Соотношение оставшихся и ушедших'}>"
      ]
     },
     "execution_count": 12,
     "metadata": {},
     "output_type": "execute_result"
    },
    {
     "data": {
      "image/png": "[encoded data removed]",
      "text/plain": [
       "<Figure size 720x432 with 1 Axes>"
      ]
     },
     "metadata": {
      "needs_background": "light"
     },
     "output_type": "display_data"
    }
   ],
   "source": [
    "# Рисуем диаграмму значений оттока и оставшихся клиентов\n",
    "data['Exited'].value_counts(normalize=True).plot(kind='bar', grid=True, figsize=(10,6), \n",
    "                                  title='Соотношение оставшихся и ушедших')"
   ]
  },
  {
   "cell_type": "markdown",
   "metadata": {},
   "source": [
    "Соотношение оставшихся и ушедших клиентов 0.8:0.2. Такое соотношение говорит, что присутсвует дисбаланс в данных. Это может привести модель к склонению в распространенный вариант ответа."
   ]
  },
  {
   "cell_type": "markdown",
   "metadata": {},
   "source": [
    "### Модель решающее дерево\n",
    "Обучим модель решающее дерево с перебором глубины, найдем гиперпараметры с наилучшей метиркой f1."
   ]
  },
  {
   "cell_type": "code",
   "execution_count": 13,
   "metadata": {},
   "outputs": [
    {
     "name": "stdout",
     "output_type": "stream",
     "text": [
      "Максимальная глубина= 9 F1= 0.5786516853932585\n"
     ]
    }
   ],
   "source": [
    "f1_best = 0\n",
    "depth_best = 0\n",
    "for depth in range(2, 20):\n",
    "    model = DecisionTreeClassifier(random_state=12345, max_depth=depth)\n",
    "    model.fit(features_train, target_train)\n",
    "    prediction = model.predict(features_valid)\n",
    "    f1 = f1_score(target_valid, prediction)\n",
    "    if f1 > f1_best:\n",
    "        f1_best = f1\n",
    "        depth_best = depth\n",
    "print('Максимальная глубина=', depth_best, 'F1=', f1_best)"
   ]
  },
  {
   "cell_type": "markdown",
   "metadata": {},
   "source": [
    "Проведем оценку accuracy, precision, recall, f1, auc-roc на полученных гиперпараметрах"
   ]
  },
  {
   "cell_type": "code",
   "execution_count": 14,
   "metadata": {},
   "outputs": [
    {
     "name": "stdout",
     "output_type": "stream",
     "text": [
      "Accuracy= 0.85\n",
      "Precision= 0.7006802721088435\n",
      "Recall= 0.49282296650717705\n",
      "F1= 0.5786516853932585\n",
      "AUC-ROC= 0.7899719632952051\n"
     ]
    }
   ],
   "source": [
    "model = DecisionTreeClassifier(random_state=12345, max_depth=9)\n",
    "model.fit(features_train, target_train)\n",
    "prediction = model.predict(features_valid)\n",
    "print('Accuracy=', accuracy_score(target_valid, prediction))\n",
    "print('Precision=', precision_score(target_valid, prediction))\n",
    "print('Recall=', recall_score(target_valid, prediction))\n",
    "print('F1=', f1_score(target_valid, prediction))\n",
    "probabilities_valid = model.predict_proba(features_valid)[:, 1]\n",
    "print('AUC-ROC=', roc_auc_score(target_valid, probabilities_valid))"
   ]
  },
  {
   "cell_type": "markdown",
   "metadata": {},
   "source": [
    "### Модель случайный лес\n",
    "Обучим модель случайного леса с перебором глубины, найдем гиперпараметры с наилучшей метрикой f1."
   ]
  },
  {
   "cell_type": "code",
   "execution_count": 15,
   "metadata": {},
   "outputs": [
    {
     "name": "stdout",
     "output_type": "stream",
     "text": [
      "Максимальная глубина= 19 Количество деревьев= 27 F1= 0.6052631578947368\n"
     ]
    }
   ],
   "source": [
    "f1_best = 0\n",
    "depth_best = 0\n",
    "estim_best = 0\n",
    "for estim in range(10, 70):\n",
    "    for depth in range(2, 20):\n",
    "        model = RandomForestClassifier(n_estimators=estim, \n",
    "                                      random_state=12345, \n",
    "                                      max_depth=depth)\n",
    "        model.fit(features_train, target_train)\n",
    "        prediction = model.predict(features_valid)\n",
    "        f1 = f1_score(target_valid, prediction)\n",
    "        if f1 > f1_best:\n",
    "            f1_best = f1\n",
    "            depth_best = depth\n",
    "            estim_best = estim\n",
    "print('Максимальная глубина=', depth_best, 'Количество деревьев=',\n",
    "      estim_best, 'F1=', f1_best)"
   ]
  },
  {
   "cell_type": "markdown",
   "metadata": {},
   "source": [
    "Проведем оценку accuracy, precision, recall, f1, auc-roc на полученных гиперпараметрах"
   ]
  },
  {
   "cell_type": "code",
   "execution_count": 16,
   "metadata": {},
   "outputs": [
    {
     "name": "stdout",
     "output_type": "stream",
     "text": [
      "Accuracy= 0.865\n",
      "Precision= 0.7781954887218046\n",
      "Recall= 0.49521531100478466\n",
      "F1= 0.6052631578947368\n",
      "AUC-ROC= 0.8345736122284795\n"
     ]
    }
   ],
   "source": [
    "model = RandomForestClassifier(n_estimators=27, random_state=12345, max_depth=19)\n",
    "model.fit(features_train, target_train)\n",
    "prediction = model.predict(features_valid)\n",
    "print('Accuracy=', accuracy_score(target_valid, prediction))\n",
    "print('Precision=', precision_score(target_valid, prediction))\n",
    "print('Recall=', recall_score(target_valid, prediction))\n",
    "print('F1=', f1_score(target_valid, prediction))\n",
    "probabilities_valid = model.predict_proba(features_valid)[:, 1]\n",
    "print('AUC-ROC=', roc_auc_score(target_valid, probabilities_valid))"
   ]
  },
  {
   "cell_type": "markdown",
   "metadata": {},
   "source": [
    "### Модель логистическая регрессия"
   ]
  },
  {
   "cell_type": "code",
   "execution_count": 17,
   "metadata": {},
   "outputs": [
    {
     "name": "stdout",
     "output_type": "stream",
     "text": [
      "Accuracy= 0.8025\n",
      "Precision= 0.5657142857142857\n",
      "Recall= 0.23684210526315788\n",
      "F1= 0.33389544688026984\n",
      "AUC-ROC= 0.7587361404315294\n"
     ]
    }
   ],
   "source": [
    "model = LogisticRegression()\n",
    "model.fit(features_train, target_train)\n",
    "prediction = model.predict(features_valid)\n",
    "print('Accuracy=', accuracy_score(target_valid, prediction))\n",
    "print('Precision=', precision_score(target_valid, prediction))\n",
    "print('Recall=', recall_score(target_valid, prediction))\n",
    "print('F1=', f1_score(target_valid, prediction))\n",
    "probabilities_valid = model.predict_proba(features_valid)[:, 1]\n",
    "print('AUC-ROC=', roc_auc_score(target_valid, probabilities_valid))"
   ]
  },
  {
   "cell_type": "markdown",
   "metadata": {},
   "source": [
    "**Вывод:** Из-за несбалансированности данных, все модели имеют recall ниже, чем percision, это влияет на F-меру. Только модель случайного леса имеет метрику близкую к необходимой."
   ]
  },
  {
   "cell_type": "markdown",
   "metadata": {},
   "source": [
    "## Борьба с дисбалансом"
   ]
  },
  {
   "cell_type": "markdown",
   "metadata": {},
   "source": [
    "Обучение моделей с параметром автоматической регулировки весов"
   ]
  },
  {
   "cell_type": "code",
   "execution_count": 18,
   "metadata": {},
   "outputs": [
    {
     "name": "stdout",
     "output_type": "stream",
     "text": [
      "Максимальная глубина= 5 F1= 0.5963791267305644\n"
     ]
    }
   ],
   "source": [
    "# Модель решающее дерево, подбор гиперпараметров\n",
    "f1_best = 0\n",
    "depth_best = 0\n",
    "for depth in range(2, 20):\n",
    "    model = DecisionTreeClassifier(random_state=12345, max_depth=depth, class_weight='balanced')\n",
    "    model.fit(features_train, target_train)\n",
    "    prediction = model.predict(features_valid)\n",
    "    f1 = f1_score(target_valid, prediction)\n",
    "    if f1 > f1_best:\n",
    "        f1_best = f1\n",
    "        depth_best = depth\n",
    "print('Максимальная глубина=', depth_best, 'F1=', f1_best)"
   ]
  },
  {
   "cell_type": "code",
   "execution_count": 19,
   "metadata": {},
   "outputs": [
    {
     "name": "stdout",
     "output_type": "stream",
     "text": [
      "Accuracy= 0.8105\n",
      "Precision= 0.5374280230326296\n",
      "Recall= 0.6698564593301436\n",
      "F1= 0.5963791267305644\n",
      "AUC-ROC= 0.8310244134068074\n"
     ]
    }
   ],
   "source": [
    "# Расчет метрик\n",
    "model = DecisionTreeClassifier(random_state=12345, max_depth=5, class_weight='balanced')\n",
    "model.fit(features_train, target_train)\n",
    "prediction = model.predict(features_valid)\n",
    "print('Accuracy=', accuracy_score(target_valid, prediction))\n",
    "print('Precision=', precision_score(target_valid, prediction))\n",
    "print('Recall=', recall_score(target_valid, prediction))\n",
    "print('F1=', f1_score(target_valid, prediction))\n",
    "probabilities_valid = model.predict_proba(features_valid)[:, 1]\n",
    "print('AUC-ROC=', roc_auc_score(target_valid, probabilities_valid))"
   ]
  },
  {
   "cell_type": "code",
   "execution_count": 20,
   "metadata": {},
   "outputs": [
    {
     "name": "stdout",
     "output_type": "stream",
     "text": [
      "Максимальная глубина= 8 Количество деревьев= 86 F1= 0.6324972737186477\n"
     ]
    }
   ],
   "source": [
    "# Модель случайного леса, подбор гиперпараметров\n",
    "f1_best = 0\n",
    "depth_best = 0\n",
    "estim_best = 0\n",
    "for estim in range(10, 100):\n",
    "    for depth in range(2, 20):\n",
    "        model = RandomForestClassifier(n_estimators=estim, random_state=12345, \n",
    "                                       max_depth=depth, class_weight='balanced')\n",
    "        model.fit(features_train, target_train)\n",
    "        prediction = model.predict(features_valid)\n",
    "        f1 = f1_score(target_valid, prediction)\n",
    "        if f1 > f1_best:\n",
    "            f1_best = f1\n",
    "            depth_best = depth\n",
    "            estim_best = estim\n",
    "print('Максимальная глубина=', depth_best, 'Количество деревьев=',\n",
    "      estim_best, 'F1=', f1_best)"
   ]
  },
  {
   "cell_type": "code",
   "execution_count": 21,
   "metadata": {},
   "outputs": [
    {
     "name": "stdout",
     "output_type": "stream",
     "text": [
      "Accuracy= 0.8315\n",
      "Precision= 0.5811623246492986\n",
      "Recall= 0.69377990430622\n",
      "F1= 0.6324972737186477\n",
      "AUC-ROC= 0.8559860028187927\n"
     ]
    }
   ],
   "source": [
    "# Расчет метрик\n",
    "model = RandomForestClassifier(n_estimators=86, random_state=12345, max_depth=8, class_weight='balanced')\n",
    "model.fit(features_train, target_train)\n",
    "prediction = model.predict(features_valid)\n",
    "print('Accuracy=', accuracy_score(target_valid, prediction))\n",
    "print('Precision=', precision_score(target_valid, prediction))\n",
    "print('Recall=', recall_score(target_valid, prediction))\n",
    "print('F1=', f1_score(target_valid, prediction))\n",
    "probabilities_valid = model.predict_proba(features_valid)[:, 1]\n",
    "print('AUC-ROC=', roc_auc_score(target_valid, probabilities_valid))"
   ]
  },
  {
   "cell_type": "code",
   "execution_count": 22,
   "metadata": {},
   "outputs": [
    {
     "name": "stdout",
     "output_type": "stream",
     "text": [
      "Accuracy= 0.701\n",
      "Precision= 0.3803191489361702\n",
      "Recall= 0.6842105263157895\n",
      "F1= 0.4888888888888888\n",
      "AUC-ROC= 0.7634951215528767\n"
     ]
    }
   ],
   "source": [
    "# Модель логистическая регрессия\n",
    "model = LogisticRegression(class_weight='balanced')\n",
    "model.fit(features_train, target_train)\n",
    "prediction = model.predict(features_valid)\n",
    "print('Accuracy=', accuracy_score(target_valid, prediction))\n",
    "print('Precision=', precision_score(target_valid, prediction))\n",
    "print('Recall=', recall_score(target_valid, prediction))\n",
    "print('F1=', f1_score(target_valid, prediction))\n",
    "probabilities_valid = model.predict_proba(features_valid)[:, 1]\n",
    "print('AUC-ROC=', roc_auc_score(target_valid, probabilities_valid))"
   ]
  },
  {
   "cell_type": "markdown",
   "metadata": {},
   "source": [
    "**Вывод:** F1 мера стала лучше."
   ]
  },
  {
   "cell_type": "markdown",
   "metadata": {},
   "source": [
    "С помощью downsample уменьшим количество target равных нулю"
   ]
  },
  {
   "cell_type": "code",
   "execution_count": 21,
   "metadata": {},
   "outputs": [],
   "source": [
    "def downsample (features, target, fraction):\n",
    "    # разделяем выборку по значеним целевой функции\n",
    "    features_zeros = features[target==0]\n",
    "    features_ones = features[target==1]\n",
    "    target_zeros = target[target==0]\n",
    "    target_ones = target[target==1]\n",
    "    # уменьшаем путем умножения на десятую часть и соединяем обратно\n",
    "    features_downsampled = pd.concat([features_zeros.sample(frac=fraction, random_state=12345)] + [features_ones])\n",
    "    target_downsampled = pd.concat([target_zeros.sample(frac=fraction, random_state=12345)] + [target_ones])\n",
    "    # Перемешиваем\n",
    "    features_downsampled, target_downsampled = shuffle(features_downsampled, target_downsampled, random_state=12345)\n",
    "    return features_downsampled, target_downsampled"
   ]
  },
  {
   "cell_type": "code",
   "execution_count": 22,
   "metadata": {},
   "outputs": [],
   "source": [
    "# Запускаем функцию на выполнение\n",
    "features_balance, target_balance = downsample(features, target, 0.25)"
   ]
  },
  {
   "cell_type": "code",
   "execution_count": 25,
   "metadata": {},
   "outputs": [
    {
     "name": "stdout",
     "output_type": "stream",
     "text": [
      "(4028, 11)\n",
      "(4028,)\n"
     ]
    }
   ],
   "source": [
    "print(features_balance.shape)\n",
    "print(target_balance.shape)"
   ]
  },
  {
   "cell_type": "code",
   "execution_count": 29,
   "metadata": {},
   "outputs": [
    {
     "data": {
      "text/plain": [
       "<AxesSubplot:title={'center':'Соотношение оставшихся и ушедших'}>"
      ]
     },
     "execution_count": 29,
     "metadata": {},
     "output_type": "execute_result"
    },
    {
     "data": {
      "image/png": "[encoded data removed]",
      "text/plain": [
       "<Figure size 720x432 with 1 Axes>"
      ]
     },
     "metadata": {
      "needs_background": "light"
     },
     "output_type": "display_data"
    }
   ],
   "source": [
    "target_balance.value_counts(normalize=True).plot(kind='bar', grid=True, figsize=(10,6), \n",
    "                                  title='Соотношение оставшихся и ушедших')"
   ]
  },
  {
   "cell_type": "markdown",
   "metadata": {},
   "source": [
    "Дисбаланса классов сейчас нет."
   ]
  },
  {
   "cell_type": "code",
   "execution_count": 44,
   "metadata": {},
   "outputs": [
    {
     "name": "stdout",
     "output_type": "stream",
     "text": [
      "Максимальная глубина= 18 F1= 0.692821368948247\n"
     ]
    }
   ],
   "source": [
    "# Модель решающее дерево, подбор гиперпараметров\n",
    "f1_best = 0\n",
    "depth_best = 0\n",
    "for depth in range(2, 50):\n",
    "    model = DecisionTreeClassifier(random_state=12345, max_depth=depth, class_weight='balanced')\n",
    "    model.fit(features_balance, target_balance)\n",
    "    prediction = model.predict(features_valid)\n",
    "    f1 = f1_score(target_valid, prediction)\n",
    "    if f1 > f1_best:\n",
    "        f1_best = f1\n",
    "        depth_best = depth\n",
    "print('Максимальная глубина=', depth_best, 'F1=', f1_best)"
   ]
  },
  {
   "cell_type": "code",
   "execution_count": 45,
   "metadata": {},
   "outputs": [
    {
     "name": "stdout",
     "output_type": "stream",
     "text": [
      "Accuracy= 0.781\n",
      "Precision= 0.47560975609756095\n",
      "Recall= 0.4665071770334928\n",
      "F1= 0.4710144927536232\n",
      "AUC-ROC= 0.6653711914540978\n"
     ]
    }
   ],
   "source": [
    "# Расчет метрик\n",
    "model = DecisionTreeClassifier(random_state=12345, max_depth=18, class_weight='balanced')\n",
    "model.fit(features_train, target_train)\n",
    "prediction = model.predict(features_valid)\n",
    "print('Accuracy=', accuracy_score(target_valid, prediction))\n",
    "print('Precision=', precision_score(target_valid, prediction))\n",
    "print('Recall=', recall_score(target_valid, prediction))\n",
    "print('F1=', f1_score(target_valid, prediction))\n",
    "probabilities_valid = model.predict_proba(features_valid)[:, 1]\n",
    "print('AUC-ROC=', roc_auc_score(target_valid, probabilities_valid))"
   ]
  },
  {
   "cell_type": "code",
   "execution_count": 46,
   "metadata": {},
   "outputs": [
    {
     "name": "stdout",
     "output_type": "stream",
     "text": [
      "Максимальная глубина= 19 Количество деревьев= 8 F1= 0.7627118644067796\n"
     ]
    }
   ],
   "source": [
    "# Модель случайного леса, подбор гиперпараметров\n",
    "f1_best = 0\n",
    "depth_best = 0\n",
    "estim_best = 0\n",
    "for estim in range(2, 100):\n",
    "    for depth in range(2, 20):\n",
    "        model = RandomForestClassifier(n_estimators=estim, random_state=12345, \n",
    "                                       max_depth=depth, class_weight='balanced')\n",
    "        model.fit(features_balance, target_balance)\n",
    "        prediction = model.predict(features_valid)\n",
    "        f1 = f1_score(target_valid, prediction)\n",
    "        if f1 > f1_best:\n",
    "            f1_best = f1\n",
    "            depth_best = depth\n",
    "            estim_best = estim\n",
    "print('Максимальная глубина=', depth_best, 'Количество деревьев=',\n",
    "      estim_best, 'F1=', f1_best)"
   ]
  },
  {
   "cell_type": "code",
   "execution_count": 47,
   "metadata": {},
   "outputs": [
    {
     "name": "stdout",
     "output_type": "stream",
     "text": [
      "Accuracy= 0.8475\n",
      "Precision= 0.728744939271255\n",
      "Recall= 0.430622009569378\n",
      "F1= 0.5413533834586467\n",
      "AUC-ROC= 0.805718792153352\n"
     ]
    }
   ],
   "source": [
    "# Расчет метрик\n",
    "model = RandomForestClassifier(n_estimators=8, random_state=12345, max_depth=19, class_weight='balanced')\n",
    "model.fit(features_train, target_train)\n",
    "prediction = model.predict(features_valid)\n",
    "print('Accuracy=', accuracy_score(target_valid, prediction))\n",
    "print('Precision=', precision_score(target_valid, prediction))\n",
    "print('Recall=', recall_score(target_valid, prediction))\n",
    "print('F1=', f1_score(target_valid, prediction))\n",
    "probabilities_valid = model.predict_proba(features_valid)[:, 1]\n",
    "print('AUC-ROC=', roc_auc_score(target_valid, probabilities_valid))"
   ]
  },
  {
   "cell_type": "code",
   "execution_count": 48,
   "metadata": {},
   "outputs": [
    {
     "name": "stdout",
     "output_type": "stream",
     "text": [
      "Accuracy= 0.6495\n",
      "Precision= 0.3337250293772033\n",
      "Recall= 0.6794258373205742\n",
      "F1= 0.44759653270291566\n",
      "AUC-ROC= 0.7137201410606161\n"
     ]
    }
   ],
   "source": [
    "# Модель логистическая регрессия\n",
    "model = LogisticRegression(class_weight='balanced')\n",
    "model.fit(features_balance, target_balance)\n",
    "prediction = model.predict(features_valid)\n",
    "print('Accuracy=', accuracy_score(target_valid, prediction))\n",
    "print('Precision=', precision_score(target_valid, prediction))\n",
    "print('Recall=', recall_score(target_valid, prediction))\n",
    "print('F1=', f1_score(target_valid, prediction))\n",
    "probabilities_valid = model.predict_proba(features_valid)[:, 1]\n",
    "print('AUC-ROC=', roc_auc_score(target_valid, probabilities_valid))"
   ]
  },
  {
   "cell_type": "markdown",
   "metadata": {},
   "source": [
    "**Вывод:** Метрики стали заметно хуже, такой баланс данных в данном случае не подходит"
   ]
  },
  {
   "cell_type": "markdown",
   "metadata": {},
   "source": [
    "С помощью функции upsample увеличим количество target равных нулю"
   ]
  },
  {
   "cell_type": "code",
   "execution_count": 23,
   "metadata": {},
   "outputs": [],
   "source": [
    "def upsample(features, target, repeat):\n",
    "    features_zeros = features[target == 0]\n",
    "    features_ones = features[target == 1]\n",
    "    target_zeros = target[target == 0]\n",
    "    target_ones = target[target == 1]\n",
    "\n",
    "    features_upsampled = pd.concat([features_zeros] + [features_ones] * repeat)\n",
    "    target_upsampled = pd.concat([target_zeros] + [target_ones] * repeat)\n",
    "    \n",
    "    features_upsampled, target_upsampled = shuffle(\n",
    "        features_upsampled, target_upsampled, random_state=12345)\n",
    "    \n",
    "    return features_upsampled, target_upsampled"
   ]
  },
  {
   "cell_type": "code",
   "execution_count": 24,
   "metadata": {},
   "outputs": [],
   "source": [
    "# Запускаем функцию на выполнение\n",
    "features_upsampled, target_upsampled = upsample(features_train, target_train, 4)"
   ]
  },
  {
   "cell_type": "code",
   "execution_count": 25,
   "metadata": {},
   "outputs": [
    {
     "name": "stdout",
     "output_type": "stream",
     "text": [
      "(9588, 11)\n",
      "(9588,)\n"
     ]
    }
   ],
   "source": [
    "print(features_upsampled.shape)\n",
    "print(target_upsampled.shape)"
   ]
  },
  {
   "cell_type": "code",
   "execution_count": 26,
   "metadata": {},
   "outputs": [
    {
     "data": {
      "text/plain": [
       "<AxesSubplot:title={'center':'Соотношение оставшихся и ушедших'}>"
      ]
     },
     "execution_count": 26,
     "metadata": {},
     "output_type": "execute_result"
    },
    {
     "data": {
      "image/png": "[encoded data removed]",
      "text/plain": [
       "<Figure size 720x432 with 1 Axes>"
      ]
     },
     "metadata": {
      "needs_background": "light"
     },
     "output_type": "display_data"
    }
   ],
   "source": [
    "target_upsampled.value_counts(normalize=True).plot(kind='bar', grid=True, figsize=(10,6), \n",
    "                                  title='Соотношение оставшихся и ушедших')"
   ]
  },
  {
   "cell_type": "markdown",
   "metadata": {},
   "source": [
    "Дисбаланса нет."
   ]
  },
  {
   "cell_type": "code",
   "execution_count": 28,
   "metadata": {},
   "outputs": [
    {
     "name": "stdout",
     "output_type": "stream",
     "text": [
      "Максимальная глубина= 5 F1= 0.5963791267305644\n"
     ]
    }
   ],
   "source": [
    "# Модель решающее дерево, подбор гиперпараметров\n",
    "f1_best = 0\n",
    "depth_best = 0\n",
    "for depth in range(2, 30):\n",
    "    model = DecisionTreeClassifier(random_state=12345, max_depth=depth, class_weight='balanced')\n",
    "    model.fit(features_upsampled, target_upsampled)\n",
    "    prediction = model.predict(features_valid)\n",
    "    f1 = f1_score(target_valid, prediction)\n",
    "    if f1 > f1_best:\n",
    "        f1_best = f1\n",
    "        depth_best = depth\n",
    "print('Максимальная глубина=', depth_best, 'F1=', f1_best)"
   ]
  },
  {
   "cell_type": "code",
   "execution_count": 29,
   "metadata": {},
   "outputs": [
    {
     "name": "stdout",
     "output_type": "stream",
     "text": [
      "Accuracy= 0.8105\n",
      "Precision= 0.5374280230326296\n",
      "Recall= 0.6698564593301436\n",
      "F1= 0.5963791267305644\n",
      "AUC-ROC= 0.8310244134068074\n"
     ]
    }
   ],
   "source": [
    "# Расчет метрик\n",
    "model = DecisionTreeClassifier(random_state=12345, max_depth=5, class_weight='balanced')\n",
    "model.fit(features_upsampled, target_upsampled)\n",
    "prediction = model.predict(features_valid)\n",
    "print('Accuracy=', accuracy_score(target_valid, prediction))\n",
    "print('Precision=', precision_score(target_valid, prediction))\n",
    "print('Recall=', recall_score(target_valid, prediction))\n",
    "print('F1=', f1_score(target_valid, prediction))\n",
    "probabilities_valid = model.predict_proba(features_valid)[:, 1]\n",
    "print('AUC-ROC=', roc_auc_score(target_valid, probabilities_valid))\n",
    "fpr_tree, tpr_tree, thresholds = roc_curve(target_valid, probabilities_valid)"
   ]
  },
  {
   "cell_type": "code",
   "execution_count": 30,
   "metadata": {},
   "outputs": [
    {
     "name": "stdout",
     "output_type": "stream",
     "text": [
      "Максимальная глубина= 14 Количество деревьев= 66 F1= 0.6336633663366337\n"
     ]
    }
   ],
   "source": [
    "# Модель случайного леса, подбор гиперпараметров\n",
    "f1_best = 0\n",
    "depth_best = 0\n",
    "estim_best = 0\n",
    "for estim in range(2, 100):\n",
    "    for depth in range(2, 30):\n",
    "        model = RandomForestClassifier(n_estimators=estim, random_state=12345, \n",
    "                                       max_depth=depth, class_weight='balanced')\n",
    "        model.fit(features_upsampled, target_upsampled)\n",
    "        prediction = model.predict(features_valid)\n",
    "        f1 = f1_score(target_valid, prediction)\n",
    "        if f1 > f1_best:\n",
    "            f1_best = f1\n",
    "            depth_best = depth\n",
    "            estim_best = estim\n",
    "print('Максимальная глубина=', depth_best, 'Количество деревьев=',\n",
    "      estim_best, 'F1=', f1_best)"
   ]
  },
  {
   "cell_type": "code",
   "execution_count": 31,
   "metadata": {},
   "outputs": [
    {
     "name": "stdout",
     "output_type": "stream",
     "text": [
      "Accuracy= 0.852\n",
      "Precision= 0.6564102564102564\n",
      "Recall= 0.6124401913875598\n",
      "F1= 0.6336633663366337\n",
      "AUC-ROC= 0.8427585455997193\n"
     ]
    }
   ],
   "source": [
    "# Расчет метрик\n",
    "model = RandomForestClassifier(n_estimators=66, random_state=12345, max_depth=14, class_weight='balanced')\n",
    "model.fit(features_upsampled, target_upsampled)\n",
    "prediction = model.predict(features_valid)\n",
    "print('Accuracy=', accuracy_score(target_valid, prediction))\n",
    "print('Precision=', precision_score(target_valid, prediction))\n",
    "print('Recall=', recall_score(target_valid, prediction))\n",
    "print('F1=', f1_score(target_valid, prediction))\n",
    "probabilities_valid = model.predict_proba(features_valid)[:, 1]\n",
    "print('AUC-ROC=', roc_auc_score(target_valid, probabilities_valid))\n",
    "fpr_forest, tpr_forest, thresholds = roc_curve(target_valid, probabilities_valid)"
   ]
  },
  {
   "cell_type": "code",
   "execution_count": 32,
   "metadata": {},
   "outputs": [
    {
     "name": "stdout",
     "output_type": "stream",
     "text": [
      "Accuracy= 0.701\n",
      "Precision= 0.3803191489361702\n",
      "Recall= 0.6842105263157895\n",
      "F1= 0.4888888888888888\n",
      "AUC-ROC= 0.7634452180330149\n"
     ]
    }
   ],
   "source": [
    "# Модель логистическая регрессия\n",
    "model = LogisticRegression(class_weight='balanced')\n",
    "model.fit(features_upsampled, target_upsampled)\n",
    "prediction = model.predict(features_valid)\n",
    "print('Accuracy=', accuracy_score(target_valid, prediction))\n",
    "print('Precision=', precision_score(target_valid, prediction))\n",
    "print('Recall=', recall_score(target_valid, prediction))\n",
    "print('F1=', f1_score(target_valid, prediction))\n",
    "probabilities_valid = model.predict_proba(features_valid)[:, 1]\n",
    "print('AUC-ROC=', roc_auc_score(target_valid, probabilities_valid))\n",
    "fpr_log, tpr_log, thresholds = roc_curve(target_valid, probabilities_valid)"
   ]
  },
  {
   "cell_type": "markdown",
   "metadata": {},
   "source": [
    "Визуализируем AUC-ROC посредством графика площади"
   ]
  },
  {
   "cell_type": "code",
   "execution_count": 33,
   "metadata": {},
   "outputs": [
    {
     "data": {
      "text/plain": [
       "<Figure size 432x288 with 0 Axes>"
      ]
     },
     "metadata": {},
     "output_type": "display_data"
    },
    {
     "data": {
      "image/png": "[encoded data removed]",
      "text/plain": [
       "<Figure size 720x504 with 1 Axes>"
      ]
     },
     "metadata": {
      "needs_background": "light"
     },
     "output_type": "display_data"
    }
   ],
   "source": [
    "plt.figure()\n",
    "\n",
    "plt.figure(figsize=(10,7))\n",
    "plt.plot([0, 1], [0, 1], linestyle='--')\n",
    "plt.xlim([0.0, 1.0])\n",
    "plt.ylim([0.0, 1.0])\n",
    "plt.plot(fpr_forest,tpr_forest)\n",
    "plt.plot(fpr_log,tpr_log)\n",
    "plt.plot(fpr_tree,tpr_tree)\n",
    "\n",
    "plt.xlabel('False Positive Rate')\n",
    "plt.ylabel('True Positive Rate')\n",
    "plt.title('ROC-кривая')\n",
    "plt.legend(('Случайная модель','Случайный лес','Логистическая регрессия','Дерево решения'),\n",
    "           loc= 'upper left') \n",
    "plt.show()"
   ]
  },
  {
   "cell_type": "markdown",
   "metadata": {},
   "source": [
    "**Вывод:** Наилучшее качество модели было достигнуто при взвешивании классов параметром class_weight='balansed' с использованием модели случайный лес. Также метрика AUC-ROC модели Случайный лес лучше остальных"
   ]
  },
  {
   "cell_type": "markdown",
   "metadata": {},
   "source": [
    "Обучение после балансировки данных. Обучим финальную модель"
   ]
  },
  {
   "cell_type": "code",
   "execution_count": 34,
   "metadata": {},
   "outputs": [
    {
     "name": "stdout",
     "output_type": "stream",
     "text": [
      "Accuracy= 0.857\n",
      "Precision= 0.7214765100671141\n",
      "Recall= 0.5143540669856459\n",
      "F1= 0.6005586592178771\n",
      "AUC-ROC= 0.8403329320888706\n"
     ]
    }
   ],
   "source": [
    "model_final = RandomForestClassifier(n_estimators=66, random_state=12345, max_depth=14, class_weight='balanced')\n",
    "model_final.fit(features_train, target_train)\n",
    "prediction = model_final.predict(features_valid)\n",
    "print('Accuracy=', accuracy_score(target_valid, prediction))\n",
    "print('Precision=', precision_score(target_valid, prediction))\n",
    "print('Recall=', recall_score(target_valid, prediction))\n",
    "print('F1=', f1_score(target_valid, prediction))\n",
    "probabilities_valid = model_final.predict_proba(features_valid)[:, 1]\n",
    "print('AUC-ROC=', roc_auc_score(target_valid, probabilities_valid))"
   ]
  },
  {
   "cell_type": "markdown",
   "metadata": {},
   "source": [
    "Проверим выбранную модель на адекватность"
   ]
  },
  {
   "cell_type": "code",
   "execution_count": 35,
   "metadata": {},
   "outputs": [
    {
     "data": {
      "text/plain": [
       "0    2000\n",
       "dtype: int64"
      ]
     },
     "execution_count": 35,
     "metadata": {},
     "output_type": "execute_result"
    }
   ],
   "source": [
    "# Создаем константуню модель\n",
    "target_predict_constant = pd.Series([0]*len(target_valid))\n",
    "target_predict_constant.value_counts()"
   ]
  },
  {
   "cell_type": "code",
   "execution_count": 36,
   "metadata": {},
   "outputs": [
    {
     "name": "stdout",
     "output_type": "stream",
     "text": [
      "accuracy_score константной модели 0.791\n",
      "accuracy_score финальной модели 0.857\n"
     ]
    }
   ],
   "source": [
    "# Сравниваем показатели точности константной модели и финальной\n",
    "print('accuracy_score константной модели', accuracy_score(\n",
    "    target_valid, target_predict_constant))\n",
    "print('accuracy_score финальной модели', accuracy_score(\n",
    "    target_valid, prediction))"
   ]
  },
  {
   "cell_type": "code",
   "execution_count": 37,
   "metadata": {},
   "outputs": [
    {
     "name": "stdout",
     "output_type": "stream",
     "text": [
      "AUC-ROC константной модели 0.5\n",
      "AUC-ROC финальной модели 0.8403329320888706\n"
     ]
    }
   ],
   "source": [
    "# Сравним AUC-ROC. Остальные метрики на константной модели не работают \n",
    "print('AUC-ROC константной модели', roc_auc_score(\n",
    "    target_valid, target_predict_constant))\n",
    "print('AUC-ROC финальной модели', roc_auc_score(\n",
    "    target_valid, probabilities_valid))"
   ]
  },
  {
   "cell_type": "markdown",
   "metadata": {},
   "source": [
    "**Вывод:** Метрики финальной модели лучше, чем константной, следовательно модель является адекватной"
   ]
  },
  {
   "cell_type": "markdown",
   "metadata": {},
   "source": [
    "## Тестирование модели"
   ]
  },
  {
   "cell_type": "code",
   "execution_count": 38,
   "metadata": {},
   "outputs": [],
   "source": [
    "# Объединим обучающую и валидационную выборки\n",
    "features_full_train = pd.concat([features_train, features_valid])\n",
    "target_full_train = pd.concat([target_train, target_valid])\n",
    "features_upsampled, target_upsampled = upsample(features_full_train, target_full_train, 4)"
   ]
  },
  {
   "cell_type": "code",
   "execution_count": 40,
   "metadata": {},
   "outputs": [
    {
     "data": {
      "text/plain": [
       "RandomForestClassifier(class_weight='balanced', max_depth=14, n_estimators=66,\n",
       "                       random_state=12345)"
      ]
     },
     "execution_count": 40,
     "metadata": {},
     "output_type": "execute_result"
    }
   ],
   "source": [
    "# обучим финальную модель\n",
    "model_final = RandomForestClassifier(n_estimators=66, max_depth=14, random_state=12345, class_weight='balanced')\n",
    "model_final.fit(features_upsampled, target_upsampled)"
   ]
  },
  {
   "cell_type": "code",
   "execution_count": 41,
   "metadata": {},
   "outputs": [
    {
     "name": "stdout",
     "output_type": "stream",
     "text": [
      "Accuracy= 0.8455\n",
      "Precision= 0.6417910447761194\n",
      "Recall= 0.6099290780141844\n",
      "F1= 0.6254545454545454\n",
      "AUC-ROC= 0.8519707797220986\n"
     ]
    }
   ],
   "source": [
    "# проведем тестирование модели\n",
    "prediction = model_final.predict(features_test)\n",
    "print('Accuracy=', accuracy_score(target_test, prediction))\n",
    "print('Precision=', precision_score(target_test, prediction))\n",
    "print('Recall=', recall_score(target_test, prediction))\n",
    "print('F1=', f1_score(target_test, prediction))\n",
    "probabilities_valid = model_final.predict_proba(features_test)[:, 1]\n",
    "print('AUC-ROC=', roc_auc_score(target_test, probabilities_valid))\n",
    "fpr, tpr, thresholds = roc_curve(target_test, probabilities_valid)"
   ]
  },
  {
   "cell_type": "raw",
   "metadata": {},
   "source": [
    "features_full_train = pd.concat([features_train, features_valid])\n",
    "target_full_train = pd.concat([target_train, target_valid])\n",
    "\n",
    "features_upsampled, target_upsampled = upsample(features_full_train, target_full_train, 4)"
   ]
  },
  {
   "cell_type": "code",
   "execution_count": 42,
   "metadata": {},
   "outputs": [
    {
     "data": {
      "text/plain": [
       "<Figure size 432x288 with 0 Axes>"
      ]
     },
     "metadata": {},
     "output_type": "display_data"
    },
    {
     "data": {
      "image/png": "[encoded data removed]",
      "text/plain": [
       "<Figure size 720x504 with 1 Axes>"
      ]
     },
     "metadata": {
      "needs_background": "light"
     },
     "output_type": "display_data"
    }
   ],
   "source": [
    "plt.figure()\n",
    "\n",
    "plt.figure(figsize=(10,7))\n",
    "plt.plot([0, 1], [0, 1], linestyle='--')\n",
    "plt.xlim([0.0, 1.0])\n",
    "plt.ylim([0.0, 1.0])\n",
    "plt.plot(fpr,tpr)\n",
    "plt.xlabel('False Positive Rate')\n",
    "plt.ylabel('True Positive Rate')\n",
    "plt.title('ROC-кривая')\n",
    "plt.legend(('Случайная модель','Тестируемая модель'),\n",
    "           loc= 'upper left') \n",
    "plt.show()"
   ]
  },
  {
   "cell_type": "markdown",
   "metadata": {},
   "source": [
    "**Вывод:** Модели со сбалансированными данными путем увеличения количества недостающих классов показали себя лучше других видов баланса и несбалансированных моделей. Финальная модель на тестовой выборке достигла заданного порога и показывает адекватные результаты (AUC-ROC=0.85). Модель с большой вероятностью предскажет уход клиента из банка за счет высокой точности (0.64). Модель находит большую часть ушедших клиентов на тестовой выборке (полнота=0.64)."
   ]
  },
  {
   "cell_type": "code",
   "execution_count": 43,
   "metadata": {},
   "outputs": [
    {
     "data": {
      "image/png": "[encoded data removed]",
      "text/plain": [
       "<Figure size 1080x432 with 1 Axes>"
      ]
     },
     "metadata": {
      "needs_background": "light"
     },
     "output_type": "display_data"
    }
   ],
   "source": [
    "data.groupby('Age')['Exited'].mean().plot(figsize=(15,6),kind='bar',title='Гистограмма возраста и оттока')\n",
    "plt.show()"
   ]
  },
  {
   "cell_type": "markdown",
   "metadata": {},
   "source": [
    "Если построить диаграмму ухода клиентов в зависимости от возраста. Особенно это заметно в районе 50-60 лет. Этот возраст сопровождается высокой мужской сметностью. Возможно, отток клиентов связан с закрытием счетов по причине смерти. В данных не хватает параметра причины закрытия счетов."
   ]
  }
 ],
 "metadata": {
  "ExecuteTimeLog": [
   {
    "duration": 2590,
    "start_time": "2022-04-27T10:53:25.982Z"
   },
   {
    "duration": 40,
    "start_time": "2022-04-27T10:56:01.876Z"
   },
   {
    "duration": 26,
    "start_time": "2022-04-27T10:56:16.142Z"
   },
   {
    "duration": 19,
    "start_time": "2022-04-27T10:57:44.714Z"
   },
   {
    "duration": 1817,
    "start_time": "2022-04-28T04:22:23.910Z"
   },
   {
    "duration": 30,
    "start_time": "2022-04-28T04:22:27.921Z"
   },
   {
    "duration": 16,
    "start_time": "2022-04-28T04:22:30.968Z"
   },
   {
    "duration": 13,
    "start_time": "2022-04-28T04:22:37.458Z"
   },
   {
    "duration": 191,
    "start_time": "2022-04-28T04:23:48.682Z"
   },
   {
    "duration": 3,
    "start_time": "2022-04-28T04:25:45.352Z"
   },
   {
    "duration": 4,
    "start_time": "2022-04-28T04:27:21.160Z"
   },
   {
    "duration": 11,
    "start_time": "2022-04-28T04:28:00.920Z"
   },
   {
    "duration": 10,
    "start_time": "2022-04-28T04:28:32.423Z"
   },
   {
    "duration": 131,
    "start_time": "2022-04-28T04:30:52.639Z"
   },
   {
    "duration": 105,
    "start_time": "2022-04-28T04:34:52.907Z"
   },
   {
    "duration": 758,
    "start_time": "2022-04-28T04:35:26.202Z"
   },
   {
    "duration": 822,
    "start_time": "2022-04-28T04:38:59.514Z"
   },
   {
    "duration": 794,
    "start_time": "2022-04-28T04:41:37.224Z"
   },
   {
    "duration": 4,
    "start_time": "2022-04-28T04:56:28.961Z"
   },
   {
    "duration": 40,
    "start_time": "2022-04-28T04:56:31.122Z"
   },
   {
    "duration": 11,
    "start_time": "2022-04-28T04:56:34.432Z"
   },
   {
    "duration": 11,
    "start_time": "2022-04-28T04:56:38.306Z"
   },
   {
    "duration": 17,
    "start_time": "2022-04-28T04:57:01.410Z"
   },
   {
    "duration": 4,
    "start_time": "2022-04-28T04:57:35.057Z"
   },
   {
    "duration": 4,
    "start_time": "2022-04-28T04:57:46.209Z"
   },
   {
    "duration": 18,
    "start_time": "2022-04-28T04:59:07.817Z"
   },
   {
    "duration": 4,
    "start_time": "2022-04-28T05:01:49.126Z"
   },
   {
    "duration": 10,
    "start_time": "2022-04-28T05:08:32.508Z"
   },
   {
    "duration": 14,
    "start_time": "2022-04-28T05:17:26.359Z"
   },
   {
    "duration": 14,
    "start_time": "2022-04-28T05:17:59.007Z"
   },
   {
    "duration": 4,
    "start_time": "2022-04-28T05:18:56.936Z"
   },
   {
    "duration": 29,
    "start_time": "2022-04-28T05:18:59.855Z"
   },
   {
    "duration": 12,
    "start_time": "2022-04-28T05:19:01.702Z"
   },
   {
    "duration": 13,
    "start_time": "2022-04-28T05:19:04.839Z"
   },
   {
    "duration": 5,
    "start_time": "2022-04-28T05:19:08.591Z"
   },
   {
    "duration": 4,
    "start_time": "2022-04-28T05:19:09.631Z"
   },
   {
    "duration": 19,
    "start_time": "2022-04-28T05:19:11.495Z"
   },
   {
    "duration": 6,
    "start_time": "2022-04-28T05:19:13.647Z"
   },
   {
    "duration": 9,
    "start_time": "2022-04-28T05:19:16.056Z"
   },
   {
    "duration": 14,
    "start_time": "2022-04-28T05:19:36.375Z"
   },
   {
    "duration": 36,
    "start_time": "2022-04-28T05:20:03.695Z"
   },
   {
    "duration": 148,
    "start_time": "2022-04-28T05:36:36.822Z"
   },
   {
    "duration": 164,
    "start_time": "2022-04-28T05:36:43.863Z"
   },
   {
    "duration": 9,
    "start_time": "2022-04-28T05:46:25.145Z"
   },
   {
    "duration": 33,
    "start_time": "2022-04-28T05:46:36.587Z"
   },
   {
    "duration": 5,
    "start_time": "2022-04-28T05:50:01.665Z"
   },
   {
    "duration": 36,
    "start_time": "2022-04-28T05:50:09.224Z"
   },
   {
    "duration": 50,
    "start_time": "2022-04-28T05:50:44.113Z"
   },
   {
    "duration": 533,
    "start_time": "2022-04-28T05:56:03.533Z"
   },
   {
    "duration": 212,
    "start_time": "2022-04-28T06:00:29.582Z"
   },
   {
    "duration": 226617,
    "start_time": "2022-04-28T06:02:06.131Z"
   },
   {
    "duration": 202,
    "start_time": "2022-04-28T06:12:47.276Z"
   },
   {
    "duration": 218,
    "start_time": "2022-04-28T09:57:38.281Z"
   },
   {
    "duration": 415,
    "start_time": "2022-04-28T09:57:47.355Z"
   },
   {
    "duration": 30,
    "start_time": "2022-04-28T09:59:24.521Z"
   },
   {
    "duration": 471833,
    "start_time": "2022-04-28T10:01:46.791Z"
   },
   {
    "duration": 301,
    "start_time": "2022-04-28T10:09:38.627Z"
   },
   {
    "duration": 457,
    "start_time": "2022-04-28T10:10:17.259Z"
   },
   {
    "duration": 265,
    "start_time": "2022-04-28T10:12:49.168Z"
   },
   {
    "duration": 4,
    "start_time": "2022-04-28T10:27:47.588Z"
   },
   {
    "duration": 12,
    "start_time": "2022-04-28T10:27:49.974Z"
   },
   {
    "duration": 30,
    "start_time": "2022-04-28T10:29:45.904Z"
   },
   {
    "duration": 315,
    "start_time": "2022-04-28T10:30:07.208Z"
   },
   {
    "duration": 30,
    "start_time": "2022-04-28T10:30:19.554Z"
   },
   {
    "duration": 356598,
    "start_time": "2022-04-28T10:31:56.597Z"
   },
   {
    "duration": 193,
    "start_time": "2022-04-28T10:40:30.525Z"
   },
   {
    "duration": 475,
    "start_time": "2022-04-28T10:40:35.852Z"
   },
   {
    "duration": 13,
    "start_time": "2022-04-29T04:11:39.247Z"
   },
   {
    "duration": 62,
    "start_time": "2022-04-29T04:12:46.563Z"
   },
   {
    "duration": 8,
    "start_time": "2022-04-29T04:13:19.177Z"
   },
   {
    "duration": 2085,
    "start_time": "2022-04-29T04:13:38.242Z"
   },
   {
    "duration": 37,
    "start_time": "2022-04-29T04:13:41.153Z"
   },
   {
    "duration": 24,
    "start_time": "2022-04-29T04:13:42.730Z"
   },
   {
    "duration": 7,
    "start_time": "2022-04-29T04:13:47.345Z"
   },
   {
    "duration": 6,
    "start_time": "2022-04-29T04:13:47.930Z"
   },
   {
    "duration": 5,
    "start_time": "2022-04-29T04:13:49.426Z"
   },
   {
    "duration": 28,
    "start_time": "2022-04-29T04:13:51.581Z"
   },
   {
    "duration": 7,
    "start_time": "2022-04-29T04:13:55.298Z"
   },
   {
    "duration": 15,
    "start_time": "2022-04-29T04:13:57.034Z"
   },
   {
    "duration": 55,
    "start_time": "2022-04-29T04:14:37.603Z"
   },
   {
    "duration": 117,
    "start_time": "2022-04-29T04:14:49.401Z"
   },
   {
    "duration": 6,
    "start_time": "2022-04-29T04:15:59.562Z"
   },
   {
    "duration": 35,
    "start_time": "2022-04-29T04:16:02.433Z"
   },
   {
    "duration": 16,
    "start_time": "2022-04-29T04:17:07.201Z"
   },
   {
    "duration": 22,
    "start_time": "2022-04-29T04:17:20.393Z"
   },
   {
    "duration": 6,
    "start_time": "2022-04-29T04:17:41.577Z"
   },
   {
    "duration": 1855,
    "start_time": "2022-04-29T04:18:10.230Z"
   },
   {
    "duration": 30,
    "start_time": "2022-04-29T04:18:13.221Z"
   },
   {
    "duration": 23,
    "start_time": "2022-04-29T04:18:14.470Z"
   },
   {
    "duration": 17,
    "start_time": "2022-04-29T04:18:16.741Z"
   },
   {
    "duration": 5,
    "start_time": "2022-04-29T04:18:21.237Z"
   },
   {
    "duration": 6,
    "start_time": "2022-04-29T04:18:21.781Z"
   },
   {
    "duration": 27,
    "start_time": "2022-04-29T04:18:23.366Z"
   },
   {
    "duration": 7,
    "start_time": "2022-04-29T04:18:25.573Z"
   },
   {
    "duration": 13,
    "start_time": "2022-04-29T04:18:27.109Z"
   },
   {
    "duration": 52,
    "start_time": "2022-04-29T04:18:29.317Z"
   },
   {
    "duration": 221,
    "start_time": "2022-04-29T04:18:32.565Z"
   },
   {
    "duration": 576,
    "start_time": "2022-04-29T04:18:37.054Z"
   },
   {
    "duration": 50,
    "start_time": "2022-04-29T04:18:43.989Z"
   },
   {
    "duration": 324573,
    "start_time": "2022-04-29T04:18:47.669Z"
   },
   {
    "duration": 304,
    "start_time": "2022-04-29T04:26:01.506Z"
   },
   {
    "duration": 463,
    "start_time": "2022-04-29T04:26:05.690Z"
   },
   {
    "duration": 6,
    "start_time": "2022-04-29T04:26:28.123Z"
   },
   {
    "duration": 178,
    "start_time": "2022-04-29T04:26:33.362Z"
   },
   {
    "duration": 6,
    "start_time": "2022-04-29T04:34:53.646Z"
   },
   {
    "duration": 14,
    "start_time": "2022-04-29T04:34:55.893Z"
   },
   {
    "duration": 6,
    "start_time": "2022-04-29T04:37:41.493Z"
   },
   {
    "duration": 29,
    "start_time": "2022-04-29T04:37:44.644Z"
   },
   {
    "duration": 6,
    "start_time": "2022-04-29T04:44:25.233Z"
   },
   {
    "duration": 16,
    "start_time": "2022-04-29T04:44:28.201Z"
   },
   {
    "duration": 462,
    "start_time": "2022-04-29T04:44:45.128Z"
   },
   {
    "duration": 40,
    "start_time": "2022-04-29T04:44:56.752Z"
   },
   {
    "duration": 499957,
    "start_time": "2022-04-29T04:45:07.048Z"
   },
   {
    "duration": 277,
    "start_time": "2022-04-29T04:56:25.235Z"
   },
   {
    "duration": 621,
    "start_time": "2022-04-29T04:57:38.234Z"
   },
   {
    "duration": 126,
    "start_time": "2022-04-29T05:01:44.056Z"
   },
   {
    "duration": 728,
    "start_time": "2022-04-29T05:02:14.623Z"
   },
   {
    "duration": 217,
    "start_time": "2022-04-29T05:02:21.317Z"
   },
   {
    "duration": 40,
    "start_time": "2022-04-29T05:06:38.013Z"
   },
   {
    "duration": 43,
    "start_time": "2022-04-29T05:07:54.101Z"
   },
   {
    "duration": 278,
    "start_time": "2022-04-29T05:08:48.204Z"
   },
   {
    "duration": 285,
    "start_time": "2022-04-29T05:08:57.788Z"
   },
   {
    "duration": 284,
    "start_time": "2022-04-29T05:09:17.852Z"
   },
   {
    "duration": 208,
    "start_time": "2022-04-29T05:09:29.268Z"
   },
   {
    "duration": 42,
    "start_time": "2022-04-29T05:09:52.755Z"
   },
   {
    "duration": 292,
    "start_time": "2022-04-29T05:10:10.948Z"
   },
   {
    "duration": 641,
    "start_time": "2022-04-29T05:10:17.220Z"
   },
   {
    "duration": 228,
    "start_time": "2022-04-29T05:10:20.564Z"
   },
   {
    "duration": 284,
    "start_time": "2022-04-29T05:11:05.620Z"
   },
   {
    "duration": 279,
    "start_time": "2022-04-29T05:11:09.563Z"
   },
   {
    "duration": 279,
    "start_time": "2022-04-29T05:15:40.353Z"
   },
   {
    "duration": 9,
    "start_time": "2022-04-29T05:25:23.213Z"
   },
   {
    "duration": 8,
    "start_time": "2022-04-29T05:27:46.956Z"
   },
   {
    "duration": 10,
    "start_time": "2022-04-29T05:31:06.738Z"
   },
   {
    "duration": 315,
    "start_time": "2022-04-29T05:35:26.408Z"
   },
   {
    "duration": 9,
    "start_time": "2022-04-29T05:35:51.608Z"
   },
   {
    "duration": 8,
    "start_time": "2022-04-29T05:36:00.184Z"
   },
   {
    "duration": 11,
    "start_time": "2022-04-29T05:36:16.376Z"
   },
   {
    "duration": 286,
    "start_time": "2022-04-29T05:38:31.120Z"
   },
   {
    "duration": 56,
    "start_time": "2022-04-29T05:41:52.965Z"
   },
   {
    "duration": 249,
    "start_time": "2022-04-29T05:42:43.772Z"
   },
   {
    "duration": 1308,
    "start_time": "2022-04-29T06:17:37.501Z"
   },
   {
    "duration": 1699,
    "start_time": "2022-04-30T05:45:08.596Z"
   },
   {
    "duration": 30,
    "start_time": "2022-04-30T05:45:10.297Z"
   },
   {
    "duration": 17,
    "start_time": "2022-04-30T05:45:10.328Z"
   },
   {
    "duration": 21,
    "start_time": "2022-04-30T05:45:10.347Z"
   },
   {
    "duration": 5,
    "start_time": "2022-04-30T05:45:10.370Z"
   },
   {
    "duration": 14,
    "start_time": "2022-04-30T05:45:10.377Z"
   },
   {
    "duration": 30,
    "start_time": "2022-04-30T05:45:10.393Z"
   },
   {
    "duration": 5,
    "start_time": "2022-04-30T05:45:10.425Z"
   },
   {
    "duration": 23,
    "start_time": "2022-04-30T05:45:10.431Z"
   },
   {
    "duration": 37,
    "start_time": "2022-04-30T05:45:10.457Z"
   },
   {
    "duration": 152,
    "start_time": "2022-04-30T05:45:10.496Z"
   },
   {
    "duration": 416,
    "start_time": "2022-04-30T05:45:10.650Z"
   },
   {
    "duration": 38,
    "start_time": "2022-04-30T05:45:11.068Z"
   },
   {
    "duration": 215966,
    "start_time": "2022-04-30T05:45:11.108Z"
   },
   {
    "duration": 211,
    "start_time": "2022-04-30T05:48:47.076Z"
   },
   {
    "duration": 340,
    "start_time": "2022-04-30T05:48:47.289Z"
   },
   {
    "duration": 568,
    "start_time": "2022-04-30T05:48:47.631Z"
   },
   {
    "duration": 34,
    "start_time": "2022-04-30T05:48:48.200Z"
   },
   {
    "duration": 563493,
    "start_time": "2022-04-30T05:48:48.236Z"
   },
   {
    "duration": 925,
    "start_time": "2022-04-30T05:58:11.731Z"
   },
   {
    "duration": 770,
    "start_time": "2022-04-30T05:58:12.658Z"
   },
   {
    "duration": 91,
    "start_time": "2022-04-30T05:58:13.432Z"
   },
   {
    "duration": 16,
    "start_time": "2022-04-30T05:58:13.525Z"
   },
   {
    "duration": 778,
    "start_time": "2022-04-30T05:58:13.546Z"
   },
   {
    "duration": 31,
    "start_time": "2022-04-30T05:58:14.326Z"
   },
   {
    "duration": 336656,
    "start_time": "2022-04-30T05:58:14.359Z"
   },
   {
    "duration": 186,
    "start_time": "2022-04-30T06:03:51.017Z"
   },
   {
    "duration": 424,
    "start_time": "2022-04-30T06:03:51.206Z"
   },
   {
    "duration": 6,
    "start_time": "2022-04-30T06:03:51.722Z"
   },
   {
    "duration": 112,
    "start_time": "2022-04-30T06:03:51.731Z"
   },
   {
    "duration": 296,
    "start_time": "2022-04-30T06:03:51.845Z"
   },
   {
    "duration": 26,
    "start_time": "2022-04-30T06:03:52.143Z"
   },
   {
    "duration": 329086,
    "start_time": "2022-04-30T06:03:52.171Z"
   },
   {
    "duration": 195,
    "start_time": "2022-04-30T06:09:21.259Z"
   },
   {
    "duration": 567,
    "start_time": "2022-04-30T06:09:21.456Z"
   },
   {
    "duration": 258,
    "start_time": "2022-04-30T06:09:22.026Z"
   },
   {
    "duration": 189,
    "start_time": "2022-04-30T06:09:22.286Z"
   },
   {
    "duration": 6,
    "start_time": "2022-04-30T06:09:22.476Z"
   },
   {
    "duration": 5,
    "start_time": "2022-04-30T06:09:22.484Z"
   },
   {
    "duration": 9,
    "start_time": "2022-04-30T06:09:22.491Z"
   },
   {
    "duration": 53,
    "start_time": "2022-04-30T06:09:22.502Z"
   },
   {
    "duration": 157,
    "start_time": "2022-04-30T06:09:22.557Z"
   },
   {
    "duration": 818,
    "start_time": "2022-04-30T06:09:22.715Z"
   },
   {
    "duration": 4,
    "start_time": "2022-04-30T06:09:23.535Z"
   },
   {
    "duration": 45,
    "start_time": "2022-05-05T03:53:56.167Z"
   },
   {
    "duration": 1438,
    "start_time": "2022-05-05T03:54:07.552Z"
   },
   {
    "duration": 28,
    "start_time": "2022-05-05T03:54:09.679Z"
   },
   {
    "duration": 15,
    "start_time": "2022-05-05T03:54:13.327Z"
   },
   {
    "duration": 11,
    "start_time": "2022-05-05T03:54:17.478Z"
   },
   {
    "duration": 38,
    "start_time": "2022-05-05T03:54:20.575Z"
   },
   {
    "duration": 131,
    "start_time": "2022-05-05T03:56:12.255Z"
   },
   {
    "duration": 1470,
    "start_time": "2022-05-06T04:52:06.971Z"
   },
   {
    "duration": 24,
    "start_time": "2022-05-06T04:52:09.303Z"
   },
   {
    "duration": 16,
    "start_time": "2022-05-06T04:52:10.583Z"
   },
   {
    "duration": 13,
    "start_time": "2022-05-06T04:52:13.391Z"
   },
   {
    "duration": 35,
    "start_time": "2022-05-06T04:52:14.881Z"
   },
   {
    "duration": 4,
    "start_time": "2022-05-06T04:52:18.991Z"
   },
   {
    "duration": 5,
    "start_time": "2022-05-06T04:52:20.248Z"
   },
   {
    "duration": 17,
    "start_time": "2022-05-06T04:52:21.687Z"
   },
   {
    "duration": 4,
    "start_time": "2022-05-06T04:52:24.040Z"
   },
   {
    "duration": 9,
    "start_time": "2022-05-06T04:52:25.615Z"
   },
   {
    "duration": 132,
    "start_time": "2022-05-06T04:52:33.857Z"
   },
   {
    "duration": 419,
    "start_time": "2022-05-06T04:52:36.741Z"
   },
   {
    "duration": 32,
    "start_time": "2022-05-06T04:52:40.871Z"
   },
   {
    "duration": 219483,
    "start_time": "2022-05-06T04:52:59.169Z"
   },
   {
    "duration": 192,
    "start_time": "2022-05-06T04:57:40.626Z"
   },
   {
    "duration": 1368,
    "start_time": "2022-05-06T04:57:48.187Z"
   },
   {
    "duration": 428,
    "start_time": "2022-05-06T04:58:58.618Z"
   },
   {
    "duration": 29,
    "start_time": "2022-05-06T04:59:03.962Z"
   },
   {
    "duration": 465106,
    "start_time": "2022-05-06T04:59:12.401Z"
   },
   {
    "duration": 1198,
    "start_time": "2022-05-06T05:09:50.864Z"
   },
   {
    "duration": 6,
    "start_time": "2022-05-06T05:10:05.069Z"
   },
   {
    "duration": 12,
    "start_time": "2022-05-06T05:10:07.598Z"
   },
   {
    "duration": 108,
    "start_time": "2022-05-06T05:10:11.511Z"
   },
   {
    "duration": 9,
    "start_time": "2022-05-06T05:11:34.351Z"
   },
   {
    "duration": 3,
    "start_time": "2022-05-06T05:12:55.111Z"
   },
   {
    "duration": 1887,
    "start_time": "2022-05-06T05:14:09.975Z"
   },
   {
    "duration": 11,
    "start_time": "2022-05-06T05:16:40.410Z"
   },
   {
    "duration": 1357,
    "start_time": "2022-05-06T05:17:27.682Z"
   },
   {
    "duration": 121,
    "start_time": "2022-05-06T05:17:39.335Z"
   },
   {
    "duration": 348,
    "start_time": "2022-05-06T05:18:38.619Z"
   },
   {
    "duration": 56,
    "start_time": "2022-05-06T05:18:56.295Z"
   },
   {
    "duration": 375840,
    "start_time": "2022-05-06T05:19:01.361Z"
   },
   {
    "duration": 114,
    "start_time": "2022-05-06T05:29:02.390Z"
   },
   {
    "duration": 910,
    "start_time": "2022-05-06T05:29:07.552Z"
   },
   {
    "duration": 4,
    "start_time": "2022-05-06T05:48:18.362Z"
   },
   {
    "duration": 14,
    "start_time": "2022-05-06T05:48:20.713Z"
   },
   {
    "duration": 9,
    "start_time": "2022-05-06T05:49:11.034Z"
   },
   {
    "duration": 337,
    "start_time": "2022-05-06T05:49:23.537Z"
   },
   {
    "duration": 48,
    "start_time": "2022-05-06T05:49:36.110Z"
   },
   {
    "duration": 347072,
    "start_time": "2022-05-06T05:50:06.187Z"
   },
   {
    "duration": 115,
    "start_time": "2022-05-06T05:57:12.416Z"
   },
   {
    "duration": 642,
    "start_time": "2022-05-06T05:57:37.523Z"
   },
   {
    "duration": 158,
    "start_time": "2022-05-06T05:58:27.767Z"
   },
   {
    "duration": 948,
    "start_time": "2022-05-06T06:01:55.637Z"
   },
   {
    "duration": 40,
    "start_time": "2022-05-06T06:02:02.548Z"
   },
   {
    "duration": 341707,
    "start_time": "2022-05-06T06:02:27.656Z"
   },
   {
    "duration": 76,
    "start_time": "2022-05-06T06:15:55.582Z"
   },
   {
    "duration": 880,
    "start_time": "2022-05-06T06:16:26.279Z"
   },
   {
    "duration": 5,
    "start_time": "2022-05-06T06:17:31.318Z"
   },
   {
    "duration": 14,
    "start_time": "2022-05-06T06:17:33.696Z"
   },
   {
    "duration": 716,
    "start_time": "2022-05-06T06:18:51.550Z"
   },
   {
    "duration": 57,
    "start_time": "2022-05-06T06:18:57.061Z"
   },
   {
    "duration": 629406,
    "start_time": "2022-05-06T06:19:10.099Z"
   },
   {
    "duration": 97,
    "start_time": "2022-05-06T06:32:29.472Z"
   },
   {
    "duration": 707,
    "start_time": "2022-05-06T06:33:06.267Z"
   },
   {
    "duration": 174,
    "start_time": "2022-05-06T06:33:20.067Z"
   },
   {
    "duration": 4,
    "start_time": "2022-05-06T06:33:58.509Z"
   },
   {
    "duration": 3,
    "start_time": "2022-05-06T06:35:28.113Z"
   },
   {
    "duration": 183,
    "start_time": "2022-05-06T06:35:30.781Z"
   },
   {
    "duration": 87,
    "start_time": "2022-05-06T06:38:38.039Z"
   },
   {
    "duration": 7,
    "start_time": "2022-05-06T06:38:42.994Z"
   },
   {
    "duration": 5,
    "start_time": "2022-05-06T06:38:45.538Z"
   },
   {
    "duration": 7,
    "start_time": "2022-05-06T06:38:52.163Z"
   },
   {
    "duration": 13,
    "start_time": "2022-05-06T07:06:58.957Z"
   },
   {
    "duration": 83,
    "start_time": "2022-05-06T07:09:20.504Z"
   },
   {
    "duration": 25,
    "start_time": "2022-05-06T07:09:25.938Z"
   },
   {
    "duration": 135,
    "start_time": "2022-05-06T07:09:39.424Z"
   },
   {
    "duration": 2128,
    "start_time": "2022-05-07T03:56:39.422Z"
   },
   {
    "duration": 49,
    "start_time": "2022-05-07T03:56:41.765Z"
   },
   {
    "duration": 24,
    "start_time": "2022-05-07T03:56:43.113Z"
   },
   {
    "duration": 18,
    "start_time": "2022-05-07T03:56:45.161Z"
   },
   {
    "duration": 55,
    "start_time": "2022-05-07T03:56:47.005Z"
   },
   {
    "duration": 6,
    "start_time": "2022-05-07T03:56:50.720Z"
   },
   {
    "duration": 6,
    "start_time": "2022-05-07T03:56:51.849Z"
   },
   {
    "duration": 26,
    "start_time": "2022-05-07T03:56:53.020Z"
   },
   {
    "duration": 7,
    "start_time": "2022-05-07T03:56:55.488Z"
   },
   {
    "duration": 13,
    "start_time": "2022-05-07T03:56:56.800Z"
   },
   {
    "duration": 53,
    "start_time": "2022-05-07T03:56:58.272Z"
   },
   {
    "duration": 245,
    "start_time": "2022-05-07T03:57:03.394Z"
   },
   {
    "duration": 576,
    "start_time": "2022-05-07T03:57:08.118Z"
   },
   {
    "duration": 51,
    "start_time": "2022-05-07T03:57:10.679Z"
   },
   {
    "duration": 313577,
    "start_time": "2022-05-07T03:57:16.275Z"
   },
   {
    "duration": 280,
    "start_time": "2022-05-07T04:04:11.367Z"
   },
   {
    "duration": 384,
    "start_time": "2022-05-07T04:04:15.213Z"
   },
   {
    "duration": 571,
    "start_time": "2022-05-07T04:04:56.980Z"
   },
   {
    "duration": 43,
    "start_time": "2022-05-07T04:05:03.306Z"
   },
   {
    "duration": 643025,
    "start_time": "2022-05-07T04:05:07.673Z"
   },
   {
    "duration": 677,
    "start_time": "2022-05-07T04:31:26.749Z"
   },
   {
    "duration": 240,
    "start_time": "2022-05-07T04:31:30.464Z"
   },
   {
    "duration": 6,
    "start_time": "2022-05-07T04:33:17.006Z"
   },
   {
    "duration": 13,
    "start_time": "2022-05-07T04:33:19.809Z"
   },
   {
    "duration": 5,
    "start_time": "2022-05-07T04:33:22.141Z"
   },
   {
    "duration": 213,
    "start_time": "2022-05-07T04:33:24.579Z"
   },
   {
    "duration": 152,
    "start_time": "2022-05-07T04:33:43.871Z"
   },
   {
    "duration": 1849,
    "start_time": "2022-05-07T04:34:19.493Z"
   },
   {
    "duration": 76,
    "start_time": "2022-05-07T04:36:01.958Z"
   },
   {
    "duration": 1695116,
    "start_time": "2022-05-07T04:38:33.481Z"
   },
   {
    "duration": 949,
    "start_time": "2022-05-07T05:07:20.464Z"
   },
   {
    "duration": 557,
    "start_time": "2022-05-07T05:08:26.355Z"
   },
   {
    "duration": 287,
    "start_time": "2022-05-07T05:08:58.010Z"
   },
   {
    "duration": 680,
    "start_time": "2022-05-07T05:10:25.455Z"
   },
   {
    "duration": 10,
    "start_time": "2022-05-07T05:10:30.887Z"
   },
   {
    "duration": 8,
    "start_time": "2022-05-07T05:10:34.331Z"
   },
   {
    "duration": 12,
    "start_time": "2022-05-07T05:10:39.684Z"
   },
   {
    "duration": 17,
    "start_time": "2022-05-07T05:11:24.605Z"
   },
   {
    "duration": 16,
    "start_time": "2022-05-07T05:19:21.790Z"
   },
   {
    "duration": 1171,
    "start_time": "2022-05-07T05:19:33.619Z"
   },
   {
    "duration": 107,
    "start_time": "2022-05-07T05:19:46.941Z"
   },
   {
    "duration": 270,
    "start_time": "2022-05-07T05:19:57.365Z"
   }
  ],
  "kernelspec": {
   "display_name": "Python 3 (ipykernel)",
   "language": "python",
   "name": "python3"
  },
  "language_info": {
   "codemirror_mode": {
    "name": "ipython",
    "version": 3
   },
   "file_extension": ".py",
   "mimetype": "text/x-python",
   "name": "python",
   "nbconvert_exporter": "python",
   "pygments_lexer": "ipython3",
   "version": "3.8.6"
  },
  "toc": {
   "base_numbering": 1,
   "nav_menu": {},
   "number_sections": true,
   "sideBar": true,
   "skip_h1_title": true,
   "title_cell": "Содержание",
   "title_sidebar": "Contents",
   "toc_cell": true,
   "toc_position": {
    "height": "calc(100% - 180px)",
    "left": "10px",
    "top": "150px",
    "width": "366px"
   },
   "toc_section_display": true,
   "toc_window_display": true
  }
 },
 "nbformat": 4,
 "nbformat_minor": 2
}
