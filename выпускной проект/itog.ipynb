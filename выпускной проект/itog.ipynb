{
 "cells": [
  {
   "cell_type": "markdown",
   "id": "867bcc7f",
   "metadata": {},
   "source": [
    "# Прогноз оттока клиентов для оператора связи"
   ]
  },
  {
   "cell_type": "markdown",
   "id": "c51f5613",
   "metadata": {},
   "source": [
    "Оператор связи \"Ниединогоразрыва.ком\" хочет научиться прогнозировать отток клиентов. Если выяснится, что пользователь планирует уйти, ему будут предложины промокоды и успециальные условия. Команда оператора собрала персональные данные о некоторых клиентах, информацию об их тарифах и договорах."
   ]
  },
  {
   "cell_type": "markdown",
   "id": "101a2548",
   "metadata": {},
   "source": [
    "### Описание услуг\n",
    "Оператор предоставляет два основных типа услуг:\n",
    "1. Стационарную телефонную связь. возможно подклчюение телефонного аппарата к нескольким линиям одновременно.\n",
    "2. Интернет. Подключение может быть двух типов: через телефонную линию (DSL, от англ. digital subscriber line, \"цифровая абонентская линия\") или оптоволоконный кабель (Fiber optic).\n",
    "Также доступны такие услуги:\n",
    "- Интернет-безопасность: антивирус (DeviceProtection) и блокировка небезопасных сайтов (OnlineSecurity);\n",
    "- Выделенная линия техинческой поддержики (techSupport);\n",
    "- Облачное хранилище файлов для резервного копирования данных (OnlineBackup);\n",
    "- Стриминговое телевидение (StreamingTV) и каталог фильмов (StreamingMovies).\n",
    "За услуги клиенты могут платить каждый месяц или заключить договор на 1-2 года. Доступны различные способы расчета и возможность получение электронного чека."
   ]
  },
  {
   "cell_type": "markdown",
   "id": "e240dbda",
   "metadata": {},
   "source": [
    "### Описание данных\n",
    "Данные состоят из файлов, полученных из различных источинков:\n",
    "- contract.csv - инфомрация о договоре;\n",
    "- personal.csv - персональные данные клиента;\n",
    "- internet.csv - информацию об интернет-услугах;\n",
    "- phone.csv - информация об услугах телефонии.\n",
    "Во всех файлах таблиц customerID содержит код клиента.\n",
    "Информация о договорах актуальна на 1 февраля 2020 года."
   ]
  },
  {
   "cell_type": "markdown",
   "id": "0e9a65f4",
   "metadata": {},
   "source": [
    "## Ознакомление с данными"
   ]
  },
  {
   "cell_type": "code",
   "execution_count": 1,
   "id": "08724add",
   "metadata": {},
   "outputs": [],
   "source": [
    "# Загружаем библиотеки\n",
    "import matplotlib.pyplot as plt\n",
    "import numpy as np\n",
    "import pandas as pd\n",
    "import seaborn as sns\n",
    "import warnings\n",
    "\n",
    "from catboost import CatBoostClassifier\n",
    "from lightgbm import LGBMClassifier\n",
    "from sklearn.ensemble import RandomForestClassifier\n",
    "from sklearn.metrics import roc_auc_score, accuracy_score, roc_curve\n",
    "from sklearn.model_selection import train_test_split, GridSearchCV\n",
    "from sklearn.preprocessing import StandardScaler, OrdinalEncoder\n",
    "\n",
    "warnings.filterwarnings('ignore')"
   ]
  },
  {
   "cell_type": "code",
   "execution_count": 2,
   "id": "fa54b59c",
   "metadata": {},
   "outputs": [],
   "source": [
    "# Загружаем данные\n",
    "try:\n",
    "    contract = pd.read_csv('contract.csv', index_col='customerID')\n",
    "    personal = pd.read_csv('personal.csv', index_col='customerID')\n",
    "    internet = pd.read_csv('internet.csv', index_col='customerID')\n",
    "    phone = pd.read_csv('phone.csv', index_col='customerID')\n",
    "except FileNotFoundError:\n",
    "    contract = pd.read_csv('/datasets/final_provider/contract.csv', index_col='customerID')\n",
    "    personal = pd.read_csv('/datasets/final_provider/personal.csv', index_col='customerID')\n",
    "    internet = pd.read_csv('/datasets/final_provider/internet.csv', index_col='customerID')\n",
    "    phone = pd.read_csv('/datasets/final_provider/phone.csv', index_col='customerID')"
   ]
  },
  {
   "cell_type": "code",
   "execution_count": 3,
   "id": "445a1e07",
   "metadata": {},
   "outputs": [],
   "source": [
    "# Выводим информацию по датасетам\n",
    "def info(data):\n",
    "    print('Информация о формате, количестве строк и пропусках')\n",
    "    print(data.info())\n",
    "    print('Обзор данных')\n",
    "    display(data.head(10))\n",
    "    print('Статистическая информация')\n",
    "    display(data.describe(include='all'))"
   ]
  },
  {
   "cell_type": "code",
   "execution_count": 4,
   "id": "6c5cb26b",
   "metadata": {},
   "outputs": [
    {
     "name": "stdout",
     "output_type": "stream",
     "text": [
      "Информация о формате, количестве строк и пропусках\n",
      "<class 'pandas.core.frame.DataFrame'>\n",
      "Index: 7043 entries, 7590-VHVEG to 3186-AJIEK\n",
      "Data columns (total 7 columns):\n",
      " #   Column            Non-Null Count  Dtype  \n",
      "---  ------            --------------  -----  \n",
      " 0   BeginDate         7043 non-null   object \n",
      " 1   EndDate           7043 non-null   object \n",
      " 2   Type              7043 non-null   object \n",
      " 3   PaperlessBilling  7043 non-null   object \n",
      " 4   PaymentMethod     7043 non-null   object \n",
      " 5   MonthlyCharges    7043 non-null   float64\n",
      " 6   TotalCharges      7043 non-null   object \n",
      "dtypes: float64(1), object(6)\n",
      "memory usage: 440.2+ KB\n",
      "None\n",
      "Обзор данных\n"
     ]
    },
    {
     "data": {
      "text/html": [
       "<div>\n",
       "<style scoped>\n",
       "    .dataframe tbody tr th:only-of-type {\n",
       "        vertical-align: middle;\n",
       "    }\n",
       "\n",
       "    .dataframe tbody tr th {\n",
       "        vertical-align: top;\n",
       "    }\n",
       "\n",
       "    .dataframe thead th {\n",
       "        text-align: right;\n",
       "    }\n",
       "</style>\n",
       "<table border=\"1\" class=\"dataframe\">\n",
       "  <thead>\n",
       "    <tr style=\"text-align: right;\">\n",
       "      <th></th>\n",
       "      <th>BeginDate</th>\n",
       "      <th>EndDate</th>\n",
       "      <th>Type</th>\n",
       "      <th>PaperlessBilling</th>\n",
       "      <th>PaymentMethod</th>\n",
       "      <th>MonthlyCharges</th>\n",
       "      <th>TotalCharges</th>\n",
       "    </tr>\n",
       "    <tr>\n",
       "      <th>customerID</th>\n",
       "      <th></th>\n",
       "      <th></th>\n",
       "      <th></th>\n",
       "      <th></th>\n",
       "      <th></th>\n",
       "      <th></th>\n",
       "      <th></th>\n",
       "    </tr>\n",
       "  </thead>\n",
       "  <tbody>\n",
       "    <tr>\n",
       "      <th>7590-VHVEG</th>\n",
       "      <td>2020-01-01</td>\n",
       "      <td>No</td>\n",
       "      <td>Month-to-month</td>\n",
       "      <td>Yes</td>\n",
       "      <td>Electronic check</td>\n",
       "      <td>29.85</td>\n",
       "      <td>29.85</td>\n",
       "    </tr>\n",
       "    <tr>\n",
       "      <th>5575-GNVDE</th>\n",
       "      <td>2017-04-01</td>\n",
       "      <td>No</td>\n",
       "      <td>One year</td>\n",
       "      <td>No</td>\n",
       "      <td>Mailed check</td>\n",
       "      <td>56.95</td>\n",
       "      <td>1889.5</td>\n",
       "    </tr>\n",
       "    <tr>\n",
       "      <th>3668-QPYBK</th>\n",
       "      <td>2019-10-01</td>\n",
       "      <td>2019-12-01 00:00:00</td>\n",
       "      <td>Month-to-month</td>\n",
       "      <td>Yes</td>\n",
       "      <td>Mailed check</td>\n",
       "      <td>53.85</td>\n",
       "      <td>108.15</td>\n",
       "    </tr>\n",
       "    <tr>\n",
       "      <th>7795-CFOCW</th>\n",
       "      <td>2016-05-01</td>\n",
       "      <td>No</td>\n",
       "      <td>One year</td>\n",
       "      <td>No</td>\n",
       "      <td>Bank transfer (automatic)</td>\n",
       "      <td>42.30</td>\n",
       "      <td>1840.75</td>\n",
       "    </tr>\n",
       "    <tr>\n",
       "      <th>9237-HQITU</th>\n",
       "      <td>2019-09-01</td>\n",
       "      <td>2019-11-01 00:00:00</td>\n",
       "      <td>Month-to-month</td>\n",
       "      <td>Yes</td>\n",
       "      <td>Electronic check</td>\n",
       "      <td>70.70</td>\n",
       "      <td>151.65</td>\n",
       "    </tr>\n",
       "    <tr>\n",
       "      <th>9305-CDSKC</th>\n",
       "      <td>2019-03-01</td>\n",
       "      <td>2019-11-01 00:00:00</td>\n",
       "      <td>Month-to-month</td>\n",
       "      <td>Yes</td>\n",
       "      <td>Electronic check</td>\n",
       "      <td>99.65</td>\n",
       "      <td>820.5</td>\n",
       "    </tr>\n",
       "    <tr>\n",
       "      <th>1452-KIOVK</th>\n",
       "      <td>2018-04-01</td>\n",
       "      <td>No</td>\n",
       "      <td>Month-to-month</td>\n",
       "      <td>Yes</td>\n",
       "      <td>Credit card (automatic)</td>\n",
       "      <td>89.10</td>\n",
       "      <td>1949.4</td>\n",
       "    </tr>\n",
       "    <tr>\n",
       "      <th>6713-OKOMC</th>\n",
       "      <td>2019-04-01</td>\n",
       "      <td>No</td>\n",
       "      <td>Month-to-month</td>\n",
       "      <td>No</td>\n",
       "      <td>Mailed check</td>\n",
       "      <td>29.75</td>\n",
       "      <td>301.9</td>\n",
       "    </tr>\n",
       "    <tr>\n",
       "      <th>7892-POOKP</th>\n",
       "      <td>2017-07-01</td>\n",
       "      <td>2019-11-01 00:00:00</td>\n",
       "      <td>Month-to-month</td>\n",
       "      <td>Yes</td>\n",
       "      <td>Electronic check</td>\n",
       "      <td>104.80</td>\n",
       "      <td>3046.05</td>\n",
       "    </tr>\n",
       "    <tr>\n",
       "      <th>6388-TABGU</th>\n",
       "      <td>2014-12-01</td>\n",
       "      <td>No</td>\n",
       "      <td>One year</td>\n",
       "      <td>No</td>\n",
       "      <td>Bank transfer (automatic)</td>\n",
       "      <td>56.15</td>\n",
       "      <td>3487.95</td>\n",
       "    </tr>\n",
       "  </tbody>\n",
       "</table>\n",
       "</div>"
      ],
      "text/plain": [
       "             BeginDate              EndDate            Type PaperlessBilling  \\\n",
       "customerID                                                                     \n",
       "7590-VHVEG  2020-01-01                   No  Month-to-month              Yes   \n",
       "5575-GNVDE  2017-04-01                   No        One year               No   \n",
       "3668-QPYBK  2019-10-01  2019-12-01 00:00:00  Month-to-month              Yes   \n",
       "7795-CFOCW  2016-05-01                   No        One year               No   \n",
       "9237-HQITU  2019-09-01  2019-11-01 00:00:00  Month-to-month              Yes   \n",
       "9305-CDSKC  2019-03-01  2019-11-01 00:00:00  Month-to-month              Yes   \n",
       "1452-KIOVK  2018-04-01                   No  Month-to-month              Yes   \n",
       "6713-OKOMC  2019-04-01                   No  Month-to-month               No   \n",
       "7892-POOKP  2017-07-01  2019-11-01 00:00:00  Month-to-month              Yes   \n",
       "6388-TABGU  2014-12-01                   No        One year               No   \n",
       "\n",
       "                        PaymentMethod  MonthlyCharges TotalCharges  \n",
       "customerID                                                          \n",
       "7590-VHVEG           Electronic check           29.85        29.85  \n",
       "5575-GNVDE               Mailed check           56.95       1889.5  \n",
       "3668-QPYBK               Mailed check           53.85       108.15  \n",
       "7795-CFOCW  Bank transfer (automatic)           42.30      1840.75  \n",
       "9237-HQITU           Electronic check           70.70       151.65  \n",
       "9305-CDSKC           Electronic check           99.65        820.5  \n",
       "1452-KIOVK    Credit card (automatic)           89.10       1949.4  \n",
       "6713-OKOMC               Mailed check           29.75        301.9  \n",
       "7892-POOKP           Electronic check          104.80      3046.05  \n",
       "6388-TABGU  Bank transfer (automatic)           56.15      3487.95  "
      ]
     },
     "metadata": {},
     "output_type": "display_data"
    },
    {
     "name": "stdout",
     "output_type": "stream",
     "text": [
      "Статистическая информация\n"
     ]
    },
    {
     "data": {
      "text/html": [
       "<div>\n",
       "<style scoped>\n",
       "    .dataframe tbody tr th:only-of-type {\n",
       "        vertical-align: middle;\n",
       "    }\n",
       "\n",
       "    .dataframe tbody tr th {\n",
       "        vertical-align: top;\n",
       "    }\n",
       "\n",
       "    .dataframe thead th {\n",
       "        text-align: right;\n",
       "    }\n",
       "</style>\n",
       "<table border=\"1\" class=\"dataframe\">\n",
       "  <thead>\n",
       "    <tr style=\"text-align: right;\">\n",
       "      <th></th>\n",
       "      <th>BeginDate</th>\n",
       "      <th>EndDate</th>\n",
       "      <th>Type</th>\n",
       "      <th>PaperlessBilling</th>\n",
       "      <th>PaymentMethod</th>\n",
       "      <th>MonthlyCharges</th>\n",
       "      <th>TotalCharges</th>\n",
       "    </tr>\n",
       "  </thead>\n",
       "  <tbody>\n",
       "    <tr>\n",
       "      <th>count</th>\n",
       "      <td>7043</td>\n",
       "      <td>7043</td>\n",
       "      <td>7043</td>\n",
       "      <td>7043</td>\n",
       "      <td>7043</td>\n",
       "      <td>7043.000000</td>\n",
       "      <td>7043</td>\n",
       "    </tr>\n",
       "    <tr>\n",
       "      <th>unique</th>\n",
       "      <td>77</td>\n",
       "      <td>5</td>\n",
       "      <td>3</td>\n",
       "      <td>2</td>\n",
       "      <td>4</td>\n",
       "      <td>NaN</td>\n",
       "      <td>6531</td>\n",
       "    </tr>\n",
       "    <tr>\n",
       "      <th>top</th>\n",
       "      <td>2014-02-01</td>\n",
       "      <td>No</td>\n",
       "      <td>Month-to-month</td>\n",
       "      <td>Yes</td>\n",
       "      <td>Electronic check</td>\n",
       "      <td>NaN</td>\n",
       "      <td></td>\n",
       "    </tr>\n",
       "    <tr>\n",
       "      <th>freq</th>\n",
       "      <td>366</td>\n",
       "      <td>5174</td>\n",
       "      <td>3875</td>\n",
       "      <td>4171</td>\n",
       "      <td>2365</td>\n",
       "      <td>NaN</td>\n",
       "      <td>11</td>\n",
       "    </tr>\n",
       "    <tr>\n",
       "      <th>mean</th>\n",
       "      <td>NaN</td>\n",
       "      <td>NaN</td>\n",
       "      <td>NaN</td>\n",
       "      <td>NaN</td>\n",
       "      <td>NaN</td>\n",
       "      <td>64.761692</td>\n",
       "      <td>NaN</td>\n",
       "    </tr>\n",
       "    <tr>\n",
       "      <th>std</th>\n",
       "      <td>NaN</td>\n",
       "      <td>NaN</td>\n",
       "      <td>NaN</td>\n",
       "      <td>NaN</td>\n",
       "      <td>NaN</td>\n",
       "      <td>30.090047</td>\n",
       "      <td>NaN</td>\n",
       "    </tr>\n",
       "    <tr>\n",
       "      <th>min</th>\n",
       "      <td>NaN</td>\n",
       "      <td>NaN</td>\n",
       "      <td>NaN</td>\n",
       "      <td>NaN</td>\n",
       "      <td>NaN</td>\n",
       "      <td>18.250000</td>\n",
       "      <td>NaN</td>\n",
       "    </tr>\n",
       "    <tr>\n",
       "      <th>25%</th>\n",
       "      <td>NaN</td>\n",
       "      <td>NaN</td>\n",
       "      <td>NaN</td>\n",
       "      <td>NaN</td>\n",
       "      <td>NaN</td>\n",
       "      <td>35.500000</td>\n",
       "      <td>NaN</td>\n",
       "    </tr>\n",
       "    <tr>\n",
       "      <th>50%</th>\n",
       "      <td>NaN</td>\n",
       "      <td>NaN</td>\n",
       "      <td>NaN</td>\n",
       "      <td>NaN</td>\n",
       "      <td>NaN</td>\n",
       "      <td>70.350000</td>\n",
       "      <td>NaN</td>\n",
       "    </tr>\n",
       "    <tr>\n",
       "      <th>75%</th>\n",
       "      <td>NaN</td>\n",
       "      <td>NaN</td>\n",
       "      <td>NaN</td>\n",
       "      <td>NaN</td>\n",
       "      <td>NaN</td>\n",
       "      <td>89.850000</td>\n",
       "      <td>NaN</td>\n",
       "    </tr>\n",
       "    <tr>\n",
       "      <th>max</th>\n",
       "      <td>NaN</td>\n",
       "      <td>NaN</td>\n",
       "      <td>NaN</td>\n",
       "      <td>NaN</td>\n",
       "      <td>NaN</td>\n",
       "      <td>118.750000</td>\n",
       "      <td>NaN</td>\n",
       "    </tr>\n",
       "  </tbody>\n",
       "</table>\n",
       "</div>"
      ],
      "text/plain": [
       "         BeginDate EndDate            Type PaperlessBilling     PaymentMethod  \\\n",
       "count         7043    7043            7043             7043              7043   \n",
       "unique          77       5               3                2                 4   \n",
       "top     2014-02-01      No  Month-to-month              Yes  Electronic check   \n",
       "freq           366    5174            3875             4171              2365   \n",
       "mean           NaN     NaN             NaN              NaN               NaN   \n",
       "std            NaN     NaN             NaN              NaN               NaN   \n",
       "min            NaN     NaN             NaN              NaN               NaN   \n",
       "25%            NaN     NaN             NaN              NaN               NaN   \n",
       "50%            NaN     NaN             NaN              NaN               NaN   \n",
       "75%            NaN     NaN             NaN              NaN               NaN   \n",
       "max            NaN     NaN             NaN              NaN               NaN   \n",
       "\n",
       "        MonthlyCharges TotalCharges  \n",
       "count      7043.000000         7043  \n",
       "unique             NaN         6531  \n",
       "top                NaN               \n",
       "freq               NaN           11  \n",
       "mean         64.761692          NaN  \n",
       "std          30.090047          NaN  \n",
       "min          18.250000          NaN  \n",
       "25%          35.500000          NaN  \n",
       "50%          70.350000          NaN  \n",
       "75%          89.850000          NaN  \n",
       "max         118.750000          NaN  "
      ]
     },
     "metadata": {},
     "output_type": "display_data"
    }
   ],
   "source": [
    "# По датасету contract\n",
    "info(contract)"
   ]
  },
  {
   "cell_type": "code",
   "execution_count": 5,
   "id": "7b1be46c",
   "metadata": {},
   "outputs": [
    {
     "name": "stdout",
     "output_type": "stream",
     "text": [
      "Информация о формате, количестве строк и пропусках\n",
      "<class 'pandas.core.frame.DataFrame'>\n",
      "Index: 7043 entries, 7590-VHVEG to 3186-AJIEK\n",
      "Data columns (total 4 columns):\n",
      " #   Column         Non-Null Count  Dtype \n",
      "---  ------         --------------  ----- \n",
      " 0   gender         7043 non-null   object\n",
      " 1   SeniorCitizen  7043 non-null   int64 \n",
      " 2   Partner        7043 non-null   object\n",
      " 3   Dependents     7043 non-null   object\n",
      "dtypes: int64(1), object(3)\n",
      "memory usage: 275.1+ KB\n",
      "None\n",
      "Обзор данных\n"
     ]
    },
    {
     "data": {
      "text/html": [
       "<div>\n",
       "<style scoped>\n",
       "    .dataframe tbody tr th:only-of-type {\n",
       "        vertical-align: middle;\n",
       "    }\n",
       "\n",
       "    .dataframe tbody tr th {\n",
       "        vertical-align: top;\n",
       "    }\n",
       "\n",
       "    .dataframe thead th {\n",
       "        text-align: right;\n",
       "    }\n",
       "</style>\n",
       "<table border=\"1\" class=\"dataframe\">\n",
       "  <thead>\n",
       "    <tr style=\"text-align: right;\">\n",
       "      <th></th>\n",
       "      <th>gender</th>\n",
       "      <th>SeniorCitizen</th>\n",
       "      <th>Partner</th>\n",
       "      <th>Dependents</th>\n",
       "    </tr>\n",
       "    <tr>\n",
       "      <th>customerID</th>\n",
       "      <th></th>\n",
       "      <th></th>\n",
       "      <th></th>\n",
       "      <th></th>\n",
       "    </tr>\n",
       "  </thead>\n",
       "  <tbody>\n",
       "    <tr>\n",
       "      <th>7590-VHVEG</th>\n",
       "      <td>Female</td>\n",
       "      <td>0</td>\n",
       "      <td>Yes</td>\n",
       "      <td>No</td>\n",
       "    </tr>\n",
       "    <tr>\n",
       "      <th>5575-GNVDE</th>\n",
       "      <td>Male</td>\n",
       "      <td>0</td>\n",
       "      <td>No</td>\n",
       "      <td>No</td>\n",
       "    </tr>\n",
       "    <tr>\n",
       "      <th>3668-QPYBK</th>\n",
       "      <td>Male</td>\n",
       "      <td>0</td>\n",
       "      <td>No</td>\n",
       "      <td>No</td>\n",
       "    </tr>\n",
       "    <tr>\n",
       "      <th>7795-CFOCW</th>\n",
       "      <td>Male</td>\n",
       "      <td>0</td>\n",
       "      <td>No</td>\n",
       "      <td>No</td>\n",
       "    </tr>\n",
       "    <tr>\n",
       "      <th>9237-HQITU</th>\n",
       "      <td>Female</td>\n",
       "      <td>0</td>\n",
       "      <td>No</td>\n",
       "      <td>No</td>\n",
       "    </tr>\n",
       "    <tr>\n",
       "      <th>9305-CDSKC</th>\n",
       "      <td>Female</td>\n",
       "      <td>0</td>\n",
       "      <td>No</td>\n",
       "      <td>No</td>\n",
       "    </tr>\n",
       "    <tr>\n",
       "      <th>1452-KIOVK</th>\n",
       "      <td>Male</td>\n",
       "      <td>0</td>\n",
       "      <td>No</td>\n",
       "      <td>Yes</td>\n",
       "    </tr>\n",
       "    <tr>\n",
       "      <th>6713-OKOMC</th>\n",
       "      <td>Female</td>\n",
       "      <td>0</td>\n",
       "      <td>No</td>\n",
       "      <td>No</td>\n",
       "    </tr>\n",
       "    <tr>\n",
       "      <th>7892-POOKP</th>\n",
       "      <td>Female</td>\n",
       "      <td>0</td>\n",
       "      <td>Yes</td>\n",
       "      <td>No</td>\n",
       "    </tr>\n",
       "    <tr>\n",
       "      <th>6388-TABGU</th>\n",
       "      <td>Male</td>\n",
       "      <td>0</td>\n",
       "      <td>No</td>\n",
       "      <td>Yes</td>\n",
       "    </tr>\n",
       "  </tbody>\n",
       "</table>\n",
       "</div>"
      ],
      "text/plain": [
       "            gender  SeniorCitizen Partner Dependents\n",
       "customerID                                          \n",
       "7590-VHVEG  Female              0     Yes         No\n",
       "5575-GNVDE    Male              0      No         No\n",
       "3668-QPYBK    Male              0      No         No\n",
       "7795-CFOCW    Male              0      No         No\n",
       "9237-HQITU  Female              0      No         No\n",
       "9305-CDSKC  Female              0      No         No\n",
       "1452-KIOVK    Male              0      No        Yes\n",
       "6713-OKOMC  Female              0      No         No\n",
       "7892-POOKP  Female              0     Yes         No\n",
       "6388-TABGU    Male              0      No        Yes"
      ]
     },
     "metadata": {},
     "output_type": "display_data"
    },
    {
     "name": "stdout",
     "output_type": "stream",
     "text": [
      "Статистическая информация\n"
     ]
    },
    {
     "data": {
      "text/html": [
       "<div>\n",
       "<style scoped>\n",
       "    .dataframe tbody tr th:only-of-type {\n",
       "        vertical-align: middle;\n",
       "    }\n",
       "\n",
       "    .dataframe tbody tr th {\n",
       "        vertical-align: top;\n",
       "    }\n",
       "\n",
       "    .dataframe thead th {\n",
       "        text-align: right;\n",
       "    }\n",
       "</style>\n",
       "<table border=\"1\" class=\"dataframe\">\n",
       "  <thead>\n",
       "    <tr style=\"text-align: right;\">\n",
       "      <th></th>\n",
       "      <th>gender</th>\n",
       "      <th>SeniorCitizen</th>\n",
       "      <th>Partner</th>\n",
       "      <th>Dependents</th>\n",
       "    </tr>\n",
       "  </thead>\n",
       "  <tbody>\n",
       "    <tr>\n",
       "      <th>count</th>\n",
       "      <td>7043</td>\n",
       "      <td>7043.000000</td>\n",
       "      <td>7043</td>\n",
       "      <td>7043</td>\n",
       "    </tr>\n",
       "    <tr>\n",
       "      <th>unique</th>\n",
       "      <td>2</td>\n",
       "      <td>NaN</td>\n",
       "      <td>2</td>\n",
       "      <td>2</td>\n",
       "    </tr>\n",
       "    <tr>\n",
       "      <th>top</th>\n",
       "      <td>Male</td>\n",
       "      <td>NaN</td>\n",
       "      <td>No</td>\n",
       "      <td>No</td>\n",
       "    </tr>\n",
       "    <tr>\n",
       "      <th>freq</th>\n",
       "      <td>3555</td>\n",
       "      <td>NaN</td>\n",
       "      <td>3641</td>\n",
       "      <td>4933</td>\n",
       "    </tr>\n",
       "    <tr>\n",
       "      <th>mean</th>\n",
       "      <td>NaN</td>\n",
       "      <td>0.162147</td>\n",
       "      <td>NaN</td>\n",
       "      <td>NaN</td>\n",
       "    </tr>\n",
       "    <tr>\n",
       "      <th>std</th>\n",
       "      <td>NaN</td>\n",
       "      <td>0.368612</td>\n",
       "      <td>NaN</td>\n",
       "      <td>NaN</td>\n",
       "    </tr>\n",
       "    <tr>\n",
       "      <th>min</th>\n",
       "      <td>NaN</td>\n",
       "      <td>0.000000</td>\n",
       "      <td>NaN</td>\n",
       "      <td>NaN</td>\n",
       "    </tr>\n",
       "    <tr>\n",
       "      <th>25%</th>\n",
       "      <td>NaN</td>\n",
       "      <td>0.000000</td>\n",
       "      <td>NaN</td>\n",
       "      <td>NaN</td>\n",
       "    </tr>\n",
       "    <tr>\n",
       "      <th>50%</th>\n",
       "      <td>NaN</td>\n",
       "      <td>0.000000</td>\n",
       "      <td>NaN</td>\n",
       "      <td>NaN</td>\n",
       "    </tr>\n",
       "    <tr>\n",
       "      <th>75%</th>\n",
       "      <td>NaN</td>\n",
       "      <td>0.000000</td>\n",
       "      <td>NaN</td>\n",
       "      <td>NaN</td>\n",
       "    </tr>\n",
       "    <tr>\n",
       "      <th>max</th>\n",
       "      <td>NaN</td>\n",
       "      <td>1.000000</td>\n",
       "      <td>NaN</td>\n",
       "      <td>NaN</td>\n",
       "    </tr>\n",
       "  </tbody>\n",
       "</table>\n",
       "</div>"
      ],
      "text/plain": [
       "       gender  SeniorCitizen Partner Dependents\n",
       "count    7043    7043.000000    7043       7043\n",
       "unique      2            NaN       2          2\n",
       "top      Male            NaN      No         No\n",
       "freq     3555            NaN    3641       4933\n",
       "mean      NaN       0.162147     NaN        NaN\n",
       "std       NaN       0.368612     NaN        NaN\n",
       "min       NaN       0.000000     NaN        NaN\n",
       "25%       NaN       0.000000     NaN        NaN\n",
       "50%       NaN       0.000000     NaN        NaN\n",
       "75%       NaN       0.000000     NaN        NaN\n",
       "max       NaN       1.000000     NaN        NaN"
      ]
     },
     "metadata": {},
     "output_type": "display_data"
    }
   ],
   "source": [
    "# По датасету personal\n",
    "info(personal)"
   ]
  },
  {
   "cell_type": "code",
   "execution_count": 6,
   "id": "39814cbb",
   "metadata": {},
   "outputs": [
    {
     "name": "stdout",
     "output_type": "stream",
     "text": [
      "Информация о формате, количестве строк и пропусках\n",
      "<class 'pandas.core.frame.DataFrame'>\n",
      "Index: 5517 entries, 7590-VHVEG to 3186-AJIEK\n",
      "Data columns (total 7 columns):\n",
      " #   Column            Non-Null Count  Dtype \n",
      "---  ------            --------------  ----- \n",
      " 0   InternetService   5517 non-null   object\n",
      " 1   OnlineSecurity    5517 non-null   object\n",
      " 2   OnlineBackup      5517 non-null   object\n",
      " 3   DeviceProtection  5517 non-null   object\n",
      " 4   TechSupport       5517 non-null   object\n",
      " 5   StreamingTV       5517 non-null   object\n",
      " 6   StreamingMovies   5517 non-null   object\n",
      "dtypes: object(7)\n",
      "memory usage: 344.8+ KB\n",
      "None\n",
      "Обзор данных\n"
     ]
    },
    {
     "data": {
      "text/html": [
       "<div>\n",
       "<style scoped>\n",
       "    .dataframe tbody tr th:only-of-type {\n",
       "        vertical-align: middle;\n",
       "    }\n",
       "\n",
       "    .dataframe tbody tr th {\n",
       "        vertical-align: top;\n",
       "    }\n",
       "\n",
       "    .dataframe thead th {\n",
       "        text-align: right;\n",
       "    }\n",
       "</style>\n",
       "<table border=\"1\" class=\"dataframe\">\n",
       "  <thead>\n",
       "    <tr style=\"text-align: right;\">\n",
       "      <th></th>\n",
       "      <th>InternetService</th>\n",
       "      <th>OnlineSecurity</th>\n",
       "      <th>OnlineBackup</th>\n",
       "      <th>DeviceProtection</th>\n",
       "      <th>TechSupport</th>\n",
       "      <th>StreamingTV</th>\n",
       "      <th>StreamingMovies</th>\n",
       "    </tr>\n",
       "    <tr>\n",
       "      <th>customerID</th>\n",
       "      <th></th>\n",
       "      <th></th>\n",
       "      <th></th>\n",
       "      <th></th>\n",
       "      <th></th>\n",
       "      <th></th>\n",
       "      <th></th>\n",
       "    </tr>\n",
       "  </thead>\n",
       "  <tbody>\n",
       "    <tr>\n",
       "      <th>7590-VHVEG</th>\n",
       "      <td>DSL</td>\n",
       "      <td>No</td>\n",
       "      <td>Yes</td>\n",
       "      <td>No</td>\n",
       "      <td>No</td>\n",
       "      <td>No</td>\n",
       "      <td>No</td>\n",
       "    </tr>\n",
       "    <tr>\n",
       "      <th>5575-GNVDE</th>\n",
       "      <td>DSL</td>\n",
       "      <td>Yes</td>\n",
       "      <td>No</td>\n",
       "      <td>Yes</td>\n",
       "      <td>No</td>\n",
       "      <td>No</td>\n",
       "      <td>No</td>\n",
       "    </tr>\n",
       "    <tr>\n",
       "      <th>3668-QPYBK</th>\n",
       "      <td>DSL</td>\n",
       "      <td>Yes</td>\n",
       "      <td>Yes</td>\n",
       "      <td>No</td>\n",
       "      <td>No</td>\n",
       "      <td>No</td>\n",
       "      <td>No</td>\n",
       "    </tr>\n",
       "    <tr>\n",
       "      <th>7795-CFOCW</th>\n",
       "      <td>DSL</td>\n",
       "      <td>Yes</td>\n",
       "      <td>No</td>\n",
       "      <td>Yes</td>\n",
       "      <td>Yes</td>\n",
       "      <td>No</td>\n",
       "      <td>No</td>\n",
       "    </tr>\n",
       "    <tr>\n",
       "      <th>9237-HQITU</th>\n",
       "      <td>Fiber optic</td>\n",
       "      <td>No</td>\n",
       "      <td>No</td>\n",
       "      <td>No</td>\n",
       "      <td>No</td>\n",
       "      <td>No</td>\n",
       "      <td>No</td>\n",
       "    </tr>\n",
       "    <tr>\n",
       "      <th>9305-CDSKC</th>\n",
       "      <td>Fiber optic</td>\n",
       "      <td>No</td>\n",
       "      <td>No</td>\n",
       "      <td>Yes</td>\n",
       "      <td>No</td>\n",
       "      <td>Yes</td>\n",
       "      <td>Yes</td>\n",
       "    </tr>\n",
       "    <tr>\n",
       "      <th>1452-KIOVK</th>\n",
       "      <td>Fiber optic</td>\n",
       "      <td>No</td>\n",
       "      <td>Yes</td>\n",
       "      <td>No</td>\n",
       "      <td>No</td>\n",
       "      <td>Yes</td>\n",
       "      <td>No</td>\n",
       "    </tr>\n",
       "    <tr>\n",
       "      <th>6713-OKOMC</th>\n",
       "      <td>DSL</td>\n",
       "      <td>Yes</td>\n",
       "      <td>No</td>\n",
       "      <td>No</td>\n",
       "      <td>No</td>\n",
       "      <td>No</td>\n",
       "      <td>No</td>\n",
       "    </tr>\n",
       "    <tr>\n",
       "      <th>7892-POOKP</th>\n",
       "      <td>Fiber optic</td>\n",
       "      <td>No</td>\n",
       "      <td>No</td>\n",
       "      <td>Yes</td>\n",
       "      <td>Yes</td>\n",
       "      <td>Yes</td>\n",
       "      <td>Yes</td>\n",
       "    </tr>\n",
       "    <tr>\n",
       "      <th>6388-TABGU</th>\n",
       "      <td>DSL</td>\n",
       "      <td>Yes</td>\n",
       "      <td>Yes</td>\n",
       "      <td>No</td>\n",
       "      <td>No</td>\n",
       "      <td>No</td>\n",
       "      <td>No</td>\n",
       "    </tr>\n",
       "  </tbody>\n",
       "</table>\n",
       "</div>"
      ],
      "text/plain": [
       "           InternetService OnlineSecurity OnlineBackup DeviceProtection  \\\n",
       "customerID                                                                \n",
       "7590-VHVEG             DSL             No          Yes               No   \n",
       "5575-GNVDE             DSL            Yes           No              Yes   \n",
       "3668-QPYBK             DSL            Yes          Yes               No   \n",
       "7795-CFOCW             DSL            Yes           No              Yes   \n",
       "9237-HQITU     Fiber optic             No           No               No   \n",
       "9305-CDSKC     Fiber optic             No           No              Yes   \n",
       "1452-KIOVK     Fiber optic             No          Yes               No   \n",
       "6713-OKOMC             DSL            Yes           No               No   \n",
       "7892-POOKP     Fiber optic             No           No              Yes   \n",
       "6388-TABGU             DSL            Yes          Yes               No   \n",
       "\n",
       "           TechSupport StreamingTV StreamingMovies  \n",
       "customerID                                          \n",
       "7590-VHVEG          No          No              No  \n",
       "5575-GNVDE          No          No              No  \n",
       "3668-QPYBK          No          No              No  \n",
       "7795-CFOCW         Yes          No              No  \n",
       "9237-HQITU          No          No              No  \n",
       "9305-CDSKC          No         Yes             Yes  \n",
       "1452-KIOVK          No         Yes              No  \n",
       "6713-OKOMC          No          No              No  \n",
       "7892-POOKP         Yes         Yes             Yes  \n",
       "6388-TABGU          No          No              No  "
      ]
     },
     "metadata": {},
     "output_type": "display_data"
    },
    {
     "name": "stdout",
     "output_type": "stream",
     "text": [
      "Статистическая информация\n"
     ]
    },
    {
     "data": {
      "text/html": [
       "<div>\n",
       "<style scoped>\n",
       "    .dataframe tbody tr th:only-of-type {\n",
       "        vertical-align: middle;\n",
       "    }\n",
       "\n",
       "    .dataframe tbody tr th {\n",
       "        vertical-align: top;\n",
       "    }\n",
       "\n",
       "    .dataframe thead th {\n",
       "        text-align: right;\n",
       "    }\n",
       "</style>\n",
       "<table border=\"1\" class=\"dataframe\">\n",
       "  <thead>\n",
       "    <tr style=\"text-align: right;\">\n",
       "      <th></th>\n",
       "      <th>InternetService</th>\n",
       "      <th>OnlineSecurity</th>\n",
       "      <th>OnlineBackup</th>\n",
       "      <th>DeviceProtection</th>\n",
       "      <th>TechSupport</th>\n",
       "      <th>StreamingTV</th>\n",
       "      <th>StreamingMovies</th>\n",
       "    </tr>\n",
       "  </thead>\n",
       "  <tbody>\n",
       "    <tr>\n",
       "      <th>count</th>\n",
       "      <td>5517</td>\n",
       "      <td>5517</td>\n",
       "      <td>5517</td>\n",
       "      <td>5517</td>\n",
       "      <td>5517</td>\n",
       "      <td>5517</td>\n",
       "      <td>5517</td>\n",
       "    </tr>\n",
       "    <tr>\n",
       "      <th>unique</th>\n",
       "      <td>2</td>\n",
       "      <td>2</td>\n",
       "      <td>2</td>\n",
       "      <td>2</td>\n",
       "      <td>2</td>\n",
       "      <td>2</td>\n",
       "      <td>2</td>\n",
       "    </tr>\n",
       "    <tr>\n",
       "      <th>top</th>\n",
       "      <td>Fiber optic</td>\n",
       "      <td>No</td>\n",
       "      <td>No</td>\n",
       "      <td>No</td>\n",
       "      <td>No</td>\n",
       "      <td>No</td>\n",
       "      <td>No</td>\n",
       "    </tr>\n",
       "    <tr>\n",
       "      <th>freq</th>\n",
       "      <td>3096</td>\n",
       "      <td>3498</td>\n",
       "      <td>3088</td>\n",
       "      <td>3095</td>\n",
       "      <td>3473</td>\n",
       "      <td>2810</td>\n",
       "      <td>2785</td>\n",
       "    </tr>\n",
       "  </tbody>\n",
       "</table>\n",
       "</div>"
      ],
      "text/plain": [
       "       InternetService OnlineSecurity OnlineBackup DeviceProtection  \\\n",
       "count             5517           5517         5517             5517   \n",
       "unique               2              2            2                2   \n",
       "top        Fiber optic             No           No               No   \n",
       "freq              3096           3498         3088             3095   \n",
       "\n",
       "       TechSupport StreamingTV StreamingMovies  \n",
       "count         5517        5517            5517  \n",
       "unique           2           2               2  \n",
       "top             No          No              No  \n",
       "freq          3473        2810            2785  "
      ]
     },
     "metadata": {},
     "output_type": "display_data"
    }
   ],
   "source": [
    "# По датасету internet\n",
    "info(internet)"
   ]
  },
  {
   "cell_type": "code",
   "execution_count": 7,
   "id": "fc70c89f",
   "metadata": {},
   "outputs": [
    {
     "name": "stdout",
     "output_type": "stream",
     "text": [
      "Информация о формате, количестве строк и пропусках\n",
      "<class 'pandas.core.frame.DataFrame'>\n",
      "Index: 6361 entries, 5575-GNVDE to 3186-AJIEK\n",
      "Data columns (total 1 columns):\n",
      " #   Column         Non-Null Count  Dtype \n",
      "---  ------         --------------  ----- \n",
      " 0   MultipleLines  6361 non-null   object\n",
      "dtypes: object(1)\n",
      "memory usage: 99.4+ KB\n",
      "None\n",
      "Обзор данных\n"
     ]
    },
    {
     "data": {
      "text/html": [
       "<div>\n",
       "<style scoped>\n",
       "    .dataframe tbody tr th:only-of-type {\n",
       "        vertical-align: middle;\n",
       "    }\n",
       "\n",
       "    .dataframe tbody tr th {\n",
       "        vertical-align: top;\n",
       "    }\n",
       "\n",
       "    .dataframe thead th {\n",
       "        text-align: right;\n",
       "    }\n",
       "</style>\n",
       "<table border=\"1\" class=\"dataframe\">\n",
       "  <thead>\n",
       "    <tr style=\"text-align: right;\">\n",
       "      <th></th>\n",
       "      <th>MultipleLines</th>\n",
       "    </tr>\n",
       "    <tr>\n",
       "      <th>customerID</th>\n",
       "      <th></th>\n",
       "    </tr>\n",
       "  </thead>\n",
       "  <tbody>\n",
       "    <tr>\n",
       "      <th>5575-GNVDE</th>\n",
       "      <td>No</td>\n",
       "    </tr>\n",
       "    <tr>\n",
       "      <th>3668-QPYBK</th>\n",
       "      <td>No</td>\n",
       "    </tr>\n",
       "    <tr>\n",
       "      <th>9237-HQITU</th>\n",
       "      <td>No</td>\n",
       "    </tr>\n",
       "    <tr>\n",
       "      <th>9305-CDSKC</th>\n",
       "      <td>Yes</td>\n",
       "    </tr>\n",
       "    <tr>\n",
       "      <th>1452-KIOVK</th>\n",
       "      <td>Yes</td>\n",
       "    </tr>\n",
       "    <tr>\n",
       "      <th>7892-POOKP</th>\n",
       "      <td>Yes</td>\n",
       "    </tr>\n",
       "    <tr>\n",
       "      <th>6388-TABGU</th>\n",
       "      <td>No</td>\n",
       "    </tr>\n",
       "    <tr>\n",
       "      <th>9763-GRSKD</th>\n",
       "      <td>No</td>\n",
       "    </tr>\n",
       "    <tr>\n",
       "      <th>7469-LKBCI</th>\n",
       "      <td>No</td>\n",
       "    </tr>\n",
       "    <tr>\n",
       "      <th>8091-TTVAX</th>\n",
       "      <td>Yes</td>\n",
       "    </tr>\n",
       "  </tbody>\n",
       "</table>\n",
       "</div>"
      ],
      "text/plain": [
       "           MultipleLines\n",
       "customerID              \n",
       "5575-GNVDE            No\n",
       "3668-QPYBK            No\n",
       "9237-HQITU            No\n",
       "9305-CDSKC           Yes\n",
       "1452-KIOVK           Yes\n",
       "7892-POOKP           Yes\n",
       "6388-TABGU            No\n",
       "9763-GRSKD            No\n",
       "7469-LKBCI            No\n",
       "8091-TTVAX           Yes"
      ]
     },
     "metadata": {},
     "output_type": "display_data"
    },
    {
     "name": "stdout",
     "output_type": "stream",
     "text": [
      "Статистическая информация\n"
     ]
    },
    {
     "data": {
      "text/html": [
       "<div>\n",
       "<style scoped>\n",
       "    .dataframe tbody tr th:only-of-type {\n",
       "        vertical-align: middle;\n",
       "    }\n",
       "\n",
       "    .dataframe tbody tr th {\n",
       "        vertical-align: top;\n",
       "    }\n",
       "\n",
       "    .dataframe thead th {\n",
       "        text-align: right;\n",
       "    }\n",
       "</style>\n",
       "<table border=\"1\" class=\"dataframe\">\n",
       "  <thead>\n",
       "    <tr style=\"text-align: right;\">\n",
       "      <th></th>\n",
       "      <th>MultipleLines</th>\n",
       "    </tr>\n",
       "  </thead>\n",
       "  <tbody>\n",
       "    <tr>\n",
       "      <th>count</th>\n",
       "      <td>6361</td>\n",
       "    </tr>\n",
       "    <tr>\n",
       "      <th>unique</th>\n",
       "      <td>2</td>\n",
       "    </tr>\n",
       "    <tr>\n",
       "      <th>top</th>\n",
       "      <td>No</td>\n",
       "    </tr>\n",
       "    <tr>\n",
       "      <th>freq</th>\n",
       "      <td>3390</td>\n",
       "    </tr>\n",
       "  </tbody>\n",
       "</table>\n",
       "</div>"
      ],
      "text/plain": [
       "       MultipleLines\n",
       "count           6361\n",
       "unique             2\n",
       "top               No\n",
       "freq            3390"
      ]
     },
     "metadata": {},
     "output_type": "display_data"
    }
   ],
   "source": [
    "# По датасету phone\n",
    "info(phone)"
   ]
  },
  {
   "cell_type": "markdown",
   "id": "b9e92722",
   "metadata": {},
   "source": [
    "**Вывод:** пропусков в данных нет, столбец TotalCharges содержит вещественные числа, соотвественно следует привести его к числовому формату, столбец BeginDate (дата начала сотрудничества) следует перевести в формат datetime. Т.е. в таблицах contracts и personal одинаковое количенство строк, а в остальных таблицах другое количество строк, что связано с тем, что клиент не пользуется данными услугами. При объединении датасетов, чтобы было понятно, с чем связаны пропуски в данных, необходимо у каждого клиента ввести новые столбцы пользуется ли клиент телефоном и интернетом."
   ]
  },
  {
   "cell_type": "markdown",
   "id": "51732a54",
   "metadata": {},
   "source": [
    "## Предобработка данных"
   ]
  },
  {
   "cell_type": "code",
   "execution_count": 8,
   "id": "a1352a6d",
   "metadata": {},
   "outputs": [],
   "source": [
    "# Добавим признаки в соотвествующие датасеты пользуется ли клиент телефоном и интернетом\n",
    "internet['internet'] = 'Yes'\n",
    "phone['phone'] = 'Yes'"
   ]
  },
  {
   "cell_type": "code",
   "execution_count": 9,
   "id": "4b0f3c80",
   "metadata": {},
   "outputs": [],
   "source": [
    "# Объединяем все датасеты в один по индексу\n",
    "datasets = [contract, personal, internet, phone]\n",
    "df = contract.join(datasets[1:]).reset_index()"
   ]
  },
  {
   "cell_type": "markdown",
   "id": "f24e1e84",
   "metadata": {},
   "source": [
    "Проверим объединенный датасет на дубликаты"
   ]
  },
  {
   "cell_type": "code",
   "execution_count": 10,
   "id": "7922b6ca",
   "metadata": {},
   "outputs": [
    {
     "name": "stdout",
     "output_type": "stream",
     "text": [
      "Количество дубликатов 0\n"
     ]
    }
   ],
   "source": [
    "print('Количество дубликатов', df.duplicated().sum())"
   ]
  },
  {
   "cell_type": "code",
   "execution_count": 11,
   "id": "6f514330",
   "metadata": {},
   "outputs": [
    {
     "name": "stdout",
     "output_type": "stream",
     "text": [
      "<class 'pandas.core.frame.DataFrame'>\n",
      "RangeIndex: 7043 entries, 0 to 7042\n",
      "Data columns (total 22 columns):\n",
      " #   Column            Non-Null Count  Dtype  \n",
      "---  ------            --------------  -----  \n",
      " 0   customerID        7043 non-null   object \n",
      " 1   BeginDate         7043 non-null   object \n",
      " 2   EndDate           7043 non-null   object \n",
      " 3   Type              7043 non-null   object \n",
      " 4   PaperlessBilling  7043 non-null   object \n",
      " 5   PaymentMethod     7043 non-null   object \n",
      " 6   MonthlyCharges    7043 non-null   float64\n",
      " 7   TotalCharges      7043 non-null   object \n",
      " 8   gender            7043 non-null   object \n",
      " 9   SeniorCitizen     7043 non-null   int64  \n",
      " 10  Partner           7043 non-null   object \n",
      " 11  Dependents        7043 non-null   object \n",
      " 12  InternetService   5517 non-null   object \n",
      " 13  OnlineSecurity    5517 non-null   object \n",
      " 14  OnlineBackup      5517 non-null   object \n",
      " 15  DeviceProtection  5517 non-null   object \n",
      " 16  TechSupport       5517 non-null   object \n",
      " 17  StreamingTV       5517 non-null   object \n",
      " 18  StreamingMovies   5517 non-null   object \n",
      " 19  internet          5517 non-null   object \n",
      " 20  MultipleLines     6361 non-null   object \n",
      " 21  phone             6361 non-null   object \n",
      "dtypes: float64(1), int64(1), object(20)\n",
      "memory usage: 1.2+ MB\n"
     ]
    }
   ],
   "source": [
    "# Проверяем, что получилось\n",
    "df.info()"
   ]
  },
  {
   "cell_type": "markdown",
   "id": "6b0fec49",
   "metadata": {},
   "source": [
    "Т.к. пропуски в данных в данном случае показывают, что клиенты не пользуются теми или иными видами услуг, заменяем пропуски в данных значением 'No'"
   ]
  },
  {
   "cell_type": "code",
   "execution_count": 12,
   "id": "604ac58f",
   "metadata": {},
   "outputs": [],
   "source": [
    "df = df.fillna('No')"
   ]
  },
  {
   "cell_type": "code",
   "execution_count": 13,
   "id": "4ec29815",
   "metadata": {},
   "outputs": [
    {
     "name": "stdout",
     "output_type": "stream",
     "text": [
      "<class 'pandas.core.frame.DataFrame'>\n",
      "RangeIndex: 7043 entries, 0 to 7042\n",
      "Data columns (total 22 columns):\n",
      " #   Column            Non-Null Count  Dtype  \n",
      "---  ------            --------------  -----  \n",
      " 0   customerID        7043 non-null   object \n",
      " 1   BeginDate         7043 non-null   object \n",
      " 2   EndDate           7043 non-null   object \n",
      " 3   Type              7043 non-null   object \n",
      " 4   PaperlessBilling  7043 non-null   object \n",
      " 5   PaymentMethod     7043 non-null   object \n",
      " 6   MonthlyCharges    7043 non-null   float64\n",
      " 7   TotalCharges      7043 non-null   object \n",
      " 8   gender            7043 non-null   object \n",
      " 9   SeniorCitizen     7043 non-null   int64  \n",
      " 10  Partner           7043 non-null   object \n",
      " 11  Dependents        7043 non-null   object \n",
      " 12  InternetService   7043 non-null   object \n",
      " 13  OnlineSecurity    7043 non-null   object \n",
      " 14  OnlineBackup      7043 non-null   object \n",
      " 15  DeviceProtection  7043 non-null   object \n",
      " 16  TechSupport       7043 non-null   object \n",
      " 17  StreamingTV       7043 non-null   object \n",
      " 18  StreamingMovies   7043 non-null   object \n",
      " 19  internet          7043 non-null   object \n",
      " 20  MultipleLines     7043 non-null   object \n",
      " 21  phone             7043 non-null   object \n",
      "dtypes: float64(1), int64(1), object(20)\n",
      "memory usage: 1.2+ MB\n"
     ]
    },
    {
     "data": {
      "text/html": [
       "<div>\n",
       "<style scoped>\n",
       "    .dataframe tbody tr th:only-of-type {\n",
       "        vertical-align: middle;\n",
       "    }\n",
       "\n",
       "    .dataframe tbody tr th {\n",
       "        vertical-align: top;\n",
       "    }\n",
       "\n",
       "    .dataframe thead th {\n",
       "        text-align: right;\n",
       "    }\n",
       "</style>\n",
       "<table border=\"1\" class=\"dataframe\">\n",
       "  <thead>\n",
       "    <tr style=\"text-align: right;\">\n",
       "      <th></th>\n",
       "      <th>customerID</th>\n",
       "      <th>BeginDate</th>\n",
       "      <th>EndDate</th>\n",
       "      <th>Type</th>\n",
       "      <th>PaperlessBilling</th>\n",
       "      <th>PaymentMethod</th>\n",
       "      <th>MonthlyCharges</th>\n",
       "      <th>TotalCharges</th>\n",
       "      <th>gender</th>\n",
       "      <th>SeniorCitizen</th>\n",
       "      <th>...</th>\n",
       "      <th>InternetService</th>\n",
       "      <th>OnlineSecurity</th>\n",
       "      <th>OnlineBackup</th>\n",
       "      <th>DeviceProtection</th>\n",
       "      <th>TechSupport</th>\n",
       "      <th>StreamingTV</th>\n",
       "      <th>StreamingMovies</th>\n",
       "      <th>internet</th>\n",
       "      <th>MultipleLines</th>\n",
       "      <th>phone</th>\n",
       "    </tr>\n",
       "  </thead>\n",
       "  <tbody>\n",
       "    <tr>\n",
       "      <th>0</th>\n",
       "      <td>7590-VHVEG</td>\n",
       "      <td>2020-01-01</td>\n",
       "      <td>No</td>\n",
       "      <td>Month-to-month</td>\n",
       "      <td>Yes</td>\n",
       "      <td>Electronic check</td>\n",
       "      <td>29.85</td>\n",
       "      <td>29.85</td>\n",
       "      <td>Female</td>\n",
       "      <td>0</td>\n",
       "      <td>...</td>\n",
       "      <td>DSL</td>\n",
       "      <td>No</td>\n",
       "      <td>Yes</td>\n",
       "      <td>No</td>\n",
       "      <td>No</td>\n",
       "      <td>No</td>\n",
       "      <td>No</td>\n",
       "      <td>Yes</td>\n",
       "      <td>No</td>\n",
       "      <td>No</td>\n",
       "    </tr>\n",
       "    <tr>\n",
       "      <th>1</th>\n",
       "      <td>5575-GNVDE</td>\n",
       "      <td>2017-04-01</td>\n",
       "      <td>No</td>\n",
       "      <td>One year</td>\n",
       "      <td>No</td>\n",
       "      <td>Mailed check</td>\n",
       "      <td>56.95</td>\n",
       "      <td>1889.5</td>\n",
       "      <td>Male</td>\n",
       "      <td>0</td>\n",
       "      <td>...</td>\n",
       "      <td>DSL</td>\n",
       "      <td>Yes</td>\n",
       "      <td>No</td>\n",
       "      <td>Yes</td>\n",
       "      <td>No</td>\n",
       "      <td>No</td>\n",
       "      <td>No</td>\n",
       "      <td>Yes</td>\n",
       "      <td>No</td>\n",
       "      <td>Yes</td>\n",
       "    </tr>\n",
       "    <tr>\n",
       "      <th>2</th>\n",
       "      <td>3668-QPYBK</td>\n",
       "      <td>2019-10-01</td>\n",
       "      <td>2019-12-01 00:00:00</td>\n",
       "      <td>Month-to-month</td>\n",
       "      <td>Yes</td>\n",
       "      <td>Mailed check</td>\n",
       "      <td>53.85</td>\n",
       "      <td>108.15</td>\n",
       "      <td>Male</td>\n",
       "      <td>0</td>\n",
       "      <td>...</td>\n",
       "      <td>DSL</td>\n",
       "      <td>Yes</td>\n",
       "      <td>Yes</td>\n",
       "      <td>No</td>\n",
       "      <td>No</td>\n",
       "      <td>No</td>\n",
       "      <td>No</td>\n",
       "      <td>Yes</td>\n",
       "      <td>No</td>\n",
       "      <td>Yes</td>\n",
       "    </tr>\n",
       "    <tr>\n",
       "      <th>3</th>\n",
       "      <td>7795-CFOCW</td>\n",
       "      <td>2016-05-01</td>\n",
       "      <td>No</td>\n",
       "      <td>One year</td>\n",
       "      <td>No</td>\n",
       "      <td>Bank transfer (automatic)</td>\n",
       "      <td>42.30</td>\n",
       "      <td>1840.75</td>\n",
       "      <td>Male</td>\n",
       "      <td>0</td>\n",
       "      <td>...</td>\n",
       "      <td>DSL</td>\n",
       "      <td>Yes</td>\n",
       "      <td>No</td>\n",
       "      <td>Yes</td>\n",
       "      <td>Yes</td>\n",
       "      <td>No</td>\n",
       "      <td>No</td>\n",
       "      <td>Yes</td>\n",
       "      <td>No</td>\n",
       "      <td>No</td>\n",
       "    </tr>\n",
       "    <tr>\n",
       "      <th>4</th>\n",
       "      <td>9237-HQITU</td>\n",
       "      <td>2019-09-01</td>\n",
       "      <td>2019-11-01 00:00:00</td>\n",
       "      <td>Month-to-month</td>\n",
       "      <td>Yes</td>\n",
       "      <td>Electronic check</td>\n",
       "      <td>70.70</td>\n",
       "      <td>151.65</td>\n",
       "      <td>Female</td>\n",
       "      <td>0</td>\n",
       "      <td>...</td>\n",
       "      <td>Fiber optic</td>\n",
       "      <td>No</td>\n",
       "      <td>No</td>\n",
       "      <td>No</td>\n",
       "      <td>No</td>\n",
       "      <td>No</td>\n",
       "      <td>No</td>\n",
       "      <td>Yes</td>\n",
       "      <td>No</td>\n",
       "      <td>Yes</td>\n",
       "    </tr>\n",
       "    <tr>\n",
       "      <th>5</th>\n",
       "      <td>9305-CDSKC</td>\n",
       "      <td>2019-03-01</td>\n",
       "      <td>2019-11-01 00:00:00</td>\n",
       "      <td>Month-to-month</td>\n",
       "      <td>Yes</td>\n",
       "      <td>Electronic check</td>\n",
       "      <td>99.65</td>\n",
       "      <td>820.5</td>\n",
       "      <td>Female</td>\n",
       "      <td>0</td>\n",
       "      <td>...</td>\n",
       "      <td>Fiber optic</td>\n",
       "      <td>No</td>\n",
       "      <td>No</td>\n",
       "      <td>Yes</td>\n",
       "      <td>No</td>\n",
       "      <td>Yes</td>\n",
       "      <td>Yes</td>\n",
       "      <td>Yes</td>\n",
       "      <td>Yes</td>\n",
       "      <td>Yes</td>\n",
       "    </tr>\n",
       "    <tr>\n",
       "      <th>6</th>\n",
       "      <td>1452-KIOVK</td>\n",
       "      <td>2018-04-01</td>\n",
       "      <td>No</td>\n",
       "      <td>Month-to-month</td>\n",
       "      <td>Yes</td>\n",
       "      <td>Credit card (automatic)</td>\n",
       "      <td>89.10</td>\n",
       "      <td>1949.4</td>\n",
       "      <td>Male</td>\n",
       "      <td>0</td>\n",
       "      <td>...</td>\n",
       "      <td>Fiber optic</td>\n",
       "      <td>No</td>\n",
       "      <td>Yes</td>\n",
       "      <td>No</td>\n",
       "      <td>No</td>\n",
       "      <td>Yes</td>\n",
       "      <td>No</td>\n",
       "      <td>Yes</td>\n",
       "      <td>Yes</td>\n",
       "      <td>Yes</td>\n",
       "    </tr>\n",
       "    <tr>\n",
       "      <th>7</th>\n",
       "      <td>6713-OKOMC</td>\n",
       "      <td>2019-04-01</td>\n",
       "      <td>No</td>\n",
       "      <td>Month-to-month</td>\n",
       "      <td>No</td>\n",
       "      <td>Mailed check</td>\n",
       "      <td>29.75</td>\n",
       "      <td>301.9</td>\n",
       "      <td>Female</td>\n",
       "      <td>0</td>\n",
       "      <td>...</td>\n",
       "      <td>DSL</td>\n",
       "      <td>Yes</td>\n",
       "      <td>No</td>\n",
       "      <td>No</td>\n",
       "      <td>No</td>\n",
       "      <td>No</td>\n",
       "      <td>No</td>\n",
       "      <td>Yes</td>\n",
       "      <td>No</td>\n",
       "      <td>No</td>\n",
       "    </tr>\n",
       "    <tr>\n",
       "      <th>8</th>\n",
       "      <td>7892-POOKP</td>\n",
       "      <td>2017-07-01</td>\n",
       "      <td>2019-11-01 00:00:00</td>\n",
       "      <td>Month-to-month</td>\n",
       "      <td>Yes</td>\n",
       "      <td>Electronic check</td>\n",
       "      <td>104.80</td>\n",
       "      <td>3046.05</td>\n",
       "      <td>Female</td>\n",
       "      <td>0</td>\n",
       "      <td>...</td>\n",
       "      <td>Fiber optic</td>\n",
       "      <td>No</td>\n",
       "      <td>No</td>\n",
       "      <td>Yes</td>\n",
       "      <td>Yes</td>\n",
       "      <td>Yes</td>\n",
       "      <td>Yes</td>\n",
       "      <td>Yes</td>\n",
       "      <td>Yes</td>\n",
       "      <td>Yes</td>\n",
       "    </tr>\n",
       "    <tr>\n",
       "      <th>9</th>\n",
       "      <td>6388-TABGU</td>\n",
       "      <td>2014-12-01</td>\n",
       "      <td>No</td>\n",
       "      <td>One year</td>\n",
       "      <td>No</td>\n",
       "      <td>Bank transfer (automatic)</td>\n",
       "      <td>56.15</td>\n",
       "      <td>3487.95</td>\n",
       "      <td>Male</td>\n",
       "      <td>0</td>\n",
       "      <td>...</td>\n",
       "      <td>DSL</td>\n",
       "      <td>Yes</td>\n",
       "      <td>Yes</td>\n",
       "      <td>No</td>\n",
       "      <td>No</td>\n",
       "      <td>No</td>\n",
       "      <td>No</td>\n",
       "      <td>Yes</td>\n",
       "      <td>No</td>\n",
       "      <td>Yes</td>\n",
       "    </tr>\n",
       "  </tbody>\n",
       "</table>\n",
       "<p>10 rows × 22 columns</p>\n",
       "</div>"
      ],
      "text/plain": [
       "   customerID   BeginDate              EndDate            Type  \\\n",
       "0  7590-VHVEG  2020-01-01                   No  Month-to-month   \n",
       "1  5575-GNVDE  2017-04-01                   No        One year   \n",
       "2  3668-QPYBK  2019-10-01  2019-12-01 00:00:00  Month-to-month   \n",
       "3  7795-CFOCW  2016-05-01                   No        One year   \n",
       "4  9237-HQITU  2019-09-01  2019-11-01 00:00:00  Month-to-month   \n",
       "5  9305-CDSKC  2019-03-01  2019-11-01 00:00:00  Month-to-month   \n",
       "6  1452-KIOVK  2018-04-01                   No  Month-to-month   \n",
       "7  6713-OKOMC  2019-04-01                   No  Month-to-month   \n",
       "8  7892-POOKP  2017-07-01  2019-11-01 00:00:00  Month-to-month   \n",
       "9  6388-TABGU  2014-12-01                   No        One year   \n",
       "\n",
       "  PaperlessBilling              PaymentMethod  MonthlyCharges TotalCharges  \\\n",
       "0              Yes           Electronic check           29.85        29.85   \n",
       "1               No               Mailed check           56.95       1889.5   \n",
       "2              Yes               Mailed check           53.85       108.15   \n",
       "3               No  Bank transfer (automatic)           42.30      1840.75   \n",
       "4              Yes           Electronic check           70.70       151.65   \n",
       "5              Yes           Electronic check           99.65        820.5   \n",
       "6              Yes    Credit card (automatic)           89.10       1949.4   \n",
       "7               No               Mailed check           29.75        301.9   \n",
       "8              Yes           Electronic check          104.80      3046.05   \n",
       "9               No  Bank transfer (automatic)           56.15      3487.95   \n",
       "\n",
       "   gender  SeniorCitizen  ... InternetService OnlineSecurity OnlineBackup  \\\n",
       "0  Female              0  ...             DSL             No          Yes   \n",
       "1    Male              0  ...             DSL            Yes           No   \n",
       "2    Male              0  ...             DSL            Yes          Yes   \n",
       "3    Male              0  ...             DSL            Yes           No   \n",
       "4  Female              0  ...     Fiber optic             No           No   \n",
       "5  Female              0  ...     Fiber optic             No           No   \n",
       "6    Male              0  ...     Fiber optic             No          Yes   \n",
       "7  Female              0  ...             DSL            Yes           No   \n",
       "8  Female              0  ...     Fiber optic             No           No   \n",
       "9    Male              0  ...             DSL            Yes          Yes   \n",
       "\n",
       "  DeviceProtection TechSupport StreamingTV StreamingMovies internet  \\\n",
       "0               No          No          No              No      Yes   \n",
       "1              Yes          No          No              No      Yes   \n",
       "2               No          No          No              No      Yes   \n",
       "3              Yes         Yes          No              No      Yes   \n",
       "4               No          No          No              No      Yes   \n",
       "5              Yes          No         Yes             Yes      Yes   \n",
       "6               No          No         Yes              No      Yes   \n",
       "7               No          No          No              No      Yes   \n",
       "8              Yes         Yes         Yes             Yes      Yes   \n",
       "9               No          No          No              No      Yes   \n",
       "\n",
       "  MultipleLines phone  \n",
       "0            No    No  \n",
       "1            No   Yes  \n",
       "2            No   Yes  \n",
       "3            No    No  \n",
       "4            No   Yes  \n",
       "5           Yes   Yes  \n",
       "6           Yes   Yes  \n",
       "7            No    No  \n",
       "8           Yes   Yes  \n",
       "9            No   Yes  \n",
       "\n",
       "[10 rows x 22 columns]"
      ]
     },
     "metadata": {},
     "output_type": "display_data"
    }
   ],
   "source": [
    "# Проверяем\n",
    "df.info()\n",
    "display(df.head(10))"
   ]
  },
  {
   "cell_type": "markdown",
   "id": "7f5d9943",
   "metadata": {},
   "source": [
    "Выведем список уникальных значений столбца TotalCharges"
   ]
  },
  {
   "cell_type": "code",
   "execution_count": 14,
   "id": "72f557c6",
   "metadata": {},
   "outputs": [
    {
     "name": "stdout",
     "output_type": "stream",
     "text": [
      "[' ', '100.2', '100.25', '100.35', '100.4', '100.8', '100.9', '1001.2', '1001.5', '1003.05', '1004.35', '1004.5', '1004.75', '1005.7', '1006.9', '1007.8', '1007.9', '1008.55', '1008.7', '1009.25', '101.1', '101.45', '101.65', '101.9', '1010', '1011.05', '1011.5', '1011.8', '1012.4', '1013.05', '1013.2', '1013.35', '1013.6', '1014.25', '1016.7', '1017.35', '102.45', '102.5', '102.75', '1020.2', '1020.75', '1021.55', '1021.75', '1021.8', '1022.5', '1022.6', '1022.95', '1023.75', '1023.85', '1023.9', '1023.95', '1024', '1024.65', '1024.7', '1025.05', '1025.15', '1025.95', '1026.35', '1027.25', '1028.75', '1028.9', '1029.35', '1029.75', '1029.8', '103.7', '1031.1', '1031.4', '1031.7', '1032', '1032.05', '1033', '1033.9', '1033.95', '1035.5', '1035.7', '1036', '1036.75', '1037.75', '1039.45', '104.2', '104.3', '1041.8', '1042.65', '1043.3', '1043.35', '1043.4', '1043.8', '1045.25', '1046.1', '1046.2', '1046.5', '1047.7', '1048.45', '1048.85', '1049.05', '1049.6', '105.5', '105.6', '1050.5', '1051.05', '1051.9', '1052.35', '1052.4', '1054.6', '1054.75', '1054.8', '1055.9', '1056.95', '1057', '1057.55', '1057.85', '1058.1', '1058.25', '1058.6', '1059.55', '106.2', '106.55', '106.8', '106.85', '106.9', '1060.2', '1060.6', '1061.6', '1062.1', '1064.65', '1064.95', '1066.15', '1066.9', '1067.05', '1067.15', '1067.65', '1068.15', '1068.85', '107.05', '107.1', '107.25', '107.6', '1070.15', '1070.25', '1070.5', '1070.7', '1071.4', '1071.6', '1072', '1072.6', '1073.3', '1074.3', '1074.65', '1077.05', '1077.5', '1077.95', '1078.75', '1078.9', '1079.05', '1079.45', '1079.65', '108.05', '108.15', '108.65', '108.7', '108.95', '1080.55', '1081.25', '1081.45', '1082.75', '1082.8', '1083', '1083.7', '1086.75', '1087.25', '1087.45', '1087.7', '1088.25', '109.2', '109.25', '109.3', '109.5', '109.6', '109.8', '1090.1', '1090.6', '1090.65', '1092.35', '1093', '1093.1', '1093.2', '1093.4', '1094.35', '1094.5', '1095.3', '1095.65', '1096.25', '1096.6', '1096.65', '1097.15', '1098.85', '1099.6', '110.05', '110.15', '1101.85', '1102.4', '1103.25', '1105.4', '1107.2', '1107.25', '1108', '1108.2', '1108.6', '1108.8', '111.05', '111.4', '111.65', '1110.05', '1110.35', '1110.5', '1111.2', '1111.65', '1111.85', '1112.3', '1113.95', '1114.55', '1114.85', '1115.15', '1115.2', '1115.6', '1117.55', '1118.8', '1119.35', '1119.9', '112.3', '112.75', '1120.3', '1120.95', '1121.05', '1122.4', '1123.15', '1123.65', '1124.2', '1125.2', '1125.6', '1126.35', '1126.75', '1127.2', '1127.35', '1128.1', '1129.1', '1129.35', '1129.75', '113.1', '113.35', '113.5', '113.55', '113.85', '113.95', '1130', '1130.85', '1131.2', '1131.3', '1131.5', '1132.35', '1132.75', '1133.65', '1133.7', '1133.9', '1134.25', '1135.7', '1137.05', '1138.8', '1139.2', '114.1', '114.15', '114.7', '1140.05', '1143.8', '1144.5', '1144.6', '1145.35', '1145.7', '1146.05', '1146.65', '1147', '1147.45', '1147.85', '1148.1', '1149.65', '115.1', '115.95', '1151.05', '1151.55', '1152.7', '1152.8', '1153.25', '1155.6', '1156.1', '1156.35', '1156.55', '1157.05', '1158.85', '116.6', '116.65', '116.85', '116.95', '1160.45', '1160.75', '1161.75', '1162.85', '1164.05', '1164.3', '1165.55', '1165.6', '1165.9', '1166.7', '1167.6', '1167.8', '1169.35', '117.05', '117.8', '117.95', '1170.5', '1170.55', '1171.3', '1171.5', '1172.95', '1173.35', '1173.55', '1174.35', '1174.8', '1175.6', '1175.85', '1177.05', '1177.95', '1178.25', '1178.4', '1178.75', '118.25', '118.3', '118.4', '118.5', '1180.95', '1181.75', '1182.55', '1183.05', '1183.2', '1183.8', '1184', '1185', '1185.95', '1187.05', '1188.2', '1188.25', '1189.4', '1189.9', '119.3', '119.5', '119.75', '1190.5', '1191.2', '1191.4', '1192.3', '1192.7', '1193.05', '1193.55', '1194.3', '1195.25', '1195.75', '1195.95', '1198.05', '1198.8', '1199.4', '120.25', '1200.15', '1201.15', '1201.65', '1203.9', '1203.95', '1205.05', '1205.5', '1206.05', '1207', '1208.15', '1208.35', '1208.6', '1209.25', '121.25', '1210.3', '1210.4', '1211.65', '1212.1', '1212.25', '1212.85', '1214.05', '1215.1', '1215.45', '1215.6', '1215.65', '1215.8', '1216.35', '1216.6', '1217.25', '1218.25', '1218.45', '1218.55', '1218.65', '1219.85', '122', '122.7', '122.9', '1221.55', '1221.65', '1222.05', '1222.25', '1222.65', '1222.8', '1224.05', '1225.65', '1226.45', '1228.65', '1229.1', '123.05', '123.65', '123.8', '1230.25', '1230.9', '1231.85', '1232.9', '1233.15', '1233.25', '1233.4', '1233.65', '1234.6', '1234.8', '1235.55', '1236.15', '1237.3', '1237.65', '1237.85', '1238.45', '1238.65', '124.4', '124.45', '1240.15', '1240.25', '1240.8', '1242.2', '1242.25', '1242.45', '1244.5', '1244.8', '1245.05', '1245.6', '1246.4', '1247.75', '1248.9', '1249.25', '125', '125.5', '125.95', '1250.1', '1250.85', '1252', '1252.85', '1253.15', '1253.5', '1253.65', '1253.8', '1253.9', '1254.7', '1255.1', '1258.15', '1258.3', '1258.35', '1258.6', '1259', '1259.35', '126.05', '1260.7', '1261', '1261.35', '1261.45', '1261.7', '1263.05', '1263.85', '1263.9', '1264.2', '1265.65', '1266.1', '1266.35', '1266.4', '1267', '1267.05', '1267.2', '1267.95', '1268.85', '1269.1', '1269.55', '1269.6', '127.1', '1270.2', '1270.25', '1270.55', '1271.8', '1272.05', '1273.3', '1274.05', '1274.45', '1275.6', '1275.65', '1275.7', '1275.85', '1277.5', '1277.75', '1278.8', '1279', '128.6', '1281', '1281.25', '1282.85', '1284.2', '1285.05', '1285.8', '1286', '1286.05', '1287.85', '1288', '1288.3', '1288.75', '129.15', '129.2', '129.55', '129.6', '1290', '1291.3', '1291.35', '1292.2', '1292.6', '1292.65', '1293.8', '1294.6', '1295.4', '1296.15', '1296.8', '1297.35', '1297.8', '1298.7', '1299.1', '1299.8', '130.1', '130.15', '130.25', '130.5', '130.55', '130.75', '1301', '1301.1', '1301.7', '1301.9', '1302.65', '1303.25', '1303.5', '1304.8', '1304.85', '1305.95', '1306.3', '1307.8', '1308.1', '1308.4', '1309', '1309.15', '131.05', '131.65', '1311.3', '1311.6', '1311.75', '1312.15', '1312.45', '1313.25', '1313.55', '1315', '1315.35', '1316.9', '1317.95', '1319.85', '1319.95', '132.2', '132.25', '132.4', '1321.3', '1322.55', '1322.85', '1323.7', '1325.85', '1326.25', '1326.35', '1327.15', '1327.4', '1327.85', '1328.15', '1328.35', '1329.15', '1329.2', '1331.05', '1332.4', '1334', '1334.45', '1334.5', '1335.2', '1336.1', '1336.15', '1336.35', '1336.65', '1336.8', '1336.9', '1337.45', '1337.5', '1338.15', '1339.8', '134.05', '134.35', '134.5', '134.6', '134.7', '134.75', '1340.1', '1341.5', '1342.15', '1343.4', '1344.5', '1345.55', '1345.65', '1345.75', '1345.85', '1346.2', '1346.3', '1346.9', '1347.15', '1348.5', '1348.9', '1348.95', '135', '135.2', '135.75', '1350.15', '1354.4', '1355.1', '1355.45', '1356.3', '1356.7', '1357.1', '1358.6', '1358.85', '1359', '1359.45', '1359.5', '1359.7', '136.05', '136.75', '1360.25', '1362.85', '1363.25', '1363.45', '1364.3', '1364.75', '1367.75', '1369.8', '137.1', '137.25', '137.6', '137.85', '137.95', '1370.35', '1372.45', '1372.9', '1373', '1373.05', '1374.2', '1374.35', '1374.9', '1375.15', '1375.4', '1375.6', '1376.5', '1377.7', '1378.25', '1378.45', '1378.75', '1379.6', '1379.8', '138.85', '1380.1', '1380.4', '1381.2', '1381.8', '1382.9', '1383.6', '1384.75', '1385.85', '1386.8', '1386.9', '1387', '1387.35', '1387.45', '1388', '1388.45', '1388.75', '1389.2', '1389.35', '1389.6', '1389.85', '139.05', '139.25', '139.35', '139.4', '139.75', '1390.6', '1390.85', '1391.15', '1391.65', '1392.25', '1393.6', '1394.55', '1395.05', '1396', '1396.25', '1396.9', '1397.3', '1397.65', '1398.25', '1398.6', '1399.35', '140.1', '140.4', '140.7', '140.95', '1400.3', '1400.55', '1400.85', '1401.15', '1401.4', '1402.25', '1403.1', '1404.65', '1405.3', '1406', '1406.65', '1406.9', '141.1', '141.45', '141.5', '141.6', '141.65', '141.7', '1410.25', '1411.2', '1411.35', '1411.65', '1411.9', '1412.4', '1412.65', '1413', '1414.2', '1414.45', '1414.65', '1414.8', '1415', '1415.55', '1415.85', '1416.2', '1416.5', '1416.75', '1417.9', '1419.4', '142.35', '1421.75', '1421.9', '1422.05', '1422.1', '1422.65', '1423.05', '1423.15', '1423.35', '1423.65', '1423.85', '1424.2', '1424.4', '1424.5', '1424.6', '1424.9', '1424.95', '1425.45', '1426.4', '1426.45', '1426.75', '1427.55', '1429.65', '143.35', '143.65', '143.9', '1430.05', '1430.25', '1430.95', '1431.65', '1432.55', '1433.8', '1434.1', '1434.6', '1436.95', '1438.05', '1439.35', '144', '144.15', '144.35', '144.55', '144.8', '144.95', '1440.75', '1441.1', '1441.65', '1441.8', '1441.95', '1442', '1442.2', '1442.6', '1442.65', '1443.65', '1444.05', '1444.65', '1445.2', '1445.3', '1445.95', '1446.8', '1447.9', '1448.6', '1448.8', '145', '145.15', '145.4', '1451.1', '1451.6', '1451.9', '1453.1', '1454.15', '1454.25', '1457.25', '1458.1', '1459.35', '146.05', '146.3', '146.4', '146.6', '146.65', '146.9', '1460.65', '1460.85', '1461.15', '1461.45', '1462.05', '1462.6', '1463.45', '1463.5', '1463.7', '1465.75', '1466.1', '1468.75', '1468.9', '147.15', '147.5', '147.55', '147.75', '147.8', '1470.05', '1470.95', '1471.75', '1474.35', '1474.75', '1474.9', '1476.25', '1477.65', '1478.85', '148.05', '1482.3', '1483.25', '1489.3', '149.05', '149.55', '1490.4', '1490.95', '1492.1', '1493.1', '1493.2', '1493.55', '1493.75', '1494.5', '1495.1', '1496.45', '1496.9', '1497.05', '1497.9', '1498.2', '1498.35', '1498.55', '1498.65', '1498.85', '150', '150.35', '150.6', '150.75', '150.85', '1500.25', '1500.5', '1500.95', '1501.75', '1502.25', '1502.65', '1504.05', '1505.05', '1505.15', '1505.35', '1505.45', '1505.85', '1505.9', '1506.4', '1507', '1509.8', '1509.9', '151.3', '151.65', '151.75', '151.8', '1510.3', '1510.5', '1511.2', '1513.6', '1514.85', '1515.1', '1516.6', '1517.5', '1519', '152.3', '152.45', '152.6', '152.7', '152.95', '1520.1', '1520.9', '1521.2', '1522.65', '1522.7', '1523.4', '1524.85', '1525.35', '1527.35', '1527.5', '1529.2', '1529.45', '1529.65', '153.05', '153.3', '153.8', '153.95', '1530.6', '1531.4', '1532.45', '1533.8', '1534.05', '1534.75', '1536.75', '1537.85', '1537.9', '1538.6', '1539.45', '1539.75', '1539.8', '154.3', '154.55', '154.65', '154.8', '154.85', '1540.05', '1540.2', '1540.35', '1544.05', '1545.4', '1546.3', '1547.35', '1548.65', '1549.75', '155.35', '155.65', '155.8', '155.9', '1551.6', '1553.2', '1553.9', '1553.95', '1554', '1554.9', '1555.65', '1556.85', '1558.65', '1558.7', '1559.15', '1559.25', '1559.3', '1559.45', '156.1', '156.25', '156.35', '156.4', '156.85', '1561.5', '1563.9', '1563.95', '1564.05', '1564.4', '1565.7', '1566.75', '1566.9', '1567', '1567.55', '157.55', '157.65', '157.75', '1570.7', '1573.05', '1573.7', '1573.95', '1574.45', '1574.5', '1579.7', '158.35', '158.4', '158.95', '1580.1', '1581.2', '1581.95', '1582.75', '1583.5', '1584.8', '1587.55', '1588.25', '1588.7', '1588.75', '159.15', '159.2', '159.35', '159.4', '159.45', '1592.35', '1593.1', '1594.75', '1595.5', '1596.6', '1597.05', '1597.25', '1597.4', '160.05', '160.75', '160.8', '160.85', '1600.25', '1600.95', '1601.2', '1601.5', '1604.5', '1607.2', '1608.15', '161.15', '161.45', '161.5', '161.65', '161.95', '1611', '1611.15', '1611.65', '1612.2', '1612.75', '1614.05', '1614.2', '1614.7', '1614.9', '1615.1', '1616.15', '1617.5', '1618.2', '162.15', '162.3', '162.45', '162.55', '1620.2', '1620.25', '1620.45', '1620.8', '1621.35', '1622.45', '1623.15', '1623.4', '1625', '1625.65', '1626.05', '1626.4', '1629.2', '163.2', '163.55', '163.6', '163.7', '1630.4', '1633', '1636.95', '1637.3', '1637.4', '1638.7', '1639.3', '164.3', '164.5', '164.6', '164.85', '1640', '1641.3', '1641.8', '1642.75', '1643.25', '1643.55', '1646.45', '1647', '1648.45', '165', '165.2', '165.35', '165.4', '165.45', '165.5', '1651.95', '1652.1', '1652.4', '1652.95', '1653.45', '1653.85', '1654.45', '1654.6', '1654.7', '1654.75', '1654.85', '1655.35', '1657.4', '166.3', '1660', '1662.05', '1663.5', '1663.75', '1664.3', '1665.2', '1667.25', '1669.4', '167.2', '167.3', '167.5', '1671.6', '1672.1', '1672.15', '1672.35', '1673.4', '1673.8', '1676.95', '1677.85', '1678.05', '1679.25', '1679.4', '1679.65', '168.15', '168.2', '168.5', '168.6', '168.65', '168.9', '1680.25', '1681.6', '1682.05', '1682.4', '1683.6', '1683.7', '1685.9', '1686.15', '1686.85', '1687.95', '1688.9', '1689.45', '169.05', '169.45', '169.65', '169.75', '169.8', '1691.9', '1692.6', '1696.2', '1697.7', '1698.55', '1699.15', '170.5', '170.85', '170.9', '1700.9', '1701.65', '1702.9', '1704.95', '1706.45', '1709.1', '1709.15', '171', '171.15', '171.45', '1710.15', '1710.45', '1710.9', '1712.7', '1712.9', '1713.1', '1714.55', '1714.95', '1715.1', '1715.15', '1715.65', '1716.45', '1718.2', '1718.35', '1718.95', '1719.15', '172.35', '172.85', '1723.95', '1724.15', '1725', '1725.4', '1725.95', '1727.5', '1728.2', '1729.35', '173', '173.15', '1730.35', '1730.65', '1732.6', '1732.95', '1733.15', '1734.2', '1734.5', '1734.65', '1737.45', '1738.9', '1739.6', '174.2', '174.3', '174.45', '174.65', '174.7', '174.75', '174.8', '1740.7', '1740.8', '1742.45', '1742.5', '1742.75', '1742.95', '1743.05', '1743.5', '1743.9', '1745.2', '1745.5', '1747.2', '1747.85', '1748.55', '1748.9', '1750.7', '1750.85', '1752.45', '1752.55', '1752.65', '1753', '1755.35', '1756.2', '1756.6', '1758.6', '1758.9', '1759.4', '1759.55', '176.2', '176.3', '1760.25', '1761.05', '1761.45', '1763.55', '1764.75', '1765.95', '1766.75', '1767.35', '1769.6', '177.4', '1772.25', '1775.8', '1776', '1776.45', '1776.55', '1776.95', '1777.6', '1777.9', '1778.5', '1778.7', '1779.95', '178.1', '178.5', '178.7', '178.8', '178.85', '1781.35', '1782', '1782.05', '1782.4', '1783.6', '1783.75', '1784.5', '1784.9', '1785.65', '1787.35', '1789.25', '1789.65', '1789.9', '179.25', '179.35', '179.85', '1790.15', '1790.35', '1790.6', '1790.65', '1790.8', '1793.25', '1794.65', '1794.8', '1796.55', '1797.1', '1797.75', '1798.65', '1798.9', '1799.3', '18.8', '18.85', '18.9', '180.25', '180.3', '180.7', '1800.05', '1801.1', '1801.9', '1802.15', '1802.55', '1803.7', '1806.35', '1808.7', '1809.35', '181.1', '181.5', '181.6', '181.65', '181.7', '181.8', '1810.55', '1810.85', '1813.1', '1813.35', '1815', '1815.3', '1815.65', '1816.2', '1816.75', '1818.3', '1818.9', '1820.45', '1820.9', '1821.2', '1821.8', '1821.95', '1825.5', '1826.7', '183.15', '183.75', '1830.05', '1830.1', '1832.4', '1834.15', '1834.95', '1835.3', '1836.25', '1836.9', '1837.7', '1837.9', '1838.15', '184.05', '184.1', '184.15', '184.4', '184.65', '184.95', '1840.75', '1841.2', '1841.9', '1842.7', '1842.8', '1843.05', '1845.9', '1846.65', '1847.55', '1848.8', '1849.2', '1849.95', '185.2', '185.4', '185.55', '185.6', '1850.65', '1851.45', '1852.85', '1855.65', '1856.4', '1857.25', '1857.3', '1857.75', '1857.85', '1859.1', '1859.2', '1859.5', '186.05', '186.15', '186.3', '1861.1', '1861.5', '1862.9', '1863.8', '1864.2', '1864.65', '1866.45', '1867.6', '1867.7', '1868.4', '187.35', '187.45', '187.75', '1871.15', '1871.85', '1872.2', '1873.7', '1874.3', '1874.45', '1875.25', '1875.55', '1879.25', '188.1', '188.7', '1880.85', '1882.55', '1882.8', '1884.65', '1885.15', '1886.25', '1886.4', '1887', '1888.25', '1888.45', '1888.65', '1889.5', '189.1', '189.2', '189.45', '189.95', '1893.5', '1893.95', '1898.1', '1899.65', '19', '19.05', '19.1', '19.15', '19.2', '19.25', '19.3', '19.4', '19.45', '19.5', '19.55', '19.6', '19.65', '19.7', '19.75', '19.8', '19.85', '19.9', '19.95', '190.05', '190.1', '190.25', '190.5', '1900.25', '1901', '1901.05', '1901.25', '1901.65', '1902', '1905.4', '1905.7', '1907.85', '1908.35', '191.05', '191.1', '191.35', '1910.6', '1910.75', '1911.5', '1912.15', '1912.85', '1914.5', '1914.9', '1916', '1916.2', '1917.1', '1923.5', '1923.85', '1924.1', '1927.3', '1928.7', '1929', '1929.35', '1929.95', '193.05', '193.6', '193.8', '1930.9', '1931.3', '1931.75', '1932.75', '1934.45', '1936.85', '1937.4', '1938.05', '1938.9', '1939.35', '194.2', '194.55', '1940.8', '1940.85', '1941.5', '1943.2', '1943.9', '1948.35', '1949.4', '195.05', '195.3', '195.65', '1951', '1952.25', '1952.8', '1955.4', '1956.4', '1957.1', '1958.45', '1958.95', '1959.5', '196.15', '196.35', '196.4', '196.75', '196.9', '196.95', '1961.6', '1964.6', '1968.1', '197.4', '197.7', '1970.5', '1971.15', '1971.5', '1972.35', '1973.75', '1974.8', '1975.85', '1978.65', '198', '198.1', '198.25', '198.5', '198.6', '198.7', '1980.3', '1982.1', '1982.6', '1983.15', '1985.15', '1988.05', '199.45', '199.75', '199.85', '1990.5', '1992.2', '1992.55', '1992.85', '1992.95', '1993.2', '1993.25', '1993.8', '1994.3', '20', '20.05', '20.1', '20.15', '20.2', '20.25', '20.3', '20.35', '20.4', '20.45', '20.5', '20.55', '20.6', '20.65', '20.7', '20.75', '20.8', '20.85', '20.9', '20.95', '200.2', '2000.2', '2001', '2001.5', '2003.6', '2006.1', '2006.95', '2007.25', '2007.85', '201', '201.1', '201.7', '201.95', '2010.55', '2010.95', '2011.4', '2012.7', '2015.35', '2015.8', '2016.3', '2016.45', '2018.1', '2018.4', '2019.8', '202.15', '202.25', '202.3', '202.9', '2020.9', '2021.2', '2021.35', '2023.55', '2024.1', '2025.1', '2028.8', '2029.05', '203.95', '2030.3', '2030.75', '2031.95', '2032.3', '2033.05', '2033.85', '2034.25', '2036.55', '2038.7', '204.55', '204.7', '2042.05', '2043.45', '2044.75', '2044.95', '2045.55', '2048.8', '2049.05', '205.05', '2053.05', '2054.4', '2058.5', '206.15', '206.6', '2062.15', '2065.15', '2065.4', '2066', '2067', '2068.55', '207.35', '207.4', '2070.05', '2070.6', '2070.75', '2072.75', '2075.1', '2076.05', '2076.2', '2077.95', '2078.55', '2078.95', '208', '208.25', '208.45', '208.7', '208.85', '2080.1', '2082.95', '2083.1', '2085.45', '2088.05', '2088.45', '2088.75', '2088.8', '209.1', '209.9', '2090.25', '2092.9', '2093.4', '2093.9', '2094.65', '2094.9', '2095', '2096.1', '21', '21.05', '21.1', '210.3', '210.65', '210.75', '2104.55', '2106.05', '2106.3', '2107.15', '2108.35', '2109.35', '211.95', '2110.15', '2111.3', '2111.45', '2117.2', '2117.25', '2119.5', '212.3', '212.4', '2122.05', '2122.45', '213.35', '2130.45', '2130.55', '2134.3', '2135.5', '2136.9', '2139.1', '2139.2', '214.4', '214.55', '214.75', '2142.8', '2145', '2146.5', '2149.05', '215.2', '215.25', '215.8', '2151.6', '2156.25', '2157.3', '2157.5', '2157.95', '216.2', '216.45', '216.75', '216.9', '2162.6', '2165.05', '2168.15', '2168.9', '2169.4', '2169.75', '2169.8', '217.1', '217.45', '217.5', '217.55', '2171.15', '2172.05', '2177.45', '2178.6', '218.5', '218.55', '2180.55', '2181.55', '2181.75', '2184.35', '2184.6', '2184.85', '2186.4', '2187.15', '2187.55', '2188.45', '2188.5', '219', '219.35', '219.5', '219.65', '2191.15', '2191.7', '2192.9', '2193', '2193.2', '2193.65', '2196.15', '2196.3', '2196.45', '2198.3', '2198.9', '2199.05', '220.1', '220.35', '220.4', '220.45', '220.6', '220.65', '220.75', '220.8', '220.95', '2200.25', '2200.7', '2201.75', '2203.1', '2203.65', '2203.7', '2204.35', '2208.05', '2208.75', '2209.15', '2209.75', '221.1', '221.35', '221.7', '221.9', '2210.2', '2211.8', '2212.55', '2215', '2215.25', '2215.4', '2215.45', '2217.15', '222.3', '222.65', '2220.1', '2221.55', '2224.5', '2227.1', '2227.8', '223.15', '223.45', '223.6', '223.75', '223.9', '2230.85', '2231.05', '2234.55', '2234.95', '2236.2', '2237.55', '2238.5', '2239.4', '2239.65', '224.05', '224.5', '224.85', '2243.9', '2244.95', '2245.4', '2248.05', '2249.1', '2249.95', '225.55', '225.6', '225.65', '225.75', '225.85', '2250.65', '2254.2', '2257.75', '2258.25', '2259.35', '226.2', '226.45', '226.55', '226.8', '226.95', '2263.4', '2263.45', '2264.05', '2264.5', '2265', '2265.25', '227.35', '227.45', '2271.85', '2272.8', '2274.1', '2274.35', '2274.9', '2275.1', '2276.1', '2276.95', '2277.65', '2278.75', '228', '228.4', '228.65', '228.75', '2281.6', '2282.55', '2282.95', '2283.15', '2283.3', '2287.25', '2288.7', '2289.9', '229.4', '229.5', '229.55', '229.6', '229.7', '2291.2', '2292.75', '2293.6', '2296.25', '2298.55', '2298.9', '23.45', '2301.15', '2302.35', '2303.35', '2308.6', '2309.55', '231.45', '231.8', '2310.2', '2312.55', '2313.8', '2316.85', '2317.1', '2319.8', '232.1', '232.35', '232.4', '232.5', '232.55', '2320.8', '2322.85', '2324.7', '2326.05', '233.55', '233.65', '233.7', '233.9', '2331.3', '2333.05', '2333.85', '2335.3', '2337.45', '2338.35', '2339.3', '234.85', '2341.5', '2341.55', '2342.2', '2343.85', '2344.5', '2345.2', '2345.55', '2347.85', '2347.9', '2348.45', '2349.8', '235', '235.05', '235.1', '235.2', '235.5', '235.65', '235.8', '2351.45', '2351.8', '2354.8', '2356.75', '2357.75', '2361.8', '2362.1', '2364', '2365.15', '2368.4', '2369.05', '2369.3', '2369.7', '237.2', '237.25', '237.3', '237.65', '237.7', '237.75', '237.95', '2375.2', '2375.4', '2379.1', '238.1', '238.15', '238.5', '2381.55', '2383.6', '2384.15', '2386.85', '2387.75', '239', '239.05', '239.45', '239.55', '239.75', '2390.45', '2391.15', '2391.8', '2395.05', '2395.7', '2398.4', '24', '24.05', '24.2', '24.25', '24.4', '24.45', '24.6', '24.7', '24.75', '24.8', '24.9', '240.45', '2401.05', '2404.1', '2404.15', '2404.85', '2405.05', '2406.1', '2407.3', '2409.9', '241.3', '2413.05', '2414.55', '2415.95', '2416.1', '2416.55', '2419', '2419.55', '242', '242.05', '242.4', '242.8', '242.95', '2421.6', '2421.75', '2423.4', '2424.05', '2424.45', '2424.5', '2425.4', '2427.1', '2427.35', '2429.1', '243.65', '2431.35', '2431.95', '2433.5', '2433.9', '2434.45', '2435.15', '2438.6', '244.1', '244.45', '244.65', '244.75', '244.8', '244.85', '2440.15', '2440.25', '2441.7', '2443.3', '2444.25', '2447.45', '2447.95', '2448.5', '2448.75', '245.15', '245.2', '2452.7', '2453.3', '2455.05', '2459.8', '246.25', '246.3', '246.5', '246.6', '246.7', '2460.15', '2460.35', '2460.55', '2462.55', '2462.6', '2467.1', '2467.75', '247', '247.25', '2470.1', '2471.25', '2471.6', '2473.95', '2475.35', '2479.05', '2479.25', '248.4', '248.95', '2483.05', '2483.5', '2483.65', '2484', '249.4', '249.55', '249.95', '2490.15', '2492.25', '2494.65', '2495.15', '2495.2', '2496.7', '2497.2', '2497.35', '2498.4', '2499.3', '25', '25.05', '25.1', '25.15', '25.2', '25.25', '25.3', '25.35', '25.4', '25.7', '25.75', '25.8', '25.85', '250.05', '250.1', '250.8', '2509.25', '2509.95', '251.25', '251.6', '251.65', '251.75', '2510.2', '2510.7', '2511.3', '2511.55', '2511.95', '2513.5', '2514.5', '2515.3', '2516.2', '252', '252.75', '2522.4', '2524.45', '253', '253.8', '253.9', '2530.4', '2531.4', '2531.8', '2535.55', '2536.55', '2537', '2538.05', '2538.2', '254.5', '2540.1', '2541.25', '2542.45', '2545.7', '2545.75', '2546.85', '2548.55', '2548.65', '2549.1', '255.25', '255.35', '255.5', '255.55', '255.6', '2550.9', '2552.9', '2553.35', '2553.7', '2554', '2555.05', '2555.9', '256.25', '256.6', '256.75', '2560.1', '2564.3', '2564.95', '2566.3', '2566.5', '2568.15', '2568.55', '257', '257.05', '257.6', '2570', '2570.2', '2572.95', '2575.45', '2576.2', '2576.8', '258.35', '2583.75', '2585.95', '2586', '2587.7', '2588.95', '259.4', '259.65', '259.8', '2595.25', '2595.85', '2596.15', '2597.6', '2598.95', '2599.95', '260.7', '260.8', '260.9', '2602.9', '2603.1', '2603.3', '2603.95', '2606.35', '2607.6', '261.25', '261.3', '261.65', '2610.65', '2613.4', '2614.1', '2618.3', '2619.15', '2619.25', '262.05', '262.3', '2621.75', '2623.65', '2624.25', '2625.25', '2625.55', '2626.15', '2627.2', '2627.35', '2628.6', '263.05', '263.65', '2633.3', '2633.4', '2633.95', '2635', '2636.05', '2638.1', '264.55', '264.8', '264.85', '2640.55', '2642.05', '2647.1', '2647.2', '2649.15', '265.3', '265.35', '265.45', '265.75', '265.8', '2651.1', '2651.2', '2653.65', '2654.05', '2655.25', '2656.3', '2656.5', '2656.7', '2657.55', '2658.4', '2658.8', '2659.4', '2659.45', '266.6', '266.8', '266.9', '266.95', '2660.2', '2661.1', '2664.3', '2665', '2666.75', '2669.45', '267', '267.35', '267.4', '267.6', '2673.45', '2674.15', '2679.7', '268.35', '268.4', '268.45', '2680.15', '2681.15', '2683.2', '2684.35', '2684.85', '2686.05', '2688.45', '2688.85', '2689.35', '269.65', '2692.75', '2696.55', '2697.4', '2698.35', '27.55', '270.15', '270.2', '270.6', '270.7', '270.8', '270.95', '2708.2', '2710.25', '2715.3', '2716.3', '2718.3', '2719.2', '272', '272.15', '272.2', '272.35', '272.95', '2722.2', '2723.15', '2723.4', '2723.75', '2724.25', '2724.6', '2727.3', '2727.8', '2728.6', '273', '273.2', '273.25', '273.4', '273.75', '2730.85', '2731', '2737.05', '274.35', '274.7', '2743.45', '2745.2', '2745.7', '2747.2', '2748.7', '275.4', '275.7', '275.9', '2751', '2753.8', '2754', '2754.45', '2755.35', '2757.85', '2758.15', '276.5', '2762.75', '2763', '2763.35', '2766.4', '2768.35', '2768.65', '2773.9', '2774.55', '2779.5', '278.4', '278.85', '2780.6', '2781.85', '2782.4', '2789.7', '279.2', '279.25', '279.3', '279.5', '279.55', '2790.65', '2791.5', '2793.55', '2796.35', '2796.45', '2799', '2799.75', '28.3', '280', '280.35', '280.4', '280.85', '2802.3', '2804.45', '2806.9', '2807.1', '2807.65', '2809.05', '281', '2812.2', '2813.05', '2815.25', '2816.65', '2820.65', '2823', '283.75', '283.95', '2830.45', '2832.75', '2835.5', '2835.9', '2838.55', '2838.7', '2839.45', '2839.65', '2839.95', '284.3', '284.35', '284.9', '2841.55', '2845.15', '2847.2', '2847.4', '2848.45', '285.2', '2852.4', '2854.55', '2854.95', '2857.6', '286.8', '2861.45', '2862.55', '2862.75', '2866.45', '2867.75', '2868.05', '2868.15', '2869.85', '287.4', '287.85', '2871.5', '2874.15', '2874.45', '2877.05', '2877.95', '2878.55', '2878.75', '2879.2', '2879.9', '288.05', '288.35', '2882.25', '2884.9', '2888.7', '289.1', '289.3', '2890.65', '2893.4', '2894.55', '2896.4', '2896.55', '2896.6', '2897.95', '2898.95', '29.15', '29.7', '29.85', '29.9', '29.95', '290.55', '2901.8', '2907.35', '2907.55', '2908.2', '2909.95', '291.4', '291.45', '291.9', '2911.3', '2911.5', '2911.8', '2917.5', '2917.65', '2919.85', '292.4', '292.8', '292.85', '2921.75', '2924.05', '2928.5', '2929.75', '293.15', '293.3', '293.65', '293.85', '2931', '2933.2', '2933.95', '2934.3', '2936.25', '2937.65', '2939.8', '294.2', '294.45', '294.5', '294.9', '294.95', '2948.6', '295.55', '295.65', '295.95', '2952.85', '2954.5', '2958.95', '2959.8', '296.1', '296.15', '2960.1', '2961.4', '2962', '2964', '2964.05', '2964.8', '2965.75', '2966.95', '2967.35', '297.3', '297.35', '2970.3', '2970.8', '2971.7', '2974.5', '2976.95', '2978.3', '2979.2', '2979.3', '2979.5', '298.35', '298.45', '298.7', '2983.65', '2983.8', '2985.25', '2989.6', '299.05', '299.2', '299.3', '299.4', '299.7', '299.75', '2995.45', '2997.45', '2998', '30.2', '30.5', '30.55', '300.4', '300.7', '300.8', '3000.25', '3001.2', '3003.55', '3004.15', '3005.8', '3007.25', '3008.15', '3008.55', '3009.5', '301.4', '301.55', '301.9', '3011.65', '3013.05', '3014.65', '3015.75', '3017.65', '3019.1', '3019.25', '3019.5', '3019.7', '302.35', '302.45', '302.6', '302.75', '3021.3', '3021.45', '3021.6', '3023.55', '3023.65', '3023.85', '3024.15', '3027.25', '3027.4', '3027.65', '3029.1', '303.15', '303.7', '3030.6', '3035.35', '3035.8', '3036.75', '3038.55', '304.6', '3042.25', '3043.6', '3043.7', '3045.75', '3046.05', '3046.15', '3046.4', '3047.15', '305.1', '305.55', '305.95', '3050.15', '3053', '3055.5', '3058.15', '3058.3', '3058.65', '306.05', '306.6', '3062.45', '3066.45', '3067.2', '3068.6', '3069.45', '307', '307.4', '307.6', '3077', '3078.1', '308.05', '308.1', '308.25', '308.7', '3082.1', '3084.9', '3085.35', '3088.25', '3088.75', '3089.1', '3089.6', '309.1', '309.25', '309.35', '309.4', '3090.05', '3090.65', '3091.75', '3092', '3092.65', '3094.05', '3094.65', '3096.9', '3097', '3097.2', '31.2', '31.35', '31.55', '31.9', '310.6', '3103.25', '3105.55', '3107.3', '3109.9', '311.6', '3110.1', '3112.05', '3116.15', '3119.9', '312.7', '3121.1', '3121.4', '3121.45', '3122.4', '3124.5', '3126.45', '3126.85', '3128.8', '313', '313.4', '313.45', '313.6', '3131.55', '3131.8', '3132.75', '3134.7', '3139.8', '314.45', '314.55', '314.6', '314.95', '3141.7', '3143.65', '3145.15', '3145.9', '3147.15', '3147.5', '315.3', '3152.5', '3157', '316.2', '316.9', '3160.55', '3161.2', '3161.4', '3161.6', '3162.65', '3165.6', '3166.9', '3168', '3168.75', '3169.55', '317.25', '317.75', '3171.15', '3171.6', '3173.35', '3175.85', '3177.25', '318.1', '318.5', '318.6', '318.9', '3180.5', '3181.8', '3182.95', '3183.4', '3184.25', '3186.65', '3186.7', '3187.65', '319.15', '319.6', '319.85', '3190.25', '3190.65', '3196', '3198.6', '3199', '32.7', '320.4', '320.45', '3201.55', '3204.4', '3204.65', '3205.6', '3207.55', '3208.65', '321.05', '321.4', '321.65', '321.7', '321.75', '321.9', '3210.35', '3211.2', '3211.9', '3213.75', '3217.55', '3217.65', '3219.75', '322.5', '322.9', '3221.25', '3229.4', '3229.65', '323.15', '323.25', '323.45', '3231.05', '3233.6', '3233.85', '3236.35', '3237.05', '3238.4', '324.15', '324.2', '324.25', '324.3', '324.6', '324.8', '3242.5', '3243.45', '3244.4', '3246.45', '3247.55', '3249.4', '325.45', '3250.45', '3251.3', '3251.85', '3252', '3254.35', '3255.35', '326.65', '326.8', '3260.1', '3263.6', '3263.9', '3264.45', '3264.5', '3265.95', '3266', '3268.05', '327.45', '3270.25', '3273.55', '3273.8', '3273.95', '3274.35', '3275.15', '328.95', '3281.65', '3282.75', '3283.05', '329.75', '329.8', '329.95', '3292.3', '3297', '33.2', '33.6', '33.7', '330.05', '330.15', '330.25', '330.6', '330.8', '3301.05', '3303.05', '3306.85', '3309.25', '331.3', '331.35', '331.6', '331.85', '331.9', '3313.4', '3314.15', '3316.1', '332.45', '332.5', '332.65', '3320.6', '3320.75', '3321.35', '3326.2', '3327.05', '333.55', '333.6', '333.65', '3330.1', '3334.9', '3334.95', '3339.05', '334.65', '334.8', '3340.55', '3342', '3342.45', '3343.15', '3344.1', '3346.8', '3348.1', '3349.1', '335.4', '335.65', '335.75', '335.95', '3351.55', '3353.4', '3355.65', '3357.9', '3358.65', '336.15', '336.7', '3361.05', '3363.8', '3364.55', '3365.4', '3365.85', '3366.05', '3369.05', '3369.25', '337.9', '3370.2', '3371', '3371.75', '3373.4', '3375.9', '3377.8', '3379.25', '338.1', '338.9', '3382.3', '3384', '3389.25', '339.9', '3395.8', '3398.9', '3399.85', '34.7', '34.75', '34.8', '340.25', '340.35', '340.4', '340.85', '3403.4', '3409.1', '3409.6', '341.35', '341.45', '341.6', '3410', '3410.6', '3413.25', '3414.65', '3415.25', '3416.85', '3418.2', '3419.3', '3419.5', '342.3', '342.4', '3420.5', '3423.5', '3425.35', '343.45', '343.6', '343.95', '3431.75', '3432.9', '3435.6', '3436.1', '3437.45', '3437.5', '3439', '344.2', '344.5', '3440.25', '3442.15', '3442.8', '3444.85', '345.5', '345.9', '3450.15', '3452.55', '3454.6', '3457.45', '3457.9', '346.2', '346.4', '346.45', '3460.3', '3460.95', '3462.1', '3465.05', '3465.7', '3467', '347.25', '347.4', '347.65', '3470.8', '3471.1', '3472.05', '3473.4', '3474.05', '3474.2', '3474.45', '3475.55', '3478.15', '3478.75', '3479.05', '348.15', '348.8', '3480', '3480.35', '3482.85', '3483.45', '3486.65', '3487.95', '3488.15', '349.65', '349.8', '3491.55', '3496.3', '35', '35.05', '35.1', '35.25', '35.45', '35.55', '35.75', '35.85', '35.9', '350.1', '350.3', '350.35', '3503.5', '3505.1', '3509.4', '351.5', '351.55', '3510.3', '3512.15', '3512.5', '3512.9', '3515.25', '3517.9', '352.65', '3520.75', '3521.7', '3522.65', '3527', '3527.3', '3527.6', '3529.95', '353.65', '3532', '3532.25', '3532.85', '3533.6', '3539.25', '354.05', '3540.65', '3541.1', '3541.35', '3541.4', '3545.05', '3545.1', '3545.35', '3548.3', '3549.25', '355.1', '355.2', '355.9', '3551.65', '3554.6', '3557.7', '356.1', '356.15', '356.65', '3561.15', '3562.5', '3563.8', '3565.65', '3566.6', '3566.7', '357', '357.15', '357.6', '357.7', '357.75', '3571.6', '3574.5', '3579.15', '358.05', '358.15', '358.5', '3580.3', '3580.95', '3581.4', '3581.6', '3582.4', '3587.25', '3588.4', '359.4', '3590.2', '3591.25', '3593.8', '3597.5', '36.45', '36.55', '36.8', '360.1', '360.35', '360.55', '3600.65', '3603.45', '3605.2', '3605.6', '3608', '3615.6', '3616.25', '3617.1', '3618.7', '362.2', '362.6', '3623.95', '3624.3', '3624.35', '3625.2', '3626.1', '3626.35', '3627.3', '3629.2', '363.15', '3632', '3634.8', '3635.15', '3638.25', '364.55', '3640.45', '3641.5', '3645.05', '3645.5', '3645.6', '3645.75', '3646.8', '3649.6', '365.35', '365.4', '365.55', '365.65', '365.8', '3650.35', '3653', '3653.35', '3655.45', '3656.25', '3662.25', '3665.55', '367.55', '367.95', '3670.5', '3673.15', '3673.6', '3674.95', '3678.3', '368.1', '368.85', '3682.45', '3684.95', '3686.05', '3687.75', '3687.85', '3688.6', '369.05', '369.1', '369.15', '369.25', '369.3', '369.6', '3691.2', '3692.85', '3694.45', '3694.7', '37.2', '370.25', '370.4', '370.5', '370.65', '3704.15', '3706.95', '3707.6', '3708.4', '371.4', '371.6', '371.65', '371.9', '3713.95', '3715.65', '372.45', '3720.35', '3721.9', '3723.65', '3725.5', '3726.15', '3729.6', '3729.75', '373', '373.5', '3734.25', '3735.45', '3739.8', '374', '374.5', '374.8', '3741.85', '3744.05', '375.25', '3751.15', '3753.2', '3754.6', '3756.4', '3756.45', '3759.05', '3762', '3765.05', '3766.2', '3767.4', '3769.7', '377.55', '377.85', '3770', '3771.5', '3772.5', '3772.65', '3775.85', '3777.15', '3778', '3778.1', '3778.2', '3778.85', '378.4', '378.6', '3782.4', '3784', '3789.2', '3791.6', '3794.5', '3795.45', '38', '38.15', '38.25', '38.45', '38.7', '38.8', '3801.3', '3801.7', '3804.4', '3807.35', '3808', '3808.2', '381.2', '381.3', '3810.55', '3810.8', '3815.4', '382.2', '382.8', '3822.45', '3824.2', '3825.85', '3827.9', '3829.75', '383.55', '383.65', '3833.95', '3834.4', '3835.55', '3836.3', '3838.2', '3838.75', '384.25', '384.5', '3842.6', '3845.45', '3846.35', '3846.75', '3847.6', '3848', '3848.8', '385', '385.55', '385.9', '3851.45', '3856.75', '3857.1', '3858.05', '386.5', '3861.45', '3862.55', '3865.45', '3865.6', '387.2', '387.4', '387.7', '387.9', '3870', '3870.3', '3871.85', '3874.1', '3875.4', '3876.2', '3877.65', '3877.95', '388.6', '3880.05', '3882.3', '3883.3', '3886.05', '3886.45', '3886.85', '3887.25', '3887.85', '3888.65', '389.1', '389.25', '389.6', '389.8', '389.95', '3893.6', '3894.4', '3895.35', '3899.05', '39.25', '39.3', '39.65', '39.8', '39.85', '390.4', '390.85', '3901.25', '3902.45', '3902.6', '3906.7', '391.7', '3912.9', '3913.3', '3914.05', '3915.4', '3919.15', '392.5', '392.65', '3921.1', '3921.3', '3923.8', '3928.3', '393.15', '393.45', '3930.55', '3930.6', '3937.45', '394.1', '394.85', '3941.7', '3942.45', '3944.5', '3946.9', '3948.45', '3949.15', '395.6', '3950.85', '3952.45', '3952.65', '3953.15', '3953.7', '3954.1', '3956.7', '3958.2', '3958.25', '3958.85', '3959.15', '3959.35', '396.1', '396.3', '3965.05', '3966.3', '3969.35', '3969.4', '397', '3970.4', '3972.25', '3973.2', '3974.15', '3974.7', '3975.7', '3975.9', '398.55', '3983.6', '3985.35', '3988.5', '399.25', '399.45', '399.6', '3990.6', '3990.75', '3994.05', '3994.45', '3996.8', '40.1', '40.2', '40.25', '40.9', '400', '400.3', '4003', '4003.85', '4009.2', '401.1', '401.3', '401.5', '401.85', '401.95', '4013.8', '4014', '4014.2', '4014.6', '4016.2', '4016.3', '4016.75', '4016.85', '4017.45', '4018.05', '4018.35', '4018.55', '402.5', '402.6', '402.85', '4024.2', '4025.5', '4025.6', '4026.4', '4029.95', '403.15', '403.35', '4036', '4036.85', '4039', '4039.3', '4039.5', '404.2', '404.35', '4040.2', '4040.65', '4042.2', '4042.3', '4045.65', '4048.95', '405.6', '405.7', '4052.4', '4054.2', '4055.5', '4056.75', '4059.35', '4059.85', '406.05', '406.95', '4060.55', '4060.9', '4062.2', '4063', '4065', '4068', '4069.9', '407.05', '4070.95', '4079.55', '408.25', '408.5', '4084.35', '4085.75', '4086.3', '4089.45', '409.9', '4092.85', '4096.9', '4097.05', '41.2', '41.85', '4103.9', '4107.25', '4107.3', '4108.15', '4109', '411.15', '411.25', '411.45', '411.6', '411.75', '4111.35', '4113.1', '4113.15', '4113.7', '4116.15', '4116.8', '4116.9', '4119.4', '412.1', '412.5', '412.55', '412.6', '4122.65', '4122.9', '4124.65', '4126.2', '4126.35', '413', '413.25', '413.65', '4131.2', '4131.95', '4133.95', '4134.7', '4134.85', '4135', '4136.4', '4137.2', '4138.05', '4138.7', '4138.9', '414.1', '414.95', '4140.1', '4144.8', '4144.9', '4145.25', '4145.9', '4146.05', '4149.45', '415.05', '415.1', '415.4', '415.55', '415.9', '415.95', '4154.55', '4154.8', '4155.95', '4156.8', '4158.25', '4159.45', '416.3', '416.4', '416.45', '4162.05', '4164.4', '4166.35', '417', '417.5', '417.65', '417.7', '417.75', '4174.35', '4176.7', '4178.65', '4179.1', '4179.2', '418.25', '418.3', '418.4', '418.8', '4186.3', '4187.75', '4188.4', '4189.7', '419.35', '419.4', '419.7', '419.9', '4191.45', '4192.15', '4193.4', '4194.85', '42.45', '42.7', '42.9', '420.2', '420.45', '4200.25', '4209.95', '4211.55', '4213.35', '4213.9', '4214.25', '4217.8', '422.3', '422.4', '422.5', '422.6', '422.7', '4220.35', '4222.95', '4224.7', '4226.7', '4228.55', '4230.25', '4233.95', '4234.15', '4236.6', '4237.5', '4238.45', '424.15', '424.45', '424.5', '424.75', '4242.35', '4245.55', '425.1', '425.9', '4250.1', '4254.1', '4254.85', '4259.3', '426.35', '426.65', '4261.2', '4263.4', '4263.45', '4264', '4264.25', '4264.6', '4265', '4266.4', '4267.15', '4273.45', '4275.75', '428.45', '428.7', '4282.4', '4284.2', '4284.65', '4284.8', '4285.8', '4287.2', '429.55', '4295.35', '4297.6', '4297.95', '4298.45', '4299.2', '4299.75', '4299.95', '43.15', '43.3', '43.8', '43.85', '43.95', '4300.45', '4300.8', '4303.65', '4304', '4304.5', '4307.1', '4308.25', '4309.55', '431', '4310.35', '4312.5', '4317.35', '4318.35', '432.25', '432.5', '4322.85', '4323.35', '4323.45', '4326.25', '4326.8', '4327.5', '433.5', '433.75', '433.95', '4331.4', '4335.2', '4338.6', '434.1', '434.5', '434.8', '4345', '4346.4', '4348.1', '4348.65', '435', '435.25', '435.4', '435.45', '4350.1', '4354.45', '436.2', '436.6', '436.9', '4361.55', '4362.05', '4364.1', '4367.35', '4368.85', '4368.95', '4370.25', '4370.75', '4374.55', '4375.8', '4378.35', '4378.8', '4378.9', '438', '438.05', '438.25', '438.4', '438.9', '4385.05', '4386.2', '4388.4', '439.2', '439.75', '4390.25', '4391.25', '4391.45', '4392.5', '4398.15', '4399.5', '44', '44.05', '44.1', '44.15', '44.2', '44.3', '44.35', '44.4', '44.45', '44.55', '44.6', '44.65', '44.7', '44.75', '44.8', '44.9', '44.95', '440.2', '4400.75', '4408.45', '4414.3', '4415.75', '442.2', '442.45', '442.6', '442.85', '4421.95', '4422.95', '4424.2', '4428.45', '4428.6', '443.9', '4433.3', '4438.2', '444.75', '4442.75', '4443.45', '4445.3', '4447.55', '4447.75', '4448.8', '4449.75', '445.3', '445.85', '445.95', '4451.85', '4453.3', '4454.25', '4456.35', '4456.65', '4458.15', '4459.15', '4459.8', '446.05', '446.1', '446.8', '4461.85', '4464.8', '4469.1', '447.75', '447.9', '4473', '4473.45', '4475.9', '4478.85', '4479.2', '4480.7', '4481', '4483.95', '4484.05', '4487.3', '449.3', '449.75', '4492.9', '4494.65', '4495.65', '45', '45.05', '45.1', '45.15', '45.2', '45.25', '45.3', '45.35', '45.4', '45.55', '45.6', '45.65', '45.7', '45.75', '45.8', '45.85', '45.95', '450.4', '450.65', '450.8', '450.9', '4504.55', '4504.9', '4507.15', '4508.65', '4509.5', '451.1', '451.55', '4510.8', '4512.7', '4513.65', '4515.85', '4517.25', '4519.5', '452.2', '452.35', '452.55', '452.7', '452.8', '4520.15', '4523.25', '4524.05', '4525.8', '4526.85', '4527.45', '4528', '453.4', '453.75', '4532.3', '4533.7', '4533.9', '4534.45', '4534.9', '4535.85', '4539.35', '4539.6', '454', '454.05', '454.15', '454.65', '4541.2', '4541.9', '4542.35', '4543.15', '4543.95', '4546', '4547.25', '4549.05', '4549.45', '455.3', '455.5', '4551.5', '4554.85', '4555.2', '4557.5', '456.85', '4563', '4564.9', '4566.5', '457.1', '457.3', '4575.35', '4576.3', '4577.75', '4577.9', '458.1', '4586.15', '4589.85', '459.6', '459.95', '4590.35', '4594.65', '4594.95', '4599.15', '46', '46.2', '46.3', '46.35', '46.4', '460.2', '460.25', '4600.7', '4600.95', '461.3', '461.7', '4613.95', '4614.55', '4615.25', '4615.9', '4616.05', '4616.1', '4619.55', '462.8', '4620.4', '4627.65', '4627.8', '4627.85', '463.05', '463.6', '4630.2', '4631.7', '4634.35', '4639.45', '4641.1', '465.05', '465.45', '465.7', '465.85', '4652.4', '4653.25', '4653.85', '4657.95', '466.6', '4663.4', '4664.15', '4664.2', '4664.5', '4667', '4669.2', '467.15', '467.5', '467.55', '467.7', '467.85', '4671.65', '4671.7', '4674.4', '4674.55', '4676.7', '4677.1', '468.35', '4680.05', '4681.75', '4684.3', '4685.55', '4687.9', '4688.65', '4689.15', '4689.5', '469.25', '469.65', '469.8', '469.85', '4690.65', '4692.55', '4692.95', '4693.2', '4698.05', '47.5', '47.7', '47.95', '470', '470.2', '470.6', '470.95', '4707.1', '4707.85', '471.35', '471.55', '471.7', '471.85', '4713.4', '4718.25', '4719.75', '472.25', '472.65', '4720', '4729.3', '4729.75', '473.9', '4730.6', '4730.9', '4732.35', '4733.1', '4735.2', '4735.35', '4738.3', '4738.85', '474.8', '474.9', '4740', '4741.45', '4744.35', '4746.05', '4747.2', '4747.5', '4747.65', '4747.85', '4748.7', '4749.15', '475', '475.1', '475.2', '475.25', '475.7', '4750.95', '4753.85', '4754.3', '4758.8', '4759.55', '4759.75', '4759.85', '476.8', '4760.3', '4764', '4765', '477.05', '477.55', '477.6', '477.7', '4779.45', '478.1', '478.75', '4783.5', '4784.45', '4786.1', '4786.15', '4793.8', '4798.4', '48.35', '48.45', '48.55', '48.6', '48.75', '48.95', '480.6', '480.75', '4801.1', '4804.65', '4804.75', '4805.3', '4805.65', '4807.35', '4807.45', '4808.7', '481.1', '4811.6', '4812.75', '4816.7', '4818.8', '4819.75', '482.25', '482.8', '4820.15', '4820.55', '4822.85', '4824.45', '4828.05', '483.15', '483.3', '483.7', '4830.25', '4834', '4837.6', '4839.15', '484.05', '4845.4', '4847.05', '4847.35', '4849.1', '485.2', '485.25', '485.9', '4853.75', '4854.3', '4855.35', '4858.7', '4859.1', '4859.25', '4859.95', '486.05', '486.2', '486.85', '4860.35', '4860.85', '4861.45', '4862.5', '4863.85', '4867.95', '4868.4', '4869.35', '4869.5', '487.05', '487.75', '487.95', '4871.05', '4871.45', '4872.2', '4872.35', '4872.45', '4874.7', '4874.8', '488.25', '488.65', '4882.8', '4884.85', '4885.85', '4888.2', '4888.7', '4889.2', '4889.3', '489.45', '4890.5', '4891.5', '4895.1', '4896.35', '49', '49.05', '49.25', '49.3', '49.5', '49.55', '49.65', '49.7', '49.75', '49.8', '49.85', '49.9', '49.95', '490.55', '490.65', '4900.65', '4902.8', '4903.15', '4903.2', '4904.2', '4904.25', '4904.85', '4905.75', '4908.25', '4911.05', '4911.35', '4913.3', '4914.8', '4914.9', '4915.15', '4916.4', '4916.95', '4917.75', '4917.9', '4919.7', '492', '492.1', '492.55', '4920.55', '4920.8', '4921.2', '4922.4', '4925.35', '4929.55', '493.4', '493.65', '493.95', '4931.8', '4932.5', '4939.25', '494.05', '494.9', '494.95', '4941.8', '4946.05', '4946.7', '4947.55', '4949.1', '495.15', '4952.95', '4953.25', '4959.15', '4959.6', '496.9', '4964.7', '4965', '4965.1', '4968', '497.3', '497.55', '497.6', '4972.1', '4973.4', '4976.15', '4977.2', '498.1', '498.25', '4981.15', '4982.5', '4983.05', '4984.85', '4985.9', '499.4', '4990.25', '4991.5', '4993.4', '4995.35', '4997.5', '50.05', '50.1', '50.15', '50.35', '50.45', '50.5', '50.55', '50.6', '50.65', '50.7', '50.75', '50.8', '50.9', '500.1', '5000.05', '5000.2', '501', '501.2', '501.35', '5011.15', '5012.1', '5012.35', '5013', '5016.25', '5016.65', '5017.7', '5017.9', '502.6', '502.85', '5023', '5025', '5025.8', '5025.85', '5029.05', '5029.2', '503.25', '503.6', '5031', '5031.85', '5032.25', '5034.05', '5036.3', '5036.9', '5037.55', '5038.15', '5038.45', '504.05', '504.2', '5040.2', '5042.75', '5043.2', '5044.8', '505.45', '505.9', '505.95', '5059.75', '506.9', '5060.85', '5060.9', '5064.45', '5064.85', '5067.45', '5068.05', '5069.65', '507.4', '507.9', '5070.4', '5071.05', '5071.9', '5073.1', '5082.8', '5083.55', '5084.65', '5088.4', '509.3', '5099.15', '51.15', '51.2', '51.25', '51.6', '510.8', '5102.35', '511.25', '5116.6', '5118.95', '512.25', '512.45', '5121.3', '5121.75', '5124.55', '5124.6', '5125.5', '5125.75', '5127.95', '5129.3', '5129.45', '5135.15', '5135.35', '5138.1', '5139.65', '514', '514.6', '514.75', '5149.5', '515.45', '515.75', '5150.55', '5153.5', '5154.5', '5154.6', '516.15', '516.3', '5163', '5163.3', '5165.7', '5166.2', '5168.1', '5174.35', '5175.3', '518.3', '518.75', '518.9', '5186', '5189.75', '519.15', '5193.2', '5194.05', '5196.1', '5199.8', '52', '52.05', '52.2', '520', '520.1', '520.55', '520.95', '5200.8', '5206.55', '521', '521.1', '521.3', '521.35', '521.8', '521.9', '5212.65', '5215.1', '5215.25', '5219.65', '522.35', '522.95', '5222.3', '5222.35', '5224.35', '5224.5', '5224.95', '5229.45', '5229.8', '523.1', '523.15', '523.5', '5231.2', '5231.3', '5232.9', '5233.25', '5234.95', '5236.4', '5237.4', '5238.9', '524.35', '524.5', '5243.05', '5244.45', '525', '525.55', '5251.75', '5253.95', '526.7', '526.95', '5264.25', '5264.3', '5264.5', '5265.1', '5265.2', '5265.5', '5265.55', '527.35', '527.5', '527.9', '5270.6', '5275.8', '5276.1', '5278.15', '528.35', '528.45', '5283.95', '5289.05', '5289.8', '529.5', '529.8', '5290.45', '5293.2', '5293.4', '5293.95', '5294.6', '5295.7', '5299.65', '53.05', '53.15', '53.5', '53.55', '53.95', '530.05', '5301.1', '5305.05', '5308.7', '5309.5', '531', '531.15', '531.55', '531.6', '5311.85', '5315.1', '5315.8', '5317.8', '532.1', '5321.25', '5324.5', '5327.25', '5329', '5329.55', '533.05', '533.5', '533.6', '533.9', '5330.2', '5333.35', '5336.35', '534.7', '5341.8', '5347.95', '5348.65', '535.05', '535.35', '535.55', '5356.45', '5357.75', '536.35', '536.4', '5360.75', '5364.8', '537.35', '5373.1', '5375.15', '5376.4', '5377.8', '538.2', '538.5', '5386.5', '5388.15', '539.85', '5396.25', '5398.6', '54.3', '54.35', '54.5', '54.65', '54.7', '54.75', '54.9', '540.05', '540.95', '5401.9', '5405.8', '5409.75', '541.15', '541.5', '541.9', '5411.4', '5411.65', '542.4', '5420.65', '5424.25', '5426.85', '5427.05', '543', '543.8', '5430.35', '5430.65', '5431.4', '5431.9', '5432.2', '5435', '5435.6', '5436.45', '5437.1', '5437.75', '5438.9', '5438.95', '544.55', '5440.9', '5442.05', '5443.65', '5445.95', '5448.6', '545.15', '545.2', '5450.7', '5453.4', '5458.8', '5459.2', '546.45', '546.85', '546.95', '5460.2', '5461.45', '5464.65', '5468.45', '5468.95', '547.65', '547.8', '5471.75', '5475.9', '548.8', '548.9', '5480.25', '5481.25', '5483.9', '5484.4', '5485.5', '5487', '5496.9', '5497.05', '5498.2', '5498.8', '55', '55.05', '55.2', '55.25', '55.3', '55.4', '55.45', '55.55', '55.7', '55.8', '550.1', '550.35', '550.6', '5500.6', '5502.55', '5508.35', '5509.3', '551.3', '551.35', '551.95', '5510.65', '5511.65', '5514.95', '5515.45', '5515.8', '552.1', '552.65', '552.7', '552.9', '552.95', '5522.7', '5526.75', '5528.9', '553', '553.4', '5535.8', '5536.5', '5538.35', '5538.8', '554.05', '554.25', '554.45', '5542.55', '5549.4', '555.4', '5550.1', '5551.15', '5552.05', '5552.5', '5553.25', '5555.3', '556.35', '5560', '5563.65', '5564.85', '5566.4', '5567.45', '5567.55', '5568.35', '5574.35', '5574.75', '5576.3', '558.8', '5580.8', '5581.05', '5585.4', '5586.45', '5588.8', '5589.3', '5589.45', '559.2', '5594', '5595.3', '5597.65', '5598', '5598.3', '56', '56.25', '56.35', '560.6', '560.85', '5600.15', '5601.4', '5602.25', '5607.75', '5608.4', '561.15', '5610.15', '5610.25', '5610.7', '5611.7', '5611.75', '5614.45', '5617.75', '5617.95', '5618.3', '562.6', '562.7', '5621.85', '5623.7', '5624.85', '5625.55', '5629.15', '5629.55', '563.05', '563.5', '563.65', '5632.55', '5637.85', '5638.3', '5639.05', '564.35', '564.4', '564.65', '5643.4', '5645.8', '5646.6', '5647.95', '565.35', '565.75', '5655.45', '5656.75', '566.1', '566.5', '5661.7', '5662.25', '5669.5', '567.45', '567.8', '5673.7', '5676', '5676.65', '568.2', '568.85', '5680.9', '5681.1', '5682.25', '5683.6', '5685.8', '5686.4', '5688.05', '5688.45', '5692.65', '5696.6', '57.2', '57.4', '57.5', '5703', '5703.25', '5705.05', '5706.2', '5706.3', '5708.2', '571.05', '571.15', '571.45', '571.75', '5711.05', '5714.2', '5714.25', '5717.85', '5718.2', '572.2', '572.45', '572.85', '5720.35', '5720.95', '5727.15', '5727.45', '5728.55', '573.05', '573.15', '573.3', '573.75', '5730.15', '5730.7', '5731.4', '5731.45', '5731.85', '5733.4', '5737.6', '574.35', '574.5', '5742.9', '5743.05', '5743.3', '5744.35', '5746.15', '5746.75', '5749.8', '575.45', '5750', '5753.25', '5755.8', '5757.2', '576.65', '576.7', '576.95', '5760.65', '5762.95', '5763.15', '5763.3', '5764.7', '5769.6', '5769.75', '577.15', '577.6', '5774.55', '5776.45', '5779.6', '578.5', '5780.7', '5784.3', '5785.5', '5785.65', '579', '579.4', '5791.1', '5791.85', '5794.45', '5794.65', '5798.3', '58', '58.15', '58.3', '58.85', '58.9', '580.1', '580.8', '5809.75', '581.7', '581.85', '5810.9', '5811.8', '5812', '5812.6', '5815.15', '5817', '5817.45', '5817.7', '582.5', '5822.3', '5824.75', '5825.5', '5826.65', '583', '583.3', '583.45', '5831.2', '5832', '5832.65', '5835.5', '5839.3', '5841.35', '5844.65', '5846.65', '5848.6', '585.95', '586.05', '5860.7', '5861.75', '5867', '5869.4', '587.1', '587.4', '587.45', '587.7', '5873.75', '5878.9', '5882.75', '5883.85', '5885.4', '5886.85', '589.25', '5890', '5893.15', '5893.9', '5893.95', '5894.5', '5895.45', '5897.4', '5898.6', '5899.85', '59.05', '59.2', '59.25', '59.55', '59.75', '59.85', '590.35', '5903.15', '5913.95', '5914.4', '5916.45', '5916.95', '5917.55', '5918.8', '5919.35', '592.65', '592.75', '5921.35', '5924.4', '5925.75', '593.05', '593.2', '593.3', '593.45', '593.75', '593.85', '5930.05', '5931', '5931.75', '5935.1', '5936.55', '5940.85', '5941.05', '5943.65', '5948.7', '595.05', '595.5', '5950.2', '5953', '5956.85', '5957.9', '5958.85', '5959.3', '5960.5', '5961.1', '5963.95', '5965.95', '5968.4', '5969.3', '5969.85', '5969.95', '597', '597.9', '5971.25', '5974.3', '5976.9', '5979.7', '5980.55', '5980.75', '5981.65', '5985', '5985.75', '5986.45', '5986.55', '599.25', '599.3', '5991.05', '5997.1', '5999.85', '60', '60.1', '60.15', '60.65', '600', '600.15', '600.25', '6000.1', '6001.45', '6004.85', '601.25', '601.55', '601.6', '6010.05', '6014.85', '6017.65', '6017.9', '6018.65', '6019.35', '602.55', '602.9', '6028.95', '6029', '6029.9', '603', '6033.1', '6033.3', '6034.85', '6038.55', '6039.9', '604.7', '6042.7', '6045.9', '6046.1', '6049.5', '605.25', '605.45', '605.75', '605.9', '6052.25', '6055.55', '6056.15', '6056.9', '6058.95', '606.25', '606.55', '6065.3', '6066.55', '6067.4', '6068.65', '6069.25', '607.3', '607.7', '6075.9', '6077.75', '6078.75', '6079', '608', '608.15', '608.5', '608.8', '6081.4', '6083.1', '609.05', '609.1', '609.65', '609.9', '6093.3', '6094.25', '6096.45', '6096.9', '61.05', '61.15', '61.35', '61.45', '61.7', '610.2', '610.75', '6109.65', '6109.75', '611.45', '611.65', '6110.2', '6110.75', '6118.95', '612.1', '612.95', '6125.4', '6126.1', '6126.15', '6127.6', '6129.2', '6129.65', '613.4', '613.95', '6130.85', '6130.95', '6132.7', '6137', '6139.5', '614.45', '6140.85', '6141.65', '6143.15', '6144.55', '6145.2', '6145.85', '6148.45', '615.35', '6151.9', '6152.3', '6152.4', '6153.85', '6155.4', '6157.6', '616.9', '6161.9', '6164.7', '617.15', '617.35', '617.65', '617.85', '6171.2', '6172', '6176.6', '6179.35', '6185.15', '6185.8', '6194.1', '62', '62.05', '62.25', '62.8', '62.9', '620.35', '620.55', '620.75', '6201.95', '6205.5', '6215.35', '6218.45', '6219.6', '622.9', '6223.3', '6223.8', '6224.8', '6225.4', '6227.5', '6230.1', '6236.75', '6237.05', '6239.05', '624.15', '624.6', '6241.35', '625.05', '625.65', '6252.7', '6252.9', '6253', '6254.2', '6254.45', '6256.2', '6263.8', '627.4', '6273.4', '628.65', '6281.45', '6283.3', '6287.25', '6287.3', '629.35', '629.55', '6292.7', '6293.2', '6293.45', '6293.75', '6296.75', '6297.65', '63', '63.15', '63.6', '63.75', '630.6', '6300.15', '6300.85', '6301.7', '6302.8', '6302.85', '6306.5', '6309.65', '631.4', '631.85', '6310.9', '6311.2', '6312.9', '6314.35', '6316.2', '632.2', '632.95', '6322.1', '6325.25', '6328.7', '633.3', '633.4', '633.45', '633.85', '6330.4', '6332.75', '6333.4', '6333.8', '6339.3', '6339.45', '6341.45', '6342.7', '6347.55', '635.6', '635.9', '6350.5', '6352.4', '6362.35', '6363.45', '6365.35', '6367.2', '6368.2', '6369.45', '637.4', '637.55', '6373.1', '6375.2', '6375.8', '6376.55', '638', '638.55', '638.95', '6382', '6382.55', '6383.35', '6383.9', '6385.95', '6388.65', '639.45', '639.65', '639.7', '6392.85', '6393.65', '6396.45', '6397.6', '6398.05', '64.55', '6401.25', '6404', '6405', '641.15', '641.25', '641.35', '6411.25', '6413.65', '6416.7', '6418.9', '6423', '6424.25', '6424.7', '6425.65', '6428.4', '6430.9', '6431.05', '6435.25', '644.35', '644.5', '6440.25', '6441.4', '6441.85', '6444.05', '6448.05', '6448.85', '6449.15', '645.8', '6457.15', '646.05', '646.85', '6460.55', '6463.15', '6465', '6468.6', '647.5', '6470.1', '6471.85', '6474.4', '6474.45', '6479.4', '648.65', '6480.9', '6487.2', '649.4', '649.65', '6496.15', '65.95', '6501.35', '6503.2', '6506.15', '651.4', '651.5', '651.55', '6510.45', '6511.25', '6511.8', '6518.35', '6519.75', '6520.8', '6521.9', '6526.65', '6529.25', '653.15', '653.25', '653.9', '653.95', '6536.5', '6538.45', '654.5', '654.55', '654.85', '6547.7', '6548.65', '6549.45', '655.3', '655.5', '655.85', '655.9', '6555.2', '6557.75', '6561.25', '6562.9', '6563.4', '6565.85', '6567.9', '657.5', '6572.85', '6578.55', '6579.05', '658.1', '658.95', '6581.9', '6585.2', '6585.35', '6586.85', '6588.95', '6589.6', '659.35', '659.45', '659.65', '6590.5', '6590.8', '6595', '6595.9', '6597.25', '66.95', '660.05', '660.9', '6602.9', '6603', '6603.8', '6605.55', '661.25', '661.55', '6613.65', '6614.9', '6615.15', '662.65', '662.95', '663.05', '663.55', '6631.85', '6632.75', '6637.9', '6638.35', '664.4', '6640.7', '6643.5', '665.45', '6652.45', '6654.1', '666', '666.75', '6668', '6668.05', '6668.35', '6669.05', '6669.45', '667.7', '6671.7', '6674.65', '668.4', '668.85', '6683.4', '6687.85', '6688.1', '6688.95', '6689', '669', '669.45', '669.85', '6690.75', '6692.65', '6697.2', '6697.35', '67.1', '67.55', '670.35', '670.65', '6700.05', '6703.5', '6705.7', '6707.15', '6710.5', '6713.2', '6716.45', '6717.9', '6719.9', '672.2', '672.55', '672.7', '6721.6', '6725.3', '6725.5', '673.1', '673.2', '673.25', '6733', '6733.15', '6735.05', '674.55', '6741.15', '6743.55', '6744.2', '6744.25', '6747.35', '675.6', '6751.35', '6754.35', '6758.45', '676.15', '676.35', '676.7', '6766.95', '6767.1', '677.05', '677.9', '6770.5', '6770.85', '6779.05', '678.2', '678.45', '678.75', '678.8', '6780.1', '6782.15', '6786.1', '6786.4', '679', '679.3', '679.55', '679.8', '679.85', '6792.45', '6794.75', '68.2', '68.35', '68.45', '68.5', '68.65', '68.75', '68.8', '68.95', '680.05', '681.4', '6812.95', '6816.95', '6819.45', '682.1', '682.15', '6822.15', '6823.4', '6825.65', '6827.5', '683.25', '683.75', '6838.6', '684.05', '684.4', '684.85', '6840.95', '6841.05', '6841.3', '6841.4', '6841.45', '6843.15', '6844.5', '6849.4', '6849.75', '685.55', '6851.65', '6856.45', '6856.95', '6858.9', '6859.05', '6859.5', '686.95', '6860.6', '6869.7', '6871.7', '6871.9', '6873.75', '6875.35', '6876.05', '688', '688.2', '688.5', '688.65', '6880.85', '6885.75', '6886.25', '6889.8', '689', '689.35', '689.75', '6890', '6891.4', '6891.45', '6895.5', '69.1', '69.15', '69.2', '69.25', '69.35', '69.4', '69.5', '69.55', '69.6', '69.65', '69.7', '69.75', '69.8', '69.85', '69.9', '69.95', '690.25', '690.5', '6903.1', '6910.3', '6912.7', '6914.95', '692.1', '692.35', '692.55', '6921.7', '6925.9', '6929.4', '693.3', '693.45', '6936.85', '6937.95', '6941.2', '6944.5', '695.05', '695.75', '695.85', '6951.15', '6953.4', '6954.15', '696.35', '696.8', '6962.85', '697.25', '697.65', '697.7', '6975.25', '6976.75', '6979.8', '6981.35', '6982.5', '6985.65', '6989.45', '6989.7', '6991.6', '6991.9', '6993.65', '6994.6', '6994.8', '6997.3', '6998.95', '70', '70.05', '70.1', '70.15', '70.2', '70.25', '70.3', '70.35', '70.4', '70.45', '70.5', '70.55', '70.6', '70.65', '70.7', '70.75', '70.8', '70.85', '70.9', '700.45', '700.85', '7002.95', '7007.6', '7008.15', '7009.5', '701.05', '701.3', '7015.9', '702', '702.05', '702.9', '7028.5', '703.55', '7030.65', '7031.3', '7031.45', '7035.6', '7039.05', '7039.45', '704.3', '7040.85', '7047.5', '7049.5', '7049.75', '705.45', '7051.95', '7053.35', '706.6', '706.85', '7061.65', '7069.25', '7069.3', '707.5', '7074.4', '7076.35', '708.2', '708.8', '7082.45', '7082.5', '7082.85', '7085.5', '709.5', '7099', '71', '71.1', '71.15', '71.2', '71.25', '71.35', '71.55', '71.65', '710.05', '7101.5', '7104.2', '7107', '7108.2', '711.15', '711.9', '711.95', '7110.75', '7111.3', '7112.15', '7113.75', '7114.25', '7118.9', '712.25', '712.75', '712.85', '7129.45', '713', '713.1', '713.6', '713.75', '7132.15', '7133.1', '7133.25', '7133.45', '7138.65', '714.15', '7142.5', '7149.35', '715', '7156.2', '7159.05', '7159.7', '716.1', '716.4', '7168.25', '717.3', '717.5', '717.95', '7171.7', '7173.15', '7176.55', '718.1', '718.55', '7181.25', '7181.95', '7188.5', '7195.35', '72', '72.1', '72.4', '720.05', '720.1', '720.45', '7209', '7210.85', '7213.75', '7220.35', '7222.75', '7227.45', '723.3', '723.35', '723.4', '7234.8', '7238.6', '724.65', '7240.65', '7244.7', '7245.9', '7246.15', '7250.15', '7251.7', '7251.9', '726.1', '7261.25', '7261.75', '7262', '7266.95', '727.8', '727.85', '7279.35', '7281.6', '7283.25', '7285.7', '7288.4', '729.95', '7291.75', '7297.75', '7299.65', '73', '73.05', '73.1', '73.45', '73.5', '73.55', '73.6', '73.65', '730.1', '730.4', '7303.05', '7308.95', '731.3', '7317.1', '7318.2', '732.5', '7320.9', '7321.05', '7322.5', '7323.15', '7325.1', '733.35', '733.55', '733.95', '7332.4', '7334.05', '7337.55', '734.35', '734.6', '7344.45', '7346.2', '7348.8', '7349.35', '735.5', '735.9', '736.8', '7362.9', '7365.3', '7365.7', '7372.65', '7379.8', '738.2', '7382.25', '7382.85', '7383.7', '7386.05', '7388.45', '739.35', '739.9', '7396.15', '7397', '74', '74.1', '74.2', '74.25', '74.3', '74.35', '74.4', '74.45', '74.5', '74.6', '74.7', '74.9', '74.95', '740', '740.3', '740.55', '740.8', '7405.5', '741', '741.4', '741.5', '741.7', '7412.25', '7413.55', '742.9', '742.95', '7422.1', '743.05', '743.3', '743.5', '743.75', '7430.75', '7432.05', '7446.9', '7447.7', '745.3', '7455.45', '7459', '7459.05', '746.05', '746.5', '746.75', '7467.5', '7467.55', '747.2', '7470.1', '7472.15', '7475.1', '7475.85', '7482.1', '749.25', '749.35', '7491.75', '7493.05', '75.05', '75.1', '75.3', '75.35', '75.45', '75.5', '75.55', '75.6', '75.7', '75.75', '75.8', '75.9', '750.1', '7508.55', '751.65', '7511.3', '7511.65', '7511.9', '7517.7', '7521.95', '7530.8', '7532.15', '7534.65', '7537.5', '754', '754.5', '754.65', '7542.25', '7544', '7544.3', '7548.1', '7548.6', '755.4', '755.5', '755.6', '7550.3', '7553.6', '7554.05', '7555', '7556.9', '7559.55', '756.4', '7565.35', '7567.2', '757.1', '757.95', '7576.7', '7578.05', '758.6', '7581.5', '7589.8', '759.35', '759.55', '76', '76.2', '76.35', '76.4', '76.45', '76.65', '76.95', '760.05', '7609.75', '761.85', '761.95', '7610.1', '7611.55', '7611.85', '7616', '762.1', '762.25', '762.45', '762.5', '7623.2', '7624.2', '7629.85', '763.1', '7634.25', '7634.8', '764.55', '764.95', '765.15', '765.45', '765.5', '7657.4', '7658.3', '7661.8', '7665.8', '767.55', '767.9', '7674.55', '7677.4', '7679.65', '768.05', '768.45', '7689.8', '7689.95', '769.1', '7690.9', '77.15', '77.5', '77.6', '77.75', '770.4', '770.5', '770.6', '7707.7', '771.95', '7711.25', '7711.45', '7713.55', '7714.65', '7719.5', '772.4', '772.85', '7723.7', '7723.9', '7726.35', '773.2', '773.65', '7732.65', '7737.55', '7746.7', '7748.75', '775.3', '775.6', '7751.7', '7752.05', '7752.3', '7758.9', '776.25', '7767.25', '777.3', '777.35', '7774.05', '778.1', '7782.85', '7789.6', '779.2', '779.25', '7795.95', '78.05', '78.25', '78.3', '78.45', '78.65', '78.8', '78.9', '78.95', '780.1', '780.15', '780.2', '780.25', '780.5', '780.85', '7804.15', '7806.5', '7806.6', '781.25', '781.4', '7839.85', '784.25', '784.45', '7840.6', '7842.3', '7843.55', '7845.8', '7848.5', '7849.85', '785.75', '7852.4', '7853.7', '7854.15', '7854.9', '7856', '786.3', '786.5', '7862.25', '7869.05', '7875', '7878.3', '788.05', '788.35', '788.55', '788.6', '788.8', '7880.25', '7881.2', '7882.25', '7882.5', '7887.25', '789.2', '789.55', '7895.15', '7898.45', '79.05', '79.1', '79.15', '79.2', '79.25', '79.35', '79.45', '79.5', '79.55', '79.6', '79.65', '79.7', '79.8', '79.9', '79.95', '790', '790.15', '790.7', '7904.25', '791.15', '791.7', '791.75', '7919.8', '792.15', '7920.7', '7922.75', '793.55', '7930.55', '7932.5', '7939.25', '794.25', '7942.15', '7943.45', '795.15', '795.65', '7953.25', '7962.2', '7965.95', '7966.9', '7968.85', '797.1', '797.25', '798.2', '7982.5', '7984.15', '7985.9', '7987.6', '799', '799.65', '7990.05', '7993.3', '7998.8', '80', '80.05', '80.15', '80.2', '80.25', '80.3', '80.35', '80.5', '80.55', '80.8', '80.85', '80.95', '800.3', '8003.8', '801.3', '8012.75', '8013.55', '8016.6', '802.35', '8022.85', '803.3', '8033.1', '8035.95', '804.25', '804.85', '8041.65', '8046.85', '805.1', '805.2', '8058.55', '8058.85', '806.95', '8061.5', '8065.65', '8071.05', '8075.35', '8078.1', '808.95', '8086.4', '809.25', '809.75', '8093.15', '81', '81.05', '81.1', '81.25', '81.7', '81.95', '810.2', '810.3', '810.45', '810.7', '810.85', '8100.25', '8100.55', '8109.8', '811.65', '811.8', '812.4', '812.5', '8124.2', '8126.65', '8127.6', '8129.3', '813.3', '813.45', '813.85', '814.75', '815.5', '815.55', '8152.3', '816.8', '8164.1', '8165.1', '8166.8', '817.95', '8175.9', '818.05', '818.45', '8182.75', '8182.85', '819.4', '819.55', '819.95', '8192.6', '8196.4', '82.15', '82.3', '82.7', '82.85', '82.9', '820.5', '821.6', '8220.4', '824.75', '824.85', '8240.85', '8244.3', '8248.5', '825.1', '825.4', '825.7', '8250', '826', '826.1', '827.05', '827.3', '827.45', '827.7', '8277.05', '828.05', '828.2', '828.85', '8289.2', '829.1', '829.3', '829.55', '8297.5', '83.3', '83.4', '83.75', '830.25', '830.7', '830.8', '830.85', '8306.05', '8308.9', '8309.55', '831.75', '8310.55', '8312.4', '8312.75', '8317.95', '832.05', '832.3', '832.35', '833.55', '8331.95', '8332.15', '8333.95', '8337.45', '834.1', '834.15', '834.2', '834.7', '8349.45', '8349.7', '835.15', '835.5', '836.35', '837.5', '837.95', '8375.05', '838.5', '838.7', '839.4', '839.65', '8399.15', '84.2', '84.3', '84.4', '84.5', '84.6', '84.65', '84.75', '84.8', '84.85', '840.1', '8404.9', '8405', '842.25', '842.9', '8424.9', '8425.15', '8425.3', '8436.25', '844.45', '8443.7', '845.25', '845.6', '8456.75', '846', '846.8', '8468.2', '847.25', '847.3', '847.8', '8476.5', '8477.6', '8477.7', '849.1', '849.9', '8496.7', '85', '85.05', '85.1', '85.15', '85.45', '85.5', '85.55', '85.7', '85.8', '851.2', '851.75', '851.8', '852.7', '8529.5', '853', '853.1', '854.45', '854.8', '854.9', '8543.25', '8547.15', '855.1', '855.3', '856.35', '856.5', '856.65', '8564.75', '857.2', '857.25', '857.75', '857.8', '858.6', '8594.4', '86', '86.05', '86.35', '86.6', '860.85', '861.85', '862.4', '863.1', '864.2', '864.55', '864.85', '865', '865.05', '865.1', '865.55', '865.75', '865.8', '865.85', '866.4', '866.45', '867.1', '867.3', '8670.1', '8672.45', '868.1', '868.5', '8684.8', '869.9', '87.3', '87.9', '870.25', '871.4', '872.65', '873.4', '874.2', '874.8', '875.35', '875.55', '876.15', '876.75', '877.35', '878.35', '879.8', '88.35', '88.8', '880.05', '880.2', '882.55', '883.35', '886.4', '886.7', '887.35', '888.65', '888.75', '889', '889.9', '89.05', '89.1', '89.15', '89.25', '89.3', '89.35', '89.5', '89.55', '89.75', '89.9', '890.35', '890.5', '890.6', '892.15', '892.65', '892.7', '893', '893.2', '893.55', '894.3', '896.75', '896.9', '897.75', '898.35', '899.45', '899.8', '90.05', '90.1', '90.35', '90.55', '90.6', '90.75', '90.85', '900.5', '900.9', '901.25', '902', '902.25', '903.6', '903.7', '903.8', '905.55', '906.85', '907.05', '908.15', '908.55', '908.75', '909.25', '91.1', '91.3', '91.4', '91.45', '91.7', '910.45', '911.6', '912', '913.3', '914', '914.3', '914.4', '914.6', '916', '916.15', '916.75', '916.9', '917.15', '917.45', '918.6', '918.7', '918.75', '919.4', '92.05', '92.25', '92.45', '92.5', '92.65', '92.75', '920.5', '921.3', '921.4', '921.55', '923.1', '923.5', '923.85', '926', '926.2', '926.25', '927.1', '927.15', '927.35', '927.65', '928.4', '929.2', '929.3', '929.45', '93.3', '93.4', '93.45', '93.55', '93.7', '93.85', '930.05', '930.4', '930.45', '930.9', '930.95', '931.55', '931.75', '931.9', '933.3', '934.1', '934.15', '934.8', '935.9', '936.7', '936.85', '937.1', '937.5', '937.6', '938.65', '938.95', '939.7', '939.8', '94', '94.15', '94.4', '94.45', '94.5', '94.55', '94.6', '940.35', '941', '942.95', '943', '943.1', '943.85', '944.65', '945.7', '946.95', '947.3', '947.4', '947.75', '948.9', '949.8', '949.85', '95', '95.05', '95.1', '95.45', '95.55', '95.6', '95.65', '95.85', '950.2', '950.75', '951.55', '952.3', '953.45', '953.65', '954.9', '955.15', '955.6', '955.75', '956.65', '957.1', '958.1', '958.15', '958.25', '958.45', '959.9', '96.05', '96.1', '96.45', '96.8', '96.85', '961.4', '962.25', '962.9', '963.95', '964.35', '964.9', '966.25', '966.55', '967.85', '967.9', '969.85', '97', '97.1', '97.5', '970.4', '970.45', '970.55', '970.85', '971.3', '973.1', '973.25', '973.35', '973.45', '973.55', '973.65', '973.95', '978', '978.6', '979.05', '979.5', '98.35', '98.5', '980.35', '981.45', '982.95', '985.05', '987.95', '989.05', '989.45', '99.45', '99.6', '99.75', '99.95', '990.3', '990.45', '990.85', '990.9', '992.7', '993.15', '994.55', '994.8', '995.35', '996.45', '996.85', '996.95', '997.65', '997.75', '998.1', '999.45', '999.8', '999.9']\n"
     ]
    }
   ],
   "source": [
    "print(sorted(df['TotalCharges'].unique()))"
   ]
  },
  {
   "cell_type": "markdown",
   "id": "725eb687",
   "metadata": {},
   "source": [
    "В столбце кроме числовых значений присутствует значение ' ', более подробно рассмотрим эти строки"
   ]
  },
  {
   "cell_type": "code",
   "execution_count": 15,
   "id": "cdd51a1b",
   "metadata": {},
   "outputs": [
    {
     "data": {
      "text/html": [
       "<div>\n",
       "<style scoped>\n",
       "    .dataframe tbody tr th:only-of-type {\n",
       "        vertical-align: middle;\n",
       "    }\n",
       "\n",
       "    .dataframe tbody tr th {\n",
       "        vertical-align: top;\n",
       "    }\n",
       "\n",
       "    .dataframe thead th {\n",
       "        text-align: right;\n",
       "    }\n",
       "</style>\n",
       "<table border=\"1\" class=\"dataframe\">\n",
       "  <thead>\n",
       "    <tr style=\"text-align: right;\">\n",
       "      <th></th>\n",
       "      <th>customerID</th>\n",
       "      <th>BeginDate</th>\n",
       "      <th>EndDate</th>\n",
       "      <th>Type</th>\n",
       "      <th>PaperlessBilling</th>\n",
       "      <th>PaymentMethod</th>\n",
       "      <th>MonthlyCharges</th>\n",
       "      <th>TotalCharges</th>\n",
       "      <th>gender</th>\n",
       "      <th>SeniorCitizen</th>\n",
       "      <th>...</th>\n",
       "      <th>InternetService</th>\n",
       "      <th>OnlineSecurity</th>\n",
       "      <th>OnlineBackup</th>\n",
       "      <th>DeviceProtection</th>\n",
       "      <th>TechSupport</th>\n",
       "      <th>StreamingTV</th>\n",
       "      <th>StreamingMovies</th>\n",
       "      <th>internet</th>\n",
       "      <th>MultipleLines</th>\n",
       "      <th>phone</th>\n",
       "    </tr>\n",
       "  </thead>\n",
       "  <tbody>\n",
       "    <tr>\n",
       "      <th>488</th>\n",
       "      <td>4472-LVYGI</td>\n",
       "      <td>2020-02-01</td>\n",
       "      <td>No</td>\n",
       "      <td>Two year</td>\n",
       "      <td>Yes</td>\n",
       "      <td>Bank transfer (automatic)</td>\n",
       "      <td>52.55</td>\n",
       "      <td></td>\n",
       "      <td>Female</td>\n",
       "      <td>0</td>\n",
       "      <td>...</td>\n",
       "      <td>DSL</td>\n",
       "      <td>Yes</td>\n",
       "      <td>No</td>\n",
       "      <td>Yes</td>\n",
       "      <td>Yes</td>\n",
       "      <td>Yes</td>\n",
       "      <td>No</td>\n",
       "      <td>Yes</td>\n",
       "      <td>No</td>\n",
       "      <td>No</td>\n",
       "    </tr>\n",
       "    <tr>\n",
       "      <th>753</th>\n",
       "      <td>3115-CZMZD</td>\n",
       "      <td>2020-02-01</td>\n",
       "      <td>No</td>\n",
       "      <td>Two year</td>\n",
       "      <td>No</td>\n",
       "      <td>Mailed check</td>\n",
       "      <td>20.25</td>\n",
       "      <td></td>\n",
       "      <td>Male</td>\n",
       "      <td>0</td>\n",
       "      <td>...</td>\n",
       "      <td>No</td>\n",
       "      <td>No</td>\n",
       "      <td>No</td>\n",
       "      <td>No</td>\n",
       "      <td>No</td>\n",
       "      <td>No</td>\n",
       "      <td>No</td>\n",
       "      <td>No</td>\n",
       "      <td>No</td>\n",
       "      <td>Yes</td>\n",
       "    </tr>\n",
       "    <tr>\n",
       "      <th>936</th>\n",
       "      <td>5709-LVOEQ</td>\n",
       "      <td>2020-02-01</td>\n",
       "      <td>No</td>\n",
       "      <td>Two year</td>\n",
       "      <td>No</td>\n",
       "      <td>Mailed check</td>\n",
       "      <td>80.85</td>\n",
       "      <td></td>\n",
       "      <td>Female</td>\n",
       "      <td>0</td>\n",
       "      <td>...</td>\n",
       "      <td>DSL</td>\n",
       "      <td>Yes</td>\n",
       "      <td>Yes</td>\n",
       "      <td>Yes</td>\n",
       "      <td>No</td>\n",
       "      <td>Yes</td>\n",
       "      <td>Yes</td>\n",
       "      <td>Yes</td>\n",
       "      <td>No</td>\n",
       "      <td>Yes</td>\n",
       "    </tr>\n",
       "    <tr>\n",
       "      <th>1082</th>\n",
       "      <td>4367-NUYAO</td>\n",
       "      <td>2020-02-01</td>\n",
       "      <td>No</td>\n",
       "      <td>Two year</td>\n",
       "      <td>No</td>\n",
       "      <td>Mailed check</td>\n",
       "      <td>25.75</td>\n",
       "      <td></td>\n",
       "      <td>Male</td>\n",
       "      <td>0</td>\n",
       "      <td>...</td>\n",
       "      <td>No</td>\n",
       "      <td>No</td>\n",
       "      <td>No</td>\n",
       "      <td>No</td>\n",
       "      <td>No</td>\n",
       "      <td>No</td>\n",
       "      <td>No</td>\n",
       "      <td>No</td>\n",
       "      <td>Yes</td>\n",
       "      <td>Yes</td>\n",
       "    </tr>\n",
       "    <tr>\n",
       "      <th>1340</th>\n",
       "      <td>1371-DWPAZ</td>\n",
       "      <td>2020-02-01</td>\n",
       "      <td>No</td>\n",
       "      <td>Two year</td>\n",
       "      <td>No</td>\n",
       "      <td>Credit card (automatic)</td>\n",
       "      <td>56.05</td>\n",
       "      <td></td>\n",
       "      <td>Female</td>\n",
       "      <td>0</td>\n",
       "      <td>...</td>\n",
       "      <td>DSL</td>\n",
       "      <td>Yes</td>\n",
       "      <td>Yes</td>\n",
       "      <td>Yes</td>\n",
       "      <td>Yes</td>\n",
       "      <td>Yes</td>\n",
       "      <td>No</td>\n",
       "      <td>Yes</td>\n",
       "      <td>No</td>\n",
       "      <td>No</td>\n",
       "    </tr>\n",
       "    <tr>\n",
       "      <th>3331</th>\n",
       "      <td>7644-OMVMY</td>\n",
       "      <td>2020-02-01</td>\n",
       "      <td>No</td>\n",
       "      <td>Two year</td>\n",
       "      <td>No</td>\n",
       "      <td>Mailed check</td>\n",
       "      <td>19.85</td>\n",
       "      <td></td>\n",
       "      <td>Male</td>\n",
       "      <td>0</td>\n",
       "      <td>...</td>\n",
       "      <td>No</td>\n",
       "      <td>No</td>\n",
       "      <td>No</td>\n",
       "      <td>No</td>\n",
       "      <td>No</td>\n",
       "      <td>No</td>\n",
       "      <td>No</td>\n",
       "      <td>No</td>\n",
       "      <td>No</td>\n",
       "      <td>Yes</td>\n",
       "    </tr>\n",
       "    <tr>\n",
       "      <th>3826</th>\n",
       "      <td>3213-VVOLG</td>\n",
       "      <td>2020-02-01</td>\n",
       "      <td>No</td>\n",
       "      <td>Two year</td>\n",
       "      <td>No</td>\n",
       "      <td>Mailed check</td>\n",
       "      <td>25.35</td>\n",
       "      <td></td>\n",
       "      <td>Male</td>\n",
       "      <td>0</td>\n",
       "      <td>...</td>\n",
       "      <td>No</td>\n",
       "      <td>No</td>\n",
       "      <td>No</td>\n",
       "      <td>No</td>\n",
       "      <td>No</td>\n",
       "      <td>No</td>\n",
       "      <td>No</td>\n",
       "      <td>No</td>\n",
       "      <td>Yes</td>\n",
       "      <td>Yes</td>\n",
       "    </tr>\n",
       "    <tr>\n",
       "      <th>4380</th>\n",
       "      <td>2520-SGTTA</td>\n",
       "      <td>2020-02-01</td>\n",
       "      <td>No</td>\n",
       "      <td>Two year</td>\n",
       "      <td>No</td>\n",
       "      <td>Mailed check</td>\n",
       "      <td>20.00</td>\n",
       "      <td></td>\n",
       "      <td>Female</td>\n",
       "      <td>0</td>\n",
       "      <td>...</td>\n",
       "      <td>No</td>\n",
       "      <td>No</td>\n",
       "      <td>No</td>\n",
       "      <td>No</td>\n",
       "      <td>No</td>\n",
       "      <td>No</td>\n",
       "      <td>No</td>\n",
       "      <td>No</td>\n",
       "      <td>No</td>\n",
       "      <td>Yes</td>\n",
       "    </tr>\n",
       "    <tr>\n",
       "      <th>5218</th>\n",
       "      <td>2923-ARZLG</td>\n",
       "      <td>2020-02-01</td>\n",
       "      <td>No</td>\n",
       "      <td>One year</td>\n",
       "      <td>Yes</td>\n",
       "      <td>Mailed check</td>\n",
       "      <td>19.70</td>\n",
       "      <td></td>\n",
       "      <td>Male</td>\n",
       "      <td>0</td>\n",
       "      <td>...</td>\n",
       "      <td>No</td>\n",
       "      <td>No</td>\n",
       "      <td>No</td>\n",
       "      <td>No</td>\n",
       "      <td>No</td>\n",
       "      <td>No</td>\n",
       "      <td>No</td>\n",
       "      <td>No</td>\n",
       "      <td>No</td>\n",
       "      <td>Yes</td>\n",
       "    </tr>\n",
       "    <tr>\n",
       "      <th>6670</th>\n",
       "      <td>4075-WKNIU</td>\n",
       "      <td>2020-02-01</td>\n",
       "      <td>No</td>\n",
       "      <td>Two year</td>\n",
       "      <td>No</td>\n",
       "      <td>Mailed check</td>\n",
       "      <td>73.35</td>\n",
       "      <td></td>\n",
       "      <td>Female</td>\n",
       "      <td>0</td>\n",
       "      <td>...</td>\n",
       "      <td>DSL</td>\n",
       "      <td>No</td>\n",
       "      <td>Yes</td>\n",
       "      <td>Yes</td>\n",
       "      <td>Yes</td>\n",
       "      <td>Yes</td>\n",
       "      <td>No</td>\n",
       "      <td>Yes</td>\n",
       "      <td>Yes</td>\n",
       "      <td>Yes</td>\n",
       "    </tr>\n",
       "    <tr>\n",
       "      <th>6754</th>\n",
       "      <td>2775-SEFEE</td>\n",
       "      <td>2020-02-01</td>\n",
       "      <td>No</td>\n",
       "      <td>Two year</td>\n",
       "      <td>Yes</td>\n",
       "      <td>Bank transfer (automatic)</td>\n",
       "      <td>61.90</td>\n",
       "      <td></td>\n",
       "      <td>Male</td>\n",
       "      <td>0</td>\n",
       "      <td>...</td>\n",
       "      <td>DSL</td>\n",
       "      <td>Yes</td>\n",
       "      <td>Yes</td>\n",
       "      <td>No</td>\n",
       "      <td>Yes</td>\n",
       "      <td>No</td>\n",
       "      <td>No</td>\n",
       "      <td>Yes</td>\n",
       "      <td>Yes</td>\n",
       "      <td>Yes</td>\n",
       "    </tr>\n",
       "  </tbody>\n",
       "</table>\n",
       "<p>11 rows × 22 columns</p>\n",
       "</div>"
      ],
      "text/plain": [
       "      customerID   BeginDate EndDate      Type PaperlessBilling  \\\n",
       "488   4472-LVYGI  2020-02-01      No  Two year              Yes   \n",
       "753   3115-CZMZD  2020-02-01      No  Two year               No   \n",
       "936   5709-LVOEQ  2020-02-01      No  Two year               No   \n",
       "1082  4367-NUYAO  2020-02-01      No  Two year               No   \n",
       "1340  1371-DWPAZ  2020-02-01      No  Two year               No   \n",
       "3331  7644-OMVMY  2020-02-01      No  Two year               No   \n",
       "3826  3213-VVOLG  2020-02-01      No  Two year               No   \n",
       "4380  2520-SGTTA  2020-02-01      No  Two year               No   \n",
       "5218  2923-ARZLG  2020-02-01      No  One year              Yes   \n",
       "6670  4075-WKNIU  2020-02-01      No  Two year               No   \n",
       "6754  2775-SEFEE  2020-02-01      No  Two year              Yes   \n",
       "\n",
       "                  PaymentMethod  MonthlyCharges TotalCharges  gender  \\\n",
       "488   Bank transfer (automatic)           52.55               Female   \n",
       "753                Mailed check           20.25                 Male   \n",
       "936                Mailed check           80.85               Female   \n",
       "1082               Mailed check           25.75                 Male   \n",
       "1340    Credit card (automatic)           56.05               Female   \n",
       "3331               Mailed check           19.85                 Male   \n",
       "3826               Mailed check           25.35                 Male   \n",
       "4380               Mailed check           20.00               Female   \n",
       "5218               Mailed check           19.70                 Male   \n",
       "6670               Mailed check           73.35               Female   \n",
       "6754  Bank transfer (automatic)           61.90                 Male   \n",
       "\n",
       "      SeniorCitizen  ... InternetService OnlineSecurity OnlineBackup  \\\n",
       "488               0  ...             DSL            Yes           No   \n",
       "753               0  ...              No             No           No   \n",
       "936               0  ...             DSL            Yes          Yes   \n",
       "1082              0  ...              No             No           No   \n",
       "1340              0  ...             DSL            Yes          Yes   \n",
       "3331              0  ...              No             No           No   \n",
       "3826              0  ...              No             No           No   \n",
       "4380              0  ...              No             No           No   \n",
       "5218              0  ...              No             No           No   \n",
       "6670              0  ...             DSL             No          Yes   \n",
       "6754              0  ...             DSL            Yes          Yes   \n",
       "\n",
       "     DeviceProtection TechSupport StreamingTV StreamingMovies internet  \\\n",
       "488               Yes         Yes         Yes              No      Yes   \n",
       "753                No          No          No              No       No   \n",
       "936               Yes          No         Yes             Yes      Yes   \n",
       "1082               No          No          No              No       No   \n",
       "1340              Yes         Yes         Yes              No      Yes   \n",
       "3331               No          No          No              No       No   \n",
       "3826               No          No          No              No       No   \n",
       "4380               No          No          No              No       No   \n",
       "5218               No          No          No              No       No   \n",
       "6670              Yes         Yes         Yes              No      Yes   \n",
       "6754               No         Yes          No              No      Yes   \n",
       "\n",
       "     MultipleLines phone  \n",
       "488             No    No  \n",
       "753             No   Yes  \n",
       "936             No   Yes  \n",
       "1082           Yes   Yes  \n",
       "1340            No    No  \n",
       "3331            No   Yes  \n",
       "3826           Yes   Yes  \n",
       "4380            No   Yes  \n",
       "5218            No   Yes  \n",
       "6670           Yes   Yes  \n",
       "6754           Yes   Yes  \n",
       "\n",
       "[11 rows x 22 columns]"
      ]
     },
     "execution_count": 15,
     "metadata": {},
     "output_type": "execute_result"
    }
   ],
   "source": [
    "df.loc[df['TotalCharges'] == ' ']"
   ]
  },
  {
   "cell_type": "markdown",
   "id": "27b38aa4",
   "metadata": {},
   "source": [
    "У всех 11 абонентов дата подключение 01.02.2020, т.е. последняя дата датасета. Соотвественно в данном столбце у абонентов пока нет общей суммы. Т.е. никакой статистической информации у этих абонентов пока нет, удалим данные строки"
   ]
  },
  {
   "cell_type": "code",
   "execution_count": 16,
   "id": "56d1345f",
   "metadata": {},
   "outputs": [],
   "source": [
    "df = df[df.TotalCharges != ' ']"
   ]
  },
  {
   "cell_type": "markdown",
   "id": "3694becc",
   "metadata": {},
   "source": [
    "Поменяем тип данных в столбцах TotalCharges и BeginDate"
   ]
  },
  {
   "cell_type": "code",
   "execution_count": 17,
   "id": "adb9cca2",
   "metadata": {},
   "outputs": [],
   "source": [
    "df['TotalCharges'] = df['TotalCharges'].astype('float')"
   ]
  },
  {
   "cell_type": "code",
   "execution_count": 18,
   "id": "e1bac513",
   "metadata": {},
   "outputs": [
    {
     "name": "stdout",
     "output_type": "stream",
     "text": [
      "<class 'pandas.core.frame.DataFrame'>\n",
      "Int64Index: 7032 entries, 0 to 7042\n",
      "Data columns (total 22 columns):\n",
      " #   Column            Non-Null Count  Dtype  \n",
      "---  ------            --------------  -----  \n",
      " 0   customerID        7032 non-null   object \n",
      " 1   BeginDate         7032 non-null   object \n",
      " 2   EndDate           7032 non-null   object \n",
      " 3   Type              7032 non-null   object \n",
      " 4   PaperlessBilling  7032 non-null   object \n",
      " 5   PaymentMethod     7032 non-null   object \n",
      " 6   MonthlyCharges    7032 non-null   float64\n",
      " 7   TotalCharges      7032 non-null   float64\n",
      " 8   gender            7032 non-null   object \n",
      " 9   SeniorCitizen     7032 non-null   int64  \n",
      " 10  Partner           7032 non-null   object \n",
      " 11  Dependents        7032 non-null   object \n",
      " 12  InternetService   7032 non-null   object \n",
      " 13  OnlineSecurity    7032 non-null   object \n",
      " 14  OnlineBackup      7032 non-null   object \n",
      " 15  DeviceProtection  7032 non-null   object \n",
      " 16  TechSupport       7032 non-null   object \n",
      " 17  StreamingTV       7032 non-null   object \n",
      " 18  StreamingMovies   7032 non-null   object \n",
      " 19  internet          7032 non-null   object \n",
      " 20  MultipleLines     7032 non-null   object \n",
      " 21  phone             7032 non-null   object \n",
      "dtypes: float64(2), int64(1), object(19)\n",
      "memory usage: 1.2+ MB\n"
     ]
    }
   ],
   "source": [
    "# Проверяем\n",
    "df.info()"
   ]
  },
  {
   "cell_type": "code",
   "execution_count": 19,
   "id": "f09fea9e",
   "metadata": {},
   "outputs": [],
   "source": [
    "# Изменим тип данных в столбце BeginDate на datetime\n",
    "df['BeginDate'] = pd.to_datetime(df['BeginDate'])"
   ]
  },
  {
   "cell_type": "code",
   "execution_count": 20,
   "id": "ab08f11c",
   "metadata": {},
   "outputs": [
    {
     "name": "stdout",
     "output_type": "stream",
     "text": [
      "<class 'pandas.core.frame.DataFrame'>\n",
      "Int64Index: 7032 entries, 0 to 7042\n",
      "Data columns (total 22 columns):\n",
      " #   Column            Non-Null Count  Dtype         \n",
      "---  ------            --------------  -----         \n",
      " 0   customerID        7032 non-null   object        \n",
      " 1   BeginDate         7032 non-null   datetime64[ns]\n",
      " 2   EndDate           7032 non-null   object        \n",
      " 3   Type              7032 non-null   object        \n",
      " 4   PaperlessBilling  7032 non-null   object        \n",
      " 5   PaymentMethod     7032 non-null   object        \n",
      " 6   MonthlyCharges    7032 non-null   float64       \n",
      " 7   TotalCharges      7032 non-null   float64       \n",
      " 8   gender            7032 non-null   object        \n",
      " 9   SeniorCitizen     7032 non-null   int64         \n",
      " 10  Partner           7032 non-null   object        \n",
      " 11  Dependents        7032 non-null   object        \n",
      " 12  InternetService   7032 non-null   object        \n",
      " 13  OnlineSecurity    7032 non-null   object        \n",
      " 14  OnlineBackup      7032 non-null   object        \n",
      " 15  DeviceProtection  7032 non-null   object        \n",
      " 16  TechSupport       7032 non-null   object        \n",
      " 17  StreamingTV       7032 non-null   object        \n",
      " 18  StreamingMovies   7032 non-null   object        \n",
      " 19  internet          7032 non-null   object        \n",
      " 20  MultipleLines     7032 non-null   object        \n",
      " 21  phone             7032 non-null   object        \n",
      "dtypes: datetime64[ns](1), float64(2), int64(1), object(18)\n",
      "memory usage: 1.2+ MB\n"
     ]
    }
   ],
   "source": [
    "df.info()"
   ]
  },
  {
   "cell_type": "markdown",
   "id": "75a31a01",
   "metadata": {},
   "source": [
    "Сравним ушедших и оставшихся клиентов, для этого разделим исходный датасет на две части"
   ]
  },
  {
   "cell_type": "code",
   "execution_count": 21,
   "id": "5c16cb5f",
   "metadata": {},
   "outputs": [],
   "source": [
    "gone = df.loc[df['EndDate'] != 'No']\n",
    "stayed = df.loc[df['EndDate'] == 'No']"
   ]
  },
  {
   "cell_type": "markdown",
   "id": "a24a49e0",
   "metadata": {},
   "source": [
    "Для датасета с ушедшими клентами в столбце EndDate есть все данные, поэтому изменим тип столбца EndDate на datetime и вычислим время, которое абонент пользовался услугами компании."
   ]
  },
  {
   "cell_type": "code",
   "execution_count": 22,
   "id": "74b8ed75",
   "metadata": {},
   "outputs": [],
   "source": [
    "gone['EndDate'] = pd.to_datetime(gone['EndDate'])"
   ]
  },
  {
   "cell_type": "code",
   "execution_count": 23,
   "id": "51de946a",
   "metadata": {},
   "outputs": [],
   "source": [
    "# Вычислим время которое абонент пользовался услугами компании\n",
    "gone['togethet'] = round((gone['EndDate'] - gone['BeginDate'])/np.timedelta64(1, 'D'))"
   ]
  },
  {
   "cell_type": "markdown",
   "id": "7e45b1ac",
   "metadata": {},
   "source": [
    "Посмотрим статистическую информацию по датасетам отдельно по ушедшим клиентами и по всем данным"
   ]
  },
  {
   "cell_type": "code",
   "execution_count": 24,
   "id": "5b28ecff",
   "metadata": {},
   "outputs": [
    {
     "data": {
      "text/plain": [
       "count    1869.000000\n",
       "mean       74.441332\n",
       "std        24.666053\n",
       "min        18.850000\n",
       "25%        56.150000\n",
       "50%        79.650000\n",
       "75%        94.200000\n",
       "max       118.350000\n",
       "Name: MonthlyCharges, dtype: float64"
      ]
     },
     "execution_count": 24,
     "metadata": {},
     "output_type": "execute_result"
    }
   ],
   "source": [
    "# Посмотрим статистическую информацию по датасету с ушедшими клиентами\n",
    "gone['MonthlyCharges'].describe()"
   ]
  },
  {
   "cell_type": "code",
   "execution_count": 25,
   "id": "57fc3b99",
   "metadata": {},
   "outputs": [
    {
     "data": {
      "text/plain": [
       "count    7032.000000\n",
       "mean       64.798208\n",
       "std        30.085974\n",
       "min        18.250000\n",
       "25%        35.587500\n",
       "50%        70.350000\n",
       "75%        89.862500\n",
       "max       118.750000\n",
       "Name: MonthlyCharges, dtype: float64"
      ]
     },
     "execution_count": 25,
     "metadata": {},
     "output_type": "execute_result"
    }
   ],
   "source": [
    "# Посмотрим статистическую информацию по всем данным\n",
    "df['MonthlyCharges'].describe()"
   ]
  },
  {
   "cell_type": "code",
   "execution_count": 26,
   "id": "f6176aec",
   "metadata": {},
   "outputs": [
    {
     "data": {
      "image/png": "[encoded data removed]",
      "text/plain": [
       "<Figure size 1224x432 with 1 Axes>"
      ]
     },
     "metadata": {
      "needs_background": "light"
     },
     "output_type": "display_data"
    }
   ],
   "source": [
    "# Чтобы оценить построим график\n",
    "fig = plt.figure(figsize=(17,6))\n",
    "sns.distplot(gone['MonthlyCharges'])\n",
    "sns.distplot(df['MonthlyCharges'])\n",
    "plt.title('Сравнение распределений ежемесячных платежей ушедших и всех клиентов', fontsize=22)\n",
    "plt.xlabel('Сумма')\n",
    "plt.legend(labels=['Ушли','Все'])\n",
    "plt.show()"
   ]
  },
  {
   "cell_type": "markdown",
   "id": "1aa8a6a6",
   "metadata": {},
   "source": [
    "Мы видим, что чаще уходят клиенты у которых ежемесячные траты выше. Полимодальное распределение с тремя модами позволяет предположить, что есть три базовых тарифа. Клиенты тратящие больше уходят чаще. Если тариф стоит дороже, можно преположить, что  в нем предусмотрены какие-то дополнительные услуги, которых нет в других тарифах и возможно клиенты будут и дальше пользоваться услугами компании, если им предложить перейти на другой тариф."
   ]
  },
  {
   "cell_type": "code",
   "execution_count": 27,
   "id": "0bf23eda",
   "metadata": {},
   "outputs": [
    {
     "data": {
      "text/plain": [
       "count    1869.000000\n",
       "mean      547.352060\n",
       "std       594.389607\n",
       "min        30.000000\n",
       "25%        61.000000\n",
       "50%       304.000000\n",
       "75%       883.000000\n",
       "max      2191.000000\n",
       "Name: togethet, dtype: float64"
      ]
     },
     "execution_count": 27,
     "metadata": {},
     "output_type": "execute_result"
    }
   ],
   "source": [
    "gone['togethet'].describe()"
   ]
  },
  {
   "cell_type": "code",
   "execution_count": 28,
   "id": "0a269d9e",
   "metadata": {},
   "outputs": [
    {
     "data": {
      "image/png": "[encoded data removed]",
      "text/plain": [
       "<Figure size 1224x432 with 1 Axes>"
      ]
     },
     "metadata": {
      "needs_background": "light"
     },
     "output_type": "display_data"
    }
   ],
   "source": [
    "# Чтобы оценить построим график\n",
    "fig = plt.figure(figsize=(17,6))\n",
    "sns.distplot(gone['togethet'])\n",
    "plt.title('Время пользования клиентами услугами компании', fontsize=22)\n",
    "plt.xlabel('Время в днях')\n",
    "plt.show()"
   ]
  },
  {
   "cell_type": "markdown",
   "id": "0bae748d",
   "metadata": {},
   "source": [
    "Четверть уходящих клиентов, уходит в первый месяц, половина в первые 10 месяцев."
   ]
  },
  {
   "cell_type": "markdown",
   "id": "5cad1b58",
   "metadata": {},
   "source": [
    "В дальнейшем нам не нужны номера клиентов, поэтому удалим их"
   ]
  },
  {
   "cell_type": "code",
   "execution_count": 29,
   "id": "8694b0f8",
   "metadata": {},
   "outputs": [],
   "source": [
    "df = df.drop(columns='customerID')"
   ]
  },
  {
   "cell_type": "markdown",
   "id": "d8361b43",
   "metadata": {},
   "source": [
    "Так как нам нужно предсказать, уйдет клиент(признак 0) или нет (признак 1), создадим бинарный целевой признак в поле left"
   ]
  },
  {
   "cell_type": "code",
   "execution_count": 30,
   "id": "df7ec605",
   "metadata": {},
   "outputs": [],
   "source": [
    "df.loc[df['EndDate'] != 'No', 'left'] = 1\n",
    "df.loc[df['EndDate'] == 'No', 'left'] = 0\n",
    "# Изменим тип данных на целый\n",
    "df['left'] = df['left'].astype(int)"
   ]
  },
  {
   "cell_type": "markdown",
   "id": "bdf5ccb3",
   "metadata": {},
   "source": [
    "Если в поле EndDate стоит No, т.е. клиент еще пользуется услугами компании, дату окончания сотрудничества меняем на дату выгрузки датасета 01.02.2020. Меняем тип данных в данном поле на дату и высчитываем время пользования клиентом услугами компании. Далее столбцы BeginDate и EndDate больше не нужны удаляем эти столбцы. "
   ]
  },
  {
   "cell_type": "code",
   "execution_count": 31,
   "id": "e4b93a67",
   "metadata": {},
   "outputs": [],
   "source": [
    "df.loc[df['EndDate'] == 'No', 'EndDate'] = '2020-02-01'\n",
    "df['EndDate'] = pd.to_datetime(df['EndDate'])\n",
    "df['togethet'] = round((df['EndDate'] - df['BeginDate'])/np.timedelta64(1, 'D')).astype(int)\n",
    "df = df.drop(columns=['EndDate', 'BeginDate'])"
   ]
  },
  {
   "cell_type": "code",
   "execution_count": 34,
   "id": "0c0690dd",
   "metadata": {},
   "outputs": [
    {
     "data": {
      "text/html": [
       "<div>\n",
       "<style scoped>\n",
       "    .dataframe tbody tr th:only-of-type {\n",
       "        vertical-align: middle;\n",
       "    }\n",
       "\n",
       "    .dataframe tbody tr th {\n",
       "        vertical-align: top;\n",
       "    }\n",
       "\n",
       "    .dataframe thead th {\n",
       "        text-align: right;\n",
       "    }\n",
       "</style>\n",
       "<table border=\"1\" class=\"dataframe\">\n",
       "  <thead>\n",
       "    <tr style=\"text-align: right;\">\n",
       "      <th></th>\n",
       "      <th>Type</th>\n",
       "      <th>PaperlessBilling</th>\n",
       "      <th>PaymentMethod</th>\n",
       "      <th>MonthlyCharges</th>\n",
       "      <th>TotalCharges</th>\n",
       "      <th>gender</th>\n",
       "      <th>SeniorCitizen</th>\n",
       "      <th>Partner</th>\n",
       "      <th>Dependents</th>\n",
       "      <th>InternetService</th>\n",
       "      <th>OnlineSecurity</th>\n",
       "      <th>OnlineBackup</th>\n",
       "      <th>DeviceProtection</th>\n",
       "      <th>TechSupport</th>\n",
       "      <th>StreamingTV</th>\n",
       "      <th>StreamingMovies</th>\n",
       "      <th>internet</th>\n",
       "      <th>MultipleLines</th>\n",
       "      <th>phone</th>\n",
       "      <th>left</th>\n",
       "      <th>togethet</th>\n",
       "    </tr>\n",
       "  </thead>\n",
       "  <tbody>\n",
       "    <tr>\n",
       "      <th>count</th>\n",
       "      <td>7032</td>\n",
       "      <td>7032</td>\n",
       "      <td>7032</td>\n",
       "      <td>7032.000000</td>\n",
       "      <td>7032.000000</td>\n",
       "      <td>7032</td>\n",
       "      <td>7032.000000</td>\n",
       "      <td>7032</td>\n",
       "      <td>7032</td>\n",
       "      <td>7032</td>\n",
       "      <td>7032</td>\n",
       "      <td>7032</td>\n",
       "      <td>7032</td>\n",
       "      <td>7032</td>\n",
       "      <td>7032</td>\n",
       "      <td>7032</td>\n",
       "      <td>7032</td>\n",
       "      <td>7032</td>\n",
       "      <td>7032</td>\n",
       "      <td>7032.000000</td>\n",
       "      <td>7032.000000</td>\n",
       "    </tr>\n",
       "    <tr>\n",
       "      <th>unique</th>\n",
       "      <td>3</td>\n",
       "      <td>2</td>\n",
       "      <td>4</td>\n",
       "      <td>NaN</td>\n",
       "      <td>NaN</td>\n",
       "      <td>2</td>\n",
       "      <td>NaN</td>\n",
       "      <td>2</td>\n",
       "      <td>2</td>\n",
       "      <td>3</td>\n",
       "      <td>2</td>\n",
       "      <td>2</td>\n",
       "      <td>2</td>\n",
       "      <td>2</td>\n",
       "      <td>2</td>\n",
       "      <td>2</td>\n",
       "      <td>2</td>\n",
       "      <td>2</td>\n",
       "      <td>2</td>\n",
       "      <td>NaN</td>\n",
       "      <td>NaN</td>\n",
       "    </tr>\n",
       "    <tr>\n",
       "      <th>top</th>\n",
       "      <td>Month-to-month</td>\n",
       "      <td>Yes</td>\n",
       "      <td>Electronic check</td>\n",
       "      <td>NaN</td>\n",
       "      <td>NaN</td>\n",
       "      <td>Male</td>\n",
       "      <td>NaN</td>\n",
       "      <td>No</td>\n",
       "      <td>No</td>\n",
       "      <td>Fiber optic</td>\n",
       "      <td>No</td>\n",
       "      <td>No</td>\n",
       "      <td>No</td>\n",
       "      <td>No</td>\n",
       "      <td>No</td>\n",
       "      <td>No</td>\n",
       "      <td>Yes</td>\n",
       "      <td>No</td>\n",
       "      <td>Yes</td>\n",
       "      <td>NaN</td>\n",
       "      <td>NaN</td>\n",
       "    </tr>\n",
       "    <tr>\n",
       "      <th>freq</th>\n",
       "      <td>3875</td>\n",
       "      <td>4168</td>\n",
       "      <td>2365</td>\n",
       "      <td>NaN</td>\n",
       "      <td>NaN</td>\n",
       "      <td>3549</td>\n",
       "      <td>NaN</td>\n",
       "      <td>3639</td>\n",
       "      <td>4933</td>\n",
       "      <td>3096</td>\n",
       "      <td>5017</td>\n",
       "      <td>4607</td>\n",
       "      <td>4614</td>\n",
       "      <td>4992</td>\n",
       "      <td>4329</td>\n",
       "      <td>4301</td>\n",
       "      <td>5512</td>\n",
       "      <td>4065</td>\n",
       "      <td>6352</td>\n",
       "      <td>NaN</td>\n",
       "      <td>NaN</td>\n",
       "    </tr>\n",
       "    <tr>\n",
       "      <th>mean</th>\n",
       "      <td>NaN</td>\n",
       "      <td>NaN</td>\n",
       "      <td>NaN</td>\n",
       "      <td>64.798208</td>\n",
       "      <td>2283.300441</td>\n",
       "      <td>NaN</td>\n",
       "      <td>0.162400</td>\n",
       "      <td>NaN</td>\n",
       "      <td>NaN</td>\n",
       "      <td>NaN</td>\n",
       "      <td>NaN</td>\n",
       "      <td>NaN</td>\n",
       "      <td>NaN</td>\n",
       "      <td>NaN</td>\n",
       "      <td>NaN</td>\n",
       "      <td>NaN</td>\n",
       "      <td>NaN</td>\n",
       "      <td>NaN</td>\n",
       "      <td>NaN</td>\n",
       "      <td>0.265785</td>\n",
       "      <td>987.538538</td>\n",
       "    </tr>\n",
       "    <tr>\n",
       "      <th>std</th>\n",
       "      <td>NaN</td>\n",
       "      <td>NaN</td>\n",
       "      <td>NaN</td>\n",
       "      <td>30.085974</td>\n",
       "      <td>2266.771362</td>\n",
       "      <td>NaN</td>\n",
       "      <td>0.368844</td>\n",
       "      <td>NaN</td>\n",
       "      <td>NaN</td>\n",
       "      <td>NaN</td>\n",
       "      <td>NaN</td>\n",
       "      <td>NaN</td>\n",
       "      <td>NaN</td>\n",
       "      <td>NaN</td>\n",
       "      <td>NaN</td>\n",
       "      <td>NaN</td>\n",
       "      <td>NaN</td>\n",
       "      <td>NaN</td>\n",
       "      <td>NaN</td>\n",
       "      <td>0.441782</td>\n",
       "      <td>747.153663</td>\n",
       "    </tr>\n",
       "    <tr>\n",
       "      <th>min</th>\n",
       "      <td>NaN</td>\n",
       "      <td>NaN</td>\n",
       "      <td>NaN</td>\n",
       "      <td>18.250000</td>\n",
       "      <td>18.800000</td>\n",
       "      <td>NaN</td>\n",
       "      <td>0.000000</td>\n",
       "      <td>NaN</td>\n",
       "      <td>NaN</td>\n",
       "      <td>NaN</td>\n",
       "      <td>NaN</td>\n",
       "      <td>NaN</td>\n",
       "      <td>NaN</td>\n",
       "      <td>NaN</td>\n",
       "      <td>NaN</td>\n",
       "      <td>NaN</td>\n",
       "      <td>NaN</td>\n",
       "      <td>NaN</td>\n",
       "      <td>NaN</td>\n",
       "      <td>0.000000</td>\n",
       "      <td>30.000000</td>\n",
       "    </tr>\n",
       "    <tr>\n",
       "      <th>25%</th>\n",
       "      <td>NaN</td>\n",
       "      <td>NaN</td>\n",
       "      <td>NaN</td>\n",
       "      <td>35.587500</td>\n",
       "      <td>401.450000</td>\n",
       "      <td>NaN</td>\n",
       "      <td>0.000000</td>\n",
       "      <td>NaN</td>\n",
       "      <td>NaN</td>\n",
       "      <td>NaN</td>\n",
       "      <td>NaN</td>\n",
       "      <td>NaN</td>\n",
       "      <td>NaN</td>\n",
       "      <td>NaN</td>\n",
       "      <td>NaN</td>\n",
       "      <td>NaN</td>\n",
       "      <td>NaN</td>\n",
       "      <td>NaN</td>\n",
       "      <td>NaN</td>\n",
       "      <td>0.000000</td>\n",
       "      <td>275.000000</td>\n",
       "    </tr>\n",
       "    <tr>\n",
       "      <th>50%</th>\n",
       "      <td>NaN</td>\n",
       "      <td>NaN</td>\n",
       "      <td>NaN</td>\n",
       "      <td>70.350000</td>\n",
       "      <td>1397.475000</td>\n",
       "      <td>NaN</td>\n",
       "      <td>0.000000</td>\n",
       "      <td>NaN</td>\n",
       "      <td>NaN</td>\n",
       "      <td>NaN</td>\n",
       "      <td>NaN</td>\n",
       "      <td>NaN</td>\n",
       "      <td>NaN</td>\n",
       "      <td>NaN</td>\n",
       "      <td>NaN</td>\n",
       "      <td>NaN</td>\n",
       "      <td>NaN</td>\n",
       "      <td>NaN</td>\n",
       "      <td>NaN</td>\n",
       "      <td>0.000000</td>\n",
       "      <td>883.000000</td>\n",
       "    </tr>\n",
       "    <tr>\n",
       "      <th>75%</th>\n",
       "      <td>NaN</td>\n",
       "      <td>NaN</td>\n",
       "      <td>NaN</td>\n",
       "      <td>89.862500</td>\n",
       "      <td>3794.737500</td>\n",
       "      <td>NaN</td>\n",
       "      <td>0.000000</td>\n",
       "      <td>NaN</td>\n",
       "      <td>NaN</td>\n",
       "      <td>NaN</td>\n",
       "      <td>NaN</td>\n",
       "      <td>NaN</td>\n",
       "      <td>NaN</td>\n",
       "      <td>NaN</td>\n",
       "      <td>NaN</td>\n",
       "      <td>NaN</td>\n",
       "      <td>NaN</td>\n",
       "      <td>NaN</td>\n",
       "      <td>NaN</td>\n",
       "      <td>1.000000</td>\n",
       "      <td>1676.000000</td>\n",
       "    </tr>\n",
       "    <tr>\n",
       "      <th>max</th>\n",
       "      <td>NaN</td>\n",
       "      <td>NaN</td>\n",
       "      <td>NaN</td>\n",
       "      <td>118.750000</td>\n",
       "      <td>8684.800000</td>\n",
       "      <td>NaN</td>\n",
       "      <td>1.000000</td>\n",
       "      <td>NaN</td>\n",
       "      <td>NaN</td>\n",
       "      <td>NaN</td>\n",
       "      <td>NaN</td>\n",
       "      <td>NaN</td>\n",
       "      <td>NaN</td>\n",
       "      <td>NaN</td>\n",
       "      <td>NaN</td>\n",
       "      <td>NaN</td>\n",
       "      <td>NaN</td>\n",
       "      <td>NaN</td>\n",
       "      <td>NaN</td>\n",
       "      <td>1.000000</td>\n",
       "      <td>2191.000000</td>\n",
       "    </tr>\n",
       "  </tbody>\n",
       "</table>\n",
       "</div>"
      ],
      "text/plain": [
       "                  Type PaperlessBilling     PaymentMethod  MonthlyCharges  \\\n",
       "count             7032             7032              7032     7032.000000   \n",
       "unique               3                2                 4             NaN   \n",
       "top     Month-to-month              Yes  Electronic check             NaN   \n",
       "freq              3875             4168              2365             NaN   \n",
       "mean               NaN              NaN               NaN       64.798208   \n",
       "std                NaN              NaN               NaN       30.085974   \n",
       "min                NaN              NaN               NaN       18.250000   \n",
       "25%                NaN              NaN               NaN       35.587500   \n",
       "50%                NaN              NaN               NaN       70.350000   \n",
       "75%                NaN              NaN               NaN       89.862500   \n",
       "max                NaN              NaN               NaN      118.750000   \n",
       "\n",
       "        TotalCharges gender  SeniorCitizen Partner Dependents InternetService  \\\n",
       "count    7032.000000   7032    7032.000000    7032       7032            7032   \n",
       "unique           NaN      2            NaN       2          2               3   \n",
       "top              NaN   Male            NaN      No         No     Fiber optic   \n",
       "freq             NaN   3549            NaN    3639       4933            3096   \n",
       "mean     2283.300441    NaN       0.162400     NaN        NaN             NaN   \n",
       "std      2266.771362    NaN       0.368844     NaN        NaN             NaN   \n",
       "min        18.800000    NaN       0.000000     NaN        NaN             NaN   \n",
       "25%       401.450000    NaN       0.000000     NaN        NaN             NaN   \n",
       "50%      1397.475000    NaN       0.000000     NaN        NaN             NaN   \n",
       "75%      3794.737500    NaN       0.000000     NaN        NaN             NaN   \n",
       "max      8684.800000    NaN       1.000000     NaN        NaN             NaN   \n",
       "\n",
       "       OnlineSecurity OnlineBackup DeviceProtection TechSupport StreamingTV  \\\n",
       "count            7032         7032             7032        7032        7032   \n",
       "unique              2            2                2           2           2   \n",
       "top                No           No               No          No          No   \n",
       "freq             5017         4607             4614        4992        4329   \n",
       "mean              NaN          NaN              NaN         NaN         NaN   \n",
       "std               NaN          NaN              NaN         NaN         NaN   \n",
       "min               NaN          NaN              NaN         NaN         NaN   \n",
       "25%               NaN          NaN              NaN         NaN         NaN   \n",
       "50%               NaN          NaN              NaN         NaN         NaN   \n",
       "75%               NaN          NaN              NaN         NaN         NaN   \n",
       "max               NaN          NaN              NaN         NaN         NaN   \n",
       "\n",
       "       StreamingMovies internet MultipleLines phone         left     togethet  \n",
       "count             7032     7032          7032  7032  7032.000000  7032.000000  \n",
       "unique               2        2             2     2          NaN          NaN  \n",
       "top                 No      Yes            No   Yes          NaN          NaN  \n",
       "freq              4301     5512          4065  6352          NaN          NaN  \n",
       "mean               NaN      NaN           NaN   NaN     0.265785   987.538538  \n",
       "std                NaN      NaN           NaN   NaN     0.441782   747.153663  \n",
       "min                NaN      NaN           NaN   NaN     0.000000    30.000000  \n",
       "25%                NaN      NaN           NaN   NaN     0.000000   275.000000  \n",
       "50%                NaN      NaN           NaN   NaN     0.000000   883.000000  \n",
       "75%                NaN      NaN           NaN   NaN     1.000000  1676.000000  \n",
       "max                NaN      NaN           NaN   NaN     1.000000  2191.000000  "
      ]
     },
     "execution_count": 34,
     "metadata": {},
     "output_type": "execute_result"
    }
   ],
   "source": [
    "# Посмотрим общую информацию по датасету\n",
    "pd.set_option('max_columns', df.columns.size)\n",
    "df.describe(include='all')"
   ]
  },
  {
   "cell_type": "code",
   "execution_count": 35,
   "id": "22a7ff7e",
   "metadata": {},
   "outputs": [
    {
     "data": {
      "text/html": [
       "<div>\n",
       "<style scoped>\n",
       "    .dataframe tbody tr th:only-of-type {\n",
       "        vertical-align: middle;\n",
       "    }\n",
       "\n",
       "    .dataframe tbody tr th {\n",
       "        vertical-align: top;\n",
       "    }\n",
       "\n",
       "    .dataframe thead th {\n",
       "        text-align: right;\n",
       "    }\n",
       "</style>\n",
       "<table border=\"1\" class=\"dataframe\">\n",
       "  <thead>\n",
       "    <tr style=\"text-align: right;\">\n",
       "      <th></th>\n",
       "      <th>Type</th>\n",
       "      <th>PaperlessBilling</th>\n",
       "      <th>PaymentMethod</th>\n",
       "      <th>MonthlyCharges</th>\n",
       "      <th>TotalCharges</th>\n",
       "      <th>gender</th>\n",
       "      <th>SeniorCitizen</th>\n",
       "      <th>Partner</th>\n",
       "      <th>Dependents</th>\n",
       "      <th>InternetService</th>\n",
       "      <th>OnlineSecurity</th>\n",
       "      <th>OnlineBackup</th>\n",
       "      <th>DeviceProtection</th>\n",
       "      <th>TechSupport</th>\n",
       "      <th>StreamingTV</th>\n",
       "      <th>StreamingMovies</th>\n",
       "      <th>internet</th>\n",
       "      <th>MultipleLines</th>\n",
       "      <th>phone</th>\n",
       "      <th>left</th>\n",
       "      <th>togethet</th>\n",
       "    </tr>\n",
       "  </thead>\n",
       "  <tbody>\n",
       "    <tr>\n",
       "      <th>0</th>\n",
       "      <td>Month-to-month</td>\n",
       "      <td>Yes</td>\n",
       "      <td>Electronic check</td>\n",
       "      <td>29.85</td>\n",
       "      <td>29.85</td>\n",
       "      <td>Female</td>\n",
       "      <td>0</td>\n",
       "      <td>Yes</td>\n",
       "      <td>No</td>\n",
       "      <td>DSL</td>\n",
       "      <td>No</td>\n",
       "      <td>Yes</td>\n",
       "      <td>No</td>\n",
       "      <td>No</td>\n",
       "      <td>No</td>\n",
       "      <td>No</td>\n",
       "      <td>Yes</td>\n",
       "      <td>No</td>\n",
       "      <td>No</td>\n",
       "      <td>0</td>\n",
       "      <td>31</td>\n",
       "    </tr>\n",
       "    <tr>\n",
       "      <th>1</th>\n",
       "      <td>One year</td>\n",
       "      <td>No</td>\n",
       "      <td>Mailed check</td>\n",
       "      <td>56.95</td>\n",
       "      <td>1889.50</td>\n",
       "      <td>Male</td>\n",
       "      <td>0</td>\n",
       "      <td>No</td>\n",
       "      <td>No</td>\n",
       "      <td>DSL</td>\n",
       "      <td>Yes</td>\n",
       "      <td>No</td>\n",
       "      <td>Yes</td>\n",
       "      <td>No</td>\n",
       "      <td>No</td>\n",
       "      <td>No</td>\n",
       "      <td>Yes</td>\n",
       "      <td>No</td>\n",
       "      <td>Yes</td>\n",
       "      <td>0</td>\n",
       "      <td>1036</td>\n",
       "    </tr>\n",
       "    <tr>\n",
       "      <th>2</th>\n",
       "      <td>Month-to-month</td>\n",
       "      <td>Yes</td>\n",
       "      <td>Mailed check</td>\n",
       "      <td>53.85</td>\n",
       "      <td>108.15</td>\n",
       "      <td>Male</td>\n",
       "      <td>0</td>\n",
       "      <td>No</td>\n",
       "      <td>No</td>\n",
       "      <td>DSL</td>\n",
       "      <td>Yes</td>\n",
       "      <td>Yes</td>\n",
       "      <td>No</td>\n",
       "      <td>No</td>\n",
       "      <td>No</td>\n",
       "      <td>No</td>\n",
       "      <td>Yes</td>\n",
       "      <td>No</td>\n",
       "      <td>Yes</td>\n",
       "      <td>1</td>\n",
       "      <td>61</td>\n",
       "    </tr>\n",
       "    <tr>\n",
       "      <th>3</th>\n",
       "      <td>One year</td>\n",
       "      <td>No</td>\n",
       "      <td>Bank transfer (automatic)</td>\n",
       "      <td>42.30</td>\n",
       "      <td>1840.75</td>\n",
       "      <td>Male</td>\n",
       "      <td>0</td>\n",
       "      <td>No</td>\n",
       "      <td>No</td>\n",
       "      <td>DSL</td>\n",
       "      <td>Yes</td>\n",
       "      <td>No</td>\n",
       "      <td>Yes</td>\n",
       "      <td>Yes</td>\n",
       "      <td>No</td>\n",
       "      <td>No</td>\n",
       "      <td>Yes</td>\n",
       "      <td>No</td>\n",
       "      <td>No</td>\n",
       "      <td>0</td>\n",
       "      <td>1371</td>\n",
       "    </tr>\n",
       "    <tr>\n",
       "      <th>4</th>\n",
       "      <td>Month-to-month</td>\n",
       "      <td>Yes</td>\n",
       "      <td>Electronic check</td>\n",
       "      <td>70.70</td>\n",
       "      <td>151.65</td>\n",
       "      <td>Female</td>\n",
       "      <td>0</td>\n",
       "      <td>No</td>\n",
       "      <td>No</td>\n",
       "      <td>Fiber optic</td>\n",
       "      <td>No</td>\n",
       "      <td>No</td>\n",
       "      <td>No</td>\n",
       "      <td>No</td>\n",
       "      <td>No</td>\n",
       "      <td>No</td>\n",
       "      <td>Yes</td>\n",
       "      <td>No</td>\n",
       "      <td>Yes</td>\n",
       "      <td>1</td>\n",
       "      <td>61</td>\n",
       "    </tr>\n",
       "    <tr>\n",
       "      <th>5</th>\n",
       "      <td>Month-to-month</td>\n",
       "      <td>Yes</td>\n",
       "      <td>Electronic check</td>\n",
       "      <td>99.65</td>\n",
       "      <td>820.50</td>\n",
       "      <td>Female</td>\n",
       "      <td>0</td>\n",
       "      <td>No</td>\n",
       "      <td>No</td>\n",
       "      <td>Fiber optic</td>\n",
       "      <td>No</td>\n",
       "      <td>No</td>\n",
       "      <td>Yes</td>\n",
       "      <td>No</td>\n",
       "      <td>Yes</td>\n",
       "      <td>Yes</td>\n",
       "      <td>Yes</td>\n",
       "      <td>Yes</td>\n",
       "      <td>Yes</td>\n",
       "      <td>1</td>\n",
       "      <td>245</td>\n",
       "    </tr>\n",
       "    <tr>\n",
       "      <th>6</th>\n",
       "      <td>Month-to-month</td>\n",
       "      <td>Yes</td>\n",
       "      <td>Credit card (automatic)</td>\n",
       "      <td>89.10</td>\n",
       "      <td>1949.40</td>\n",
       "      <td>Male</td>\n",
       "      <td>0</td>\n",
       "      <td>No</td>\n",
       "      <td>Yes</td>\n",
       "      <td>Fiber optic</td>\n",
       "      <td>No</td>\n",
       "      <td>Yes</td>\n",
       "      <td>No</td>\n",
       "      <td>No</td>\n",
       "      <td>Yes</td>\n",
       "      <td>No</td>\n",
       "      <td>Yes</td>\n",
       "      <td>Yes</td>\n",
       "      <td>Yes</td>\n",
       "      <td>0</td>\n",
       "      <td>671</td>\n",
       "    </tr>\n",
       "    <tr>\n",
       "      <th>7</th>\n",
       "      <td>Month-to-month</td>\n",
       "      <td>No</td>\n",
       "      <td>Mailed check</td>\n",
       "      <td>29.75</td>\n",
       "      <td>301.90</td>\n",
       "      <td>Female</td>\n",
       "      <td>0</td>\n",
       "      <td>No</td>\n",
       "      <td>No</td>\n",
       "      <td>DSL</td>\n",
       "      <td>Yes</td>\n",
       "      <td>No</td>\n",
       "      <td>No</td>\n",
       "      <td>No</td>\n",
       "      <td>No</td>\n",
       "      <td>No</td>\n",
       "      <td>Yes</td>\n",
       "      <td>No</td>\n",
       "      <td>No</td>\n",
       "      <td>0</td>\n",
       "      <td>306</td>\n",
       "    </tr>\n",
       "    <tr>\n",
       "      <th>8</th>\n",
       "      <td>Month-to-month</td>\n",
       "      <td>Yes</td>\n",
       "      <td>Electronic check</td>\n",
       "      <td>104.80</td>\n",
       "      <td>3046.05</td>\n",
       "      <td>Female</td>\n",
       "      <td>0</td>\n",
       "      <td>Yes</td>\n",
       "      <td>No</td>\n",
       "      <td>Fiber optic</td>\n",
       "      <td>No</td>\n",
       "      <td>No</td>\n",
       "      <td>Yes</td>\n",
       "      <td>Yes</td>\n",
       "      <td>Yes</td>\n",
       "      <td>Yes</td>\n",
       "      <td>Yes</td>\n",
       "      <td>Yes</td>\n",
       "      <td>Yes</td>\n",
       "      <td>1</td>\n",
       "      <td>853</td>\n",
       "    </tr>\n",
       "    <tr>\n",
       "      <th>9</th>\n",
       "      <td>One year</td>\n",
       "      <td>No</td>\n",
       "      <td>Bank transfer (automatic)</td>\n",
       "      <td>56.15</td>\n",
       "      <td>3487.95</td>\n",
       "      <td>Male</td>\n",
       "      <td>0</td>\n",
       "      <td>No</td>\n",
       "      <td>Yes</td>\n",
       "      <td>DSL</td>\n",
       "      <td>Yes</td>\n",
       "      <td>Yes</td>\n",
       "      <td>No</td>\n",
       "      <td>No</td>\n",
       "      <td>No</td>\n",
       "      <td>No</td>\n",
       "      <td>Yes</td>\n",
       "      <td>No</td>\n",
       "      <td>Yes</td>\n",
       "      <td>0</td>\n",
       "      <td>1888</td>\n",
       "    </tr>\n",
       "    <tr>\n",
       "      <th>10</th>\n",
       "      <td>Month-to-month</td>\n",
       "      <td>Yes</td>\n",
       "      <td>Mailed check</td>\n",
       "      <td>49.95</td>\n",
       "      <td>587.45</td>\n",
       "      <td>Male</td>\n",
       "      <td>0</td>\n",
       "      <td>Yes</td>\n",
       "      <td>Yes</td>\n",
       "      <td>DSL</td>\n",
       "      <td>Yes</td>\n",
       "      <td>No</td>\n",
       "      <td>No</td>\n",
       "      <td>No</td>\n",
       "      <td>No</td>\n",
       "      <td>No</td>\n",
       "      <td>Yes</td>\n",
       "      <td>No</td>\n",
       "      <td>Yes</td>\n",
       "      <td>0</td>\n",
       "      <td>396</td>\n",
       "    </tr>\n",
       "    <tr>\n",
       "      <th>11</th>\n",
       "      <td>Two year</td>\n",
       "      <td>No</td>\n",
       "      <td>Credit card (automatic)</td>\n",
       "      <td>18.95</td>\n",
       "      <td>326.80</td>\n",
       "      <td>Male</td>\n",
       "      <td>0</td>\n",
       "      <td>No</td>\n",
       "      <td>No</td>\n",
       "      <td>No</td>\n",
       "      <td>No</td>\n",
       "      <td>No</td>\n",
       "      <td>No</td>\n",
       "      <td>No</td>\n",
       "      <td>No</td>\n",
       "      <td>No</td>\n",
       "      <td>No</td>\n",
       "      <td>No</td>\n",
       "      <td>Yes</td>\n",
       "      <td>0</td>\n",
       "      <td>488</td>\n",
       "    </tr>\n",
       "    <tr>\n",
       "      <th>12</th>\n",
       "      <td>One year</td>\n",
       "      <td>No</td>\n",
       "      <td>Credit card (automatic)</td>\n",
       "      <td>100.35</td>\n",
       "      <td>5681.10</td>\n",
       "      <td>Male</td>\n",
       "      <td>0</td>\n",
       "      <td>Yes</td>\n",
       "      <td>No</td>\n",
       "      <td>Fiber optic</td>\n",
       "      <td>No</td>\n",
       "      <td>No</td>\n",
       "      <td>Yes</td>\n",
       "      <td>No</td>\n",
       "      <td>Yes</td>\n",
       "      <td>Yes</td>\n",
       "      <td>Yes</td>\n",
       "      <td>Yes</td>\n",
       "      <td>Yes</td>\n",
       "      <td>0</td>\n",
       "      <td>1767</td>\n",
       "    </tr>\n",
       "    <tr>\n",
       "      <th>13</th>\n",
       "      <td>Month-to-month</td>\n",
       "      <td>Yes</td>\n",
       "      <td>Bank transfer (automatic)</td>\n",
       "      <td>103.70</td>\n",
       "      <td>5036.30</td>\n",
       "      <td>Male</td>\n",
       "      <td>0</td>\n",
       "      <td>No</td>\n",
       "      <td>No</td>\n",
       "      <td>Fiber optic</td>\n",
       "      <td>No</td>\n",
       "      <td>Yes</td>\n",
       "      <td>Yes</td>\n",
       "      <td>No</td>\n",
       "      <td>Yes</td>\n",
       "      <td>Yes</td>\n",
       "      <td>Yes</td>\n",
       "      <td>Yes</td>\n",
       "      <td>Yes</td>\n",
       "      <td>1</td>\n",
       "      <td>1491</td>\n",
       "    </tr>\n",
       "    <tr>\n",
       "      <th>14</th>\n",
       "      <td>Month-to-month</td>\n",
       "      <td>Yes</td>\n",
       "      <td>Electronic check</td>\n",
       "      <td>105.50</td>\n",
       "      <td>2686.05</td>\n",
       "      <td>Male</td>\n",
       "      <td>0</td>\n",
       "      <td>No</td>\n",
       "      <td>No</td>\n",
       "      <td>Fiber optic</td>\n",
       "      <td>Yes</td>\n",
       "      <td>No</td>\n",
       "      <td>Yes</td>\n",
       "      <td>Yes</td>\n",
       "      <td>Yes</td>\n",
       "      <td>Yes</td>\n",
       "      <td>Yes</td>\n",
       "      <td>No</td>\n",
       "      <td>Yes</td>\n",
       "      <td>0</td>\n",
       "      <td>761</td>\n",
       "    </tr>\n",
       "    <tr>\n",
       "      <th>15</th>\n",
       "      <td>Two year</td>\n",
       "      <td>No</td>\n",
       "      <td>Credit card (automatic)</td>\n",
       "      <td>113.25</td>\n",
       "      <td>7895.15</td>\n",
       "      <td>Female</td>\n",
       "      <td>0</td>\n",
       "      <td>Yes</td>\n",
       "      <td>Yes</td>\n",
       "      <td>Fiber optic</td>\n",
       "      <td>Yes</td>\n",
       "      <td>Yes</td>\n",
       "      <td>Yes</td>\n",
       "      <td>Yes</td>\n",
       "      <td>Yes</td>\n",
       "      <td>Yes</td>\n",
       "      <td>Yes</td>\n",
       "      <td>Yes</td>\n",
       "      <td>Yes</td>\n",
       "      <td>0</td>\n",
       "      <td>2102</td>\n",
       "    </tr>\n",
       "    <tr>\n",
       "      <th>16</th>\n",
       "      <td>One year</td>\n",
       "      <td>No</td>\n",
       "      <td>Mailed check</td>\n",
       "      <td>20.65</td>\n",
       "      <td>1022.95</td>\n",
       "      <td>Female</td>\n",
       "      <td>0</td>\n",
       "      <td>No</td>\n",
       "      <td>No</td>\n",
       "      <td>No</td>\n",
       "      <td>No</td>\n",
       "      <td>No</td>\n",
       "      <td>No</td>\n",
       "      <td>No</td>\n",
       "      <td>No</td>\n",
       "      <td>No</td>\n",
       "      <td>No</td>\n",
       "      <td>No</td>\n",
       "      <td>Yes</td>\n",
       "      <td>0</td>\n",
       "      <td>1584</td>\n",
       "    </tr>\n",
       "    <tr>\n",
       "      <th>17</th>\n",
       "      <td>Two year</td>\n",
       "      <td>No</td>\n",
       "      <td>Bank transfer (automatic)</td>\n",
       "      <td>106.70</td>\n",
       "      <td>7382.25</td>\n",
       "      <td>Male</td>\n",
       "      <td>0</td>\n",
       "      <td>No</td>\n",
       "      <td>Yes</td>\n",
       "      <td>Fiber optic</td>\n",
       "      <td>Yes</td>\n",
       "      <td>No</td>\n",
       "      <td>Yes</td>\n",
       "      <td>No</td>\n",
       "      <td>Yes</td>\n",
       "      <td>Yes</td>\n",
       "      <td>Yes</td>\n",
       "      <td>Yes</td>\n",
       "      <td>Yes</td>\n",
       "      <td>0</td>\n",
       "      <td>2163</td>\n",
       "    </tr>\n",
       "    <tr>\n",
       "      <th>18</th>\n",
       "      <td>Month-to-month</td>\n",
       "      <td>No</td>\n",
       "      <td>Credit card (automatic)</td>\n",
       "      <td>55.20</td>\n",
       "      <td>528.35</td>\n",
       "      <td>Female</td>\n",
       "      <td>0</td>\n",
       "      <td>Yes</td>\n",
       "      <td>Yes</td>\n",
       "      <td>DSL</td>\n",
       "      <td>No</td>\n",
       "      <td>No</td>\n",
       "      <td>Yes</td>\n",
       "      <td>Yes</td>\n",
       "      <td>No</td>\n",
       "      <td>No</td>\n",
       "      <td>Yes</td>\n",
       "      <td>No</td>\n",
       "      <td>Yes</td>\n",
       "      <td>1</td>\n",
       "      <td>304</td>\n",
       "    </tr>\n",
       "    <tr>\n",
       "      <th>19</th>\n",
       "      <td>Month-to-month</td>\n",
       "      <td>Yes</td>\n",
       "      <td>Electronic check</td>\n",
       "      <td>90.05</td>\n",
       "      <td>1862.90</td>\n",
       "      <td>Female</td>\n",
       "      <td>0</td>\n",
       "      <td>No</td>\n",
       "      <td>No</td>\n",
       "      <td>Fiber optic</td>\n",
       "      <td>No</td>\n",
       "      <td>Yes</td>\n",
       "      <td>Yes</td>\n",
       "      <td>No</td>\n",
       "      <td>No</td>\n",
       "      <td>Yes</td>\n",
       "      <td>Yes</td>\n",
       "      <td>No</td>\n",
       "      <td>Yes</td>\n",
       "      <td>0</td>\n",
       "      <td>641</td>\n",
       "    </tr>\n",
       "  </tbody>\n",
       "</table>\n",
       "</div>"
      ],
      "text/plain": [
       "              Type PaperlessBilling              PaymentMethod  \\\n",
       "0   Month-to-month              Yes           Electronic check   \n",
       "1         One year               No               Mailed check   \n",
       "2   Month-to-month              Yes               Mailed check   \n",
       "3         One year               No  Bank transfer (automatic)   \n",
       "4   Month-to-month              Yes           Electronic check   \n",
       "5   Month-to-month              Yes           Electronic check   \n",
       "6   Month-to-month              Yes    Credit card (automatic)   \n",
       "7   Month-to-month               No               Mailed check   \n",
       "8   Month-to-month              Yes           Electronic check   \n",
       "9         One year               No  Bank transfer (automatic)   \n",
       "10  Month-to-month              Yes               Mailed check   \n",
       "11        Two year               No    Credit card (automatic)   \n",
       "12        One year               No    Credit card (automatic)   \n",
       "13  Month-to-month              Yes  Bank transfer (automatic)   \n",
       "14  Month-to-month              Yes           Electronic check   \n",
       "15        Two year               No    Credit card (automatic)   \n",
       "16        One year               No               Mailed check   \n",
       "17        Two year               No  Bank transfer (automatic)   \n",
       "18  Month-to-month               No    Credit card (automatic)   \n",
       "19  Month-to-month              Yes           Electronic check   \n",
       "\n",
       "    MonthlyCharges  TotalCharges  gender  SeniorCitizen Partner Dependents  \\\n",
       "0            29.85         29.85  Female              0     Yes         No   \n",
       "1            56.95       1889.50    Male              0      No         No   \n",
       "2            53.85        108.15    Male              0      No         No   \n",
       "3            42.30       1840.75    Male              0      No         No   \n",
       "4            70.70        151.65  Female              0      No         No   \n",
       "5            99.65        820.50  Female              0      No         No   \n",
       "6            89.10       1949.40    Male              0      No        Yes   \n",
       "7            29.75        301.90  Female              0      No         No   \n",
       "8           104.80       3046.05  Female              0     Yes         No   \n",
       "9            56.15       3487.95    Male              0      No        Yes   \n",
       "10           49.95        587.45    Male              0     Yes        Yes   \n",
       "11           18.95        326.80    Male              0      No         No   \n",
       "12          100.35       5681.10    Male              0     Yes         No   \n",
       "13          103.70       5036.30    Male              0      No         No   \n",
       "14          105.50       2686.05    Male              0      No         No   \n",
       "15          113.25       7895.15  Female              0     Yes        Yes   \n",
       "16           20.65       1022.95  Female              0      No         No   \n",
       "17          106.70       7382.25    Male              0      No        Yes   \n",
       "18           55.20        528.35  Female              0     Yes        Yes   \n",
       "19           90.05       1862.90  Female              0      No         No   \n",
       "\n",
       "   InternetService OnlineSecurity OnlineBackup DeviceProtection TechSupport  \\\n",
       "0              DSL             No          Yes               No          No   \n",
       "1              DSL            Yes           No              Yes          No   \n",
       "2              DSL            Yes          Yes               No          No   \n",
       "3              DSL            Yes           No              Yes         Yes   \n",
       "4      Fiber optic             No           No               No          No   \n",
       "5      Fiber optic             No           No              Yes          No   \n",
       "6      Fiber optic             No          Yes               No          No   \n",
       "7              DSL            Yes           No               No          No   \n",
       "8      Fiber optic             No           No              Yes         Yes   \n",
       "9              DSL            Yes          Yes               No          No   \n",
       "10             DSL            Yes           No               No          No   \n",
       "11              No             No           No               No          No   \n",
       "12     Fiber optic             No           No              Yes          No   \n",
       "13     Fiber optic             No          Yes              Yes          No   \n",
       "14     Fiber optic            Yes           No              Yes         Yes   \n",
       "15     Fiber optic            Yes          Yes              Yes         Yes   \n",
       "16              No             No           No               No          No   \n",
       "17     Fiber optic            Yes           No              Yes          No   \n",
       "18             DSL             No           No              Yes         Yes   \n",
       "19     Fiber optic             No          Yes              Yes          No   \n",
       "\n",
       "   StreamingTV StreamingMovies internet MultipleLines phone  left  togethet  \n",
       "0           No              No      Yes            No    No     0        31  \n",
       "1           No              No      Yes            No   Yes     0      1036  \n",
       "2           No              No      Yes            No   Yes     1        61  \n",
       "3           No              No      Yes            No    No     0      1371  \n",
       "4           No              No      Yes            No   Yes     1        61  \n",
       "5          Yes             Yes      Yes           Yes   Yes     1       245  \n",
       "6          Yes              No      Yes           Yes   Yes     0       671  \n",
       "7           No              No      Yes            No    No     0       306  \n",
       "8          Yes             Yes      Yes           Yes   Yes     1       853  \n",
       "9           No              No      Yes            No   Yes     0      1888  \n",
       "10          No              No      Yes            No   Yes     0       396  \n",
       "11          No              No       No            No   Yes     0       488  \n",
       "12         Yes             Yes      Yes           Yes   Yes     0      1767  \n",
       "13         Yes             Yes      Yes           Yes   Yes     1      1491  \n",
       "14         Yes             Yes      Yes            No   Yes     0       761  \n",
       "15         Yes             Yes      Yes           Yes   Yes     0      2102  \n",
       "16          No              No       No            No   Yes     0      1584  \n",
       "17         Yes             Yes      Yes           Yes   Yes     0      2163  \n",
       "18          No              No      Yes            No   Yes     1       304  \n",
       "19          No             Yes      Yes            No   Yes     0       641  "
      ]
     },
     "metadata": {},
     "output_type": "display_data"
    }
   ],
   "source": [
    "# Посмотрим на сам датасет\n",
    "display(df.head(20))"
   ]
  },
  {
   "cell_type": "markdown",
   "id": "3726d04b",
   "metadata": {},
   "source": [
    "Данные в столбцах InternetService  и Internet очень похожи. В первом вместо Yes стоит конкретный сервис, значения No одинаковы в обоих. Я думаю стоит удалить столбец InternetService, чтобы не нагружать модель лишней информацией."
   ]
  },
  {
   "cell_type": "code",
   "execution_count": 36,
   "id": "946423fc",
   "metadata": {},
   "outputs": [],
   "source": [
    "df = df.drop(columns=['InternetService'])"
   ]
  },
  {
   "cell_type": "code",
   "execution_count": 37,
   "id": "5f3d2569",
   "metadata": {},
   "outputs": [],
   "source": [
    "# Просмотрим уникальные значения в полях\n",
    "def cat_type(df, col):\n",
    "    print(col)\n",
    "    print(df[col].unique())\n",
    "    print()\n",
    "    return df"
   ]
  },
  {
   "cell_type": "code",
   "execution_count": 38,
   "id": "f0a7db75",
   "metadata": {},
   "outputs": [],
   "source": [
    "categorial = ['Type', 'internet', 'Partner', 'DeviceProtection', 'gender', 'OnlineBackup', 'Dependents', \n",
    "              'PaperlessBilling', 'StreamingTV', 'MultipleLines', 'SeniorCitizen', 'TechSupport', 'OnlineSecurity',\n",
    "              'StreamingMovies', 'PaymentMethod', 'phone']"
   ]
  },
  {
   "cell_type": "code",
   "execution_count": 39,
   "id": "e3ea1fa7",
   "metadata": {},
   "outputs": [
    {
     "name": "stdout",
     "output_type": "stream",
     "text": [
      "Type\n",
      "['Month-to-month' 'One year' 'Two year']\n",
      "\n",
      "internet\n",
      "['Yes' 'No']\n",
      "\n",
      "Partner\n",
      "['Yes' 'No']\n",
      "\n",
      "DeviceProtection\n",
      "['No' 'Yes']\n",
      "\n",
      "gender\n",
      "['Female' 'Male']\n",
      "\n",
      "OnlineBackup\n",
      "['Yes' 'No']\n",
      "\n",
      "Dependents\n",
      "['No' 'Yes']\n",
      "\n",
      "PaperlessBilling\n",
      "['Yes' 'No']\n",
      "\n",
      "StreamingTV\n",
      "['No' 'Yes']\n",
      "\n",
      "MultipleLines\n",
      "['No' 'Yes']\n",
      "\n",
      "SeniorCitizen\n",
      "[0 1]\n",
      "\n",
      "TechSupport\n",
      "['No' 'Yes']\n",
      "\n",
      "OnlineSecurity\n",
      "['No' 'Yes']\n",
      "\n",
      "StreamingMovies\n",
      "['No' 'Yes']\n",
      "\n",
      "PaymentMethod\n",
      "['Electronic check' 'Mailed check' 'Bank transfer (automatic)'\n",
      " 'Credit card (automatic)']\n",
      "\n",
      "phone\n",
      "['No' 'Yes']\n",
      "\n"
     ]
    }
   ],
   "source": [
    "for i in categorial:\n",
    "    cat_type(df, i)"
   ]
  },
  {
   "cell_type": "markdown",
   "id": "87a74c4b",
   "metadata": {},
   "source": [
    "Закодируем признаки"
   ]
  },
  {
   "cell_type": "code",
   "execution_count": 40,
   "id": "a4744400",
   "metadata": {},
   "outputs": [],
   "source": [
    "df = pd.get_dummies(df, drop_first=True).astype(int)"
   ]
  },
  {
   "cell_type": "code",
   "execution_count": 41,
   "id": "ef079c80",
   "metadata": {},
   "outputs": [
    {
     "name": "stdout",
     "output_type": "stream",
     "text": [
      "<class 'pandas.core.frame.DataFrame'>\n",
      "Int64Index: 7032 entries, 0 to 7042\n",
      "Data columns (total 23 columns):\n",
      " #   Column                                 Non-Null Count  Dtype\n",
      "---  ------                                 --------------  -----\n",
      " 0   MonthlyCharges                         7032 non-null   int64\n",
      " 1   TotalCharges                           7032 non-null   int64\n",
      " 2   SeniorCitizen                          7032 non-null   int64\n",
      " 3   left                                   7032 non-null   int64\n",
      " 4   togethet                               7032 non-null   int64\n",
      " 5   Type_One year                          7032 non-null   int64\n",
      " 6   Type_Two year                          7032 non-null   int64\n",
      " 7   PaperlessBilling_Yes                   7032 non-null   int64\n",
      " 8   PaymentMethod_Credit card (automatic)  7032 non-null   int64\n",
      " 9   PaymentMethod_Electronic check         7032 non-null   int64\n",
      " 10  PaymentMethod_Mailed check             7032 non-null   int64\n",
      " 11  gender_Male                            7032 non-null   int64\n",
      " 12  Partner_Yes                            7032 non-null   int64\n",
      " 13  Dependents_Yes                         7032 non-null   int64\n",
      " 14  OnlineSecurity_Yes                     7032 non-null   int64\n",
      " 15  OnlineBackup_Yes                       7032 non-null   int64\n",
      " 16  DeviceProtection_Yes                   7032 non-null   int64\n",
      " 17  TechSupport_Yes                        7032 non-null   int64\n",
      " 18  StreamingTV_Yes                        7032 non-null   int64\n",
      " 19  StreamingMovies_Yes                    7032 non-null   int64\n",
      " 20  internet_Yes                           7032 non-null   int64\n",
      " 21  MultipleLines_Yes                      7032 non-null   int64\n",
      " 22  phone_Yes                              7032 non-null   int64\n",
      "dtypes: int64(23)\n",
      "memory usage: 1.3 MB\n"
     ]
    }
   ],
   "source": [
    "# Проверим размер датасета\n",
    "df.info()"
   ]
  },
  {
   "cell_type": "markdown",
   "id": "54fa4b1f",
   "metadata": {},
   "source": [
    "Вычислим корреляцию между признаками MonthlyCharges и TotalCharges и togethet"
   ]
  },
  {
   "cell_type": "code",
   "execution_count": 42,
   "id": "96ae02a3",
   "metadata": {},
   "outputs": [
    {
     "data": {
      "text/plain": [
       "<AxesSubplot:>"
      ]
     },
     "execution_count": 42,
     "metadata": {},
     "output_type": "execute_result"
    },
    {
     "data": {
      "image/png": "[encoded data removed]",
      "text/plain": [
       "<Figure size 504x504 with 2 Axes>"
      ]
     },
     "metadata": {
      "needs_background": "light"
     },
     "output_type": "display_data"
    }
   ],
   "source": [
    "# Проверяем датасет на мультиколениарность\n",
    "df_cor = df[['MonthlyCharges', 'TotalCharges', 'togethet']]\n",
    "plt.rcParams['figure.figsize'] = (7.0, 7.0)\n",
    "sns.heatmap(df_cor.corr(), annot=True, linewidths=3, linecolor='white')"
   ]
  },
  {
   "cell_type": "markdown",
   "id": "b80d9886",
   "metadata": {},
   "source": [
    "Есть высокая корреляция между признаками TotalCharges и togethet  и заметная корреляция между признаками TotalCharges и  MonthlyChanges. Попробуем с помощью эксперимента выяснить при удалении какого из признаков (TotalCharges или MonthlyCharges) результат будет лучше. "
   ]
  },
  {
   "cell_type": "markdown",
   "id": "6f8d71dc",
   "metadata": {},
   "source": [
    "Попробуем удалить из датасета TotalChanges и посмотреть на результаты."
   ]
  },
  {
   "cell_type": "code",
   "execution_count": 43,
   "id": "a723510b",
   "metadata": {},
   "outputs": [],
   "source": [
    "df_m = df.drop(columns=['TotalCharges'])"
   ]
  },
  {
   "cell_type": "code",
   "execution_count": 44,
   "id": "fc545d3a",
   "metadata": {},
   "outputs": [
    {
     "data": {
      "text/html": [
       "<div>\n",
       "<style scoped>\n",
       "    .dataframe tbody tr th:only-of-type {\n",
       "        vertical-align: middle;\n",
       "    }\n",
       "\n",
       "    .dataframe tbody tr th {\n",
       "        vertical-align: top;\n",
       "    }\n",
       "\n",
       "    .dataframe thead th {\n",
       "        text-align: right;\n",
       "    }\n",
       "</style>\n",
       "<table border=\"1\" class=\"dataframe\">\n",
       "  <thead>\n",
       "    <tr style=\"text-align: right;\">\n",
       "      <th></th>\n",
       "      <th>MonthlyCharges</th>\n",
       "      <th>SeniorCitizen</th>\n",
       "      <th>left</th>\n",
       "      <th>togethet</th>\n",
       "      <th>Type_One year</th>\n",
       "      <th>Type_Two year</th>\n",
       "      <th>PaperlessBilling_Yes</th>\n",
       "      <th>PaymentMethod_Credit card (automatic)</th>\n",
       "      <th>PaymentMethod_Electronic check</th>\n",
       "      <th>PaymentMethod_Mailed check</th>\n",
       "      <th>...</th>\n",
       "      <th>Dependents_Yes</th>\n",
       "      <th>OnlineSecurity_Yes</th>\n",
       "      <th>OnlineBackup_Yes</th>\n",
       "      <th>DeviceProtection_Yes</th>\n",
       "      <th>TechSupport_Yes</th>\n",
       "      <th>StreamingTV_Yes</th>\n",
       "      <th>StreamingMovies_Yes</th>\n",
       "      <th>internet_Yes</th>\n",
       "      <th>MultipleLines_Yes</th>\n",
       "      <th>phone_Yes</th>\n",
       "    </tr>\n",
       "  </thead>\n",
       "  <tbody>\n",
       "    <tr>\n",
       "      <th>0</th>\n",
       "      <td>29</td>\n",
       "      <td>0</td>\n",
       "      <td>0</td>\n",
       "      <td>31</td>\n",
       "      <td>0</td>\n",
       "      <td>0</td>\n",
       "      <td>1</td>\n",
       "      <td>0</td>\n",
       "      <td>1</td>\n",
       "      <td>0</td>\n",
       "      <td>...</td>\n",
       "      <td>0</td>\n",
       "      <td>0</td>\n",
       "      <td>1</td>\n",
       "      <td>0</td>\n",
       "      <td>0</td>\n",
       "      <td>0</td>\n",
       "      <td>0</td>\n",
       "      <td>1</td>\n",
       "      <td>0</td>\n",
       "      <td>0</td>\n",
       "    </tr>\n",
       "    <tr>\n",
       "      <th>1</th>\n",
       "      <td>56</td>\n",
       "      <td>0</td>\n",
       "      <td>0</td>\n",
       "      <td>1036</td>\n",
       "      <td>1</td>\n",
       "      <td>0</td>\n",
       "      <td>0</td>\n",
       "      <td>0</td>\n",
       "      <td>0</td>\n",
       "      <td>1</td>\n",
       "      <td>...</td>\n",
       "      <td>0</td>\n",
       "      <td>1</td>\n",
       "      <td>0</td>\n",
       "      <td>1</td>\n",
       "      <td>0</td>\n",
       "      <td>0</td>\n",
       "      <td>0</td>\n",
       "      <td>1</td>\n",
       "      <td>0</td>\n",
       "      <td>1</td>\n",
       "    </tr>\n",
       "    <tr>\n",
       "      <th>2</th>\n",
       "      <td>53</td>\n",
       "      <td>0</td>\n",
       "      <td>1</td>\n",
       "      <td>61</td>\n",
       "      <td>0</td>\n",
       "      <td>0</td>\n",
       "      <td>1</td>\n",
       "      <td>0</td>\n",
       "      <td>0</td>\n",
       "      <td>1</td>\n",
       "      <td>...</td>\n",
       "      <td>0</td>\n",
       "      <td>1</td>\n",
       "      <td>1</td>\n",
       "      <td>0</td>\n",
       "      <td>0</td>\n",
       "      <td>0</td>\n",
       "      <td>0</td>\n",
       "      <td>1</td>\n",
       "      <td>0</td>\n",
       "      <td>1</td>\n",
       "    </tr>\n",
       "    <tr>\n",
       "      <th>3</th>\n",
       "      <td>42</td>\n",
       "      <td>0</td>\n",
       "      <td>0</td>\n",
       "      <td>1371</td>\n",
       "      <td>1</td>\n",
       "      <td>0</td>\n",
       "      <td>0</td>\n",
       "      <td>0</td>\n",
       "      <td>0</td>\n",
       "      <td>0</td>\n",
       "      <td>...</td>\n",
       "      <td>0</td>\n",
       "      <td>1</td>\n",
       "      <td>0</td>\n",
       "      <td>1</td>\n",
       "      <td>1</td>\n",
       "      <td>0</td>\n",
       "      <td>0</td>\n",
       "      <td>1</td>\n",
       "      <td>0</td>\n",
       "      <td>0</td>\n",
       "    </tr>\n",
       "    <tr>\n",
       "      <th>4</th>\n",
       "      <td>70</td>\n",
       "      <td>0</td>\n",
       "      <td>1</td>\n",
       "      <td>61</td>\n",
       "      <td>0</td>\n",
       "      <td>0</td>\n",
       "      <td>1</td>\n",
       "      <td>0</td>\n",
       "      <td>1</td>\n",
       "      <td>0</td>\n",
       "      <td>...</td>\n",
       "      <td>0</td>\n",
       "      <td>0</td>\n",
       "      <td>0</td>\n",
       "      <td>0</td>\n",
       "      <td>0</td>\n",
       "      <td>0</td>\n",
       "      <td>0</td>\n",
       "      <td>1</td>\n",
       "      <td>0</td>\n",
       "      <td>1</td>\n",
       "    </tr>\n",
       "    <tr>\n",
       "      <th>5</th>\n",
       "      <td>99</td>\n",
       "      <td>0</td>\n",
       "      <td>1</td>\n",
       "      <td>245</td>\n",
       "      <td>0</td>\n",
       "      <td>0</td>\n",
       "      <td>1</td>\n",
       "      <td>0</td>\n",
       "      <td>1</td>\n",
       "      <td>0</td>\n",
       "      <td>...</td>\n",
       "      <td>0</td>\n",
       "      <td>0</td>\n",
       "      <td>0</td>\n",
       "      <td>1</td>\n",
       "      <td>0</td>\n",
       "      <td>1</td>\n",
       "      <td>1</td>\n",
       "      <td>1</td>\n",
       "      <td>1</td>\n",
       "      <td>1</td>\n",
       "    </tr>\n",
       "    <tr>\n",
       "      <th>6</th>\n",
       "      <td>89</td>\n",
       "      <td>0</td>\n",
       "      <td>0</td>\n",
       "      <td>671</td>\n",
       "      <td>0</td>\n",
       "      <td>0</td>\n",
       "      <td>1</td>\n",
       "      <td>1</td>\n",
       "      <td>0</td>\n",
       "      <td>0</td>\n",
       "      <td>...</td>\n",
       "      <td>1</td>\n",
       "      <td>0</td>\n",
       "      <td>1</td>\n",
       "      <td>0</td>\n",
       "      <td>0</td>\n",
       "      <td>1</td>\n",
       "      <td>0</td>\n",
       "      <td>1</td>\n",
       "      <td>1</td>\n",
       "      <td>1</td>\n",
       "    </tr>\n",
       "    <tr>\n",
       "      <th>7</th>\n",
       "      <td>29</td>\n",
       "      <td>0</td>\n",
       "      <td>0</td>\n",
       "      <td>306</td>\n",
       "      <td>0</td>\n",
       "      <td>0</td>\n",
       "      <td>0</td>\n",
       "      <td>0</td>\n",
       "      <td>0</td>\n",
       "      <td>1</td>\n",
       "      <td>...</td>\n",
       "      <td>0</td>\n",
       "      <td>1</td>\n",
       "      <td>0</td>\n",
       "      <td>0</td>\n",
       "      <td>0</td>\n",
       "      <td>0</td>\n",
       "      <td>0</td>\n",
       "      <td>1</td>\n",
       "      <td>0</td>\n",
       "      <td>0</td>\n",
       "    </tr>\n",
       "    <tr>\n",
       "      <th>8</th>\n",
       "      <td>104</td>\n",
       "      <td>0</td>\n",
       "      <td>1</td>\n",
       "      <td>853</td>\n",
       "      <td>0</td>\n",
       "      <td>0</td>\n",
       "      <td>1</td>\n",
       "      <td>0</td>\n",
       "      <td>1</td>\n",
       "      <td>0</td>\n",
       "      <td>...</td>\n",
       "      <td>0</td>\n",
       "      <td>0</td>\n",
       "      <td>0</td>\n",
       "      <td>1</td>\n",
       "      <td>1</td>\n",
       "      <td>1</td>\n",
       "      <td>1</td>\n",
       "      <td>1</td>\n",
       "      <td>1</td>\n",
       "      <td>1</td>\n",
       "    </tr>\n",
       "    <tr>\n",
       "      <th>9</th>\n",
       "      <td>56</td>\n",
       "      <td>0</td>\n",
       "      <td>0</td>\n",
       "      <td>1888</td>\n",
       "      <td>1</td>\n",
       "      <td>0</td>\n",
       "      <td>0</td>\n",
       "      <td>0</td>\n",
       "      <td>0</td>\n",
       "      <td>0</td>\n",
       "      <td>...</td>\n",
       "      <td>1</td>\n",
       "      <td>1</td>\n",
       "      <td>1</td>\n",
       "      <td>0</td>\n",
       "      <td>0</td>\n",
       "      <td>0</td>\n",
       "      <td>0</td>\n",
       "      <td>1</td>\n",
       "      <td>0</td>\n",
       "      <td>1</td>\n",
       "    </tr>\n",
       "  </tbody>\n",
       "</table>\n",
       "<p>10 rows × 22 columns</p>\n",
       "</div>"
      ],
      "text/plain": [
       "   MonthlyCharges  SeniorCitizen  left  togethet  Type_One year  \\\n",
       "0              29              0     0        31              0   \n",
       "1              56              0     0      1036              1   \n",
       "2              53              0     1        61              0   \n",
       "3              42              0     0      1371              1   \n",
       "4              70              0     1        61              0   \n",
       "5              99              0     1       245              0   \n",
       "6              89              0     0       671              0   \n",
       "7              29              0     0       306              0   \n",
       "8             104              0     1       853              0   \n",
       "9              56              0     0      1888              1   \n",
       "\n",
       "   Type_Two year  PaperlessBilling_Yes  PaymentMethod_Credit card (automatic)  \\\n",
       "0              0                     1                                      0   \n",
       "1              0                     0                                      0   \n",
       "2              0                     1                                      0   \n",
       "3              0                     0                                      0   \n",
       "4              0                     1                                      0   \n",
       "5              0                     1                                      0   \n",
       "6              0                     1                                      1   \n",
       "7              0                     0                                      0   \n",
       "8              0                     1                                      0   \n",
       "9              0                     0                                      0   \n",
       "\n",
       "   PaymentMethod_Electronic check  PaymentMethod_Mailed check  ...  \\\n",
       "0                               1                           0  ...   \n",
       "1                               0                           1  ...   \n",
       "2                               0                           1  ...   \n",
       "3                               0                           0  ...   \n",
       "4                               1                           0  ...   \n",
       "5                               1                           0  ...   \n",
       "6                               0                           0  ...   \n",
       "7                               0                           1  ...   \n",
       "8                               1                           0  ...   \n",
       "9                               0                           0  ...   \n",
       "\n",
       "   Dependents_Yes  OnlineSecurity_Yes  OnlineBackup_Yes  DeviceProtection_Yes  \\\n",
       "0               0                   0                 1                     0   \n",
       "1               0                   1                 0                     1   \n",
       "2               0                   1                 1                     0   \n",
       "3               0                   1                 0                     1   \n",
       "4               0                   0                 0                     0   \n",
       "5               0                   0                 0                     1   \n",
       "6               1                   0                 1                     0   \n",
       "7               0                   1                 0                     0   \n",
       "8               0                   0                 0                     1   \n",
       "9               1                   1                 1                     0   \n",
       "\n",
       "   TechSupport_Yes  StreamingTV_Yes  StreamingMovies_Yes  internet_Yes  \\\n",
       "0                0                0                    0             1   \n",
       "1                0                0                    0             1   \n",
       "2                0                0                    0             1   \n",
       "3                1                0                    0             1   \n",
       "4                0                0                    0             1   \n",
       "5                0                1                    1             1   \n",
       "6                0                1                    0             1   \n",
       "7                0                0                    0             1   \n",
       "8                1                1                    1             1   \n",
       "9                0                0                    0             1   \n",
       "\n",
       "   MultipleLines_Yes  phone_Yes  \n",
       "0                  0          0  \n",
       "1                  0          1  \n",
       "2                  0          1  \n",
       "3                  0          0  \n",
       "4                  0          1  \n",
       "5                  1          1  \n",
       "6                  1          1  \n",
       "7                  0          0  \n",
       "8                  1          1  \n",
       "9                  0          1  \n",
       "\n",
       "[10 rows x 22 columns]"
      ]
     },
     "metadata": {},
     "output_type": "display_data"
    }
   ],
   "source": [
    "display(df_m.head(10))"
   ]
  },
  {
   "cell_type": "markdown",
   "id": "3267017a",
   "metadata": {},
   "source": [
    "Проверяем баланс классов создаем список весов, для передачи в CatBoost"
   ]
  },
  {
   "cell_type": "code",
   "execution_count": 45,
   "id": "5a755126",
   "metadata": {
    "scrolled": true
   },
   "outputs": [
    {
     "data": {
      "text/plain": [
       "[0.26578498293515357, 0.7342150170648465]"
      ]
     },
     "execution_count": 45,
     "metadata": {},
     "output_type": "execute_result"
    }
   ],
   "source": [
    "one_class_waight = df_m.loc[df_m['left'] == 1].shape[0] / df_m['left'].shape[0]\n",
    "zero_class_waight = 1 - one_class_waight\n",
    "class_waights = [one_class_waight, zero_class_waight]\n",
    "class_waights"
   ]
  },
  {
   "cell_type": "markdown",
   "id": "f2cfeedf",
   "metadata": {},
   "source": [
    "Есть существенный дисбаланс классов целевого признака. Разбиваем на обучающую и тестовую выборки."
   ]
  },
  {
   "cell_type": "code",
   "execution_count": 46,
   "id": "518fd6a2",
   "metadata": {},
   "outputs": [],
   "source": [
    "train, test = train_test_split(df_m, test_size=0.25, random_state = 120922, stratify = df_m['left'])"
   ]
  },
  {
   "cell_type": "markdown",
   "id": "7683c2dc",
   "metadata": {},
   "source": [
    "Отделяем целевой признак"
   ]
  },
  {
   "cell_type": "code",
   "execution_count": 47,
   "id": "a8b8b3b0",
   "metadata": {},
   "outputs": [],
   "source": [
    "def split_features_target(df, target):\n",
    "    features = df.drop(target, axis=1)\n",
    "    target = df[target]\n",
    "    return features, target"
   ]
  },
  {
   "cell_type": "code",
   "execution_count": 48,
   "id": "dd6ad6f2",
   "metadata": {},
   "outputs": [],
   "source": [
    "features_test, target_test = split_features_target(test, 'left')\n",
    "features_train, target_train = split_features_target(train, 'left')"
   ]
  },
  {
   "cell_type": "markdown",
   "id": "b959b4be",
   "metadata": {},
   "source": [
    "## Подбор моделей"
   ]
  },
  {
   "cell_type": "code",
   "execution_count": 49,
   "id": "55b376f3",
   "metadata": {},
   "outputs": [],
   "source": [
    "# Создаем таблицу для сбора метрик\n",
    "models_scors = pd.DataFrame(columns = ['model', 'roc_auc'])"
   ]
  },
  {
   "cell_type": "markdown",
   "id": "41517a37",
   "metadata": {},
   "source": [
    "### RandomForestClassifier"
   ]
  },
  {
   "cell_type": "code",
   "execution_count": 50,
   "id": "e20a72af",
   "metadata": {},
   "outputs": [
    {
     "name": "stdout",
     "output_type": "stream",
     "text": [
      "Fitting 3 folds for each of 9 candidates, totalling 27 fits\n",
      "CPU times: user 7.85 s, sys: 69 ms, total: 7.92 s\n",
      "Wall time: 7.93 s\n"
     ]
    },
    {
     "data": {
      "text/plain": [
       "{'max_depth': 7, 'n_estimators': 110}"
      ]
     },
     "execution_count": 50,
     "metadata": {},
     "output_type": "execute_result"
    }
   ],
   "source": [
    "%%time\n",
    "RF_model = RandomForestClassifier(random_state=120922, class_weight='balanced')\n",
    "parameters = [{'max_depth': [6, 7, 8], 'n_estimators': [100, 110, 120]}]\n",
    "RF_model_gscv = GridSearchCV(RF_model, param_grid = parameters, scoring = 'roc_auc',\n",
    "                             cv=3, verbose=True)\n",
    "RF_model_gscv.fit(features_train, target_train)\n",
    "models_scors = models_scors.append({'model': 'RandomForestClassifier', 'roc_auc': RF_model_gscv.best_score_}, ignore_index=True)\n",
    "RF_model_gscv.best_params_"
   ]
  },
  {
   "cell_type": "markdown",
   "id": "923dd32c",
   "metadata": {},
   "source": [
    "### CatBoostClassifier"
   ]
  },
  {
   "cell_type": "code",
   "execution_count": 51,
   "id": "c692090b",
   "metadata": {},
   "outputs": [
    {
     "name": "stdout",
     "output_type": "stream",
     "text": [
      "Fitting 3 folds for each of 27 candidates, totalling 81 fits\n",
      "CPU times: user 27.8 s, sys: 2.3 s, total: 30.1 s\n",
      "Wall time: 1min 26s\n"
     ]
    },
    {
     "data": {
      "text/plain": [
       "{'learning_rate': 0.5, 'max_depth': 2, 'n_estimators': 400}"
      ]
     },
     "execution_count": 51,
     "metadata": {},
     "output_type": "execute_result"
    }
   ],
   "source": [
    "%%time\n",
    "CBC_model = CatBoostClassifier(random_state=120922, silent=True, class_weights=class_waights)\n",
    "parameters = [{'max_depth': [1, 2, 3], 'n_estimators': [300, 400, 500], 'learning_rate':[0.4, 0.5, 0.6]}]\n",
    "CBC_model_gscv = GridSearchCV(CBC_model, param_grid = parameters, scoring = 'roc_auc',\n",
    "                             cv=3, verbose=True, n_jobs=-1)\n",
    "CBC_model_gscv.fit(features_train, target_train)\n",
    "models_scors = models_scors.append({'model': 'CatBoostClassifier', 'roc_auc': CBC_model_gscv.best_score_}, ignore_index=True)\n",
    "CBC_model_gscv.best_params_"
   ]
  },
  {
   "cell_type": "code",
   "execution_count": 52,
   "id": "f5f61114",
   "metadata": {},
   "outputs": [
    {
     "data": {
      "text/html": [
       "<div>\n",
       "<style scoped>\n",
       "    .dataframe tbody tr th:only-of-type {\n",
       "        vertical-align: middle;\n",
       "    }\n",
       "\n",
       "    .dataframe tbody tr th {\n",
       "        vertical-align: top;\n",
       "    }\n",
       "\n",
       "    .dataframe thead th {\n",
       "        text-align: right;\n",
       "    }\n",
       "</style>\n",
       "<table border=\"1\" class=\"dataframe\">\n",
       "  <thead>\n",
       "    <tr style=\"text-align: right;\">\n",
       "      <th></th>\n",
       "      <th>model</th>\n",
       "      <th>roc_auc</th>\n",
       "    </tr>\n",
       "  </thead>\n",
       "  <tbody>\n",
       "    <tr>\n",
       "      <th>0</th>\n",
       "      <td>RandomForestClassifier</td>\n",
       "      <td>0.852459</td>\n",
       "    </tr>\n",
       "    <tr>\n",
       "      <th>1</th>\n",
       "      <td>CatBoostClassifier</td>\n",
       "      <td>0.925341</td>\n",
       "    </tr>\n",
       "  </tbody>\n",
       "</table>\n",
       "</div>"
      ],
      "text/plain": [
       "                    model   roc_auc\n",
       "0  RandomForestClassifier  0.852459\n",
       "1      CatBoostClassifier  0.925341"
      ]
     },
     "execution_count": 52,
     "metadata": {},
     "output_type": "execute_result"
    }
   ],
   "source": [
    "models_scors"
   ]
  },
  {
   "cell_type": "markdown",
   "id": "97192fb8",
   "metadata": {},
   "source": [
    "Попробуем удалить из датасета MonthlyCharges и посмотреть на результаты."
   ]
  },
  {
   "cell_type": "code",
   "execution_count": 53,
   "id": "7959d703",
   "metadata": {},
   "outputs": [],
   "source": [
    "df_c = df.drop(columns=['MonthlyCharges'])"
   ]
  },
  {
   "cell_type": "code",
   "execution_count": 54,
   "id": "8878f13f",
   "metadata": {},
   "outputs": [
    {
     "data": {
      "text/html": [
       "<div>\n",
       "<style scoped>\n",
       "    .dataframe tbody tr th:only-of-type {\n",
       "        vertical-align: middle;\n",
       "    }\n",
       "\n",
       "    .dataframe tbody tr th {\n",
       "        vertical-align: top;\n",
       "    }\n",
       "\n",
       "    .dataframe thead th {\n",
       "        text-align: right;\n",
       "    }\n",
       "</style>\n",
       "<table border=\"1\" class=\"dataframe\">\n",
       "  <thead>\n",
       "    <tr style=\"text-align: right;\">\n",
       "      <th></th>\n",
       "      <th>TotalCharges</th>\n",
       "      <th>SeniorCitizen</th>\n",
       "      <th>left</th>\n",
       "      <th>togethet</th>\n",
       "      <th>Type_One year</th>\n",
       "      <th>Type_Two year</th>\n",
       "      <th>PaperlessBilling_Yes</th>\n",
       "      <th>PaymentMethod_Credit card (automatic)</th>\n",
       "      <th>PaymentMethod_Electronic check</th>\n",
       "      <th>PaymentMethod_Mailed check</th>\n",
       "      <th>...</th>\n",
       "      <th>Dependents_Yes</th>\n",
       "      <th>OnlineSecurity_Yes</th>\n",
       "      <th>OnlineBackup_Yes</th>\n",
       "      <th>DeviceProtection_Yes</th>\n",
       "      <th>TechSupport_Yes</th>\n",
       "      <th>StreamingTV_Yes</th>\n",
       "      <th>StreamingMovies_Yes</th>\n",
       "      <th>internet_Yes</th>\n",
       "      <th>MultipleLines_Yes</th>\n",
       "      <th>phone_Yes</th>\n",
       "    </tr>\n",
       "  </thead>\n",
       "  <tbody>\n",
       "    <tr>\n",
       "      <th>0</th>\n",
       "      <td>29</td>\n",
       "      <td>0</td>\n",
       "      <td>0</td>\n",
       "      <td>31</td>\n",
       "      <td>0</td>\n",
       "      <td>0</td>\n",
       "      <td>1</td>\n",
       "      <td>0</td>\n",
       "      <td>1</td>\n",
       "      <td>0</td>\n",
       "      <td>...</td>\n",
       "      <td>0</td>\n",
       "      <td>0</td>\n",
       "      <td>1</td>\n",
       "      <td>0</td>\n",
       "      <td>0</td>\n",
       "      <td>0</td>\n",
       "      <td>0</td>\n",
       "      <td>1</td>\n",
       "      <td>0</td>\n",
       "      <td>0</td>\n",
       "    </tr>\n",
       "    <tr>\n",
       "      <th>1</th>\n",
       "      <td>1889</td>\n",
       "      <td>0</td>\n",
       "      <td>0</td>\n",
       "      <td>1036</td>\n",
       "      <td>1</td>\n",
       "      <td>0</td>\n",
       "      <td>0</td>\n",
       "      <td>0</td>\n",
       "      <td>0</td>\n",
       "      <td>1</td>\n",
       "      <td>...</td>\n",
       "      <td>0</td>\n",
       "      <td>1</td>\n",
       "      <td>0</td>\n",
       "      <td>1</td>\n",
       "      <td>0</td>\n",
       "      <td>0</td>\n",
       "      <td>0</td>\n",
       "      <td>1</td>\n",
       "      <td>0</td>\n",
       "      <td>1</td>\n",
       "    </tr>\n",
       "    <tr>\n",
       "      <th>2</th>\n",
       "      <td>108</td>\n",
       "      <td>0</td>\n",
       "      <td>1</td>\n",
       "      <td>61</td>\n",
       "      <td>0</td>\n",
       "      <td>0</td>\n",
       "      <td>1</td>\n",
       "      <td>0</td>\n",
       "      <td>0</td>\n",
       "      <td>1</td>\n",
       "      <td>...</td>\n",
       "      <td>0</td>\n",
       "      <td>1</td>\n",
       "      <td>1</td>\n",
       "      <td>0</td>\n",
       "      <td>0</td>\n",
       "      <td>0</td>\n",
       "      <td>0</td>\n",
       "      <td>1</td>\n",
       "      <td>0</td>\n",
       "      <td>1</td>\n",
       "    </tr>\n",
       "    <tr>\n",
       "      <th>3</th>\n",
       "      <td>1840</td>\n",
       "      <td>0</td>\n",
       "      <td>0</td>\n",
       "      <td>1371</td>\n",
       "      <td>1</td>\n",
       "      <td>0</td>\n",
       "      <td>0</td>\n",
       "      <td>0</td>\n",
       "      <td>0</td>\n",
       "      <td>0</td>\n",
       "      <td>...</td>\n",
       "      <td>0</td>\n",
       "      <td>1</td>\n",
       "      <td>0</td>\n",
       "      <td>1</td>\n",
       "      <td>1</td>\n",
       "      <td>0</td>\n",
       "      <td>0</td>\n",
       "      <td>1</td>\n",
       "      <td>0</td>\n",
       "      <td>0</td>\n",
       "    </tr>\n",
       "    <tr>\n",
       "      <th>4</th>\n",
       "      <td>151</td>\n",
       "      <td>0</td>\n",
       "      <td>1</td>\n",
       "      <td>61</td>\n",
       "      <td>0</td>\n",
       "      <td>0</td>\n",
       "      <td>1</td>\n",
       "      <td>0</td>\n",
       "      <td>1</td>\n",
       "      <td>0</td>\n",
       "      <td>...</td>\n",
       "      <td>0</td>\n",
       "      <td>0</td>\n",
       "      <td>0</td>\n",
       "      <td>0</td>\n",
       "      <td>0</td>\n",
       "      <td>0</td>\n",
       "      <td>0</td>\n",
       "      <td>1</td>\n",
       "      <td>0</td>\n",
       "      <td>1</td>\n",
       "    </tr>\n",
       "    <tr>\n",
       "      <th>5</th>\n",
       "      <td>820</td>\n",
       "      <td>0</td>\n",
       "      <td>1</td>\n",
       "      <td>245</td>\n",
       "      <td>0</td>\n",
       "      <td>0</td>\n",
       "      <td>1</td>\n",
       "      <td>0</td>\n",
       "      <td>1</td>\n",
       "      <td>0</td>\n",
       "      <td>...</td>\n",
       "      <td>0</td>\n",
       "      <td>0</td>\n",
       "      <td>0</td>\n",
       "      <td>1</td>\n",
       "      <td>0</td>\n",
       "      <td>1</td>\n",
       "      <td>1</td>\n",
       "      <td>1</td>\n",
       "      <td>1</td>\n",
       "      <td>1</td>\n",
       "    </tr>\n",
       "    <tr>\n",
       "      <th>6</th>\n",
       "      <td>1949</td>\n",
       "      <td>0</td>\n",
       "      <td>0</td>\n",
       "      <td>671</td>\n",
       "      <td>0</td>\n",
       "      <td>0</td>\n",
       "      <td>1</td>\n",
       "      <td>1</td>\n",
       "      <td>0</td>\n",
       "      <td>0</td>\n",
       "      <td>...</td>\n",
       "      <td>1</td>\n",
       "      <td>0</td>\n",
       "      <td>1</td>\n",
       "      <td>0</td>\n",
       "      <td>0</td>\n",
       "      <td>1</td>\n",
       "      <td>0</td>\n",
       "      <td>1</td>\n",
       "      <td>1</td>\n",
       "      <td>1</td>\n",
       "    </tr>\n",
       "    <tr>\n",
       "      <th>7</th>\n",
       "      <td>301</td>\n",
       "      <td>0</td>\n",
       "      <td>0</td>\n",
       "      <td>306</td>\n",
       "      <td>0</td>\n",
       "      <td>0</td>\n",
       "      <td>0</td>\n",
       "      <td>0</td>\n",
       "      <td>0</td>\n",
       "      <td>1</td>\n",
       "      <td>...</td>\n",
       "      <td>0</td>\n",
       "      <td>1</td>\n",
       "      <td>0</td>\n",
       "      <td>0</td>\n",
       "      <td>0</td>\n",
       "      <td>0</td>\n",
       "      <td>0</td>\n",
       "      <td>1</td>\n",
       "      <td>0</td>\n",
       "      <td>0</td>\n",
       "    </tr>\n",
       "    <tr>\n",
       "      <th>8</th>\n",
       "      <td>3046</td>\n",
       "      <td>0</td>\n",
       "      <td>1</td>\n",
       "      <td>853</td>\n",
       "      <td>0</td>\n",
       "      <td>0</td>\n",
       "      <td>1</td>\n",
       "      <td>0</td>\n",
       "      <td>1</td>\n",
       "      <td>0</td>\n",
       "      <td>...</td>\n",
       "      <td>0</td>\n",
       "      <td>0</td>\n",
       "      <td>0</td>\n",
       "      <td>1</td>\n",
       "      <td>1</td>\n",
       "      <td>1</td>\n",
       "      <td>1</td>\n",
       "      <td>1</td>\n",
       "      <td>1</td>\n",
       "      <td>1</td>\n",
       "    </tr>\n",
       "    <tr>\n",
       "      <th>9</th>\n",
       "      <td>3487</td>\n",
       "      <td>0</td>\n",
       "      <td>0</td>\n",
       "      <td>1888</td>\n",
       "      <td>1</td>\n",
       "      <td>0</td>\n",
       "      <td>0</td>\n",
       "      <td>0</td>\n",
       "      <td>0</td>\n",
       "      <td>0</td>\n",
       "      <td>...</td>\n",
       "      <td>1</td>\n",
       "      <td>1</td>\n",
       "      <td>1</td>\n",
       "      <td>0</td>\n",
       "      <td>0</td>\n",
       "      <td>0</td>\n",
       "      <td>0</td>\n",
       "      <td>1</td>\n",
       "      <td>0</td>\n",
       "      <td>1</td>\n",
       "    </tr>\n",
       "  </tbody>\n",
       "</table>\n",
       "<p>10 rows × 22 columns</p>\n",
       "</div>"
      ],
      "text/plain": [
       "   TotalCharges  SeniorCitizen  left  togethet  Type_One year  Type_Two year  \\\n",
       "0            29              0     0        31              0              0   \n",
       "1          1889              0     0      1036              1              0   \n",
       "2           108              0     1        61              0              0   \n",
       "3          1840              0     0      1371              1              0   \n",
       "4           151              0     1        61              0              0   \n",
       "5           820              0     1       245              0              0   \n",
       "6          1949              0     0       671              0              0   \n",
       "7           301              0     0       306              0              0   \n",
       "8          3046              0     1       853              0              0   \n",
       "9          3487              0     0      1888              1              0   \n",
       "\n",
       "   PaperlessBilling_Yes  PaymentMethod_Credit card (automatic)  \\\n",
       "0                     1                                      0   \n",
       "1                     0                                      0   \n",
       "2                     1                                      0   \n",
       "3                     0                                      0   \n",
       "4                     1                                      0   \n",
       "5                     1                                      0   \n",
       "6                     1                                      1   \n",
       "7                     0                                      0   \n",
       "8                     1                                      0   \n",
       "9                     0                                      0   \n",
       "\n",
       "   PaymentMethod_Electronic check  PaymentMethod_Mailed check  ...  \\\n",
       "0                               1                           0  ...   \n",
       "1                               0                           1  ...   \n",
       "2                               0                           1  ...   \n",
       "3                               0                           0  ...   \n",
       "4                               1                           0  ...   \n",
       "5                               1                           0  ...   \n",
       "6                               0                           0  ...   \n",
       "7                               0                           1  ...   \n",
       "8                               1                           0  ...   \n",
       "9                               0                           0  ...   \n",
       "\n",
       "   Dependents_Yes  OnlineSecurity_Yes  OnlineBackup_Yes  DeviceProtection_Yes  \\\n",
       "0               0                   0                 1                     0   \n",
       "1               0                   1                 0                     1   \n",
       "2               0                   1                 1                     0   \n",
       "3               0                   1                 0                     1   \n",
       "4               0                   0                 0                     0   \n",
       "5               0                   0                 0                     1   \n",
       "6               1                   0                 1                     0   \n",
       "7               0                   1                 0                     0   \n",
       "8               0                   0                 0                     1   \n",
       "9               1                   1                 1                     0   \n",
       "\n",
       "   TechSupport_Yes  StreamingTV_Yes  StreamingMovies_Yes  internet_Yes  \\\n",
       "0                0                0                    0             1   \n",
       "1                0                0                    0             1   \n",
       "2                0                0                    0             1   \n",
       "3                1                0                    0             1   \n",
       "4                0                0                    0             1   \n",
       "5                0                1                    1             1   \n",
       "6                0                1                    0             1   \n",
       "7                0                0                    0             1   \n",
       "8                1                1                    1             1   \n",
       "9                0                0                    0             1   \n",
       "\n",
       "   MultipleLines_Yes  phone_Yes  \n",
       "0                  0          0  \n",
       "1                  0          1  \n",
       "2                  0          1  \n",
       "3                  0          0  \n",
       "4                  0          1  \n",
       "5                  1          1  \n",
       "6                  1          1  \n",
       "7                  0          0  \n",
       "8                  1          1  \n",
       "9                  0          1  \n",
       "\n",
       "[10 rows x 22 columns]"
      ]
     },
     "metadata": {},
     "output_type": "display_data"
    }
   ],
   "source": [
    "display(df_c.head(10))"
   ]
  },
  {
   "cell_type": "code",
   "execution_count": 55,
   "id": "03002c09",
   "metadata": {},
   "outputs": [
    {
     "data": {
      "text/plain": [
       "[0.26578498293515357, 0.7342150170648465]"
      ]
     },
     "execution_count": 55,
     "metadata": {},
     "output_type": "execute_result"
    }
   ],
   "source": [
    "one_class_waight = df_c.loc[df_c['left'] == 1].shape[0] / df_c['left'].shape[0]\n",
    "zero_class_waight = 1 - one_class_waight\n",
    "class_waights = [one_class_waight, zero_class_waight]\n",
    "class_waights"
   ]
  },
  {
   "cell_type": "code",
   "execution_count": 56,
   "id": "9089053f",
   "metadata": {},
   "outputs": [],
   "source": [
    "train, test = train_test_split(df_c, test_size=0.25, random_state = 120922, stratify = df_c['left'])"
   ]
  },
  {
   "cell_type": "code",
   "execution_count": 57,
   "id": "59fc02cb",
   "metadata": {},
   "outputs": [],
   "source": [
    "features_test, target_test = split_features_target(test, 'left')\n",
    "features_train, target_train = split_features_target(train, 'left')"
   ]
  },
  {
   "cell_type": "code",
   "execution_count": 58,
   "id": "09c93dc3",
   "metadata": {},
   "outputs": [],
   "source": [
    "models_scors_c = pd.DataFrame(columns = ['model', 'roc_auc'])"
   ]
  },
  {
   "cell_type": "code",
   "execution_count": 59,
   "id": "e75d181d",
   "metadata": {},
   "outputs": [
    {
     "name": "stdout",
     "output_type": "stream",
     "text": [
      "Fitting 3 folds for each of 9 candidates, totalling 27 fits\n",
      "CPU times: user 8.94 s, sys: 38.2 ms, total: 8.98 s\n",
      "Wall time: 8.98 s\n"
     ]
    },
    {
     "data": {
      "text/plain": [
       "{'max_depth': 8, 'n_estimators': 120}"
      ]
     },
     "execution_count": 59,
     "metadata": {},
     "output_type": "execute_result"
    }
   ],
   "source": [
    "%%time\n",
    "RF_model = RandomForestClassifier(random_state=120922, class_weight='balanced')\n",
    "parameters = [{'max_depth': [7, 8, 9], 'n_estimators': [100, 110, 120]}]\n",
    "RF_model_gscv = GridSearchCV(RF_model, param_grid = parameters, scoring = 'roc_auc',\n",
    "                             cv=3, verbose=True)\n",
    "RF_model_gscv.fit(features_train, target_train)\n",
    "models_scors_c = models_scors_c.append({'model': 'RandomForestClassifier', 'roc_auc': RF_model_gscv.best_score_}, ignore_index=True)\n",
    "RF_model_gscv.best_params_"
   ]
  },
  {
   "cell_type": "code",
   "execution_count": 60,
   "id": "d0a75953",
   "metadata": {},
   "outputs": [
    {
     "name": "stdout",
     "output_type": "stream",
     "text": [
      "Fitting 3 folds for each of 27 candidates, totalling 81 fits\n",
      "CPU times: user 1min 8s, sys: 5.06 s, total: 1min 13s\n",
      "Wall time: 2min 21s\n"
     ]
    },
    {
     "data": {
      "text/plain": [
       "{'learning_rate': 0.4, 'max_depth': 2, 'n_estimators': 800}"
      ]
     },
     "execution_count": 60,
     "metadata": {},
     "output_type": "execute_result"
    }
   ],
   "source": [
    "%%time\n",
    "CBC_model = CatBoostClassifier(random_state=120922, silent=True, class_weights=class_waights)\n",
    "parameters = [{'max_depth': [2, 3, 4], 'n_estimators': [700, 800, 900], 'learning_rate':[0.3, 0.4, 0.5]}]\n",
    "CBC_model_gscv = GridSearchCV(CBC_model, param_grid = parameters, scoring = 'roc_auc',\n",
    "                             cv=3, verbose=True, n_jobs=-1)\n",
    "CBC_model_gscv.fit(features_train, target_train)\n",
    "models_scors_c = models_scors_c.append({'model': 'CatBoostClassifier', 'roc_auc': CBC_model_gscv.best_score_}, ignore_index=True)\n",
    "CBC_model_gscv.best_params_"
   ]
  },
  {
   "cell_type": "code",
   "execution_count": 61,
   "id": "96cd90d7",
   "metadata": {},
   "outputs": [
    {
     "data": {
      "text/html": [
       "<div>\n",
       "<style scoped>\n",
       "    .dataframe tbody tr th:only-of-type {\n",
       "        vertical-align: middle;\n",
       "    }\n",
       "\n",
       "    .dataframe tbody tr th {\n",
       "        vertical-align: top;\n",
       "    }\n",
       "\n",
       "    .dataframe thead th {\n",
       "        text-align: right;\n",
       "    }\n",
       "</style>\n",
       "<table border=\"1\" class=\"dataframe\">\n",
       "  <thead>\n",
       "    <tr style=\"text-align: right;\">\n",
       "      <th></th>\n",
       "      <th>model</th>\n",
       "      <th>roc_auc</th>\n",
       "    </tr>\n",
       "  </thead>\n",
       "  <tbody>\n",
       "    <tr>\n",
       "      <th>0</th>\n",
       "      <td>RandomForestClassifier</td>\n",
       "      <td>0.851240</td>\n",
       "    </tr>\n",
       "    <tr>\n",
       "      <th>1</th>\n",
       "      <td>CatBoostClassifier</td>\n",
       "      <td>0.919926</td>\n",
       "    </tr>\n",
       "  </tbody>\n",
       "</table>\n",
       "</div>"
      ],
      "text/plain": [
       "                    model   roc_auc\n",
       "0  RandomForestClassifier  0.851240\n",
       "1      CatBoostClassifier  0.919926"
      ]
     },
     "execution_count": 61,
     "metadata": {},
     "output_type": "execute_result"
    }
   ],
   "source": [
    "models_scors_c"
   ]
  },
  {
   "cell_type": "markdown",
   "id": "f19bb86e",
   "metadata": {},
   "source": [
    "Лучшие результаты были получены для случая если исключить из датасета столбец TotalCharges. Лучшие результаты продемонстрировала CatBoost, будем подбирать параметры для нее."
   ]
  },
  {
   "cell_type": "markdown",
   "id": "05fcc1d3",
   "metadata": {},
   "source": [
    "Лучшие результаты продемонстрировала CatBoost, будем подбирать параметры для нее."
   ]
  },
  {
   "cell_type": "markdown",
   "id": "c2acca2b",
   "metadata": {},
   "source": [
    "### Подбор параметров для CatBoostClassifier"
   ]
  },
  {
   "cell_type": "code",
   "execution_count": 62,
   "id": "06fcaadf",
   "metadata": {},
   "outputs": [
    {
     "data": {
      "text/plain": [
       "[0.26578498293515357, 0.7342150170648465]"
      ]
     },
     "execution_count": 62,
     "metadata": {},
     "output_type": "execute_result"
    }
   ],
   "source": [
    "# Воссстанавливаем параметры\n",
    "one_class_waight = df_m.loc[df_m['left'] == 1].shape[0] / df_m['left'].shape[0]\n",
    "zero_class_waight = 1 - one_class_waight\n",
    "class_waights = [one_class_waight, zero_class_waight]\n",
    "class_waights"
   ]
  },
  {
   "cell_type": "code",
   "execution_count": 63,
   "id": "609b2334",
   "metadata": {},
   "outputs": [],
   "source": [
    "train, test = train_test_split(df_m, test_size=0.25, random_state = 120922, stratify = df_m['left'])"
   ]
  },
  {
   "cell_type": "code",
   "execution_count": 64,
   "id": "96c1c300",
   "metadata": {},
   "outputs": [],
   "source": [
    "features_test, target_test = split_features_target(test, 'left')\n",
    "features_train, target_train = split_features_target(train, 'left')"
   ]
  },
  {
   "cell_type": "code",
   "execution_count": 65,
   "id": "8c1b260d",
   "metadata": {},
   "outputs": [
    {
     "name": "stdout",
     "output_type": "stream",
     "text": [
      "Fitting 3 folds for each of 1 candidates, totalling 3 fits\n",
      "CPU times: user 1.48 s, sys: 118 ms, total: 1.6 s\n",
      "Wall time: 4.42 s\n"
     ]
    },
    {
     "data": {
      "text/plain": [
       "{'learning_rate': 0.5, 'max_depth': 2, 'n_estimators': 400}"
      ]
     },
     "execution_count": 65,
     "metadata": {},
     "output_type": "execute_result"
    }
   ],
   "source": [
    "%%time\n",
    "# Произведем еще раз расчет для выбранной модели\n",
    "CBC_model = CatBoostClassifier(random_state=120922, silent=True, class_weights=class_waights)\n",
    "parameters = [{'max_depth': [2], 'n_estimators': [400], 'learning_rate':[0.5]}]\n",
    "CBC_model_gscv = GridSearchCV(CBC_model, param_grid = parameters, scoring = 'roc_auc',\n",
    "                             cv=3, verbose=True, n_jobs=-1)\n",
    "CBC_model_gscv.fit(features_train, target_train)\n",
    "CBC_model_gscv.best_params_"
   ]
  },
  {
   "cell_type": "markdown",
   "id": "917a2b5c",
   "metadata": {},
   "source": [
    "Выведем важность параметров"
   ]
  },
  {
   "cell_type": "code",
   "execution_count": 66,
   "id": "7a43fc00",
   "metadata": {},
   "outputs": [
    {
     "data": {
      "text/html": [
       "<div>\n",
       "<style scoped>\n",
       "    .dataframe tbody tr th:only-of-type {\n",
       "        vertical-align: middle;\n",
       "    }\n",
       "\n",
       "    .dataframe tbody tr th {\n",
       "        vertical-align: top;\n",
       "    }\n",
       "\n",
       "    .dataframe thead th {\n",
       "        text-align: right;\n",
       "    }\n",
       "</style>\n",
       "<table border=\"1\" class=\"dataframe\">\n",
       "  <thead>\n",
       "    <tr style=\"text-align: right;\">\n",
       "      <th></th>\n",
       "      <th>name</th>\n",
       "      <th>importance</th>\n",
       "    </tr>\n",
       "  </thead>\n",
       "  <tbody>\n",
       "    <tr>\n",
       "      <th>2</th>\n",
       "      <td>togethet</td>\n",
       "      <td>78.783985</td>\n",
       "    </tr>\n",
       "    <tr>\n",
       "      <th>4</th>\n",
       "      <td>Type_Two year</td>\n",
       "      <td>6.830589</td>\n",
       "    </tr>\n",
       "    <tr>\n",
       "      <th>0</th>\n",
       "      <td>MonthlyCharges</td>\n",
       "      <td>5.690851</td>\n",
       "    </tr>\n",
       "    <tr>\n",
       "      <th>3</th>\n",
       "      <td>Type_One year</td>\n",
       "      <td>2.333407</td>\n",
       "    </tr>\n",
       "    <tr>\n",
       "      <th>7</th>\n",
       "      <td>PaymentMethod_Electronic check</td>\n",
       "      <td>1.293322</td>\n",
       "    </tr>\n",
       "    <tr>\n",
       "      <th>18</th>\n",
       "      <td>internet_Yes</td>\n",
       "      <td>1.013815</td>\n",
       "    </tr>\n",
       "    <tr>\n",
       "      <th>12</th>\n",
       "      <td>OnlineSecurity_Yes</td>\n",
       "      <td>0.525027</td>\n",
       "    </tr>\n",
       "    <tr>\n",
       "      <th>20</th>\n",
       "      <td>phone_Yes</td>\n",
       "      <td>0.435047</td>\n",
       "    </tr>\n",
       "    <tr>\n",
       "      <th>5</th>\n",
       "      <td>PaperlessBilling_Yes</td>\n",
       "      <td>0.424953</td>\n",
       "    </tr>\n",
       "    <tr>\n",
       "      <th>15</th>\n",
       "      <td>TechSupport_Yes</td>\n",
       "      <td>0.410479</td>\n",
       "    </tr>\n",
       "    <tr>\n",
       "      <th>1</th>\n",
       "      <td>SeniorCitizen</td>\n",
       "      <td>0.355437</td>\n",
       "    </tr>\n",
       "    <tr>\n",
       "      <th>8</th>\n",
       "      <td>PaymentMethod_Mailed check</td>\n",
       "      <td>0.334767</td>\n",
       "    </tr>\n",
       "    <tr>\n",
       "      <th>17</th>\n",
       "      <td>StreamingMovies_Yes</td>\n",
       "      <td>0.249422</td>\n",
       "    </tr>\n",
       "    <tr>\n",
       "      <th>13</th>\n",
       "      <td>OnlineBackup_Yes</td>\n",
       "      <td>0.225196</td>\n",
       "    </tr>\n",
       "    <tr>\n",
       "      <th>16</th>\n",
       "      <td>StreamingTV_Yes</td>\n",
       "      <td>0.219416</td>\n",
       "    </tr>\n",
       "    <tr>\n",
       "      <th>19</th>\n",
       "      <td>MultipleLines_Yes</td>\n",
       "      <td>0.216667</td>\n",
       "    </tr>\n",
       "    <tr>\n",
       "      <th>11</th>\n",
       "      <td>Dependents_Yes</td>\n",
       "      <td>0.202726</td>\n",
       "    </tr>\n",
       "    <tr>\n",
       "      <th>9</th>\n",
       "      <td>gender_Male</td>\n",
       "      <td>0.175318</td>\n",
       "    </tr>\n",
       "    <tr>\n",
       "      <th>10</th>\n",
       "      <td>Partner_Yes</td>\n",
       "      <td>0.152300</td>\n",
       "    </tr>\n",
       "    <tr>\n",
       "      <th>6</th>\n",
       "      <td>PaymentMethod_Credit card (automatic)</td>\n",
       "      <td>0.071592</td>\n",
       "    </tr>\n",
       "    <tr>\n",
       "      <th>14</th>\n",
       "      <td>DeviceProtection_Yes</td>\n",
       "      <td>0.055687</td>\n",
       "    </tr>\n",
       "  </tbody>\n",
       "</table>\n",
       "</div>"
      ],
      "text/plain": [
       "                                     name  importance\n",
       "2                                togethet   78.783985\n",
       "4                           Type_Two year    6.830589\n",
       "0                          MonthlyCharges    5.690851\n",
       "3                           Type_One year    2.333407\n",
       "7          PaymentMethod_Electronic check    1.293322\n",
       "18                           internet_Yes    1.013815\n",
       "12                     OnlineSecurity_Yes    0.525027\n",
       "20                              phone_Yes    0.435047\n",
       "5                    PaperlessBilling_Yes    0.424953\n",
       "15                        TechSupport_Yes    0.410479\n",
       "1                           SeniorCitizen    0.355437\n",
       "8              PaymentMethod_Mailed check    0.334767\n",
       "17                    StreamingMovies_Yes    0.249422\n",
       "13                       OnlineBackup_Yes    0.225196\n",
       "16                        StreamingTV_Yes    0.219416\n",
       "19                      MultipleLines_Yes    0.216667\n",
       "11                         Dependents_Yes    0.202726\n",
       "9                             gender_Male    0.175318\n",
       "10                            Partner_Yes    0.152300\n",
       "6   PaymentMethod_Credit card (automatic)    0.071592\n",
       "14                   DeviceProtection_Yes    0.055687"
      ]
     },
     "execution_count": 66,
     "metadata": {},
     "output_type": "execute_result"
    }
   ],
   "source": [
    "features_train_importance = pd.DataFrame({'name': features_train.columns,\n",
    "                                          'importance': CBC_model_gscv.best_estimator_.feature_importances_})\n",
    "features_train_importance = features_train_importance.sort_values('importance', ascending=False)\n",
    "features_train_importance"
   ]
  },
  {
   "cell_type": "markdown",
   "id": "4e9eb734",
   "metadata": {},
   "source": [
    "Удалим из датасета все столбцы важность которых ставляет менее 0.3"
   ]
  },
  {
   "cell_type": "code",
   "execution_count": 67,
   "id": "c3c48d11",
   "metadata": {},
   "outputs": [],
   "source": [
    "df_m = df_m.drop(columns=['StreamingMovies_Yes', 'OnlineBackup_Yes', 'StreamingTV_Yes', 'MultipleLines_Yes', 'Dependents_Yes',\n",
    "                          'gender_Male', 'Partner_Yes', 'PaymentMethod_Credit card (automatic)', 'DeviceProtection_Yes'])"
   ]
  },
  {
   "cell_type": "markdown",
   "id": "8620ae48",
   "metadata": {},
   "source": [
    "Еще раз разобьем датасет на обучающую и тестовую выборки одберем гиперпараметры и обучим модель"
   ]
  },
  {
   "cell_type": "code",
   "execution_count": 68,
   "id": "b10576b9",
   "metadata": {},
   "outputs": [],
   "source": [
    "train, test = train_test_split(df_m, test_size=0.25, random_state = 120922, stratify = df_m['left'])"
   ]
  },
  {
   "cell_type": "code",
   "execution_count": 69,
   "id": "95f7f321",
   "metadata": {},
   "outputs": [],
   "source": [
    "features_test, target_test = split_features_target(test, 'left')\n",
    "features_train, target_train = split_features_target(train, 'left')"
   ]
  },
  {
   "cell_type": "code",
   "execution_count": 70,
   "id": "1207badf",
   "metadata": {},
   "outputs": [
    {
     "name": "stdout",
     "output_type": "stream",
     "text": [
      "Fitting 3 folds for each of 27 candidates, totalling 81 fits\n",
      "CPU times: user 39.2 s, sys: 3.51 s, total: 42.8 s\n",
      "Wall time: 2min 39s\n"
     ]
    },
    {
     "data": {
      "text/plain": [
       "{'learning_rate': 0.3, 'max_depth': 2, 'n_estimators': 900}"
      ]
     },
     "execution_count": 70,
     "metadata": {},
     "output_type": "execute_result"
    }
   ],
   "source": [
    "%%time\n",
    "# Произведем еще раз расчет для выбранной модели\n",
    "CBC_model = CatBoostClassifier(random_state=120922, silent=True, class_weights=class_waights)\n",
    "parameters = [{'max_depth': [1, 2, 3], 'n_estimators': [800, 900, 100], 'learning_rate':[0.2, 0.3, 0.4]}]\n",
    "CBC_model_gscv = GridSearchCV(CBC_model, param_grid = parameters, scoring = 'roc_auc',\n",
    "                             cv=3, verbose=True, n_jobs=-1)\n",
    "CBC_model_gscv.fit(features_train, target_train)\n",
    "CBC_model_gscv.best_params_"
   ]
  },
  {
   "cell_type": "code",
   "execution_count": 71,
   "id": "f8c4815b",
   "metadata": {},
   "outputs": [
    {
     "data": {
      "text/plain": [
       "0.9302372302637435"
      ]
     },
     "execution_count": 71,
     "metadata": {},
     "output_type": "execute_result"
    }
   ],
   "source": [
    "# roc_auc для выбранной модели с подобранными параметрами\n",
    "CBC_model_gscv.best_score_"
   ]
  },
  {
   "cell_type": "markdown",
   "id": "f9e9103b",
   "metadata": {},
   "source": [
    "## Тестирование"
   ]
  },
  {
   "cell_type": "code",
   "execution_count": 72,
   "id": "cdf820fd",
   "metadata": {},
   "outputs": [
    {
     "name": "stdout",
     "output_type": "stream",
     "text": [
      "ROC_AUC: 0.94\n"
     ]
    }
   ],
   "source": [
    "print('ROC_AUC: {:.2f}'.format(roc_auc_score(\n",
    "    target_test, CBC_model_gscv.best_estimator_.predict_proba(features_test)[:, 1])))"
   ]
  },
  {
   "cell_type": "code",
   "execution_count": 73,
   "id": "8c4768c8",
   "metadata": {},
   "outputs": [
    {
     "name": "stdout",
     "output_type": "stream",
     "text": [
      "Accuracy: 86.06%\n"
     ]
    }
   ],
   "source": [
    "print('Accuracy: {:.2%}'.format(accuracy_score(\n",
    "    target_test, CBC_model_gscv.best_estimator_.predict(features_test))))"
   ]
  },
  {
   "cell_type": "code",
   "execution_count": 74,
   "id": "76ff7271",
   "metadata": {},
   "outputs": [
    {
     "data": {
      "image/png": "[encoded data removed]",
      "text/plain": [
       "<Figure size 576x576 with 1 Axes>"
      ]
     },
     "metadata": {
      "needs_background": "light"
     },
     "output_type": "display_data"
    }
   ],
   "source": [
    "fpr, tpr, thresholds = roc_curve(target_test, CBC_model_gscv.best_estimator_.predict_proba(features_test)[:, 1])\n",
    "plt.figure(figsize=(8, 8))\n",
    "plt.plot(fpr, tpr)\n",
    "plt.plot([0, 1], [0, 1], linestyle='--')\n",
    "plt.xlim([0.0, 1.0])\n",
    "plt.ylim([0.0, 1.0])\n",
    "plt.xlabel('False Positive Rate')\n",
    "plt.ylabel('True Positive Rate')\n",
    "plt.title('ROC-кривая')\n",
    "plt.show()"
   ]
  },
  {
   "cell_type": "markdown",
   "id": "15e1eb78",
   "metadata": {},
   "source": [
    "**Вывод:** Наша модель модель добилась хороших результатов, площадь под ROC кривой на тестовой выборке составляет 0.94. Точность 86.07 %.\n",
    "Самым важным признаком является продолжительность пользования услугами, чем дольше клиент с компанием, тем меньше вероятность, что он покинет ее. Следующим по важности признаком является, сколько в общем клиент уже заплатил компании. Чаще всего уходят клиенты с большой платой в месяц: 25 % клиентов уходит после первого месяце, 50 % в течение 10 месяцев."
   ]
  },
  {
   "cell_type": "markdown",
   "id": "2b07796c",
   "metadata": {},
   "source": [
    "## Отчет"
   ]
  },
  {
   "cell_type": "markdown",
   "id": "fa8ab216",
   "metadata": {},
   "source": [
    "В процессе работы была обнаружена корреляция между признаками MonthlyCharges, TotalCharges и togethet и для того, чтобы определить какое поле следует исключить из модели пришлось делать длинный расчет и сравнивать результаты. По результатам анализа было удалено поле MonthlyCharges.\n",
    "Итоговая модель CatBoostClassifier с гиперпараметрами learning_rate=0.3, max_depth=2, n_estimators=900. Модель показывает AUC-ROC=0.94  и Accuracy=86.6%.\n",
    "При ознакомлении с данными пропусков в данных не обнаружено, для удобства работы с датами были изменены типы полей у BeginDate и EndDate на тип дата; изменен тип данных в поле TotalCharges на вещественный.\n",
    "В датасет добавлены поля internet и phone, которые позволили выявить клиентов которые пользуются интернетом или телефоном или не пользуются этими услугами. В датасет добавлено новое поле togethet в которое записана информация о времени пользования клиентом услугами компании. Удалены записи клиентов подключенных в день выгрузки датасета (таких оказалось 11 человек). При анализе датасета было принято решение об удалении поля InternetService, в котором находилась информация о способе подключения клиента к интернету, т.к. в датасет было добавлено поле internet в котором есть информация пользуется ли клиент интернетом или нет, а использование того или иного способа доступа просто будет излишне перегружать модель.\n",
    "Для эффективного обучения моделей было проведено унитарное кодирование признаков.\n",
    "В качестве моделей были использованы RandomForestClassifier и CatBoostClassifier. Наилучшие результаты показала модель CatBoostClassifier. С ее помощью были выявлены наиболее важные для данной задачи классификации признаки и удалены неважные, такие как: StreamingMovies_Yes, OnlineBackup_Yes, StreamingTV_Yes, MultipleLines_Yes, Dependents_Yes, gender_Male, Partner_Yes, PaymentMethod_Credit card (automatic), DeviceProtection_Yes."
   ]
  },
  {
   "cell_type": "code",
   "execution_count": null,
   "id": "f4f7481c",
   "metadata": {},
   "outputs": [],
   "source": []
  }
 ],
 "metadata": {
  "ExecuteTimeLog": [
   {
    "duration": 1433,
    "start_time": "2022-09-15T05:45:48.878Z"
   },
   {
    "duration": 337,
    "start_time": "2022-09-15T05:45:55.912Z"
   },
   {
    "duration": 3,
    "start_time": "2022-09-15T05:46:12.070Z"
   },
   {
    "duration": 47,
    "start_time": "2022-09-15T05:46:24.480Z"
   },
   {
    "duration": 30,
    "start_time": "2022-09-15T05:48:01.525Z"
   },
   {
    "duration": 34,
    "start_time": "2022-09-15T05:48:49.109Z"
   },
   {
    "duration": 23,
    "start_time": "2022-09-15T05:49:02.449Z"
   },
   {
    "duration": 5,
    "start_time": "2022-09-15T06:08:30.833Z"
   },
   {
    "duration": 20,
    "start_time": "2022-09-15T06:08:34.966Z"
   },
   {
    "duration": 17,
    "start_time": "2022-09-15T06:11:09.029Z"
   },
   {
    "duration": 17,
    "start_time": "2022-09-15T06:11:18.679Z"
   },
   {
    "duration": 140,
    "start_time": "2022-09-15T06:14:31.876Z"
   },
   {
    "duration": 35,
    "start_time": "2022-09-15T06:14:42.169Z"
   },
   {
    "duration": 17,
    "start_time": "2022-09-15T06:15:21.598Z"
   },
   {
    "duration": 13,
    "start_time": "2022-09-15T06:15:28.597Z"
   },
   {
    "duration": 55,
    "start_time": "2022-09-15T06:15:42.544Z"
   },
   {
    "duration": 10,
    "start_time": "2022-09-15T06:20:13.654Z"
   },
   {
    "duration": 30,
    "start_time": "2022-09-15T06:23:01.584Z"
   },
   {
    "duration": 5,
    "start_time": "2022-09-15T06:24:08.020Z"
   },
   {
    "duration": 5,
    "start_time": "2022-09-15T06:25:05.085Z"
   },
   {
    "duration": 16,
    "start_time": "2022-09-15T06:25:07.038Z"
   },
   {
    "duration": 7,
    "start_time": "2022-09-15T06:25:19.002Z"
   },
   {
    "duration": 16,
    "start_time": "2022-09-15T06:25:20.638Z"
   },
   {
    "duration": 6,
    "start_time": "2022-09-15T06:25:55.518Z"
   },
   {
    "duration": 6,
    "start_time": "2022-09-15T06:28:18.989Z"
   },
   {
    "duration": 5,
    "start_time": "2022-09-15T06:28:19.936Z"
   },
   {
    "duration": 12,
    "start_time": "2022-09-15T06:28:22.254Z"
   },
   {
    "duration": 9,
    "start_time": "2022-09-15T06:28:26.111Z"
   },
   {
    "duration": 331,
    "start_time": "2022-09-15T06:28:30.368Z"
   },
   {
    "duration": 1551,
    "start_time": "2022-09-16T05:56:16.094Z"
   },
   {
    "duration": 515,
    "start_time": "2022-09-16T05:56:20.791Z"
   },
   {
    "duration": 4,
    "start_time": "2022-09-16T05:56:24.294Z"
   },
   {
    "duration": 47,
    "start_time": "2022-09-16T05:56:27.681Z"
   },
   {
    "duration": 33,
    "start_time": "2022-09-16T05:56:30.909Z"
   },
   {
    "duration": 38,
    "start_time": "2022-09-16T05:56:33.154Z"
   },
   {
    "duration": 21,
    "start_time": "2022-09-16T05:56:35.320Z"
   },
   {
    "duration": 4,
    "start_time": "2022-09-16T05:56:38.722Z"
   },
   {
    "duration": 17,
    "start_time": "2022-09-16T05:56:39.489Z"
   },
   {
    "duration": 17,
    "start_time": "2022-09-16T05:56:41.175Z"
   },
   {
    "duration": 17,
    "start_time": "2022-09-16T05:56:45.435Z"
   },
   {
    "duration": 12,
    "start_time": "2022-09-16T05:56:48.199Z"
   },
   {
    "duration": 50,
    "start_time": "2022-09-16T05:56:50.058Z"
   },
   {
    "duration": 6,
    "start_time": "2022-09-16T05:56:53.962Z"
   },
   {
    "duration": 26,
    "start_time": "2022-09-16T05:56:57.980Z"
   },
   {
    "duration": 6,
    "start_time": "2022-09-16T05:57:00.870Z"
   },
   {
    "duration": 5,
    "start_time": "2022-09-16T05:57:02.588Z"
   },
   {
    "duration": 16,
    "start_time": "2022-09-16T05:57:03.694Z"
   },
   {
    "duration": 6,
    "start_time": "2022-09-16T05:57:05.598Z"
   },
   {
    "duration": 21,
    "start_time": "2022-09-16T05:57:06.422Z"
   },
   {
    "duration": 7,
    "start_time": "2022-09-16T05:57:09.058Z"
   },
   {
    "duration": 5,
    "start_time": "2022-09-16T05:57:12.256Z"
   },
   {
    "duration": 5,
    "start_time": "2022-09-16T05:57:13.205Z"
   },
   {
    "duration": 7,
    "start_time": "2022-09-16T05:57:14.912Z"
   },
   {
    "duration": 12,
    "start_time": "2022-09-16T05:57:16.351Z"
   },
   {
    "duration": 308,
    "start_time": "2022-09-16T05:57:18.335Z"
   },
   {
    "duration": 1618,
    "start_time": "2022-09-16T05:57:21.722Z"
   },
   {
    "duration": 11,
    "start_time": "2022-09-16T06:16:23.039Z"
   },
   {
    "duration": 6,
    "start_time": "2022-09-16T06:36:23.402Z"
   },
   {
    "duration": 7,
    "start_time": "2022-09-16T06:36:25.500Z"
   },
   {
    "duration": 7,
    "start_time": "2022-09-16T06:38:36.875Z"
   },
   {
    "duration": 13,
    "start_time": "2022-09-16T06:58:12.576Z"
   },
   {
    "duration": 7,
    "start_time": "2022-09-16T06:58:31.851Z"
   },
   {
    "duration": 26,
    "start_time": "2022-09-16T07:00:45.794Z"
   },
   {
    "duration": 77,
    "start_time": "2022-09-16T07:03:25.552Z"
   },
   {
    "duration": 3,
    "start_time": "2022-09-16T07:07:52.355Z"
   },
   {
    "duration": 3,
    "start_time": "2022-09-16T07:12:05.883Z"
   },
   {
    "duration": 14,
    "start_time": "2022-09-16T07:12:37.166Z"
   },
   {
    "duration": 32,
    "start_time": "2022-09-16T07:17:53.722Z"
   },
   {
    "duration": 7,
    "start_time": "2022-09-16T07:23:19.497Z"
   },
   {
    "duration": 6,
    "start_time": "2022-09-16T07:26:48.528Z"
   },
   {
    "duration": 4,
    "start_time": "2022-09-16T07:32:45.118Z"
   },
   {
    "duration": 11,
    "start_time": "2022-09-16T07:33:05.743Z"
   },
   {
    "duration": 11,
    "start_time": "2022-09-16T07:36:59.071Z"
   },
   {
    "duration": 6,
    "start_time": "2022-09-16T07:37:08.759Z"
   },
   {
    "duration": 9,
    "start_time": "2022-09-16T07:40:22.959Z"
   },
   {
    "duration": 30,
    "start_time": "2022-09-16T07:48:28.696Z"
   },
   {
    "duration": 7,
    "start_time": "2022-09-16T07:48:35.004Z"
   },
   {
    "duration": 3,
    "start_time": "2022-09-16T07:51:05.761Z"
   },
   {
    "duration": 11,
    "start_time": "2022-09-16T07:52:16.096Z"
   },
   {
    "duration": 13,
    "start_time": "2022-09-16T07:53:52.578Z"
   },
   {
    "duration": 4,
    "start_time": "2022-09-16T07:53:55.801Z"
   },
   {
    "duration": 13,
    "start_time": "2022-09-16T07:53:57.651Z"
   },
   {
    "duration": 5,
    "start_time": "2022-09-16T07:54:11.298Z"
   },
   {
    "duration": 10,
    "start_time": "2022-09-16T09:26:37.030Z"
   },
   {
    "duration": 5,
    "start_time": "2022-09-16T09:26:56.737Z"
   },
   {
    "duration": 212,
    "start_time": "2022-09-16T10:06:59.378Z"
   },
   {
    "duration": 219,
    "start_time": "2022-09-16T10:07:13.575Z"
   },
   {
    "duration": 71,
    "start_time": "2022-09-16T10:07:49.497Z"
   },
   {
    "duration": 90,
    "start_time": "2022-09-16T10:08:38.176Z"
   },
   {
    "duration": 5,
    "start_time": "2022-09-16T10:08:59.039Z"
   },
   {
    "duration": 28206,
    "start_time": "2022-09-16T10:09:04.171Z"
   },
   {
    "duration": 8119,
    "start_time": "2022-09-16T10:15:24.169Z"
   },
   {
    "duration": 9554,
    "start_time": "2022-09-16T10:16:23.523Z"
   },
   {
    "duration": 9933,
    "start_time": "2022-09-16T10:18:18.560Z"
   },
   {
    "duration": 521691,
    "start_time": "2022-09-16T10:18:45.211Z"
   },
   {
    "duration": 150509,
    "start_time": "2022-09-16T10:29:24.695Z"
   },
   {
    "duration": 87349,
    "start_time": "2022-09-16T10:33:34.702Z"
   },
   {
    "duration": 2220772,
    "start_time": "2022-09-16T11:20:03.678Z"
   },
   {
    "duration": 9,
    "start_time": "2022-09-16T13:01:52.576Z"
   },
   {
    "duration": 7,
    "start_time": "2022-09-16T13:02:18.017Z"
   },
   {
    "duration": 137,
    "start_time": "2022-09-19T13:35:41.851Z"
   },
   {
    "duration": 1766,
    "start_time": "2022-09-19T13:35:55.758Z"
   },
   {
    "duration": 4,
    "start_time": "2022-09-19T13:36:05.371Z"
   },
   {
    "duration": 351,
    "start_time": "2022-09-19T13:36:09.766Z"
   },
   {
    "duration": 3,
    "start_time": "2022-09-19T13:36:17.173Z"
   },
   {
    "duration": 69,
    "start_time": "2022-09-19T13:36:23.244Z"
   },
   {
    "duration": 33,
    "start_time": "2022-09-19T13:36:25.223Z"
   },
   {
    "duration": 38,
    "start_time": "2022-09-19T13:36:27.500Z"
   },
   {
    "duration": 22,
    "start_time": "2022-09-19T13:36:29.904Z"
   },
   {
    "duration": 5,
    "start_time": "2022-09-19T13:36:34.261Z"
   },
   {
    "duration": 22,
    "start_time": "2022-09-19T13:36:35.367Z"
   },
   {
    "duration": 19,
    "start_time": "2022-09-19T13:36:37.716Z"
   },
   {
    "duration": 16,
    "start_time": "2022-09-19T13:36:50.593Z"
   },
   {
    "duration": 14,
    "start_time": "2022-09-19T13:36:53.592Z"
   },
   {
    "duration": 39,
    "start_time": "2022-09-19T13:36:55.362Z"
   },
   {
    "duration": 8,
    "start_time": "2022-09-19T13:36:59.111Z"
   },
   {
    "duration": 32,
    "start_time": "2022-09-19T13:37:01.612Z"
   },
   {
    "duration": 6,
    "start_time": "2022-09-19T13:37:04.232Z"
   },
   {
    "duration": 7,
    "start_time": "2022-09-19T13:37:07.240Z"
   },
   {
    "duration": 18,
    "start_time": "2022-09-19T13:37:08.595Z"
   },
   {
    "duration": 7,
    "start_time": "2022-09-19T13:37:10.801Z"
   },
   {
    "duration": 23,
    "start_time": "2022-09-19T13:37:11.560Z"
   },
   {
    "duration": 9,
    "start_time": "2022-09-19T13:37:13.996Z"
   },
   {
    "duration": 5,
    "start_time": "2022-09-19T13:37:16.081Z"
   },
   {
    "duration": 5,
    "start_time": "2022-09-19T13:37:17.891Z"
   },
   {
    "duration": 9,
    "start_time": "2022-09-19T13:37:20.311Z"
   },
   {
    "duration": 11,
    "start_time": "2022-09-19T13:37:21.461Z"
   },
   {
    "duration": 318,
    "start_time": "2022-09-19T13:37:22.801Z"
   },
   {
    "duration": 10,
    "start_time": "2022-09-19T13:37:27.463Z"
   },
   {
    "duration": 6,
    "start_time": "2022-09-19T13:37:30.749Z"
   },
   {
    "duration": 8,
    "start_time": "2022-09-19T13:37:31.936Z"
   },
   {
    "duration": 13,
    "start_time": "2022-09-19T13:37:34.569Z"
   },
   {
    "duration": 8,
    "start_time": "2022-09-19T13:37:36.029Z"
   },
   {
    "duration": 29,
    "start_time": "2022-09-19T13:37:37.463Z"
   },
   {
    "duration": 65,
    "start_time": "2022-09-19T13:37:39.451Z"
   },
   {
    "duration": 4,
    "start_time": "2022-09-19T13:37:43.176Z"
   },
   {
    "duration": 3,
    "start_time": "2022-09-19T13:37:46.132Z"
   },
   {
    "duration": 26,
    "start_time": "2022-09-19T13:37:51.185Z"
   },
   {
    "duration": 8,
    "start_time": "2022-09-19T13:37:52.019Z"
   },
   {
    "duration": 6,
    "start_time": "2022-09-19T13:37:54.730Z"
   },
   {
    "duration": 5,
    "start_time": "2022-09-19T13:37:57.032Z"
   },
   {
    "duration": 12,
    "start_time": "2022-09-19T13:37:58.207Z"
   },
   {
    "duration": 7,
    "start_time": "2022-09-19T13:38:01.313Z"
   },
   {
    "duration": 7,
    "start_time": "2022-09-19T13:38:03.854Z"
   },
   {
    "duration": 4,
    "start_time": "2022-09-19T13:38:05.665Z"
   },
   {
    "duration": 7,
    "start_time": "2022-09-19T13:38:07.669Z"
   },
   {
    "duration": 92487,
    "start_time": "2022-09-19T13:38:23.653Z"
   },
   {
    "duration": 5,
    "start_time": "2022-09-19T13:40:07.131Z"
   },
   {
    "duration": 4827,
    "start_time": "2022-09-19T13:40:34.143Z"
   },
   {
    "duration": 4,
    "start_time": "2022-09-19T13:40:44.300Z"
   },
   {
    "duration": 11,
    "start_time": "2022-09-19T13:43:49.152Z"
   },
   {
    "duration": 13,
    "start_time": "2022-09-19T13:44:36.645Z"
   },
   {
    "duration": 9,
    "start_time": "2022-09-19T13:48:13.145Z"
   },
   {
    "duration": 7,
    "start_time": "2022-09-19T13:49:55.415Z"
   },
   {
    "duration": 12,
    "start_time": "2022-09-19T13:54:07.422Z"
   },
   {
    "duration": 234,
    "start_time": "2022-09-19T13:54:20.855Z"
   },
   {
    "duration": 131,
    "start_time": "2022-09-19T13:54:30.460Z"
   },
   {
    "duration": 8,
    "start_time": "2022-09-20T13:53:18.483Z"
   },
   {
    "duration": 60,
    "start_time": "2022-09-20T13:53:27.231Z"
   },
   {
    "duration": 1610,
    "start_time": "2022-09-20T13:53:48.361Z"
   },
   {
    "duration": 358,
    "start_time": "2022-09-20T13:53:52.652Z"
   },
   {
    "duration": 3,
    "start_time": "2022-09-20T13:53:55.676Z"
   },
   {
    "duration": 75,
    "start_time": "2022-09-20T13:53:59.093Z"
   },
   {
    "duration": 34,
    "start_time": "2022-09-20T13:54:01.039Z"
   },
   {
    "duration": 47,
    "start_time": "2022-09-20T13:54:02.786Z"
   },
   {
    "duration": 20,
    "start_time": "2022-09-20T13:54:04.461Z"
   },
   {
    "duration": 5,
    "start_time": "2022-09-20T13:54:07.431Z"
   },
   {
    "duration": 16,
    "start_time": "2022-09-20T13:54:08.337Z"
   },
   {
    "duration": 22,
    "start_time": "2022-09-20T13:54:10.513Z"
   },
   {
    "duration": 15,
    "start_time": "2022-09-20T13:54:13.387Z"
   },
   {
    "duration": 13,
    "start_time": "2022-09-20T13:54:15.539Z"
   },
   {
    "duration": 37,
    "start_time": "2022-09-20T13:54:17.558Z"
   },
   {
    "duration": 6,
    "start_time": "2022-09-20T13:54:20.966Z"
   },
   {
    "duration": 31,
    "start_time": "2022-09-20T13:54:24.237Z"
   },
   {
    "duration": 5,
    "start_time": "2022-09-20T13:54:27.241Z"
   },
   {
    "duration": 7,
    "start_time": "2022-09-20T13:54:28.737Z"
   },
   {
    "duration": 15,
    "start_time": "2022-09-20T13:54:29.665Z"
   },
   {
    "duration": 7,
    "start_time": "2022-09-20T13:54:32.339Z"
   },
   {
    "duration": 15,
    "start_time": "2022-09-20T13:54:34.093Z"
   },
   {
    "duration": 6,
    "start_time": "2022-09-20T13:54:36.791Z"
   },
   {
    "duration": 5,
    "start_time": "2022-09-20T13:54:39.739Z"
   },
   {
    "duration": 7,
    "start_time": "2022-09-20T13:54:40.805Z"
   },
   {
    "duration": 12,
    "start_time": "2022-09-20T13:54:42.827Z"
   },
   {
    "duration": 8,
    "start_time": "2022-09-20T13:54:44.685Z"
   },
   {
    "duration": 314,
    "start_time": "2022-09-20T13:54:46.913Z"
   },
   {
    "duration": 8,
    "start_time": "2022-09-20T13:54:50.752Z"
   },
   {
    "duration": 191,
    "start_time": "2022-09-20T13:54:52.739Z"
   },
   {
    "duration": 6,
    "start_time": "2022-09-20T13:56:40.365Z"
   },
   {
    "duration": 9,
    "start_time": "2022-09-20T13:56:43.807Z"
   },
   {
    "duration": 10,
    "start_time": "2022-09-20T13:56:47.705Z"
   },
   {
    "duration": 5,
    "start_time": "2022-09-20T13:57:18.610Z"
   },
   {
    "duration": 2,
    "start_time": "2022-09-20T13:58:41.966Z"
   },
   {
    "duration": 2,
    "start_time": "2022-09-20T13:58:44.638Z"
   },
   {
    "duration": 15,
    "start_time": "2022-09-20T13:58:45.783Z"
   },
   {
    "duration": 143,
    "start_time": "2022-09-20T13:59:42.981Z"
   },
   {
    "duration": 43,
    "start_time": "2022-09-20T14:09:28.747Z"
   },
   {
    "duration": 97,
    "start_time": "2022-09-20T14:09:44.022Z"
   },
   {
    "duration": 63,
    "start_time": "2022-09-20T14:10:07.708Z"
   },
   {
    "duration": 129,
    "start_time": "2022-09-20T14:12:36.215Z"
   },
   {
    "duration": 23,
    "start_time": "2022-09-20T14:12:53.884Z"
   },
   {
    "duration": 5,
    "start_time": "2022-09-20T14:16:46.238Z"
   },
   {
    "duration": 23,
    "start_time": "2022-09-20T14:17:41.892Z"
   },
   {
    "duration": 12,
    "start_time": "2022-09-20T14:18:34.745Z"
   },
   {
    "duration": 22,
    "start_time": "2022-09-20T14:20:35.728Z"
   },
   {
    "duration": 16,
    "start_time": "2022-09-20T14:22:15.142Z"
   },
   {
    "duration": 1676,
    "start_time": "2022-09-21T12:30:25.402Z"
   },
   {
    "duration": 595,
    "start_time": "2022-09-21T12:30:27.607Z"
   },
   {
    "duration": 3,
    "start_time": "2022-09-21T12:30:30.040Z"
   },
   {
    "duration": 55,
    "start_time": "2022-09-21T12:30:33.137Z"
   },
   {
    "duration": 37,
    "start_time": "2022-09-21T12:30:35.180Z"
   },
   {
    "duration": 43,
    "start_time": "2022-09-21T12:30:36.003Z"
   },
   {
    "duration": 22,
    "start_time": "2022-09-21T12:30:37.047Z"
   },
   {
    "duration": 4,
    "start_time": "2022-09-21T12:30:41.178Z"
   },
   {
    "duration": 21,
    "start_time": "2022-09-21T12:30:41.973Z"
   },
   {
    "duration": 19,
    "start_time": "2022-09-21T12:30:43.935Z"
   },
   {
    "duration": 16,
    "start_time": "2022-09-21T12:30:45.915Z"
   },
   {
    "duration": 13,
    "start_time": "2022-09-21T12:30:48.813Z"
   },
   {
    "duration": 37,
    "start_time": "2022-09-21T12:30:50.546Z"
   },
   {
    "duration": 6,
    "start_time": "2022-09-21T12:30:54.170Z"
   },
   {
    "duration": 26,
    "start_time": "2022-09-21T12:30:57.416Z"
   },
   {
    "duration": 6,
    "start_time": "2022-09-21T12:31:00.265Z"
   },
   {
    "duration": 5,
    "start_time": "2022-09-21T12:31:02.647Z"
   },
   {
    "duration": 16,
    "start_time": "2022-09-21T12:31:03.795Z"
   },
   {
    "duration": 6,
    "start_time": "2022-09-21T12:31:06.442Z"
   },
   {
    "duration": 16,
    "start_time": "2022-09-21T12:31:14.715Z"
   },
   {
    "duration": 7,
    "start_time": "2022-09-21T12:31:17.147Z"
   },
   {
    "duration": 5,
    "start_time": "2022-09-21T12:31:19.765Z"
   },
   {
    "duration": 5,
    "start_time": "2022-09-21T12:31:29.179Z"
   },
   {
    "duration": 8,
    "start_time": "2022-09-21T12:31:30.766Z"
   },
   {
    "duration": 8,
    "start_time": "2022-09-21T12:31:32.140Z"
   },
   {
    "duration": 342,
    "start_time": "2022-09-21T12:31:32.892Z"
   },
   {
    "duration": 10,
    "start_time": "2022-09-21T12:31:36.798Z"
   },
   {
    "duration": 223,
    "start_time": "2022-09-21T12:31:37.733Z"
   },
   {
    "duration": 5,
    "start_time": "2022-09-21T12:31:44.578Z"
   },
   {
    "duration": 8,
    "start_time": "2022-09-21T12:31:52.937Z"
   },
   {
    "duration": 10,
    "start_time": "2022-09-21T12:32:11.117Z"
   },
   {
    "duration": 128,
    "start_time": "2022-09-21T12:32:24.672Z"
   },
   {
    "duration": 23,
    "start_time": "2022-09-21T12:32:27.435Z"
   },
   {
    "duration": 4,
    "start_time": "2022-09-21T12:32:34.603Z"
   },
   {
    "duration": 5,
    "start_time": "2022-09-21T12:32:52.403Z"
   },
   {
    "duration": 2,
    "start_time": "2022-09-21T12:32:55.090Z"
   },
   {
    "duration": 1469,
    "start_time": "2022-09-21T12:32:56.271Z"
   },
   {
    "duration": 3,
    "start_time": "2022-09-21T12:33:09.071Z"
   },
   {
    "duration": 18,
    "start_time": "2022-09-21T12:33:11.310Z"
   },
   {
    "duration": 23,
    "start_time": "2022-09-21T12:33:25.138Z"
   },
   {
    "duration": 14,
    "start_time": "2022-09-21T12:33:32.640Z"
   },
   {
    "duration": 16,
    "start_time": "2022-09-21T12:33:54.589Z"
   },
   {
    "duration": 71,
    "start_time": "2022-09-21T12:58:46.116Z"
   },
   {
    "duration": 5,
    "start_time": "2022-09-21T13:32:18.769Z"
   },
   {
    "duration": 1276,
    "start_time": "2022-09-21T14:04:39.295Z"
   },
   {
    "duration": 10,
    "start_time": "2022-09-21T14:06:01.555Z"
   },
   {
    "duration": 12,
    "start_time": "2022-09-21T14:06:56.775Z"
   },
   {
    "duration": 363,
    "start_time": "2022-09-21T14:10:54.783Z"
   },
   {
    "duration": 5,
    "start_time": "2022-09-21T14:17:58.491Z"
   },
   {
    "duration": 12,
    "start_time": "2022-09-21T14:17:59.709Z"
   },
   {
    "duration": 10,
    "start_time": "2022-09-21T14:18:04.676Z"
   },
   {
    "duration": 7,
    "start_time": "2022-09-21T14:18:11.909Z"
   },
   {
    "duration": 3,
    "start_time": "2022-09-21T14:18:14.379Z"
   },
   {
    "duration": 7,
    "start_time": "2022-09-21T14:18:31.555Z"
   },
   {
    "duration": 3,
    "start_time": "2022-09-21T14:18:35.277Z"
   },
   {
    "duration": 7,
    "start_time": "2022-09-21T14:18:36.676Z"
   },
   {
    "duration": 1608,
    "start_time": "2022-09-21T14:19:07.109Z"
   },
   {
    "duration": 205,
    "start_time": "2022-09-21T14:19:09.070Z"
   },
   {
    "duration": 4,
    "start_time": "2022-09-21T14:19:11.347Z"
   },
   {
    "duration": 64,
    "start_time": "2022-09-21T14:19:13.347Z"
   },
   {
    "duration": 32,
    "start_time": "2022-09-21T14:19:15.608Z"
   },
   {
    "duration": 40,
    "start_time": "2022-09-21T14:19:17.212Z"
   },
   {
    "duration": 20,
    "start_time": "2022-09-21T14:19:17.955Z"
   },
   {
    "duration": 4,
    "start_time": "2022-09-21T14:19:21.859Z"
   },
   {
    "duration": 28,
    "start_time": "2022-09-21T14:19:22.578Z"
   },
   {
    "duration": 25,
    "start_time": "2022-09-21T14:19:24.394Z"
   },
   {
    "duration": 15,
    "start_time": "2022-09-21T14:19:26.443Z"
   },
   {
    "duration": 22,
    "start_time": "2022-09-21T14:19:28.682Z"
   },
   {
    "duration": 45,
    "start_time": "2022-09-21T14:19:30.663Z"
   },
   {
    "duration": 7,
    "start_time": "2022-09-21T14:19:34.000Z"
   },
   {
    "duration": 27,
    "start_time": "2022-09-21T14:19:36.071Z"
   },
   {
    "duration": 6,
    "start_time": "2022-09-21T14:19:39.092Z"
   },
   {
    "duration": 5,
    "start_time": "2022-09-21T14:19:40.755Z"
   },
   {
    "duration": 23,
    "start_time": "2022-09-21T14:19:41.493Z"
   },
   {
    "duration": 9,
    "start_time": "2022-09-21T14:19:43.871Z"
   },
   {
    "duration": 16,
    "start_time": "2022-09-21T14:19:44.955Z"
   },
   {
    "duration": 8,
    "start_time": "2022-09-21T14:19:47.470Z"
   },
   {
    "duration": 5,
    "start_time": "2022-09-21T14:19:51.259Z"
   },
   {
    "duration": 5,
    "start_time": "2022-09-21T14:19:52.084Z"
   },
   {
    "duration": 9,
    "start_time": "2022-09-21T14:19:53.755Z"
   },
   {
    "duration": 9,
    "start_time": "2022-09-21T14:19:54.594Z"
   },
   {
    "duration": 328,
    "start_time": "2022-09-21T14:19:56.171Z"
   },
   {
    "duration": 9,
    "start_time": "2022-09-21T14:20:00.243Z"
   },
   {
    "duration": 227,
    "start_time": "2022-09-21T14:20:01.387Z"
   },
   {
    "duration": 5,
    "start_time": "2022-09-21T14:20:03.777Z"
   },
   {
    "duration": 8,
    "start_time": "2022-09-21T14:20:05.963Z"
   },
   {
    "duration": 12,
    "start_time": "2022-09-21T14:20:08.487Z"
   },
   {
    "duration": 150,
    "start_time": "2022-09-21T14:20:20.293Z"
   },
   {
    "duration": 26,
    "start_time": "2022-09-21T14:20:22.089Z"
   },
   {
    "duration": 5,
    "start_time": "2022-09-21T14:20:25.755Z"
   },
   {
    "duration": 3,
    "start_time": "2022-09-21T14:20:31.460Z"
   },
   {
    "duration": 3,
    "start_time": "2022-09-21T14:20:32.266Z"
   },
   {
    "duration": 21,
    "start_time": "2022-09-21T14:20:32.897Z"
   },
   {
    "duration": 24,
    "start_time": "2022-09-21T14:20:36.372Z"
   },
   {
    "duration": 15,
    "start_time": "2022-09-21T14:20:38.893Z"
   },
   {
    "duration": 16,
    "start_time": "2022-09-21T14:20:41.877Z"
   },
   {
    "duration": 70,
    "start_time": "2022-09-21T14:20:43.613Z"
   },
   {
    "duration": 6,
    "start_time": "2022-09-21T14:20:45.609Z"
   },
   {
    "duration": 332,
    "start_time": "2022-09-21T14:20:49.975Z"
   },
   {
    "duration": 4,
    "start_time": "2022-09-21T14:21:02.396Z"
   },
   {
    "duration": 13,
    "start_time": "2022-09-21T14:21:07.885Z"
   },
   {
    "duration": 6,
    "start_time": "2022-09-21T14:21:30.460Z"
   },
   {
    "duration": 7,
    "start_time": "2022-09-21T14:21:45.455Z"
   },
   {
    "duration": 113,
    "start_time": "2022-09-21T14:21:51.402Z"
   },
   {
    "duration": 8,
    "start_time": "2022-09-21T14:21:56.963Z"
   },
   {
    "duration": 3,
    "start_time": "2022-09-21T14:22:18.155Z"
   },
   {
    "duration": 5,
    "start_time": "2022-09-21T14:22:19.302Z"
   },
   {
    "duration": 5,
    "start_time": "2022-09-21T14:22:28.659Z"
   },
   {
    "duration": 8479,
    "start_time": "2022-09-21T14:22:45.781Z"
   },
   {
    "duration": 8235,
    "start_time": "2022-09-21T14:23:14.571Z"
   },
   {
    "duration": 85703,
    "start_time": "2022-09-21T14:23:31.467Z"
   },
   {
    "duration": 85844,
    "start_time": "2022-09-21T14:25:35.643Z"
   },
   {
    "duration": 618632,
    "start_time": "2022-09-21T14:28:54.078Z"
   },
   {
    "duration": 8,
    "start_time": "2022-09-21T14:40:25.242Z"
   },
   {
    "duration": 4,
    "start_time": "2022-09-21T14:40:46.093Z"
   },
   {
    "duration": 13,
    "start_time": "2022-09-21T14:40:47.470Z"
   },
   {
    "duration": 6,
    "start_time": "2022-09-21T14:40:54.746Z"
   },
   {
    "duration": 8,
    "start_time": "2022-09-21T14:40:59.382Z"
   },
   {
    "duration": 3,
    "start_time": "2022-09-21T14:41:02.346Z"
   },
   {
    "duration": 4,
    "start_time": "2022-09-21T14:41:04.979Z"
   },
   {
    "duration": 5,
    "start_time": "2022-09-21T14:41:07.683Z"
   },
   {
    "duration": 7677,
    "start_time": "2022-09-21T14:41:09.581Z"
   },
   {
    "duration": 6854,
    "start_time": "2022-09-21T14:41:34.401Z"
   },
   {
    "duration": 92661,
    "start_time": "2022-09-21T14:41:48.755Z"
   },
   {
    "duration": 103307,
    "start_time": "2022-09-21T14:43:47.554Z"
   },
   {
    "duration": 117659,
    "start_time": "2022-09-21T14:46:09.555Z"
   },
   {
    "duration": 319028,
    "start_time": "2022-09-21T14:49:33.184Z"
   },
   {
    "duration": 111226,
    "start_time": "2022-09-21T14:56:06.470Z"
   },
   {
    "duration": 8,
    "start_time": "2022-09-21T14:59:10.586Z"
   },
   {
    "duration": 1595,
    "start_time": "2022-09-22T04:27:32.399Z"
   },
   {
    "duration": 368,
    "start_time": "2022-09-22T04:27:37.642Z"
   },
   {
    "duration": 4,
    "start_time": "2022-09-22T04:27:41.595Z"
   },
   {
    "duration": 60,
    "start_time": "2022-09-22T04:27:45.319Z"
   },
   {
    "duration": 38,
    "start_time": "2022-09-22T04:27:46.048Z"
   },
   {
    "duration": 43,
    "start_time": "2022-09-22T04:27:46.707Z"
   },
   {
    "duration": 22,
    "start_time": "2022-09-22T04:27:48.604Z"
   },
   {
    "duration": 4,
    "start_time": "2022-09-22T04:27:51.477Z"
   },
   {
    "duration": 21,
    "start_time": "2022-09-22T04:27:52.418Z"
   },
   {
    "duration": 18,
    "start_time": "2022-09-22T04:27:54.838Z"
   },
   {
    "duration": 16,
    "start_time": "2022-09-22T04:27:57.458Z"
   },
   {
    "duration": 13,
    "start_time": "2022-09-22T04:27:59.560Z"
   },
   {
    "duration": 60,
    "start_time": "2022-09-22T04:28:01.622Z"
   },
   {
    "duration": 9,
    "start_time": "2022-09-22T04:28:04.790Z"
   },
   {
    "duration": 26,
    "start_time": "2022-09-22T04:28:08.578Z"
   },
   {
    "duration": 6,
    "start_time": "2022-09-22T04:28:10.653Z"
   },
   {
    "duration": 6,
    "start_time": "2022-09-22T04:28:12.697Z"
   },
   {
    "duration": 25,
    "start_time": "2022-09-22T04:28:13.386Z"
   },
   {
    "duration": 7,
    "start_time": "2022-09-22T04:28:15.223Z"
   },
   {
    "duration": 18,
    "start_time": "2022-09-22T04:28:15.989Z"
   },
   {
    "duration": 9,
    "start_time": "2022-09-22T04:28:18.448Z"
   },
   {
    "duration": 6,
    "start_time": "2022-09-22T04:28:22.721Z"
   },
   {
    "duration": 5,
    "start_time": "2022-09-22T04:28:23.577Z"
   },
   {
    "duration": 8,
    "start_time": "2022-09-22T04:28:28.412Z"
   },
   {
    "duration": 10,
    "start_time": "2022-09-22T04:28:29.600Z"
   },
   {
    "duration": 349,
    "start_time": "2022-09-22T04:28:37.508Z"
   },
   {
    "duration": 9,
    "start_time": "2022-09-22T04:28:41.445Z"
   },
   {
    "duration": 223,
    "start_time": "2022-09-22T04:28:43.137Z"
   },
   {
    "duration": 5,
    "start_time": "2022-09-22T04:28:47.117Z"
   },
   {
    "duration": 8,
    "start_time": "2022-09-22T04:28:50.822Z"
   },
   {
    "duration": 12,
    "start_time": "2022-09-22T04:28:55.984Z"
   },
   {
    "duration": 152,
    "start_time": "2022-09-22T04:29:06.858Z"
   },
   {
    "duration": 24,
    "start_time": "2022-09-22T04:29:08.906Z"
   },
   {
    "duration": 142,
    "start_time": "2022-09-22T04:29:12.782Z"
   },
   {
    "duration": 4,
    "start_time": "2022-09-22T04:29:33.756Z"
   },
   {
    "duration": 4,
    "start_time": "2022-09-22T04:29:39.901Z"
   },
   {
    "duration": 3,
    "start_time": "2022-09-22T04:29:44.979Z"
   },
   {
    "duration": 1223,
    "start_time": "2022-09-22T04:29:45.703Z"
   },
   {
    "duration": 3,
    "start_time": "2022-09-22T04:29:59.230Z"
   },
   {
    "duration": 4,
    "start_time": "2022-09-22T04:30:06.817Z"
   },
   {
    "duration": 15,
    "start_time": "2022-09-22T04:33:20.647Z"
   },
   {
    "duration": 24,
    "start_time": "2022-09-22T04:33:32.258Z"
   },
   {
    "duration": 13,
    "start_time": "2022-09-22T04:33:45.425Z"
   },
   {
    "duration": 16,
    "start_time": "2022-09-22T04:33:48.926Z"
   },
   {
    "duration": 67,
    "start_time": "2022-09-22T04:33:52.435Z"
   },
   {
    "duration": 361,
    "start_time": "2022-09-22T04:34:42.070Z"
   },
   {
    "duration": 6,
    "start_time": "2022-09-22T04:35:57.597Z"
   },
   {
    "duration": 13,
    "start_time": "2022-09-22T04:35:58.658Z"
   },
   {
    "duration": 6,
    "start_time": "2022-09-22T04:36:01.766Z"
   },
   {
    "duration": 9,
    "start_time": "2022-09-22T04:36:21.762Z"
   },
   {
    "duration": 4,
    "start_time": "2022-09-22T04:36:26.832Z"
   },
   {
    "duration": 5,
    "start_time": "2022-09-22T04:36:27.928Z"
   },
   {
    "duration": 5,
    "start_time": "2022-09-22T04:41:47.279Z"
   },
   {
    "duration": 7946,
    "start_time": "2022-09-22T04:41:51.613Z"
   },
   {
    "duration": 8419,
    "start_time": "2022-09-22T04:43:05.012Z"
   },
   {
    "duration": 98276,
    "start_time": "2022-09-22T04:43:25.735Z"
   },
   {
    "duration": 88244,
    "start_time": "2022-09-22T04:46:44.764Z"
   },
   {
    "duration": 1758,
    "start_time": "2022-09-22T06:04:11.898Z"
   },
   {
    "duration": 195,
    "start_time": "2022-09-22T06:04:16.765Z"
   },
   {
    "duration": 6,
    "start_time": "2022-09-22T06:04:18.822Z"
   },
   {
    "duration": 83,
    "start_time": "2022-09-22T06:04:20.969Z"
   },
   {
    "duration": 50,
    "start_time": "2022-09-22T06:04:21.634Z"
   },
   {
    "duration": 70,
    "start_time": "2022-09-22T06:04:22.264Z"
   },
   {
    "duration": 27,
    "start_time": "2022-09-22T06:04:23.911Z"
   },
   {
    "duration": 4,
    "start_time": "2022-09-22T06:04:27.220Z"
   },
   {
    "duration": 23,
    "start_time": "2022-09-22T06:04:28.116Z"
   },
   {
    "duration": 27,
    "start_time": "2022-09-22T06:04:30.102Z"
   },
   {
    "duration": 18,
    "start_time": "2022-09-22T06:04:31.629Z"
   },
   {
    "duration": 14,
    "start_time": "2022-09-22T06:04:34.374Z"
   },
   {
    "duration": 52,
    "start_time": "2022-09-22T06:04:36.261Z"
   },
   {
    "duration": 11,
    "start_time": "2022-09-22T06:04:39.708Z"
   },
   {
    "duration": 30,
    "start_time": "2022-09-22T06:04:42.469Z"
   },
   {
    "duration": 7,
    "start_time": "2022-09-22T06:04:44.617Z"
   },
   {
    "duration": 6,
    "start_time": "2022-09-22T06:04:46.024Z"
   },
   {
    "duration": 27,
    "start_time": "2022-09-22T06:04:46.996Z"
   },
   {
    "duration": 7,
    "start_time": "2022-09-22T06:04:48.742Z"
   },
   {
    "duration": 18,
    "start_time": "2022-09-22T06:04:49.722Z"
   },
   {
    "duration": 10,
    "start_time": "2022-09-22T06:04:52.317Z"
   },
   {
    "duration": 7,
    "start_time": "2022-09-22T06:04:53.973Z"
   },
   {
    "duration": 6,
    "start_time": "2022-09-22T06:04:54.652Z"
   },
   {
    "duration": 12,
    "start_time": "2022-09-22T06:04:56.411Z"
   },
   {
    "duration": 10,
    "start_time": "2022-09-22T06:04:58.554Z"
   },
   {
    "duration": 382,
    "start_time": "2022-09-22T06:04:59.842Z"
   },
   {
    "duration": 9,
    "start_time": "2022-09-22T06:05:03.724Z"
   },
   {
    "duration": 223,
    "start_time": "2022-09-22T06:05:05.464Z"
   },
   {
    "duration": 7,
    "start_time": "2022-09-22T06:05:11.922Z"
   },
   {
    "duration": 9,
    "start_time": "2022-09-22T06:05:14.047Z"
   },
   {
    "duration": 12,
    "start_time": "2022-09-22T06:05:16.463Z"
   },
   {
    "duration": 146,
    "start_time": "2022-09-22T06:05:19.812Z"
   },
   {
    "duration": 39,
    "start_time": "2022-09-22T06:05:21.610Z"
   },
   {
    "duration": 7,
    "start_time": "2022-09-22T06:05:25.316Z"
   },
   {
    "duration": 3,
    "start_time": "2022-09-22T06:05:28.054Z"
   },
   {
    "duration": 3,
    "start_time": "2022-09-22T06:05:29.147Z"
   },
   {
    "duration": 18,
    "start_time": "2022-09-22T06:05:30.639Z"
   },
   {
    "duration": 26,
    "start_time": "2022-09-22T06:05:33.832Z"
   },
   {
    "duration": 18,
    "start_time": "2022-09-22T06:05:36.314Z"
   },
   {
    "duration": 16,
    "start_time": "2022-09-22T06:05:38.451Z"
   },
   {
    "duration": 84,
    "start_time": "2022-09-22T06:05:40.716Z"
   },
   {
    "duration": 333,
    "start_time": "2022-09-22T06:05:48.706Z"
   },
   {
    "duration": 4,
    "start_time": "2022-09-22T06:05:53.244Z"
   },
   {
    "duration": 14,
    "start_time": "2022-09-22T06:05:55.258Z"
   },
   {
    "duration": 6,
    "start_time": "2022-09-22T06:05:59.058Z"
   },
   {
    "duration": 8,
    "start_time": "2022-09-22T06:06:02.971Z"
   },
   {
    "duration": 3,
    "start_time": "2022-09-22T06:06:05.209Z"
   },
   {
    "duration": 7,
    "start_time": "2022-09-22T06:06:06.014Z"
   },
   {
    "duration": 5,
    "start_time": "2022-09-22T06:06:08.501Z"
   },
   {
    "duration": 8346,
    "start_time": "2022-09-22T06:06:11.349Z"
   },
   {
    "duration": 96386,
    "start_time": "2022-09-22T06:06:26.432Z"
   },
   {
    "duration": 8,
    "start_time": "2022-09-22T06:11:45.754Z"
   },
   {
    "duration": 5,
    "start_time": "2022-09-22T06:11:57.072Z"
   },
   {
    "duration": 13,
    "start_time": "2022-09-22T06:11:58.128Z"
   },
   {
    "duration": 7,
    "start_time": "2022-09-22T06:11:59.836Z"
   },
   {
    "duration": 8,
    "start_time": "2022-09-22T06:12:00.877Z"
   },
   {
    "duration": 6,
    "start_time": "2022-09-22T06:12:01.706Z"
   },
   {
    "duration": 7,
    "start_time": "2022-09-22T06:12:03.115Z"
   },
   {
    "duration": 5,
    "start_time": "2022-09-22T06:12:03.939Z"
   },
   {
    "duration": 8283,
    "start_time": "2022-09-22T06:12:05.050Z"
   },
   {
    "duration": 7907,
    "start_time": "2022-09-22T06:12:26.416Z"
   },
   {
    "duration": 121272,
    "start_time": "2022-09-22T06:12:40.277Z"
   },
   {
    "duration": 117508,
    "start_time": "2022-09-22T06:15:54.941Z"
   },
   {
    "duration": 96673,
    "start_time": "2022-09-22T06:20:07.272Z"
   },
   {
    "duration": 89771,
    "start_time": "2022-09-22T06:22:05.709Z"
   },
   {
    "duration": 7,
    "start_time": "2022-09-22T06:35:05.565Z"
   },
   {
    "duration": 1548,
    "start_time": "2022-09-22T06:50:19.484Z"
   },
   {
    "duration": 179,
    "start_time": "2022-09-22T06:50:21.921Z"
   },
   {
    "duration": 3,
    "start_time": "2022-09-22T06:50:23.953Z"
   },
   {
    "duration": 57,
    "start_time": "2022-09-22T06:50:27.454Z"
   },
   {
    "duration": 35,
    "start_time": "2022-09-22T06:50:28.112Z"
   },
   {
    "duration": 48,
    "start_time": "2022-09-22T06:50:28.681Z"
   },
   {
    "duration": 19,
    "start_time": "2022-09-22T06:50:29.333Z"
   },
   {
    "duration": 5,
    "start_time": "2022-09-22T06:50:33.551Z"
   },
   {
    "duration": 18,
    "start_time": "2022-09-22T06:50:34.130Z"
   },
   {
    "duration": 17,
    "start_time": "2022-09-22T06:50:37.023Z"
   },
   {
    "duration": 16,
    "start_time": "2022-09-22T06:50:39.547Z"
   },
   {
    "duration": 15,
    "start_time": "2022-09-22T06:50:42.345Z"
   },
   {
    "duration": 41,
    "start_time": "2022-09-22T06:50:45.202Z"
   },
   {
    "duration": 13,
    "start_time": "2022-09-22T06:50:48.886Z"
   },
   {
    "duration": 37,
    "start_time": "2022-09-22T06:50:52.135Z"
   },
   {
    "duration": 5,
    "start_time": "2022-09-22T06:50:54.680Z"
   },
   {
    "duration": 5,
    "start_time": "2022-09-22T06:50:57.317Z"
   },
   {
    "duration": 18,
    "start_time": "2022-09-22T06:50:58.035Z"
   },
   {
    "duration": 6,
    "start_time": "2022-09-22T06:50:59.306Z"
   },
   {
    "duration": 18,
    "start_time": "2022-09-22T06:51:00.317Z"
   },
   {
    "duration": 7,
    "start_time": "2022-09-22T06:51:02.837Z"
   },
   {
    "duration": 6,
    "start_time": "2022-09-22T06:51:10.312Z"
   },
   {
    "duration": 5,
    "start_time": "2022-09-22T06:51:11.001Z"
   },
   {
    "duration": 9,
    "start_time": "2022-09-22T06:51:13.405Z"
   },
   {
    "duration": 8,
    "start_time": "2022-09-22T06:51:14.556Z"
   },
   {
    "duration": 340,
    "start_time": "2022-09-22T06:51:19.781Z"
   },
   {
    "duration": 8,
    "start_time": "2022-09-22T06:51:23.220Z"
   },
   {
    "duration": 232,
    "start_time": "2022-09-22T06:51:25.077Z"
   },
   {
    "duration": 5,
    "start_time": "2022-09-22T06:51:27.898Z"
   },
   {
    "duration": 8,
    "start_time": "2022-09-22T06:51:30.123Z"
   },
   {
    "duration": 12,
    "start_time": "2022-09-22T06:51:33.111Z"
   },
   {
    "duration": 149,
    "start_time": "2022-09-22T06:51:38.836Z"
   },
   {
    "duration": 25,
    "start_time": "2022-09-22T06:51:42.054Z"
   },
   {
    "duration": 6,
    "start_time": "2022-09-22T06:51:45.531Z"
   },
   {
    "duration": 3,
    "start_time": "2022-09-22T06:51:55.201Z"
   },
   {
    "duration": 4,
    "start_time": "2022-09-22T06:51:56.178Z"
   },
   {
    "duration": 16,
    "start_time": "2022-09-22T06:51:57.055Z"
   },
   {
    "duration": 25,
    "start_time": "2022-09-22T06:52:05.184Z"
   },
   {
    "duration": 14,
    "start_time": "2022-09-22T06:52:12.105Z"
   },
   {
    "duration": 21,
    "start_time": "2022-09-22T06:52:16.419Z"
   },
   {
    "duration": 83,
    "start_time": "2022-09-22T06:52:18.878Z"
   },
   {
    "duration": 331,
    "start_time": "2022-09-22T06:53:56.748Z"
   },
   {
    "duration": 4,
    "start_time": "2022-09-22T06:57:34.843Z"
   },
   {
    "duration": 17,
    "start_time": "2022-09-22T06:57:35.675Z"
   },
   {
    "duration": 7,
    "start_time": "2022-09-22T06:57:48.609Z"
   },
   {
    "duration": 16,
    "start_time": "2022-09-22T06:58:07.710Z"
   },
   {
    "duration": 6,
    "start_time": "2022-09-22T06:58:11.524Z"
   },
   {
    "duration": 9,
    "start_time": "2022-09-22T06:58:13.007Z"
   },
   {
    "duration": 6,
    "start_time": "2022-09-22T06:58:37.840Z"
   },
   {
    "duration": 8302,
    "start_time": "2022-09-22T06:58:42.255Z"
   },
   {
    "duration": 93038,
    "start_time": "2022-09-22T07:01:46.446Z"
   },
   {
    "duration": 12,
    "start_time": "2022-09-22T07:03:29.309Z"
   },
   {
    "duration": 6,
    "start_time": "2022-09-22T07:03:38.464Z"
   },
   {
    "duration": 23,
    "start_time": "2022-09-22T07:03:39.536Z"
   },
   {
    "duration": 8,
    "start_time": "2022-09-22T07:03:42.306Z"
   },
   {
    "duration": 11,
    "start_time": "2022-09-22T07:03:54.054Z"
   },
   {
    "duration": 7,
    "start_time": "2022-09-22T07:03:56.251Z"
   },
   {
    "duration": 5,
    "start_time": "2022-09-22T07:03:59.272Z"
   },
   {
    "duration": 7408,
    "start_time": "2022-09-22T07:04:00.514Z"
   },
   {
    "duration": 88352,
    "start_time": "2022-09-22T07:05:26.314Z"
   },
   {
    "duration": 8,
    "start_time": "2022-09-22T07:08:45.174Z"
   },
   {
    "duration": 8,
    "start_time": "2022-09-22T07:08:51.862Z"
   },
   {
    "duration": 8,
    "start_time": "2022-09-22T07:08:53.132Z"
   },
   {
    "duration": 5,
    "start_time": "2022-09-22T07:08:55.105Z"
   },
   {
    "duration": 5,
    "start_time": "2022-09-22T07:08:58.961Z"
   },
   {
    "duration": 8827,
    "start_time": "2022-09-22T07:09:29.029Z"
   },
   {
    "duration": 3903,
    "start_time": "2022-09-22T07:10:55.484Z"
   },
   {
    "duration": 11,
    "start_time": "2022-09-22T07:11:45.510Z"
   },
   {
    "duration": 4,
    "start_time": "2022-09-22T07:16:38.974Z"
   },
   {
    "duration": 10,
    "start_time": "2022-09-22T07:18:04.720Z"
   },
   {
    "duration": 5,
    "start_time": "2022-09-22T07:18:14.647Z"
   },
   {
    "duration": 98136,
    "start_time": "2022-09-22T07:18:48.965Z"
   },
   {
    "duration": 4,
    "start_time": "2022-09-22T07:20:46.137Z"
   },
   {
    "duration": 5,
    "start_time": "2022-09-22T07:21:14.249Z"
   },
   {
    "duration": 7,
    "start_time": "2022-09-22T07:21:15.553Z"
   },
   {
    "duration": 5,
    "start_time": "2022-09-22T07:21:16.344Z"
   },
   {
    "duration": 90832,
    "start_time": "2022-09-22T07:21:17.176Z"
   },
   {
    "duration": 95937,
    "start_time": "2022-09-22T07:25:56.614Z"
   },
   {
    "duration": 137024,
    "start_time": "2022-09-22T07:28:58.440Z"
   },
   {
    "duration": 10,
    "start_time": "2022-09-22T07:32:46.587Z"
   },
   {
    "duration": 5,
    "start_time": "2022-09-22T07:37:33.709Z"
   },
   {
    "duration": 17,
    "start_time": "2022-09-22T07:37:35.293Z"
   },
   {
    "duration": 7,
    "start_time": "2022-09-22T07:37:37.320Z"
   },
   {
    "duration": 8,
    "start_time": "2022-09-22T07:37:40.553Z"
   },
   {
    "duration": 7,
    "start_time": "2022-09-22T07:37:41.754Z"
   },
   {
    "duration": 5,
    "start_time": "2022-09-22T07:37:45.234Z"
   },
   {
    "duration": 6276,
    "start_time": "2022-09-22T07:37:49.114Z"
   },
   {
    "duration": 84856,
    "start_time": "2022-09-22T07:37:58.907Z"
   },
   {
    "duration": 135277,
    "start_time": "2022-09-22T07:40:30.319Z"
   },
   {
    "duration": 245908,
    "start_time": "2022-09-22T07:44:03.719Z"
   },
   {
    "duration": 114547,
    "start_time": "2022-09-22T07:50:30.027Z"
   },
   {
    "duration": 260497,
    "start_time": "2022-09-22T07:53:21.247Z"
   },
   {
    "duration": 7,
    "start_time": "2022-09-22T07:57:56.563Z"
   },
   {
    "duration": 6,
    "start_time": "2022-09-22T07:58:57.446Z"
   },
   {
    "duration": 8,
    "start_time": "2022-09-22T07:59:07.201Z"
   },
   {
    "duration": 4,
    "start_time": "2022-09-22T07:59:09.084Z"
   },
   {
    "duration": 19007,
    "start_time": "2022-09-22T08:00:17.521Z"
   },
   {
    "duration": 11,
    "start_time": "2022-09-22T08:00:36.530Z"
   },
   {
    "duration": 818,
    "start_time": "2022-09-22T08:03:40.023Z"
   },
   {
    "duration": 13,
    "start_time": "2022-09-22T08:03:52.805Z"
   },
   {
    "duration": 14,
    "start_time": "2022-09-22T08:04:38.905Z"
   },
   {
    "duration": 4,
    "start_time": "2022-09-22T08:04:49.346Z"
   },
   {
    "duration": 7,
    "start_time": "2022-09-22T08:04:52.676Z"
   },
   {
    "duration": 5,
    "start_time": "2022-09-22T08:04:54.499Z"
   },
   {
    "duration": 114259,
    "start_time": "2022-09-22T08:05:30.463Z"
   },
   {
    "duration": 93332,
    "start_time": "2022-09-22T08:56:22.194Z"
   },
   {
    "duration": 4,
    "start_time": "2022-09-22T08:58:28.605Z"
   },
   {
    "duration": 15,
    "start_time": "2022-09-22T09:00:08.494Z"
   },
   {
    "duration": 16,
    "start_time": "2022-09-22T09:01:05.006Z"
   },
   {
    "duration": 14,
    "start_time": "2022-09-22T09:01:13.216Z"
   },
   {
    "duration": 14,
    "start_time": "2022-09-22T09:01:33.771Z"
   },
   {
    "duration": 15,
    "start_time": "2022-09-22T09:02:05.593Z"
   },
   {
    "duration": 1590,
    "start_time": "2022-09-22T09:02:50.999Z"
   },
   {
    "duration": 151,
    "start_time": "2022-09-22T09:02:55.194Z"
   },
   {
    "duration": 3,
    "start_time": "2022-09-22T09:02:57.982Z"
   },
   {
    "duration": 56,
    "start_time": "2022-09-22T09:03:00.966Z"
   },
   {
    "duration": 37,
    "start_time": "2022-09-22T09:03:02.772Z"
   },
   {
    "duration": 46,
    "start_time": "2022-09-22T09:03:03.476Z"
   },
   {
    "duration": 22,
    "start_time": "2022-09-22T09:03:04.019Z"
   },
   {
    "duration": 5,
    "start_time": "2022-09-22T09:03:07.321Z"
   },
   {
    "duration": 22,
    "start_time": "2022-09-22T09:03:08.000Z"
   },
   {
    "duration": 19,
    "start_time": "2022-09-22T09:03:10.168Z"
   },
   {
    "duration": 19,
    "start_time": "2022-09-22T09:03:11.998Z"
   },
   {
    "duration": 13,
    "start_time": "2022-09-22T09:03:14.242Z"
   },
   {
    "duration": 44,
    "start_time": "2022-09-22T09:03:15.806Z"
   },
   {
    "duration": 7,
    "start_time": "2022-09-22T09:03:19.393Z"
   },
   {
    "duration": 31,
    "start_time": "2022-09-22T09:03:21.770Z"
   },
   {
    "duration": 6,
    "start_time": "2022-09-22T09:03:23.615Z"
   },
   {
    "duration": 5,
    "start_time": "2022-09-22T09:03:25.917Z"
   },
   {
    "duration": 16,
    "start_time": "2022-09-22T09:03:26.611Z"
   },
   {
    "duration": 6,
    "start_time": "2022-09-22T09:03:28.812Z"
   },
   {
    "duration": 18,
    "start_time": "2022-09-22T09:03:29.500Z"
   },
   {
    "duration": 9,
    "start_time": "2022-09-22T09:03:31.824Z"
   },
   {
    "duration": 6,
    "start_time": "2022-09-22T09:03:33.514Z"
   },
   {
    "duration": 6,
    "start_time": "2022-09-22T09:03:35.938Z"
   },
   {
    "duration": 8,
    "start_time": "2022-09-22T09:03:37.763Z"
   },
   {
    "duration": 9,
    "start_time": "2022-09-22T09:03:39.565Z"
   },
   {
    "duration": 334,
    "start_time": "2022-09-22T09:03:46.995Z"
   },
   {
    "duration": 214,
    "start_time": "2022-09-22T09:03:50.977Z"
   },
   {
    "duration": 5,
    "start_time": "2022-09-22T09:03:54.149Z"
   },
   {
    "duration": 8,
    "start_time": "2022-09-22T09:03:57.663Z"
   },
   {
    "duration": 13,
    "start_time": "2022-09-22T09:04:02.794Z"
   },
   {
    "duration": 149,
    "start_time": "2022-09-22T09:04:29.075Z"
   },
   {
    "duration": 26,
    "start_time": "2022-09-22T09:04:31.007Z"
   },
   {
    "duration": 5,
    "start_time": "2022-09-22T09:04:34.427Z"
   },
   {
    "duration": 3,
    "start_time": "2022-09-22T09:04:36.867Z"
   },
   {
    "duration": 4,
    "start_time": "2022-09-22T09:04:37.847Z"
   },
   {
    "duration": 16,
    "start_time": "2022-09-22T09:04:38.794Z"
   },
   {
    "duration": 32,
    "start_time": "2022-09-22T09:04:42.036Z"
   },
   {
    "duration": 16,
    "start_time": "2022-09-22T09:04:47.002Z"
   },
   {
    "duration": 16,
    "start_time": "2022-09-22T09:04:50.782Z"
   },
   {
    "duration": 68,
    "start_time": "2022-09-22T09:04:52.694Z"
   },
   {
    "duration": 312,
    "start_time": "2022-09-22T09:04:59.702Z"
   },
   {
    "duration": 5,
    "start_time": "2022-09-22T09:05:23.390Z"
   },
   {
    "duration": 14,
    "start_time": "2022-09-22T09:05:25.474Z"
   },
   {
    "duration": 7,
    "start_time": "2022-09-22T09:05:31.916Z"
   },
   {
    "duration": 8,
    "start_time": "2022-09-22T09:05:36.595Z"
   },
   {
    "duration": 3,
    "start_time": "2022-09-22T09:05:41.495Z"
   },
   {
    "duration": 5,
    "start_time": "2022-09-22T09:05:43.040Z"
   },
   {
    "duration": 5,
    "start_time": "2022-09-22T09:05:47.889Z"
   },
   {
    "duration": 8161,
    "start_time": "2022-09-22T09:05:49.842Z"
   },
   {
    "duration": 77134,
    "start_time": "2022-09-22T09:06:04.601Z"
   },
   {
    "duration": 7,
    "start_time": "2022-09-22T09:08:27.178Z"
   },
   {
    "duration": 5,
    "start_time": "2022-09-22T09:08:35.548Z"
   },
   {
    "duration": 15,
    "start_time": "2022-09-22T09:08:36.315Z"
   },
   {
    "duration": 8,
    "start_time": "2022-09-22T09:08:40.072Z"
   },
   {
    "duration": 8,
    "start_time": "2022-09-22T09:08:46.096Z"
   },
   {
    "duration": 6,
    "start_time": "2022-09-22T09:08:47.572Z"
   },
   {
    "duration": 5,
    "start_time": "2022-09-22T09:08:54.647Z"
   },
   {
    "duration": 7886,
    "start_time": "2022-09-22T09:09:01.245Z"
   },
   {
    "duration": 7763,
    "start_time": "2022-09-22T09:10:19.772Z"
   },
   {
    "duration": 131386,
    "start_time": "2022-09-22T09:11:48.239Z"
   },
   {
    "duration": 8,
    "start_time": "2022-09-22T09:16:41.007Z"
   },
   {
    "duration": 6,
    "start_time": "2022-09-22T09:17:11.472Z"
   },
   {
    "duration": 9328,
    "start_time": "2022-09-22T09:18:03.666Z"
   },
   {
    "duration": 146492,
    "start_time": "2022-09-22T09:18:12.996Z"
   },
   {
    "duration": 7,
    "start_time": "2022-09-22T09:20:39.491Z"
   },
   {
    "duration": 6,
    "start_time": "2022-09-22T09:27:32.367Z"
   },
   {
    "duration": 7,
    "start_time": "2022-09-22T09:27:35.402Z"
   },
   {
    "duration": 5,
    "start_time": "2022-09-22T09:27:36.492Z"
   },
   {
    "duration": 3957,
    "start_time": "2022-09-22T09:27:54.384Z"
   },
   {
    "duration": 13,
    "start_time": "2022-09-22T09:28:11.848Z"
   },
   {
    "duration": 4,
    "start_time": "2022-09-22T09:30:12.507Z"
   },
   {
    "duration": 7,
    "start_time": "2022-09-22T09:30:16.561Z"
   },
   {
    "duration": 5,
    "start_time": "2022-09-22T09:30:19.098Z"
   },
   {
    "duration": 100035,
    "start_time": "2022-09-22T09:30:30.264Z"
   },
   {
    "duration": 4,
    "start_time": "2022-09-22T09:38:55.893Z"
   },
   {
    "duration": 8,
    "start_time": "2022-09-22T09:39:27.731Z"
   },
   {
    "duration": 7,
    "start_time": "2022-09-22T09:39:31.352Z"
   },
   {
    "duration": 130,
    "start_time": "2022-09-22T09:39:36.853Z"
   },
   {
    "duration": 150,
    "start_time": "2022-09-22T09:41:14.466Z"
   },
   {
    "duration": 1505,
    "start_time": "2022-09-22T09:57:28.633Z"
   },
   {
    "duration": 155,
    "start_time": "2022-09-22T09:57:30.140Z"
   },
   {
    "duration": 5,
    "start_time": "2022-09-22T09:57:30.297Z"
   },
   {
    "duration": 71,
    "start_time": "2022-09-22T09:57:30.304Z"
   },
   {
    "duration": 46,
    "start_time": "2022-09-22T09:57:30.377Z"
   },
   {
    "duration": 72,
    "start_time": "2022-09-22T09:57:30.425Z"
   },
   {
    "duration": 23,
    "start_time": "2022-09-22T09:57:30.499Z"
   },
   {
    "duration": 49,
    "start_time": "2022-09-22T09:57:30.524Z"
   },
   {
    "duration": 55,
    "start_time": "2022-09-22T09:57:30.575Z"
   },
   {
    "duration": 61,
    "start_time": "2022-09-22T09:57:30.633Z"
   },
   {
    "duration": 43,
    "start_time": "2022-09-22T09:57:30.696Z"
   },
   {
    "duration": 28,
    "start_time": "2022-09-22T09:57:30.741Z"
   },
   {
    "duration": 90,
    "start_time": "2022-09-22T09:57:30.771Z"
   },
   {
    "duration": 23,
    "start_time": "2022-09-22T09:57:30.864Z"
   },
   {
    "duration": 62,
    "start_time": "2022-09-22T09:57:30.888Z"
   },
   {
    "duration": 9,
    "start_time": "2022-09-22T09:57:30.952Z"
   },
   {
    "duration": 27,
    "start_time": "2022-09-22T09:57:30.963Z"
   },
   {
    "duration": 40,
    "start_time": "2022-09-22T09:57:30.992Z"
   },
   {
    "duration": 13,
    "start_time": "2022-09-22T09:57:31.034Z"
   },
   {
    "duration": 40,
    "start_time": "2022-09-22T09:57:31.048Z"
   },
   {
    "duration": 52,
    "start_time": "2022-09-22T09:57:31.090Z"
   },
   {
    "duration": 30,
    "start_time": "2022-09-22T09:57:31.144Z"
   },
   {
    "duration": 26,
    "start_time": "2022-09-22T09:57:31.175Z"
   },
   {
    "duration": 38,
    "start_time": "2022-09-22T09:57:31.203Z"
   },
   {
    "duration": 41,
    "start_time": "2022-09-22T09:57:31.243Z"
   },
   {
    "duration": 356,
    "start_time": "2022-09-22T09:57:31.286Z"
   },
   {
    "duration": 10,
    "start_time": "2022-09-22T09:57:31.645Z"
   },
   {
    "duration": 243,
    "start_time": "2022-09-22T09:57:31.657Z"
   },
   {
    "duration": 6,
    "start_time": "2022-09-22T09:57:31.902Z"
   },
   {
    "duration": 32,
    "start_time": "2022-09-22T09:57:31.910Z"
   },
   {
    "duration": 18,
    "start_time": "2022-09-22T09:57:31.945Z"
   },
   {
    "duration": 37,
    "start_time": "2022-09-22T09:57:31.966Z"
   },
   {
    "duration": 22,
    "start_time": "2022-09-22T09:57:32.006Z"
   },
   {
    "duration": 173,
    "start_time": "2022-09-22T09:57:32.030Z"
   },
   {
    "duration": 25,
    "start_time": "2022-09-22T09:57:32.205Z"
   },
   {
    "duration": 23,
    "start_time": "2022-09-22T09:57:32.232Z"
   },
   {
    "duration": 26,
    "start_time": "2022-09-22T09:57:32.257Z"
   },
   {
    "duration": 20,
    "start_time": "2022-09-22T09:57:32.285Z"
   },
   {
    "duration": 45,
    "start_time": "2022-09-22T09:57:32.306Z"
   },
   {
    "duration": 34,
    "start_time": "2022-09-22T09:57:32.353Z"
   },
   {
    "duration": 15,
    "start_time": "2022-09-22T09:57:32.392Z"
   },
   {
    "duration": 319,
    "start_time": "2022-09-22T09:57:32.409Z"
   },
   {
    "duration": 5,
    "start_time": "2022-09-22T09:57:32.729Z"
   },
   {
    "duration": 26,
    "start_time": "2022-09-22T09:57:32.735Z"
   },
   {
    "duration": 30,
    "start_time": "2022-09-22T09:57:32.762Z"
   },
   {
    "duration": 22,
    "start_time": "2022-09-22T09:57:32.794Z"
   },
   {
    "duration": 28,
    "start_time": "2022-09-22T09:57:32.818Z"
   },
   {
    "duration": 30,
    "start_time": "2022-09-22T09:57:32.848Z"
   },
   {
    "duration": 26,
    "start_time": "2022-09-22T09:57:32.880Z"
   },
   {
    "duration": 8079,
    "start_time": "2022-09-22T09:57:32.908Z"
   },
   {
    "duration": 81757,
    "start_time": "2022-09-22T09:57:40.988Z"
   },
   {
    "duration": 7,
    "start_time": "2022-09-22T09:59:02.747Z"
   },
   {
    "duration": 10,
    "start_time": "2022-09-22T09:59:02.756Z"
   },
   {
    "duration": 19,
    "start_time": "2022-09-22T09:59:02.767Z"
   },
   {
    "duration": 10,
    "start_time": "2022-09-22T09:59:02.788Z"
   },
   {
    "duration": 23,
    "start_time": "2022-09-22T09:59:02.800Z"
   },
   {
    "duration": 12,
    "start_time": "2022-09-22T09:59:02.825Z"
   },
   {
    "duration": 28,
    "start_time": "2022-09-22T09:59:02.839Z"
   },
   {
    "duration": 9225,
    "start_time": "2022-09-22T09:59:02.869Z"
   },
   {
    "duration": 136824,
    "start_time": "2022-09-22T09:59:12.096Z"
   },
   {
    "duration": 1498,
    "start_time": "2022-09-22T10:02:13.023Z"
   },
   {
    "duration": 151,
    "start_time": "2022-09-22T10:02:14.523Z"
   },
   {
    "duration": 4,
    "start_time": "2022-09-22T10:02:14.676Z"
   },
   {
    "duration": 60,
    "start_time": "2022-09-22T10:02:14.682Z"
   },
   {
    "duration": 52,
    "start_time": "2022-09-22T10:02:14.744Z"
   },
   {
    "duration": 40,
    "start_time": "2022-09-22T10:02:14.797Z"
   },
   {
    "duration": 20,
    "start_time": "2022-09-22T10:02:14.839Z"
   },
   {
    "duration": 4,
    "start_time": "2022-09-22T10:02:14.890Z"
   },
   {
    "duration": 26,
    "start_time": "2022-09-22T10:02:14.897Z"
   },
   {
    "duration": 18,
    "start_time": "2022-09-22T10:02:14.925Z"
   },
   {
    "duration": 15,
    "start_time": "2022-09-22T10:02:14.945Z"
   },
   {
    "duration": 38,
    "start_time": "2022-09-22T10:02:14.962Z"
   },
   {
    "duration": 44,
    "start_time": "2022-09-22T10:02:15.002Z"
   },
   {
    "duration": 8,
    "start_time": "2022-09-22T10:02:15.047Z"
   },
   {
    "duration": 56,
    "start_time": "2022-09-22T10:02:15.057Z"
   },
   {
    "duration": 6,
    "start_time": "2022-09-22T10:02:15.115Z"
   },
   {
    "duration": 7,
    "start_time": "2022-09-22T10:02:15.122Z"
   },
   {
    "duration": 30,
    "start_time": "2022-09-22T10:02:15.131Z"
   },
   {
    "duration": 28,
    "start_time": "2022-09-22T10:02:15.162Z"
   },
   {
    "duration": 21,
    "start_time": "2022-09-22T10:02:15.192Z"
   },
   {
    "duration": 10,
    "start_time": "2022-09-22T10:02:15.216Z"
   },
   {
    "duration": 9,
    "start_time": "2022-09-22T10:02:15.228Z"
   },
   {
    "duration": 10,
    "start_time": "2022-09-22T10:02:15.239Z"
   },
   {
    "duration": 11,
    "start_time": "2022-09-22T10:02:15.251Z"
   },
   {
    "duration": 30,
    "start_time": "2022-09-22T10:02:15.264Z"
   },
   {
    "duration": 356,
    "start_time": "2022-09-22T10:02:15.296Z"
   },
   {
    "duration": 8,
    "start_time": "2022-09-22T10:02:15.654Z"
   },
   {
    "duration": 229,
    "start_time": "2022-09-22T10:02:15.666Z"
   },
   {
    "duration": 4,
    "start_time": "2022-09-22T10:02:15.897Z"
   },
   {
    "duration": 23,
    "start_time": "2022-09-22T10:02:15.903Z"
   },
   {
    "duration": 23,
    "start_time": "2022-09-22T10:02:15.928Z"
   },
   {
    "duration": 23,
    "start_time": "2022-09-22T10:02:15.953Z"
   },
   {
    "duration": 31,
    "start_time": "2022-09-22T10:02:15.978Z"
   },
   {
    "duration": 160,
    "start_time": "2022-09-22T10:02:16.011Z"
   },
   {
    "duration": 25,
    "start_time": "2022-09-22T10:02:16.173Z"
   },
   {
    "duration": 33,
    "start_time": "2022-09-22T10:02:16.200Z"
   },
   {
    "duration": 27,
    "start_time": "2022-09-22T10:02:16.235Z"
   },
   {
    "duration": 26,
    "start_time": "2022-09-22T10:02:16.263Z"
   },
   {
    "duration": 31,
    "start_time": "2022-09-22T10:02:16.291Z"
   },
   {
    "duration": 33,
    "start_time": "2022-09-22T10:02:16.325Z"
   },
   {
    "duration": 14,
    "start_time": "2022-09-22T10:02:16.361Z"
   },
   {
    "duration": 331,
    "start_time": "2022-09-22T10:02:16.392Z"
   },
   {
    "duration": 4,
    "start_time": "2022-09-22T10:02:16.724Z"
   },
   {
    "duration": 18,
    "start_time": "2022-09-22T10:02:16.729Z"
   },
   {
    "duration": 7,
    "start_time": "2022-09-22T10:02:16.749Z"
   },
   {
    "duration": 13,
    "start_time": "2022-09-22T10:02:16.757Z"
   },
   {
    "duration": 18,
    "start_time": "2022-09-22T10:02:16.772Z"
   },
   {
    "duration": 8,
    "start_time": "2022-09-22T10:02:16.792Z"
   },
   {
    "duration": 10,
    "start_time": "2022-09-22T10:02:16.801Z"
   },
   {
    "duration": 7942,
    "start_time": "2022-09-22T10:02:16.812Z"
   },
   {
    "duration": 86852,
    "start_time": "2022-09-22T10:02:24.755Z"
   },
   {
    "duration": 7,
    "start_time": "2022-09-22T10:03:51.609Z"
   },
   {
    "duration": 10,
    "start_time": "2022-09-22T10:03:51.618Z"
   },
   {
    "duration": 21,
    "start_time": "2022-09-22T10:03:51.630Z"
   },
   {
    "duration": 14,
    "start_time": "2022-09-22T10:03:51.653Z"
   },
   {
    "duration": 10,
    "start_time": "2022-09-22T10:03:51.669Z"
   },
   {
    "duration": 5,
    "start_time": "2022-09-22T10:03:51.681Z"
   },
   {
    "duration": 7,
    "start_time": "2022-09-22T10:03:51.689Z"
   },
   {
    "duration": 8992,
    "start_time": "2022-09-22T10:03:51.698Z"
   },
   {
    "duration": 141524,
    "start_time": "2022-09-22T10:04:00.692Z"
   },
   {
    "duration": 7,
    "start_time": "2022-09-22T10:06:22.218Z"
   },
   {
    "duration": 7,
    "start_time": "2022-09-22T10:06:22.227Z"
   },
   {
    "duration": 10,
    "start_time": "2022-09-22T10:06:22.236Z"
   },
   {
    "duration": 8,
    "start_time": "2022-09-22T10:06:22.248Z"
   },
   {
    "duration": 4426,
    "start_time": "2022-09-22T10:06:22.258Z"
   },
   {
    "duration": 12,
    "start_time": "2022-09-22T10:06:26.686Z"
   },
   {
    "duration": 17,
    "start_time": "2022-09-22T10:06:26.700Z"
   },
   {
    "duration": 36,
    "start_time": "2022-09-22T10:06:26.719Z"
   },
   {
    "duration": 16,
    "start_time": "2022-09-22T10:06:26.757Z"
   },
   {
    "duration": 159433,
    "start_time": "2022-09-22T10:06:26.775Z"
   },
   {
    "duration": 4,
    "start_time": "2022-09-22T10:09:06.210Z"
   },
   {
    "duration": 12,
    "start_time": "2022-09-22T10:09:06.216Z"
   },
   {
    "duration": 7,
    "start_time": "2022-09-22T10:09:06.231Z"
   },
   {
    "duration": 156,
    "start_time": "2022-09-22T10:09:06.240Z"
   }
  ],
  "kernelspec": {
   "display_name": "Python 3 (ipykernel)",
   "language": "python",
   "name": "python3"
  },
  "language_info": {
   "codemirror_mode": {
    "name": "ipython",
    "version": 3
   },
   "file_extension": ".py",
   "mimetype": "text/x-python",
   "name": "python",
   "nbconvert_exporter": "python",
   "pygments_lexer": "ipython3",
   "version": "3.8.6"
  },
  "toc": {
   "base_numbering": 1,
   "nav_menu": {},
   "number_sections": true,
   "sideBar": true,
   "skip_h1_title": true,
   "title_cell": "Table of Contents",
   "title_sidebar": "Contents",
   "toc_cell": false,
   "toc_position": {},
   "toc_section_display": true,
   "toc_window_display": false
  }
 },
 "nbformat": 4,
 "nbformat_minor": 5
}
